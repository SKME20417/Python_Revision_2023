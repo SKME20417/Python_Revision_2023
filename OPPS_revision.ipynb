{
 "cells": [
  {
   "cell_type": "code",
   "execution_count": 1,
   "id": "29a524ec",
   "metadata": {},
   "outputs": [],
   "source": [
    "class Human():\n",
    "    pass"
   ]
  },
  {
   "cell_type": "code",
   "execution_count": 2,
   "id": "31972f87",
   "metadata": {},
   "outputs": [],
   "source": [
    "mohit = Human()"
   ]
  },
  {
   "cell_type": "code",
   "execution_count": 4,
   "id": "8e4b030e",
   "metadata": {},
   "outputs": [
    {
     "data": {
      "text/plain": [
       "str"
      ]
     },
     "execution_count": 4,
     "metadata": {},
     "output_type": "execute_result"
    }
   ],
   "source": [
    "type(\"hello\")"
   ]
  },
  {
   "cell_type": "code",
   "execution_count": 5,
   "id": "eef24c46",
   "metadata": {},
   "outputs": [
    {
     "data": {
      "text/plain": [
       "__main__.Human"
      ]
     },
     "execution_count": 5,
     "metadata": {},
     "output_type": "execute_result"
    }
   ],
   "source": [
    "type(mohit)"
   ]
  },
  {
   "cell_type": "code",
   "execution_count": 6,
   "id": "be8e5202",
   "metadata": {},
   "outputs": [],
   "source": [
    "#def __init__(self)"
   ]
  },
  {
   "cell_type": "code",
   "execution_count": 7,
   "id": "d5a5af7c",
   "metadata": {},
   "outputs": [],
   "source": [
    "class Human:\n",
    "    def __init__(self, name, age):\n",
    "        print(\"Creatinhg new objects...\")\n",
    "        \n",
    "        self.name = name\n",
    "        self.age = age\n",
    "        "
   ]
  },
  {
   "cell_type": "code",
   "execution_count": 9,
   "id": "5943a3b5",
   "metadata": {},
   "outputs": [
    {
     "name": "stdout",
     "output_type": "stream",
     "text": [
      "Creatinhg new objects...\n"
     ]
    }
   ],
   "source": [
    "h1 = Human(\"mohit\", 23)"
   ]
  },
  {
   "cell_type": "code",
   "execution_count": 10,
   "id": "1a7deba8",
   "metadata": {},
   "outputs": [
    {
     "name": "stdout",
     "output_type": "stream",
     "text": [
      "<__main__.Human object at 0x00000237B1EF66A0>\n"
     ]
    }
   ],
   "source": [
    "print(h1)"
   ]
  },
  {
   "cell_type": "code",
   "execution_count": 11,
   "id": "ef0464c6",
   "metadata": {},
   "outputs": [
    {
     "data": {
      "text/plain": [
       "'mohit'"
      ]
     },
     "execution_count": 11,
     "metadata": {},
     "output_type": "execute_result"
    }
   ],
   "source": [
    "h1.name"
   ]
  },
  {
   "cell_type": "code",
   "execution_count": 12,
   "id": "449a770a",
   "metadata": {},
   "outputs": [
    {
     "data": {
      "text/plain": [
       "23"
      ]
     },
     "execution_count": 12,
     "metadata": {},
     "output_type": "execute_result"
    }
   ],
   "source": [
    "h1.age"
   ]
  },
  {
   "cell_type": "code",
   "execution_count": 13,
   "id": "82a52488",
   "metadata": {},
   "outputs": [
    {
     "name": "stdout",
     "output_type": "stream",
     "text": [
      "Creatinhg new objects...\n"
     ]
    }
   ],
   "source": [
    "h2 = Human(\"Prateek\", 27)"
   ]
  },
  {
   "cell_type": "code",
   "execution_count": 14,
   "id": "ddbce7b6",
   "metadata": {},
   "outputs": [
    {
     "data": {
      "text/plain": [
       "27"
      ]
     },
     "execution_count": 14,
     "metadata": {},
     "output_type": "execute_result"
    }
   ],
   "source": [
    "h2.age"
   ]
  },
  {
   "cell_type": "code",
   "execution_count": 15,
   "id": "9b82bff6",
   "metadata": {},
   "outputs": [
    {
     "data": {
      "text/plain": [
       "'Prateek'"
      ]
     },
     "execution_count": 15,
     "metadata": {},
     "output_type": "execute_result"
    }
   ],
   "source": [
    "h2.name"
   ]
  },
  {
   "cell_type": "code",
   "execution_count": 16,
   "id": "5402dde5",
   "metadata": {},
   "outputs": [
    {
     "name": "stdout",
     "output_type": "stream",
     "text": [
      "<__main__.Human object at 0x00000237B1CDB7C0>\n"
     ]
    }
   ],
   "source": [
    "print(h2)"
   ]
  },
  {
   "cell_type": "code",
   "execution_count": 17,
   "id": "69ab2fec",
   "metadata": {},
   "outputs": [],
   "source": [
    "class Human:\n",
    "    def __init__(self, name, age):\n",
    "        print(\"Creatinhg new objects...\")\n",
    "        \n",
    "        self.name = name\n",
    "        self.age = age\n",
    "        \n",
    "    def introduce(self):\n",
    "        print(f\"Hi my name is {self.name} and i am {self.age} years old.\")\n",
    "        "
   ]
  },
  {
   "cell_type": "code",
   "execution_count": 18,
   "id": "9dcf982a",
   "metadata": {},
   "outputs": [
    {
     "name": "stdout",
     "output_type": "stream",
     "text": [
      "Creatinhg new objects...\n",
      "Creatinhg new objects...\n"
     ]
    }
   ],
   "source": [
    "h1 = Human(\"prateek\", 28)\n",
    "h2 = Human(\"mohit\", 29)"
   ]
  },
  {
   "cell_type": "code",
   "execution_count": 19,
   "id": "7a3c533a",
   "metadata": {},
   "outputs": [
    {
     "data": {
      "text/plain": [
       "28"
      ]
     },
     "execution_count": 19,
     "metadata": {},
     "output_type": "execute_result"
    }
   ],
   "source": [
    "h1.age"
   ]
  },
  {
   "cell_type": "code",
   "execution_count": 20,
   "id": "acb3541f",
   "metadata": {},
   "outputs": [
    {
     "data": {
      "text/plain": [
       "'mohit'"
      ]
     },
     "execution_count": 20,
     "metadata": {},
     "output_type": "execute_result"
    }
   ],
   "source": [
    "h2.name"
   ]
  },
  {
   "cell_type": "code",
   "execution_count": 22,
   "id": "96233829",
   "metadata": {},
   "outputs": [
    {
     "name": "stdout",
     "output_type": "stream",
     "text": [
      "Hi my name is mohit and i am 29 years old.\n"
     ]
    }
   ],
   "source": [
    "h2.introduce()"
   ]
  },
  {
   "cell_type": "code",
   "execution_count": 23,
   "id": "7c476099",
   "metadata": {},
   "outputs": [
    {
     "name": "stdout",
     "output_type": "stream",
     "text": [
      "Hi my name is prateek and i am 28 years old.\n"
     ]
    }
   ],
   "source": [
    "h1.introduce()"
   ]
  },
  {
   "cell_type": "code",
   "execution_count": 25,
   "id": "49480339",
   "metadata": {},
   "outputs": [],
   "source": [
    "h2.name = 'jatin'"
   ]
  },
  {
   "cell_type": "code",
   "execution_count": 26,
   "id": "e904c2c2",
   "metadata": {},
   "outputs": [
    {
     "data": {
      "text/plain": [
       "'jatin'"
      ]
     },
     "execution_count": 26,
     "metadata": {},
     "output_type": "execute_result"
    }
   ],
   "source": [
    "h2.name"
   ]
  },
  {
   "cell_type": "code",
   "execution_count": 27,
   "id": "80e93b52",
   "metadata": {},
   "outputs": [
    {
     "name": "stdout",
     "output_type": "stream",
     "text": [
      "Hi my name is jatin and i am 29 years old.\n"
     ]
    }
   ],
   "source": [
    "h2.introduce()"
   ]
  },
  {
   "cell_type": "code",
   "execution_count": 29,
   "id": "fb5233bf",
   "metadata": {},
   "outputs": [],
   "source": [
    "class Human:\n",
    "    \n",
    "    database = []\n",
    "    population = 0\n",
    "    id_seq = 101\n",
    "    \n",
    "    \n",
    "    def __init__(self, name, age, is_alive = True):\n",
    "        print(\"Creatinhg new objects...\")\n",
    "        \n",
    "        self.name = name\n",
    "        self.age = age\n",
    "        self.is_alive = is_alive\n",
    "        self.id = Human.id_seq\n",
    "        Human.id_seq+=1\n",
    "        Human.population+=1\n",
    "        Human.database.append(self)\n",
    "        \n",
    "    def introduce(self):\n",
    "        print(f\"Hi my name is {self.name} and i am {self.age} years old.\")"
   ]
  },
  {
   "cell_type": "code",
   "execution_count": 30,
   "id": "26e8185a",
   "metadata": {},
   "outputs": [
    {
     "name": "stdout",
     "output_type": "stream",
     "text": [
      "Creatinhg new objects...\n",
      "Creatinhg new objects...\n"
     ]
    }
   ],
   "source": [
    "h1 = Human('prateek', 30)\n",
    "h2 = Human('rajesh', 40)"
   ]
  },
  {
   "cell_type": "code",
   "execution_count": 31,
   "id": "e1c4d38e",
   "metadata": {},
   "outputs": [
    {
     "name": "stdout",
     "output_type": "stream",
     "text": [
      "101\n"
     ]
    }
   ],
   "source": [
    "print(h1.id)"
   ]
  },
  {
   "cell_type": "code",
   "execution_count": 32,
   "id": "9f1288e8",
   "metadata": {},
   "outputs": [
    {
     "name": "stdout",
     "output_type": "stream",
     "text": [
      "102\n"
     ]
    }
   ],
   "source": [
    "print(h2.id)"
   ]
  },
  {
   "cell_type": "code",
   "execution_count": 34,
   "id": "52075a20",
   "metadata": {},
   "outputs": [
    {
     "name": "stdout",
     "output_type": "stream",
     "text": [
      "<__main__.Human object at 0x00000237B1DDA640>\n"
     ]
    }
   ],
   "source": [
    "print(h1)"
   ]
  },
  {
   "cell_type": "code",
   "execution_count": 35,
   "id": "b34c096b",
   "metadata": {},
   "outputs": [
    {
     "name": "stdout",
     "output_type": "stream",
     "text": [
      "<__main__.Human object at 0x00000237B1DDAAF0>\n"
     ]
    }
   ],
   "source": [
    "print(h2)"
   ]
  },
  {
   "cell_type": "code",
   "execution_count": 36,
   "id": "63129dbc",
   "metadata": {},
   "outputs": [
    {
     "data": {
      "text/plain": [
       "[<__main__.Human at 0x237b1dda640>, <__main__.Human at 0x237b1ddaaf0>]"
      ]
     },
     "execution_count": 36,
     "metadata": {},
     "output_type": "execute_result"
    }
   ],
   "source": [
    "Human.database"
   ]
  },
  {
   "cell_type": "code",
   "execution_count": 37,
   "id": "cb648e87",
   "metadata": {},
   "outputs": [
    {
     "data": {
      "text/plain": [
       "2"
      ]
     },
     "execution_count": 37,
     "metadata": {},
     "output_type": "execute_result"
    }
   ],
   "source": [
    "Human.population"
   ]
  },
  {
   "cell_type": "code",
   "execution_count": 38,
   "id": "0243568f",
   "metadata": {},
   "outputs": [
    {
     "name": "stdout",
     "output_type": "stream",
     "text": [
      "Creatinhg new objects...\n"
     ]
    }
   ],
   "source": [
    "h3 = Human('mohit', 20)"
   ]
  },
  {
   "cell_type": "code",
   "execution_count": 39,
   "id": "26523e61",
   "metadata": {},
   "outputs": [
    {
     "data": {
      "text/plain": [
       "3"
      ]
     },
     "execution_count": 39,
     "metadata": {},
     "output_type": "execute_result"
    }
   ],
   "source": [
    "Human.population"
   ]
  },
  {
   "cell_type": "code",
   "execution_count": 40,
   "id": "1c6e8a8e",
   "metadata": {},
   "outputs": [
    {
     "data": {
      "text/plain": [
       "[<__main__.Human at 0x237b1dda640>,\n",
       " <__main__.Human at 0x237b1ddaaf0>,\n",
       " <__main__.Human at 0x237b1903b20>]"
      ]
     },
     "execution_count": 40,
     "metadata": {},
     "output_type": "execute_result"
    }
   ],
   "source": [
    "Human.database"
   ]
  },
  {
   "cell_type": "code",
   "execution_count": 41,
   "id": "d02341c8",
   "metadata": {},
   "outputs": [
    {
     "name": "stdout",
     "output_type": "stream",
     "text": [
      "Hi my name is mohit and i am 20 years old.\n"
     ]
    }
   ],
   "source": [
    "h3.introduce()"
   ]
  },
  {
   "cell_type": "code",
   "execution_count": 76,
   "id": "67e88c44",
   "metadata": {},
   "outputs": [],
   "source": [
    "class Human:\n",
    "    \n",
    "    database = []\n",
    "    population = 0\n",
    "    id_seq = 101\n",
    "    \n",
    "    \n",
    "    def __init__(self, name, age, is_alive = True):\n",
    "        print(\"Creatinhg new objects...\")\n",
    "        \n",
    "        self.name = name\n",
    "        self.age = age\n",
    "        self.is_alive = is_alive\n",
    "        self.id = Human.id_seq\n",
    "        Human.id_seq+=1\n",
    "        Human.population+=1\n",
    "        Human.database.append(self)\n",
    "        \n",
    "    def introduce(self):\n",
    "        print(f\"Hi my name is {self.name} and i am {self.age} years old.\")\n",
    "        \n",
    "    def die(self):\n",
    "        if self.is_alive:\n",
    "            print(f\"{self.name} is dying...\")\n",
    "            self.is_alive = False\n",
    "            Human.population-=1\n",
    "        else:\n",
    "            print(self.name,'The person is already dead')\n",
    "        "
   ]
  },
  {
   "cell_type": "code",
   "execution_count": 77,
   "id": "b45d5808",
   "metadata": {},
   "outputs": [
    {
     "name": "stdout",
     "output_type": "stream",
     "text": [
      "Creatinhg new objects...\n",
      "Creatinhg new objects...\n"
     ]
    }
   ],
   "source": [
    "h1 = Human('prateek', 30)\n",
    "h2 = Human('rohit', 40)"
   ]
  },
  {
   "cell_type": "code",
   "execution_count": 78,
   "id": "cd37ae17",
   "metadata": {},
   "outputs": [
    {
     "data": {
      "text/plain": [
       "2"
      ]
     },
     "execution_count": 78,
     "metadata": {},
     "output_type": "execute_result"
    }
   ],
   "source": [
    "Human.population"
   ]
  },
  {
   "cell_type": "code",
   "execution_count": 79,
   "id": "5d9a10a0",
   "metadata": {},
   "outputs": [
    {
     "data": {
      "text/plain": [
       "[<__main__.Human at 0x237b154b2e0>, <__main__.Human at 0x237b154b880>]"
      ]
     },
     "execution_count": 79,
     "metadata": {},
     "output_type": "execute_result"
    }
   ],
   "source": [
    "Human.database"
   ]
  },
  {
   "cell_type": "code",
   "execution_count": 80,
   "id": "35864e7c",
   "metadata": {},
   "outputs": [
    {
     "data": {
      "text/plain": [
       "True"
      ]
     },
     "execution_count": 80,
     "metadata": {},
     "output_type": "execute_result"
    }
   ],
   "source": [
    "h1.is_alive"
   ]
  },
  {
   "cell_type": "code",
   "execution_count": 81,
   "id": "03a521ae",
   "metadata": {},
   "outputs": [
    {
     "name": "stdout",
     "output_type": "stream",
     "text": [
      "prateek is dying...\n"
     ]
    }
   ],
   "source": [
    "h1.die()"
   ]
  },
  {
   "cell_type": "code",
   "execution_count": 82,
   "id": "bcf34ab6",
   "metadata": {},
   "outputs": [
    {
     "data": {
      "text/plain": [
       "False"
      ]
     },
     "execution_count": 82,
     "metadata": {},
     "output_type": "execute_result"
    }
   ],
   "source": [
    "h1.is_alive"
   ]
  },
  {
   "cell_type": "code",
   "execution_count": 83,
   "id": "2620cdb4",
   "metadata": {},
   "outputs": [
    {
     "name": "stdout",
     "output_type": "stream",
     "text": [
      "prateek The person is already dead\n"
     ]
    }
   ],
   "source": [
    "h1.die()"
   ]
  },
  {
   "cell_type": "code",
   "execution_count": 84,
   "id": "0a319d0b",
   "metadata": {},
   "outputs": [
    {
     "data": {
      "text/plain": [
       "1"
      ]
     },
     "execution_count": 84,
     "metadata": {},
     "output_type": "execute_result"
    }
   ],
   "source": [
    "Human.population"
   ]
  },
  {
   "cell_type": "code",
   "execution_count": 85,
   "id": "4b468ffd",
   "metadata": {},
   "outputs": [],
   "source": [
    "lst = [1,2,3,4,5]"
   ]
  },
  {
   "cell_type": "code",
   "execution_count": 86,
   "id": "b518afc7",
   "metadata": {},
   "outputs": [
    {
     "name": "stdout",
     "output_type": "stream",
     "text": [
      "[1, 2, 3, 4, 5]\n"
     ]
    }
   ],
   "source": [
    "print(lst)"
   ]
  },
  {
   "cell_type": "code",
   "execution_count": 91,
   "id": "53668341",
   "metadata": {},
   "outputs": [],
   "source": [
    "class Human:\n",
    "    \n",
    "    database = []\n",
    "    population = 0\n",
    "    id_seq = 101\n",
    "    \n",
    "    \n",
    "    def __init__(self, name, age, is_alive = True):\n",
    "        print(\"Creatinhg new objects...\")\n",
    "        \n",
    "        self.name = name\n",
    "        self.age = age\n",
    "        self.is_alive = is_alive\n",
    "        self.id = Human.id_seq\n",
    "        Human.id_seq+=1\n",
    "        Human.population+=1\n",
    "        Human.database.append(self)\n",
    "        \n",
    "    def introduce(self):\n",
    "        print(f\"Hi my name is {self.name} and i am {self.age} years old.\")\n",
    "        \n",
    "    def die(self):\n",
    "        if self.is_alive:\n",
    "            print(f\"{self.name} is dying...\")\n",
    "            self.is_alive = False\n",
    "            Human.population-=1\n",
    "        else:\n",
    "            print(self.name,'The person is already dead')\n",
    "            \n",
    "    def __repr__(self):\n",
    "        return (f'[{self.id},{self.name},{self.age},{self.is_alive}]')\n",
    "        "
   ]
  },
  {
   "cell_type": "code",
   "execution_count": 92,
   "id": "2aa5ef8d",
   "metadata": {},
   "outputs": [
    {
     "name": "stdout",
     "output_type": "stream",
     "text": [
      "Creatinhg new objects...\n"
     ]
    }
   ],
   "source": [
    "h1 = Human('prateek', 27)"
   ]
  },
  {
   "cell_type": "code",
   "execution_count": 93,
   "id": "ee68fd46",
   "metadata": {},
   "outputs": [
    {
     "name": "stdout",
     "output_type": "stream",
     "text": [
      "Creatinhg new objects...\n"
     ]
    }
   ],
   "source": [
    "h2 =Human('Mohit', 30)"
   ]
  },
  {
   "cell_type": "code",
   "execution_count": 94,
   "id": "157f64f4",
   "metadata": {},
   "outputs": [
    {
     "name": "stdout",
     "output_type": "stream",
     "text": [
      "[101,prateek,27,True]\n"
     ]
    }
   ],
   "source": [
    "print(h1)"
   ]
  },
  {
   "cell_type": "code",
   "execution_count": 96,
   "id": "920708aa",
   "metadata": {},
   "outputs": [
    {
     "name": "stdout",
     "output_type": "stream",
     "text": [
      "[102,Mohit,30,True]\n"
     ]
    }
   ],
   "source": [
    "print(h2)"
   ]
  },
  {
   "cell_type": "code",
   "execution_count": 97,
   "id": "b835cfea",
   "metadata": {},
   "outputs": [
    {
     "data": {
      "text/plain": [
       "[[101,prateek,27,True], [102,Mohit,30,True]]"
      ]
     },
     "execution_count": 97,
     "metadata": {},
     "output_type": "execute_result"
    }
   ],
   "source": [
    "Human.database"
   ]
  },
  {
   "cell_type": "code",
   "execution_count": 166,
   "id": "a319100e",
   "metadata": {},
   "outputs": [],
   "source": [
    "class Human:\n",
    "    \n",
    "    database = []\n",
    "    population = 0\n",
    "    id_seq = 101\n",
    "    \n",
    "    \n",
    "    def __init__(self, name, age, is_alive = True):\n",
    "        print(\"Creatinhg new objects...\")\n",
    "        \n",
    "        self.name = name\n",
    "        self.age = age\n",
    "        self.is_alive = is_alive\n",
    "        self.id = Human.id_seq\n",
    "        Human.id_seq+=1\n",
    "        Human.population+=1\n",
    "        Human.database.append(self)\n",
    "        \n",
    "    def introduce(self):\n",
    "        print(f\"Hi my name is {self.name} and i am {self.age} years old.\")\n",
    "        \n",
    "    def die(self):\n",
    "        if self.is_alive:\n",
    "            print(f\"{self.name} is dying...\")\n",
    "            self.is_alive = False\n",
    "            Human.population-=1\n",
    "        else:\n",
    "            print(self.name,'The person is already dead')\n",
    "            \n",
    "    def __repr__(self):\n",
    "        return (f'[{self.id},{self.name},{self.age},{self.is_alive}]')\n",
    "        "
   ]
  },
  {
   "cell_type": "code",
   "execution_count": 167,
   "id": "d047fd3b",
   "metadata": {},
   "outputs": [],
   "source": [
    "class Hitman(Human):\n",
    "    def __init__(self,name,age):\n",
    "        super().__init__(name, age)\n",
    "        \n",
    "        self.kills = 0\n",
    "        self.kill_list = []\n",
    "        \n",
    "    def kill(self, person):\n",
    "        if person.is_alive:\n",
    "            print(f\"{self.name} is killing {person.name}\")\n",
    "            person.die()\n",
    "            self.kills+=1\n",
    "            self.kill_list.append(person)\n",
    "        else:\n",
    "            print(f'{person.name} is already dead')\n",
    "            \n",
    "    \n",
    "             \n",
    "    def introduce(self):\n",
    "        print(f\"Hi my name is {self.name} and i have killed {self.kills} persons.\")   \n",
    "        "
   ]
  },
  {
   "cell_type": "code",
   "execution_count": 168,
   "id": "c80663ae",
   "metadata": {},
   "outputs": [
    {
     "name": "stdout",
     "output_type": "stream",
     "text": [
      "Creatinhg new objects...\n",
      "Creatinhg new objects...\n",
      "Creatinhg new objects...\n"
     ]
    }
   ],
   "source": [
    "h1 = Human('mohit', 23)\n",
    "h2 = Human('prateek', 27)\n",
    "h3 = Human(\"jatin\", 30)"
   ]
  },
  {
   "cell_type": "code",
   "execution_count": 169,
   "id": "52c9fb06",
   "metadata": {},
   "outputs": [
    {
     "data": {
      "text/plain": [
       "3"
      ]
     },
     "execution_count": 169,
     "metadata": {},
     "output_type": "execute_result"
    }
   ],
   "source": [
    "Human.population"
   ]
  },
  {
   "cell_type": "code",
   "execution_count": 170,
   "id": "fa2ff9ef",
   "metadata": {},
   "outputs": [
    {
     "data": {
      "text/plain": [
       "[[101,mohit,23,True], [102,prateek,27,True], [103,jatin,30,True]]"
      ]
     },
     "execution_count": 170,
     "metadata": {},
     "output_type": "execute_result"
    }
   ],
   "source": [
    "Human.database"
   ]
  },
  {
   "cell_type": "code",
   "execution_count": 171,
   "id": "082fe0e6",
   "metadata": {},
   "outputs": [
    {
     "name": "stdout",
     "output_type": "stream",
     "text": [
      "Creatinhg new objects...\n"
     ]
    }
   ],
   "source": [
    "bond = Hitman('james', 30)"
   ]
  },
  {
   "cell_type": "code",
   "execution_count": 172,
   "id": "e2c922e4",
   "metadata": {},
   "outputs": [
    {
     "data": {
      "text/plain": [
       "4"
      ]
     },
     "execution_count": 172,
     "metadata": {},
     "output_type": "execute_result"
    }
   ],
   "source": [
    "Human.population"
   ]
  },
  {
   "cell_type": "code",
   "execution_count": 173,
   "id": "1ee1c597",
   "metadata": {},
   "outputs": [
    {
     "data": {
      "text/plain": [
       "[[101,mohit,23,True],\n",
       " [102,prateek,27,True],\n",
       " [103,jatin,30,True],\n",
       " [104,james,30,True]]"
      ]
     },
     "execution_count": 173,
     "metadata": {},
     "output_type": "execute_result"
    }
   ],
   "source": [
    "Human.database"
   ]
  },
  {
   "cell_type": "code",
   "execution_count": 174,
   "id": "ec3dbfb3",
   "metadata": {},
   "outputs": [
    {
     "name": "stdout",
     "output_type": "stream",
     "text": [
      "[104,james,30,True]\n"
     ]
    }
   ],
   "source": [
    "print(bond)"
   ]
  },
  {
   "cell_type": "code",
   "execution_count": 175,
   "id": "368c9e93",
   "metadata": {},
   "outputs": [
    {
     "name": "stdout",
     "output_type": "stream",
     "text": [
      "Hi my name is james and i have killed 0 persons.\n"
     ]
    }
   ],
   "source": [
    "bond.introduce()"
   ]
  },
  {
   "cell_type": "code",
   "execution_count": 176,
   "id": "fe880aa4",
   "metadata": {},
   "outputs": [
    {
     "name": "stdout",
     "output_type": "stream",
     "text": [
      "james is killing jatin\n",
      "jatin is dying...\n"
     ]
    }
   ],
   "source": [
    "bond.kill(h3)"
   ]
  },
  {
   "cell_type": "code",
   "execution_count": 177,
   "id": "d7da5bc6",
   "metadata": {},
   "outputs": [
    {
     "data": {
      "text/plain": [
       "False"
      ]
     },
     "execution_count": 177,
     "metadata": {},
     "output_type": "execute_result"
    }
   ],
   "source": [
    "h3.is_alive"
   ]
  },
  {
   "cell_type": "code",
   "execution_count": 178,
   "id": "9ac94087",
   "metadata": {},
   "outputs": [
    {
     "name": "stdout",
     "output_type": "stream",
     "text": [
      "jatin is already dead\n"
     ]
    }
   ],
   "source": [
    "bond.kill(h3)"
   ]
  },
  {
   "cell_type": "code",
   "execution_count": 179,
   "id": "991ade80",
   "metadata": {},
   "outputs": [
    {
     "data": {
      "text/plain": [
       "False"
      ]
     },
     "execution_count": 179,
     "metadata": {},
     "output_type": "execute_result"
    }
   ],
   "source": [
    "h3.is_alive"
   ]
  },
  {
   "cell_type": "code",
   "execution_count": 180,
   "id": "6a70f06c",
   "metadata": {},
   "outputs": [
    {
     "data": {
      "text/plain": [
       "1"
      ]
     },
     "execution_count": 180,
     "metadata": {},
     "output_type": "execute_result"
    }
   ],
   "source": [
    "bond.kills"
   ]
  },
  {
   "cell_type": "code",
   "execution_count": 181,
   "id": "ad5239fe",
   "metadata": {},
   "outputs": [
    {
     "data": {
      "text/plain": [
       "[[103,jatin,30,False]]"
      ]
     },
     "execution_count": 181,
     "metadata": {},
     "output_type": "execute_result"
    }
   ],
   "source": [
    "bond.kill_list"
   ]
  },
  {
   "cell_type": "code",
   "execution_count": 182,
   "id": "11369125",
   "metadata": {},
   "outputs": [
    {
     "name": "stdout",
     "output_type": "stream",
     "text": [
      "Hi my name is james and i have killed 1 persons.\n"
     ]
    }
   ],
   "source": [
    "bond.introduce()"
   ]
  },
  {
   "cell_type": "code",
   "execution_count": 183,
   "id": "35700c1b",
   "metadata": {},
   "outputs": [
    {
     "name": "stdout",
     "output_type": "stream",
     "text": [
      "Hi my name is prateek and i am 27 years old.\n"
     ]
    }
   ],
   "source": [
    "h2.introduce()"
   ]
  },
  {
   "cell_type": "code",
   "execution_count": null,
   "id": "78bf9977",
   "metadata": {},
   "outputs": [],
   "source": []
  },
  {
   "cell_type": "code",
   "execution_count": 184,
   "id": "52b127ac",
   "metadata": {},
   "outputs": [],
   "source": [
    "class A:\n",
    "    def m(self):\n",
    "        print(\"I am inside clas A\")\n",
    "\n",
    "class B(A):\n",
    "    def m1(self):\n",
    "        print(\"I am inside class B\")\n",
    "        \n",
    "        \n",
    "\n",
    "class C(B):\n",
    "    def m1(self):\n",
    "        print(\"I am inside class C\")\n",
    "        \n",
    "    def m2(self):\n",
    "        print(\"I am another function of class C\")"
   ]
  },
  {
   "cell_type": "code",
   "execution_count": 185,
   "id": "534e074b",
   "metadata": {},
   "outputs": [],
   "source": [
    "obj1 =  A()\n",
    "obj2 = B()\n",
    "obj3 = C()"
   ]
  },
  {
   "cell_type": "code",
   "execution_count": 187,
   "id": "ba356974",
   "metadata": {},
   "outputs": [
    {
     "name": "stdout",
     "output_type": "stream",
     "text": [
      "I am inside clas A\n"
     ]
    }
   ],
   "source": [
    "obj1.m()"
   ]
  },
  {
   "cell_type": "code",
   "execution_count": 188,
   "id": "07feca56",
   "metadata": {},
   "outputs": [
    {
     "name": "stdout",
     "output_type": "stream",
     "text": [
      "I am inside clas A\n"
     ]
    }
   ],
   "source": [
    "obj2.m()"
   ]
  },
  {
   "cell_type": "code",
   "execution_count": 189,
   "id": "2b28c4c6",
   "metadata": {},
   "outputs": [
    {
     "name": "stdout",
     "output_type": "stream",
     "text": [
      "I am inside class B\n"
     ]
    }
   ],
   "source": [
    "obj2.m1()"
   ]
  },
  {
   "cell_type": "code",
   "execution_count": 190,
   "id": "ac7dd128",
   "metadata": {},
   "outputs": [
    {
     "name": "stdout",
     "output_type": "stream",
     "text": [
      "I am inside clas A\n"
     ]
    }
   ],
   "source": [
    "\n",
    "obj3.m()"
   ]
  },
  {
   "cell_type": "code",
   "execution_count": 191,
   "id": "e17f8c54",
   "metadata": {},
   "outputs": [
    {
     "name": "stdout",
     "output_type": "stream",
     "text": [
      "I am inside class C\n"
     ]
    }
   ],
   "source": [
    "\n",
    "obj3.m1()"
   ]
  },
  {
   "cell_type": "code",
   "execution_count": 192,
   "id": "0a135b4c",
   "metadata": {},
   "outputs": [
    {
     "name": "stdout",
     "output_type": "stream",
     "text": [
      "I am another function of class C\n"
     ]
    }
   ],
   "source": [
    "obj3.m2()"
   ]
  },
  {
   "cell_type": "code",
   "execution_count": 203,
   "id": "fb60a2cf",
   "metadata": {},
   "outputs": [],
   "source": [
    "class A:\n",
    "    def find(self):\n",
    "        print('I am finding something')\n",
    "        \n",
    "        \n",
    "class B:\n",
    "    def explore(self):\n",
    "        print('I am exploring something in class B')\n",
    "        \n",
    "    def discover(self):\n",
    "        print('I am discovering something inside class B')\n",
    "        \n",
    "class C(A,B):\n",
    "    def explore(self):\n",
    "        print('i am exploring something inside class ccccc')"
   ]
  },
  {
   "cell_type": "code",
   "execution_count": 204,
   "id": "341be596",
   "metadata": {},
   "outputs": [],
   "source": [
    "b = C()"
   ]
  },
  {
   "cell_type": "code",
   "execution_count": 205,
   "id": "a7d9f8f3",
   "metadata": {},
   "outputs": [
    {
     "name": "stdout",
     "output_type": "stream",
     "text": [
      "I am finding something\n"
     ]
    }
   ],
   "source": [
    "b.find()"
   ]
  },
  {
   "cell_type": "code",
   "execution_count": 206,
   "id": "2784eee8",
   "metadata": {},
   "outputs": [
    {
     "name": "stdout",
     "output_type": "stream",
     "text": [
      "I am discovering something inside class B\n"
     ]
    }
   ],
   "source": [
    "b.discover()"
   ]
  },
  {
   "cell_type": "code",
   "execution_count": 207,
   "id": "69153d09",
   "metadata": {},
   "outputs": [
    {
     "name": "stdout",
     "output_type": "stream",
     "text": [
      "i am exploring something inside class ccccc\n"
     ]
    }
   ],
   "source": [
    "b.explore()"
   ]
  },
  {
   "cell_type": "code",
   "execution_count": 209,
   "id": "9e38cf8e",
   "metadata": {},
   "outputs": [
    {
     "data": {
      "text/plain": [
       "[__main__.C, __main__.A, __main__.B, object]"
      ]
     },
     "execution_count": 209,
     "metadata": {},
     "output_type": "execute_result"
    }
   ],
   "source": [
    "C.mro()"
   ]
  },
  {
   "cell_type": "code",
   "execution_count": 211,
   "id": "a377ee62",
   "metadata": {},
   "outputs": [],
   "source": [
    "class A:\n",
    "    def find(self):\n",
    "        print('I am finding something')\n",
    "        \n",
    "        \n",
    "class B:\n",
    "    def explore(self):\n",
    "        print('I am exploring something in class B')\n",
    "        \n",
    "    def discover(self):\n",
    "        print('I am discovering something inside class B')\n",
    "        \n",
    "class C(B,A):\n",
    "    def explore(self):\n",
    "        print('i am exploring something inside class ccccc')"
   ]
  },
  {
   "cell_type": "code",
   "execution_count": 212,
   "id": "2b43b742",
   "metadata": {},
   "outputs": [
    {
     "data": {
      "text/plain": [
       "[__main__.C, __main__.B, __main__.A, object]"
      ]
     },
     "execution_count": 212,
     "metadata": {},
     "output_type": "execute_result"
    }
   ],
   "source": [
    "C.mro()"
   ]
  },
  {
   "cell_type": "code",
   "execution_count": 213,
   "id": "529a0111",
   "metadata": {},
   "outputs": [
    {
     "data": {
      "text/plain": [
       "22"
      ]
     },
     "execution_count": 213,
     "metadata": {},
     "output_type": "execute_result"
    }
   ],
   "source": [
    "10+12"
   ]
  },
  {
   "cell_type": "code",
   "execution_count": 215,
   "id": "6ffe784a",
   "metadata": {},
   "outputs": [
    {
     "data": {
      "text/plain": [
       "'hello students'"
      ]
     },
     "execution_count": 215,
     "metadata": {},
     "output_type": "execute_result"
    }
   ],
   "source": [
    "\"hello \" + \"students\""
   ]
  },
  {
   "cell_type": "code",
   "execution_count": 217,
   "id": "1c18bf45",
   "metadata": {},
   "outputs": [
    {
     "data": {
      "text/plain": [
       "[1, 2, 3, 4, 5, 6]"
      ]
     },
     "execution_count": 217,
     "metadata": {},
     "output_type": "execute_result"
    }
   ],
   "source": [
    "[1,2,3] + [4,5,6]"
   ]
  },
  {
   "cell_type": "code",
   "execution_count": 218,
   "id": "312bfadd",
   "metadata": {},
   "outputs": [],
   "source": [
    "k = [7,8,9,10]"
   ]
  },
  {
   "cell_type": "code",
   "execution_count": 219,
   "id": "e6b50043",
   "metadata": {},
   "outputs": [
    {
     "data": {
      "text/plain": [
       "4"
      ]
     },
     "execution_count": 219,
     "metadata": {},
     "output_type": "execute_result"
    }
   ],
   "source": [
    "len(k)"
   ]
  },
  {
   "cell_type": "code",
   "execution_count": 220,
   "id": "fe5e9bc5",
   "metadata": {},
   "outputs": [
    {
     "data": {
      "text/plain": [
       "16"
      ]
     },
     "execution_count": 220,
     "metadata": {},
     "output_type": "execute_result"
    }
   ],
   "source": [
    "len(\"machine learning\")"
   ]
  },
  {
   "cell_type": "code",
   "execution_count": 221,
   "id": "21fe017f",
   "metadata": {},
   "outputs": [
    {
     "data": {
      "text/plain": [
       "1"
      ]
     },
     "execution_count": 221,
     "metadata": {},
     "output_type": "execute_result"
    }
   ],
   "source": [
    "len({4,4,4,4,4})"
   ]
  },
  {
   "cell_type": "code",
   "execution_count": 224,
   "id": "818a930e",
   "metadata": {},
   "outputs": [],
   "source": [
    "def my_func(*args):\n",
    "    return sum(args)"
   ]
  },
  {
   "cell_type": "code",
   "execution_count": 225,
   "id": "eefb9e79",
   "metadata": {},
   "outputs": [
    {
     "data": {
      "text/plain": [
       "159"
      ]
     },
     "execution_count": 225,
     "metadata": {},
     "output_type": "execute_result"
    }
   ],
   "source": [
    "\n",
    "my_func(45,78,36)"
   ]
  },
  {
   "cell_type": "code",
   "execution_count": 226,
   "id": "3bbc3334",
   "metadata": {},
   "outputs": [],
   "source": [
    "class Animal:\n",
    "    def speak(self):\n",
    "        print('I will Speak')\n",
    "        \n",
    "        \n",
    "class Dog:\n",
    "    def speak(self):\n",
    "        print('I will barkkkkkkk')\n",
    "        \n",
    "class Cat:\n",
    "    def speak(self):\n",
    "        print('I will Meauwwwwww')\n",
    "        \n",
    "class Duck:\n",
    "    def speak(self):\n",
    "        print('I will quackkkkkkkkkkk')\n",
    "        \n",
    "        "
   ]
  },
  {
   "cell_type": "code",
   "execution_count": 227,
   "id": "1ccd0576",
   "metadata": {},
   "outputs": [],
   "source": [
    "dog = Dog()\n",
    "cat = Cat()\n",
    "duck = Duck()"
   ]
  },
  {
   "cell_type": "code",
   "execution_count": 228,
   "id": "df74500f",
   "metadata": {},
   "outputs": [
    {
     "name": "stdout",
     "output_type": "stream",
     "text": [
      "I will barkkkkkkk\n",
      "I will Meauwwwwww\n",
      "I will quackkkkkkkkkkk\n"
     ]
    }
   ],
   "source": [
    "for i in [dog,cat,duck]:\n",
    "    i.speak()\n",
    "    "
   ]
  },
  {
   "cell_type": "code",
   "execution_count": null,
   "id": "e4e7354e",
   "metadata": {},
   "outputs": [],
   "source": []
  }
 ],
 "metadata": {
  "kernelspec": {
   "display_name": "Python 3",
   "language": "python",
   "name": "python3"
  },
  "language_info": {
   "codemirror_mode": {
    "name": "ipython",
    "version": 3
   },
   "file_extension": ".py",
   "mimetype": "text/x-python",
   "name": "python",
   "nbconvert_exporter": "python",
   "pygments_lexer": "ipython3",
   "version": "3.8.8"
  }
 },
 "nbformat": 4,
 "nbformat_minor": 5
}
