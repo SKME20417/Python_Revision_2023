{
 "cells": [
  {
   "cell_type": "code",
   "execution_count": 1,
   "id": "a3841056",
   "metadata": {},
   "outputs": [
    {
     "name": "stdout",
     "output_type": "stream",
     "text": [
      "Hello Students\n"
     ]
    }
   ],
   "source": [
    "print(\"Hello Students\")"
   ]
  },
  {
   "cell_type": "code",
   "execution_count": 2,
   "id": "81bfaa46",
   "metadata": {},
   "outputs": [
    {
     "name": "stdout",
     "output_type": "stream",
     "text": [
      "Hello Students machine_learning DL 200\n"
     ]
    }
   ],
   "source": [
    "print(\"Hello Students\", \"machine_learning\", \"DL\", 200)"
   ]
  },
  {
   "cell_type": "code",
   "execution_count": 3,
   "id": "322c2452",
   "metadata": {},
   "outputs": [],
   "source": [
    "i = 80"
   ]
  },
  {
   "cell_type": "code",
   "execution_count": 4,
   "id": "bf83293a",
   "metadata": {},
   "outputs": [
    {
     "name": "stdout",
     "output_type": "stream",
     "text": [
      "80\n"
     ]
    }
   ],
   "source": [
    "print(i)"
   ]
  },
  {
   "cell_type": "code",
   "execution_count": 5,
   "id": "52e2fc72",
   "metadata": {},
   "outputs": [],
   "source": [
    "abc1 = 100"
   ]
  },
  {
   "cell_type": "code",
   "execution_count": 6,
   "id": "50b6d7b2",
   "metadata": {},
   "outputs": [
    {
     "ename": "SyntaxError",
     "evalue": "invalid syntax (<ipython-input-6-98b524068519>, line 1)",
     "output_type": "error",
     "traceback": [
      "\u001b[1;36m  File \u001b[1;32m\"<ipython-input-6-98b524068519>\"\u001b[1;36m, line \u001b[1;32m1\u001b[0m\n\u001b[1;33m    1abc = 200\u001b[0m\n\u001b[1;37m     ^\u001b[0m\n\u001b[1;31mSyntaxError\u001b[0m\u001b[1;31m:\u001b[0m invalid syntax\n"
     ]
    }
   ],
   "source": [
    "1abc = 200"
   ]
  },
  {
   "cell_type": "code",
   "execution_count": 7,
   "id": "22779811",
   "metadata": {},
   "outputs": [
    {
     "name": "stdout",
     "output_type": "stream",
     "text": [
      "100\n"
     ]
    }
   ],
   "source": [
    "print(abc1)"
   ]
  },
  {
   "cell_type": "code",
   "execution_count": 8,
   "id": "036c160f",
   "metadata": {},
   "outputs": [
    {
     "data": {
      "text/plain": [
       "int"
      ]
     },
     "execution_count": 8,
     "metadata": {},
     "output_type": "execute_result"
    }
   ],
   "source": [
    "type(abc1)"
   ]
  },
  {
   "cell_type": "code",
   "execution_count": 9,
   "id": "cd9f580f",
   "metadata": {},
   "outputs": [
    {
     "data": {
      "text/plain": [
       "140718870376720"
      ]
     },
     "execution_count": 9,
     "metadata": {},
     "output_type": "execute_result"
    }
   ],
   "source": [
    "id(i)"
   ]
  },
  {
   "cell_type": "code",
   "execution_count": 10,
   "id": "e1c8fffe",
   "metadata": {},
   "outputs": [
    {
     "name": "stdout",
     "output_type": "stream",
     "text": [
      "80\n"
     ]
    }
   ],
   "source": [
    "print(i)"
   ]
  },
  {
   "cell_type": "code",
   "execution_count": 11,
   "id": "111660fb",
   "metadata": {},
   "outputs": [],
   "source": [
    "i = \"Mavchine Learning\""
   ]
  },
  {
   "cell_type": "code",
   "execution_count": 12,
   "id": "af6cc6c5",
   "metadata": {},
   "outputs": [
    {
     "data": {
      "text/plain": [
       "str"
      ]
     },
     "execution_count": 12,
     "metadata": {},
     "output_type": "execute_result"
    }
   ],
   "source": [
    "type(i)"
   ]
  },
  {
   "cell_type": "code",
   "execution_count": 13,
   "id": "95788425",
   "metadata": {},
   "outputs": [
    {
     "data": {
      "text/plain": [
       "2232157240896"
      ]
     },
     "execution_count": 13,
     "metadata": {},
     "output_type": "execute_result"
    }
   ],
   "source": [
    "id(i)"
   ]
  },
  {
   "cell_type": "code",
   "execution_count": 14,
   "id": "c73fcc33",
   "metadata": {},
   "outputs": [],
   "source": [
    "my_num = 55"
   ]
  },
  {
   "cell_type": "code",
   "execution_count": 18,
   "id": "47032dd5",
   "metadata": {},
   "outputs": [
    {
     "name": "stdout",
     "output_type": "stream",
     "text": [
      "<class 'int'>\n"
     ]
    }
   ],
   "source": [
    "print(type(my_num))"
   ]
  },
  {
   "cell_type": "code",
   "execution_count": 16,
   "id": "b97c8095",
   "metadata": {},
   "outputs": [
    {
     "data": {
      "text/plain": [
       "140718870375920"
      ]
     },
     "execution_count": 16,
     "metadata": {},
     "output_type": "execute_result"
    }
   ],
   "source": [
    "id(my_num)"
   ]
  },
  {
   "cell_type": "code",
   "execution_count": 17,
   "id": "00f6d87b",
   "metadata": {},
   "outputs": [
    {
     "name": "stdout",
     "output_type": "stream",
     "text": [
      "55\n"
     ]
    }
   ],
   "source": [
    "print(my_num)"
   ]
  },
  {
   "cell_type": "code",
   "execution_count": 19,
   "id": "96ed535a",
   "metadata": {},
   "outputs": [],
   "source": [
    "my_f = 78.2"
   ]
  },
  {
   "cell_type": "code",
   "execution_count": 20,
   "id": "5d558024",
   "metadata": {},
   "outputs": [
    {
     "data": {
      "text/plain": [
       "2232167028240"
      ]
     },
     "execution_count": 20,
     "metadata": {},
     "output_type": "execute_result"
    }
   ],
   "source": [
    "id(my_f)"
   ]
  },
  {
   "cell_type": "code",
   "execution_count": 23,
   "id": "f326c876",
   "metadata": {},
   "outputs": [
    {
     "name": "stdout",
     "output_type": "stream",
     "text": [
      "<class 'float'>\n"
     ]
    }
   ],
   "source": [
    "print(type(my_f))"
   ]
  },
  {
   "cell_type": "code",
   "execution_count": 22,
   "id": "8f387356",
   "metadata": {},
   "outputs": [
    {
     "name": "stdout",
     "output_type": "stream",
     "text": [
      "78.2\n"
     ]
    }
   ],
   "source": [
    "print(my_f)"
   ]
  },
  {
   "cell_type": "code",
   "execution_count": 24,
   "id": "057c52cb",
   "metadata": {},
   "outputs": [],
   "source": [
    "my_c = 4+3j"
   ]
  },
  {
   "cell_type": "code",
   "execution_count": 27,
   "id": "4c1321a6",
   "metadata": {},
   "outputs": [
    {
     "name": "stdout",
     "output_type": "stream",
     "text": [
      "<class 'complex'>\n"
     ]
    }
   ],
   "source": [
    "print(type(my_c))"
   ]
  },
  {
   "cell_type": "code",
   "execution_count": 28,
   "id": "78020bca",
   "metadata": {},
   "outputs": [
    {
     "data": {
      "text/plain": [
       "2232167027792"
      ]
     },
     "execution_count": 28,
     "metadata": {},
     "output_type": "execute_result"
    }
   ],
   "source": [
    "id(my_c)"
   ]
  },
  {
   "cell_type": "code",
   "execution_count": 29,
   "id": "f274dbb1",
   "metadata": {},
   "outputs": [],
   "source": [
    "my_str = \"Python is very easy\""
   ]
  },
  {
   "cell_type": "code",
   "execution_count": 33,
   "id": "4544d541",
   "metadata": {},
   "outputs": [
    {
     "name": "stdout",
     "output_type": "stream",
     "text": [
      "<class 'str'>\n"
     ]
    }
   ],
   "source": [
    "print(type(my_str))"
   ]
  },
  {
   "cell_type": "code",
   "execution_count": 31,
   "id": "73403c90",
   "metadata": {},
   "outputs": [
    {
     "data": {
      "text/plain": [
       "2232137276912"
      ]
     },
     "execution_count": 31,
     "metadata": {},
     "output_type": "execute_result"
    }
   ],
   "source": [
    "id(my_str)"
   ]
  },
  {
   "cell_type": "code",
   "execution_count": 32,
   "id": "8631d7ee",
   "metadata": {},
   "outputs": [
    {
     "name": "stdout",
     "output_type": "stream",
     "text": [
      "Python is very easy\n"
     ]
    }
   ],
   "source": [
    "print(my_str)"
   ]
  },
  {
   "cell_type": "code",
   "execution_count": 34,
   "id": "bea76889",
   "metadata": {},
   "outputs": [],
   "source": [
    "my_bool = False"
   ]
  },
  {
   "cell_type": "code",
   "execution_count": 35,
   "id": "19fb7505",
   "metadata": {},
   "outputs": [
    {
     "data": {
      "text/plain": [
       "140718870091632"
      ]
     },
     "execution_count": 35,
     "metadata": {},
     "output_type": "execute_result"
    }
   ],
   "source": [
    "id(my_bool)"
   ]
  },
  {
   "cell_type": "code",
   "execution_count": 37,
   "id": "c1601443",
   "metadata": {},
   "outputs": [
    {
     "name": "stdout",
     "output_type": "stream",
     "text": [
      "<class 'bool'>\n"
     ]
    }
   ],
   "source": [
    "print(type(my_bool))"
   ]
  },
  {
   "cell_type": "code",
   "execution_count": 38,
   "id": "a4a3ba69",
   "metadata": {},
   "outputs": [],
   "source": [
    "j = None"
   ]
  },
  {
   "cell_type": "code",
   "execution_count": 39,
   "id": "43515b45",
   "metadata": {},
   "outputs": [
    {
     "data": {
      "text/plain": [
       "140718870141056"
      ]
     },
     "execution_count": 39,
     "metadata": {},
     "output_type": "execute_result"
    }
   ],
   "source": [
    "id(j)"
   ]
  },
  {
   "cell_type": "code",
   "execution_count": 41,
   "id": "5efc9cfd",
   "metadata": {},
   "outputs": [
    {
     "name": "stdout",
     "output_type": "stream",
     "text": [
      "<class 'NoneType'>\n"
     ]
    }
   ],
   "source": [
    "print(type(None))"
   ]
  },
  {
   "cell_type": "code",
   "execution_count": 42,
   "id": "1d5f8ff7",
   "metadata": {},
   "outputs": [
    {
     "name": "stdout",
     "output_type": "stream",
     "text": [
      "Enter your name:sanjay kumar\n"
     ]
    }
   ],
   "source": [
    "name = input('Enter your name:')"
   ]
  },
  {
   "cell_type": "code",
   "execution_count": 43,
   "id": "6a41b7f7",
   "metadata": {},
   "outputs": [
    {
     "data": {
      "text/plain": [
       "'sanjay kumar'"
      ]
     },
     "execution_count": 43,
     "metadata": {},
     "output_type": "execute_result"
    }
   ],
   "source": [
    "name"
   ]
  },
  {
   "cell_type": "code",
   "execution_count": 45,
   "id": "10177f23",
   "metadata": {},
   "outputs": [
    {
     "name": "stdout",
     "output_type": "stream",
     "text": [
      "<class 'str'>\n"
     ]
    }
   ],
   "source": [
    "print(type(name))"
   ]
  },
  {
   "cell_type": "code",
   "execution_count": 46,
   "id": "72879f7a",
   "metadata": {},
   "outputs": [],
   "source": [
    "num = \"9\""
   ]
  },
  {
   "cell_type": "code",
   "execution_count": 47,
   "id": "ffaa3cc0",
   "metadata": {},
   "outputs": [
    {
     "data": {
      "text/plain": [
       "str"
      ]
     },
     "execution_count": 47,
     "metadata": {},
     "output_type": "execute_result"
    }
   ],
   "source": [
    "\n",
    "type(num)"
   ]
  },
  {
   "cell_type": "code",
   "execution_count": 48,
   "id": "b0b69e98",
   "metadata": {},
   "outputs": [],
   "source": [
    "num = int(num)"
   ]
  },
  {
   "cell_type": "code",
   "execution_count": 49,
   "id": "fac5cb61",
   "metadata": {},
   "outputs": [
    {
     "data": {
      "text/plain": [
       "int"
      ]
     },
     "execution_count": 49,
     "metadata": {},
     "output_type": "execute_result"
    }
   ],
   "source": [
    "type(num)"
   ]
  },
  {
   "cell_type": "code",
   "execution_count": 51,
   "id": "0b3b9553",
   "metadata": {},
   "outputs": [
    {
     "data": {
      "text/plain": [
       "9.0"
      ]
     },
     "execution_count": 51,
     "metadata": {},
     "output_type": "execute_result"
    }
   ],
   "source": [
    "float(num)"
   ]
  },
  {
   "cell_type": "code",
   "execution_count": 52,
   "id": "d04811db",
   "metadata": {},
   "outputs": [
    {
     "name": "stdout",
     "output_type": "stream",
     "text": [
      "enter your age:30\n"
     ]
    }
   ],
   "source": [
    "age = int(input('enter your age:'))"
   ]
  },
  {
   "cell_type": "code",
   "execution_count": 55,
   "id": "db2f412b",
   "metadata": {},
   "outputs": [
    {
     "name": "stdout",
     "output_type": "stream",
     "text": [
      "<class 'int'>\n"
     ]
    }
   ],
   "source": [
    "print(type(age))"
   ]
  },
  {
   "cell_type": "code",
   "execution_count": 54,
   "id": "3af7d294",
   "metadata": {},
   "outputs": [
    {
     "name": "stdout",
     "output_type": "stream",
     "text": [
      "30\n"
     ]
    }
   ],
   "source": [
    "print(age)"
   ]
  },
  {
   "cell_type": "code",
   "execution_count": 56,
   "id": "22992d75",
   "metadata": {},
   "outputs": [],
   "source": [
    "num = 5"
   ]
  },
  {
   "cell_type": "code",
   "execution_count": 57,
   "id": "df47a420",
   "metadata": {},
   "outputs": [],
   "source": [
    "h = 1+2+3+\\\n",
    "    4+5+6+\\\n",
    "    7+8+9"
   ]
  },
  {
   "cell_type": "code",
   "execution_count": 59,
   "id": "3b47bf41",
   "metadata": {},
   "outputs": [
    {
     "name": "stdout",
     "output_type": "stream",
     "text": [
      "45\n"
     ]
    }
   ],
   "source": [
    "print(h)"
   ]
  },
  {
   "cell_type": "code",
   "execution_count": 60,
   "id": "ad043bc8",
   "metadata": {},
   "outputs": [],
   "source": [
    "k = (1+2+3+\n",
    "    4+5+6+\n",
    "    7+8+9+10)"
   ]
  },
  {
   "cell_type": "code",
   "execution_count": 61,
   "id": "8f51ce46",
   "metadata": {},
   "outputs": [
    {
     "name": "stdout",
     "output_type": "stream",
     "text": [
      "55\n"
     ]
    }
   ],
   "source": [
    "print(k)"
   ]
  },
  {
   "cell_type": "code",
   "execution_count": 62,
   "id": "a271156c",
   "metadata": {},
   "outputs": [],
   "source": [
    "a = 10\n",
    "b = 20"
   ]
  },
  {
   "cell_type": "code",
   "execution_count": 63,
   "id": "b29a5b04",
   "metadata": {},
   "outputs": [
    {
     "name": "stdout",
     "output_type": "stream",
     "text": [
      "The two numbers are 10 and 20\n"
     ]
    }
   ],
   "source": [
    "print(\"The two numbers are {} and {}\".format(a,b))"
   ]
  },
  {
   "cell_type": "code",
   "execution_count": 64,
   "id": "21a3d0d3",
   "metadata": {},
   "outputs": [
    {
     "name": "stdout",
     "output_type": "stream",
     "text": [
      "The two numbers are 20 and 10\n"
     ]
    }
   ],
   "source": [
    "print(\"The two numbers are {1} and {0}\".format(a,b))"
   ]
  },
  {
   "cell_type": "code",
   "execution_count": 65,
   "id": "a377fb10",
   "metadata": {},
   "outputs": [],
   "source": [
    "name = 'Sanjay'\n",
    "Greet = \"Good Morning\""
   ]
  },
  {
   "cell_type": "code",
   "execution_count": 67,
   "id": "d11731cb",
   "metadata": {},
   "outputs": [
    {
     "name": "stdout",
     "output_type": "stream",
     "text": [
      "Hi Sanjay and Good Morning\n"
     ]
    }
   ],
   "source": [
    "print(\"Hi {k} and {j}\".format(k = name,j = Greet))"
   ]
  },
  {
   "cell_type": "code",
   "execution_count": 68,
   "id": "ded08bdb",
   "metadata": {},
   "outputs": [
    {
     "name": "stdout",
     "output_type": "stream",
     "text": [
      "the two numbers are Sanjay and Good Morning\n"
     ]
    }
   ],
   "source": [
    "print(f\"the two numbers are {name} and {Greet}\")"
   ]
  },
  {
   "cell_type": "code",
   "execution_count": 69,
   "id": "603646fb",
   "metadata": {},
   "outputs": [],
   "source": [
    "#Operators and Expressions"
   ]
  },
  {
   "cell_type": "code",
   "execution_count": 70,
   "id": "fd80c505",
   "metadata": {},
   "outputs": [
    {
     "data": {
      "text/plain": [
       "15"
      ]
     },
     "execution_count": 70,
     "metadata": {},
     "output_type": "execute_result"
    }
   ],
   "source": [
    "12+3"
   ]
  },
  {
   "cell_type": "code",
   "execution_count": 71,
   "id": "a9148bfd",
   "metadata": {},
   "outputs": [
    {
     "data": {
      "text/plain": [
       "9"
      ]
     },
     "execution_count": 71,
     "metadata": {},
     "output_type": "execute_result"
    }
   ],
   "source": [
    "12-3"
   ]
  },
  {
   "cell_type": "code",
   "execution_count": 72,
   "id": "fa59e332",
   "metadata": {},
   "outputs": [
    {
     "data": {
      "text/plain": [
       "36"
      ]
     },
     "execution_count": 72,
     "metadata": {},
     "output_type": "execute_result"
    }
   ],
   "source": [
    "12*3"
   ]
  },
  {
   "cell_type": "code",
   "execution_count": 73,
   "id": "d2386d5b",
   "metadata": {},
   "outputs": [
    {
     "data": {
      "text/plain": [
       "4.0"
      ]
     },
     "execution_count": 73,
     "metadata": {},
     "output_type": "execute_result"
    }
   ],
   "source": [
    "12/3"
   ]
  },
  {
   "cell_type": "code",
   "execution_count": 76,
   "id": "49f15f51",
   "metadata": {},
   "outputs": [
    {
     "data": {
      "text/plain": [
       "4"
      ]
     },
     "execution_count": 76,
     "metadata": {},
     "output_type": "execute_result"
    }
   ],
   "source": [
    "12//3   #Floor Division"
   ]
  },
  {
   "cell_type": "code",
   "execution_count": 77,
   "id": "2b2f839f",
   "metadata": {},
   "outputs": [
    {
     "data": {
      "text/plain": [
       "1728"
      ]
     },
     "execution_count": 77,
     "metadata": {},
     "output_type": "execute_result"
    }
   ],
   "source": [
    "12**3"
   ]
  },
  {
   "cell_type": "code",
   "execution_count": 78,
   "id": "f2754746",
   "metadata": {},
   "outputs": [
    {
     "data": {
      "text/plain": [
       "0"
      ]
     },
     "execution_count": 78,
     "metadata": {},
     "output_type": "execute_result"
    }
   ],
   "source": [
    "12%3"
   ]
  },
  {
   "cell_type": "code",
   "execution_count": 79,
   "id": "ce6ab62a",
   "metadata": {},
   "outputs": [
    {
     "data": {
      "text/plain": [
       "0"
      ]
     },
     "execution_count": 79,
     "metadata": {},
     "output_type": "execute_result"
    }
   ],
   "source": [
    "12%2"
   ]
  },
  {
   "cell_type": "code",
   "execution_count": 80,
   "id": "3ff4ecb0",
   "metadata": {},
   "outputs": [
    {
     "data": {
      "text/plain": [
       "2"
      ]
     },
     "execution_count": 80,
     "metadata": {},
     "output_type": "execute_result"
    }
   ],
   "source": [
    "12%5"
   ]
  },
  {
   "cell_type": "code",
   "execution_count": 81,
   "id": "acffb7d6",
   "metadata": {},
   "outputs": [],
   "source": [
    "no1 = 12\n",
    "no2 = 3"
   ]
  },
  {
   "cell_type": "code",
   "execution_count": 82,
   "id": "81b13994",
   "metadata": {},
   "outputs": [],
   "source": [
    "add = no1+no2\n",
    "sub = no1-no2\n",
    "mul = no1*no2\n",
    "div = no1/no2\n",
    "f_div = no1//no2\n",
    "exp = no1**no2\n",
    "mod = no1%no2"
   ]
  },
  {
   "cell_type": "code",
   "execution_count": 84,
   "id": "a0b90170",
   "metadata": {},
   "outputs": [
    {
     "name": "stdout",
     "output_type": "stream",
     "text": [
      "The sum of two numbers are 15\n",
      "The sub of two numbers are 9\n",
      "The mul of two numbers are 36\n",
      "The div of two numbers are 4.0\n",
      "The f_div of two numbers are 4\n",
      "The exp of two numbers are 1728\n",
      "The mod of two numbers are 0\n"
     ]
    }
   ],
   "source": [
    "print(f\"The sum of two numbers are {add}\")\n",
    "print(f\"The sub of two numbers are {sub}\")\n",
    "print(f\"The mul of two numbers are {mul}\")\n",
    "print(f\"The div of two numbers are {div}\")\n",
    "print(f\"The f_div of two numbers are {f_div}\")\n",
    "print(f\"The exp of two numbers are {exp}\")\n",
    "print(f\"The mod of two numbers are {mod}\")"
   ]
  },
  {
   "cell_type": "code",
   "execution_count": 85,
   "id": "8c426810",
   "metadata": {},
   "outputs": [
    {
     "name": "stdout",
     "output_type": "stream",
     "text": [
      "12 3\n"
     ]
    }
   ],
   "source": [
    "print(no1, no2)"
   ]
  },
  {
   "cell_type": "code",
   "execution_count": 92,
   "id": "a85dd881",
   "metadata": {},
   "outputs": [
    {
     "name": "stdout",
     "output_type": "stream",
     "text": [
      "True\n"
     ]
    }
   ],
   "source": [
    "print(no1>no2)"
   ]
  },
  {
   "cell_type": "code",
   "execution_count": 93,
   "id": "f5abcbca",
   "metadata": {},
   "outputs": [
    {
     "name": "stdout",
     "output_type": "stream",
     "text": [
      "True\n"
     ]
    }
   ],
   "source": [
    "print(no1>=no2)"
   ]
  },
  {
   "cell_type": "code",
   "execution_count": 94,
   "id": "6732aea8",
   "metadata": {},
   "outputs": [
    {
     "name": "stdout",
     "output_type": "stream",
     "text": [
      "False\n"
     ]
    }
   ],
   "source": [
    "print(no1<no2)"
   ]
  },
  {
   "cell_type": "code",
   "execution_count": 95,
   "id": "f61851b7",
   "metadata": {},
   "outputs": [
    {
     "name": "stdout",
     "output_type": "stream",
     "text": [
      "False\n"
     ]
    }
   ],
   "source": [
    "print(no1<=no2)"
   ]
  },
  {
   "cell_type": "code",
   "execution_count": 96,
   "id": "c6bafdcd",
   "metadata": {},
   "outputs": [
    {
     "name": "stdout",
     "output_type": "stream",
     "text": [
      "False\n"
     ]
    }
   ],
   "source": [
    "print(no1==no2)"
   ]
  },
  {
   "cell_type": "code",
   "execution_count": 97,
   "id": "9d6e4a38",
   "metadata": {},
   "outputs": [
    {
     "name": "stdout",
     "output_type": "stream",
     "text": [
      "True\n"
     ]
    }
   ],
   "source": [
    "print(no1!=no2)"
   ]
  },
  {
   "cell_type": "code",
   "execution_count": 105,
   "id": "17495b98",
   "metadata": {},
   "outputs": [
    {
     "data": {
      "text/plain": [
       "False"
      ]
     },
     "execution_count": 105,
     "metadata": {},
     "output_type": "execute_result"
    }
   ],
   "source": [
    "not((no1>=no2) and (no1!=no2))"
   ]
  },
  {
   "cell_type": "code",
   "execution_count": 106,
   "id": "cfdaf36d",
   "metadata": {},
   "outputs": [
    {
     "data": {
      "text/plain": [
       "False"
      ]
     },
     "execution_count": 106,
     "metadata": {},
     "output_type": "execute_result"
    }
   ],
   "source": [
    "not((no1!=no2))"
   ]
  },
  {
   "cell_type": "code",
   "execution_count": 107,
   "id": "73b9ca13",
   "metadata": {},
   "outputs": [
    {
     "data": {
      "text/plain": [
       "'0b1010'"
      ]
     },
     "execution_count": 107,
     "metadata": {},
     "output_type": "execute_result"
    }
   ],
   "source": [
    "bin(10)"
   ]
  },
  {
   "cell_type": "code",
   "execution_count": 108,
   "id": "05ed5d51",
   "metadata": {},
   "outputs": [
    {
     "data": {
      "text/plain": [
       "'0b100'"
      ]
     },
     "execution_count": 108,
     "metadata": {},
     "output_type": "execute_result"
    }
   ],
   "source": [
    "bin(4)"
   ]
  },
  {
   "cell_type": "code",
   "execution_count": 109,
   "id": "904670b9",
   "metadata": {},
   "outputs": [
    {
     "data": {
      "text/plain": [
       "0"
      ]
     },
     "execution_count": 109,
     "metadata": {},
     "output_type": "execute_result"
    }
   ],
   "source": [
    "10 & 4"
   ]
  },
  {
   "cell_type": "code",
   "execution_count": 110,
   "id": "b7214f76",
   "metadata": {},
   "outputs": [
    {
     "data": {
      "text/plain": [
       "14"
      ]
     },
     "execution_count": 110,
     "metadata": {},
     "output_type": "execute_result"
    }
   ],
   "source": [
    "10 | 4"
   ]
  },
  {
   "cell_type": "code",
   "execution_count": 111,
   "id": "7cf0ffc4",
   "metadata": {},
   "outputs": [
    {
     "data": {
      "text/plain": [
       "14"
      ]
     },
     "execution_count": 111,
     "metadata": {},
     "output_type": "execute_result"
    }
   ],
   "source": [
    "10 ^ 4"
   ]
  },
  {
   "cell_type": "code",
   "execution_count": 112,
   "id": "2e3e529b",
   "metadata": {},
   "outputs": [],
   "source": [
    "a = 5"
   ]
  },
  {
   "cell_type": "code",
   "execution_count": 113,
   "id": "519ced50",
   "metadata": {},
   "outputs": [],
   "source": [
    "a = a+1"
   ]
  },
  {
   "cell_type": "code",
   "execution_count": 114,
   "id": "deb7002a",
   "metadata": {},
   "outputs": [
    {
     "data": {
      "text/plain": [
       "6"
      ]
     },
     "execution_count": 114,
     "metadata": {},
     "output_type": "execute_result"
    }
   ],
   "source": [
    "a"
   ]
  },
  {
   "cell_type": "code",
   "execution_count": 115,
   "id": "4aace444",
   "metadata": {},
   "outputs": [],
   "source": [
    "a+=2"
   ]
  },
  {
   "cell_type": "code",
   "execution_count": 116,
   "id": "748c2a1c",
   "metadata": {},
   "outputs": [
    {
     "data": {
      "text/plain": [
       "8"
      ]
     },
     "execution_count": 116,
     "metadata": {},
     "output_type": "execute_result"
    }
   ],
   "source": [
    "a"
   ]
  },
  {
   "cell_type": "code",
   "execution_count": 117,
   "id": "0ad3925f",
   "metadata": {},
   "outputs": [],
   "source": [
    "a-=3"
   ]
  },
  {
   "cell_type": "code",
   "execution_count": 118,
   "id": "eb5f46c3",
   "metadata": {},
   "outputs": [
    {
     "data": {
      "text/plain": [
       "5"
      ]
     },
     "execution_count": 118,
     "metadata": {},
     "output_type": "execute_result"
    }
   ],
   "source": [
    "a"
   ]
  },
  {
   "cell_type": "code",
   "execution_count": 119,
   "id": "bb45904f",
   "metadata": {},
   "outputs": [],
   "source": [
    "a*=2"
   ]
  },
  {
   "cell_type": "code",
   "execution_count": 120,
   "id": "2beb3111",
   "metadata": {},
   "outputs": [
    {
     "data": {
      "text/plain": [
       "10"
      ]
     },
     "execution_count": 120,
     "metadata": {},
     "output_type": "execute_result"
    }
   ],
   "source": [
    "a"
   ]
  },
  {
   "cell_type": "code",
   "execution_count": 121,
   "id": "d1f972f0",
   "metadata": {},
   "outputs": [],
   "source": [
    "a/=3"
   ]
  },
  {
   "cell_type": "code",
   "execution_count": 122,
   "id": "21b7d09f",
   "metadata": {},
   "outputs": [
    {
     "data": {
      "text/plain": [
       "3.3333333333333335"
      ]
     },
     "execution_count": 122,
     "metadata": {},
     "output_type": "execute_result"
    }
   ],
   "source": [
    "a"
   ]
  },
  {
   "cell_type": "code",
   "execution_count": 123,
   "id": "421a6bdf",
   "metadata": {},
   "outputs": [],
   "source": [
    "a//=2"
   ]
  },
  {
   "cell_type": "code",
   "execution_count": 124,
   "id": "84e25dc9",
   "metadata": {},
   "outputs": [
    {
     "data": {
      "text/plain": [
       "1.0"
      ]
     },
     "execution_count": 124,
     "metadata": {},
     "output_type": "execute_result"
    }
   ],
   "source": [
    "a"
   ]
  },
  {
   "cell_type": "code",
   "execution_count": 129,
   "id": "63961be2",
   "metadata": {},
   "outputs": [],
   "source": [
    "a, b , c, d, e = \"ML\", \"DL\", \"DS\", 12,23.6"
   ]
  },
  {
   "cell_type": "code",
   "execution_count": 130,
   "id": "b78b6007",
   "metadata": {},
   "outputs": [
    {
     "data": {
      "text/plain": [
       "'ML'"
      ]
     },
     "execution_count": 130,
     "metadata": {},
     "output_type": "execute_result"
    }
   ],
   "source": [
    "a"
   ]
  },
  {
   "cell_type": "code",
   "execution_count": 131,
   "id": "68f91537",
   "metadata": {},
   "outputs": [
    {
     "data": {
      "text/plain": [
       "'DL'"
      ]
     },
     "execution_count": 131,
     "metadata": {},
     "output_type": "execute_result"
    }
   ],
   "source": [
    "b"
   ]
  },
  {
   "cell_type": "code",
   "execution_count": 132,
   "id": "9b83ebd1",
   "metadata": {},
   "outputs": [
    {
     "data": {
      "text/plain": [
       "'DS'"
      ]
     },
     "execution_count": 132,
     "metadata": {},
     "output_type": "execute_result"
    }
   ],
   "source": [
    "c"
   ]
  },
  {
   "cell_type": "code",
   "execution_count": 133,
   "id": "c091f77d",
   "metadata": {},
   "outputs": [
    {
     "data": {
      "text/plain": [
       "12"
      ]
     },
     "execution_count": 133,
     "metadata": {},
     "output_type": "execute_result"
    }
   ],
   "source": [
    "d"
   ]
  },
  {
   "cell_type": "code",
   "execution_count": 134,
   "id": "dc489744",
   "metadata": {},
   "outputs": [
    {
     "data": {
      "text/plain": [
       "23.6"
      ]
     },
     "execution_count": 134,
     "metadata": {},
     "output_type": "execute_result"
    }
   ],
   "source": [
    "e"
   ]
  },
  {
   "cell_type": "code",
   "execution_count": 135,
   "id": "1c0a998e",
   "metadata": {},
   "outputs": [],
   "source": [
    "a= b = c = d = 100"
   ]
  },
  {
   "cell_type": "code",
   "execution_count": 136,
   "id": "7501eb4c",
   "metadata": {},
   "outputs": [
    {
     "data": {
      "text/plain": [
       "100"
      ]
     },
     "execution_count": 136,
     "metadata": {},
     "output_type": "execute_result"
    }
   ],
   "source": [
    "a"
   ]
  },
  {
   "cell_type": "code",
   "execution_count": 137,
   "id": "5078461f",
   "metadata": {},
   "outputs": [
    {
     "data": {
      "text/plain": [
       "100"
      ]
     },
     "execution_count": 137,
     "metadata": {},
     "output_type": "execute_result"
    }
   ],
   "source": [
    "b"
   ]
  },
  {
   "cell_type": "code",
   "execution_count": 138,
   "id": "9912f44f",
   "metadata": {},
   "outputs": [
    {
     "data": {
      "text/plain": [
       "100"
      ]
     },
     "execution_count": 138,
     "metadata": {},
     "output_type": "execute_result"
    }
   ],
   "source": [
    "c"
   ]
  },
  {
   "cell_type": "code",
   "execution_count": 139,
   "id": "17004a9d",
   "metadata": {},
   "outputs": [
    {
     "data": {
      "text/plain": [
       "100"
      ]
     },
     "execution_count": 139,
     "metadata": {},
     "output_type": "execute_result"
    }
   ],
   "source": [
    "d"
   ]
  },
  {
   "cell_type": "code",
   "execution_count": 140,
   "id": "3ea5e3af",
   "metadata": {},
   "outputs": [],
   "source": [
    "my_str = \"I am revisiong Python\""
   ]
  },
  {
   "cell_type": "code",
   "execution_count": 141,
   "id": "ac1b3ca2",
   "metadata": {},
   "outputs": [
    {
     "data": {
      "text/plain": [
       "True"
      ]
     },
     "execution_count": 141,
     "metadata": {},
     "output_type": "execute_result"
    }
   ],
   "source": [
    "'I' in my_str"
   ]
  },
  {
   "cell_type": "code",
   "execution_count": 142,
   "id": "fd8ec948",
   "metadata": {},
   "outputs": [
    {
     "data": {
      "text/plain": [
       "'I am revisiong Python'"
      ]
     },
     "execution_count": 142,
     "metadata": {},
     "output_type": "execute_result"
    }
   ],
   "source": [
    "my_str"
   ]
  },
  {
   "cell_type": "code",
   "execution_count": 143,
   "id": "18da3277",
   "metadata": {},
   "outputs": [
    {
     "data": {
      "text/plain": [
       "False"
      ]
     },
     "execution_count": 143,
     "metadata": {},
     "output_type": "execute_result"
    }
   ],
   "source": [
    "'I' not in my_str"
   ]
  },
  {
   "cell_type": "code",
   "execution_count": 144,
   "id": "76a40078",
   "metadata": {},
   "outputs": [
    {
     "data": {
      "text/plain": [
       "False"
      ]
     },
     "execution_count": 144,
     "metadata": {},
     "output_type": "execute_result"
    }
   ],
   "source": [
    "\"python\" in my_str"
   ]
  },
  {
   "cell_type": "code",
   "execution_count": 145,
   "id": "05c1a6f4",
   "metadata": {},
   "outputs": [
    {
     "data": {
      "text/plain": [
       "False"
      ]
     },
     "execution_count": 145,
     "metadata": {},
     "output_type": "execute_result"
    }
   ],
   "source": [
    "\"Python\" not in my_str"
   ]
  },
  {
   "cell_type": "code",
   "execution_count": 146,
   "id": "d832a77d",
   "metadata": {},
   "outputs": [
    {
     "data": {
      "text/plain": [
       "True"
      ]
     },
     "execution_count": 146,
     "metadata": {},
     "output_type": "execute_result"
    }
   ],
   "source": [
    "\"Python\" in my_str"
   ]
  },
  {
   "cell_type": "code",
   "execution_count": 147,
   "id": "712a5432",
   "metadata": {},
   "outputs": [],
   "source": [
    "n1 = 1000\n",
    "n2 = 1000"
   ]
  },
  {
   "cell_type": "code",
   "execution_count": 148,
   "id": "5dac6727",
   "metadata": {},
   "outputs": [
    {
     "data": {
      "text/plain": [
       "False"
      ]
     },
     "execution_count": 148,
     "metadata": {},
     "output_type": "execute_result"
    }
   ],
   "source": [
    "n1 is n2"
   ]
  },
  {
   "cell_type": "code",
   "execution_count": 149,
   "id": "7a16408a",
   "metadata": {},
   "outputs": [
    {
     "data": {
      "text/plain": [
       "2232165887120"
      ]
     },
     "execution_count": 149,
     "metadata": {},
     "output_type": "execute_result"
    }
   ],
   "source": [
    "id(n1)"
   ]
  },
  {
   "cell_type": "code",
   "execution_count": 150,
   "id": "1b86d582",
   "metadata": {},
   "outputs": [
    {
     "data": {
      "text/plain": [
       "2232165887728"
      ]
     },
     "execution_count": 150,
     "metadata": {},
     "output_type": "execute_result"
    }
   ],
   "source": [
    "id(n2)"
   ]
  },
  {
   "cell_type": "code",
   "execution_count": 151,
   "id": "8657b819",
   "metadata": {},
   "outputs": [
    {
     "data": {
      "text/plain": [
       "True"
      ]
     },
     "execution_count": 151,
     "metadata": {},
     "output_type": "execute_result"
    }
   ],
   "source": [
    "n1==n2"
   ]
  },
  {
   "cell_type": "code",
   "execution_count": 152,
   "id": "1ff14530",
   "metadata": {},
   "outputs": [
    {
     "data": {
      "text/plain": [
       "True"
      ]
     },
     "execution_count": 152,
     "metadata": {},
     "output_type": "execute_result"
    }
   ],
   "source": [
    "n1 is not n2"
   ]
  },
  {
   "cell_type": "code",
   "execution_count": 159,
   "id": "8ca86b34",
   "metadata": {},
   "outputs": [
    {
     "name": "stdout",
     "output_type": "stream",
     "text": [
      "Enter your age:18\n"
     ]
    }
   ],
   "source": [
    "age = int(input(\"Enter your age:\"))"
   ]
  },
  {
   "cell_type": "code",
   "execution_count": 160,
   "id": "c47fa5e6",
   "metadata": {},
   "outputs": [
    {
     "name": "stdout",
     "output_type": "stream",
     "text": [
      "You are eligible for voting...\n",
      "Please vote its your Duty..\n"
     ]
    }
   ],
   "source": [
    "if age>=18:\n",
    "    print('You are eligible for voting...')\n",
    "    print(\"Please vote its your Duty..\")\n",
    "else:\n",
    "    print('Grow up kidd.....')\n",
    "    print('Please wait')"
   ]
  },
  {
   "cell_type": "code",
   "execution_count": 164,
   "id": "528430a1",
   "metadata": {},
   "outputs": [
    {
     "name": "stdout",
     "output_type": "stream",
     "text": [
      "Its a negative number\n"
     ]
    }
   ],
   "source": [
    "num = -5\n",
    "\n",
    "if num>0:\n",
    "    print('Its a positive number')\n",
    "elif num==0:\n",
    "    print('Its zero...')\n",
    "else:\n",
    "    print(\"Its a negative number\")"
   ]
  },
  {
   "cell_type": "code",
   "execution_count": 171,
   "id": "387c984d",
   "metadata": {},
   "outputs": [
    {
     "name": "stdout",
     "output_type": "stream",
     "text": [
      "Enter your number:-10\n"
     ]
    }
   ],
   "source": [
    "number = int(input('Enter your number:'))"
   ]
  },
  {
   "cell_type": "code",
   "execution_count": 172,
   "id": "aca154cb",
   "metadata": {},
   "outputs": [
    {
     "name": "stdout",
     "output_type": "stream",
     "text": [
      "Negative number\n"
     ]
    }
   ],
   "source": [
    "if number>=0:\n",
    "    if number==0:\n",
    "        print('Zero number')\n",
    "    else:\n",
    "        print('Positive number')\n",
    "else:\n",
    "    print('Negative number')"
   ]
  },
  {
   "cell_type": "code",
   "execution_count": 173,
   "id": "d24ac69a",
   "metadata": {},
   "outputs": [],
   "source": [
    "#Q - Python program to find the largest element among three Numbers"
   ]
  },
  {
   "cell_type": "code",
   "execution_count": 181,
   "id": "d7c26ada",
   "metadata": {},
   "outputs": [
    {
     "name": "stdout",
     "output_type": "stream",
     "text": [
      "first number:1000\n",
      "second number:20\n",
      "third number:30\n"
     ]
    }
   ],
   "source": [
    "A = int(input('first number:',))\n",
    "B = int(input('second number:',))\n",
    "C = int(input('third number:',))"
   ]
  },
  {
   "cell_type": "code",
   "execution_count": 182,
   "id": "f3cd38d7",
   "metadata": {},
   "outputs": [
    {
     "name": "stdout",
     "output_type": "stream",
     "text": [
      "1000 is largest\n"
     ]
    }
   ],
   "source": [
    "if (A>=B) and (A>=C):\n",
    "    print(f\"{A} is largest\")\n",
    "elif(B>=C) and (B>=A):\n",
    "    print(f\"{B} is largest\")\n",
    "else:\n",
    "    print(f\"{C} is largest\")"
   ]
  },
  {
   "cell_type": "code",
   "execution_count": 186,
   "id": "6748f386",
   "metadata": {},
   "outputs": [
    {
     "name": "stdout",
     "output_type": "stream",
     "text": [
      "1,3,5,7,9,11,13,15,17,19,"
     ]
    }
   ],
   "source": [
    "i = 1\n",
    "\n",
    "while i<=20:\n",
    "    if (i%2!=0):\n",
    "        print(i, end=\",\")\n",
    "    i+=1"
   ]
  },
  {
   "cell_type": "code",
   "execution_count": 192,
   "id": "44a4e2c3",
   "metadata": {},
   "outputs": [
    {
     "data": {
      "text/plain": [
       "[2, 5, 8, 11, 14, 17]"
      ]
     },
     "execution_count": 192,
     "metadata": {},
     "output_type": "execute_result"
    }
   ],
   "source": [
    "list(range(2,20,3))"
   ]
  },
  {
   "cell_type": "code",
   "execution_count": 203,
   "id": "aa8581e3",
   "metadata": {},
   "outputs": [
    {
     "name": "stdout",
     "output_type": "stream",
     "text": [
      "1,3,5,7,9,11,13,15,17,19,\n",
      "No elements left\n"
     ]
    }
   ],
   "source": [
    "for i in range(1,21):\n",
    "    if i%2!=0:\n",
    "        print(i, end=\",\")\n",
    "else:\n",
    "    print()\n",
    "    print(\"No elements left\")"
   ]
  },
  {
   "cell_type": "code",
   "execution_count": 199,
   "id": "564ca91c",
   "metadata": {},
   "outputs": [
    {
     "name": "stdout",
     "output_type": "stream",
     "text": [
      "1,3,5,7,9,11,13,15,17,19,"
     ]
    }
   ],
   "source": [
    "for i in range(1,21,2):\n",
    "    print(i, end=\",\")"
   ]
  },
  {
   "cell_type": "code",
   "execution_count": 200,
   "id": "526907b5",
   "metadata": {},
   "outputs": [
    {
     "name": "stdout",
     "output_type": "stream",
     "text": [
      "2,4,6,8,10,12,14,16,18,20,"
     ]
    }
   ],
   "source": [
    "for i in range(2,21,2):\n",
    "    print(i, end=\",\")"
   ]
  },
  {
   "cell_type": "code",
   "execution_count": 207,
   "id": "984da679",
   "metadata": {},
   "outputs": [
    {
     "name": "stdout",
     "output_type": "stream",
     "text": [
      "500\n"
     ]
    }
   ],
   "source": [
    "n = int(input())"
   ]
  },
  {
   "cell_type": "code",
   "execution_count": 208,
   "id": "a4f38ed0",
   "metadata": {},
   "outputs": [
    {
     "data": {
      "text/plain": [
       "500"
      ]
     },
     "execution_count": 208,
     "metadata": {},
     "output_type": "execute_result"
    }
   ],
   "source": [
    "n"
   ]
  },
  {
   "cell_type": "code",
   "execution_count": 210,
   "id": "8ca3f6d6",
   "metadata": {},
   "outputs": [
    {
     "name": "stdout",
     "output_type": "stream",
     "text": [
      "500x1=500\n",
      "500x2=1000\n",
      "500x3=1500\n",
      "500x4=2000\n",
      "500x5=2500\n",
      "500x6=3000\n",
      "500x7=3500\n",
      "500x8=4000\n",
      "500x9=4500\n",
      "500x10=5000\n",
      "All done\n"
     ]
    }
   ],
   "source": [
    "for i in range(1,11):\n",
    "    print(f\"{n}x{i}={n*i}\")\n",
    "else:\n",
    "    print(\"All done\")"
   ]
  },
  {
   "cell_type": "code",
   "execution_count": 211,
   "id": "1aa8ba34",
   "metadata": {},
   "outputs": [],
   "source": [
    "# *\n",
    "# **\n",
    "# ***\n",
    "# ****\n",
    "# *****"
   ]
  },
  {
   "cell_type": "code",
   "execution_count": 230,
   "id": "4fe6cb80",
   "metadata": {},
   "outputs": [
    {
     "name": "stdout",
     "output_type": "stream",
     "text": [
      "10\n"
     ]
    }
   ],
   "source": [
    "n = int(input())"
   ]
  },
  {
   "cell_type": "code",
   "execution_count": 231,
   "id": "03e40b4c",
   "metadata": {},
   "outputs": [
    {
     "name": "stdout",
     "output_type": "stream",
     "text": [
      "*\n",
      "**\n",
      "***\n",
      "****\n",
      "*****\n",
      "******\n",
      "*******\n",
      "********\n",
      "*********\n",
      "**********\n"
     ]
    }
   ],
   "source": [
    "for i in range(1,n+1):\n",
    "    for i in range(1,i+1):\n",
    "        print(\"*\", end=\"\")\n",
    "    print()"
   ]
  },
  {
   "cell_type": "code",
   "execution_count": 232,
   "id": "e7afe0aa",
   "metadata": {},
   "outputs": [
    {
     "data": {
      "text/plain": [
       "'HelloHelloHello'"
      ]
     },
     "execution_count": 232,
     "metadata": {},
     "output_type": "execute_result"
    }
   ],
   "source": [
    "\"Hello\"*3"
   ]
  },
  {
   "cell_type": "code",
   "execution_count": 233,
   "id": "dcedcc92",
   "metadata": {},
   "outputs": [
    {
     "name": "stdout",
     "output_type": "stream",
     "text": [
      "*\n",
      "**\n",
      "***\n",
      "****\n",
      "*****\n",
      "******\n",
      "*******\n",
      "********\n",
      "*********\n",
      "**********\n",
      "**********\n",
      "*********\n",
      "********\n",
      "*******\n",
      "******\n",
      "*****\n",
      "****\n",
      "***\n",
      "**\n",
      "*\n"
     ]
    }
   ],
   "source": [
    "for i in range(1,n+1):\n",
    "    print(\"*\"*i)\n",
    "    \n",
    "for i in range(n,0,-1):\n",
    "    print(\"*\"*i)"
   ]
  },
  {
   "cell_type": "code",
   "execution_count": 234,
   "id": "54a5c461",
   "metadata": {},
   "outputs": [
    {
     "name": "stdout",
     "output_type": "stream",
     "text": [
      "**********\n",
      "*********\n",
      "********\n",
      "*******\n",
      "******\n",
      "*****\n",
      "****\n",
      "***\n",
      "**\n",
      "*\n"
     ]
    }
   ],
   "source": [
    "for i in range(n,0,-1):\n",
    "    print(\"*\"*i)"
   ]
  },
  {
   "cell_type": "markdown",
   "id": "3c8ef82b",
   "metadata": {},
   "source": [
    "Q - 1 Given a variable n, calculate the sum of first n numbers.\n",
    "e.g: n = 5 1 + 2 + 3 + 4 + 5 = 15\n",
    "\n",
    "e.g n = 3 1 + 2 + 3 = 6"
   ]
  },
  {
   "cell_type": "code",
   "execution_count": 237,
   "id": "51436f64",
   "metadata": {},
   "outputs": [],
   "source": [
    "s = 0\n",
    "for i in range(1,n+1):\n",
    "    s+=i"
   ]
  },
  {
   "cell_type": "code",
   "execution_count": 239,
   "id": "18203a60",
   "metadata": {},
   "outputs": [
    {
     "name": "stdout",
     "output_type": "stream",
     "text": [
      "the sum of n natural numbers are 55\n"
     ]
    }
   ],
   "source": [
    "print(f\"the sum of n natural numbers are {s}\")"
   ]
  },
  {
   "cell_type": "code",
   "execution_count": null,
   "id": "b7abbdf1",
   "metadata": {},
   "outputs": [],
   "source": []
  },
  {
   "cell_type": "code",
   "execution_count": 363,
   "id": "18ae81f7",
   "metadata": {},
   "outputs": [
    {
     "name": "stdout",
     "output_type": "stream",
     "text": [
      "9\n"
     ]
    }
   ],
   "source": [
    "n = int(input())"
   ]
  },
  {
   "cell_type": "code",
   "execution_count": 364,
   "id": "47cd085a",
   "metadata": {},
   "outputs": [
    {
     "data": {
      "text/plain": [
       "9"
      ]
     },
     "execution_count": 364,
     "metadata": {},
     "output_type": "execute_result"
    }
   ],
   "source": [
    "n"
   ]
  },
  {
   "cell_type": "code",
   "execution_count": 365,
   "id": "9231f8c2",
   "metadata": {},
   "outputs": [
    {
     "name": "stdout",
     "output_type": "stream",
     "text": [
      "The given number is prime\n"
     ]
    }
   ],
   "source": [
    "if n>=2:\n",
    "    is_prime = True\n",
    "    if n==2:\n",
    "        print(\"2 is a prime number\")\n",
    "    else:\n",
    "        for i in range(2,n):\n",
    "            if n%i==0:\n",
    "                is_prime = False\n",
    "                print(\"The given number is not prime\")\n",
    "                break\n",
    "            else:\n",
    "                print('The given number is prime')\n",
    "                break\n",
    "elif (n==0) or (n==1):\n",
    "    print(\"The given number is either zero or one\")\n",
    "                \n",
    "else:\n",
    "    print(\"The given number is negative\")\n",
    "                "
   ]
  },
  {
   "cell_type": "code",
   "execution_count": 381,
   "id": "c119352d",
   "metadata": {},
   "outputs": [],
   "source": [
    "n = 2\n",
    "is_prime = True\n",
    "if n<=1:\n",
    "    print(\"in valid number\")\n",
    "else:\n",
    "    for i in range(2, int(n ** 0.5) + 1):\n",
    "        if n % i == 0:\n",
    "            is_prime=False\n",
    "            print(\"The given number is not prime\")\n",
    "            break\n",
    "        else:\n",
    "            print(\"The given number is prime\")\n",
    "            break"
   ]
  },
  {
   "cell_type": "code",
   "execution_count": 393,
   "id": "cee79ba7",
   "metadata": {},
   "outputs": [
    {
     "name": "stdout",
     "output_type": "stream",
     "text": [
      "Enter a number: 2\n",
      "2 is a prime number\n"
     ]
    }
   ],
   "source": [
    "def is_prime(n):\n",
    "    if n <= 1:\n",
    "        return False\n",
    "    for i in range(2, int(n ** 0.5) + 1):\n",
    "        if n % i == 0:\n",
    "            return False\n",
    "    return True\n",
    "\n",
    "# Test the function\n",
    "number = int(input(\"Enter a number: \"))\n",
    "if is_prime(number):\n",
    "    print(number, \"is a prime number\")\n",
    "else:\n",
    "    print(number, \"is not a prime number\")"
   ]
  },
  {
   "cell_type": "code",
   "execution_count": 414,
   "id": "9ff924bb",
   "metadata": {},
   "outputs": [
    {
     "name": "stdout",
     "output_type": "stream",
     "text": [
      "12\n"
     ]
    }
   ],
   "source": [
    "number = int(input())"
   ]
  },
  {
   "cell_type": "code",
   "execution_count": 415,
   "id": "f3b487d5",
   "metadata": {},
   "outputs": [
    {
     "name": "stdout",
     "output_type": "stream",
     "text": [
      "12 is not a prime number\n"
     ]
    }
   ],
   "source": [
    "def is_prime(n):\n",
    "    if n<=1:\n",
    "        return False\n",
    "    for i in range(2,int(n**0.5)+1):\n",
    "        if n%i==0:\n",
    "            return False\n",
    "    return True\n",
    "\n",
    "if is_prime(number):\n",
    "    print(number,\"is a prime number\")\n",
    "else:\n",
    "    print(number,\"is not a prime number\")"
   ]
  },
  {
   "cell_type": "code",
   "execution_count": 417,
   "id": "afe9b0bc",
   "metadata": {},
   "outputs": [
    {
     "name": "stdout",
     "output_type": "stream",
     "text": [
      "0\n"
     ]
    }
   ],
   "source": [
    "number = int(input())\n"
   ]
  },
  {
   "cell_type": "code",
   "execution_count": 422,
   "id": "05d8757e",
   "metadata": {},
   "outputs": [
    {
     "name": "stdout",
     "output_type": "stream",
     "text": [
      "1\n",
      "2\n",
      "3\n",
      "4\n"
     ]
    }
   ],
   "source": [
    "for i in range(1,10):\n",
    "    if i==5:\n",
    "        break\n",
    "    print(i)\n",
    "else:\n",
    "    print('no elements left')"
   ]
  },
  {
   "cell_type": "code",
   "execution_count": 423,
   "id": "a1a94526",
   "metadata": {},
   "outputs": [
    {
     "name": "stdout",
     "output_type": "stream",
     "text": [
      "1\n",
      "2\n",
      "3\n",
      "4\n",
      "6\n",
      "7\n",
      "8\n",
      "9\n",
      "no elements left\n"
     ]
    }
   ],
   "source": [
    "for i in range(1,10):\n",
    "    if i==5:\n",
    "        continue\n",
    "    print(i)\n",
    "else:\n",
    "    print('no elements left')"
   ]
  },
  {
   "cell_type": "code",
   "execution_count": 424,
   "id": "4925880a",
   "metadata": {},
   "outputs": [],
   "source": [
    "for i in range(1,21):\n",
    "    pass"
   ]
  },
  {
   "cell_type": "code",
   "execution_count": 425,
   "id": "b56f73b2",
   "metadata": {},
   "outputs": [],
   "source": [
    "if 4>6:\n",
    "    pass"
   ]
  },
  {
   "cell_type": "code",
   "execution_count": null,
   "id": "d189456b",
   "metadata": {},
   "outputs": [],
   "source": []
  }
 ],
 "metadata": {
  "kernelspec": {
   "display_name": "Python 3",
   "language": "python",
   "name": "python3"
  },
  "language_info": {
   "codemirror_mode": {
    "name": "ipython",
    "version": 3
   },
   "file_extension": ".py",
   "mimetype": "text/x-python",
   "name": "python",
   "nbconvert_exporter": "python",
   "pygments_lexer": "ipython3",
   "version": "3.8.8"
  }
 },
 "nbformat": 4,
 "nbformat_minor": 5
}
