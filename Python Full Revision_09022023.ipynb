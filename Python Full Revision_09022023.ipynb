{
 "cells": [
  {
   "cell_type": "markdown",
   "id": "0935c11d",
   "metadata": {},
   "source": [
    "# Pyhton Fundamentals\n",
    "\n",
    "* Python Basics\n",
    "* Operators and expressions\n",
    "* Control Flow\n"
   ]
  },
  {
   "cell_type": "code",
   "execution_count": 1,
   "id": "a6487e61",
   "metadata": {},
   "outputs": [
    {
     "name": "stdout",
     "output_type": "stream",
     "text": [
      "\n"
     ]
    }
   ],
   "source": [
    "print()"
   ]
  },
  {
   "cell_type": "code",
   "execution_count": 2,
   "id": "0f246db5",
   "metadata": {},
   "outputs": [
    {
     "name": "stdout",
     "output_type": "stream",
     "text": [
      "Hello world\n"
     ]
    }
   ],
   "source": [
    "# This is a comment\n",
    "# This line will not be executed\n",
    "\n",
    "print(\"Hello world\")\n"
   ]
  },
  {
   "cell_type": "code",
   "execution_count": 3,
   "id": "f6b409ed",
   "metadata": {},
   "outputs": [
    {
     "name": "stdout",
     "output_type": "stream",
     "text": [
      "Hello Students\n"
     ]
    }
   ],
   "source": [
    "print(\"Hello Students\")"
   ]
  },
  {
   "cell_type": "code",
   "execution_count": 4,
   "id": "4bbad851",
   "metadata": {},
   "outputs": [
    {
     "name": "stdout",
     "output_type": "stream",
     "text": [
      "Python Data Scienece 100\n"
     ]
    }
   ],
   "source": [
    "print(\"Python\", \"Data Scienece\", 100)"
   ]
  },
  {
   "cell_type": "code",
   "execution_count": 5,
   "id": "3a6defcb",
   "metadata": {},
   "outputs": [],
   "source": [
    "i = 80 "
   ]
  },
  {
   "cell_type": "code",
   "execution_count": 6,
   "id": "a58699f2",
   "metadata": {},
   "outputs": [
    {
     "name": "stdout",
     "output_type": "stream",
     "text": [
      "80\n"
     ]
    }
   ],
   "source": [
    "print(i)"
   ]
  },
  {
   "cell_type": "code",
   "execution_count": 7,
   "id": "1e6efa66",
   "metadata": {},
   "outputs": [],
   "source": [
    "abc1 = 150"
   ]
  },
  {
   "cell_type": "code",
   "execution_count": 8,
   "id": "22030ffb",
   "metadata": {},
   "outputs": [
    {
     "ename": "SyntaxError",
     "evalue": "invalid syntax (<ipython-input-8-366624fb0188>, line 1)",
     "output_type": "error",
     "traceback": [
      "\u001b[1;36m  File \u001b[1;32m\"<ipython-input-8-366624fb0188>\"\u001b[1;36m, line \u001b[1;32m1\u001b[0m\n\u001b[1;33m    1abc = 150\u001b[0m\n\u001b[1;37m     ^\u001b[0m\n\u001b[1;31mSyntaxError\u001b[0m\u001b[1;31m:\u001b[0m invalid syntax\n"
     ]
    }
   ],
   "source": [
    "1abc = 150"
   ]
  },
  {
   "cell_type": "code",
   "execution_count": 9,
   "id": "0ef2e24c",
   "metadata": {},
   "outputs": [
    {
     "data": {
      "text/plain": [
       "int"
      ]
     },
     "execution_count": 9,
     "metadata": {},
     "output_type": "execute_result"
    }
   ],
   "source": [
    "type(abc1)"
   ]
  },
  {
   "cell_type": "code",
   "execution_count": 10,
   "id": "45901046",
   "metadata": {},
   "outputs": [
    {
     "data": {
      "text/plain": [
       "140727099142416"
      ]
     },
     "execution_count": 10,
     "metadata": {},
     "output_type": "execute_result"
    }
   ],
   "source": [
    "id(i)"
   ]
  },
  {
   "cell_type": "code",
   "execution_count": 11,
   "id": "05b27722",
   "metadata": {},
   "outputs": [
    {
     "name": "stdout",
     "output_type": "stream",
     "text": [
      "80\n"
     ]
    }
   ],
   "source": [
    "print(i)"
   ]
  },
  {
   "cell_type": "code",
   "execution_count": 12,
   "id": "186ddc7a",
   "metadata": {},
   "outputs": [],
   "source": [
    "i = \"Coding Minutes\""
   ]
  },
  {
   "cell_type": "code",
   "execution_count": 13,
   "id": "9c077bd5",
   "metadata": {},
   "outputs": [
    {
     "name": "stdout",
     "output_type": "stream",
     "text": [
      "Coding Minutes\n"
     ]
    }
   ],
   "source": [
    "print(i)"
   ]
  },
  {
   "cell_type": "code",
   "execution_count": 14,
   "id": "0beb6855",
   "metadata": {},
   "outputs": [
    {
     "data": {
      "text/plain": [
       "str"
      ]
     },
     "execution_count": 14,
     "metadata": {},
     "output_type": "execute_result"
    }
   ],
   "source": [
    "type(i)"
   ]
  },
  {
   "cell_type": "code",
   "execution_count": 15,
   "id": "aa9d75b6",
   "metadata": {},
   "outputs": [
    {
     "data": {
      "text/plain": [
       "2712423151792"
      ]
     },
     "execution_count": 15,
     "metadata": {},
     "output_type": "execute_result"
    }
   ],
   "source": [
    "id(i)"
   ]
  },
  {
   "cell_type": "code",
   "execution_count": 16,
   "id": "eb6b3f4a",
   "metadata": {},
   "outputs": [],
   "source": [
    "my_num = 55 "
   ]
  },
  {
   "cell_type": "code",
   "execution_count": 17,
   "id": "195d6ed2",
   "metadata": {},
   "outputs": [
    {
     "name": "stdout",
     "output_type": "stream",
     "text": [
      "55\n"
     ]
    }
   ],
   "source": [
    "print(my_num)"
   ]
  },
  {
   "cell_type": "code",
   "execution_count": 19,
   "id": "b4e7984f",
   "metadata": {},
   "outputs": [
    {
     "name": "stdout",
     "output_type": "stream",
     "text": [
      "<class 'int'>\n"
     ]
    }
   ],
   "source": [
    "print(type(my_num))"
   ]
  },
  {
   "cell_type": "code",
   "execution_count": 20,
   "id": "e5ca82a3",
   "metadata": {},
   "outputs": [],
   "source": [
    "my_f = 98.36"
   ]
  },
  {
   "cell_type": "code",
   "execution_count": 21,
   "id": "140290cf",
   "metadata": {},
   "outputs": [
    {
     "name": "stdout",
     "output_type": "stream",
     "text": [
      "98.36\n"
     ]
    }
   ],
   "source": [
    "print(my_f)"
   ]
  },
  {
   "cell_type": "code",
   "execution_count": 22,
   "id": "7f32468d",
   "metadata": {},
   "outputs": [
    {
     "name": "stdout",
     "output_type": "stream",
     "text": [
      "<class 'float'>\n"
     ]
    }
   ],
   "source": [
    "print(type(my_f))"
   ]
  },
  {
   "cell_type": "code",
   "execution_count": 23,
   "id": "c165c0cb",
   "metadata": {},
   "outputs": [],
   "source": [
    "my_c = 4+3j"
   ]
  },
  {
   "cell_type": "code",
   "execution_count": 25,
   "id": "0016cc07",
   "metadata": {},
   "outputs": [
    {
     "name": "stdout",
     "output_type": "stream",
     "text": [
      "<class 'complex'>\n"
     ]
    }
   ],
   "source": [
    "print(type(my_c))"
   ]
  },
  {
   "cell_type": "code",
   "execution_count": 26,
   "id": "a3c58d1e",
   "metadata": {},
   "outputs": [],
   "source": [
    "my_s = \"Machine leaning is very easy\""
   ]
  },
  {
   "cell_type": "code",
   "execution_count": 27,
   "id": "3e618d14",
   "metadata": {},
   "outputs": [
    {
     "name": "stdout",
     "output_type": "stream",
     "text": [
      "Machine leaning is very easy\n"
     ]
    }
   ],
   "source": [
    "print(my_s)"
   ]
  },
  {
   "cell_type": "code",
   "execution_count": 29,
   "id": "8c9f7d83",
   "metadata": {},
   "outputs": [
    {
     "name": "stdout",
     "output_type": "stream",
     "text": [
      "<class 'str'>\n"
     ]
    }
   ],
   "source": [
    "print(type(my_s))"
   ]
  },
  {
   "cell_type": "code",
   "execution_count": 31,
   "id": "96f6be2d",
   "metadata": {},
   "outputs": [],
   "source": [
    "my_bool = False  # True"
   ]
  },
  {
   "cell_type": "code",
   "execution_count": 32,
   "id": "a0ae332d",
   "metadata": {},
   "outputs": [
    {
     "name": "stdout",
     "output_type": "stream",
     "text": [
      "False\n"
     ]
    }
   ],
   "source": [
    "print(my_bool)"
   ]
  },
  {
   "cell_type": "code",
   "execution_count": 34,
   "id": "427fa036",
   "metadata": {},
   "outputs": [
    {
     "name": "stdout",
     "output_type": "stream",
     "text": [
      "<class 'bool'>\n"
     ]
    }
   ],
   "source": [
    "print(type(my_bool))"
   ]
  },
  {
   "cell_type": "code",
   "execution_count": 35,
   "id": "37170a4b",
   "metadata": {},
   "outputs": [],
   "source": [
    "my_none = None"
   ]
  },
  {
   "cell_type": "code",
   "execution_count": 36,
   "id": "15324234",
   "metadata": {},
   "outputs": [
    {
     "data": {
      "text/plain": [
       "NoneType"
      ]
     },
     "execution_count": 36,
     "metadata": {},
     "output_type": "execute_result"
    }
   ],
   "source": [
    "type(my_none)"
   ]
  },
  {
   "cell_type": "code",
   "execution_count": 37,
   "id": "f44fecb2",
   "metadata": {},
   "outputs": [
    {
     "name": "stdout",
     "output_type": "stream",
     "text": [
      "None\n"
     ]
    }
   ],
   "source": [
    "print(my_none)"
   ]
  },
  {
   "cell_type": "code",
   "execution_count": 39,
   "id": "b6371e45",
   "metadata": {},
   "outputs": [
    {
     "name": "stdout",
     "output_type": "stream",
     "text": [
      "Enter your name : Sanjay Kumar\n"
     ]
    }
   ],
   "source": [
    "name = input(\"Enter your name : \")"
   ]
  },
  {
   "cell_type": "code",
   "execution_count": 40,
   "id": "77184d2e",
   "metadata": {},
   "outputs": [
    {
     "name": "stdout",
     "output_type": "stream",
     "text": [
      "Sanjay Kumar\n"
     ]
    }
   ],
   "source": [
    "print(name)"
   ]
  },
  {
   "cell_type": "code",
   "execution_count": 42,
   "id": "9c9b4009",
   "metadata": {},
   "outputs": [
    {
     "name": "stdout",
     "output_type": "stream",
     "text": [
      "<class 'str'>\n"
     ]
    }
   ],
   "source": [
    "print(type(name))"
   ]
  },
  {
   "cell_type": "code",
   "execution_count": 43,
   "id": "e6a58c43",
   "metadata": {},
   "outputs": [],
   "source": [
    "num = \"8\""
   ]
  },
  {
   "cell_type": "code",
   "execution_count": 46,
   "id": "9fc63740",
   "metadata": {},
   "outputs": [
    {
     "name": "stdout",
     "output_type": "stream",
     "text": [
      "<class 'str'>\n"
     ]
    }
   ],
   "source": [
    "print(type(num))"
   ]
  },
  {
   "cell_type": "code",
   "execution_count": 45,
   "id": "35bf4667",
   "metadata": {},
   "outputs": [
    {
     "name": "stdout",
     "output_type": "stream",
     "text": [
      "8\n"
     ]
    }
   ],
   "source": [
    "print(num)"
   ]
  },
  {
   "cell_type": "code",
   "execution_count": 47,
   "id": "1090befd",
   "metadata": {},
   "outputs": [],
   "source": [
    "num = int(num)"
   ]
  },
  {
   "cell_type": "code",
   "execution_count": 50,
   "id": "b0e15953",
   "metadata": {},
   "outputs": [
    {
     "name": "stdout",
     "output_type": "stream",
     "text": [
      "<class 'int'>\n"
     ]
    }
   ],
   "source": [
    "print(type(num))"
   ]
  },
  {
   "cell_type": "code",
   "execution_count": 49,
   "id": "ab0db411",
   "metadata": {},
   "outputs": [
    {
     "name": "stdout",
     "output_type": "stream",
     "text": [
      "8\n"
     ]
    }
   ],
   "source": [
    "print(num)"
   ]
  },
  {
   "cell_type": "code",
   "execution_count": 51,
   "id": "ecb2a023",
   "metadata": {},
   "outputs": [
    {
     "data": {
      "text/plain": [
       "8.0"
      ]
     },
     "execution_count": 51,
     "metadata": {},
     "output_type": "execute_result"
    }
   ],
   "source": [
    "float(num)"
   ]
  },
  {
   "cell_type": "code",
   "execution_count": 52,
   "id": "c1ab96b7",
   "metadata": {},
   "outputs": [
    {
     "data": {
      "text/plain": [
       "(8+0j)"
      ]
     },
     "execution_count": 52,
     "metadata": {},
     "output_type": "execute_result"
    }
   ],
   "source": [
    "complex(num)"
   ]
  },
  {
   "cell_type": "code",
   "execution_count": 53,
   "id": "4a5e82a5",
   "metadata": {},
   "outputs": [
    {
     "data": {
      "text/plain": [
       "'8'"
      ]
     },
     "execution_count": 53,
     "metadata": {},
     "output_type": "execute_result"
    }
   ],
   "source": [
    "str(num)"
   ]
  },
  {
   "cell_type": "code",
   "execution_count": 56,
   "id": "894b3134",
   "metadata": {},
   "outputs": [
    {
     "name": "stdout",
     "output_type": "stream",
     "text": [
      "Enter your age : 29\n"
     ]
    }
   ],
   "source": [
    "age = int(input(\"Enter your age : \"))"
   ]
  },
  {
   "cell_type": "code",
   "execution_count": 58,
   "id": "ffaa01bd",
   "metadata": {},
   "outputs": [
    {
     "name": "stdout",
     "output_type": "stream",
     "text": [
      "<class 'int'>\n"
     ]
    }
   ],
   "source": [
    "print(type(age))"
   ]
  },
  {
   "cell_type": "code",
   "execution_count": 59,
   "id": "53ae8892",
   "metadata": {},
   "outputs": [
    {
     "name": "stdout",
     "output_type": "stream",
     "text": [
      "29\n"
     ]
    }
   ],
   "source": [
    "print(age)"
   ]
  },
  {
   "cell_type": "code",
   "execution_count": 60,
   "id": "2cab3c36",
   "metadata": {},
   "outputs": [],
   "source": [
    "num = 5"
   ]
  },
  {
   "cell_type": "code",
   "execution_count": 61,
   "id": "fbfbc3bd",
   "metadata": {},
   "outputs": [],
   "source": [
    "a = 1 + 2 + 3 + \\\n",
    "    4 + 5 + 6 + \\\n",
    "    7 + 8 + 9 "
   ]
  },
  {
   "cell_type": "code",
   "execution_count": 62,
   "id": "850e5bbc",
   "metadata": {},
   "outputs": [
    {
     "data": {
      "text/plain": [
       "45"
      ]
     },
     "execution_count": 62,
     "metadata": {},
     "output_type": "execute_result"
    }
   ],
   "source": [
    "a"
   ]
  },
  {
   "cell_type": "code",
   "execution_count": 64,
   "id": "b1876ad3",
   "metadata": {},
   "outputs": [],
   "source": [
    "a = (1+2+3+\n",
    "    4+5+6+\n",
    "    7+8+9)"
   ]
  },
  {
   "cell_type": "code",
   "execution_count": 65,
   "id": "6730c7fd",
   "metadata": {},
   "outputs": [
    {
     "data": {
      "text/plain": [
       "45"
      ]
     },
     "execution_count": 65,
     "metadata": {},
     "output_type": "execute_result"
    }
   ],
   "source": [
    "a"
   ]
  },
  {
   "cell_type": "code",
   "execution_count": 66,
   "id": "0ba7d1fd",
   "metadata": {},
   "outputs": [
    {
     "name": "stdout",
     "output_type": "stream",
     "text": [
      "45\n"
     ]
    }
   ],
   "source": [
    "print(a)"
   ]
  },
  {
   "cell_type": "code",
   "execution_count": 70,
   "id": "c67c5c5e",
   "metadata": {},
   "outputs": [
    {
     "name": "stdout",
     "output_type": "stream",
     "text": [
      "The value of a is 20 and b is 10\n"
     ]
    }
   ],
   "source": [
    "a = 10\n",
    "b = 20 \n",
    "\n",
    "print(\"The value of a is {1} and b is {0}\".format(a,b))"
   ]
  },
  {
   "cell_type": "code",
   "execution_count": 71,
   "id": "0e1dd876",
   "metadata": {},
   "outputs": [],
   "source": [
    "name = \"Sanjay Kumar\"\n",
    "greetings = \"Good Morning\""
   ]
  },
  {
   "cell_type": "code",
   "execution_count": 76,
   "id": "42f7e346",
   "metadata": {},
   "outputs": [
    {
     "name": "stdout",
     "output_type": "stream",
     "text": [
      "Hello Sanjay Kumar , and Good Morning\n"
     ]
    }
   ],
   "source": [
    "print(\"Hello {n} , and {g}\".format(n = name, g = greetings))"
   ]
  },
  {
   "cell_type": "code",
   "execution_count": 77,
   "id": "24d71bdd",
   "metadata": {},
   "outputs": [],
   "source": [
    "no1 = 12\n",
    "no2 = 3"
   ]
  },
  {
   "cell_type": "code",
   "execution_count": 83,
   "id": "3154d7b9",
   "metadata": {},
   "outputs": [],
   "source": [
    "add = no1+no2\n",
    "sub = no1-no2\n",
    "mul = no1*no2\n",
    "div = no1/no2\n",
    "f_div = no1//no2\n",
    "exp = no1**no2\n",
    "mod = no1%no2"
   ]
  },
  {
   "cell_type": "code",
   "execution_count": 86,
   "id": "f32fe592",
   "metadata": {},
   "outputs": [
    {
     "name": "stdout",
     "output_type": "stream",
     "text": [
      "a+b = 15\n",
      "a-b = 9\n",
      "a*b = 36\n",
      "a/b = 4.0\n",
      "a//b = 4\n",
      "a**b = 1728\n",
      "a%b = 0\n"
     ]
    }
   ],
   "source": [
    "print(\"a+b = {}\".format(add))\n",
    "print(\"a-b = {}\".format(sub))\n",
    "print(\"a*b = {}\".format(mul))\n",
    "print(\"a/b = {}\".format(div))\n",
    "print(\"a//b = {}\".format(f_div))\n",
    "print(\"a**b = {}\".format(exp))\n",
    "print(\"a%b = {}\".format(mod))"
   ]
  },
  {
   "cell_type": "code",
   "execution_count": 87,
   "id": "d09633ea",
   "metadata": {},
   "outputs": [
    {
     "name": "stdout",
     "output_type": "stream",
     "text": [
      "12 3\n"
     ]
    }
   ],
   "source": [
    "print(no1, no2)"
   ]
  },
  {
   "cell_type": "code",
   "execution_count": 91,
   "id": "84bbeb8b",
   "metadata": {},
   "outputs": [
    {
     "name": "stdout",
     "output_type": "stream",
     "text": [
      "True\n",
      "True\n",
      "False\n",
      "False\n",
      "False\n",
      "True\n"
     ]
    }
   ],
   "source": [
    "print(no1>no2)\n",
    "print(no1>=no2)\n",
    "print(no1<no2)\n",
    "print(no1<=no2)\n",
    "print(no1==no2)\n",
    "print(no1!=no2)"
   ]
  },
  {
   "cell_type": "code",
   "execution_count": 100,
   "id": "ab787601",
   "metadata": {},
   "outputs": [
    {
     "data": {
      "text/plain": [
       "False"
      ]
     },
     "execution_count": 100,
     "metadata": {},
     "output_type": "execute_result"
    }
   ],
   "source": [
    "not((10<5) or (20!=3))"
   ]
  },
  {
   "cell_type": "code",
   "execution_count": 101,
   "id": "d2e86bcc",
   "metadata": {},
   "outputs": [
    {
     "data": {
      "text/plain": [
       "True"
      ]
     },
     "execution_count": 101,
     "metadata": {},
     "output_type": "execute_result"
    }
   ],
   "source": [
    "not((10<5) or (10<6))"
   ]
  },
  {
   "cell_type": "code",
   "execution_count": 99,
   "id": "9925a481",
   "metadata": {},
   "outputs": [
    {
     "data": {
      "text/plain": [
       "False"
      ]
     },
     "execution_count": 99,
     "metadata": {},
     "output_type": "execute_result"
    }
   ],
   "source": [
    "not True"
   ]
  },
  {
   "cell_type": "code",
   "execution_count": 102,
   "id": "47a9ed3f",
   "metadata": {},
   "outputs": [
    {
     "data": {
      "text/plain": [
       "'0b1010'"
      ]
     },
     "execution_count": 102,
     "metadata": {},
     "output_type": "execute_result"
    }
   ],
   "source": [
    "bin(10)"
   ]
  },
  {
   "cell_type": "code",
   "execution_count": 103,
   "id": "8034ef2f",
   "metadata": {},
   "outputs": [
    {
     "data": {
      "text/plain": [
       "'0b100'"
      ]
     },
     "execution_count": 103,
     "metadata": {},
     "output_type": "execute_result"
    }
   ],
   "source": [
    "bin(4)"
   ]
  },
  {
   "cell_type": "code",
   "execution_count": 104,
   "id": "c3f1f077",
   "metadata": {},
   "outputs": [
    {
     "data": {
      "text/plain": [
       "0"
      ]
     },
     "execution_count": 104,
     "metadata": {},
     "output_type": "execute_result"
    }
   ],
   "source": [
    "10&4"
   ]
  },
  {
   "cell_type": "code",
   "execution_count": 105,
   "id": "41b4c3e7",
   "metadata": {},
   "outputs": [
    {
     "data": {
      "text/plain": [
       "14"
      ]
     },
     "execution_count": 105,
     "metadata": {},
     "output_type": "execute_result"
    }
   ],
   "source": [
    "10|4"
   ]
  },
  {
   "cell_type": "code",
   "execution_count": 106,
   "id": "c0830378",
   "metadata": {},
   "outputs": [
    {
     "data": {
      "text/plain": [
       "14"
      ]
     },
     "execution_count": 106,
     "metadata": {},
     "output_type": "execute_result"
    }
   ],
   "source": [
    "10^4"
   ]
  },
  {
   "cell_type": "code",
   "execution_count": 107,
   "id": "9a874903",
   "metadata": {},
   "outputs": [
    {
     "data": {
      "text/plain": [
       "0"
      ]
     },
     "execution_count": 107,
     "metadata": {},
     "output_type": "execute_result"
    }
   ],
   "source": [
    "4^4"
   ]
  },
  {
   "cell_type": "code",
   "execution_count": 108,
   "id": "25c235b9",
   "metadata": {},
   "outputs": [],
   "source": [
    "a = 5"
   ]
  },
  {
   "cell_type": "code",
   "execution_count": 109,
   "id": "9609bc7c",
   "metadata": {},
   "outputs": [],
   "source": [
    "a = a+1"
   ]
  },
  {
   "cell_type": "code",
   "execution_count": 110,
   "id": "b6dc6cd7",
   "metadata": {},
   "outputs": [
    {
     "data": {
      "text/plain": [
       "6"
      ]
     },
     "execution_count": 110,
     "metadata": {},
     "output_type": "execute_result"
    }
   ],
   "source": [
    "a"
   ]
  },
  {
   "cell_type": "code",
   "execution_count": 111,
   "id": "57d9c495",
   "metadata": {},
   "outputs": [
    {
     "name": "stdout",
     "output_type": "stream",
     "text": [
      "6\n"
     ]
    }
   ],
   "source": [
    "print(a)"
   ]
  },
  {
   "cell_type": "code",
   "execution_count": 112,
   "id": "c6e14d7a",
   "metadata": {},
   "outputs": [],
   "source": [
    "a+=1"
   ]
  },
  {
   "cell_type": "code",
   "execution_count": 113,
   "id": "9a89a451",
   "metadata": {},
   "outputs": [
    {
     "data": {
      "text/plain": [
       "7"
      ]
     },
     "execution_count": 113,
     "metadata": {},
     "output_type": "execute_result"
    }
   ],
   "source": [
    "a"
   ]
  },
  {
   "cell_type": "code",
   "execution_count": 114,
   "id": "9ed8257a",
   "metadata": {},
   "outputs": [],
   "source": [
    "a*=2"
   ]
  },
  {
   "cell_type": "code",
   "execution_count": 115,
   "id": "e0163f2b",
   "metadata": {},
   "outputs": [
    {
     "data": {
      "text/plain": [
       "14"
      ]
     },
     "execution_count": 115,
     "metadata": {},
     "output_type": "execute_result"
    }
   ],
   "source": [
    "a"
   ]
  },
  {
   "cell_type": "code",
   "execution_count": 117,
   "id": "bb8433db",
   "metadata": {},
   "outputs": [],
   "source": [
    "a,b,c, d= \"ml\", 25, 0.3, 5+6j"
   ]
  },
  {
   "cell_type": "code",
   "execution_count": 118,
   "id": "cf8f4873",
   "metadata": {},
   "outputs": [
    {
     "data": {
      "text/plain": [
       "0.3"
      ]
     },
     "execution_count": 118,
     "metadata": {},
     "output_type": "execute_result"
    }
   ],
   "source": [
    "c"
   ]
  },
  {
   "cell_type": "code",
   "execution_count": 119,
   "id": "b1bdd2b2",
   "metadata": {},
   "outputs": [
    {
     "data": {
      "text/plain": [
       "(5+6j)"
      ]
     },
     "execution_count": 119,
     "metadata": {},
     "output_type": "execute_result"
    }
   ],
   "source": [
    "d"
   ]
  },
  {
   "cell_type": "code",
   "execution_count": 120,
   "id": "0ed44fb8",
   "metadata": {},
   "outputs": [
    {
     "data": {
      "text/plain": [
       "'ml'"
      ]
     },
     "execution_count": 120,
     "metadata": {},
     "output_type": "execute_result"
    }
   ],
   "source": [
    "a"
   ]
  },
  {
   "cell_type": "code",
   "execution_count": 121,
   "id": "3af52ff8",
   "metadata": {},
   "outputs": [
    {
     "data": {
      "text/plain": [
       "25"
      ]
     },
     "execution_count": 121,
     "metadata": {},
     "output_type": "execute_result"
    }
   ],
   "source": [
    "b"
   ]
  },
  {
   "cell_type": "code",
   "execution_count": 122,
   "id": "3b1793d2",
   "metadata": {},
   "outputs": [],
   "source": [
    "a = b = c = 70"
   ]
  },
  {
   "cell_type": "code",
   "execution_count": 123,
   "id": "a9281653",
   "metadata": {},
   "outputs": [
    {
     "data": {
      "text/plain": [
       "70"
      ]
     },
     "execution_count": 123,
     "metadata": {},
     "output_type": "execute_result"
    }
   ],
   "source": [
    "a"
   ]
  },
  {
   "cell_type": "code",
   "execution_count": 124,
   "id": "bcdbc279",
   "metadata": {},
   "outputs": [
    {
     "data": {
      "text/plain": [
       "70"
      ]
     },
     "execution_count": 124,
     "metadata": {},
     "output_type": "execute_result"
    }
   ],
   "source": [
    "b"
   ]
  },
  {
   "cell_type": "code",
   "execution_count": 125,
   "id": "90bc99d0",
   "metadata": {},
   "outputs": [
    {
     "data": {
      "text/plain": [
       "70"
      ]
     },
     "execution_count": 125,
     "metadata": {},
     "output_type": "execute_result"
    }
   ],
   "source": [
    "c"
   ]
  },
  {
   "cell_type": "code",
   "execution_count": 126,
   "id": "2812ebae",
   "metadata": {},
   "outputs": [],
   "source": [
    "my_str = \"Good morning\""
   ]
  },
  {
   "cell_type": "code",
   "execution_count": 129,
   "id": "5442e459",
   "metadata": {},
   "outputs": [
    {
     "data": {
      "text/plain": [
       "True"
      ]
     },
     "execution_count": 129,
     "metadata": {},
     "output_type": "execute_result"
    }
   ],
   "source": [
    "\"good\" not in my_str"
   ]
  },
  {
   "cell_type": "code",
   "execution_count": 131,
   "id": "dd96469d",
   "metadata": {},
   "outputs": [
    {
     "data": {
      "text/plain": [
       "True"
      ]
     },
     "execution_count": 131,
     "metadata": {},
     "output_type": "execute_result"
    }
   ],
   "source": [
    "\"bad\" not in my_str"
   ]
  },
  {
   "cell_type": "code",
   "execution_count": 132,
   "id": "a8d585ad",
   "metadata": {},
   "outputs": [
    {
     "data": {
      "text/plain": [
       "True"
      ]
     },
     "execution_count": 132,
     "metadata": {},
     "output_type": "execute_result"
    }
   ],
   "source": [
    "\"o\" in my_str"
   ]
  },
  {
   "cell_type": "code",
   "execution_count": 133,
   "id": "47a2819b",
   "metadata": {},
   "outputs": [
    {
     "data": {
      "text/plain": [
       "False"
      ]
     },
     "execution_count": 133,
     "metadata": {},
     "output_type": "execute_result"
    }
   ],
   "source": [
    "\"o\" not in my_str"
   ]
  },
  {
   "cell_type": "code",
   "execution_count": 134,
   "id": "4d842b13",
   "metadata": {},
   "outputs": [],
   "source": [
    "n1 = 1000\n",
    "n2 = 1000"
   ]
  },
  {
   "cell_type": "code",
   "execution_count": 135,
   "id": "d05ed2c8",
   "metadata": {},
   "outputs": [
    {
     "data": {
      "text/plain": [
       "2712433462704"
      ]
     },
     "execution_count": 135,
     "metadata": {},
     "output_type": "execute_result"
    }
   ],
   "source": [
    "id(n1)"
   ]
  },
  {
   "cell_type": "code",
   "execution_count": 136,
   "id": "af7cbb22",
   "metadata": {},
   "outputs": [
    {
     "data": {
      "text/plain": [
       "2712433459888"
      ]
     },
     "execution_count": 136,
     "metadata": {},
     "output_type": "execute_result"
    }
   ],
   "source": [
    "id(n2)"
   ]
  },
  {
   "cell_type": "code",
   "execution_count": 137,
   "id": "dde339f1",
   "metadata": {},
   "outputs": [
    {
     "data": {
      "text/plain": [
       "True"
      ]
     },
     "execution_count": 137,
     "metadata": {},
     "output_type": "execute_result"
    }
   ],
   "source": [
    "n1==n2"
   ]
  },
  {
   "cell_type": "code",
   "execution_count": 138,
   "id": "c9d0331c",
   "metadata": {},
   "outputs": [
    {
     "data": {
      "text/plain": [
       "False"
      ]
     },
     "execution_count": 138,
     "metadata": {},
     "output_type": "execute_result"
    }
   ],
   "source": [
    "n1 is n2"
   ]
  },
  {
   "cell_type": "code",
   "execution_count": 139,
   "id": "6f44d1a1",
   "metadata": {},
   "outputs": [
    {
     "data": {
      "text/plain": [
       "True"
      ]
     },
     "execution_count": 139,
     "metadata": {},
     "output_type": "execute_result"
    }
   ],
   "source": [
    "n1 is not n2"
   ]
  },
  {
   "cell_type": "code",
   "execution_count": 142,
   "id": "2d5b49b1",
   "metadata": {},
   "outputs": [
    {
     "name": "stdout",
     "output_type": "stream",
     "text": [
      "Grow up kid\n"
     ]
    }
   ],
   "source": [
    "age = 17\n",
    "\n",
    "if (age>=18):\n",
    "    print(\"you are eligible to vote\")\n",
    "else:\n",
    "    print(\"Grow up kid\")"
   ]
  },
  {
   "cell_type": "code",
   "execution_count": 151,
   "id": "d4cc0f29",
   "metadata": {},
   "outputs": [
    {
     "name": "stdout",
     "output_type": "stream",
     "text": [
      "Enter your age:... 17\n"
     ]
    }
   ],
   "source": [
    "age = int(input(\"Enter your age:... \"))"
   ]
  },
  {
   "cell_type": "code",
   "execution_count": 152,
   "id": "6687bf69",
   "metadata": {},
   "outputs": [
    {
     "data": {
      "text/plain": [
       "17"
      ]
     },
     "execution_count": 152,
     "metadata": {},
     "output_type": "execute_result"
    }
   ],
   "source": [
    "age"
   ]
  },
  {
   "cell_type": "code",
   "execution_count": 153,
   "id": "5130bad3",
   "metadata": {},
   "outputs": [
    {
     "name": "stdout",
     "output_type": "stream",
     "text": [
      "Grow up kid\n",
      "I am inside else block\n"
     ]
    }
   ],
   "source": [
    "if (age>=18):\n",
    "    print(\"you can vote...\")\n",
    "    print(\"I am inside if block\")\n",
    "else:\n",
    "    print(\"Grow up kid\")\n",
    "    print(\"I am inside else block\")"
   ]
  },
  {
   "cell_type": "code",
   "execution_count": 156,
   "id": "0a19fbd3",
   "metadata": {},
   "outputs": [
    {
     "name": "stdout",
     "output_type": "stream",
     "text": [
      "Negative number\n"
     ]
    }
   ],
   "source": [
    "num = -2\n",
    "\n",
    "if num>0:\n",
    "    print(\"Positive number\")\n",
    "elif num==0:\n",
    "    print(\"zero number\")\n",
    "else:\n",
    "    print(\"Negative number\")"
   ]
  },
  {
   "cell_type": "code",
   "execution_count": 159,
   "id": "003c9826",
   "metadata": {},
   "outputs": [
    {
     "name": "stdout",
     "output_type": "stream",
     "text": [
      "Negative number\n"
     ]
    }
   ],
   "source": [
    "num = -9\n",
    "\n",
    "if (num>=0):\n",
    "    if num ==0:\n",
    "        print(\"Zero number\")\n",
    "    else:\n",
    "        print(\"Positive number\")\n",
    "else:\n",
    "    print(\"Negative number\")"
   ]
  },
  {
   "cell_type": "code",
   "execution_count": 177,
   "id": "4d82741b",
   "metadata": {},
   "outputs": [],
   "source": [
    "num1 = 5000\n",
    "num2 = 6000\n",
    "num3 = 40000"
   ]
  },
  {
   "cell_type": "code",
   "execution_count": 178,
   "id": "45bf4649",
   "metadata": {},
   "outputs": [],
   "source": [
    "if (num1>num2) and (num1>num3):\n",
    "    largest = num1\n",
    "elif (num2>num1) and (num2>num3):\n",
    "    largest = num2\n",
    "else:\n",
    "    largest = num3"
   ]
  },
  {
   "cell_type": "code",
   "execution_count": 179,
   "id": "3e8213e3",
   "metadata": {},
   "outputs": [
    {
     "name": "stdout",
     "output_type": "stream",
     "text": [
      "40000\n"
     ]
    }
   ],
   "source": [
    "print(largest)"
   ]
  },
  {
   "cell_type": "code",
   "execution_count": 180,
   "id": "04e90c68",
   "metadata": {},
   "outputs": [
    {
     "name": "stdout",
     "output_type": "stream",
     "text": [
      "The largest number among three numbers are 40000\n"
     ]
    }
   ],
   "source": [
    "print(\"The largest number among three numbers are {}\".format(largest))"
   ]
  },
  {
   "cell_type": "code",
   "execution_count": 189,
   "id": "2dc4497b",
   "metadata": {},
   "outputs": [
    {
     "name": "stdout",
     "output_type": "stream",
     "text": [
      "2,4,6,8,10,12,14,16,18,20,"
     ]
    }
   ],
   "source": [
    "i = 1\n",
    "\n",
    "while (i<=20):\n",
    "    if i%2==0:\n",
    "        \n",
    "        print(i, end=\",\")\n",
    "    i+=1\n",
    "    \n"
   ]
  },
  {
   "cell_type": "code",
   "execution_count": 191,
   "id": "8526f0a2",
   "metadata": {},
   "outputs": [
    {
     "data": {
      "text/plain": [
       "[2, 3, 4, 5, 6, 7, 8, 9, 10, 11, 12, 13, 14, 15, 16, 17, 18, 19]"
      ]
     },
     "execution_count": 191,
     "metadata": {},
     "output_type": "execute_result"
    }
   ],
   "source": [
    "list(range(2,20))"
   ]
  },
  {
   "cell_type": "code",
   "execution_count": 196,
   "id": "31893aea",
   "metadata": {},
   "outputs": [
    {
     "name": "stdout",
     "output_type": "stream",
     "text": [
      "2,4,6,8,10,12,14,16,18,20,"
     ]
    }
   ],
   "source": [
    "for i in range(1,21):\n",
    "    if i%2==0:\n",
    "        print(i, end=\",\")"
   ]
  },
  {
   "cell_type": "code",
   "execution_count": 203,
   "id": "74273e32",
   "metadata": {},
   "outputs": [
    {
     "name": "stdout",
     "output_type": "stream",
     "text": [
      "2,4,6,8,10,12,14,16,18,20,\n",
      "No elements left\n"
     ]
    }
   ],
   "source": [
    "for i in range(2,21):\n",
    "    if i%2==0:\n",
    "        \n",
    "        print(i, end=\",\")\n",
    "else:\n",
    "    print()\n",
    "    print(\"No elements left\")"
   ]
  },
  {
   "cell_type": "code",
   "execution_count": 205,
   "id": "02f34eb6",
   "metadata": {},
   "outputs": [
    {
     "name": "stdout",
     "output_type": "stream",
     "text": [
      "2 4 6 8 10 12 14 16 18 20 "
     ]
    }
   ],
   "source": [
    "for i in range(2,21,2):\n",
    "    print(i, end=\" \")"
   ]
  },
  {
   "cell_type": "code",
   "execution_count": 207,
   "id": "4ebb2dd4",
   "metadata": {},
   "outputs": [
    {
     "name": "stdout",
     "output_type": "stream",
     "text": [
      "9 x 1 = 9\n",
      "9 x 2 = 18\n",
      "9 x 3 = 27\n",
      "9 x 4 = 36\n",
      "9 x 5 = 45\n",
      "9 x 6 = 54\n",
      "9 x 7 = 63\n",
      "9 x 8 = 72\n",
      "9 x 9 = 81\n",
      "9 x 10 = 90\n",
      "no elements left\n"
     ]
    }
   ],
   "source": [
    "n = 9\n",
    "\n",
    "for i in range(1,11):\n",
    "    print(\"{} x {} = {}\".format(n, i, n*i))\n",
    "else:\n",
    "    print(\"no elements left\")"
   ]
  },
  {
   "cell_type": "code",
   "execution_count": 208,
   "id": "fc25755a",
   "metadata": {},
   "outputs": [],
   "source": [
    "n = 10"
   ]
  },
  {
   "cell_type": "code",
   "execution_count": 216,
   "id": "f2aea21e",
   "metadata": {},
   "outputs": [
    {
     "name": "stdout",
     "output_type": "stream",
     "text": [
      "* \n",
      "* * \n",
      "* * * \n",
      "* * * * \n",
      "* * * * * \n",
      "* * * * * * \n",
      "* * * * * * * \n",
      "* * * * * * * * \n",
      "* * * * * * * * * \n",
      "* * * * * * * * * * \n"
     ]
    }
   ],
   "source": [
    "for i in range(1,n+1):\n",
    "    for j in range(1,i+1):\n",
    "        print(\"*\", end=\" \")\n",
    "    print()"
   ]
  },
  {
   "cell_type": "code",
   "execution_count": 218,
   "id": "eea4af56",
   "metadata": {},
   "outputs": [
    {
     "name": "stdout",
     "output_type": "stream",
     "text": [
      "* \n",
      "* * \n",
      "* * * \n",
      "* * * * \n",
      "* * * * * \n",
      "* * * * * * \n",
      "* * * * * * * \n",
      "* * * * * * * * \n",
      "* * * * * * * * * \n",
      "* * * * * * * * * * \n"
     ]
    }
   ],
   "source": [
    "for i in range(1,n+1):\n",
    "    for j in range(1,i+1):\n",
    "        print(\"*\", end=\" \")\n",
    "    print()"
   ]
  },
  {
   "cell_type": "code",
   "execution_count": 219,
   "id": "8055a72e",
   "metadata": {},
   "outputs": [
    {
     "data": {
      "text/plain": [
       "'HelloHelloHello'"
      ]
     },
     "execution_count": 219,
     "metadata": {},
     "output_type": "execute_result"
    }
   ],
   "source": [
    "\"Hello\"*3"
   ]
  },
  {
   "cell_type": "code",
   "execution_count": 224,
   "id": "5c552ee2",
   "metadata": {},
   "outputs": [
    {
     "name": "stdout",
     "output_type": "stream",
     "text": [
      "* \n",
      "* * \n",
      "* * * \n",
      "* * * * \n",
      "* * * * * \n",
      "* * * * * * \n",
      "* * * * * * * \n",
      "* * * * * * * * \n",
      "* * * * * * * * * \n",
      "* * * * * * * * * * \n"
     ]
    }
   ],
   "source": [
    "for i in range(1,n+1):\n",
    "    print(\"* \" * i)"
   ]
  },
  {
   "cell_type": "code",
   "execution_count": 226,
   "id": "6ec9c065",
   "metadata": {},
   "outputs": [
    {
     "name": "stdout",
     "output_type": "stream",
     "text": [
      "*****\n",
      "****\n",
      "***\n",
      "**\n",
      "*\n",
      "\n"
     ]
    }
   ],
   "source": [
    "n = 5\n",
    "for i in range(n,-1,-1):\n",
    "    print(\"*\" * i)"
   ]
  },
  {
   "cell_type": "code",
   "execution_count": 233,
   "id": "64480d01",
   "metadata": {},
   "outputs": [
    {
     "name": "stdout",
     "output_type": "stream",
     "text": [
      "enter vaule of n : 3\n"
     ]
    }
   ],
   "source": [
    "number = int(input(\"enter vaule of n : \"))"
   ]
  },
  {
   "cell_type": "code",
   "execution_count": 234,
   "id": "2e970bb4",
   "metadata": {},
   "outputs": [
    {
     "name": "stdout",
     "output_type": "stream",
     "text": [
      "The sum of first n 3 numbers are 6\n"
     ]
    }
   ],
   "source": [
    "s = 0\n",
    "for i in range(1,number+1):\n",
    "    s+=i\n",
    "    \n",
    "print(\"The sum of first n {} numbers are {}\".format(number,s))"
   ]
  },
  {
   "cell_type": "code",
   "execution_count": 245,
   "id": "0ecd1d50",
   "metadata": {},
   "outputs": [
    {
     "name": "stdout",
     "output_type": "stream",
     "text": [
      "enter n : 23\n"
     ]
    }
   ],
   "source": [
    "n = int(input(\"enter n : \"))"
   ]
  },
  {
   "cell_type": "code",
   "execution_count": 246,
   "id": "2578f8e0",
   "metadata": {},
   "outputs": [
    {
     "data": {
      "text/plain": [
       "23"
      ]
     },
     "execution_count": 246,
     "metadata": {},
     "output_type": "execute_result"
    }
   ],
   "source": [
    "n"
   ]
  },
  {
   "cell_type": "code",
   "execution_count": 247,
   "id": "71409240",
   "metadata": {},
   "outputs": [
    {
     "name": "stdout",
     "output_type": "stream",
     "text": [
      "The given number is a prime number 23\n"
     ]
    }
   ],
   "source": [
    "is_prime = True\n",
    "for i in range(2,n):\n",
    "    if n%i==0:\n",
    "        is_prime = False\n",
    "        break\n",
    "        \n",
    "        \n",
    "if is_prime:\n",
    "    print(\"The given number is a prime number {}\".format(n))\n",
    "else:\n",
    "    print(\"The given number is not a prime number {}\".format(n))\n",
    "        "
   ]
  },
  {
   "cell_type": "code",
   "execution_count": 250,
   "id": "844e7c4f",
   "metadata": {},
   "outputs": [
    {
     "name": "stdout",
     "output_type": "stream",
     "text": [
      "1\n",
      "2\n",
      "3\n",
      "4\n"
     ]
    }
   ],
   "source": [
    "for i in range(1,10):\n",
    "    if (i==5):\n",
    "        break\n",
    "    print(i)\n",
    "else:\n",
    "    print(\"no elements left\")"
   ]
  },
  {
   "cell_type": "code",
   "execution_count": 252,
   "id": "16e15f15",
   "metadata": {},
   "outputs": [
    {
     "name": "stdout",
     "output_type": "stream",
     "text": [
      "1\n",
      "2\n",
      "3\n",
      "4\n",
      "6\n",
      "7\n",
      "8\n",
      "9\n",
      "No elements left\n"
     ]
    }
   ],
   "source": [
    "for i in range(1,10):\n",
    "    if (i==5):\n",
    "        continue\n",
    "    print(i)\n",
    "else:\n",
    "    print(\"No elements left\")"
   ]
  },
  {
   "cell_type": "code",
   "execution_count": 254,
   "id": "eca45f2f",
   "metadata": {},
   "outputs": [],
   "source": [
    "if (4>6):\n",
    "    pass"
   ]
  },
  {
   "cell_type": "code",
   "execution_count": 257,
   "id": "407a804b",
   "metadata": {},
   "outputs": [],
   "source": [
    "for i in range(10):\n",
    "    pass\n",
    "    "
   ]
  },
  {
   "cell_type": "code",
   "execution_count": 258,
   "id": "b785f04b",
   "metadata": {},
   "outputs": [],
   "source": [
    "my_str = \"Welcome to the course\""
   ]
  },
  {
   "cell_type": "code",
   "execution_count": 259,
   "id": "02c0814b",
   "metadata": {},
   "outputs": [
    {
     "name": "stdout",
     "output_type": "stream",
     "text": [
      "Welcome to the course\n"
     ]
    }
   ],
   "source": [
    "print(my_str)"
   ]
  },
  {
   "cell_type": "code",
   "execution_count": 261,
   "id": "a5e7ae0a",
   "metadata": {},
   "outputs": [
    {
     "name": "stdout",
     "output_type": "stream",
     "text": [
      "<class 'str'>\n"
     ]
    }
   ],
   "source": [
    "print(type(my_str))"
   ]
  },
  {
   "cell_type": "code",
   "execution_count": 262,
   "id": "56662c72",
   "metadata": {},
   "outputs": [
    {
     "data": {
      "text/plain": [
       "'W'"
      ]
     },
     "execution_count": 262,
     "metadata": {},
     "output_type": "execute_result"
    }
   ],
   "source": [
    "my_str[0]"
   ]
  },
  {
   "cell_type": "code",
   "execution_count": 263,
   "id": "0514fab1",
   "metadata": {},
   "outputs": [
    {
     "data": {
      "text/plain": [
       "'e'"
      ]
     },
     "execution_count": 263,
     "metadata": {},
     "output_type": "execute_result"
    }
   ],
   "source": [
    "my_str[1]"
   ]
  },
  {
   "cell_type": "code",
   "execution_count": 265,
   "id": "1c2ed300",
   "metadata": {},
   "outputs": [
    {
     "name": "stdout",
     "output_type": "stream",
     "text": [
      "21\n"
     ]
    }
   ],
   "source": [
    "print(len(my_str))"
   ]
  },
  {
   "cell_type": "code",
   "execution_count": 267,
   "id": "2ec0f338",
   "metadata": {},
   "outputs": [
    {
     "data": {
      "text/plain": [
       "'e'"
      ]
     },
     "execution_count": 267,
     "metadata": {},
     "output_type": "execute_result"
    }
   ],
   "source": [
    "my_str[20]"
   ]
  },
  {
   "cell_type": "code",
   "execution_count": 270,
   "id": "660db7cd",
   "metadata": {},
   "outputs": [
    {
     "data": {
      "text/plain": [
       "'e'"
      ]
     },
     "execution_count": 270,
     "metadata": {},
     "output_type": "execute_result"
    }
   ],
   "source": [
    "my_str[len(my_str)-1]"
   ]
  },
  {
   "cell_type": "code",
   "execution_count": 271,
   "id": "51483a01",
   "metadata": {},
   "outputs": [
    {
     "data": {
      "text/plain": [
       "'e'"
      ]
     },
     "execution_count": 271,
     "metadata": {},
     "output_type": "execute_result"
    }
   ],
   "source": [
    "my_str[-1]"
   ]
  },
  {
   "cell_type": "code",
   "execution_count": 272,
   "id": "6f640874",
   "metadata": {},
   "outputs": [
    {
     "data": {
      "text/plain": [
       "'o'"
      ]
     },
     "execution_count": 272,
     "metadata": {},
     "output_type": "execute_result"
    }
   ],
   "source": [
    "my_str[-5]"
   ]
  },
  {
   "cell_type": "code",
   "execution_count": 273,
   "id": "d66f88f8",
   "metadata": {},
   "outputs": [
    {
     "name": "stdout",
     "output_type": "stream",
     "text": [
      "Welcome to the course\n"
     ]
    }
   ],
   "source": [
    "print(my_str)"
   ]
  },
  {
   "cell_type": "code",
   "execution_count": 274,
   "id": "01c6625a",
   "metadata": {},
   "outputs": [
    {
     "data": {
      "text/plain": [
       "'Welcome'"
      ]
     },
     "execution_count": 274,
     "metadata": {},
     "output_type": "execute_result"
    }
   ],
   "source": [
    "my_str[0:7]"
   ]
  },
  {
   "cell_type": "code",
   "execution_count": 275,
   "id": "c11ea724",
   "metadata": {},
   "outputs": [
    {
     "data": {
      "text/plain": [
       "'ome to the '"
      ]
     },
     "execution_count": 275,
     "metadata": {},
     "output_type": "execute_result"
    }
   ],
   "source": [
    "my_str[4:15]"
   ]
  },
  {
   "cell_type": "code",
   "execution_count": 278,
   "id": "bf0a8128",
   "metadata": {},
   "outputs": [
    {
     "data": {
      "text/plain": [
       "'Welcome to the cours'"
      ]
     },
     "execution_count": 278,
     "metadata": {},
     "output_type": "execute_result"
    }
   ],
   "source": [
    "my_str[:-1]"
   ]
  },
  {
   "cell_type": "code",
   "execution_count": 280,
   "id": "f62566ca",
   "metadata": {},
   "outputs": [
    {
     "data": {
      "text/plain": [
       "'loet h'"
      ]
     },
     "execution_count": 280,
     "metadata": {},
     "output_type": "execute_result"
    }
   ],
   "source": [
    "my_str[2:14:2]"
   ]
  },
  {
   "cell_type": "code",
   "execution_count": 282,
   "id": "535fc1e9",
   "metadata": {},
   "outputs": [
    {
     "data": {
      "text/plain": [
       "'ero h teo'"
      ]
     },
     "execution_count": 282,
     "metadata": {},
     "output_type": "execute_result"
    }
   ],
   "source": [
    "my_str[20:2:-2]"
   ]
  },
  {
   "cell_type": "code",
   "execution_count": 283,
   "id": "b0d01f54",
   "metadata": {},
   "outputs": [
    {
     "data": {
      "text/plain": [
       "'esruoc eht ot emocleW'"
      ]
     },
     "execution_count": 283,
     "metadata": {},
     "output_type": "execute_result"
    }
   ],
   "source": [
    "my_str[::-1]"
   ]
  },
  {
   "cell_type": "code",
   "execution_count": 284,
   "id": "6868f34e",
   "metadata": {},
   "outputs": [
    {
     "name": "stdout",
     "output_type": "stream",
     "text": [
      "Welcome to the course\n"
     ]
    }
   ],
   "source": [
    "print(my_str)"
   ]
  },
  {
   "cell_type": "code",
   "execution_count": 285,
   "id": "962bedda",
   "metadata": {},
   "outputs": [
    {
     "data": {
      "text/plain": [
       "'welcome to the course'"
      ]
     },
     "execution_count": 285,
     "metadata": {},
     "output_type": "execute_result"
    }
   ],
   "source": [
    "my_str.lower()"
   ]
  },
  {
   "cell_type": "code",
   "execution_count": 286,
   "id": "de80ae7c",
   "metadata": {},
   "outputs": [
    {
     "data": {
      "text/plain": [
       "'WELCOME TO THE COURSE'"
      ]
     },
     "execution_count": 286,
     "metadata": {},
     "output_type": "execute_result"
    }
   ],
   "source": [
    "my_str.upper()"
   ]
  },
  {
   "cell_type": "code",
   "execution_count": 287,
   "id": "ff19f648",
   "metadata": {},
   "outputs": [
    {
     "data": {
      "text/plain": [
       "'Welcome to the course'"
      ]
     },
     "execution_count": 287,
     "metadata": {},
     "output_type": "execute_result"
    }
   ],
   "source": [
    "my_str.capitalize()"
   ]
  },
  {
   "cell_type": "code",
   "execution_count": 288,
   "id": "4e8e4df5",
   "metadata": {},
   "outputs": [
    {
     "data": {
      "text/plain": [
       "'Welcome To The Course'"
      ]
     },
     "execution_count": 288,
     "metadata": {},
     "output_type": "execute_result"
    }
   ],
   "source": [
    "my_str.title()"
   ]
  },
  {
   "cell_type": "code",
   "execution_count": 289,
   "id": "0d534403",
   "metadata": {},
   "outputs": [
    {
     "data": {
      "text/plain": [
       "3"
      ]
     },
     "execution_count": 289,
     "metadata": {},
     "output_type": "execute_result"
    }
   ],
   "source": [
    "my_str.find(\"come\")"
   ]
  },
  {
   "cell_type": "code",
   "execution_count": 290,
   "id": "df6461bc",
   "metadata": {},
   "outputs": [
    {
     "data": {
      "text/plain": [
       "-1"
      ]
     },
     "execution_count": 290,
     "metadata": {},
     "output_type": "execute_result"
    }
   ],
   "source": [
    "my_str.find(\"Machine\")"
   ]
  },
  {
   "cell_type": "code",
   "execution_count": 292,
   "id": "6e832d87",
   "metadata": {},
   "outputs": [
    {
     "data": {
      "text/plain": [
       "['Welc', 'me t', ' the c', 'urse']"
      ]
     },
     "execution_count": 292,
     "metadata": {},
     "output_type": "execute_result"
    }
   ],
   "source": [
    "my_str.split('o')"
   ]
  },
  {
   "cell_type": "code",
   "execution_count": 293,
   "id": "7802296b",
   "metadata": {},
   "outputs": [
    {
     "data": {
      "text/plain": [
       "3"
      ]
     },
     "execution_count": 293,
     "metadata": {},
     "output_type": "execute_result"
    }
   ],
   "source": [
    "my_str.count(\"o\")"
   ]
  },
  {
   "cell_type": "code",
   "execution_count": 294,
   "id": "88463072",
   "metadata": {},
   "outputs": [
    {
     "data": {
      "text/plain": [
       "'Welcome to the course'"
      ]
     },
     "execution_count": 294,
     "metadata": {},
     "output_type": "execute_result"
    }
   ],
   "source": [
    "my_str"
   ]
  },
  {
   "cell_type": "code",
   "execution_count": 295,
   "id": "c2c56e0f",
   "metadata": {},
   "outputs": [
    {
     "data": {
      "text/plain": [
       "'Welcome to the Programme'"
      ]
     },
     "execution_count": 295,
     "metadata": {},
     "output_type": "execute_result"
    }
   ],
   "source": [
    "my_str.replace(\"course\", \"Programme\")"
   ]
  },
  {
   "cell_type": "code",
   "execution_count": 296,
   "id": "055e8fe4",
   "metadata": {},
   "outputs": [
    {
     "data": {
      "text/plain": [
       "'Welcome to the course'"
      ]
     },
     "execution_count": 296,
     "metadata": {},
     "output_type": "execute_result"
    }
   ],
   "source": [
    "my_str"
   ]
  },
  {
   "cell_type": "code",
   "execution_count": 297,
   "id": "862a0b41",
   "metadata": {},
   "outputs": [
    {
     "name": "stdout",
     "output_type": "stream",
     "text": [
      "Enter your string       Python is fun    \n"
     ]
    }
   ],
   "source": [
    "new_str = input(\"Enter your string\")"
   ]
  },
  {
   "cell_type": "code",
   "execution_count": 298,
   "id": "0985a0b0",
   "metadata": {},
   "outputs": [
    {
     "name": "stdout",
     "output_type": "stream",
     "text": [
      "       Python is fun    \n"
     ]
    }
   ],
   "source": [
    "print(new_str)"
   ]
  },
  {
   "cell_type": "code",
   "execution_count": 299,
   "id": "36eeb51b",
   "metadata": {},
   "outputs": [
    {
     "data": {
      "text/plain": [
       "'       Python is fun    '"
      ]
     },
     "execution_count": 299,
     "metadata": {},
     "output_type": "execute_result"
    }
   ],
   "source": [
    "new_str"
   ]
  },
  {
   "cell_type": "code",
   "execution_count": 300,
   "id": "e7efdf01",
   "metadata": {},
   "outputs": [
    {
     "data": {
      "text/plain": [
       "'Python is fun    '"
      ]
     },
     "execution_count": 300,
     "metadata": {},
     "output_type": "execute_result"
    }
   ],
   "source": [
    "new_str.lstrip()"
   ]
  },
  {
   "cell_type": "code",
   "execution_count": 301,
   "id": "cd4c3454",
   "metadata": {},
   "outputs": [
    {
     "data": {
      "text/plain": [
       "'       Python is fun'"
      ]
     },
     "execution_count": 301,
     "metadata": {},
     "output_type": "execute_result"
    }
   ],
   "source": [
    "new_str.rstrip()"
   ]
  },
  {
   "cell_type": "code",
   "execution_count": 302,
   "id": "886d5c33",
   "metadata": {},
   "outputs": [
    {
     "data": {
      "text/plain": [
       "'Python is fun'"
      ]
     },
     "execution_count": 302,
     "metadata": {},
     "output_type": "execute_result"
    }
   ],
   "source": [
    "new_str.strip()"
   ]
  },
  {
   "cell_type": "code",
   "execution_count": 305,
   "id": "9a1f78a2",
   "metadata": {},
   "outputs": [],
   "source": [
    "s1 = \"abc\" \n",
    "s2 = \"pqr\""
   ]
  },
  {
   "cell_type": "code",
   "execution_count": 306,
   "id": "667cb39f",
   "metadata": {},
   "outputs": [
    {
     "name": "stdout",
     "output_type": "stream",
     "text": [
      "abcpqr\n"
     ]
    }
   ],
   "source": [
    "print(s1+s2)"
   ]
  },
  {
   "cell_type": "code",
   "execution_count": 308,
   "id": "86eab0d5",
   "metadata": {},
   "outputs": [
    {
     "data": {
      "text/plain": [
       "'abc3'"
      ]
     },
     "execution_count": 308,
     "metadata": {},
     "output_type": "execute_result"
    }
   ],
   "source": [
    "s1+str(3)"
   ]
  },
  {
   "cell_type": "code",
   "execution_count": 309,
   "id": "94e2a209",
   "metadata": {},
   "outputs": [
    {
     "data": {
      "text/plain": [
       "'HelloHelloHello'"
      ]
     },
     "execution_count": 309,
     "metadata": {},
     "output_type": "execute_result"
    }
   ],
   "source": [
    "\"Hello\" * 3"
   ]
  },
  {
   "cell_type": "code",
   "execution_count": 310,
   "id": "e224d24d",
   "metadata": {},
   "outputs": [],
   "source": [
    "inp_str = \"This is an Input string to count vowels.\""
   ]
  },
  {
   "cell_type": "code",
   "execution_count": 312,
   "id": "b283dc12",
   "metadata": {},
   "outputs": [
    {
     "name": "stdout",
     "output_type": "stream",
     "text": [
      "The number of vowels are 11\n"
     ]
    }
   ],
   "source": [
    "cnt = 0\n",
    "for i in inp_str:\n",
    "    if i in \"aeiouAEIOU\":\n",
    "        cnt+=1\n",
    "        \n",
    "print(\"The number of vowels are {}\".format(cnt))       "
   ]
  },
  {
   "cell_type": "code",
   "execution_count": 325,
   "id": "58120857",
   "metadata": {},
   "outputs": [],
   "source": [
    "inp_str = \"level\""
   ]
  },
  {
   "cell_type": "code",
   "execution_count": 326,
   "id": "8a1a547b",
   "metadata": {},
   "outputs": [],
   "source": [
    "rev_str = inp_str[::-1]"
   ]
  },
  {
   "cell_type": "code",
   "execution_count": 327,
   "id": "6009f61c",
   "metadata": {},
   "outputs": [
    {
     "name": "stdout",
     "output_type": "stream",
     "text": [
      "The given string level is palindrome\n"
     ]
    }
   ],
   "source": [
    "if inp_str == rev_str:\n",
    "    print(\"The given string {} is palindrome\".format(inp_str))\n",
    "else:\n",
    "    print(\"The given string {} is not palindrome\".format(inp_str))"
   ]
  },
  {
   "cell_type": "code",
   "execution_count": 335,
   "id": "e7dfaa57",
   "metadata": {},
   "outputs": [
    {
     "name": "stdout",
     "output_type": "stream",
     "text": [
      "The given string madam is palindrome\n"
     ]
    }
   ],
   "source": [
    "inp_str = \"madam\"\n",
    "\n",
    "start = 0\n",
    "end = len(inp_str)-1\n",
    "is_palindrome = True\n",
    "\n",
    "while (start<=end):\n",
    "    if (inp_str[start] != inp_str[end]):\n",
    "        is_palindrome = False\n",
    "        \n",
    "        break\n",
    "        \n",
    "        \n",
    "    start+=1\n",
    "    end-=1\n",
    "        \n",
    "    \n",
    "if is_palindrome:\n",
    "    print(\"The given string {} is palindrome\".format(inp_str))\n",
    "else:\n",
    "    print(\"The given string {} is not palindrome\".format(inp_str))\n",
    "\n"
   ]
  },
  {
   "cell_type": "code",
   "execution_count": 337,
   "id": "4219a998",
   "metadata": {},
   "outputs": [],
   "source": [
    "lst = list()"
   ]
  },
  {
   "cell_type": "code",
   "execution_count": 338,
   "id": "06376363",
   "metadata": {},
   "outputs": [
    {
     "data": {
      "text/plain": [
       "[]"
      ]
     },
     "execution_count": 338,
     "metadata": {},
     "output_type": "execute_result"
    }
   ],
   "source": [
    "lst"
   ]
  },
  {
   "cell_type": "code",
   "execution_count": 339,
   "id": "73dc3273",
   "metadata": {},
   "outputs": [],
   "source": [
    "my_lst = [6,3,2,8,4]"
   ]
  },
  {
   "cell_type": "code",
   "execution_count": 340,
   "id": "a29b8269",
   "metadata": {},
   "outputs": [
    {
     "name": "stdout",
     "output_type": "stream",
     "text": [
      "[6, 3, 2, 8, 4]\n"
     ]
    }
   ],
   "source": [
    "print(my_lst)"
   ]
  },
  {
   "cell_type": "code",
   "execution_count": 341,
   "id": "273434d4",
   "metadata": {},
   "outputs": [
    {
     "data": {
      "text/plain": [
       "list"
      ]
     },
     "execution_count": 341,
     "metadata": {},
     "output_type": "execute_result"
    }
   ],
   "source": [
    "type(my_lst)"
   ]
  },
  {
   "cell_type": "code",
   "execution_count": 342,
   "id": "130f3fe7",
   "metadata": {},
   "outputs": [
    {
     "data": {
      "text/plain": [
       "5"
      ]
     },
     "execution_count": 342,
     "metadata": {},
     "output_type": "execute_result"
    }
   ],
   "source": [
    "len(my_lst)"
   ]
  },
  {
   "cell_type": "code",
   "execution_count": 343,
   "id": "e7130739",
   "metadata": {},
   "outputs": [
    {
     "data": {
      "text/plain": [
       "6"
      ]
     },
     "execution_count": 343,
     "metadata": {},
     "output_type": "execute_result"
    }
   ],
   "source": [
    "my_lst[0]"
   ]
  },
  {
   "cell_type": "code",
   "execution_count": 344,
   "id": "dd6454b8",
   "metadata": {},
   "outputs": [
    {
     "data": {
      "text/plain": [
       "4"
      ]
     },
     "execution_count": 344,
     "metadata": {},
     "output_type": "execute_result"
    }
   ],
   "source": [
    "my_lst[-1]"
   ]
  },
  {
   "cell_type": "code",
   "execution_count": 347,
   "id": "cff116a8",
   "metadata": {},
   "outputs": [
    {
     "data": {
      "text/plain": [
       "[3, 2, 8]"
      ]
     },
     "execution_count": 347,
     "metadata": {},
     "output_type": "execute_result"
    }
   ],
   "source": [
    "my_lst[1:-1]"
   ]
  },
  {
   "cell_type": "code",
   "execution_count": 348,
   "id": "cbaac745",
   "metadata": {},
   "outputs": [
    {
     "data": {
      "text/plain": [
       "[4, 8, 2, 3, 6]"
      ]
     },
     "execution_count": 348,
     "metadata": {},
     "output_type": "execute_result"
    }
   ],
   "source": [
    "my_lst[::-1]"
   ]
  },
  {
   "cell_type": "code",
   "execution_count": 349,
   "id": "49a8f212",
   "metadata": {},
   "outputs": [
    {
     "name": "stdout",
     "output_type": "stream",
     "text": [
      "[6, 3, 2, 8, 4]\n"
     ]
    }
   ],
   "source": [
    "print(my_lst)"
   ]
  },
  {
   "cell_type": "code",
   "execution_count": 351,
   "id": "c223bc2e",
   "metadata": {},
   "outputs": [],
   "source": [
    "my_lst[0] = 60"
   ]
  },
  {
   "cell_type": "code",
   "execution_count": 352,
   "id": "fc92fc9d",
   "metadata": {},
   "outputs": [
    {
     "data": {
      "text/plain": [
       "[60, 3, 2, 8, 4]"
      ]
     },
     "execution_count": 352,
     "metadata": {},
     "output_type": "execute_result"
    }
   ],
   "source": [
    "my_lst"
   ]
  },
  {
   "cell_type": "code",
   "execution_count": 353,
   "id": "a835c64c",
   "metadata": {},
   "outputs": [
    {
     "name": "stdout",
     "output_type": "stream",
     "text": [
      "[60, 3, 2, 8, 4]\n"
     ]
    }
   ],
   "source": [
    "print(my_lst)"
   ]
  },
  {
   "cell_type": "code",
   "execution_count": 354,
   "id": "a23eabdd",
   "metadata": {},
   "outputs": [
    {
     "name": "stdout",
     "output_type": "stream",
     "text": [
      "[60, 3, 2, 8, 4]\n"
     ]
    }
   ],
   "source": [
    "print(my_lst)"
   ]
  },
  {
   "cell_type": "code",
   "execution_count": 355,
   "id": "ee7aa642",
   "metadata": {},
   "outputs": [],
   "source": [
    "my_lst.append(100)"
   ]
  },
  {
   "cell_type": "code",
   "execution_count": 356,
   "id": "5e839f50",
   "metadata": {},
   "outputs": [
    {
     "data": {
      "text/plain": [
       "[60, 3, 2, 8, 4, 100]"
      ]
     },
     "execution_count": 356,
     "metadata": {},
     "output_type": "execute_result"
    }
   ],
   "source": [
    "my_lst"
   ]
  },
  {
   "cell_type": "code",
   "execution_count": 357,
   "id": "fc6d1e6a",
   "metadata": {},
   "outputs": [],
   "source": [
    "my_lst.insert(2,800)"
   ]
  },
  {
   "cell_type": "code",
   "execution_count": 358,
   "id": "f9f857a9",
   "metadata": {},
   "outputs": [
    {
     "data": {
      "text/plain": [
       "[60, 3, 800, 2, 8, 4, 100]"
      ]
     },
     "execution_count": 358,
     "metadata": {},
     "output_type": "execute_result"
    }
   ],
   "source": [
    "my_lst"
   ]
  },
  {
   "cell_type": "code",
   "execution_count": 359,
   "id": "e4161dbc",
   "metadata": {},
   "outputs": [
    {
     "data": {
      "text/plain": [
       "[60, 3, 800, 2, 8, 4, 100]"
      ]
     },
     "execution_count": 359,
     "metadata": {},
     "output_type": "execute_result"
    }
   ],
   "source": [
    "my_lst"
   ]
  },
  {
   "cell_type": "code",
   "execution_count": 360,
   "id": "524e8931",
   "metadata": {},
   "outputs": [
    {
     "data": {
      "text/plain": [
       "100"
      ]
     },
     "execution_count": 360,
     "metadata": {},
     "output_type": "execute_result"
    }
   ],
   "source": [
    "my_lst.pop()"
   ]
  },
  {
   "cell_type": "code",
   "execution_count": 361,
   "id": "2aafe136",
   "metadata": {},
   "outputs": [
    {
     "data": {
      "text/plain": [
       "[60, 3, 800, 2, 8, 4]"
      ]
     },
     "execution_count": 361,
     "metadata": {},
     "output_type": "execute_result"
    }
   ],
   "source": [
    "my_lst"
   ]
  },
  {
   "cell_type": "code",
   "execution_count": 362,
   "id": "0aa9ecf9",
   "metadata": {},
   "outputs": [
    {
     "data": {
      "text/plain": [
       "3"
      ]
     },
     "execution_count": 362,
     "metadata": {},
     "output_type": "execute_result"
    }
   ],
   "source": [
    "my_lst.pop(1)"
   ]
  },
  {
   "cell_type": "code",
   "execution_count": 363,
   "id": "3d8c65ac",
   "metadata": {},
   "outputs": [
    {
     "data": {
      "text/plain": [
       "[60, 800, 2, 8, 4]"
      ]
     },
     "execution_count": 363,
     "metadata": {},
     "output_type": "execute_result"
    }
   ],
   "source": [
    "my_lst"
   ]
  },
  {
   "cell_type": "code",
   "execution_count": 364,
   "id": "23e62779",
   "metadata": {},
   "outputs": [],
   "source": [
    "my_lst.remove(800)"
   ]
  },
  {
   "cell_type": "code",
   "execution_count": 365,
   "id": "b2d853ac",
   "metadata": {},
   "outputs": [
    {
     "data": {
      "text/plain": [
       "[60, 2, 8, 4]"
      ]
     },
     "execution_count": 365,
     "metadata": {},
     "output_type": "execute_result"
    }
   ],
   "source": [
    "my_lst\n"
   ]
  },
  {
   "cell_type": "code",
   "execution_count": 366,
   "id": "8c64d245",
   "metadata": {},
   "outputs": [
    {
     "name": "stdout",
     "output_type": "stream",
     "text": [
      "[60, 2, 8, 4]\n"
     ]
    }
   ],
   "source": [
    "print(my_lst)"
   ]
  },
  {
   "cell_type": "code",
   "execution_count": 367,
   "id": "0e995984",
   "metadata": {},
   "outputs": [],
   "source": [
    "my_lst.reverse()"
   ]
  },
  {
   "cell_type": "code",
   "execution_count": 368,
   "id": "458e2c9a",
   "metadata": {},
   "outputs": [
    {
     "data": {
      "text/plain": [
       "[4, 8, 2, 60]"
      ]
     },
     "execution_count": 368,
     "metadata": {},
     "output_type": "execute_result"
    }
   ],
   "source": [
    "my_lst"
   ]
  },
  {
   "cell_type": "code",
   "execution_count": 371,
   "id": "07479c00",
   "metadata": {},
   "outputs": [],
   "source": [
    "my_lst.sort(reverse=True)"
   ]
  },
  {
   "cell_type": "code",
   "execution_count": 372,
   "id": "ef329afe",
   "metadata": {},
   "outputs": [
    {
     "data": {
      "text/plain": [
       "[60, 8, 4, 2]"
      ]
     },
     "execution_count": 372,
     "metadata": {},
     "output_type": "execute_result"
    }
   ],
   "source": [
    "my_lst"
   ]
  },
  {
   "cell_type": "code",
   "execution_count": 373,
   "id": "c59eea4a",
   "metadata": {},
   "outputs": [
    {
     "data": {
      "text/plain": [
       "True"
      ]
     },
     "execution_count": 373,
     "metadata": {},
     "output_type": "execute_result"
    }
   ],
   "source": [
    "8 in my_lst"
   ]
  },
  {
   "cell_type": "code",
   "execution_count": 375,
   "id": "b77e41ee",
   "metadata": {},
   "outputs": [
    {
     "data": {
      "text/plain": [
       "True"
      ]
     },
     "execution_count": 375,
     "metadata": {},
     "output_type": "execute_result"
    }
   ],
   "source": [
    "800 not in my_lst"
   ]
  },
  {
   "cell_type": "code",
   "execution_count": 376,
   "id": "bd17db6e",
   "metadata": {},
   "outputs": [
    {
     "name": "stdout",
     "output_type": "stream",
     "text": [
      "[60, 8, 4, 2]\n"
     ]
    }
   ],
   "source": [
    "print(my_lst)"
   ]
  },
  {
   "cell_type": "code",
   "execution_count": 377,
   "id": "e13601e4",
   "metadata": {},
   "outputs": [],
   "source": [
    "my_lst.append([10,20,30])"
   ]
  },
  {
   "cell_type": "code",
   "execution_count": 378,
   "id": "f51fdf7b",
   "metadata": {},
   "outputs": [
    {
     "data": {
      "text/plain": [
       "[60, 8, 4, 2, [10, 20, 30]]"
      ]
     },
     "execution_count": 378,
     "metadata": {},
     "output_type": "execute_result"
    }
   ],
   "source": [
    "my_lst"
   ]
  },
  {
   "cell_type": "code",
   "execution_count": 379,
   "id": "2a25bad1",
   "metadata": {},
   "outputs": [],
   "source": [
    "my_lst.extend([100,200,300])"
   ]
  },
  {
   "cell_type": "code",
   "execution_count": 380,
   "id": "1044f604",
   "metadata": {},
   "outputs": [
    {
     "data": {
      "text/plain": [
       "[60, 8, 4, 2, [10, 20, 30], 100, 200, 300]"
      ]
     },
     "execution_count": 380,
     "metadata": {},
     "output_type": "execute_result"
    }
   ],
   "source": [
    "my_lst"
   ]
  },
  {
   "cell_type": "code",
   "execution_count": 381,
   "id": "2c21dbf4",
   "metadata": {},
   "outputs": [
    {
     "data": {
      "text/plain": [
       "[60, 8, 4, 2, [10, 20, 30], 100, 200, 300, 2, 6, 9]"
      ]
     },
     "execution_count": 381,
     "metadata": {},
     "output_type": "execute_result"
    }
   ],
   "source": [
    "my_lst + [2,6,9]"
   ]
  },
  {
   "cell_type": "code",
   "execution_count": 382,
   "id": "80652c5c",
   "metadata": {},
   "outputs": [],
   "source": [
    "my_lst2 = [2,3,2.3,3.6,5+9j, None, True , False, \"Python\", [2,5,8], (2,6,9), {2:25, 3:36}] "
   ]
  },
  {
   "cell_type": "code",
   "execution_count": 384,
   "id": "d1540609",
   "metadata": {},
   "outputs": [
    {
     "data": {
      "text/plain": [
       "list"
      ]
     },
     "execution_count": 384,
     "metadata": {},
     "output_type": "execute_result"
    }
   ],
   "source": [
    "type(my_lst2)"
   ]
  },
  {
   "cell_type": "code",
   "execution_count": 385,
   "id": "d4a287db",
   "metadata": {},
   "outputs": [
    {
     "data": {
      "text/plain": [
       "12"
      ]
     },
     "execution_count": 385,
     "metadata": {},
     "output_type": "execute_result"
    }
   ],
   "source": [
    "len(my_lst2)"
   ]
  },
  {
   "cell_type": "code",
   "execution_count": 386,
   "id": "8091babb",
   "metadata": {},
   "outputs": [
    {
     "ename": "TypeError",
     "evalue": "'<' not supported between instances of 'complex' and 'int'",
     "output_type": "error",
     "traceback": [
      "\u001b[1;31m---------------------------------------------------------------------------\u001b[0m",
      "\u001b[1;31mTypeError\u001b[0m                                 Traceback (most recent call last)",
      "\u001b[1;32m<ipython-input-386-8393f60a35d8>\u001b[0m in \u001b[0;36m<module>\u001b[1;34m\u001b[0m\n\u001b[1;32m----> 1\u001b[1;33m \u001b[0mmy_lst2\u001b[0m\u001b[1;33m.\u001b[0m\u001b[0msort\u001b[0m\u001b[1;33m(\u001b[0m\u001b[1;33m)\u001b[0m\u001b[1;33m\u001b[0m\u001b[1;33m\u001b[0m\u001b[0m\n\u001b[0m",
      "\u001b[1;31mTypeError\u001b[0m: '<' not supported between instances of 'complex' and 'int'"
     ]
    }
   ],
   "source": [
    "my_lst2.sort()"
   ]
  },
  {
   "cell_type": "code",
   "execution_count": 387,
   "id": "f5b6f3d0",
   "metadata": {},
   "outputs": [],
   "source": [
    "my_lst2.reverse()"
   ]
  },
  {
   "cell_type": "code",
   "execution_count": 388,
   "id": "20b7ea47",
   "metadata": {},
   "outputs": [
    {
     "data": {
      "text/plain": [
       "[{2: 25, 3: 36},\n",
       " (2, 6, 9),\n",
       " [2, 5, 8],\n",
       " 'Python',\n",
       " False,\n",
       " True,\n",
       " None,\n",
       " (5+9j),\n",
       " 3.6,\n",
       " 3,\n",
       " 2.3,\n",
       " 2]"
      ]
     },
     "execution_count": 388,
     "metadata": {},
     "output_type": "execute_result"
    }
   ],
   "source": [
    "my_lst2"
   ]
  },
  {
   "cell_type": "code",
   "execution_count": 389,
   "id": "f77135f5",
   "metadata": {},
   "outputs": [],
   "source": [
    "s = \"This course belongs to Coding Minutes.\""
   ]
  },
  {
   "cell_type": "code",
   "execution_count": 391,
   "id": "22d89aca",
   "metadata": {},
   "outputs": [],
   "source": [
    "str_lst = s.split()"
   ]
  },
  {
   "cell_type": "code",
   "execution_count": 392,
   "id": "a6ad4f1e",
   "metadata": {},
   "outputs": [
    {
     "data": {
      "text/plain": [
       "['This', 'course', 'belongs', 'to', 'Coding', 'Minutes.']"
      ]
     },
     "execution_count": 392,
     "metadata": {},
     "output_type": "execute_result"
    }
   ],
   "source": [
    "str_lst"
   ]
  },
  {
   "cell_type": "code",
   "execution_count": 394,
   "id": "074cb101",
   "metadata": {},
   "outputs": [
    {
     "data": {
      "text/plain": [
       "'This_course_belongs_to_Coding_Minutes.'"
      ]
     },
     "execution_count": 394,
     "metadata": {},
     "output_type": "execute_result"
    }
   ],
   "source": [
    "\"_\".join(str_lst)"
   ]
  },
  {
   "cell_type": "code",
   "execution_count": 397,
   "id": "085cf028",
   "metadata": {},
   "outputs": [
    {
     "name": "stdout",
     "output_type": "stream",
     "text": [
      "{2: 25, 3: 36}\n",
      "(2, 6, 9)\n",
      "[2, 5, 8]\n",
      "Python\n",
      "False\n",
      "True\n",
      "None\n",
      "(5+9j)\n",
      "3.6\n",
      "3\n",
      "2.3\n",
      "2\n"
     ]
    }
   ],
   "source": [
    "for i in my_lst2:\n",
    "    print(i)"
   ]
  },
  {
   "cell_type": "code",
   "execution_count": 400,
   "id": "b9462f2e",
   "metadata": {},
   "outputs": [],
   "source": [
    "muy_lst = list(range(1,11))"
   ]
  },
  {
   "cell_type": "code",
   "execution_count": 401,
   "id": "3ae87c5c",
   "metadata": {},
   "outputs": [],
   "source": [
    "new_lsttt = []\n",
    "for i in muy_lst:\n",
    "    if i%2==0:\n",
    "        new_lsttt.append(i**2)\n",
    "    else:\n",
    "        new_lsttt.append(i**3)\n",
    "        "
   ]
  },
  {
   "cell_type": "code",
   "execution_count": 402,
   "id": "f961ecad",
   "metadata": {},
   "outputs": [
    {
     "data": {
      "text/plain": [
       "[1, 4, 27, 16, 125, 36, 343, 64, 729, 100]"
      ]
     },
     "execution_count": 402,
     "metadata": {},
     "output_type": "execute_result"
    }
   ],
   "source": [
    "new_lsttt"
   ]
  },
  {
   "cell_type": "code",
   "execution_count": 405,
   "id": "0b1592e8",
   "metadata": {},
   "outputs": [
    {
     "data": {
      "text/plain": [
       "[1, 4, 27, 16, 125, 36, 343, 64, 729, 100]"
      ]
     },
     "execution_count": 405,
     "metadata": {},
     "output_type": "execute_result"
    }
   ],
   "source": [
    "[i**2 if i%2==0 else i**3 for i in muy_lst]"
   ]
  },
  {
   "cell_type": "code",
   "execution_count": 406,
   "id": "a5e8e3a7",
   "metadata": {},
   "outputs": [],
   "source": [
    "lst_2d = [[1,2,3], [4,5,6], [7,8,9], [10,11,12]]"
   ]
  },
  {
   "cell_type": "code",
   "execution_count": 407,
   "id": "1871bdea",
   "metadata": {},
   "outputs": [
    {
     "name": "stdout",
     "output_type": "stream",
     "text": [
      "[[1, 2, 3], [4, 5, 6], [7, 8, 9], [10, 11, 12]]\n"
     ]
    }
   ],
   "source": [
    "print(lst_2d)"
   ]
  },
  {
   "cell_type": "code",
   "execution_count": 409,
   "id": "f3e2d3e2",
   "metadata": {},
   "outputs": [
    {
     "data": {
      "text/plain": [
       "9"
      ]
     },
     "execution_count": 409,
     "metadata": {},
     "output_type": "execute_result"
    }
   ],
   "source": [
    "lst_2d[2][2]"
   ]
  },
  {
   "cell_type": "code",
   "execution_count": 411,
   "id": "4998a97c",
   "metadata": {},
   "outputs": [
    {
     "data": {
      "text/plain": [
       "9"
      ]
     },
     "execution_count": 411,
     "metadata": {},
     "output_type": "execute_result"
    }
   ],
   "source": [
    "lst_2d[-2][-1]"
   ]
  },
  {
   "cell_type": "code",
   "execution_count": 412,
   "id": "8cc7b3ad",
   "metadata": {},
   "outputs": [],
   "source": [
    "A = [[1,2],\n",
    "    [3,4]]"
   ]
  },
  {
   "cell_type": "code",
   "execution_count": 413,
   "id": "89e108e9",
   "metadata": {},
   "outputs": [],
   "source": [
    "B = [[5,6],\n",
    "    [7,8]]"
   ]
  },
  {
   "cell_type": "code",
   "execution_count": 414,
   "id": "a9e58845",
   "metadata": {},
   "outputs": [],
   "source": [
    "C = [[None, None], \n",
    "    [None, None]]"
   ]
  },
  {
   "cell_type": "code",
   "execution_count": 415,
   "id": "c6391c32",
   "metadata": {},
   "outputs": [],
   "source": [
    "for i in range(2):\n",
    "    for j in range(2):\n",
    "        C[i][j] =  A[i][j] + B[i][j]\n",
    "        "
   ]
  },
  {
   "cell_type": "code",
   "execution_count": 416,
   "id": "ce9928b4",
   "metadata": {},
   "outputs": [
    {
     "data": {
      "text/plain": [
       "[[6, 8], [10, 12]]"
      ]
     },
     "execution_count": 416,
     "metadata": {},
     "output_type": "execute_result"
    }
   ],
   "source": [
    "C"
   ]
  },
  {
   "cell_type": "code",
   "execution_count": 417,
   "id": "9539001d",
   "metadata": {},
   "outputs": [
    {
     "data": {
      "text/plain": [
       "[[6, 8], [10, 12]]"
      ]
     },
     "execution_count": 417,
     "metadata": {},
     "output_type": "execute_result"
    }
   ],
   "source": [
    "C"
   ]
  },
  {
   "cell_type": "code",
   "execution_count": 418,
   "id": "dab0c334",
   "metadata": {},
   "outputs": [
    {
     "data": {
      "text/plain": [
       "[1, 1, 1, 1, 1, 1, 1, 1, 1, 1]"
      ]
     },
     "execution_count": 418,
     "metadata": {},
     "output_type": "execute_result"
    }
   ],
   "source": [
    "[1]*10"
   ]
  },
  {
   "cell_type": "code",
   "execution_count": 421,
   "id": "81ea2678",
   "metadata": {},
   "outputs": [
    {
     "data": {
      "text/plain": [
       "[[None, None, None, None, None],\n",
       " [None, None, None, None, None],\n",
       " [None, None, None, None, None],\n",
       " [None, None, None, None, None],\n",
       " [None, None, None, None, None]]"
      ]
     },
     "execution_count": 421,
     "metadata": {},
     "output_type": "execute_result"
    }
   ],
   "source": [
    "[[None]*5]*5"
   ]
  },
  {
   "cell_type": "code",
   "execution_count": 427,
   "id": "0ffcd9f1",
   "metadata": {},
   "outputs": [],
   "source": [
    "lst = [1,2,3,4,5]"
   ]
  },
  {
   "cell_type": "code",
   "execution_count": 428,
   "id": "fd317c83",
   "metadata": {},
   "outputs": [],
   "source": [
    "abc = lst.copy()"
   ]
  },
  {
   "cell_type": "code",
   "execution_count": 429,
   "id": "a8026d52",
   "metadata": {},
   "outputs": [],
   "source": [
    "abc.append(456)"
   ]
  },
  {
   "cell_type": "code",
   "execution_count": 430,
   "id": "874f2cf1",
   "metadata": {},
   "outputs": [
    {
     "data": {
      "text/plain": [
       "[1, 2, 3, 4, 5]"
      ]
     },
     "execution_count": 430,
     "metadata": {},
     "output_type": "execute_result"
    }
   ],
   "source": [
    "lst"
   ]
  },
  {
   "cell_type": "code",
   "execution_count": 431,
   "id": "9d05a806",
   "metadata": {},
   "outputs": [
    {
     "data": {
      "text/plain": [
       "[1, 2, 3, 4, 5, 456]"
      ]
     },
     "execution_count": 431,
     "metadata": {},
     "output_type": "execute_result"
    }
   ],
   "source": [
    "abc"
   ]
  },
  {
   "cell_type": "code",
   "execution_count": 25,
   "id": "3fde472f",
   "metadata": {},
   "outputs": [],
   "source": [
    "lst = [3,5,2,7,8,9]\n",
    "steps = 1\n"
   ]
  },
  {
   "cell_type": "code",
   "execution_count": 26,
   "id": "90ddf935",
   "metadata": {},
   "outputs": [],
   "source": [
    "n = len(lst)-1    "
   ]
  },
  {
   "cell_type": "code",
   "execution_count": 27,
   "id": "0d5dfe79",
   "metadata": {},
   "outputs": [],
   "source": [
    "for j in range(steps):\n",
    "    key = lst[-1]\n",
    "    for i in range(n,0,-1):\n",
    "        lst[i] = lst[i-1]\n",
    "    lst[0] = key\n",
    "    "
   ]
  },
  {
   "cell_type": "code",
   "execution_count": 28,
   "id": "6634c1e3",
   "metadata": {},
   "outputs": [
    {
     "data": {
      "text/plain": [
       "[9, 3, 5, 2, 7, 8]"
      ]
     },
     "execution_count": 28,
     "metadata": {},
     "output_type": "execute_result"
    }
   ],
   "source": [
    "lst"
   ]
  },
  {
   "cell_type": "code",
   "execution_count": 30,
   "id": "b0431b7f",
   "metadata": {},
   "outputs": [],
   "source": [
    "lst = [3,5,2,7,8,9]\n",
    "steps = 5\n",
    "\n",
    "n = len(lst)\n",
    "\n",
    "for j in range(steps):\n",
    "    key = lst[-1]\n",
    "    for i in range(n-1,0,-1):\n",
    "        lst[i] = lst[i-1]\n",
    "        \n",
    "    lst[0] = key\n",
    "        \n",
    "    "
   ]
  },
  {
   "cell_type": "code",
   "execution_count": 31,
   "id": "e631528c",
   "metadata": {},
   "outputs": [
    {
     "data": {
      "text/plain": [
       "[5, 2, 7, 8, 9, 3]"
      ]
     },
     "execution_count": 31,
     "metadata": {},
     "output_type": "execute_result"
    }
   ],
   "source": [
    "lst"
   ]
  },
  {
   "cell_type": "code",
   "execution_count": 33,
   "id": "ab82c9d7",
   "metadata": {},
   "outputs": [
    {
     "data": {
      "text/plain": [
       "tuple"
      ]
     },
     "execution_count": 33,
     "metadata": {},
     "output_type": "execute_result"
    }
   ],
   "source": [
    "type(())"
   ]
  },
  {
   "cell_type": "code",
   "execution_count": 34,
   "id": "2b02bd4d",
   "metadata": {},
   "outputs": [],
   "source": [
    "t = ()"
   ]
  },
  {
   "cell_type": "code",
   "execution_count": 35,
   "id": "cbf39ce8",
   "metadata": {},
   "outputs": [],
   "source": [
    "t = tuple()"
   ]
  },
  {
   "cell_type": "code",
   "execution_count": 36,
   "id": "ebb768ad",
   "metadata": {},
   "outputs": [
    {
     "data": {
      "text/plain": [
       "tuple"
      ]
     },
     "execution_count": 36,
     "metadata": {},
     "output_type": "execute_result"
    }
   ],
   "source": [
    "type(t)"
   ]
  },
  {
   "cell_type": "code",
   "execution_count": 39,
   "id": "fdaebe3b",
   "metadata": {},
   "outputs": [],
   "source": [
    "tup = (8,9,\"machine learning\", \"hello\", 88, 2.36, 5+4j, [2,4,6], (7,8,9), {5:9, 8:7}, True, False)"
   ]
  },
  {
   "cell_type": "code",
   "execution_count": 40,
   "id": "ec730ca8",
   "metadata": {},
   "outputs": [
    {
     "data": {
      "text/plain": [
       "tuple"
      ]
     },
     "execution_count": 40,
     "metadata": {},
     "output_type": "execute_result"
    }
   ],
   "source": [
    "type(tup)"
   ]
  },
  {
   "cell_type": "code",
   "execution_count": 45,
   "id": "7e57b770",
   "metadata": {},
   "outputs": [],
   "source": [
    "t =( 4,)"
   ]
  },
  {
   "cell_type": "code",
   "execution_count": 46,
   "id": "f4fc9c0d",
   "metadata": {},
   "outputs": [
    {
     "data": {
      "text/plain": [
       "tuple"
      ]
     },
     "execution_count": 46,
     "metadata": {},
     "output_type": "execute_result"
    }
   ],
   "source": [
    "type(t)"
   ]
  },
  {
   "cell_type": "code",
   "execution_count": 49,
   "id": "0d2d95bb",
   "metadata": {},
   "outputs": [],
   "source": [
    "t = 'pythonb',"
   ]
  },
  {
   "cell_type": "code",
   "execution_count": 50,
   "id": "c2506b39",
   "metadata": {},
   "outputs": [
    {
     "data": {
      "text/plain": [
       "tuple"
      ]
     },
     "execution_count": 50,
     "metadata": {},
     "output_type": "execute_result"
    }
   ],
   "source": [
    "type(t)"
   ]
  },
  {
   "cell_type": "code",
   "execution_count": 51,
   "id": "7c49ae44",
   "metadata": {},
   "outputs": [
    {
     "name": "stdout",
     "output_type": "stream",
     "text": [
      "(8, 9, 'machine learning', 'hello', 88, 2.36, (5+4j), [2, 4, 6], (7, 8, 9), {5: 9, 8: 7}, True, False)\n"
     ]
    }
   ],
   "source": [
    "print(tup)"
   ]
  },
  {
   "cell_type": "code",
   "execution_count": 52,
   "id": "2c89dcf6",
   "metadata": {},
   "outputs": [
    {
     "data": {
      "text/plain": [
       "8"
      ]
     },
     "execution_count": 52,
     "metadata": {},
     "output_type": "execute_result"
    }
   ],
   "source": [
    "tup[0]"
   ]
  },
  {
   "cell_type": "code",
   "execution_count": 53,
   "id": "664bfb76",
   "metadata": {},
   "outputs": [
    {
     "data": {
      "text/plain": [
       "False"
      ]
     },
     "execution_count": 53,
     "metadata": {},
     "output_type": "execute_result"
    }
   ],
   "source": [
    "tup[-1]"
   ]
  },
  {
   "cell_type": "code",
   "execution_count": 55,
   "id": "9383fafe",
   "metadata": {},
   "outputs": [
    {
     "data": {
      "text/plain": [
       "(8,\n",
       " 9,\n",
       " 'machine learning',\n",
       " 'hello',\n",
       " 88,\n",
       " 2.36,\n",
       " (5+4j),\n",
       " [2, 4, 6],\n",
       " (7, 8, 9),\n",
       " {5: 9, 8: 7})"
      ]
     },
     "execution_count": 55,
     "metadata": {},
     "output_type": "execute_result"
    }
   ],
   "source": [
    "tup[:-2]"
   ]
  },
  {
   "cell_type": "code",
   "execution_count": 58,
   "id": "d43e98fd",
   "metadata": {},
   "outputs": [
    {
     "ename": "TypeError",
     "evalue": "'tuple' object does not support item assignment",
     "output_type": "error",
     "traceback": [
      "\u001b[1;31m---------------------------------------------------------------------------\u001b[0m",
      "\u001b[1;31mTypeError\u001b[0m                                 Traceback (most recent call last)",
      "\u001b[1;32m<ipython-input-58-15190ade81bd>\u001b[0m in \u001b[0;36m<module>\u001b[1;34m\u001b[0m\n\u001b[1;32m----> 1\u001b[1;33m \u001b[0mtup\u001b[0m\u001b[1;33m[\u001b[0m\u001b[1;36m0\u001b[0m\u001b[1;33m]\u001b[0m \u001b[1;33m=\u001b[0m \u001b[1;36m800\u001b[0m\u001b[1;33m\u001b[0m\u001b[1;33m\u001b[0m\u001b[0m\n\u001b[0m",
      "\u001b[1;31mTypeError\u001b[0m: 'tuple' object does not support item assignment"
     ]
    }
   ],
   "source": [
    "tup[0] = 800"
   ]
  },
  {
   "cell_type": "code",
   "execution_count": 59,
   "id": "dc031d81",
   "metadata": {},
   "outputs": [],
   "source": [
    "lst = ['computer vision', 'machine learning', 'python']"
   ]
  },
  {
   "cell_type": "code",
   "execution_count": 60,
   "id": "8ef143b6",
   "metadata": {},
   "outputs": [],
   "source": [
    "tup = (20,30,lst, (1,2,3), 104.0)"
   ]
  },
  {
   "cell_type": "code",
   "execution_count": 62,
   "id": "98732f09",
   "metadata": {},
   "outputs": [
    {
     "name": "stdout",
     "output_type": "stream",
     "text": [
      "['computer vision', 'machine learning', 'python']\n"
     ]
    }
   ],
   "source": [
    "print(lst)"
   ]
  },
  {
   "cell_type": "code",
   "execution_count": 63,
   "id": "26524050",
   "metadata": {},
   "outputs": [
    {
     "name": "stdout",
     "output_type": "stream",
     "text": [
      "(20, 30, ['computer vision', 'machine learning', 'python'], (1, 2, 3), 104.0)\n"
     ]
    }
   ],
   "source": [
    "print(tup)"
   ]
  },
  {
   "cell_type": "code",
   "execution_count": 66,
   "id": "0c5a6209",
   "metadata": {},
   "outputs": [],
   "source": [
    "tup[2][1] = \"Advanced machine learning\""
   ]
  },
  {
   "cell_type": "code",
   "execution_count": 67,
   "id": "d00af735",
   "metadata": {},
   "outputs": [
    {
     "data": {
      "text/plain": [
       "(20,\n",
       " 30,\n",
       " ['computer vision', 'Advanced machine learning', 'python'],\n",
       " (1, 2, 3),\n",
       " 104.0)"
      ]
     },
     "execution_count": 67,
     "metadata": {},
     "output_type": "execute_result"
    }
   ],
   "source": [
    "tup"
   ]
  },
  {
   "cell_type": "code",
   "execution_count": 68,
   "id": "9e973526",
   "metadata": {},
   "outputs": [
    {
     "name": "stdout",
     "output_type": "stream",
     "text": [
      "20\n",
      "30\n",
      "['computer vision', 'Advanced machine learning', 'python']\n",
      "(1, 2, 3)\n",
      "104.0\n"
     ]
    }
   ],
   "source": [
    "for i in tup:\n",
    "    print(i)"
   ]
  },
  {
   "cell_type": "code",
   "execution_count": 71,
   "id": "3772fca0",
   "metadata": {},
   "outputs": [],
   "source": [
    "t = (1,2,3) + (4,5,6)"
   ]
  },
  {
   "cell_type": "code",
   "execution_count": 72,
   "id": "b4cedc96",
   "metadata": {},
   "outputs": [
    {
     "name": "stdout",
     "output_type": "stream",
     "text": [
      "(1, 2, 3, 4, 5, 6)\n"
     ]
    }
   ],
   "source": [
    "print(t)"
   ]
  },
  {
   "cell_type": "code",
   "execution_count": 76,
   "id": "de0f6280",
   "metadata": {},
   "outputs": [
    {
     "data": {
      "text/plain": [
       "(0, 0, 0, 0, 0, 0, 0, 0, 0, 0)"
      ]
     },
     "execution_count": 76,
     "metadata": {},
     "output_type": "execute_result"
    }
   ],
   "source": [
    "(0,)*10"
   ]
  },
  {
   "cell_type": "code",
   "execution_count": 77,
   "id": "10360b33",
   "metadata": {},
   "outputs": [
    {
     "data": {
      "text/plain": [
       "(1, 2, 3, 4, 5, 6)"
      ]
     },
     "execution_count": 77,
     "metadata": {},
     "output_type": "execute_result"
    }
   ],
   "source": [
    "t"
   ]
  },
  {
   "cell_type": "code",
   "execution_count": 78,
   "id": "8ce3ce43",
   "metadata": {},
   "outputs": [],
   "source": [
    "del t"
   ]
  },
  {
   "cell_type": "code",
   "execution_count": 79,
   "id": "274cd253",
   "metadata": {},
   "outputs": [
    {
     "ename": "NameError",
     "evalue": "name 't' is not defined",
     "output_type": "error",
     "traceback": [
      "\u001b[1;31m---------------------------------------------------------------------------\u001b[0m",
      "\u001b[1;31mNameError\u001b[0m                                 Traceback (most recent call last)",
      "\u001b[1;32m<ipython-input-79-34fc7a11cb38>\u001b[0m in \u001b[0;36m<module>\u001b[1;34m\u001b[0m\n\u001b[1;32m----> 1\u001b[1;33m \u001b[0mt\u001b[0m\u001b[1;33m\u001b[0m\u001b[1;33m\u001b[0m\u001b[0m\n\u001b[0m",
      "\u001b[1;31mNameError\u001b[0m: name 't' is not defined"
     ]
    }
   ],
   "source": [
    "t"
   ]
  },
  {
   "cell_type": "code",
   "execution_count": 80,
   "id": "c9bc9d1e",
   "metadata": {},
   "outputs": [
    {
     "data": {
      "text/plain": [
       "(20,\n",
       " 30,\n",
       " ['computer vision', 'Advanced machine learning', 'python'],\n",
       " (1, 2, 3),\n",
       " 104.0)"
      ]
     },
     "execution_count": 80,
     "metadata": {},
     "output_type": "execute_result"
    }
   ],
   "source": [
    "tup"
   ]
  },
  {
   "cell_type": "code",
   "execution_count": 81,
   "id": "af6877ef",
   "metadata": {},
   "outputs": [
    {
     "data": {
      "text/plain": [
       "1"
      ]
     },
     "execution_count": 81,
     "metadata": {},
     "output_type": "execute_result"
    }
   ],
   "source": [
    "tup.index(30)"
   ]
  },
  {
   "cell_type": "code",
   "execution_count": 82,
   "id": "372c6594",
   "metadata": {},
   "outputs": [
    {
     "data": {
      "text/plain": [
       "1"
      ]
     },
     "execution_count": 82,
     "metadata": {},
     "output_type": "execute_result"
    }
   ],
   "source": [
    "tup.count(30)"
   ]
  },
  {
   "cell_type": "code",
   "execution_count": 83,
   "id": "e5b7cf36",
   "metadata": {},
   "outputs": [
    {
     "data": {
      "text/plain": [
       "(20,\n",
       " 30,\n",
       " ['computer vision', 'Advanced machine learning', 'python'],\n",
       " (1, 2, 3),\n",
       " 104.0)"
      ]
     },
     "execution_count": 83,
     "metadata": {},
     "output_type": "execute_result"
    }
   ],
   "source": [
    "tup"
   ]
  },
  {
   "cell_type": "code",
   "execution_count": 84,
   "id": "d2aca98d",
   "metadata": {},
   "outputs": [
    {
     "data": {
      "text/plain": [
       "True"
      ]
     },
     "execution_count": 84,
     "metadata": {},
     "output_type": "execute_result"
    }
   ],
   "source": [
    "20 in tup"
   ]
  },
  {
   "cell_type": "code",
   "execution_count": 85,
   "id": "7bbd6a4b",
   "metadata": {},
   "outputs": [
    {
     "data": {
      "text/plain": [
       "False"
      ]
     },
     "execution_count": 85,
     "metadata": {},
     "output_type": "execute_result"
    }
   ],
   "source": [
    "20 not in tup"
   ]
  },
  {
   "cell_type": "code",
   "execution_count": 103,
   "id": "ee74c83d",
   "metadata": {},
   "outputs": [],
   "source": [
    "t = ([5,9,7,6], 7 ,8)"
   ]
  },
  {
   "cell_type": "code",
   "execution_count": 99,
   "id": "328a0ad2",
   "metadata": {},
   "outputs": [],
   "source": [
    "a,b,c = t"
   ]
  },
  {
   "cell_type": "code",
   "execution_count": 100,
   "id": "93564f9a",
   "metadata": {},
   "outputs": [
    {
     "data": {
      "text/plain": [
       "[5, 9, 7, 6]"
      ]
     },
     "execution_count": 100,
     "metadata": {},
     "output_type": "execute_result"
    }
   ],
   "source": [
    "a"
   ]
  },
  {
   "cell_type": "code",
   "execution_count": 101,
   "id": "aaac3665",
   "metadata": {},
   "outputs": [
    {
     "data": {
      "text/plain": [
       "7"
      ]
     },
     "execution_count": 101,
     "metadata": {},
     "output_type": "execute_result"
    }
   ],
   "source": [
    "b"
   ]
  },
  {
   "cell_type": "code",
   "execution_count": 102,
   "id": "55d60075",
   "metadata": {},
   "outputs": [
    {
     "data": {
      "text/plain": [
       "8"
      ]
     },
     "execution_count": 102,
     "metadata": {},
     "output_type": "execute_result"
    }
   ],
   "source": [
    "c"
   ]
  },
  {
   "cell_type": "code",
   "execution_count": 105,
   "id": "bd610589",
   "metadata": {},
   "outputs": [
    {
     "name": "stdout",
     "output_type": "stream",
     "text": [
      "[5, 9, 7, 6] 7 8\n"
     ]
    }
   ],
   "source": [
    "print(*t)"
   ]
  },
  {
   "cell_type": "code",
   "execution_count": 107,
   "id": "b30d9a97",
   "metadata": {},
   "outputs": [],
   "source": [
    "s = set()"
   ]
  },
  {
   "cell_type": "code",
   "execution_count": 108,
   "id": "03e81856",
   "metadata": {},
   "outputs": [
    {
     "data": {
      "text/plain": [
       "set"
      ]
     },
     "execution_count": 108,
     "metadata": {},
     "output_type": "execute_result"
    }
   ],
   "source": [
    "type(s)"
   ]
  },
  {
   "cell_type": "code",
   "execution_count": 109,
   "id": "8009bc87",
   "metadata": {},
   "outputs": [],
   "source": [
    "my_set = {9,7,7, 1,8,9,7,5,1}"
   ]
  },
  {
   "cell_type": "code",
   "execution_count": 110,
   "id": "40cc0f87",
   "metadata": {},
   "outputs": [
    {
     "data": {
      "text/plain": [
       "{1, 5, 7, 8, 9}"
      ]
     },
     "execution_count": 110,
     "metadata": {},
     "output_type": "execute_result"
    }
   ],
   "source": [
    "my_set"
   ]
  },
  {
   "cell_type": "code",
   "execution_count": 111,
   "id": "987af6d9",
   "metadata": {},
   "outputs": [
    {
     "data": {
      "text/plain": [
       "set"
      ]
     },
     "execution_count": 111,
     "metadata": {},
     "output_type": "execute_result"
    }
   ],
   "source": [
    "type(my_set)"
   ]
  },
  {
   "cell_type": "code",
   "execution_count": 112,
   "id": "28f1183a",
   "metadata": {},
   "outputs": [],
   "source": [
    "my_set.add(154)"
   ]
  },
  {
   "cell_type": "code",
   "execution_count": 113,
   "id": "0f24bebc",
   "metadata": {},
   "outputs": [
    {
     "data": {
      "text/plain": [
       "{1, 5, 7, 8, 9, 154}"
      ]
     },
     "execution_count": 113,
     "metadata": {},
     "output_type": "execute_result"
    }
   ],
   "source": [
    "my_set"
   ]
  },
  {
   "cell_type": "code",
   "execution_count": 114,
   "id": "07ba8005",
   "metadata": {},
   "outputs": [],
   "source": [
    "my_set.add(154)"
   ]
  },
  {
   "cell_type": "code",
   "execution_count": 115,
   "id": "f126a142",
   "metadata": {},
   "outputs": [
    {
     "data": {
      "text/plain": [
       "{1, 5, 7, 8, 9, 154}"
      ]
     },
     "execution_count": 115,
     "metadata": {},
     "output_type": "execute_result"
    }
   ],
   "source": [
    "my_set"
   ]
  },
  {
   "cell_type": "code",
   "execution_count": 116,
   "id": "b4babac7",
   "metadata": {},
   "outputs": [],
   "source": [
    "my_set.remove(9)"
   ]
  },
  {
   "cell_type": "code",
   "execution_count": 117,
   "id": "0f2bb530",
   "metadata": {},
   "outputs": [
    {
     "data": {
      "text/plain": [
       "{1, 5, 7, 8, 154}"
      ]
     },
     "execution_count": 117,
     "metadata": {},
     "output_type": "execute_result"
    }
   ],
   "source": [
    "my_set"
   ]
  },
  {
   "cell_type": "code",
   "execution_count": 118,
   "id": "4353b022",
   "metadata": {},
   "outputs": [
    {
     "ename": "KeyError",
     "evalue": "9",
     "output_type": "error",
     "traceback": [
      "\u001b[1;31m---------------------------------------------------------------------------\u001b[0m",
      "\u001b[1;31mKeyError\u001b[0m                                  Traceback (most recent call last)",
      "\u001b[1;32m<ipython-input-118-1a72a7287f6f>\u001b[0m in \u001b[0;36m<module>\u001b[1;34m\u001b[0m\n\u001b[1;32m----> 1\u001b[1;33m \u001b[0mmy_set\u001b[0m\u001b[1;33m.\u001b[0m\u001b[0mremove\u001b[0m\u001b[1;33m(\u001b[0m\u001b[1;36m9\u001b[0m\u001b[1;33m)\u001b[0m\u001b[1;33m\u001b[0m\u001b[1;33m\u001b[0m\u001b[0m\n\u001b[0m",
      "\u001b[1;31mKeyError\u001b[0m: 9"
     ]
    }
   ],
   "source": [
    "my_set.remove(9)"
   ]
  },
  {
   "cell_type": "code",
   "execution_count": 120,
   "id": "49024c69",
   "metadata": {},
   "outputs": [],
   "source": [
    "my_set.discard(8)"
   ]
  },
  {
   "cell_type": "code",
   "execution_count": 121,
   "id": "3293b1fb",
   "metadata": {},
   "outputs": [
    {
     "data": {
      "text/plain": [
       "{1, 5, 7, 154}"
      ]
     },
     "execution_count": 121,
     "metadata": {},
     "output_type": "execute_result"
    }
   ],
   "source": [
    "my_set"
   ]
  },
  {
   "cell_type": "code",
   "execution_count": 122,
   "id": "81a71794",
   "metadata": {},
   "outputs": [],
   "source": [
    "my_set.discard(8)"
   ]
  },
  {
   "cell_type": "code",
   "execution_count": 123,
   "id": "31345a22",
   "metadata": {},
   "outputs": [
    {
     "ename": "TypeError",
     "evalue": "'set' object is not subscriptable",
     "output_type": "error",
     "traceback": [
      "\u001b[1;31m---------------------------------------------------------------------------\u001b[0m",
      "\u001b[1;31mTypeError\u001b[0m                                 Traceback (most recent call last)",
      "\u001b[1;32m<ipython-input-123-0d2f9e28ef76>\u001b[0m in \u001b[0;36m<module>\u001b[1;34m\u001b[0m\n\u001b[1;32m----> 1\u001b[1;33m \u001b[0mmy_set\u001b[0m\u001b[1;33m[\u001b[0m\u001b[1;36m2\u001b[0m\u001b[1;33m]\u001b[0m\u001b[1;33m\u001b[0m\u001b[1;33m\u001b[0m\u001b[0m\n\u001b[0m",
      "\u001b[1;31mTypeError\u001b[0m: 'set' object is not subscriptable"
     ]
    }
   ],
   "source": [
    "my_set[2]"
   ]
  },
  {
   "cell_type": "code",
   "execution_count": 127,
   "id": "e8f6f312",
   "metadata": {},
   "outputs": [],
   "source": [
    "my_set.update([2,3,4,100,5])"
   ]
  },
  {
   "cell_type": "code",
   "execution_count": 128,
   "id": "348b9bca",
   "metadata": {},
   "outputs": [
    {
     "data": {
      "text/plain": [
       "{1, 2, 3, 4, 5, 7, 100, 154}"
      ]
     },
     "execution_count": 128,
     "metadata": {},
     "output_type": "execute_result"
    }
   ],
   "source": [
    "my_set"
   ]
  },
  {
   "cell_type": "code",
   "execution_count": 129,
   "id": "0c611993",
   "metadata": {},
   "outputs": [],
   "source": [
    "s1 = {1,3,4,5,8}"
   ]
  },
  {
   "cell_type": "code",
   "execution_count": 130,
   "id": "1409aa7a",
   "metadata": {},
   "outputs": [],
   "source": [
    "s2 = {4,5,6,7,1,9}"
   ]
  },
  {
   "cell_type": "code",
   "execution_count": 131,
   "id": "9edcb78b",
   "metadata": {},
   "outputs": [
    {
     "data": {
      "text/plain": [
       "{1, 3, 4, 5, 6, 7, 8, 9}"
      ]
     },
     "execution_count": 131,
     "metadata": {},
     "output_type": "execute_result"
    }
   ],
   "source": [
    "s1.union(s2)"
   ]
  },
  {
   "cell_type": "code",
   "execution_count": 132,
   "id": "5f419626",
   "metadata": {},
   "outputs": [
    {
     "data": {
      "text/plain": [
       "{1, 3, 4, 5, 6, 7, 8, 9}"
      ]
     },
     "execution_count": 132,
     "metadata": {},
     "output_type": "execute_result"
    }
   ],
   "source": [
    "s1|s2"
   ]
  },
  {
   "cell_type": "code",
   "execution_count": 133,
   "id": "32bd9f31",
   "metadata": {},
   "outputs": [
    {
     "data": {
      "text/plain": [
       "{1, 4, 5}"
      ]
     },
     "execution_count": 133,
     "metadata": {},
     "output_type": "execute_result"
    }
   ],
   "source": [
    "s1.intersection(s2)"
   ]
  },
  {
   "cell_type": "code",
   "execution_count": 134,
   "id": "14972af2",
   "metadata": {},
   "outputs": [
    {
     "data": {
      "text/plain": [
       "{1, 4, 5}"
      ]
     },
     "execution_count": 134,
     "metadata": {},
     "output_type": "execute_result"
    }
   ],
   "source": [
    "s1&s2"
   ]
  },
  {
   "cell_type": "code",
   "execution_count": 135,
   "id": "9e21002a",
   "metadata": {},
   "outputs": [
    {
     "data": {
      "text/plain": [
       "{3, 8}"
      ]
     },
     "execution_count": 135,
     "metadata": {},
     "output_type": "execute_result"
    }
   ],
   "source": [
    "s1-s2"
   ]
  },
  {
   "cell_type": "code",
   "execution_count": 136,
   "id": "83d55d7f",
   "metadata": {},
   "outputs": [
    {
     "data": {
      "text/plain": [
       "{3, 8}"
      ]
     },
     "execution_count": 136,
     "metadata": {},
     "output_type": "execute_result"
    }
   ],
   "source": [
    "s1.difference(s2)"
   ]
  },
  {
   "cell_type": "code",
   "execution_count": 137,
   "id": "69e0e72d",
   "metadata": {},
   "outputs": [
    {
     "data": {
      "text/plain": [
       "{3, 6, 7, 8, 9}"
      ]
     },
     "execution_count": 137,
     "metadata": {},
     "output_type": "execute_result"
    }
   ],
   "source": [
    "s1.symmetric_difference(s2)"
   ]
  },
  {
   "cell_type": "code",
   "execution_count": 139,
   "id": "ea09de13",
   "metadata": {},
   "outputs": [
    {
     "data": {
      "text/plain": [
       "{3, 6, 7, 8, 9}"
      ]
     },
     "execution_count": 139,
     "metadata": {},
     "output_type": "execute_result"
    }
   ],
   "source": [
    "(s1|s2) - (s1&s2)"
   ]
  },
  {
   "cell_type": "code",
   "execution_count": 140,
   "id": "048ac326",
   "metadata": {},
   "outputs": [],
   "source": [
    "some_list = [6,3,7,6,4,1,0,9,2,1,0,8,6,4,7]"
   ]
  },
  {
   "cell_type": "code",
   "execution_count": 141,
   "id": "6a416944",
   "metadata": {},
   "outputs": [],
   "source": [
    "some_set = set(some_list)"
   ]
  },
  {
   "cell_type": "code",
   "execution_count": 142,
   "id": "878c6dfb",
   "metadata": {},
   "outputs": [
    {
     "data": {
      "text/plain": [
       "{0, 1, 2, 3, 4, 6, 7, 8, 9}"
      ]
     },
     "execution_count": 142,
     "metadata": {},
     "output_type": "execute_result"
    }
   ],
   "source": [
    "some_set"
   ]
  },
  {
   "cell_type": "code",
   "execution_count": 143,
   "id": "c66f43d8",
   "metadata": {},
   "outputs": [],
   "source": [
    "some_list = list(some_set)"
   ]
  },
  {
   "cell_type": "code",
   "execution_count": 144,
   "id": "07d4d05a",
   "metadata": {},
   "outputs": [
    {
     "data": {
      "text/plain": [
       "[0, 1, 2, 3, 4, 6, 7, 8, 9]"
      ]
     },
     "execution_count": 144,
     "metadata": {},
     "output_type": "execute_result"
    }
   ],
   "source": [
    "some_list"
   ]
  },
  {
   "cell_type": "code",
   "execution_count": 145,
   "id": "08c88951",
   "metadata": {},
   "outputs": [
    {
     "data": {
      "text/plain": [
       "True"
      ]
     },
     "execution_count": 145,
     "metadata": {},
     "output_type": "execute_result"
    }
   ],
   "source": [
    "2 in {2,4,5,7,1,6,3,10}"
   ]
  },
  {
   "cell_type": "code",
   "execution_count": 146,
   "id": "b7a36d92",
   "metadata": {},
   "outputs": [
    {
     "data": {
      "text/plain": [
       "False"
      ]
     },
     "execution_count": 146,
     "metadata": {},
     "output_type": "execute_result"
    }
   ],
   "source": [
    "3 not in {2,4,5,7,1,6,3,10}"
   ]
  },
  {
   "cell_type": "code",
   "execution_count": 150,
   "id": "b03a3baf",
   "metadata": {},
   "outputs": [],
   "source": [
    "dic = {}"
   ]
  },
  {
   "cell_type": "code",
   "execution_count": 151,
   "id": "0840c796",
   "metadata": {},
   "outputs": [],
   "source": [
    "dic = dict()"
   ]
  },
  {
   "cell_type": "code",
   "execution_count": 152,
   "id": "606c11ab",
   "metadata": {},
   "outputs": [
    {
     "data": {
      "text/plain": [
       "dict"
      ]
     },
     "execution_count": 152,
     "metadata": {},
     "output_type": "execute_result"
    }
   ],
   "source": [
    "type(dic)"
   ]
  },
  {
   "cell_type": "code",
   "execution_count": 154,
   "id": "1e625766",
   "metadata": {},
   "outputs": [],
   "source": [
    "my_dict = dict([(1,\"abc\"), (2, \"xyz\")])"
   ]
  },
  {
   "cell_type": "code",
   "execution_count": 155,
   "id": "fd3fcc1e",
   "metadata": {},
   "outputs": [
    {
     "data": {
      "text/plain": [
       "{1: 'abc', 2: 'xyz'}"
      ]
     },
     "execution_count": 155,
     "metadata": {},
     "output_type": "execute_result"
    }
   ],
   "source": [
    "my_dict"
   ]
  },
  {
   "cell_type": "code",
   "execution_count": 156,
   "id": "7a159e46",
   "metadata": {},
   "outputs": [],
   "source": [
    "user_info = {\n",
    "    'name' : \"mohit\",\n",
    "    'age' : 24,\n",
    "    \"nationality\":\"Indian\"\n",
    "}"
   ]
  },
  {
   "cell_type": "code",
   "execution_count": 157,
   "id": "2fb9c7b1",
   "metadata": {},
   "outputs": [
    {
     "data": {
      "text/plain": [
       "{'name': 'mohit', 'age': 24, 'nationality': 'Indian'}"
      ]
     },
     "execution_count": 157,
     "metadata": {},
     "output_type": "execute_result"
    }
   ],
   "source": [
    "user_info\n"
   ]
  },
  {
   "cell_type": "code",
   "execution_count": 158,
   "id": "a1561d1f",
   "metadata": {},
   "outputs": [
    {
     "data": {
      "text/plain": [
       "dict"
      ]
     },
     "execution_count": 158,
     "metadata": {},
     "output_type": "execute_result"
    }
   ],
   "source": [
    "type(user_info)"
   ]
  },
  {
   "cell_type": "code",
   "execution_count": 159,
   "id": "3a714666",
   "metadata": {},
   "outputs": [
    {
     "data": {
      "text/plain": [
       "{'name': 'mohit', 'age': 24, 'nationality': 'Indian'}"
      ]
     },
     "execution_count": 159,
     "metadata": {},
     "output_type": "execute_result"
    }
   ],
   "source": [
    "user_info"
   ]
  },
  {
   "cell_type": "code",
   "execution_count": 160,
   "id": "856e9a98",
   "metadata": {},
   "outputs": [
    {
     "data": {
      "text/plain": [
       "'mohit'"
      ]
     },
     "execution_count": 160,
     "metadata": {},
     "output_type": "execute_result"
    }
   ],
   "source": [
    "user_info['name']"
   ]
  },
  {
   "cell_type": "code",
   "execution_count": 161,
   "id": "43a45fde",
   "metadata": {},
   "outputs": [
    {
     "data": {
      "text/plain": [
       "24"
      ]
     },
     "execution_count": 161,
     "metadata": {},
     "output_type": "execute_result"
    }
   ],
   "source": [
    "user_info['age']"
   ]
  },
  {
   "cell_type": "code",
   "execution_count": 162,
   "id": "df667fcb",
   "metadata": {},
   "outputs": [
    {
     "ename": "KeyError",
     "evalue": "'hobby'",
     "output_type": "error",
     "traceback": [
      "\u001b[1;31m---------------------------------------------------------------------------\u001b[0m",
      "\u001b[1;31mKeyError\u001b[0m                                  Traceback (most recent call last)",
      "\u001b[1;32m<ipython-input-162-ec56ead5a4d9>\u001b[0m in \u001b[0;36m<module>\u001b[1;34m\u001b[0m\n\u001b[1;32m----> 1\u001b[1;33m \u001b[0muser_info\u001b[0m\u001b[1;33m[\u001b[0m\u001b[1;34m'hobby'\u001b[0m\u001b[1;33m]\u001b[0m\u001b[1;33m\u001b[0m\u001b[1;33m\u001b[0m\u001b[0m\n\u001b[0m",
      "\u001b[1;31mKeyError\u001b[0m: 'hobby'"
     ]
    }
   ],
   "source": [
    "user_info['hobby']"
   ]
  },
  {
   "cell_type": "code",
   "execution_count": 163,
   "id": "43b7e483",
   "metadata": {},
   "outputs": [],
   "source": [
    "user_info.get('hobby')"
   ]
  },
  {
   "cell_type": "code",
   "execution_count": 165,
   "id": "fa68136a",
   "metadata": {},
   "outputs": [
    {
     "data": {
      "text/plain": [
       "'Indian'"
      ]
     },
     "execution_count": 165,
     "metadata": {},
     "output_type": "execute_result"
    }
   ],
   "source": [
    "user_info.get('nationality')"
   ]
  },
  {
   "cell_type": "code",
   "execution_count": 166,
   "id": "250c0cc3",
   "metadata": {},
   "outputs": [
    {
     "data": {
      "text/plain": [
       "{'name': 'mohit', 'age': 24, 'nationality': 'Indian'}"
      ]
     },
     "execution_count": 166,
     "metadata": {},
     "output_type": "execute_result"
    }
   ],
   "source": [
    "user_info"
   ]
  },
  {
   "cell_type": "code",
   "execution_count": 168,
   "id": "f6d0f781",
   "metadata": {},
   "outputs": [],
   "source": [
    "user_info['bobby'] = ['reading', 'coding', 'travelling']"
   ]
  },
  {
   "cell_type": "code",
   "execution_count": 169,
   "id": "49a69f29",
   "metadata": {},
   "outputs": [
    {
     "data": {
      "text/plain": [
       "{'name': 'mohit',\n",
       " 'age': 24,\n",
       " 'nationality': 'Indian',\n",
       " 'bobby': ['reading', 'coding', 'travelling']}"
      ]
     },
     "execution_count": 169,
     "metadata": {},
     "output_type": "execute_result"
    }
   ],
   "source": [
    "user_info"
   ]
  },
  {
   "cell_type": "code",
   "execution_count": 170,
   "id": "8a46af69",
   "metadata": {},
   "outputs": [
    {
     "data": {
      "text/plain": [
       "['reading', 'coding', 'travelling']"
      ]
     },
     "execution_count": 170,
     "metadata": {},
     "output_type": "execute_result"
    }
   ],
   "source": [
    "user_info['bobby']"
   ]
  },
  {
   "cell_type": "code",
   "execution_count": 173,
   "id": "4d54d733",
   "metadata": {},
   "outputs": [],
   "source": [
    "user_info['bobby'][1] = 'dancing'"
   ]
  },
  {
   "cell_type": "code",
   "execution_count": 174,
   "id": "5aa195e9",
   "metadata": {},
   "outputs": [
    {
     "data": {
      "text/plain": [
       "{'name': 'mohit',\n",
       " 'age': 24,\n",
       " 'nationality': 'Indian',\n",
       " 'bobby': ['reading', 'dancing', 'travelling']}"
      ]
     },
     "execution_count": 174,
     "metadata": {},
     "output_type": "execute_result"
    }
   ],
   "source": [
    "user_info"
   ]
  },
  {
   "cell_type": "code",
   "execution_count": 176,
   "id": "4f03708f",
   "metadata": {},
   "outputs": [
    {
     "data": {
      "text/plain": [
       "dict_keys(['name', 'age', 'nationality', 'bobby'])"
      ]
     },
     "execution_count": 176,
     "metadata": {},
     "output_type": "execute_result"
    }
   ],
   "source": [
    "user_info.keys()"
   ]
  },
  {
   "cell_type": "code",
   "execution_count": 177,
   "id": "a77a54df",
   "metadata": {},
   "outputs": [
    {
     "data": {
      "text/plain": [
       "dict_values(['mohit', 24, 'Indian', ['reading', 'dancing', 'travelling']])"
      ]
     },
     "execution_count": 177,
     "metadata": {},
     "output_type": "execute_result"
    }
   ],
   "source": [
    "user_info.values()"
   ]
  },
  {
   "cell_type": "code",
   "execution_count": 178,
   "id": "ffd95acb",
   "metadata": {},
   "outputs": [
    {
     "data": {
      "text/plain": [
       "dict_items([('name', 'mohit'), ('age', 24), ('nationality', 'Indian'), ('bobby', ['reading', 'dancing', 'travelling'])])"
      ]
     },
     "execution_count": 178,
     "metadata": {},
     "output_type": "execute_result"
    }
   ],
   "source": [
    "user_info.items()"
   ]
  },
  {
   "cell_type": "code",
   "execution_count": 184,
   "id": "6796fa8d",
   "metadata": {},
   "outputs": [
    {
     "name": "stdout",
     "output_type": "stream",
     "text": [
      "name  : mohit\n",
      "age  : 24\n",
      "nationality  : Indian\n",
      "bobby  : ['reading', 'dancing', 'travelling']\n"
     ]
    }
   ],
   "source": [
    "for k, v in user_info.items():\n",
    "    print(k,' :' ,v)"
   ]
  },
  {
   "cell_type": "code",
   "execution_count": 187,
   "id": "e425da19",
   "metadata": {},
   "outputs": [
    {
     "name": "stdout",
     "output_type": "stream",
     "text": [
      "name : mohit\n",
      "age : 24\n",
      "nationality : Indian\n",
      "bobby : ['reading', 'dancing', 'travelling']\n"
     ]
    }
   ],
   "source": [
    "for k in user_info:\n",
    "    print(k, \":\", user_info[k] )"
   ]
  },
  {
   "cell_type": "code",
   "execution_count": 188,
   "id": "10e9ac2b",
   "metadata": {},
   "outputs": [
    {
     "data": {
      "text/plain": [
       "566"
      ]
     },
     "execution_count": 188,
     "metadata": {},
     "output_type": "execute_result"
    }
   ],
   "source": [
    "hash(566)"
   ]
  },
  {
   "cell_type": "code",
   "execution_count": 189,
   "id": "bd06e24b",
   "metadata": {},
   "outputs": [
    {
     "data": {
      "text/plain": [
       "5819153463735044047"
      ]
     },
     "execution_count": 189,
     "metadata": {},
     "output_type": "execute_result"
    }
   ],
   "source": [
    "hash(\"Python Full Revision_09022023.ipynb\")"
   ]
  },
  {
   "cell_type": "code",
   "execution_count": 190,
   "id": "f5003b9f",
   "metadata": {},
   "outputs": [
    {
     "data": {
      "text/plain": [
       "3014310098807582365"
      ]
     },
     "execution_count": 190,
     "metadata": {},
     "output_type": "execute_result"
    }
   ],
   "source": [
    "hash('python')"
   ]
  },
  {
   "cell_type": "code",
   "execution_count": 191,
   "id": "7aa193a3",
   "metadata": {},
   "outputs": [
    {
     "data": {
      "text/plain": [
       "5978594976881860246"
      ]
     },
     "execution_count": 191,
     "metadata": {},
     "output_type": "execute_result"
    }
   ],
   "source": [
    "hash((4,5,6))"
   ]
  },
  {
   "cell_type": "code",
   "execution_count": 192,
   "id": "0a8e8476",
   "metadata": {},
   "outputs": [
    {
     "ename": "TypeError",
     "evalue": "unhashable type: 'list'",
     "output_type": "error",
     "traceback": [
      "\u001b[1;31m---------------------------------------------------------------------------\u001b[0m",
      "\u001b[1;31mTypeError\u001b[0m                                 Traceback (most recent call last)",
      "\u001b[1;32m<ipython-input-192-35e31e935e9e>\u001b[0m in \u001b[0;36m<module>\u001b[1;34m\u001b[0m\n\u001b[1;32m----> 1\u001b[1;33m \u001b[0mhash\u001b[0m\u001b[1;33m(\u001b[0m\u001b[1;33m[\u001b[0m\u001b[1;36m1\u001b[0m\u001b[1;33m,\u001b[0m\u001b[1;36m2\u001b[0m\u001b[1;33m,\u001b[0m\u001b[1;36m3\u001b[0m\u001b[1;33m]\u001b[0m\u001b[1;33m)\u001b[0m\u001b[1;33m\u001b[0m\u001b[1;33m\u001b[0m\u001b[0m\n\u001b[0m",
      "\u001b[1;31mTypeError\u001b[0m: unhashable type: 'list'"
     ]
    }
   ],
   "source": [
    "hash([1,2,3])"
   ]
  },
  {
   "cell_type": "code",
   "execution_count": 193,
   "id": "303e0d39",
   "metadata": {},
   "outputs": [
    {
     "ename": "TypeError",
     "evalue": "unhashable type: 'dict'",
     "output_type": "error",
     "traceback": [
      "\u001b[1;31m---------------------------------------------------------------------------\u001b[0m",
      "\u001b[1;31mTypeError\u001b[0m                                 Traceback (most recent call last)",
      "\u001b[1;32m<ipython-input-193-1f7475f4c6b7>\u001b[0m in \u001b[0;36m<module>\u001b[1;34m\u001b[0m\n\u001b[1;32m----> 1\u001b[1;33m \u001b[0mhash\u001b[0m\u001b[1;33m(\u001b[0m\u001b[1;33m{\u001b[0m\u001b[1;36m2\u001b[0m\u001b[1;33m:\u001b[0m\u001b[1;36m6\u001b[0m\u001b[1;33m,\u001b[0m \u001b[1;36m9\u001b[0m\u001b[1;33m:\u001b[0m\u001b[1;36m7\u001b[0m\u001b[1;33m}\u001b[0m\u001b[1;33m)\u001b[0m\u001b[1;33m\u001b[0m\u001b[1;33m\u001b[0m\u001b[0m\n\u001b[0m",
      "\u001b[1;31mTypeError\u001b[0m: unhashable type: 'dict'"
     ]
    }
   ],
   "source": [
    "hash({2:6, 9:7})"
   ]
  },
  {
   "cell_type": "code",
   "execution_count": 194,
   "id": "34a5880e",
   "metadata": {},
   "outputs": [
    {
     "data": {
      "text/plain": [
       "{'name': 'mohit',\n",
       " 'age': 24,\n",
       " 'nationality': 'Indian',\n",
       " 'bobby': ['reading', 'dancing', 'travelling']}"
      ]
     },
     "execution_count": 194,
     "metadata": {},
     "output_type": "execute_result"
    }
   ],
   "source": [
    "user_info"
   ]
  },
  {
   "cell_type": "code",
   "execution_count": 196,
   "id": "fcf24954",
   "metadata": {},
   "outputs": [
    {
     "data": {
      "text/plain": [
       "['reading', 'dancing', 'travelling']"
      ]
     },
     "execution_count": 196,
     "metadata": {},
     "output_type": "execute_result"
    }
   ],
   "source": [
    "user_info.pop('bobby')"
   ]
  },
  {
   "cell_type": "code",
   "execution_count": 197,
   "id": "0d6ba9c1",
   "metadata": {},
   "outputs": [
    {
     "data": {
      "text/plain": [
       "{'name': 'mohit', 'age': 24, 'nationality': 'Indian'}"
      ]
     },
     "execution_count": 197,
     "metadata": {},
     "output_type": "execute_result"
    }
   ],
   "source": [
    "user_info"
   ]
  },
  {
   "cell_type": "code",
   "execution_count": 198,
   "id": "5af3ba29",
   "metadata": {},
   "outputs": [
    {
     "ename": "KeyError",
     "evalue": "'bobby'",
     "output_type": "error",
     "traceback": [
      "\u001b[1;31m---------------------------------------------------------------------------\u001b[0m",
      "\u001b[1;31mKeyError\u001b[0m                                  Traceback (most recent call last)",
      "\u001b[1;32m<ipython-input-198-2f2510bb35e1>\u001b[0m in \u001b[0;36m<module>\u001b[1;34m\u001b[0m\n\u001b[1;32m----> 1\u001b[1;33m \u001b[0muser_info\u001b[0m\u001b[1;33m.\u001b[0m\u001b[0mpop\u001b[0m\u001b[1;33m(\u001b[0m\u001b[1;34m'bobby'\u001b[0m\u001b[1;33m)\u001b[0m\u001b[1;33m\u001b[0m\u001b[1;33m\u001b[0m\u001b[0m\n\u001b[0m",
      "\u001b[1;31mKeyError\u001b[0m: 'bobby'"
     ]
    }
   ],
   "source": [
    "user_info.pop('bobby')"
   ]
  },
  {
   "cell_type": "code",
   "execution_count": 199,
   "id": "2f6ff366",
   "metadata": {},
   "outputs": [
    {
     "data": {
      "text/plain": [
       "{'name': 'mohit', 'age': 24, 'nationality': 'Indian'}"
      ]
     },
     "execution_count": 199,
     "metadata": {},
     "output_type": "execute_result"
    }
   ],
   "source": [
    "user_info"
   ]
  },
  {
   "cell_type": "code",
   "execution_count": 200,
   "id": "e86ca6fb",
   "metadata": {},
   "outputs": [],
   "source": [
    "del user_info['age']"
   ]
  },
  {
   "cell_type": "code",
   "execution_count": 201,
   "id": "aaa567f7",
   "metadata": {},
   "outputs": [
    {
     "data": {
      "text/plain": [
       "{'name': 'mohit', 'nationality': 'Indian'}"
      ]
     },
     "execution_count": 201,
     "metadata": {},
     "output_type": "execute_result"
    }
   ],
   "source": [
    "user_info"
   ]
  },
  {
   "cell_type": "code",
   "execution_count": 202,
   "id": "69e46c21",
   "metadata": {},
   "outputs": [
    {
     "name": "stdout",
     "output_type": "stream",
     "text": [
      "{'name': 'mohit', 'nationality': 'Indian'}\n"
     ]
    }
   ],
   "source": [
    "print(user_info)"
   ]
  },
  {
   "cell_type": "code",
   "execution_count": 203,
   "id": "1729c54b",
   "metadata": {},
   "outputs": [],
   "source": [
    "canteen_menu = {\n",
    "    'samosa':50,\n",
    "    \"pizza\":102,\n",
    "    \"burger\":123,\n",
    "    \"fruits\":{\n",
    "        \"apple\":25,\n",
    "        \"mango\":1203,\n",
    "        \"graps\":159\n",
    "    },\n",
    "    \"juice\":[12,23,25],\n",
    "    \"misss\":{\n",
    "        'a':12,\n",
    "        \"b\":25,\n",
    "        'c':125\n",
    "    }\n",
    "}"
   ]
  },
  {
   "cell_type": "code",
   "execution_count": 204,
   "id": "7f08fcb3",
   "metadata": {},
   "outputs": [
    {
     "data": {
      "text/plain": [
       "{'samosa': 50,\n",
       " 'pizza': 102,\n",
       " 'burger': 123,\n",
       " 'fruits': {'apple': 25, 'mango': 1203, 'graps': 159},\n",
       " 'juice': [12, 23, 25],\n",
       " 'misss': {'a': 12, 'b': 25, 'c': 125}}"
      ]
     },
     "execution_count": 204,
     "metadata": {},
     "output_type": "execute_result"
    }
   ],
   "source": [
    "canteen_menu"
   ]
  },
  {
   "cell_type": "code",
   "execution_count": 205,
   "id": "22917303",
   "metadata": {},
   "outputs": [
    {
     "data": {
      "text/plain": [
       "dict"
      ]
     },
     "execution_count": 205,
     "metadata": {},
     "output_type": "execute_result"
    }
   ],
   "source": [
    "type(canteen_menu)"
   ]
  },
  {
   "cell_type": "code",
   "execution_count": 208,
   "id": "d5251776",
   "metadata": {},
   "outputs": [],
   "source": [
    "canteen_menu['fruits']['mango'] = 123"
   ]
  },
  {
   "cell_type": "code",
   "execution_count": 209,
   "id": "f648768a",
   "metadata": {},
   "outputs": [
    {
     "data": {
      "text/plain": [
       "{'samosa': 50,\n",
       " 'pizza': 102,\n",
       " 'burger': 123,\n",
       " 'fruits': {'apple': 25, 'mango': 123, 'graps': 159},\n",
       " 'juice': [12, 23, 25],\n",
       " 'misss': {'a': 12, 'b': 25, 'c': 125}}"
      ]
     },
     "execution_count": 209,
     "metadata": {},
     "output_type": "execute_result"
    }
   ],
   "source": [
    "canteen_menu"
   ]
  },
  {
   "cell_type": "code",
   "execution_count": 210,
   "id": "80fd7ab1",
   "metadata": {},
   "outputs": [],
   "source": [
    "canteen_menu['namkeen'] = ['simple', 'mix', 'chilly']"
   ]
  },
  {
   "cell_type": "code",
   "execution_count": 211,
   "id": "fbb7094d",
   "metadata": {},
   "outputs": [
    {
     "data": {
      "text/plain": [
       "{'samosa': 50,\n",
       " 'pizza': 102,\n",
       " 'burger': 123,\n",
       " 'fruits': {'apple': 25, 'mango': 123, 'graps': 159},\n",
       " 'juice': [12, 23, 25],\n",
       " 'misss': {'a': 12, 'b': 25, 'c': 125},\n",
       " 'namkeen': ['simple', 'mix', 'chilly']}"
      ]
     },
     "execution_count": 211,
     "metadata": {},
     "output_type": "execute_result"
    }
   ],
   "source": [
    "canteen_menu"
   ]
  },
  {
   "cell_type": "code",
   "execution_count": 213,
   "id": "a2910d88",
   "metadata": {},
   "outputs": [
    {
     "data": {
      "text/plain": [
       "'chilly'"
      ]
     },
     "execution_count": 213,
     "metadata": {},
     "output_type": "execute_result"
    }
   ],
   "source": [
    "canteen_menu['namkeen'][-1]"
   ]
  },
  {
   "cell_type": "code",
   "execution_count": 219,
   "id": "f84832da",
   "metadata": {},
   "outputs": [],
   "source": [
    "d = {'a':1, 'b':2, 'c':3, 'd':4, 'e':5}"
   ]
  },
  {
   "cell_type": "code",
   "execution_count": 215,
   "id": "897b7efe",
   "metadata": {},
   "outputs": [
    {
     "name": "stdout",
     "output_type": "stream",
     "text": [
      "{'a': 1, 'b': 2, 'c': 3}\n"
     ]
    }
   ],
   "source": [
    "print(d)"
   ]
  },
  {
   "cell_type": "code",
   "execution_count": 218,
   "id": "edfe7ff8",
   "metadata": {},
   "outputs": [
    {
     "name": "stdout",
     "output_type": "stream",
     "text": [
      "a : 2\n",
      "b : 4\n",
      "c : 6\n"
     ]
    }
   ],
   "source": [
    "for k, v in d.items():\n",
    "    print(k, \":\", v*2)"
   ]
  },
  {
   "cell_type": "code",
   "execution_count": 227,
   "id": "c1336207",
   "metadata": {},
   "outputs": [],
   "source": [
    "n = {k+'z':v*2 for k,v in d.items() if v>=2}"
   ]
  },
  {
   "cell_type": "code",
   "execution_count": 228,
   "id": "58f20512",
   "metadata": {},
   "outputs": [
    {
     "name": "stdout",
     "output_type": "stream",
     "text": [
      "{'bz': 4, 'cz': 6, 'dz': 8, 'ez': 10}\n"
     ]
    }
   ],
   "source": [
    "print(n)"
   ]
  },
  {
   "cell_type": "code",
   "execution_count": 229,
   "id": "7628d4e2",
   "metadata": {},
   "outputs": [
    {
     "name": "stdout",
     "output_type": "stream",
     "text": [
      "{'bz': 4, 'cz': 6, 'dz': 8, 'ez': 10}\n"
     ]
    }
   ],
   "source": [
    "print(n)"
   ]
  },
  {
   "cell_type": "code",
   "execution_count": 230,
   "id": "db0b1022",
   "metadata": {},
   "outputs": [
    {
     "data": {
      "text/plain": [
       "{'a': 1, 'b': 2, 'c': 3, 'd': 4, 'e': 5}"
      ]
     },
     "execution_count": 230,
     "metadata": {},
     "output_type": "execute_result"
    }
   ],
   "source": [
    "d"
   ]
  },
  {
   "cell_type": "code",
   "execution_count": 231,
   "id": "c3f1b799",
   "metadata": {},
   "outputs": [
    {
     "data": {
      "text/plain": [
       "{'a': 1, 'b': 2, 'c': 3, 'd': 4, 'e': 5}"
      ]
     },
     "execution_count": 231,
     "metadata": {},
     "output_type": "execute_result"
    }
   ],
   "source": [
    "d"
   ]
  },
  {
   "cell_type": "code",
   "execution_count": 233,
   "id": "ab56a36a",
   "metadata": {},
   "outputs": [
    {
     "data": {
      "text/plain": [
       "{1: 'a', 2: 'b', 3: 'c', 4: 'd', 5: 'e'}"
      ]
     },
     "execution_count": 233,
     "metadata": {},
     "output_type": "execute_result"
    }
   ],
   "source": [
    "{v:k for k,v in d.items()}"
   ]
  },
  {
   "cell_type": "code",
   "execution_count": 239,
   "id": "6c482633",
   "metadata": {},
   "outputs": [],
   "source": [
    "d = {'a':1, 'b':2, 'c':3, 'd':4, 'e':5}"
   ]
  },
  {
   "cell_type": "code",
   "execution_count": 240,
   "id": "73b85be3",
   "metadata": {},
   "outputs": [
    {
     "data": {
      "text/plain": [
       "{'a': 1, 'b': 2, 'c': 3, 'd': 4, 'e': 5}"
      ]
     },
     "execution_count": 240,
     "metadata": {},
     "output_type": "execute_result"
    }
   ],
   "source": [
    "d"
   ]
  },
  {
   "cell_type": "code",
   "execution_count": 241,
   "id": "faa18cb8",
   "metadata": {},
   "outputs": [],
   "source": [
    "\n",
    "new_dic = {}\n",
    "\n",
    "for k,v in d.items():\n",
    "    new_dic[v] = k"
   ]
  },
  {
   "cell_type": "code",
   "execution_count": 242,
   "id": "eedbe42b",
   "metadata": {},
   "outputs": [
    {
     "data": {
      "text/plain": [
       "{1: 'a', 2: 'b', 3: 'c', 4: 'd', 5: 'e'}"
      ]
     },
     "execution_count": 242,
     "metadata": {},
     "output_type": "execute_result"
    }
   ],
   "source": [
    "new_dic"
   ]
  },
  {
   "cell_type": "code",
   "execution_count": 243,
   "id": "c0e6e9b2",
   "metadata": {},
   "outputs": [],
   "source": [
    "def greetings(name):\n",
    "    \"\"\"This function will greet you\"\"\"\n",
    "    \n",
    "    print(\"Good Morning\", name)"
   ]
  },
  {
   "cell_type": "code",
   "execution_count": 245,
   "id": "1a4cb067",
   "metadata": {},
   "outputs": [
    {
     "name": "stdout",
     "output_type": "stream",
     "text": [
      "Good Morning Sanjay Kumar\n"
     ]
    }
   ],
   "source": [
    "greetings('Sanjay Kumar')"
   ]
  },
  {
   "cell_type": "code",
   "execution_count": 246,
   "id": "11e51bdc",
   "metadata": {},
   "outputs": [
    {
     "name": "stdout",
     "output_type": "stream",
     "text": [
      "<function greetings at 0x0000021347E125E0>\n"
     ]
    }
   ],
   "source": [
    "print(greetings)"
   ]
  },
  {
   "cell_type": "code",
   "execution_count": 247,
   "id": "25b7b577",
   "metadata": {},
   "outputs": [
    {
     "data": {
      "text/plain": [
       "function"
      ]
     },
     "execution_count": 247,
     "metadata": {},
     "output_type": "execute_result"
    }
   ],
   "source": [
    "type(greetings)"
   ]
  },
  {
   "cell_type": "code",
   "execution_count": 248,
   "id": "21391631",
   "metadata": {},
   "outputs": [
    {
     "name": "stdout",
     "output_type": "stream",
     "text": [
      "Good Morning sachin\n"
     ]
    }
   ],
   "source": [
    "greetings(\"sachin\")"
   ]
  },
  {
   "cell_type": "code",
   "execution_count": 249,
   "id": "686b65a0",
   "metadata": {},
   "outputs": [
    {
     "name": "stdout",
     "output_type": "stream",
     "text": [
      "Good Morning prateek\n"
     ]
    }
   ],
   "source": [
    "greetings('prateek')"
   ]
  },
  {
   "cell_type": "code",
   "execution_count": 250,
   "id": "6adeba1a",
   "metadata": {},
   "outputs": [
    {
     "data": {
      "text/plain": [
       "'This function will greet you'"
      ]
     },
     "execution_count": 250,
     "metadata": {},
     "output_type": "execute_result"
    }
   ],
   "source": [
    "greetings.__doc__"
   ]
  },
  {
   "cell_type": "code",
   "execution_count": 251,
   "id": "ccc851b2",
   "metadata": {},
   "outputs": [],
   "source": [
    "def add(a,b):\n",
    "    \"\"\"It will return sum of 2 numbers\"\"\"\n",
    "    \n",
    "    c = a+b\n",
    "    return c"
   ]
  },
  {
   "cell_type": "code",
   "execution_count": 252,
   "id": "aa84d2cc",
   "metadata": {},
   "outputs": [
    {
     "data": {
      "text/plain": [
       "8"
      ]
     },
     "execution_count": 252,
     "metadata": {},
     "output_type": "execute_result"
    }
   ],
   "source": [
    "add(5,3)"
   ]
  },
  {
   "cell_type": "code",
   "execution_count": 254,
   "id": "3c327357",
   "metadata": {},
   "outputs": [],
   "source": [
    "my_sum  = add(5,4)"
   ]
  },
  {
   "cell_type": "code",
   "execution_count": 255,
   "id": "22bef9af",
   "metadata": {},
   "outputs": [
    {
     "name": "stdout",
     "output_type": "stream",
     "text": [
      "9\n"
     ]
    }
   ],
   "source": [
    "print(my_sum)"
   ]
  },
  {
   "cell_type": "code",
   "execution_count": 256,
   "id": "ac8bac57",
   "metadata": {},
   "outputs": [],
   "source": [
    "def product(lst):\n",
    "    \"\"\"\n",
    "    paramters:\n",
    "    lst : it is a list\n",
    "    \n",
    "    return : product of all elements\n",
    "    \"\"\"\n",
    "    p = 1\n",
    "    for i in lst:\n",
    "        p*=i\n",
    "        \n",
    "    return p\n",
    "        "
   ]
  },
  {
   "cell_type": "code",
   "execution_count": 257,
   "id": "a21dc885",
   "metadata": {},
   "outputs": [],
   "source": [
    "lst = [5,3,2,4,1]"
   ]
  },
  {
   "cell_type": "code",
   "execution_count": 259,
   "id": "a5b40ef2",
   "metadata": {},
   "outputs": [],
   "source": [
    "res = product(lst)"
   ]
  },
  {
   "cell_type": "code",
   "execution_count": 260,
   "id": "a955817c",
   "metadata": {},
   "outputs": [
    {
     "name": "stdout",
     "output_type": "stream",
     "text": [
      "120\n"
     ]
    }
   ],
   "source": [
    "print(res)"
   ]
  },
  {
   "cell_type": "code",
   "execution_count": 261,
   "id": "e305dc05",
   "metadata": {},
   "outputs": [],
   "source": [
    "lst2 = [3,7,9,10,5]"
   ]
  },
  {
   "cell_type": "code",
   "execution_count": 263,
   "id": "85c7de47",
   "metadata": {},
   "outputs": [],
   "source": [
    "res2 = product(lst2)"
   ]
  },
  {
   "cell_type": "code",
   "execution_count": 264,
   "id": "baadf17c",
   "metadata": {},
   "outputs": [
    {
     "name": "stdout",
     "output_type": "stream",
     "text": [
      "9450\n"
     ]
    }
   ],
   "source": [
    "print(res2)"
   ]
  },
  {
   "cell_type": "code",
   "execution_count": 265,
   "id": "932d7127",
   "metadata": {},
   "outputs": [],
   "source": [
    "def calculator(a,b):\n",
    "    \"\"\"calculates and return 4 basic operations\"\"\"\n",
    "    return a+b, a-b, a*b, a/b"
   ]
  },
  {
   "cell_type": "code",
   "execution_count": 267,
   "id": "820e8d32",
   "metadata": {},
   "outputs": [],
   "source": [
    "cal_res = calculator(6,3)"
   ]
  },
  {
   "cell_type": "code",
   "execution_count": 268,
   "id": "a5333147",
   "metadata": {},
   "outputs": [
    {
     "name": "stdout",
     "output_type": "stream",
     "text": [
      "(9, 3, 18, 2.0)\n"
     ]
    }
   ],
   "source": [
    "print(cal_res)"
   ]
  },
  {
   "cell_type": "code",
   "execution_count": 269,
   "id": "c6f27794",
   "metadata": {},
   "outputs": [],
   "source": [
    "age = 24\n"
   ]
  },
  {
   "cell_type": "code",
   "execution_count": 270,
   "id": "6a308c8d",
   "metadata": {},
   "outputs": [
    {
     "name": "stdout",
     "output_type": "stream",
     "text": [
      "24\n"
     ]
    }
   ],
   "source": [
    "print(age)"
   ]
  },
  {
   "cell_type": "code",
   "execution_count": 273,
   "id": "04b9da2a",
   "metadata": {},
   "outputs": [
    {
     "name": "stdout",
     "output_type": "stream",
     "text": [
      "24\n"
     ]
    }
   ],
   "source": [
    "print(globals()['age'])"
   ]
  },
  {
   "cell_type": "code",
   "execution_count": 275,
   "id": "4345130c",
   "metadata": {},
   "outputs": [],
   "source": [
    "globals()['age'] = 27"
   ]
  },
  {
   "cell_type": "code",
   "execution_count": 277,
   "id": "1b01b18c",
   "metadata": {},
   "outputs": [
    {
     "data": {
      "text/plain": [
       "27"
      ]
     },
     "execution_count": 277,
     "metadata": {},
     "output_type": "execute_result"
    }
   ],
   "source": [
    "age"
   ]
  },
  {
   "cell_type": "code",
   "execution_count": 278,
   "id": "9c5d5db7",
   "metadata": {},
   "outputs": [
    {
     "name": "stdout",
     "output_type": "stream",
     "text": [
      "27\n"
     ]
    }
   ],
   "source": [
    "print(age)"
   ]
  },
  {
   "cell_type": "code",
   "execution_count": 279,
   "id": "e03ed6c9",
   "metadata": {},
   "outputs": [],
   "source": [
    "global_var = 100\n",
    "\n",
    "def test_func():\n",
    "    local_var = 66\n",
    "    \n",
    "    print(local_var)\n",
    "    print(global_var)\n",
    "    \n",
    "    "
   ]
  },
  {
   "cell_type": "code",
   "execution_count": 280,
   "id": "594f5b34",
   "metadata": {},
   "outputs": [
    {
     "name": "stdout",
     "output_type": "stream",
     "text": [
      "100\n"
     ]
    }
   ],
   "source": [
    "print(global_var)"
   ]
  },
  {
   "cell_type": "code",
   "execution_count": 281,
   "id": "810922b8",
   "metadata": {},
   "outputs": [
    {
     "ename": "NameError",
     "evalue": "name 'local_var' is not defined",
     "output_type": "error",
     "traceback": [
      "\u001b[1;31m---------------------------------------------------------------------------\u001b[0m",
      "\u001b[1;31mNameError\u001b[0m                                 Traceback (most recent call last)",
      "\u001b[1;32m<ipython-input-281-3bfff76e6cd3>\u001b[0m in \u001b[0;36m<module>\u001b[1;34m\u001b[0m\n\u001b[1;32m----> 1\u001b[1;33m \u001b[0mprint\u001b[0m\u001b[1;33m(\u001b[0m\u001b[0mlocal_var\u001b[0m\u001b[1;33m)\u001b[0m\u001b[1;33m\u001b[0m\u001b[1;33m\u001b[0m\u001b[0m\n\u001b[0m",
      "\u001b[1;31mNameError\u001b[0m: name 'local_var' is not defined"
     ]
    }
   ],
   "source": [
    "print(local_var)"
   ]
  },
  {
   "cell_type": "code",
   "execution_count": 282,
   "id": "a3fee405",
   "metadata": {},
   "outputs": [
    {
     "name": "stdout",
     "output_type": "stream",
     "text": [
      "66\n",
      "100\n"
     ]
    }
   ],
   "source": [
    "test_func()"
   ]
  },
  {
   "cell_type": "code",
   "execution_count": 291,
   "id": "6546702a",
   "metadata": {},
   "outputs": [],
   "source": [
    "x = 45\n",
    "\n",
    "def test():\n",
    "    global x\n",
    "    x = 25\n",
    "    print(x)\n",
    "    \n"
   ]
  },
  {
   "cell_type": "code",
   "execution_count": 293,
   "id": "c10fc1b7",
   "metadata": {},
   "outputs": [
    {
     "data": {
      "text/plain": [
       "25"
      ]
     },
     "execution_count": 293,
     "metadata": {},
     "output_type": "execute_result"
    }
   ],
   "source": [
    "x"
   ]
  },
  {
   "cell_type": "code",
   "execution_count": 292,
   "id": "d4363ad7",
   "metadata": {},
   "outputs": [
    {
     "name": "stdout",
     "output_type": "stream",
     "text": [
      "25\n"
     ]
    }
   ],
   "source": [
    "test()"
   ]
  },
  {
   "cell_type": "code",
   "execution_count": 295,
   "id": "a0931737",
   "metadata": {},
   "outputs": [],
   "source": [
    "add = (lambda a,b : a+b)"
   ]
  },
  {
   "cell_type": "code",
   "execution_count": 296,
   "id": "91a26383",
   "metadata": {},
   "outputs": [
    {
     "data": {
      "text/plain": [
       "9"
      ]
     },
     "execution_count": 296,
     "metadata": {},
     "output_type": "execute_result"
    }
   ],
   "source": [
    "add(5,4)"
   ]
  },
  {
   "cell_type": "code",
   "execution_count": 298,
   "id": "acb48149",
   "metadata": {},
   "outputs": [],
   "source": [
    "func = lambda x,y : x+y if x+y>0 else 0"
   ]
  },
  {
   "cell_type": "code",
   "execution_count": 300,
   "id": "3b20631e",
   "metadata": {},
   "outputs": [
    {
     "data": {
      "text/plain": [
       "45"
      ]
     },
     "execution_count": 300,
     "metadata": {},
     "output_type": "execute_result"
    }
   ],
   "source": [
    "func(5,40)"
   ]
  },
  {
   "cell_type": "code",
   "execution_count": 301,
   "id": "66c98b99",
   "metadata": {},
   "outputs": [],
   "source": [
    "names = [('prateek',5), ('mohit',2), ('abhi',6)]"
   ]
  },
  {
   "cell_type": "code",
   "execution_count": 302,
   "id": "ef66fd34",
   "metadata": {},
   "outputs": [
    {
     "data": {
      "text/plain": [
       "[('abhi', 6), ('mohit', 2), ('prateek', 5)]"
      ]
     },
     "execution_count": 302,
     "metadata": {},
     "output_type": "execute_result"
    }
   ],
   "source": [
    "sorted(names)"
   ]
  },
  {
   "cell_type": "code",
   "execution_count": 303,
   "id": "6f2e3ef9",
   "metadata": {},
   "outputs": [
    {
     "data": {
      "text/plain": [
       "[('mohit', 2), ('prateek', 5), ('abhi', 6)]"
      ]
     },
     "execution_count": 303,
     "metadata": {},
     "output_type": "execute_result"
    }
   ],
   "source": [
    "sorted(names, key=lambda x:x[1])"
   ]
  },
  {
   "cell_type": "code",
   "execution_count": 304,
   "id": "1b400085",
   "metadata": {},
   "outputs": [],
   "source": [
    "def LCM(a,b):\n",
    "    \"\"\"It will find out lcm of 2 numbers\"\"\"\n",
    "    \n",
    "    max_num = (a if a>b else b)\n",
    "    \n",
    "    while True:\n",
    "        if (max_num%a==0) and (max_num%b==0):\n",
    "            return max_num\n",
    "        else:\n",
    "            max_num+=1\n",
    "        "
   ]
  },
  {
   "cell_type": "code",
   "execution_count": 305,
   "id": "9a6179c5",
   "metadata": {},
   "outputs": [
    {
     "data": {
      "text/plain": [
       "15"
      ]
     },
     "execution_count": 305,
     "metadata": {},
     "output_type": "execute_result"
    }
   ],
   "source": [
    "LCM(3,5)"
   ]
  },
  {
   "cell_type": "code",
   "execution_count": 308,
   "id": "c40a5078",
   "metadata": {},
   "outputs": [
    {
     "name": "stdout",
     "output_type": "stream",
     "text": [
      "36\n"
     ]
    }
   ],
   "source": [
    "res = LCM(4,18)\n",
    "print(res)"
   ]
  },
  {
   "cell_type": "code",
   "execution_count": 309,
   "id": "e59ddb2e",
   "metadata": {},
   "outputs": [],
   "source": [
    "res = LCM(4,16)"
   ]
  },
  {
   "cell_type": "code",
   "execution_count": 310,
   "id": "61ea9370",
   "metadata": {},
   "outputs": [
    {
     "name": "stdout",
     "output_type": "stream",
     "text": [
      "16\n"
     ]
    }
   ],
   "source": [
    "print(res)"
   ]
  },
  {
   "cell_type": "code",
   "execution_count": 311,
   "id": "9ee8e89e",
   "metadata": {},
   "outputs": [],
   "source": [
    "def LCM(a,b):\n",
    "    max_num = (a if a>b else b)\n",
    "    \n",
    "    while True:\n",
    "        if (max_num%a==0) and (max_num%b==0):\n",
    "            return max_num\n",
    "        \n",
    "        else:\n",
    "            max_num+=1"
   ]
  },
  {
   "cell_type": "code",
   "execution_count": 312,
   "id": "a6fbc420",
   "metadata": {},
   "outputs": [
    {
     "data": {
      "text/plain": [
       "36"
      ]
     },
     "execution_count": 312,
     "metadata": {},
     "output_type": "execute_result"
    }
   ],
   "source": [
    "LCM(4,18)"
   ]
  },
  {
   "cell_type": "code",
   "execution_count": 313,
   "id": "05452574",
   "metadata": {},
   "outputs": [],
   "source": [
    "def intro(name, nationality):\n",
    "    print('My name is :', name)\n",
    "    print(\"I am :\", nationality)"
   ]
  },
  {
   "cell_type": "code",
   "execution_count": 314,
   "id": "352a6079",
   "metadata": {},
   "outputs": [
    {
     "name": "stdout",
     "output_type": "stream",
     "text": [
      "My name is : Mohit\n",
      "I am : Indian\n"
     ]
    }
   ],
   "source": [
    "intro(\"Mohit\", 'Indian')"
   ]
  },
  {
   "cell_type": "code",
   "execution_count": 315,
   "id": "ffa722bd",
   "metadata": {},
   "outputs": [
    {
     "name": "stdout",
     "output_type": "stream",
     "text": [
      "My name is : john\n",
      "I am : Ameriacan\n"
     ]
    }
   ],
   "source": [
    "intro(\"john\", 'Ameriacan')"
   ]
  },
  {
   "cell_type": "code",
   "execution_count": 316,
   "id": "7b2632ef",
   "metadata": {},
   "outputs": [
    {
     "ename": "TypeError",
     "evalue": "intro() missing 1 required positional argument: 'nationality'",
     "output_type": "error",
     "traceback": [
      "\u001b[1;31m---------------------------------------------------------------------------\u001b[0m",
      "\u001b[1;31mTypeError\u001b[0m                                 Traceback (most recent call last)",
      "\u001b[1;32m<ipython-input-316-f4be5a83f33a>\u001b[0m in \u001b[0;36m<module>\u001b[1;34m\u001b[0m\n\u001b[1;32m----> 1\u001b[1;33m \u001b[0mintro\u001b[0m\u001b[1;33m(\u001b[0m\u001b[1;34m'sanjay'\u001b[0m\u001b[1;33m)\u001b[0m\u001b[1;33m\u001b[0m\u001b[1;33m\u001b[0m\u001b[0m\n\u001b[0m",
      "\u001b[1;31mTypeError\u001b[0m: intro() missing 1 required positional argument: 'nationality'"
     ]
    }
   ],
   "source": [
    "intro('sanjay')"
   ]
  },
  {
   "cell_type": "code",
   "execution_count": 317,
   "id": "f960b570",
   "metadata": {},
   "outputs": [
    {
     "name": "stdout",
     "output_type": "stream",
     "text": [
      "My name is : indian\n",
      "I am : sanjay\n"
     ]
    }
   ],
   "source": [
    "intro(\"indian\", 'sanjay')"
   ]
  },
  {
   "cell_type": "code",
   "execution_count": 319,
   "id": "7af1cbff",
   "metadata": {},
   "outputs": [],
   "source": [
    "def intro(name, nationality = 'Indian'):\n",
    "    print(\"My name is : \", name)\n",
    "    print(\"i am :\", nationality)"
   ]
  },
  {
   "cell_type": "code",
   "execution_count": 320,
   "id": "b408a00f",
   "metadata": {},
   "outputs": [
    {
     "name": "stdout",
     "output_type": "stream",
     "text": [
      "My name is :  sanjay\n",
      "i am : Indian\n"
     ]
    }
   ],
   "source": [
    "intro('sanjay')"
   ]
  },
  {
   "cell_type": "code",
   "execution_count": 321,
   "id": "602cd7b4",
   "metadata": {},
   "outputs": [
    {
     "name": "stdout",
     "output_type": "stream",
     "text": [
      "My name is :  sanjay\n",
      "i am : american\n"
     ]
    }
   ],
   "source": [
    "intro('sanjay', 'american')"
   ]
  },
  {
   "cell_type": "code",
   "execution_count": 322,
   "id": "1412767e",
   "metadata": {},
   "outputs": [],
   "source": [
    "def test(a, b,c, d = 0):\n",
    "    pass"
   ]
  },
  {
   "cell_type": "code",
   "execution_count": 328,
   "id": "3feb3f5b",
   "metadata": {},
   "outputs": [],
   "source": [
    "def args_func(*args):\n",
    "    print(args)\n",
    "    print(type(args))\n",
    "    \n",
    "    for i in args:\n",
    "        print(i)"
   ]
  },
  {
   "cell_type": "code",
   "execution_count": 329,
   "id": "5cf80542",
   "metadata": {},
   "outputs": [
    {
     "name": "stdout",
     "output_type": "stream",
     "text": [
      "(4, 5, 6, 'Mohit', True)\n",
      "<class 'tuple'>\n",
      "4\n",
      "5\n",
      "6\n",
      "Mohit\n",
      "True\n"
     ]
    }
   ],
   "source": [
    "args_func(4,5,6,\"Mohit\", True)"
   ]
  },
  {
   "cell_type": "code",
   "execution_count": 330,
   "id": "2318ccc7",
   "metadata": {},
   "outputs": [],
   "source": [
    "def introduction(**kwargs):\n",
    "    print(kwargs)\n",
    "    print(type(kwargs))\n",
    "    \n",
    "    for k,v in kwargs.items():\n",
    "        print(k, \":\", v)"
   ]
  },
  {
   "cell_type": "code",
   "execution_count": 334,
   "id": "a5f0d96c",
   "metadata": {},
   "outputs": [
    {
     "name": "stdout",
     "output_type": "stream",
     "text": [
      "{'name': 'sanjay', 'age': 25, 'hobby': ['singong', 'dancing', 'coding'], 'nationality': 'Indian'}\n",
      "<class 'dict'>\n",
      "name : sanjay\n",
      "age : 25\n",
      "hobby : ['singong', 'dancing', 'coding']\n",
      "nationality : Indian\n"
     ]
    }
   ],
   "source": [
    "introduction(name = 'sanjay', age = 25, hobby = ['singong', 'dancing', 'coding'], nationality = 'Indian')"
   ]
  },
  {
   "cell_type": "code",
   "execution_count": 336,
   "id": "ab2efd47",
   "metadata": {},
   "outputs": [
    {
     "name": "stdout",
     "output_type": "stream",
     "text": [
      "{'name': 'prateek', 'age': 27, 'company': 'google'}\n",
      "<class 'dict'>\n",
      "name : prateek\n",
      "age : 27\n",
      "company : google\n"
     ]
    }
   ],
   "source": [
    "introduction(name = 'prateek', age = 27, company = 'google')"
   ]
  },
  {
   "cell_type": "code",
   "execution_count": 338,
   "id": "135f752d",
   "metadata": {},
   "outputs": [],
   "source": [
    "def combination(a,b,c,d = 18, *args, **kwargs):\n",
    "    print(a,b,c,d)\n",
    "    print(args)\n",
    "    print(kwargs)"
   ]
  },
  {
   "cell_type": "code",
   "execution_count": 343,
   "id": "533eb2e4",
   "metadata": {},
   "outputs": [
    {
     "name": "stdout",
     "output_type": "stream",
     "text": [
      "100 200 300 400\n",
      "(500, 600, 700, 'python')\n",
      "{'x': 45, 'y': 78, 'z': 89}\n"
     ]
    }
   ],
   "source": [
    "combination(100,200,300,400,500,600,700,\"python\", x = 45, y = 78, z = 89)"
   ]
  },
  {
   "cell_type": "code",
   "execution_count": 2,
   "id": "ce1ba458",
   "metadata": {},
   "outputs": [
    {
     "data": {
      "text/plain": [
       "1.1"
      ]
     },
     "execution_count": 2,
     "metadata": {},
     "output_type": "execute_result"
    }
   ],
   "source": [
    "abs(-1.1)"
   ]
  },
  {
   "cell_type": "code",
   "execution_count": 5,
   "id": "c887a72c",
   "metadata": {},
   "outputs": [
    {
     "data": {
      "text/plain": [
       "78.977"
      ]
     },
     "execution_count": 5,
     "metadata": {},
     "output_type": "execute_result"
    }
   ],
   "source": [
    "round(78.97678565, 3)"
   ]
  },
  {
   "cell_type": "code",
   "execution_count": 8,
   "id": "18dc2856",
   "metadata": {},
   "outputs": [],
   "source": [
    "lst = [1,2,3,4, 0]"
   ]
  },
  {
   "cell_type": "code",
   "execution_count": 9,
   "id": "a7c3c29e",
   "metadata": {},
   "outputs": [
    {
     "data": {
      "text/plain": [
       "False"
      ]
     },
     "execution_count": 9,
     "metadata": {},
     "output_type": "execute_result"
    }
   ],
   "source": [
    "all(lst)"
   ]
  },
  {
   "cell_type": "code",
   "execution_count": 12,
   "id": "e6926cac",
   "metadata": {},
   "outputs": [],
   "source": [
    "lst = [0, False, -1]"
   ]
  },
  {
   "cell_type": "code",
   "execution_count": 13,
   "id": "333b0770",
   "metadata": {},
   "outputs": [
    {
     "data": {
      "text/plain": [
       "True"
      ]
     },
     "execution_count": 13,
     "metadata": {},
     "output_type": "execute_result"
    }
   ],
   "source": [
    "any(lst)"
   ]
  },
  {
   "cell_type": "code",
   "execution_count": 14,
   "id": "4294dd50",
   "metadata": {},
   "outputs": [],
   "source": [
    "lst = [False, 1, 2]"
   ]
  },
  {
   "cell_type": "code",
   "execution_count": 15,
   "id": "3100721b",
   "metadata": {},
   "outputs": [
    {
     "data": {
      "text/plain": [
       "False"
      ]
     },
     "execution_count": 15,
     "metadata": {},
     "output_type": "execute_result"
    }
   ],
   "source": [
    "all(lst)"
   ]
  },
  {
   "cell_type": "code",
   "execution_count": 16,
   "id": "b24ae8c3",
   "metadata": {},
   "outputs": [],
   "source": [
    "lst2 = []\n"
   ]
  },
  {
   "cell_type": "code",
   "execution_count": 17,
   "id": "bf67bc80",
   "metadata": {},
   "outputs": [
    {
     "data": {
      "text/plain": [
       "True"
      ]
     },
     "execution_count": 17,
     "metadata": {},
     "output_type": "execute_result"
    }
   ],
   "source": [
    "all(lst2)"
   ]
  },
  {
   "cell_type": "code",
   "execution_count": 18,
   "id": "b17738a9",
   "metadata": {},
   "outputs": [
    {
     "data": {
      "text/plain": [
       "False"
      ]
     },
     "execution_count": 18,
     "metadata": {},
     "output_type": "execute_result"
    }
   ],
   "source": [
    "any(lst2)"
   ]
  },
  {
   "cell_type": "code",
   "execution_count": 19,
   "id": "f6830607",
   "metadata": {},
   "outputs": [],
   "source": [
    "lst = [1,2,3,4]"
   ]
  },
  {
   "cell_type": "code",
   "execution_count": 20,
   "id": "57c9432e",
   "metadata": {},
   "outputs": [
    {
     "data": {
      "text/plain": [
       "True"
      ]
     },
     "execution_count": 20,
     "metadata": {},
     "output_type": "execute_result"
    }
   ],
   "source": [
    "any(lst)"
   ]
  },
  {
   "cell_type": "code",
   "execution_count": 23,
   "id": "5b2fedb3",
   "metadata": {},
   "outputs": [],
   "source": [
    "lst = [False, 0, -1]"
   ]
  },
  {
   "cell_type": "code",
   "execution_count": 24,
   "id": "02c36cac",
   "metadata": {},
   "outputs": [
    {
     "data": {
      "text/plain": [
       "True"
      ]
     },
     "execution_count": 24,
     "metadata": {},
     "output_type": "execute_result"
    }
   ],
   "source": [
    "any(lst)"
   ]
  },
  {
   "cell_type": "code",
   "execution_count": 25,
   "id": "251225ec",
   "metadata": {},
   "outputs": [
    {
     "data": {
      "text/plain": [
       "False"
      ]
     },
     "execution_count": 25,
     "metadata": {},
     "output_type": "execute_result"
    }
   ],
   "source": [
    "lst = []\n",
    "any(lst)"
   ]
  },
  {
   "cell_type": "code",
   "execution_count": 28,
   "id": "3551965f",
   "metadata": {},
   "outputs": [
    {
     "data": {
      "text/plain": [
       "False"
      ]
     },
     "execution_count": 28,
     "metadata": {},
     "output_type": "execute_result"
    }
   ],
   "source": [
    "any([0]*5)"
   ]
  },
  {
   "cell_type": "code",
   "execution_count": 29,
   "id": "401436d4",
   "metadata": {},
   "outputs": [],
   "source": [
    "lst = [1,2,3,4]"
   ]
  },
  {
   "cell_type": "code",
   "execution_count": 31,
   "id": "6b35067e",
   "metadata": {},
   "outputs": [
    {
     "name": "stdout",
     "output_type": "stream",
     "text": [
      "['__add__', '__class__', '__contains__', '__delattr__', '__delitem__', '__dir__', '__doc__', '__eq__', '__format__', '__ge__', '__getattribute__', '__getitem__', '__gt__', '__hash__', '__iadd__', '__imul__', '__init__', '__init_subclass__', '__iter__', '__le__', '__len__', '__lt__', '__mul__', '__ne__', '__new__', '__reduce__', '__reduce_ex__', '__repr__', '__reversed__', '__rmul__', '__setattr__', '__setitem__', '__sizeof__', '__str__', '__subclasshook__', 'append', 'clear', 'copy', 'count', 'extend', 'index', 'insert', 'pop', 'remove', 'reverse', 'sort']\n"
     ]
    }
   ],
   "source": [
    "print(dir(lst))"
   ]
  },
  {
   "cell_type": "code",
   "execution_count": 32,
   "id": "ac733396",
   "metadata": {},
   "outputs": [],
   "source": [
    "fruits = ['apple', 'mango', 'banana', 'grapes']"
   ]
  },
  {
   "cell_type": "code",
   "execution_count": 37,
   "id": "4440d2c6",
   "metadata": {},
   "outputs": [
    {
     "name": "stdout",
     "output_type": "stream",
     "text": [
      "10 apple\n",
      "11 mango\n",
      "12 banana\n",
      "13 grapes\n"
     ]
    }
   ],
   "source": [
    "for idx, i in enumerate(fruits, start=10):\n",
    "    print(idx, i)"
   ]
  },
  {
   "cell_type": "code",
   "execution_count": 38,
   "id": "a8b8fc40",
   "metadata": {},
   "outputs": [],
   "source": [
    "lst = [3,6,8,2,5,1,0]"
   ]
  },
  {
   "cell_type": "code",
   "execution_count": 39,
   "id": "63952ffd",
   "metadata": {},
   "outputs": [
    {
     "data": {
      "text/plain": [
       "25"
      ]
     },
     "execution_count": 39,
     "metadata": {},
     "output_type": "execute_result"
    }
   ],
   "source": [
    "sum(lst)"
   ]
  },
  {
   "cell_type": "code",
   "execution_count": 40,
   "id": "68ad6e6e",
   "metadata": {},
   "outputs": [
    {
     "data": {
      "text/plain": [
       "0"
      ]
     },
     "execution_count": 40,
     "metadata": {},
     "output_type": "execute_result"
    }
   ],
   "source": [
    "min(lst)"
   ]
  },
  {
   "cell_type": "code",
   "execution_count": 41,
   "id": "5885469a",
   "metadata": {},
   "outputs": [
    {
     "data": {
      "text/plain": [
       "8"
      ]
     },
     "execution_count": 41,
     "metadata": {},
     "output_type": "execute_result"
    }
   ],
   "source": [
    "max(lst)"
   ]
  },
  {
   "cell_type": "code",
   "execution_count": 42,
   "id": "4435fd67",
   "metadata": {},
   "outputs": [],
   "source": [
    "import math"
   ]
  },
  {
   "cell_type": "code",
   "execution_count": 43,
   "id": "1040496a",
   "metadata": {},
   "outputs": [],
   "source": [
    "import statistics"
   ]
  },
  {
   "cell_type": "code",
   "execution_count": 44,
   "id": "6841926a",
   "metadata": {},
   "outputs": [],
   "source": [
    "import numpy"
   ]
  },
  {
   "cell_type": "code",
   "execution_count": 45,
   "id": "f1afa6c5",
   "metadata": {},
   "outputs": [
    {
     "data": {
      "text/plain": [
       "3.5714285714285716"
      ]
     },
     "execution_count": 45,
     "metadata": {},
     "output_type": "execute_result"
    }
   ],
   "source": [
    "numpy.average(lst)"
   ]
  },
  {
   "cell_type": "code",
   "execution_count": 48,
   "id": "7964bd98",
   "metadata": {},
   "outputs": [
    {
     "data": {
      "text/plain": [
       "3.571"
      ]
     },
     "execution_count": 48,
     "metadata": {},
     "output_type": "execute_result"
    }
   ],
   "source": [
    "round(sum(lst)/len(lst), 3)"
   ]
  },
  {
   "cell_type": "code",
   "execution_count": 49,
   "id": "68d4a241",
   "metadata": {},
   "outputs": [],
   "source": [
    "def add_one(x):\n",
    "    return x+1"
   ]
  },
  {
   "cell_type": "code",
   "execution_count": 50,
   "id": "ad72113a",
   "metadata": {},
   "outputs": [
    {
     "data": {
      "text/plain": [
       "101"
      ]
     },
     "execution_count": 50,
     "metadata": {},
     "output_type": "execute_result"
    }
   ],
   "source": [
    "add_one(100)"
   ]
  },
  {
   "cell_type": "code",
   "execution_count": 51,
   "id": "cb4b44c9",
   "metadata": {},
   "outputs": [
    {
     "name": "stdout",
     "output_type": "stream",
     "text": [
      "[3, 6, 8, 2, 5, 1, 0]\n"
     ]
    }
   ],
   "source": [
    "print(lst)"
   ]
  },
  {
   "cell_type": "code",
   "execution_count": 52,
   "id": "df8f5af1",
   "metadata": {},
   "outputs": [],
   "source": [
    "new_lst = []\n",
    "for i in lst:\n",
    "    new_lst.append(i+1)"
   ]
  },
  {
   "cell_type": "code",
   "execution_count": 53,
   "id": "37d6054d",
   "metadata": {},
   "outputs": [
    {
     "data": {
      "text/plain": [
       "[4, 7, 9, 3, 6, 2, 1]"
      ]
     },
     "execution_count": 53,
     "metadata": {},
     "output_type": "execute_result"
    }
   ],
   "source": [
    "new_lst"
   ]
  },
  {
   "cell_type": "code",
   "execution_count": 55,
   "id": "dc974ec9",
   "metadata": {},
   "outputs": [],
   "source": [
    "map_ele = map(add_one, lst)"
   ]
  },
  {
   "cell_type": "code",
   "execution_count": 56,
   "id": "70f15413",
   "metadata": {},
   "outputs": [
    {
     "name": "stdout",
     "output_type": "stream",
     "text": [
      "<map object at 0x000001D8EB01FEE0>\n"
     ]
    }
   ],
   "source": [
    "print(map_ele)"
   ]
  },
  {
   "cell_type": "code",
   "execution_count": 57,
   "id": "1a8de5fe",
   "metadata": {},
   "outputs": [
    {
     "data": {
      "text/plain": [
       "[4, 7, 9, 3, 6, 2, 1]"
      ]
     },
     "execution_count": 57,
     "metadata": {},
     "output_type": "execute_result"
    }
   ],
   "source": [
    "list(map_ele)"
   ]
  },
  {
   "cell_type": "code",
   "execution_count": 59,
   "id": "de28c120",
   "metadata": {},
   "outputs": [
    {
     "data": {
      "text/plain": [
       "[4, 7, 9, 3, 6, 2, 1]"
      ]
     },
     "execution_count": 59,
     "metadata": {},
     "output_type": "execute_result"
    }
   ],
   "source": [
    "list(map(lambda x:x+1, lst))"
   ]
  },
  {
   "cell_type": "code",
   "execution_count": 60,
   "id": "85f7d193",
   "metadata": {},
   "outputs": [
    {
     "name": "stdout",
     "output_type": "stream",
     "text": [
      "[3, 6, 8, 2, 5, 1, 0]\n"
     ]
    }
   ],
   "source": [
    "print(lst)"
   ]
  },
  {
   "cell_type": "code",
   "execution_count": 62,
   "id": "6d5cff26",
   "metadata": {},
   "outputs": [],
   "source": [
    "new_lst2 = []\n",
    "for i in lst:\n",
    "    if i%2==0:\n",
    "        new_lst2.append(i)"
   ]
  },
  {
   "cell_type": "code",
   "execution_count": 63,
   "id": "cdcd248e",
   "metadata": {},
   "outputs": [
    {
     "data": {
      "text/plain": [
       "[6, 8, 2, 0]"
      ]
     },
     "execution_count": 63,
     "metadata": {},
     "output_type": "execute_result"
    }
   ],
   "source": [
    "new_lst2"
   ]
  },
  {
   "cell_type": "code",
   "execution_count": 64,
   "id": "aaac07e2",
   "metadata": {},
   "outputs": [],
   "source": [
    "def even_check(x):\n",
    "    return x%2==0"
   ]
  },
  {
   "cell_type": "code",
   "execution_count": 66,
   "id": "e4f34a6d",
   "metadata": {},
   "outputs": [
    {
     "data": {
      "text/plain": [
       "[6, 8, 2, 0]"
      ]
     },
     "execution_count": 66,
     "metadata": {},
     "output_type": "execute_result"
    }
   ],
   "source": [
    "list(filter(even_check, lst))"
   ]
  },
  {
   "cell_type": "code",
   "execution_count": 68,
   "id": "8ba89391",
   "metadata": {},
   "outputs": [
    {
     "data": {
      "text/plain": [
       "[6, 8, 2, 0]"
      ]
     },
     "execution_count": 68,
     "metadata": {},
     "output_type": "execute_result"
    }
   ],
   "source": [
    "list(filter(lambda x:x%2==0, lst))"
   ]
  },
  {
   "cell_type": "code",
   "execution_count": 69,
   "id": "4b8cd2fd",
   "metadata": {},
   "outputs": [],
   "source": [
    "lst = [1,2,3,4,5]"
   ]
  },
  {
   "cell_type": "code",
   "execution_count": 70,
   "id": "bb015c8f",
   "metadata": {},
   "outputs": [
    {
     "name": "stdout",
     "output_type": "stream",
     "text": [
      "120\n"
     ]
    }
   ],
   "source": [
    "p = 1\n",
    "for i in lst:\n",
    "    p*=i\n",
    "    \n",
    "print(p)"
   ]
  },
  {
   "cell_type": "code",
   "execution_count": 71,
   "id": "28ab0688",
   "metadata": {},
   "outputs": [],
   "source": [
    "from functools import reduce"
   ]
  },
  {
   "cell_type": "code",
   "execution_count": 72,
   "id": "32e9bc73",
   "metadata": {},
   "outputs": [
    {
     "data": {
      "text/plain": [
       "120"
      ]
     },
     "execution_count": 72,
     "metadata": {},
     "output_type": "execute_result"
    }
   ],
   "source": [
    "reduce(lambda x,y:x*y, lst)"
   ]
  },
  {
   "cell_type": "code",
   "execution_count": 73,
   "id": "ae41a2b8",
   "metadata": {},
   "outputs": [],
   "source": [
    "def multiply(x,y):\n",
    "    return x*y"
   ]
  },
  {
   "cell_type": "code",
   "execution_count": 74,
   "id": "f5e935a2",
   "metadata": {},
   "outputs": [
    {
     "data": {
      "text/plain": [
       "120"
      ]
     },
     "execution_count": 74,
     "metadata": {},
     "output_type": "execute_result"
    }
   ],
   "source": [
    "reduce(multiply, lst)"
   ]
  },
  {
   "cell_type": "code",
   "execution_count": 78,
   "id": "bc0fbcc4",
   "metadata": {},
   "outputs": [
    {
     "name": "stdout",
     "output_type": "stream",
     "text": [
      "I will be having some functionality in this module\n",
      "Custom Module name: mycustom12022023\n"
     ]
    }
   ],
   "source": [
    "import mycustom12022023"
   ]
  },
  {
   "cell_type": "code",
   "execution_count": 80,
   "id": "37b461ae",
   "metadata": {},
   "outputs": [],
   "source": [
    "res = mycustom12022023.greetings(\"sanjay\")"
   ]
  },
  {
   "cell_type": "code",
   "execution_count": 81,
   "id": "eb4d28a6",
   "metadata": {},
   "outputs": [
    {
     "name": "stdout",
     "output_type": "stream",
     "text": [
      "Hellosanjay\n"
     ]
    }
   ],
   "source": [
    "print(res)"
   ]
  },
  {
   "cell_type": "code",
   "execution_count": 82,
   "id": "1a68335f",
   "metadata": {},
   "outputs": [
    {
     "name": "stdout",
     "output_type": "stream",
     "text": [
      "__main__\n"
     ]
    }
   ],
   "source": [
    "print(__name__)"
   ]
  },
  {
   "cell_type": "code",
   "execution_count": 83,
   "id": "81cc9c81",
   "metadata": {},
   "outputs": [],
   "source": [
    "import math"
   ]
  },
  {
   "cell_type": "code",
   "execution_count": 85,
   "id": "42e85157",
   "metadata": {},
   "outputs": [
    {
     "name": "stdout",
     "output_type": "stream",
     "text": [
      "['__doc__', '__loader__', '__name__', '__package__', '__spec__', 'acos', 'acosh', 'asin', 'asinh', 'atan', 'atan2', 'atanh', 'ceil', 'comb', 'copysign', 'cos', 'cosh', 'degrees', 'dist', 'e', 'erf', 'erfc', 'exp', 'expm1', 'fabs', 'factorial', 'floor', 'fmod', 'frexp', 'fsum', 'gamma', 'gcd', 'hypot', 'inf', 'isclose', 'isfinite', 'isinf', 'isnan', 'isqrt', 'ldexp', 'lgamma', 'log', 'log10', 'log1p', 'log2', 'modf', 'nan', 'perm', 'pi', 'pow', 'prod', 'radians', 'remainder', 'sin', 'sinh', 'sqrt', 'tan', 'tanh', 'tau', 'trunc']\n"
     ]
    }
   ],
   "source": [
    "print(dir(math))"
   ]
  },
  {
   "cell_type": "code",
   "execution_count": 86,
   "id": "1c899a58",
   "metadata": {},
   "outputs": [
    {
     "data": {
      "text/plain": [
       "3.141592653589793"
      ]
     },
     "execution_count": 86,
     "metadata": {},
     "output_type": "execute_result"
    }
   ],
   "source": [
    "math.pi"
   ]
  },
  {
   "cell_type": "code",
   "execution_count": 87,
   "id": "c36e264b",
   "metadata": {},
   "outputs": [
    {
     "data": {
      "text/plain": [
       "8.0"
      ]
     },
     "execution_count": 87,
     "metadata": {},
     "output_type": "execute_result"
    }
   ],
   "source": [
    "math.pow(2,3)"
   ]
  },
  {
   "cell_type": "code",
   "execution_count": 88,
   "id": "90c48253",
   "metadata": {},
   "outputs": [
    {
     "data": {
      "text/plain": [
       "120"
      ]
     },
     "execution_count": 88,
     "metadata": {},
     "output_type": "execute_result"
    }
   ],
   "source": [
    "math.factorial(5)"
   ]
  },
  {
   "cell_type": "code",
   "execution_count": 89,
   "id": "9d729b9e",
   "metadata": {},
   "outputs": [
    {
     "data": {
      "text/plain": [
       "5"
      ]
     },
     "execution_count": 89,
     "metadata": {},
     "output_type": "execute_result"
    }
   ],
   "source": [
    "math.ceil(4.6)"
   ]
  },
  {
   "cell_type": "code",
   "execution_count": 90,
   "id": "5c1a43cd",
   "metadata": {},
   "outputs": [],
   "source": [
    "import random"
   ]
  },
  {
   "cell_type": "code",
   "execution_count": 91,
   "id": "efa9d21f",
   "metadata": {},
   "outputs": [
    {
     "data": {
      "text/plain": [
       "0.3967997602548623"
      ]
     },
     "execution_count": 91,
     "metadata": {},
     "output_type": "execute_result"
    }
   ],
   "source": [
    "random.random()"
   ]
  },
  {
   "cell_type": "code",
   "execution_count": 98,
   "id": "42c4ccc5",
   "metadata": {},
   "outputs": [
    {
     "data": {
      "text/plain": [
       "7"
      ]
     },
     "execution_count": 98,
     "metadata": {},
     "output_type": "execute_result"
    }
   ],
   "source": [
    "random.randint(0,20)"
   ]
  },
  {
   "cell_type": "code",
   "execution_count": 113,
   "id": "e50cf888",
   "metadata": {},
   "outputs": [
    {
     "data": {
      "text/plain": [
       "25"
      ]
     },
     "execution_count": 113,
     "metadata": {},
     "output_type": "execute_result"
    }
   ],
   "source": [
    "round(random.random()*50)+10\n"
   ]
  },
  {
   "cell_type": "code",
   "execution_count": 114,
   "id": "892445e8",
   "metadata": {},
   "outputs": [],
   "source": [
    "import os"
   ]
  },
  {
   "cell_type": "code",
   "execution_count": 115,
   "id": "4008aa9a",
   "metadata": {},
   "outputs": [
    {
     "name": "stdout",
     "output_type": "stream",
     "text": [
      "['DirEntry', 'F_OK', 'MutableMapping', 'O_APPEND', 'O_BINARY', 'O_CREAT', 'O_EXCL', 'O_NOINHERIT', 'O_RANDOM', 'O_RDONLY', 'O_RDWR', 'O_SEQUENTIAL', 'O_SHORT_LIVED', 'O_TEMPORARY', 'O_TEXT', 'O_TRUNC', 'O_WRONLY', 'P_DETACH', 'P_NOWAIT', 'P_NOWAITO', 'P_OVERLAY', 'P_WAIT', 'PathLike', 'R_OK', 'SEEK_CUR', 'SEEK_END', 'SEEK_SET', 'TMP_MAX', 'W_OK', 'X_OK', '_AddedDllDirectory', '_Environ', '__all__', '__builtins__', '__cached__', '__doc__', '__file__', '__loader__', '__name__', '__package__', '__spec__', '_check_methods', '_execvpe', '_exists', '_exit', '_fspath', '_get_exports_list', '_putenv', '_unsetenv', '_wrap_close', 'abc', 'abort', 'access', 'add_dll_directory', 'altsep', 'chdir', 'chmod', 'close', 'closerange', 'cpu_count', 'curdir', 'defpath', 'device_encoding', 'devnull', 'dup', 'dup2', 'environ', 'error', 'execl', 'execle', 'execlp', 'execlpe', 'execv', 'execve', 'execvp', 'execvpe', 'extsep', 'fdopen', 'fsdecode', 'fsencode', 'fspath', 'fstat', 'fsync', 'ftruncate', 'get_exec_path', 'get_handle_inheritable', 'get_inheritable', 'get_terminal_size', 'getcwd', 'getcwdb', 'getenv', 'getlogin', 'getpid', 'getppid', 'isatty', 'kill', 'linesep', 'link', 'listdir', 'lseek', 'lstat', 'makedirs', 'mkdir', 'name', 'open', 'pardir', 'path', 'pathsep', 'pipe', 'popen', 'putenv', 'read', 'readlink', 'remove', 'removedirs', 'rename', 'renames', 'replace', 'rmdir', 'scandir', 'sep', 'set_handle_inheritable', 'set_inheritable', 'spawnl', 'spawnle', 'spawnv', 'spawnve', 'st', 'startfile', 'stat', 'stat_result', 'statvfs_result', 'strerror', 'supports_bytes_environ', 'supports_dir_fd', 'supports_effective_ids', 'supports_fd', 'supports_follow_symlinks', 'symlink', 'sys', 'system', 'terminal_size', 'times', 'times_result', 'truncate', 'umask', 'uname_result', 'unlink', 'urandom', 'utime', 'waitpid', 'walk', 'write']\n"
     ]
    }
   ],
   "source": [
    "print(dir(os))"
   ]
  },
  {
   "cell_type": "code",
   "execution_count": 116,
   "id": "1a7b4bbc",
   "metadata": {},
   "outputs": [
    {
     "data": {
      "text/plain": [
       "'C:\\\\Users\\\\skme2\\\\Downloads'"
      ]
     },
     "execution_count": 116,
     "metadata": {},
     "output_type": "execute_result"
    }
   ],
   "source": [
    "os.getcwd()"
   ]
  },
  {
   "cell_type": "code",
   "execution_count": 117,
   "id": "4e6b4733",
   "metadata": {},
   "outputs": [],
   "source": [
    "os.makedirs(\"newelycreated2023\")"
   ]
  },
  {
   "cell_type": "code",
   "execution_count": 118,
   "id": "380af140",
   "metadata": {},
   "outputs": [],
   "source": [
    "os.mkdir('mydirectory12')"
   ]
  },
  {
   "cell_type": "code",
   "execution_count": 121,
   "id": "7d8b6881",
   "metadata": {},
   "outputs": [],
   "source": [
    "os.remove('mycustom12022023.py')"
   ]
  },
  {
   "cell_type": "code",
   "execution_count": 122,
   "id": "c9007135",
   "metadata": {},
   "outputs": [],
   "source": [
    "os.removedirs(\"newelycreated2023/\")"
   ]
  },
  {
   "cell_type": "code",
   "execution_count": 123,
   "id": "6c8d3bce",
   "metadata": {},
   "outputs": [],
   "source": [
    "os.removedirs(\"mydirectory12/\")"
   ]
  },
  {
   "cell_type": "code",
   "execution_count": 126,
   "id": "c873fd35",
   "metadata": {},
   "outputs": [],
   "source": [
    "os.remove(\"project12022023.py\")"
   ]
  },
  {
   "cell_type": "code",
   "execution_count": 127,
   "id": "1b43c975",
   "metadata": {},
   "outputs": [],
   "source": [
    "#os.rename()"
   ]
  },
  {
   "cell_type": "code",
   "execution_count": 128,
   "id": "0c86302f",
   "metadata": {},
   "outputs": [],
   "source": [
    "import sys"
   ]
  },
  {
   "cell_type": "code",
   "execution_count": 129,
   "id": "56c61b73",
   "metadata": {},
   "outputs": [
    {
     "data": {
      "text/plain": [
       "'3.8.8 (default, Apr 13 2021, 15:08:03) [MSC v.1916 64 bit (AMD64)]'"
      ]
     },
     "execution_count": 129,
     "metadata": {},
     "output_type": "execute_result"
    }
   ],
   "source": [
    "sys.version"
   ]
  },
  {
   "cell_type": "code",
   "execution_count": 130,
   "id": "2f525727",
   "metadata": {},
   "outputs": [
    {
     "data": {
      "text/plain": [
       "sys.version_info(major=3, minor=8, micro=8, releaselevel='final', serial=0)"
      ]
     },
     "execution_count": 130,
     "metadata": {},
     "output_type": "execute_result"
    }
   ],
   "source": [
    "sys.version_info"
   ]
  },
  {
   "cell_type": "code",
   "execution_count": 131,
   "id": "d769c3e4",
   "metadata": {},
   "outputs": [
    {
     "data": {
      "text/plain": [
       "['C:\\\\Users\\\\skme2\\\\Downloads',\n",
       " 'C:\\\\Users\\\\skme2\\\\anaconda3\\\\python38.zip',\n",
       " 'C:\\\\Users\\\\skme2\\\\anaconda3\\\\DLLs',\n",
       " 'C:\\\\Users\\\\skme2\\\\anaconda3\\\\lib',\n",
       " 'C:\\\\Users\\\\skme2\\\\anaconda3',\n",
       " '',\n",
       " 'C:\\\\Users\\\\skme2\\\\AppData\\\\Roaming\\\\Python\\\\Python38\\\\site-packages',\n",
       " 'C:\\\\Users\\\\skme2\\\\anaconda3\\\\lib\\\\site-packages',\n",
       " 'C:\\\\Users\\\\skme2\\\\Downloads\\\\p1\\\\FSDS_NOV_deepCNNClassifier\\\\src',\n",
       " 'C:\\\\Users\\\\skme2\\\\anaconda3\\\\lib\\\\site-packages\\\\locket-0.2.1-py3.8.egg',\n",
       " 'C:\\\\Users\\\\skme2\\\\anaconda3\\\\lib\\\\site-packages\\\\win32',\n",
       " 'C:\\\\Users\\\\skme2\\\\anaconda3\\\\lib\\\\site-packages\\\\win32\\\\lib',\n",
       " 'C:\\\\Users\\\\skme2\\\\anaconda3\\\\lib\\\\site-packages\\\\Pythonwin',\n",
       " 'C:\\\\Users\\\\skme2\\\\anaconda3\\\\lib\\\\site-packages\\\\IPython\\\\extensions',\n",
       " 'C:\\\\Users\\\\skme2\\\\.ipython']"
      ]
     },
     "execution_count": 131,
     "metadata": {},
     "output_type": "execute_result"
    }
   ],
   "source": [
    "sys.path"
   ]
  },
  {
   "cell_type": "code",
   "execution_count": 132,
   "id": "93990940",
   "metadata": {},
   "outputs": [
    {
     "data": {
      "text/plain": [
       "['__breakpointhook__',\n",
       " '__displayhook__',\n",
       " '__doc__',\n",
       " '__excepthook__',\n",
       " '__interactivehook__',\n",
       " '__loader__',\n",
       " '__name__',\n",
       " '__package__',\n",
       " '__spec__',\n",
       " '__stderr__',\n",
       " '__stdin__',\n",
       " '__stdout__',\n",
       " '__unraisablehook__',\n",
       " '_base_executable',\n",
       " '_clear_type_cache',\n",
       " '_current_frames',\n",
       " '_debugmallocstats',\n",
       " '_enablelegacywindowsfsencoding',\n",
       " '_framework',\n",
       " '_getframe',\n",
       " '_git',\n",
       " '_home',\n",
       " '_xoptions',\n",
       " 'addaudithook',\n",
       " 'api_version',\n",
       " 'argv',\n",
       " 'audit',\n",
       " 'base_exec_prefix',\n",
       " 'base_prefix',\n",
       " 'breakpointhook',\n",
       " 'builtin_module_names',\n",
       " 'byteorder',\n",
       " 'call_tracing',\n",
       " 'callstats',\n",
       " 'copyright',\n",
       " 'displayhook',\n",
       " 'dllhandle',\n",
       " 'dont_write_bytecode',\n",
       " 'exc_info',\n",
       " 'excepthook',\n",
       " 'exec_prefix',\n",
       " 'executable',\n",
       " 'exit',\n",
       " 'flags',\n",
       " 'float_info',\n",
       " 'float_repr_style',\n",
       " 'get_asyncgen_hooks',\n",
       " 'get_coroutine_origin_tracking_depth',\n",
       " 'getallocatedblocks',\n",
       " 'getcheckinterval',\n",
       " 'getdefaultencoding',\n",
       " 'getfilesystemencodeerrors',\n",
       " 'getfilesystemencoding',\n",
       " 'getprofile',\n",
       " 'getrecursionlimit',\n",
       " 'getrefcount',\n",
       " 'getsizeof',\n",
       " 'getswitchinterval',\n",
       " 'gettrace',\n",
       " 'getwindowsversion',\n",
       " 'hash_info',\n",
       " 'hexversion',\n",
       " 'implementation',\n",
       " 'int_info',\n",
       " 'intern',\n",
       " 'is_finalizing',\n",
       " 'last_traceback',\n",
       " 'last_type',\n",
       " 'last_value',\n",
       " 'maxsize',\n",
       " 'maxunicode',\n",
       " 'meta_path',\n",
       " 'modules',\n",
       " 'path',\n",
       " 'path_hooks',\n",
       " 'path_importer_cache',\n",
       " 'platform',\n",
       " 'prefix',\n",
       " 'ps1',\n",
       " 'ps2',\n",
       " 'ps3',\n",
       " 'pycache_prefix',\n",
       " 'set_asyncgen_hooks',\n",
       " 'set_coroutine_origin_tracking_depth',\n",
       " 'setcheckinterval',\n",
       " 'setprofile',\n",
       " 'setrecursionlimit',\n",
       " 'setswitchinterval',\n",
       " 'settrace',\n",
       " 'stderr',\n",
       " 'stdin',\n",
       " 'stdout',\n",
       " 'thread_info',\n",
       " 'unraisablehook',\n",
       " 'version',\n",
       " 'version_info',\n",
       " 'warnoptions',\n",
       " 'winver']"
      ]
     },
     "execution_count": 132,
     "metadata": {},
     "output_type": "execute_result"
    }
   ],
   "source": [
    "dir(sys)"
   ]
  },
  {
   "cell_type": "code",
   "execution_count": 133,
   "id": "df5271cd",
   "metadata": {},
   "outputs": [],
   "source": [
    "import datetime"
   ]
  },
  {
   "cell_type": "code",
   "execution_count": 134,
   "id": "a3eb922c",
   "metadata": {},
   "outputs": [
    {
     "data": {
      "text/plain": [
       "datetime.datetime(2023, 2, 12, 11, 1, 24, 387547)"
      ]
     },
     "execution_count": 134,
     "metadata": {},
     "output_type": "execute_result"
    }
   ],
   "source": [
    "datetime.datetime.now()"
   ]
  },
  {
   "cell_type": "code",
   "execution_count": 135,
   "id": "7c1e6bc5",
   "metadata": {},
   "outputs": [],
   "source": [
    "import math"
   ]
  },
  {
   "cell_type": "code",
   "execution_count": 136,
   "id": "0a9a561c",
   "metadata": {},
   "outputs": [],
   "source": [
    "import math as m"
   ]
  },
  {
   "cell_type": "code",
   "execution_count": 137,
   "id": "837924f1",
   "metadata": {},
   "outputs": [
    {
     "data": {
      "text/plain": [
       "120"
      ]
     },
     "execution_count": 137,
     "metadata": {},
     "output_type": "execute_result"
    }
   ],
   "source": [
    "m.factorial(5)"
   ]
  },
  {
   "cell_type": "code",
   "execution_count": 138,
   "id": "384aa133",
   "metadata": {},
   "outputs": [],
   "source": [
    "from math import factorial"
   ]
  },
  {
   "cell_type": "code",
   "execution_count": 139,
   "id": "ee0bad8f",
   "metadata": {},
   "outputs": [
    {
     "data": {
      "text/plain": [
       "120"
      ]
     },
     "execution_count": 139,
     "metadata": {},
     "output_type": "execute_result"
    }
   ],
   "source": [
    "factorial(5)"
   ]
  },
  {
   "cell_type": "code",
   "execution_count": 140,
   "id": "ebd4a26b",
   "metadata": {},
   "outputs": [],
   "source": [
    "from math import *"
   ]
  },
  {
   "cell_type": "code",
   "execution_count": 142,
   "id": "c5ec3e9e",
   "metadata": {},
   "outputs": [],
   "source": [
    "#import Game.Image.Open"
   ]
  },
  {
   "cell_type": "code",
   "execution_count": 143,
   "id": "5783efa4",
   "metadata": {},
   "outputs": [],
   "source": [
    "# Import Game"
   ]
  },
  {
   "cell_type": "code",
   "execution_count": 145,
   "id": "a3fc5680",
   "metadata": {},
   "outputs": [],
   "source": [
    "#import Game.Image"
   ]
  },
  {
   "cell_type": "code",
   "execution_count": 148,
   "id": "c0ec75ae",
   "metadata": {},
   "outputs": [],
   "source": [
    "#from Game import Image"
   ]
  },
  {
   "cell_type": "code",
   "execution_count": 152,
   "id": "7e3adabd",
   "metadata": {},
   "outputs": [],
   "source": [
    "f = open('newfile12022023.txt')"
   ]
  },
  {
   "cell_type": "code",
   "execution_count": 156,
   "id": "a9085630",
   "metadata": {},
   "outputs": [
    {
     "data": {
      "text/plain": [
       "True"
      ]
     },
     "execution_count": 156,
     "metadata": {},
     "output_type": "execute_result"
    }
   ],
   "source": [
    "f.closed"
   ]
  },
  {
   "cell_type": "code",
   "execution_count": 155,
   "id": "0b406f39",
   "metadata": {},
   "outputs": [],
   "source": [
    "f.close()"
   ]
  },
  {
   "cell_type": "code",
   "execution_count": 158,
   "id": "735b59ff",
   "metadata": {},
   "outputs": [],
   "source": [
    "f = open('newfile12022023.txt', mode='r')"
   ]
  },
  {
   "cell_type": "code",
   "execution_count": 161,
   "id": "ab4cba41",
   "metadata": {},
   "outputs": [],
   "source": [
    "f = open(\"mlfile.txt\", 'w')"
   ]
  },
  {
   "cell_type": "code",
   "execution_count": 162,
   "id": "6cd59edb",
   "metadata": {},
   "outputs": [
    {
     "data": {
      "text/plain": [
       "False"
      ]
     },
     "execution_count": 162,
     "metadata": {},
     "output_type": "execute_result"
    }
   ],
   "source": [
    "f.closed"
   ]
  },
  {
   "cell_type": "code",
   "execution_count": 164,
   "id": "8cd4c5b8",
   "metadata": {},
   "outputs": [],
   "source": [
    "f = open('newfile12022023.txt')"
   ]
  },
  {
   "cell_type": "code",
   "execution_count": 165,
   "id": "094f6cca",
   "metadata": {},
   "outputs": [
    {
     "name": "stdout",
     "output_type": "stream",
     "text": [
      "False\n"
     ]
    }
   ],
   "source": [
    "print(f.closed)"
   ]
  },
  {
   "cell_type": "code",
   "execution_count": 166,
   "id": "2af4713c",
   "metadata": {},
   "outputs": [],
   "source": [
    "f.close()"
   ]
  },
  {
   "cell_type": "code",
   "execution_count": 167,
   "id": "9555f537",
   "metadata": {},
   "outputs": [
    {
     "data": {
      "text/plain": [
       "True"
      ]
     },
     "execution_count": 167,
     "metadata": {},
     "output_type": "execute_result"
    }
   ],
   "source": [
    "f.closed"
   ]
  },
  {
   "cell_type": "code",
   "execution_count": 168,
   "id": "f5103373",
   "metadata": {},
   "outputs": [
    {
     "name": "stdout",
     "output_type": "stream",
     "text": [
      "inside : False\n",
      "outside : True\n"
     ]
    }
   ],
   "source": [
    "with open(\"newfile12022023.txt\", mode='r') as f:\n",
    "    print(\"inside :\", f.closed)\n",
    "    \n",
    "print(\"outside :\", f.closed)"
   ]
  },
  {
   "cell_type": "code",
   "execution_count": 169,
   "id": "fbe064a0",
   "metadata": {},
   "outputs": [
    {
     "name": "stdout",
     "output_type": "stream",
     "text": [
      "41 40\n"
     ]
    }
   ],
   "source": [
    "with open(\"mymlfile2023.txt\", mode= 'w') as f:\n",
    "    r1 = f.write(\"This file has been generated by python. \\n\")\n",
    "    r2 = f.write(\"I will be teaching supervised learing. \\n\")\n",
    "    \n",
    "    print(r1,r2)"
   ]
  },
  {
   "cell_type": "code",
   "execution_count": 170,
   "id": "3ef5e8f2",
   "metadata": {},
   "outputs": [
    {
     "name": "stdout",
     "output_type": "stream",
     "text": [
      "This file has been generated by python. \n",
      "I will be teaching supervised learing. \n",
      "\n"
     ]
    }
   ],
   "source": [
    "with open(\"mymlfile2023.txt\", mode= 'r') as f:\n",
    "    data = f.read()\n",
    "    print(data)"
   ]
  },
  {
   "cell_type": "code",
   "execution_count": 174,
   "id": "ca7f4958",
   "metadata": {},
   "outputs": [
    {
     "name": "stdout",
     "output_type": "stream",
     "text": [
      "This file \n",
      "has b\n"
     ]
    }
   ],
   "source": [
    "with open(\"mymlfile2023.txt\", 'r') as f:\n",
    "    data = f.read(10)\n",
    "    print(data)\n",
    "    \n",
    "    data = f.read(5)\n",
    "    print(data)"
   ]
  },
  {
   "cell_type": "code",
   "execution_count": 183,
   "id": "34f40eb9",
   "metadata": {},
   "outputs": [
    {
     "name": "stdout",
     "output_type": "stream",
     "text": [
      "0\n",
      "This\n",
      "4\n",
      " file\n",
      "9\n",
      "0\n",
      "This file has been generated by python. \n",
      "I will be teaching supervised learing. \n",
      "\n"
     ]
    }
   ],
   "source": [
    "with open(\"mymlfile2023.txt\", 'r') as f:\n",
    "    print(f.tell())\n",
    "    \n",
    "    print(f.read(4))\n",
    "    \n",
    "    print(f.tell())\n",
    "    \n",
    "    print(f.read(5))\n",
    "    \n",
    "    print(f.tell())\n",
    "    \n",
    "    f.seek(0)\n",
    "    \n",
    "    print(f.tell())\n",
    "    \n",
    "    print(f.read())"
   ]
  },
  {
   "cell_type": "code",
   "execution_count": 185,
   "id": "cc8ac136",
   "metadata": {},
   "outputs": [
    {
     "name": "stdout",
     "output_type": "stream",
     "text": [
      "This file has been generated by python. \n",
      "\n",
      "I will be teaching supervised learing. \n",
      "\n"
     ]
    }
   ],
   "source": [
    "with open(\"mymlfile2023.txt\", 'r') as f:\n",
    "    for i in f:\n",
    "        print(i)"
   ]
  },
  {
   "cell_type": "code",
   "execution_count": 189,
   "id": "12d6758c",
   "metadata": {},
   "outputs": [
    {
     "name": "stdout",
     "output_type": "stream",
     "text": [
      "This file has been generated by python. \n",
      "\n",
      "I will be teaching supervised learing. \n",
      "\n"
     ]
    }
   ],
   "source": [
    "with open(\"mymlfile2023.txt\", 'r') as f:\n",
    "    #print(f.readlines())\n",
    "    \n",
    "    for i in f.readlines():\n",
    "        print(i)"
   ]
  },
  {
   "cell_type": "code",
   "execution_count": 191,
   "id": "758764f6",
   "metadata": {},
   "outputs": [
    {
     "name": "stdout",
     "output_type": "stream",
     "text": [
      "This file has been generated by python. \n",
      "I will be teaching supervised learing. \n",
      "\n"
     ]
    }
   ],
   "source": [
    "with open(\"mymlfile2023.txt\", mode= 'r') as f:\n",
    "    print(f.read())"
   ]
  },
  {
   "cell_type": "code",
   "execution_count": 192,
   "id": "c834bf35",
   "metadata": {},
   "outputs": [
    {
     "name": "stdout",
     "output_type": "stream",
     "text": [
      "33\n"
     ]
    }
   ],
   "source": [
    "with open(\"mymlfile2023.txt\", mode='a') as f:\n",
    "    d = f.write(\"Teaching is also a good carrer. \\n\")\n",
    "    print(d)"
   ]
  },
  {
   "cell_type": "code",
   "execution_count": 193,
   "id": "043617aa",
   "metadata": {},
   "outputs": [
    {
     "name": "stdout",
     "output_type": "stream",
     "text": [
      "This file has been generated by python. \n",
      "I will be teaching supervised learing. \n",
      "Teaching is also a good carrer. \n",
      "\n"
     ]
    }
   ],
   "source": [
    "with open(\"mymlfile2023.txt\", 'r') as f:\n",
    "    print(f.read())"
   ]
  },
  {
   "cell_type": "code",
   "execution_count": 194,
   "id": "64f403af",
   "metadata": {},
   "outputs": [],
   "source": [
    "import os"
   ]
  },
  {
   "cell_type": "code",
   "execution_count": 196,
   "id": "34dce142",
   "metadata": {},
   "outputs": [
    {
     "name": "stdout",
     "output_type": "stream",
     "text": [
      "['This file has been generated by python. \\n', 'I will be teaching supervised learing. \\n', 'Teaching is also a good carrer. \\n']\n"
     ]
    }
   ],
   "source": [
    "filename = \"mymlfile2023.txt\"\n",
    "\n",
    "data = None\n",
    "\n",
    "with open(filename) as f:\n",
    "    data = f.readlines()\n",
    "    print(data)"
   ]
  },
  {
   "cell_type": "code",
   "execution_count": 198,
   "id": "a9e0341f",
   "metadata": {},
   "outputs": [],
   "source": [
    "data[-1] = \"with the help of taeching i would get many benifits such as sharing expertise, impact on industry, carrere growth, stay in current, personal fulfilment\""
   ]
  },
  {
   "cell_type": "code",
   "execution_count": 199,
   "id": "b241fd2c",
   "metadata": {},
   "outputs": [
    {
     "data": {
      "text/plain": [
       "['This file has been generated by python. \\n',\n",
       " 'I will be teaching supervised learing. \\n',\n",
       " 'with the help of taeching i would get many benifits such as sharing expertise, impact on industry, carrere growth, stay in current, personal fulfilment']"
      ]
     },
     "execution_count": 199,
     "metadata": {},
     "output_type": "execute_result"
    }
   ],
   "source": [
    "data"
   ]
  },
  {
   "cell_type": "code",
   "execution_count": 201,
   "id": "406de28d",
   "metadata": {},
   "outputs": [],
   "source": [
    "data_to_write = \" \".join(data)"
   ]
  },
  {
   "cell_type": "code",
   "execution_count": 202,
   "id": "8817c88f",
   "metadata": {},
   "outputs": [
    {
     "name": "stdout",
     "output_type": "stream",
     "text": [
      "This file has been generated by python. \n",
      " I will be teaching supervised learing. \n",
      " with the help of taeching i would get many benifits such as sharing expertise, impact on industry, carrere growth, stay in current, personal fulfilment\n"
     ]
    }
   ],
   "source": [
    "print(data_to_write)"
   ]
  },
  {
   "cell_type": "code",
   "execution_count": 203,
   "id": "30ca5a37",
   "metadata": {},
   "outputs": [],
   "source": [
    "with open(\"mylatestfile2023.txt\", 'w') as f:\n",
    "    f.write(data_to_write)"
   ]
  },
  {
   "cell_type": "code",
   "execution_count": 204,
   "id": "091617b0",
   "metadata": {},
   "outputs": [],
   "source": [
    "os.remove(filename)"
   ]
  },
  {
   "cell_type": "code",
   "execution_count": 205,
   "id": "2ea84947",
   "metadata": {},
   "outputs": [],
   "source": [
    "os.rename(\"mylatestfile2023.txt\", filename)"
   ]
  },
  {
   "cell_type": "code",
   "execution_count": 206,
   "id": "eb903dcf",
   "metadata": {},
   "outputs": [
    {
     "ename": "NameError",
     "evalue": "name 'a' is not defined",
     "output_type": "error",
     "traceback": [
      "\u001b[1;31m---------------------------------------------------------------------------\u001b[0m",
      "\u001b[1;31mNameError\u001b[0m                                 Traceback (most recent call last)",
      "\u001b[1;32m<ipython-input-206-bca0e2660b9f>\u001b[0m in \u001b[0;36m<module>\u001b[1;34m\u001b[0m\n\u001b[1;32m----> 1\u001b[1;33m \u001b[0mprint\u001b[0m\u001b[1;33m(\u001b[0m\u001b[0ma\u001b[0m\u001b[1;33m)\u001b[0m\u001b[1;33m\u001b[0m\u001b[1;33m\u001b[0m\u001b[0m\n\u001b[0m",
      "\u001b[1;31mNameError\u001b[0m: name 'a' is not defined"
     ]
    }
   ],
   "source": [
    "print(a)"
   ]
  },
  {
   "cell_type": "code",
   "execution_count": 207,
   "id": "8dccb5d6",
   "metadata": {},
   "outputs": [
    {
     "ename": "SyntaxError",
     "evalue": "unexpected EOF while parsing (<ipython-input-207-5ceeaf57d005>, line 1)",
     "output_type": "error",
     "traceback": [
      "\u001b[1;36m  File \u001b[1;32m\"<ipython-input-207-5ceeaf57d005>\"\u001b[1;36m, line \u001b[1;32m1\u001b[0m\n\u001b[1;33m    if 5>3:\u001b[0m\n\u001b[1;37m           ^\u001b[0m\n\u001b[1;31mSyntaxError\u001b[0m\u001b[1;31m:\u001b[0m unexpected EOF while parsing\n"
     ]
    }
   ],
   "source": [
    "if 5>3:"
   ]
  },
  {
   "cell_type": "code",
   "execution_count": 208,
   "id": "f6957d92",
   "metadata": {},
   "outputs": [
    {
     "ename": "ModuleNotFoundError",
     "evalue": "No module named 'dontknow'",
     "output_type": "error",
     "traceback": [
      "\u001b[1;31m---------------------------------------------------------------------------\u001b[0m",
      "\u001b[1;31mModuleNotFoundError\u001b[0m                       Traceback (most recent call last)",
      "\u001b[1;32m<ipython-input-208-bcd87af70373>\u001b[0m in \u001b[0;36m<module>\u001b[1;34m\u001b[0m\n\u001b[1;32m----> 1\u001b[1;33m \u001b[1;32mimport\u001b[0m \u001b[0mdontknow\u001b[0m\u001b[1;33m\u001b[0m\u001b[1;33m\u001b[0m\u001b[0m\n\u001b[0m",
      "\u001b[1;31mModuleNotFoundError\u001b[0m: No module named 'dontknow'"
     ]
    }
   ],
   "source": [
    "import dontknow"
   ]
  },
  {
   "cell_type": "code",
   "execution_count": 209,
   "id": "5082b6f0",
   "metadata": {},
   "outputs": [
    {
     "ename": "AttributeError",
     "evalue": "'str' object has no attribute 'sort'",
     "output_type": "error",
     "traceback": [
      "\u001b[1;31m---------------------------------------------------------------------------\u001b[0m",
      "\u001b[1;31mAttributeError\u001b[0m                            Traceback (most recent call last)",
      "\u001b[1;32m<ipython-input-209-c09a3408211e>\u001b[0m in \u001b[0;36m<module>\u001b[1;34m\u001b[0m\n\u001b[1;32m----> 1\u001b[1;33m \u001b[1;34m\"coding_minutes\"\u001b[0m\u001b[1;33m.\u001b[0m\u001b[0msort\u001b[0m\u001b[1;33m(\u001b[0m\u001b[1;33m)\u001b[0m\u001b[1;33m\u001b[0m\u001b[1;33m\u001b[0m\u001b[0m\n\u001b[0m",
      "\u001b[1;31mAttributeError\u001b[0m: 'str' object has no attribute 'sort'"
     ]
    }
   ],
   "source": [
    "\"coding_minutes\".sort()"
   ]
  },
  {
   "cell_type": "code",
   "execution_count": 210,
   "id": "f2f048bc",
   "metadata": {},
   "outputs": [
    {
     "ename": "TypeError",
     "evalue": "can only concatenate str (not \"int\") to str",
     "output_type": "error",
     "traceback": [
      "\u001b[1;31m---------------------------------------------------------------------------\u001b[0m",
      "\u001b[1;31mTypeError\u001b[0m                                 Traceback (most recent call last)",
      "\u001b[1;32m<ipython-input-210-48a28808618d>\u001b[0m in \u001b[0;36m<module>\u001b[1;34m\u001b[0m\n\u001b[1;32m----> 1\u001b[1;33m \u001b[1;34m\"Hello\"\u001b[0m \u001b[1;33m+\u001b[0m \u001b[1;36m1\u001b[0m\u001b[1;33m\u001b[0m\u001b[1;33m\u001b[0m\u001b[0m\n\u001b[0m",
      "\u001b[1;31mTypeError\u001b[0m: can only concatenate str (not \"int\") to str"
     ]
    }
   ],
   "source": [
    "\"Hello\" + 1"
   ]
  },
  {
   "cell_type": "code",
   "execution_count": 213,
   "id": "23eec6b8",
   "metadata": {},
   "outputs": [
    {
     "name": "stdout",
     "output_type": "stream",
     "text": [
      "['ArithmeticError', 'AssertionError', 'AttributeError', 'BaseException', 'BlockingIOError', 'BrokenPipeError', 'BufferError', 'BytesWarning', 'ChildProcessError', 'ConnectionAbortedError', 'ConnectionError', 'ConnectionRefusedError', 'ConnectionResetError', 'DeprecationWarning', 'EOFError', 'Ellipsis', 'EnvironmentError', 'Exception', 'False', 'FileExistsError', 'FileNotFoundError', 'FloatingPointError', 'FutureWarning', 'GeneratorExit', 'IOError', 'ImportError', 'ImportWarning', 'IndentationError', 'IndexError', 'InterruptedError', 'IsADirectoryError', 'KeyError', 'KeyboardInterrupt', 'LookupError', 'MemoryError', 'ModuleNotFoundError', 'NameError', 'None', 'NotADirectoryError', 'NotImplemented', 'NotImplementedError', 'OSError', 'OverflowError', 'PendingDeprecationWarning', 'PermissionError', 'ProcessLookupError', 'RecursionError', 'ReferenceError', 'ResourceWarning', 'RuntimeError', 'RuntimeWarning', 'StopAsyncIteration', 'StopIteration', 'SyntaxError', 'SyntaxWarning', 'SystemError', 'SystemExit', 'TabError', 'TimeoutError', 'True', 'TypeError', 'UnboundLocalError', 'UnicodeDecodeError', 'UnicodeEncodeError', 'UnicodeError', 'UnicodeTranslateError', 'UnicodeWarning', 'UserWarning', 'ValueError', 'Warning', 'WindowsError', 'ZeroDivisionError', '__IPYTHON__', '__build_class__', '__debug__', '__doc__', '__import__', '__loader__', '__name__', '__package__', '__spec__', 'abs', 'all', 'any', 'ascii', 'bin', 'bool', 'breakpoint', 'bytearray', 'bytes', 'callable', 'chr', 'classmethod', 'compile', 'complex', 'copyright', 'credits', 'delattr', 'dict', 'dir', 'display', 'divmod', 'enumerate', 'eval', 'exec', 'filter', 'float', 'format', 'frozenset', 'get_ipython', 'getattr', 'globals', 'hasattr', 'hash', 'help', 'hex', 'id', 'input', 'int', 'isinstance', 'issubclass', 'iter', 'len', 'license', 'list', 'locals', 'map', 'max', 'memoryview', 'min', 'next', 'object', 'oct', 'open', 'ord', 'pow', 'print', 'property', 'range', 'repr', 'reversed', 'round', 'set', 'setattr', 'slice', 'sorted', 'staticmethod', 'str', 'sum', 'super', 'tuple', 'type', 'vars', 'zip']\n"
     ]
    }
   ],
   "source": [
    "print(dir(__builtins__))"
   ]
  },
  {
   "cell_type": "code",
   "execution_count": 214,
   "id": "8edae8b0",
   "metadata": {},
   "outputs": [],
   "source": [
    "import sys"
   ]
  },
  {
   "cell_type": "code",
   "execution_count": 215,
   "id": "6f5861ab",
   "metadata": {},
   "outputs": [],
   "source": [
    "lst = [2, 0, \"Hello\", None]"
   ]
  },
  {
   "cell_type": "code",
   "execution_count": 227,
   "id": "5c13b7ac",
   "metadata": {},
   "outputs": [
    {
     "name": "stdout",
     "output_type": "stream",
     "text": [
      "Current Element : 2\n",
      "Result : 2.5\n",
      "--------------------------------------------------\n",
      "Current Element : 0\n",
      "Error Caused :  division by zero\n",
      "<class 'ZeroDivisionError'>\n",
      "--------------------------------------------------\n",
      "Current Element : Hello\n",
      "Error Caused :  invalid literal for int() with base 10: 'Hello'\n",
      "<class 'ValueError'>\n",
      "--------------------------------------------------\n",
      "Current Element : None\n",
      "Error Caused :  int() argument must be a string, a bytes-like object or a number, not 'NoneType'\n",
      "<class 'TypeError'>\n",
      "--------------------------------------------------\n",
      "\n",
      " There are 100 lines of codes\n"
     ]
    }
   ],
   "source": [
    "for i in lst:\n",
    "    try:\n",
    "        print(\"Current Element :\", i)\n",
    "        res = 5/int(i)\n",
    "        print(\"Result :\",res)\n",
    "    except Exception as e:\n",
    "        print(\"Error Caused : \", e)\n",
    "        print(sys.exc_info()[0])\n",
    "    print(\"-\"*50)\n",
    "    \n",
    "print(\"\\n There are 100 lines of codes\")"
   ]
  },
  {
   "cell_type": "code",
   "execution_count": 228,
   "id": "035344d3",
   "metadata": {},
   "outputs": [],
   "source": [
    "lst = [2, 0, \"Hello\", None]"
   ]
  },
  {
   "cell_type": "code",
   "execution_count": 238,
   "id": "f2b1d277",
   "metadata": {},
   "outputs": [
    {
     "name": "stdout",
     "output_type": "stream",
     "text": [
      "Current Element : 2\n",
      "Result :  2.5\n",
      "--------------------------------------------------\n",
      "Current Element : 0\n",
      "do not divide it by zero : division by zero\n",
      "--------------------------------------------------\n",
      "Current Element : Hello\n",
      "This is value error : invalid literal for int() with base 10: 'Hello'\n",
      "--------------------------------------------------\n",
      "Current Element : None\n",
      "Error caused : int() argument must be a string, a bytes-like object or a number, not 'NoneType'\n",
      "<class 'TypeError'>\n",
      "--------------------------------------------------\n",
      "\n",
      " 100 lines of code\n"
     ]
    }
   ],
   "source": [
    "for i in lst:\n",
    "    try:\n",
    "        print(\"Current Element :\", i)\n",
    "        res = 5/int(i)\n",
    "        print(\"Result : \", res)\n",
    "    except ZeroDivisionError as ze:\n",
    "        print(\"do not divide it by zero :\", ze)\n",
    "    except ValueError as ve:\n",
    "        print(\"This is value error :\", ve)\n",
    "    except Exception as e:\n",
    "        print(\"Error caused :\", e)\n",
    "        print(sys.exc_info()[0])\n",
    "        \n",
    "    print(\"-\"*50)\n",
    "    \n",
    "print(\"\\n 100 lines of code\")"
   ]
  },
  {
   "cell_type": "code",
   "execution_count": 242,
   "id": "0b9174c8",
   "metadata": {},
   "outputs": [
    {
     "name": "stdout",
     "output_type": "stream",
     "text": [
      "Error happend : division by zero\n",
      "I will always execute myself\n"
     ]
    }
   ],
   "source": [
    "try:\n",
    "    ans = 5/0\n",
    "    print(ans)\n",
    "except ZeroDivisionError as ze:\n",
    "    print(\"Error happend :\", ze)\n",
    "finally:\n",
    "    #db.close()\n",
    "    # f.close()\n",
    "    print(\"I will always execute myself\")\n",
    "    "
   ]
  },
  {
   "cell_type": "code",
   "execution_count": 244,
   "id": "8f6a302d",
   "metadata": {},
   "outputs": [
    {
     "ename": "Exception",
     "evalue": "Sanjay",
     "output_type": "error",
     "traceback": [
      "\u001b[1;31m---------------------------------------------------------------------------\u001b[0m",
      "\u001b[1;31mException\u001b[0m                                 Traceback (most recent call last)",
      "\u001b[1;32m<ipython-input-244-7402703d8e94>\u001b[0m in \u001b[0;36m<module>\u001b[1;34m\u001b[0m\n\u001b[1;32m----> 1\u001b[1;33m \u001b[1;32mraise\u001b[0m \u001b[0mException\u001b[0m\u001b[1;33m(\u001b[0m\u001b[1;34m\"Sanjay\"\u001b[0m\u001b[1;33m)\u001b[0m\u001b[1;33m\u001b[0m\u001b[1;33m\u001b[0m\u001b[0m\n\u001b[0m\u001b[0;32m      2\u001b[0m \u001b[0mprint\u001b[0m\u001b[1;33m(\u001b[0m\u001b[1;34m\"\\n 100 lines of code\"\u001b[0m\u001b[1;33m)\u001b[0m\u001b[1;33m\u001b[0m\u001b[1;33m\u001b[0m\u001b[0m\n",
      "\u001b[1;31mException\u001b[0m: Sanjay"
     ]
    }
   ],
   "source": [
    "raise Exception(\"Sanjay\")\n",
    "print(\"\\n 100 lines of code\")"
   ]
  },
  {
   "cell_type": "code",
   "execution_count": 248,
   "id": "bef8e66d",
   "metadata": {},
   "outputs": [
    {
     "name": "stdout",
     "output_type": "stream",
     "text": [
      "Enter your name :sanjay\n",
      "hello sanjay\n",
      "\n",
      " 100 lines of code\n"
     ]
    }
   ],
   "source": [
    "try:\n",
    "    name = input(\"Enter your name :\")\n",
    "    if len(name)<=3:\n",
    "        raise ValueError(\"Name can not be less than 4 charater.\")\n",
    "    print(\"hello\", name)\n",
    "except Exception as e:\n",
    "    print(\"Error occured :\", e)\n",
    "    print(sys.exc_info()[0])\n",
    "    \n",
    "print(\"\\n 100 lines of code\")"
   ]
  },
  {
   "cell_type": "code",
   "execution_count": 250,
   "id": "2f74df59",
   "metadata": {},
   "outputs": [],
   "source": [
    "class Human:\n",
    "    pass"
   ]
  },
  {
   "cell_type": "code",
   "execution_count": 251,
   "id": "58a6f8ac",
   "metadata": {},
   "outputs": [],
   "source": [
    "mohit = Human()"
   ]
  },
  {
   "cell_type": "code",
   "execution_count": 252,
   "id": "4de1d161",
   "metadata": {},
   "outputs": [
    {
     "data": {
      "text/plain": [
       "str"
      ]
     },
     "execution_count": 252,
     "metadata": {},
     "output_type": "execute_result"
    }
   ],
   "source": [
    "type(\"Hello\")"
   ]
  },
  {
   "cell_type": "code",
   "execution_count": 253,
   "id": "09799c13",
   "metadata": {},
   "outputs": [
    {
     "data": {
      "text/plain": [
       "__main__.Human"
      ]
     },
     "execution_count": 253,
     "metadata": {},
     "output_type": "execute_result"
    }
   ],
   "source": [
    "type(mohit)"
   ]
  },
  {
   "cell_type": "code",
   "execution_count": 254,
   "id": "4931f9c8",
   "metadata": {},
   "outputs": [],
   "source": [
    "class Human:\n",
    "    def __init__(self, name,age):\n",
    "        print(\"Creating new object...\")\n",
    "        self.name = name\n",
    "        self.age = age\n",
    "        "
   ]
  },
  {
   "cell_type": "code",
   "execution_count": 256,
   "id": "ceb6faf4",
   "metadata": {},
   "outputs": [
    {
     "name": "stdout",
     "output_type": "stream",
     "text": [
      "Creating new object...\n"
     ]
    }
   ],
   "source": [
    "h1 = Human(\"Mohit\", 23)"
   ]
  },
  {
   "cell_type": "code",
   "execution_count": 257,
   "id": "d4676df4",
   "metadata": {},
   "outputs": [
    {
     "name": "stdout",
     "output_type": "stream",
     "text": [
      "<__main__.Human object at 0x000001D8EC42AE20>\n"
     ]
    }
   ],
   "source": [
    "print(h1)"
   ]
  },
  {
   "cell_type": "code",
   "execution_count": 258,
   "id": "fa60354d",
   "metadata": {},
   "outputs": [
    {
     "data": {
      "text/plain": [
       "23"
      ]
     },
     "execution_count": 258,
     "metadata": {},
     "output_type": "execute_result"
    }
   ],
   "source": [
    "h1.age"
   ]
  },
  {
   "cell_type": "code",
   "execution_count": 259,
   "id": "7861e3da",
   "metadata": {},
   "outputs": [
    {
     "data": {
      "text/plain": [
       "'Mohit'"
      ]
     },
     "execution_count": 259,
     "metadata": {},
     "output_type": "execute_result"
    }
   ],
   "source": [
    "h1.name"
   ]
  },
  {
   "cell_type": "code",
   "execution_count": 260,
   "id": "9eb85222",
   "metadata": {},
   "outputs": [
    {
     "name": "stdout",
     "output_type": "stream",
     "text": [
      "Creating new object...\n"
     ]
    }
   ],
   "source": [
    "h2 = Human(\"Prateek\", 27)"
   ]
  },
  {
   "cell_type": "code",
   "execution_count": 261,
   "id": "a7e886fd",
   "metadata": {},
   "outputs": [
    {
     "data": {
      "text/plain": [
       "27"
      ]
     },
     "execution_count": 261,
     "metadata": {},
     "output_type": "execute_result"
    }
   ],
   "source": [
    "h2.age"
   ]
  },
  {
   "cell_type": "code",
   "execution_count": 262,
   "id": "ec98185a",
   "metadata": {},
   "outputs": [
    {
     "data": {
      "text/plain": [
       "'Prateek'"
      ]
     },
     "execution_count": 262,
     "metadata": {},
     "output_type": "execute_result"
    }
   ],
   "source": [
    "h2.name"
   ]
  },
  {
   "cell_type": "code",
   "execution_count": 263,
   "id": "4459105e",
   "metadata": {},
   "outputs": [
    {
     "name": "stdout",
     "output_type": "stream",
     "text": [
      "<__main__.Human object at 0x000001D8EB1004C0>\n"
     ]
    }
   ],
   "source": [
    "print(h2)"
   ]
  },
  {
   "cell_type": "code",
   "execution_count": 264,
   "id": "a0732e6c",
   "metadata": {},
   "outputs": [
    {
     "data": {
      "text/plain": [
       "__main__.Human"
      ]
     },
     "execution_count": 264,
     "metadata": {},
     "output_type": "execute_result"
    }
   ],
   "source": [
    "type(h2)"
   ]
  },
  {
   "cell_type": "code",
   "execution_count": 265,
   "id": "8f70c243",
   "metadata": {},
   "outputs": [],
   "source": [
    "class Human:\n",
    "    def __init__(self, name, age):\n",
    "        print(\"Creating new object...\")\n",
    "        \n",
    "        self.name = name\n",
    "        self.age = age\n",
    "        \n",
    "    def introduce(self):\n",
    "        print(\"Hi, my name is {} and i am {} years old\".format(self.name, self.age))"
   ]
  },
  {
   "cell_type": "code",
   "execution_count": 266,
   "id": "cb27e728",
   "metadata": {},
   "outputs": [
    {
     "name": "stdout",
     "output_type": "stream",
     "text": [
      "Creating new object...\n"
     ]
    }
   ],
   "source": [
    "h1 = Human('Mohit', 23)"
   ]
  },
  {
   "cell_type": "code",
   "execution_count": 267,
   "id": "cb1654ac",
   "metadata": {},
   "outputs": [
    {
     "name": "stdout",
     "output_type": "stream",
     "text": [
      "Creating new object...\n"
     ]
    }
   ],
   "source": [
    "h2 = Human('Prateek', 27)"
   ]
  },
  {
   "cell_type": "code",
   "execution_count": 268,
   "id": "680eb12d",
   "metadata": {},
   "outputs": [
    {
     "name": "stdout",
     "output_type": "stream",
     "text": [
      "Hi, my name is Mohit and i am 23 years old\n"
     ]
    }
   ],
   "source": [
    "h1.introduce()"
   ]
  },
  {
   "cell_type": "code",
   "execution_count": 269,
   "id": "ca61c644",
   "metadata": {},
   "outputs": [
    {
     "name": "stdout",
     "output_type": "stream",
     "text": [
      "Hi, my name is Prateek and i am 27 years old\n"
     ]
    }
   ],
   "source": [
    "h2.introduce()"
   ]
  },
  {
   "cell_type": "code",
   "execution_count": 271,
   "id": "bc105ec8",
   "metadata": {},
   "outputs": [],
   "source": [
    "h2.name = 'Sanjay kumar'"
   ]
  },
  {
   "cell_type": "code",
   "execution_count": 272,
   "id": "738802f5",
   "metadata": {},
   "outputs": [
    {
     "name": "stdout",
     "output_type": "stream",
     "text": [
      "Hi, my name is Sanjay kumar and i am 27 years old\n"
     ]
    }
   ],
   "source": [
    "h2.introduce()"
   ]
  },
  {
   "cell_type": "code",
   "execution_count": 273,
   "id": "8d4066ba",
   "metadata": {},
   "outputs": [],
   "source": [
    "class Human:\n",
    "    database = []\n",
    "    population = 0\n",
    "    id_seq = 101\n",
    "    \n",
    "    def __init__(self, name, age, is_alive = True):\n",
    "        print(\"Creating new object...\")\n",
    "        \n",
    "        self.name = name\n",
    "        self.age = age\n",
    "        self.is_alive = is_alive\n",
    "        \n",
    "        self.id = Human.id_seq\n",
    "        Human.population +=1\n",
    "        Human.id_seq+=1\n",
    "        Human.database.append(self)\n",
    "        \n",
    "    def introduce(self):\n",
    "        print(\"Hi my name is {} and i am {} years old\".format(self.name, self.age))\n",
    "        \n",
    "        "
   ]
  },
  {
   "cell_type": "code",
   "execution_count": 274,
   "id": "bd0f2c4e",
   "metadata": {},
   "outputs": [
    {
     "name": "stdout",
     "output_type": "stream",
     "text": [
      "Creating new object...\n"
     ]
    }
   ],
   "source": [
    "h1 = Human(\"Mohit\", 23)"
   ]
  },
  {
   "cell_type": "code",
   "execution_count": 275,
   "id": "09eefe8b",
   "metadata": {},
   "outputs": [
    {
     "name": "stdout",
     "output_type": "stream",
     "text": [
      "<__main__.Human object at 0x000001D8ECE39A30>\n"
     ]
    }
   ],
   "source": [
    "print(h1)"
   ]
  },
  {
   "cell_type": "code",
   "execution_count": 280,
   "id": "efaf53fc",
   "metadata": {},
   "outputs": [
    {
     "data": {
      "text/plain": [
       "101"
      ]
     },
     "execution_count": 280,
     "metadata": {},
     "output_type": "execute_result"
    }
   ],
   "source": [
    "h1.id"
   ]
  },
  {
   "cell_type": "code",
   "execution_count": 281,
   "id": "0092c442",
   "metadata": {},
   "outputs": [
    {
     "data": {
      "text/plain": [
       "[<__main__.Human at 0x1d8ece39a30>, <__main__.Human at 0x1d8ec8cf730>]"
      ]
     },
     "execution_count": 281,
     "metadata": {},
     "output_type": "execute_result"
    }
   ],
   "source": [
    "Human.database"
   ]
  },
  {
   "cell_type": "code",
   "execution_count": 282,
   "id": "35ea4f5b",
   "metadata": {},
   "outputs": [
    {
     "data": {
      "text/plain": [
       "2"
      ]
     },
     "execution_count": 282,
     "metadata": {},
     "output_type": "execute_result"
    }
   ],
   "source": [
    "Human.population"
   ]
  },
  {
   "cell_type": "code",
   "execution_count": 279,
   "id": "b05b765c",
   "metadata": {},
   "outputs": [
    {
     "name": "stdout",
     "output_type": "stream",
     "text": [
      "Creating new object...\n"
     ]
    }
   ],
   "source": [
    "h2 = Human('prateek', 27)"
   ]
  },
  {
   "cell_type": "code",
   "execution_count": 283,
   "id": "fe0e49e4",
   "metadata": {},
   "outputs": [
    {
     "data": {
      "text/plain": [
       "102"
      ]
     },
     "execution_count": 283,
     "metadata": {},
     "output_type": "execute_result"
    }
   ],
   "source": [
    "h2.id"
   ]
  },
  {
   "cell_type": "code",
   "execution_count": 299,
   "id": "f7c93116",
   "metadata": {},
   "outputs": [],
   "source": [
    "class Human:\n",
    "    database = []\n",
    "    population = 0\n",
    "    id_seq = 101\n",
    "    \n",
    "    def __init__(self, name, age, is_alive = True):\n",
    "        print(\"Creating new object...\")\n",
    "        \n",
    "        self.name = name\n",
    "        self.age = age\n",
    "        self.is_alive = is_alive\n",
    "        \n",
    "        self.id = Human.id_seq\n",
    "        Human.population +=1\n",
    "        Human.id_seq+=1\n",
    "        Human.database.append(self)\n",
    "        \n",
    "    def introduce(self):\n",
    "        print(\"Hi my name is {} and i am {} years old\".format(self.name, self.age))\n",
    "        \n",
    "    def die(self):\n",
    "        if self.is_alive:\n",
    "            print(self.name, \"is dying...\")\n",
    "            self.is_alive = False\n",
    "            Human.population-=1\n",
    "        else:\n",
    "            print(self.name, \"is already dead..\")"
   ]
  },
  {
   "cell_type": "code",
   "execution_count": 300,
   "id": "cee3e64a",
   "metadata": {},
   "outputs": [
    {
     "name": "stdout",
     "output_type": "stream",
     "text": [
      "Creating new object...\n",
      "Creating new object...\n"
     ]
    }
   ],
   "source": [
    "h1 = Human(\"Mohit\", 23)\n",
    "h2 = Human('Prateek', 27)"
   ]
  },
  {
   "cell_type": "code",
   "execution_count": 301,
   "id": "b406a742",
   "metadata": {},
   "outputs": [
    {
     "data": {
      "text/plain": [
       "2"
      ]
     },
     "execution_count": 301,
     "metadata": {},
     "output_type": "execute_result"
    }
   ],
   "source": [
    "Human.population"
   ]
  },
  {
   "cell_type": "code",
   "execution_count": 302,
   "id": "05433639",
   "metadata": {},
   "outputs": [
    {
     "data": {
      "text/plain": [
       "[<__main__.Human at 0x1d8eb0dca30>, <__main__.Human at 0x1d8eb0dc520>]"
      ]
     },
     "execution_count": 302,
     "metadata": {},
     "output_type": "execute_result"
    }
   ],
   "source": [
    "Human.database"
   ]
  },
  {
   "cell_type": "code",
   "execution_count": 303,
   "id": "22dc3af1",
   "metadata": {},
   "outputs": [
    {
     "data": {
      "text/plain": [
       "True"
      ]
     },
     "execution_count": 303,
     "metadata": {},
     "output_type": "execute_result"
    }
   ],
   "source": [
    "h1.is_alive"
   ]
  },
  {
   "cell_type": "code",
   "execution_count": 304,
   "id": "6be572fd",
   "metadata": {},
   "outputs": [
    {
     "name": "stdout",
     "output_type": "stream",
     "text": [
      "Mohit is dying...\n"
     ]
    }
   ],
   "source": [
    "h1.die()"
   ]
  },
  {
   "cell_type": "code",
   "execution_count": 305,
   "id": "79e3b1bd",
   "metadata": {},
   "outputs": [
    {
     "data": {
      "text/plain": [
       "False"
      ]
     },
     "execution_count": 305,
     "metadata": {},
     "output_type": "execute_result"
    }
   ],
   "source": [
    "h1.is_alive"
   ]
  },
  {
   "cell_type": "code",
   "execution_count": 310,
   "id": "6a2bcc76",
   "metadata": {},
   "outputs": [
    {
     "name": "stdout",
     "output_type": "stream",
     "text": [
      "Mohit is already dead..\n"
     ]
    }
   ],
   "source": [
    "h1.die()"
   ]
  },
  {
   "cell_type": "code",
   "execution_count": 311,
   "id": "bf5ce13f",
   "metadata": {},
   "outputs": [
    {
     "data": {
      "text/plain": [
       "1"
      ]
     },
     "execution_count": 311,
     "metadata": {},
     "output_type": "execute_result"
    }
   ],
   "source": [
    "Human.population"
   ]
  },
  {
   "cell_type": "code",
   "execution_count": 312,
   "id": "b642349b",
   "metadata": {},
   "outputs": [
    {
     "name": "stdout",
     "output_type": "stream",
     "text": [
      "<__main__.Human object at 0x000001D8EB0DCA30>\n"
     ]
    }
   ],
   "source": [
    "print(h1)"
   ]
  },
  {
   "cell_type": "code",
   "execution_count": 313,
   "id": "514597dd",
   "metadata": {},
   "outputs": [
    {
     "name": "stdout",
     "output_type": "stream",
     "text": [
      "<__main__.Human object at 0x000001D8EB0DC520>\n"
     ]
    }
   ],
   "source": [
    "print(h2)"
   ]
  },
  {
   "cell_type": "code",
   "execution_count": 314,
   "id": "7d953027",
   "metadata": {},
   "outputs": [],
   "source": [
    "lst = [1,2,3,4,5]"
   ]
  },
  {
   "cell_type": "code",
   "execution_count": 315,
   "id": "7db140f9",
   "metadata": {},
   "outputs": [
    {
     "name": "stdout",
     "output_type": "stream",
     "text": [
      "[1, 2, 3, 4, 5]\n"
     ]
    }
   ],
   "source": [
    "print(lst)"
   ]
  },
  {
   "cell_type": "code",
   "execution_count": 316,
   "id": "b7365ed1",
   "metadata": {},
   "outputs": [],
   "source": [
    "class Human:\n",
    "    database = []\n",
    "    population = 0\n",
    "    id_seq = 101\n",
    "    \n",
    "    def __init__(self, name, age, is_alive = True):\n",
    "        print(\"Creating new object...\")\n",
    "        \n",
    "        self.name = name\n",
    "        self.age = age\n",
    "        self.is_alive = is_alive\n",
    "        \n",
    "        self.id = Human.id_seq\n",
    "        Human.population +=1\n",
    "        Human.id_seq+=1\n",
    "        Human.database.append(self)\n",
    "        \n",
    "    def introduce(self):\n",
    "        print(\"Hi my name is {} and i am {} years old\".format(self.name, self.age))\n",
    "        \n",
    "    def die(self):\n",
    "        if self.is_alive:\n",
    "            print(self.name, \"is dying...\")\n",
    "            self.is_alive = False\n",
    "            Human.population-=1\n",
    "        else:\n",
    "            print(self.name, \"is already dead..\")\n",
    "            \n",
    "    def __repr__(self):\n",
    "        \"\"\"This method needs to return a string\"\"\"\n",
    "        \n",
    "        return \"[{}, {}, {}, {}]\".format(self.id, self.name, self.age, self.is_alive)"
   ]
  },
  {
   "cell_type": "code",
   "execution_count": 317,
   "id": "7c65ae45",
   "metadata": {},
   "outputs": [
    {
     "name": "stdout",
     "output_type": "stream",
     "text": [
      "Creating new object...\n",
      "Creating new object...\n"
     ]
    }
   ],
   "source": [
    "h1 = Human(\"Mohit\", 23)\n",
    "h2 = Human('Prateek', 27)\n"
   ]
  },
  {
   "cell_type": "code",
   "execution_count": 319,
   "id": "ca66e1ca",
   "metadata": {},
   "outputs": [
    {
     "name": "stdout",
     "output_type": "stream",
     "text": [
      "[101, Mohit, 23, True]\n"
     ]
    }
   ],
   "source": [
    "print(h1)"
   ]
  },
  {
   "cell_type": "code",
   "execution_count": 320,
   "id": "97a59866",
   "metadata": {},
   "outputs": [
    {
     "name": "stdout",
     "output_type": "stream",
     "text": [
      "[102, Prateek, 27, True]\n"
     ]
    }
   ],
   "source": [
    "print(h2)"
   ]
  },
  {
   "cell_type": "code",
   "execution_count": 321,
   "id": "cd530d1f",
   "metadata": {},
   "outputs": [
    {
     "data": {
      "text/plain": [
       "[[101, Mohit, 23, True], [102, Prateek, 27, True]]"
      ]
     },
     "execution_count": 321,
     "metadata": {},
     "output_type": "execute_result"
    }
   ],
   "source": [
    "Human.database"
   ]
  },
  {
   "cell_type": "code",
   "execution_count": 322,
   "id": "639efa3b",
   "metadata": {},
   "outputs": [
    {
     "name": "stdout",
     "output_type": "stream",
     "text": [
      "Creating new object...\n"
     ]
    }
   ],
   "source": [
    "h2 = Human(\"Sanjay\", 28)"
   ]
  },
  {
   "cell_type": "code",
   "execution_count": 323,
   "id": "a43a715f",
   "metadata": {},
   "outputs": [
    {
     "data": {
      "text/plain": [
       "[103, Sanjay, 28, True]"
      ]
     },
     "execution_count": 323,
     "metadata": {},
     "output_type": "execute_result"
    }
   ],
   "source": [
    "h2"
   ]
  },
  {
   "cell_type": "code",
   "execution_count": 324,
   "id": "98818f22",
   "metadata": {},
   "outputs": [
    {
     "data": {
      "text/plain": [
       "[[101, Mohit, 23, True], [102, Prateek, 27, True], [103, Sanjay, 28, True]]"
      ]
     },
     "execution_count": 324,
     "metadata": {},
     "output_type": "execute_result"
    }
   ],
   "source": [
    "Human.database"
   ]
  },
  {
   "cell_type": "code",
   "execution_count": 337,
   "id": "52f784a4",
   "metadata": {},
   "outputs": [],
   "source": [
    "class Human:\n",
    "    database = []\n",
    "    population = 0\n",
    "    id_seq = 101\n",
    "    \n",
    "    def __init__(self, name, age, is_alive = True):\n",
    "        print(\"Creating new object...\")\n",
    "        \n",
    "        self.name = name\n",
    "        self.age = age\n",
    "        self.is_alive = is_alive\n",
    "        \n",
    "        self.id = Human.id_seq\n",
    "        Human.population +=1\n",
    "        Human.id_seq+=1\n",
    "        Human.database.append(self)\n",
    "        \n",
    "    def introduce(self):\n",
    "        print(\"Hi my name is {} and i am {} years old\".format(self.name, self.age))\n",
    "        \n",
    "    def die(self):\n",
    "        if self.is_alive:\n",
    "            print(self.name, \"is dying...\")\n",
    "            self.is_alive = False\n",
    "            Human.population-=1\n",
    "        else:\n",
    "            print(self.name, \"is already dead..\")\n",
    "            \n",
    "    def __repr__(self):\n",
    "        \"\"\"This method needs to return a string\"\"\"\n",
    "        \n",
    "        return \"[{}, {}, {}, {}]\".format(self.id, self.name, self.age, self.is_alive)"
   ]
  },
  {
   "cell_type": "code",
   "execution_count": 338,
   "id": "db637899",
   "metadata": {},
   "outputs": [],
   "source": [
    "class Hitman(Human):\n",
    "    def __init__(self, name, age):\n",
    "        super().__init__(name, age)\n",
    "        \n",
    "        self.kills = 0\n",
    "        self.kill_list = []\n",
    "        \n",
    "    def introduce(self):\n",
    "        print(\"Hi my name is {} and i have killed {} number of persons\".format(self.name, self.age))\n",
    "        \n",
    "        "
   ]
  },
  {
   "cell_type": "code",
   "execution_count": 339,
   "id": "4d473582",
   "metadata": {},
   "outputs": [
    {
     "name": "stdout",
     "output_type": "stream",
     "text": [
      "Creating new object...\n",
      "Creating new object...\n",
      "Creating new object...\n"
     ]
    }
   ],
   "source": [
    "h1 = Human(\"Mohit\", 23)\n",
    "h2 = Human(\"Prateek\", 27)\n",
    "h3 = Human(\"Jatin\", 26)"
   ]
  },
  {
   "cell_type": "code",
   "execution_count": 340,
   "id": "29fec79f",
   "metadata": {},
   "outputs": [
    {
     "data": {
      "text/plain": [
       "3"
      ]
     },
     "execution_count": 340,
     "metadata": {},
     "output_type": "execute_result"
    }
   ],
   "source": [
    "Human.population"
   ]
  },
  {
   "cell_type": "code",
   "execution_count": 341,
   "id": "3ee8ee96",
   "metadata": {},
   "outputs": [
    {
     "data": {
      "text/plain": [
       "[[101, Mohit, 23, True], [102, Prateek, 27, True], [103, Jatin, 26, True]]"
      ]
     },
     "execution_count": 341,
     "metadata": {},
     "output_type": "execute_result"
    }
   ],
   "source": [
    "Human.database"
   ]
  },
  {
   "cell_type": "code",
   "execution_count": 342,
   "id": "5af16e42",
   "metadata": {},
   "outputs": [
    {
     "name": "stdout",
     "output_type": "stream",
     "text": [
      "Creating new object...\n"
     ]
    }
   ],
   "source": [
    "bond = Hitman(\"James\", 30)"
   ]
  },
  {
   "cell_type": "code",
   "execution_count": 343,
   "id": "f4ae2134",
   "metadata": {},
   "outputs": [
    {
     "data": {
      "text/plain": [
       "4"
      ]
     },
     "execution_count": 343,
     "metadata": {},
     "output_type": "execute_result"
    }
   ],
   "source": [
    "Human.population"
   ]
  },
  {
   "cell_type": "code",
   "execution_count": 344,
   "id": "e2edca17",
   "metadata": {},
   "outputs": [
    {
     "data": {
      "text/plain": [
       "[[101, Mohit, 23, True],\n",
       " [102, Prateek, 27, True],\n",
       " [103, Jatin, 26, True],\n",
       " [104, James, 30, True]]"
      ]
     },
     "execution_count": 344,
     "metadata": {},
     "output_type": "execute_result"
    }
   ],
   "source": [
    "Human.database"
   ]
  },
  {
   "cell_type": "code",
   "execution_count": 345,
   "id": "7334a588",
   "metadata": {},
   "outputs": [
    {
     "name": "stdout",
     "output_type": "stream",
     "text": [
      "[104, James, 30, True]\n"
     ]
    }
   ],
   "source": [
    "print(bond)"
   ]
  },
  {
   "cell_type": "code",
   "execution_count": 346,
   "id": "de3693d3",
   "metadata": {},
   "outputs": [
    {
     "name": "stdout",
     "output_type": "stream",
     "text": [
      "Hi my name is James and i have killed 30 number of persons\n"
     ]
    }
   ],
   "source": [
    "bond.introduce()"
   ]
  },
  {
   "cell_type": "code",
   "execution_count": 347,
   "id": "af5f1920",
   "metadata": {},
   "outputs": [],
   "source": [
    "class Human:\n",
    "    database = []\n",
    "    population = 0\n",
    "    id_seq = 101\n",
    "    \n",
    "    def __init__(self, name, age, is_alive = True):\n",
    "        print(\"Creating new object...\")\n",
    "        \n",
    "        self.name = name\n",
    "        self.age = age\n",
    "        self.is_alive = is_alive\n",
    "        \n",
    "        self.id = Human.id_seq\n",
    "        Human.population +=1\n",
    "        Human.id_seq+=1\n",
    "        Human.database.append(self)\n",
    "        \n",
    "    def introduce(self):\n",
    "        print(\"Hi my name is {} and i am {} years old\".format(self.name, self.age))\n",
    "        \n",
    "    def die(self):\n",
    "        if self.is_alive:\n",
    "            print(self.name, \"is dying...\")\n",
    "            self.is_alive = False\n",
    "            Human.population-=1\n",
    "        else:\n",
    "            print(self.name, \"is already dead..\")\n",
    "            \n",
    "    def __repr__(self):\n",
    "        \"\"\"This method needs to return a string\"\"\"\n",
    "        \n",
    "        return \"[{}, {}, {}, {}]\".format(self.id, self.name, self.age, self.is_alive)"
   ]
  },
  {
   "cell_type": "code",
   "execution_count": 350,
   "id": "2fec833c",
   "metadata": {},
   "outputs": [],
   "source": [
    "class Hitman(Human):\n",
    "    def __init__(self, name, age):\n",
    "        super().__init__(name, age)\n",
    "        \n",
    "        self.kills = 0\n",
    "        self.kill_list = []\n",
    "        \n",
    "    def kill(self, person):\n",
    "        \"\"\"Person will be an object \"\"\"\n",
    "        if person.is_alive:\n",
    "            print(\"{} is killing {}\".format(self.name, person.name))\n",
    "            person.die()\n",
    "            self.kills+=1\n",
    "            self.kill_list.append(person)\n",
    "        else:\n",
    "            print(\"{} is already dead\".format(person.name))"
   ]
  },
  {
   "cell_type": "code",
   "execution_count": 351,
   "id": "21453112",
   "metadata": {},
   "outputs": [
    {
     "name": "stdout",
     "output_type": "stream",
     "text": [
      "Creating new object...\n",
      "Creating new object...\n",
      "Creating new object...\n"
     ]
    }
   ],
   "source": [
    "h1 = Human(\"Mohit\", 23)\n",
    "h2 = Human(\"Prateek\", 27)\n",
    "h3 = Human(\"Jatin\", 26)"
   ]
  },
  {
   "cell_type": "code",
   "execution_count": 352,
   "id": "d828b074",
   "metadata": {},
   "outputs": [
    {
     "data": {
      "text/plain": [
       "3"
      ]
     },
     "execution_count": 352,
     "metadata": {},
     "output_type": "execute_result"
    }
   ],
   "source": [
    "Human.population"
   ]
  },
  {
   "cell_type": "code",
   "execution_count": 353,
   "id": "7bc8b1b1",
   "metadata": {},
   "outputs": [
    {
     "data": {
      "text/plain": [
       "[[101, Mohit, 23, True], [102, Prateek, 27, True], [103, Jatin, 26, True]]"
      ]
     },
     "execution_count": 353,
     "metadata": {},
     "output_type": "execute_result"
    }
   ],
   "source": [
    "Human.database"
   ]
  },
  {
   "cell_type": "code",
   "execution_count": 354,
   "id": "17c3b702",
   "metadata": {},
   "outputs": [
    {
     "name": "stdout",
     "output_type": "stream",
     "text": [
      "Creating new object...\n"
     ]
    }
   ],
   "source": [
    "bond = Hitman(\"james\", 30)"
   ]
  },
  {
   "cell_type": "code",
   "execution_count": 355,
   "id": "06d9a330",
   "metadata": {},
   "outputs": [
    {
     "data": {
      "text/plain": [
       "4"
      ]
     },
     "execution_count": 355,
     "metadata": {},
     "output_type": "execute_result"
    }
   ],
   "source": [
    "Human.population"
   ]
  },
  {
   "cell_type": "code",
   "execution_count": 356,
   "id": "5b3619a0",
   "metadata": {},
   "outputs": [
    {
     "data": {
      "text/plain": [
       "[[101, Mohit, 23, True],\n",
       " [102, Prateek, 27, True],\n",
       " [103, Jatin, 26, True],\n",
       " [104, james, 30, True]]"
      ]
     },
     "execution_count": 356,
     "metadata": {},
     "output_type": "execute_result"
    }
   ],
   "source": [
    "Human.database"
   ]
  },
  {
   "cell_type": "code",
   "execution_count": 357,
   "id": "baf8507f",
   "metadata": {},
   "outputs": [
    {
     "name": "stdout",
     "output_type": "stream",
     "text": [
      "james is killing Jatin\n",
      "Jatin is dying...\n"
     ]
    }
   ],
   "source": [
    "bond.kill(h3)"
   ]
  },
  {
   "cell_type": "code",
   "execution_count": 358,
   "id": "105147c3",
   "metadata": {},
   "outputs": [
    {
     "data": {
      "text/plain": [
       "1"
      ]
     },
     "execution_count": 358,
     "metadata": {},
     "output_type": "execute_result"
    }
   ],
   "source": [
    "bond.kills"
   ]
  },
  {
   "cell_type": "code",
   "execution_count": 359,
   "id": "d92ecda6",
   "metadata": {},
   "outputs": [
    {
     "data": {
      "text/plain": [
       "[[103, Jatin, 26, False]]"
      ]
     },
     "execution_count": 359,
     "metadata": {},
     "output_type": "execute_result"
    }
   ],
   "source": [
    "bond.kill_list"
   ]
  },
  {
   "cell_type": "code",
   "execution_count": 360,
   "id": "3f875f42",
   "metadata": {},
   "outputs": [
    {
     "data": {
      "text/plain": [
       "3"
      ]
     },
     "execution_count": 360,
     "metadata": {},
     "output_type": "execute_result"
    }
   ],
   "source": [
    "Human.population"
   ]
  },
  {
   "cell_type": "code",
   "execution_count": 361,
   "id": "61b24887",
   "metadata": {},
   "outputs": [
    {
     "data": {
      "text/plain": [
       "[[101, Mohit, 23, True],\n",
       " [102, Prateek, 27, True],\n",
       " [103, Jatin, 26, False],\n",
       " [104, james, 30, True]]"
      ]
     },
     "execution_count": 361,
     "metadata": {},
     "output_type": "execute_result"
    }
   ],
   "source": [
    "Human.database"
   ]
  },
  {
   "cell_type": "code",
   "execution_count": 362,
   "id": "f32be864",
   "metadata": {},
   "outputs": [
    {
     "name": "stdout",
     "output_type": "stream",
     "text": [
      "Jatin is already dead\n"
     ]
    }
   ],
   "source": [
    "bond.kill(h3)"
   ]
  },
  {
   "cell_type": "code",
   "execution_count": 363,
   "id": "8437c4a3",
   "metadata": {},
   "outputs": [],
   "source": [
    "class Human:\n",
    "    database = []\n",
    "    population = 0\n",
    "    id_seq = 101\n",
    "    \n",
    "    def __init__(self, name, age, is_alive = True):\n",
    "        print(\"Creating new object...\")\n",
    "        \n",
    "        self.name = name\n",
    "        self.age = age\n",
    "        self.is_alive = is_alive\n",
    "        \n",
    "        self.id = Human.id_seq\n",
    "        Human.population +=1\n",
    "        Human.id_seq+=1\n",
    "        Human.database.append(self)\n",
    "        \n",
    "    def introduce(self):\n",
    "        print(\"Hi my name is {} and i am {} years old\".format(self.name, self.age))\n",
    "        \n",
    "    def die(self):\n",
    "        if self.is_alive:\n",
    "            print(self.name, \"is dying...\")\n",
    "            self.is_alive = False\n",
    "            Human.population-=1\n",
    "        else:\n",
    "            print(self.name, \"is already dead..\")\n",
    "            \n",
    "    def __repr__(self):\n",
    "        \"\"\"This method needs to return a string\"\"\"\n",
    "        \n",
    "        return \"[{}, {}, {}, {}]\".format(self.id, self.name, self.age, self.is_alive)"
   ]
  },
  {
   "cell_type": "code",
   "execution_count": 364,
   "id": "2cc13d14",
   "metadata": {},
   "outputs": [],
   "source": [
    "class Hitman(Human):\n",
    "    def __init__(self, name, age):\n",
    "        super().__init__(name, age)\n",
    "        \n",
    "        self.kills = 0\n",
    "        self.kill_list = []\n",
    "        \n",
    "    def kill(self, person):\n",
    "        \"\"\"Person will be an object \"\"\"\n",
    "        if person.is_alive:\n",
    "            print(\"{} is killing {}\".format(self.name, person.name))\n",
    "            person.die()\n",
    "            self.kills+=1\n",
    "            self.kill_list.append(person)\n",
    "        else:\n",
    "            print(\"{} is already dead\".format(person.name))\n",
    "            \n",
    "    def introduce(self):\n",
    "        print(\"hi my name is {} and i have killed {} people\".format(self.name, self.kills))"
   ]
  },
  {
   "cell_type": "code",
   "execution_count": 365,
   "id": "51515616",
   "metadata": {},
   "outputs": [
    {
     "name": "stdout",
     "output_type": "stream",
     "text": [
      "Creating new object...\n",
      "Creating new object...\n",
      "Creating new object...\n"
     ]
    }
   ],
   "source": [
    "h1 = Human(\"Mohit\", 23)\n",
    "h2 = Human(\"Prateek\", 27)\n",
    "h3 = Human(\"Jatin\", 26)"
   ]
  },
  {
   "cell_type": "code",
   "execution_count": 366,
   "id": "39b21b0d",
   "metadata": {},
   "outputs": [
    {
     "name": "stdout",
     "output_type": "stream",
     "text": [
      "Creating new object...\n"
     ]
    }
   ],
   "source": [
    "bond = Hitman(\"James\", 30)"
   ]
  },
  {
   "cell_type": "code",
   "execution_count": 367,
   "id": "51eed013",
   "metadata": {},
   "outputs": [
    {
     "name": "stdout",
     "output_type": "stream",
     "text": [
      "James is killing Jatin\n",
      "Jatin is dying...\n"
     ]
    }
   ],
   "source": [
    "\n",
    "bond.kill(h3)"
   ]
  },
  {
   "cell_type": "code",
   "execution_count": 369,
   "id": "49a7ea7b",
   "metadata": {},
   "outputs": [
    {
     "name": "stdout",
     "output_type": "stream",
     "text": [
      "Hi my name is Mohit and i am 23 years old\n"
     ]
    }
   ],
   "source": [
    "h1.introduce()"
   ]
  },
  {
   "cell_type": "code",
   "execution_count": 370,
   "id": "03c880df",
   "metadata": {},
   "outputs": [
    {
     "name": "stdout",
     "output_type": "stream",
     "text": [
      "James is killing Mohit\n",
      "Mohit is dying...\n"
     ]
    }
   ],
   "source": [
    "bond.kill(h1)"
   ]
  },
  {
   "cell_type": "code",
   "execution_count": 371,
   "id": "254e7016",
   "metadata": {},
   "outputs": [
    {
     "name": "stdout",
     "output_type": "stream",
     "text": [
      "hi my name is James and i have killed 2 people\n"
     ]
    }
   ],
   "source": [
    "bond.introduce()"
   ]
  },
  {
   "cell_type": "code",
   "execution_count": 372,
   "id": "b8c86af8",
   "metadata": {},
   "outputs": [
    {
     "name": "stdout",
     "output_type": "stream",
     "text": [
      "Hi my name is Prateek and i am 27 years old\n"
     ]
    }
   ],
   "source": [
    "h2.introduce()"
   ]
  },
  {
   "cell_type": "code",
   "execution_count": null,
   "id": "35ff0880",
   "metadata": {},
   "outputs": [],
   "source": []
  }
 ],
 "metadata": {
  "kernelspec": {
   "display_name": "Python 3",
   "language": "python",
   "name": "python3"
  },
  "language_info": {
   "codemirror_mode": {
    "name": "ipython",
    "version": 3
   },
   "file_extension": ".py",
   "mimetype": "text/x-python",
   "name": "python",
   "nbconvert_exporter": "python",
   "pygments_lexer": "ipython3",
   "version": "3.8.8"
  }
 },
 "nbformat": 4,
 "nbformat_minor": 5
}
