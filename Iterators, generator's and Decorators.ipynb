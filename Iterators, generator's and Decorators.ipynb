{
 "cells": [
  {
   "cell_type": "code",
   "execution_count": 1,
   "id": "9086f228",
   "metadata": {},
   "outputs": [],
   "source": [
    "my_list = [2,5,10,15]"
   ]
  },
  {
   "cell_type": "code",
   "execution_count": 3,
   "id": "45519c35",
   "metadata": {},
   "outputs": [],
   "source": [
    "my_iter = iter(my_list)"
   ]
  },
  {
   "cell_type": "code",
   "execution_count": 5,
   "id": "c0e75733",
   "metadata": {},
   "outputs": [
    {
     "name": "stdout",
     "output_type": "stream",
     "text": [
      "<list_iterator object at 0x0000028280706100>\n"
     ]
    }
   ],
   "source": [
    "print(my_iter)"
   ]
  },
  {
   "cell_type": "code",
   "execution_count": 6,
   "id": "112f9520",
   "metadata": {},
   "outputs": [
    {
     "data": {
      "text/plain": [
       "2"
      ]
     },
     "execution_count": 6,
     "metadata": {},
     "output_type": "execute_result"
    }
   ],
   "source": [
    "next(my_iter)"
   ]
  },
  {
   "cell_type": "code",
   "execution_count": 7,
   "id": "ba7c05ce",
   "metadata": {},
   "outputs": [
    {
     "data": {
      "text/plain": [
       "5"
      ]
     },
     "execution_count": 7,
     "metadata": {},
     "output_type": "execute_result"
    }
   ],
   "source": [
    "next(my_iter)"
   ]
  },
  {
   "cell_type": "code",
   "execution_count": 8,
   "id": "30a4dcb9",
   "metadata": {},
   "outputs": [
    {
     "data": {
      "text/plain": [
       "10"
      ]
     },
     "execution_count": 8,
     "metadata": {},
     "output_type": "execute_result"
    }
   ],
   "source": [
    "next(my_iter)"
   ]
  },
  {
   "cell_type": "code",
   "execution_count": 9,
   "id": "79f759c8",
   "metadata": {},
   "outputs": [
    {
     "data": {
      "text/plain": [
       "15"
      ]
     },
     "execution_count": 9,
     "metadata": {},
     "output_type": "execute_result"
    }
   ],
   "source": [
    "next(my_iter)"
   ]
  },
  {
   "cell_type": "code",
   "execution_count": 10,
   "id": "68e28712",
   "metadata": {},
   "outputs": [
    {
     "ename": "StopIteration",
     "evalue": "",
     "output_type": "error",
     "traceback": [
      "\u001b[1;31m---------------------------------------------------------------------------\u001b[0m",
      "\u001b[1;31mStopIteration\u001b[0m                             Traceback (most recent call last)",
      "\u001b[1;32m<ipython-input-10-94a4229f6542>\u001b[0m in \u001b[0;36m<module>\u001b[1;34m\u001b[0m\n\u001b[1;32m----> 1\u001b[1;33m \u001b[0mnext\u001b[0m\u001b[1;33m(\u001b[0m\u001b[0mmy_iter\u001b[0m\u001b[1;33m)\u001b[0m\u001b[1;33m\u001b[0m\u001b[1;33m\u001b[0m\u001b[0m\n\u001b[0m",
      "\u001b[1;31mStopIteration\u001b[0m: "
     ]
    }
   ],
   "source": [
    "next(my_iter)"
   ]
  },
  {
   "cell_type": "code",
   "execution_count": 11,
   "id": "59662001",
   "metadata": {},
   "outputs": [
    {
     "name": "stdout",
     "output_type": "stream",
     "text": [
      "2\n",
      "5\n",
      "10\n",
      "15\n"
     ]
    }
   ],
   "source": [
    "for i in my_list:\n",
    "    print(i)"
   ]
  },
  {
   "cell_type": "code",
   "execution_count": 12,
   "id": "5715d284",
   "metadata": {},
   "outputs": [],
   "source": [
    "for i in my_iter:\n",
    "    print(i)"
   ]
  },
  {
   "cell_type": "code",
   "execution_count": null,
   "id": "5e025c61",
   "metadata": {},
   "outputs": [],
   "source": []
  },
  {
   "cell_type": "code",
   "execution_count": 13,
   "id": "7ccbedef",
   "metadata": {},
   "outputs": [],
   "source": [
    "my_iter1 = iter(my_list)"
   ]
  },
  {
   "cell_type": "code",
   "execution_count": 17,
   "id": "a48610df",
   "metadata": {},
   "outputs": [
    {
     "name": "stdout",
     "output_type": "stream",
     "text": [
      "2\n",
      "5\n",
      "10\n",
      "15\n"
     ]
    }
   ],
   "source": [
    "my_iter1 = iter(my_list)\n",
    "while True:\n",
    "    try:\n",
    "        result = next(my_iter1)\n",
    "        print(result)\n",
    "    except StopIteration:\n",
    "        break"
   ]
  },
  {
   "cell_type": "code",
   "execution_count": 22,
   "id": "29e80718",
   "metadata": {},
   "outputs": [],
   "source": [
    "class Cube_Number:\n",
    "    def __init__(self, number=0):\n",
    "        self.number = number\n",
    "        \n",
    "    def __iter__(self):\n",
    "        self.ele = 0\n",
    "        return self\n",
    "        \n",
    "    def __next__(self):\n",
    "        if self.ele<=self.number:\n",
    "            result = self.ele**3\n",
    "            self.ele+=1\n",
    "            return result\n",
    "        else:\n",
    "            raise StopIteration"
   ]
  },
  {
   "cell_type": "code",
   "execution_count": 24,
   "id": "9ff0d452",
   "metadata": {},
   "outputs": [],
   "source": [
    "cn = Cube_Number(5)"
   ]
  },
  {
   "cell_type": "code",
   "execution_count": 30,
   "id": "9fccfe33",
   "metadata": {},
   "outputs": [],
   "source": [
    "my_iter__ = cn.__iter__()"
   ]
  },
  {
   "cell_type": "code",
   "execution_count": 32,
   "id": "7e0e6774",
   "metadata": {},
   "outputs": [
    {
     "data": {
      "text/plain": [
       "0"
      ]
     },
     "execution_count": 32,
     "metadata": {},
     "output_type": "execute_result"
    }
   ],
   "source": [
    "my_iter__.__next__()"
   ]
  },
  {
   "cell_type": "code",
   "execution_count": 33,
   "id": "73d0e0dd",
   "metadata": {},
   "outputs": [
    {
     "data": {
      "text/plain": [
       "1"
      ]
     },
     "execution_count": 33,
     "metadata": {},
     "output_type": "execute_result"
    }
   ],
   "source": [
    "my_iter__.__next__()"
   ]
  },
  {
   "cell_type": "code",
   "execution_count": 34,
   "id": "92271312",
   "metadata": {},
   "outputs": [
    {
     "data": {
      "text/plain": [
       "8"
      ]
     },
     "execution_count": 34,
     "metadata": {},
     "output_type": "execute_result"
    }
   ],
   "source": [
    "my_iter__.__next__()"
   ]
  },
  {
   "cell_type": "code",
   "execution_count": 35,
   "id": "0c535ac2",
   "metadata": {},
   "outputs": [
    {
     "data": {
      "text/plain": [
       "27"
      ]
     },
     "execution_count": 35,
     "metadata": {},
     "output_type": "execute_result"
    }
   ],
   "source": [
    "my_iter__.__next__()"
   ]
  },
  {
   "cell_type": "code",
   "execution_count": 36,
   "id": "e23e2090",
   "metadata": {},
   "outputs": [
    {
     "data": {
      "text/plain": [
       "64"
      ]
     },
     "execution_count": 36,
     "metadata": {},
     "output_type": "execute_result"
    }
   ],
   "source": [
    "my_iter__.__next__()"
   ]
  },
  {
   "cell_type": "code",
   "execution_count": 37,
   "id": "13b82e86",
   "metadata": {},
   "outputs": [
    {
     "data": {
      "text/plain": [
       "125"
      ]
     },
     "execution_count": 37,
     "metadata": {},
     "output_type": "execute_result"
    }
   ],
   "source": [
    "my_iter__.__next__()"
   ]
  },
  {
   "cell_type": "code",
   "execution_count": 38,
   "id": "e1689dfd",
   "metadata": {},
   "outputs": [
    {
     "ename": "StopIteration",
     "evalue": "",
     "output_type": "error",
     "traceback": [
      "\u001b[1;31m---------------------------------------------------------------------------\u001b[0m",
      "\u001b[1;31mStopIteration\u001b[0m                             Traceback (most recent call last)",
      "\u001b[1;32m<ipython-input-38-62564687a9c6>\u001b[0m in \u001b[0;36m<module>\u001b[1;34m\u001b[0m\n\u001b[1;32m----> 1\u001b[1;33m \u001b[0mmy_iter__\u001b[0m\u001b[1;33m.\u001b[0m\u001b[0m__next__\u001b[0m\u001b[1;33m(\u001b[0m\u001b[1;33m)\u001b[0m\u001b[1;33m\u001b[0m\u001b[1;33m\u001b[0m\u001b[0m\n\u001b[0m",
      "\u001b[1;32m<ipython-input-22-49dc1ef05871>\u001b[0m in \u001b[0;36m__next__\u001b[1;34m(self)\u001b[0m\n\u001b[0;32m     13\u001b[0m             \u001b[1;32mreturn\u001b[0m \u001b[0mresult\u001b[0m\u001b[1;33m\u001b[0m\u001b[1;33m\u001b[0m\u001b[0m\n\u001b[0;32m     14\u001b[0m         \u001b[1;32melse\u001b[0m\u001b[1;33m:\u001b[0m\u001b[1;33m\u001b[0m\u001b[1;33m\u001b[0m\u001b[0m\n\u001b[1;32m---> 15\u001b[1;33m             \u001b[1;32mraise\u001b[0m \u001b[0mStopIteration\u001b[0m\u001b[1;33m\u001b[0m\u001b[1;33m\u001b[0m\u001b[0m\n\u001b[0m",
      "\u001b[1;31mStopIteration\u001b[0m: "
     ]
    }
   ],
   "source": [
    "my_iter__.__next__()"
   ]
  },
  {
   "cell_type": "code",
   "execution_count": 39,
   "id": "f5bf0b39",
   "metadata": {},
   "outputs": [],
   "source": [
    "cn = Cube_Number(6)"
   ]
  },
  {
   "cell_type": "code",
   "execution_count": 40,
   "id": "d8c987ac",
   "metadata": {},
   "outputs": [
    {
     "name": "stdout",
     "output_type": "stream",
     "text": [
      "0\n",
      "1\n",
      "8\n",
      "27\n",
      "64\n",
      "125\n",
      "216\n"
     ]
    }
   ],
   "source": [
    "for i in cn:\n",
    "    print(i)"
   ]
  },
  {
   "cell_type": "code",
   "execution_count": 41,
   "id": "c7269d80",
   "metadata": {},
   "outputs": [],
   "source": [
    "i = iter(cn)"
   ]
  },
  {
   "cell_type": "code",
   "execution_count": 42,
   "id": "c5e815e9",
   "metadata": {},
   "outputs": [
    {
     "data": {
      "text/plain": [
       "0"
      ]
     },
     "execution_count": 42,
     "metadata": {},
     "output_type": "execute_result"
    }
   ],
   "source": [
    "next(i)"
   ]
  },
  {
   "cell_type": "code",
   "execution_count": 43,
   "id": "3a5f9060",
   "metadata": {},
   "outputs": [
    {
     "data": {
      "text/plain": [
       "1"
      ]
     },
     "execution_count": 43,
     "metadata": {},
     "output_type": "execute_result"
    }
   ],
   "source": [
    "next(i)"
   ]
  },
  {
   "cell_type": "code",
   "execution_count": 44,
   "id": "99aaf5b7",
   "metadata": {},
   "outputs": [
    {
     "data": {
      "text/plain": [
       "8"
      ]
     },
     "execution_count": 44,
     "metadata": {},
     "output_type": "execute_result"
    }
   ],
   "source": [
    "next(i)"
   ]
  },
  {
   "cell_type": "code",
   "execution_count": 45,
   "id": "4e3e5d34",
   "metadata": {},
   "outputs": [
    {
     "data": {
      "text/plain": [
       "27"
      ]
     },
     "execution_count": 45,
     "metadata": {},
     "output_type": "execute_result"
    }
   ],
   "source": [
    "next(i)"
   ]
  },
  {
   "cell_type": "code",
   "execution_count": 46,
   "id": "b81a3630",
   "metadata": {},
   "outputs": [
    {
     "data": {
      "text/plain": [
       "64"
      ]
     },
     "execution_count": 46,
     "metadata": {},
     "output_type": "execute_result"
    }
   ],
   "source": [
    "next(i)"
   ]
  },
  {
   "cell_type": "code",
   "execution_count": 47,
   "id": "75d6e0bb",
   "metadata": {},
   "outputs": [
    {
     "data": {
      "text/plain": [
       "125"
      ]
     },
     "execution_count": 47,
     "metadata": {},
     "output_type": "execute_result"
    }
   ],
   "source": [
    "next(i)"
   ]
  },
  {
   "cell_type": "code",
   "execution_count": 48,
   "id": "7ec56cb6",
   "metadata": {},
   "outputs": [
    {
     "data": {
      "text/plain": [
       "216"
      ]
     },
     "execution_count": 48,
     "metadata": {},
     "output_type": "execute_result"
    }
   ],
   "source": [
    "next(i)"
   ]
  },
  {
   "cell_type": "code",
   "execution_count": 49,
   "id": "7ba34269",
   "metadata": {},
   "outputs": [
    {
     "ename": "StopIteration",
     "evalue": "",
     "output_type": "error",
     "traceback": [
      "\u001b[1;31m---------------------------------------------------------------------------\u001b[0m",
      "\u001b[1;31mStopIteration\u001b[0m                             Traceback (most recent call last)",
      "\u001b[1;32m<ipython-input-49-a883b34d6d8a>\u001b[0m in \u001b[0;36m<module>\u001b[1;34m\u001b[0m\n\u001b[1;32m----> 1\u001b[1;33m \u001b[0mnext\u001b[0m\u001b[1;33m(\u001b[0m\u001b[0mi\u001b[0m\u001b[1;33m)\u001b[0m\u001b[1;33m\u001b[0m\u001b[1;33m\u001b[0m\u001b[0m\n\u001b[0m",
      "\u001b[1;32m<ipython-input-22-49dc1ef05871>\u001b[0m in \u001b[0;36m__next__\u001b[1;34m(self)\u001b[0m\n\u001b[0;32m     13\u001b[0m             \u001b[1;32mreturn\u001b[0m \u001b[0mresult\u001b[0m\u001b[1;33m\u001b[0m\u001b[1;33m\u001b[0m\u001b[0m\n\u001b[0;32m     14\u001b[0m         \u001b[1;32melse\u001b[0m\u001b[1;33m:\u001b[0m\u001b[1;33m\u001b[0m\u001b[1;33m\u001b[0m\u001b[0m\n\u001b[1;32m---> 15\u001b[1;33m             \u001b[1;32mraise\u001b[0m \u001b[0mStopIteration\u001b[0m\u001b[1;33m\u001b[0m\u001b[1;33m\u001b[0m\u001b[0m\n\u001b[0m",
      "\u001b[1;31mStopIteration\u001b[0m: "
     ]
    }
   ],
   "source": [
    "next(i)"
   ]
  },
  {
   "cell_type": "code",
   "execution_count": 51,
   "id": "8cbbbc5d",
   "metadata": {},
   "outputs": [],
   "source": [
    "cn = Cube_Number()"
   ]
  },
  {
   "cell_type": "code",
   "execution_count": 52,
   "id": "9485594d",
   "metadata": {},
   "outputs": [
    {
     "name": "stdout",
     "output_type": "stream",
     "text": [
      "0\n"
     ]
    }
   ],
   "source": [
    "for i in cn:\n",
    "    print(i)"
   ]
  },
  {
   "cell_type": "code",
   "execution_count": 53,
   "id": "b889e6a7",
   "metadata": {},
   "outputs": [],
   "source": [
    "class Cube_number:\n",
    "    def __init__(self, number = 0):\n",
    "        self.number = number\n",
    "        \n",
    "    def __init__(self):\n",
    "        self.ele = 0\n",
    "        return self\n",
    "    \n",
    "    def __next__(self):\n",
    "        if self.ele<=self.number:\n",
    "            result = self.ele**3\n",
    "            self.ele+=1\n",
    "            return result\n",
    "        else:\n",
    "            raise StopIteration\n",
    "            "
   ]
  },
  {
   "cell_type": "code",
   "execution_count": null,
   "id": "4e1997c7",
   "metadata": {},
   "outputs": [],
   "source": []
  },
  {
   "cell_type": "code",
   "execution_count": 54,
   "id": "e543e626",
   "metadata": {},
   "outputs": [],
   "source": [
    "#python Generators"
   ]
  },
  {
   "cell_type": "code",
   "execution_count": 64,
   "id": "f1a6cd10",
   "metadata": {},
   "outputs": [],
   "source": [
    "def my_gen():\n",
    "    x = 1\n",
    "    print('first time')\n",
    "    yield x\n",
    "    \n",
    "    x+=1\n",
    "    \n",
    "    print('second time')\n",
    "    yield x\n",
    "    \n",
    "    x+=1\n",
    "    \n",
    "    print('third time')\n",
    "    yield x\n",
    "    \n",
    "    x+=1\n",
    "    \n",
    "    print('forth time')\n",
    "    yield x\n",
    "    \n",
    "    "
   ]
  },
  {
   "cell_type": "code",
   "execution_count": 65,
   "id": "429037ad",
   "metadata": {},
   "outputs": [],
   "source": [
    "k = my_gen()"
   ]
  },
  {
   "cell_type": "code",
   "execution_count": 66,
   "id": "4ce73408",
   "metadata": {},
   "outputs": [
    {
     "name": "stdout",
     "output_type": "stream",
     "text": [
      "first time\n"
     ]
    },
    {
     "data": {
      "text/plain": [
       "1"
      ]
     },
     "execution_count": 66,
     "metadata": {},
     "output_type": "execute_result"
    }
   ],
   "source": [
    "next(k)"
   ]
  },
  {
   "cell_type": "code",
   "execution_count": 67,
   "id": "b6536773",
   "metadata": {},
   "outputs": [
    {
     "name": "stdout",
     "output_type": "stream",
     "text": [
      "second time\n"
     ]
    },
    {
     "data": {
      "text/plain": [
       "2"
      ]
     },
     "execution_count": 67,
     "metadata": {},
     "output_type": "execute_result"
    }
   ],
   "source": [
    "next(k)"
   ]
  },
  {
   "cell_type": "code",
   "execution_count": 68,
   "id": "efb38b02",
   "metadata": {},
   "outputs": [
    {
     "name": "stdout",
     "output_type": "stream",
     "text": [
      "third time\n"
     ]
    },
    {
     "data": {
      "text/plain": [
       "3"
      ]
     },
     "execution_count": 68,
     "metadata": {},
     "output_type": "execute_result"
    }
   ],
   "source": [
    "next(k)"
   ]
  },
  {
   "cell_type": "code",
   "execution_count": 69,
   "id": "3092ce45",
   "metadata": {},
   "outputs": [
    {
     "name": "stdout",
     "output_type": "stream",
     "text": [
      "forth time\n"
     ]
    },
    {
     "data": {
      "text/plain": [
       "4"
      ]
     },
     "execution_count": 69,
     "metadata": {},
     "output_type": "execute_result"
    }
   ],
   "source": [
    "next(k)"
   ]
  },
  {
   "cell_type": "code",
   "execution_count": 70,
   "id": "26df589b",
   "metadata": {},
   "outputs": [
    {
     "data": {
      "text/plain": [
       "generator"
      ]
     },
     "execution_count": 70,
     "metadata": {},
     "output_type": "execute_result"
    }
   ],
   "source": [
    "type(k)"
   ]
  },
  {
   "cell_type": "code",
   "execution_count": 71,
   "id": "87c3b869",
   "metadata": {},
   "outputs": [
    {
     "ename": "StopIteration",
     "evalue": "",
     "output_type": "error",
     "traceback": [
      "\u001b[1;31m---------------------------------------------------------------------------\u001b[0m",
      "\u001b[1;31mStopIteration\u001b[0m                             Traceback (most recent call last)",
      "\u001b[1;32m<ipython-input-71-413ff6b5fa2c>\u001b[0m in \u001b[0;36m<module>\u001b[1;34m\u001b[0m\n\u001b[1;32m----> 1\u001b[1;33m \u001b[0mnext\u001b[0m\u001b[1;33m(\u001b[0m\u001b[0mk\u001b[0m\u001b[1;33m)\u001b[0m\u001b[1;33m\u001b[0m\u001b[1;33m\u001b[0m\u001b[0m\n\u001b[0m",
      "\u001b[1;31mStopIteration\u001b[0m: "
     ]
    }
   ],
   "source": [
    "next(k)"
   ]
  },
  {
   "cell_type": "code",
   "execution_count": null,
   "id": "8ff71dd0",
   "metadata": {},
   "outputs": [],
   "source": []
  },
  {
   "cell_type": "code",
   "execution_count": 80,
   "id": "e9156f15",
   "metadata": {},
   "outputs": [],
   "source": [
    "def counter_fun(n):\n",
    "    i = 1\n",
    "    \n",
    "    while i<=n:\n",
    "        return i\n",
    "        i+=1"
   ]
  },
  {
   "cell_type": "code",
   "execution_count": 81,
   "id": "96958de2",
   "metadata": {},
   "outputs": [
    {
     "data": {
      "text/plain": [
       "1"
      ]
     },
     "execution_count": 81,
     "metadata": {},
     "output_type": "execute_result"
    }
   ],
   "source": [
    "counter_fun(5)"
   ]
  },
  {
   "cell_type": "code",
   "execution_count": 82,
   "id": "69ff003b",
   "metadata": {},
   "outputs": [
    {
     "data": {
      "text/plain": [
       "1"
      ]
     },
     "execution_count": 82,
     "metadata": {},
     "output_type": "execute_result"
    }
   ],
   "source": [
    "counter_fun(5)"
   ]
  },
  {
   "cell_type": "code",
   "execution_count": 83,
   "id": "09a9a392",
   "metadata": {},
   "outputs": [
    {
     "data": {
      "text/plain": [
       "1"
      ]
     },
     "execution_count": 83,
     "metadata": {},
     "output_type": "execute_result"
    }
   ],
   "source": [
    "counter_fun(6)"
   ]
  },
  {
   "cell_type": "code",
   "execution_count": 85,
   "id": "483ab828",
   "metadata": {},
   "outputs": [],
   "source": [
    "def counter_gen(n):\n",
    "    i = 1\n",
    "    \n",
    "    while i<=n:\n",
    "        yield i\n",
    "        \n",
    "        i+=1"
   ]
  },
  {
   "cell_type": "code",
   "execution_count": 86,
   "id": "185480eb",
   "metadata": {},
   "outputs": [],
   "source": [
    "l = counter_gen(5)"
   ]
  },
  {
   "cell_type": "code",
   "execution_count": 87,
   "id": "d0ad8b02",
   "metadata": {},
   "outputs": [
    {
     "data": {
      "text/plain": [
       "1"
      ]
     },
     "execution_count": 87,
     "metadata": {},
     "output_type": "execute_result"
    }
   ],
   "source": [
    "next(l)"
   ]
  },
  {
   "cell_type": "code",
   "execution_count": 88,
   "id": "bc44e011",
   "metadata": {},
   "outputs": [
    {
     "data": {
      "text/plain": [
       "2"
      ]
     },
     "execution_count": 88,
     "metadata": {},
     "output_type": "execute_result"
    }
   ],
   "source": [
    "next(l)"
   ]
  },
  {
   "cell_type": "code",
   "execution_count": 89,
   "id": "57a3a035",
   "metadata": {},
   "outputs": [
    {
     "data": {
      "text/plain": [
       "3"
      ]
     },
     "execution_count": 89,
     "metadata": {},
     "output_type": "execute_result"
    }
   ],
   "source": [
    "next(l)"
   ]
  },
  {
   "cell_type": "code",
   "execution_count": 90,
   "id": "078b6d4f",
   "metadata": {},
   "outputs": [
    {
     "data": {
      "text/plain": [
       "4"
      ]
     },
     "execution_count": 90,
     "metadata": {},
     "output_type": "execute_result"
    }
   ],
   "source": [
    "next(l)"
   ]
  },
  {
   "cell_type": "code",
   "execution_count": 91,
   "id": "bf146abe",
   "metadata": {},
   "outputs": [
    {
     "data": {
      "text/plain": [
       "5"
      ]
     },
     "execution_count": 91,
     "metadata": {},
     "output_type": "execute_result"
    }
   ],
   "source": [
    "next(l)"
   ]
  },
  {
   "cell_type": "code",
   "execution_count": 92,
   "id": "1851a46e",
   "metadata": {},
   "outputs": [
    {
     "ename": "StopIteration",
     "evalue": "",
     "output_type": "error",
     "traceback": [
      "\u001b[1;31m---------------------------------------------------------------------------\u001b[0m",
      "\u001b[1;31mStopIteration\u001b[0m                             Traceback (most recent call last)",
      "\u001b[1;32m<ipython-input-92-cdc8a39da60d>\u001b[0m in \u001b[0;36m<module>\u001b[1;34m\u001b[0m\n\u001b[1;32m----> 1\u001b[1;33m \u001b[0mnext\u001b[0m\u001b[1;33m(\u001b[0m\u001b[0ml\u001b[0m\u001b[1;33m)\u001b[0m\u001b[1;33m\u001b[0m\u001b[1;33m\u001b[0m\u001b[0m\n\u001b[0m",
      "\u001b[1;31mStopIteration\u001b[0m: "
     ]
    }
   ],
   "source": [
    "next(l)"
   ]
  },
  {
   "cell_type": "code",
   "execution_count": 94,
   "id": "08d81b0c",
   "metadata": {},
   "outputs": [
    {
     "name": "stdout",
     "output_type": "stream",
     "text": [
      "1\n",
      "2\n",
      "3\n",
      "4\n",
      "5\n",
      "6\n",
      "7\n",
      "8\n",
      "9\n"
     ]
    }
   ],
   "source": [
    "for i in counter_gen(9):\n",
    "    print(i)"
   ]
  },
  {
   "cell_type": "code",
   "execution_count": 100,
   "id": "231f6d5c",
   "metadata": {},
   "outputs": [],
   "source": [
    "def reverse_string(n):\n",
    "    for i in range(len(n)-1, -1, -1):\n",
    "        yield n[i]"
   ]
  },
  {
   "cell_type": "code",
   "execution_count": 101,
   "id": "c855d9a8",
   "metadata": {},
   "outputs": [
    {
     "name": "stdout",
     "output_type": "stream",
     "text": [
      "y\n",
      "a\n",
      "j\n",
      "n\n",
      "a\n",
      "s\n"
     ]
    }
   ],
   "source": [
    "for i in reverse_string('sanjay'):\n",
    "    print(i)"
   ]
  },
  {
   "cell_type": "code",
   "execution_count": 105,
   "id": "3379e731",
   "metadata": {},
   "outputs": [],
   "source": [
    "square_list = [i**2 for i in range(10000) if i%2==0]"
   ]
  },
  {
   "cell_type": "code",
   "execution_count": 109,
   "id": "1874b280",
   "metadata": {},
   "outputs": [],
   "source": [
    "square_gen = (i**2 for i in range(10000) if i%2==0)"
   ]
  },
  {
   "cell_type": "code",
   "execution_count": 110,
   "id": "4c01f3fa",
   "metadata": {},
   "outputs": [
    {
     "name": "stdout",
     "output_type": "stream",
     "text": [
      "0\n",
      "4\n",
      "16\n",
      "36\n",
      "64\n",
      "100\n",
      "144\n",
      "196\n",
      "256\n",
      "324\n"
     ]
    }
   ],
   "source": [
    "k = 0\n",
    "for i in square_gen:\n",
    "    if k==10:\n",
    "        break\n",
    "    print(i)\n",
    "    k+=1"
   ]
  },
  {
   "cell_type": "code",
   "execution_count": 111,
   "id": "75a717a2",
   "metadata": {},
   "outputs": [
    {
     "name": "stdout",
     "output_type": "stream",
     "text": [
      "0\n",
      "4\n",
      "16\n",
      "36\n",
      "64\n",
      "100\n",
      "144\n",
      "196\n",
      "256\n",
      "324\n"
     ]
    }
   ],
   "source": [
    "l = 0\n",
    "for i in square_list:\n",
    "    if l==10:\n",
    "        break\n",
    "        \n",
    "    print(i)\n",
    "    l+=1"
   ]
  },
  {
   "cell_type": "code",
   "execution_count": 4,
   "id": "76006b02",
   "metadata": {},
   "outputs": [],
   "source": [
    "def add(ele):return ele+1"
   ]
  },
  {
   "cell_type": "code",
   "execution_count": 6,
   "id": "24b0adbe",
   "metadata": {},
   "outputs": [],
   "source": [
    "def sub(ele):return ele-1"
   ]
  },
  {
   "cell_type": "code",
   "execution_count": 5,
   "id": "7b14b06c",
   "metadata": {},
   "outputs": [
    {
     "data": {
      "text/plain": [
       "102"
      ]
     },
     "execution_count": 5,
     "metadata": {},
     "output_type": "execute_result"
    }
   ],
   "source": [
    "add(101)"
   ]
  },
  {
   "cell_type": "code",
   "execution_count": 7,
   "id": "9cfb33b6",
   "metadata": {},
   "outputs": [
    {
     "data": {
      "text/plain": [
       "101"
      ]
     },
     "execution_count": 7,
     "metadata": {},
     "output_type": "execute_result"
    }
   ],
   "source": [
    "sub(102)"
   ]
  },
  {
   "cell_type": "code",
   "execution_count": 8,
   "id": "db3427cf",
   "metadata": {},
   "outputs": [],
   "source": [
    "def calculator(k, number):\n",
    "    return k(number)"
   ]
  },
  {
   "cell_type": "code",
   "execution_count": 10,
   "id": "23c9d601",
   "metadata": {},
   "outputs": [
    {
     "data": {
      "text/plain": [
       "6"
      ]
     },
     "execution_count": 10,
     "metadata": {},
     "output_type": "execute_result"
    }
   ],
   "source": [
    "calculator(add,5)"
   ]
  },
  {
   "cell_type": "code",
   "execution_count": 11,
   "id": "34383399",
   "metadata": {},
   "outputs": [
    {
     "data": {
      "text/plain": [
       "104"
      ]
     },
     "execution_count": 11,
     "metadata": {},
     "output_type": "execute_result"
    }
   ],
   "source": [
    "calculator(sub, 105)"
   ]
  },
  {
   "cell_type": "code",
   "execution_count": 12,
   "id": "fcb34ad0",
   "metadata": {},
   "outputs": [],
   "source": [
    "add??"
   ]
  },
  {
   "cell_type": "code",
   "execution_count": 13,
   "id": "b23cf778",
   "metadata": {},
   "outputs": [],
   "source": [
    "sub??"
   ]
  },
  {
   "cell_type": "code",
   "execution_count": null,
   "id": "0f331819",
   "metadata": {},
   "outputs": [],
   "source": []
  },
  {
   "cell_type": "code",
   "execution_count": 14,
   "id": "61d1d8f3",
   "metadata": {},
   "outputs": [],
   "source": [
    "def basic():\n",
    "    print(\"i am a very basic function\")"
   ]
  },
  {
   "cell_type": "code",
   "execution_count": 15,
   "id": "2a03384c",
   "metadata": {},
   "outputs": [
    {
     "name": "stdout",
     "output_type": "stream",
     "text": [
      "i am a very basic function\n"
     ]
    }
   ],
   "source": [
    "basic()"
   ]
  },
  {
   "cell_type": "code",
   "execution_count": 16,
   "id": "3f16d6a0",
   "metadata": {},
   "outputs": [],
   "source": [
    "def deco(func):\n",
    "    def wrapper():\n",
    "        print(\"=\"*30)\n",
    "        func()\n",
    "        print(\"=\"*30)\n",
    "    return wrapper"
   ]
  },
  {
   "cell_type": "code",
   "execution_count": 17,
   "id": "685ec97f",
   "metadata": {},
   "outputs": [
    {
     "name": "stdout",
     "output_type": "stream",
     "text": [
      "i am a very basic function\n"
     ]
    }
   ],
   "source": [
    "basic()"
   ]
  },
  {
   "cell_type": "code",
   "execution_count": 19,
   "id": "006f8ddb",
   "metadata": {},
   "outputs": [],
   "source": [
    "my_fuct = deco(basic)"
   ]
  },
  {
   "cell_type": "code",
   "execution_count": 21,
   "id": "fdb643ad",
   "metadata": {},
   "outputs": [
    {
     "name": "stdout",
     "output_type": "stream",
     "text": [
      "==============================\n",
      "i am a very basic function\n",
      "==============================\n"
     ]
    }
   ],
   "source": [
    "my_fuct()"
   ]
  },
  {
   "cell_type": "code",
   "execution_count": null,
   "id": "64751f1a",
   "metadata": {},
   "outputs": [],
   "source": []
  },
  {
   "cell_type": "code",
   "execution_count": 22,
   "id": "8e6e8902",
   "metadata": {},
   "outputs": [],
   "source": [
    "@deco\n",
    "def basic():\n",
    "    print(\"i am a very basic function\")"
   ]
  },
  {
   "cell_type": "code",
   "execution_count": 23,
   "id": "20ad47ed",
   "metadata": {},
   "outputs": [
    {
     "name": "stdout",
     "output_type": "stream",
     "text": [
      "==============================\n",
      "i am a very basic function\n",
      "==============================\n"
     ]
    }
   ],
   "source": [
    "basic()"
   ]
  },
  {
   "cell_type": "code",
   "execution_count": null,
   "id": "d58c668e",
   "metadata": {},
   "outputs": [],
   "source": []
  },
  {
   "cell_type": "code",
   "execution_count": 24,
   "id": "5d03e043",
   "metadata": {},
   "outputs": [],
   "source": [
    "db = {\n",
    "    'ravi':'ravi@123',\n",
    "    'rohit':'rohit@123',\n",
    "    'sumit':'sumit@123'\n",
    "}"
   ]
  },
  {
   "cell_type": "code",
   "execution_count": 25,
   "id": "10eb82b2",
   "metadata": {},
   "outputs": [],
   "source": [
    "def add(x,y):\n",
    "    return x+y"
   ]
  },
  {
   "cell_type": "code",
   "execution_count": 26,
   "id": "c0c6e03d",
   "metadata": {},
   "outputs": [
    {
     "data": {
      "text/plain": [
       "11"
      ]
     },
     "execution_count": 26,
     "metadata": {},
     "output_type": "execute_result"
    }
   ],
   "source": [
    "add(5,6)"
   ]
  },
  {
   "cell_type": "code",
   "execution_count": 28,
   "id": "fa597104",
   "metadata": {},
   "outputs": [],
   "source": [
    "def add_features(func):\n",
    "    def wrapper(username, password, *args, **kwargs):\n",
    "        if username in db and db[username]==password:\n",
    "            func(*args, **kwargs)\n",
    "        else:\n",
    "            print(\"Authentication failed\")\n",
    "            \n",
    "    return wrapper\n",
    "            "
   ]
  },
  {
   "cell_type": "code",
   "execution_count": 29,
   "id": "68bd655b",
   "metadata": {},
   "outputs": [
    {
     "data": {
      "text/plain": [
       "11"
      ]
     },
     "execution_count": 29,
     "metadata": {},
     "output_type": "execute_result"
    }
   ],
   "source": [
    "add(5,6)"
   ]
  },
  {
   "cell_type": "code",
   "execution_count": 34,
   "id": "a7d1d30c",
   "metadata": {},
   "outputs": [],
   "source": [
    "@add_features\n",
    "def add(x,y):\n",
    "     print(x+y)"
   ]
  },
  {
   "cell_type": "code",
   "execution_count": 35,
   "id": "7598d992",
   "metadata": {},
   "outputs": [
    {
     "name": "stdout",
     "output_type": "stream",
     "text": [
      "Authentication failed\n"
     ]
    }
   ],
   "source": [
    "add(10,12)"
   ]
  },
  {
   "cell_type": "code",
   "execution_count": 36,
   "id": "66870705",
   "metadata": {},
   "outputs": [
    {
     "name": "stdout",
     "output_type": "stream",
     "text": [
      "88\n"
     ]
    }
   ],
   "source": [
    "add('ravi', 'ravi@123', 78,10)"
   ]
  },
  {
   "cell_type": "code",
   "execution_count": null,
   "id": "86836b38",
   "metadata": {},
   "outputs": [],
   "source": []
  },
  {
   "cell_type": "code",
   "execution_count": 61,
   "id": "17e951e4",
   "metadata": {},
   "outputs": [],
   "source": [
    "def star(func):\n",
    "    def wrapper(*args, **kwargs):\n",
    "        print(\"*\"*30)\n",
    "        func(*args, **kwargs)\n",
    "        print(\"*\"*30)\n",
    "    return wrapper"
   ]
  },
  {
   "cell_type": "code",
   "execution_count": 53,
   "id": "64e36a16",
   "metadata": {},
   "outputs": [],
   "source": [
    "def dollar(func):\n",
    "    def wrapper(*args, **kwargs):\n",
    "        print(\"=\"*30)\n",
    "        func(*args, **kwargs)\n",
    "        print(\"=\"*30)\n",
    "    return wrapper"
   ]
  },
  {
   "cell_type": "code",
   "execution_count": 66,
   "id": "6e5a6222",
   "metadata": {},
   "outputs": [],
   "source": [
    "\n",
    "@star\n",
    "def message(a,b):\n",
    "    print(a*b)"
   ]
  },
  {
   "cell_type": "code",
   "execution_count": 44,
   "id": "30f18b87",
   "metadata": {},
   "outputs": [
    {
     "name": "stdout",
     "output_type": "stream",
     "text": [
      "==============================\n",
      "******************************\n",
      "i am a main message\n",
      "******************************\n",
      "==============================\n"
     ]
    }
   ],
   "source": [
    "message()"
   ]
  },
  {
   "cell_type": "code",
   "execution_count": 54,
   "id": "588a724f",
   "metadata": {},
   "outputs": [],
   "source": [
    "@dollar\n",
    "def main(message12):\n",
    "    print(message12)"
   ]
  },
  {
   "cell_type": "code",
   "execution_count": 55,
   "id": "678376d6",
   "metadata": {},
   "outputs": [
    {
     "name": "stdout",
     "output_type": "stream",
     "text": [
      "==============================\n",
      "this is the final concept\n",
      "==============================\n"
     ]
    }
   ],
   "source": [
    "main('this is the final concept')"
   ]
  },
  {
   "cell_type": "code",
   "execution_count": 67,
   "id": "349ffefd",
   "metadata": {},
   "outputs": [
    {
     "name": "stdout",
     "output_type": "stream",
     "text": [
      "******************************\n",
      "4\n",
      "******************************\n"
     ]
    }
   ],
   "source": [
    "message(2,2)"
   ]
  },
  {
   "cell_type": "code",
   "execution_count": null,
   "id": "6a8acf7a",
   "metadata": {},
   "outputs": [],
   "source": []
  }
 ],
 "metadata": {
  "kernelspec": {
   "display_name": "Python 3",
   "language": "python",
   "name": "python3"
  },
  "language_info": {
   "codemirror_mode": {
    "name": "ipython",
    "version": 3
   },
   "file_extension": ".py",
   "mimetype": "text/x-python",
   "name": "python",
   "nbconvert_exporter": "python",
   "pygments_lexer": "ipython3",
   "version": "3.8.8"
  }
 },
 "nbformat": 4,
 "nbformat_minor": 5
}
