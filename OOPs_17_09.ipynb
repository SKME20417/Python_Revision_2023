{
 "cells": [
  {
   "cell_type": "code",
   "execution_count": 1,
   "id": "b56628e3",
   "metadata": {},
   "outputs": [],
   "source": [
    "class Human:\n",
    "    pass"
   ]
  },
  {
   "cell_type": "code",
   "execution_count": 2,
   "id": "d66ffc2f",
   "metadata": {},
   "outputs": [],
   "source": [
    "mohit = Human()"
   ]
  },
  {
   "cell_type": "code",
   "execution_count": 4,
   "id": "0c7e4079",
   "metadata": {},
   "outputs": [
    {
     "name": "stdout",
     "output_type": "stream",
     "text": [
      "<class 'str'>\n"
     ]
    }
   ],
   "source": [
    "print(type('hello'))"
   ]
  },
  {
   "cell_type": "code",
   "execution_count": 6,
   "id": "861a9188",
   "metadata": {},
   "outputs": [
    {
     "name": "stdout",
     "output_type": "stream",
     "text": [
      "<class '__main__.Human'>\n"
     ]
    }
   ],
   "source": [
    "print(type(mohit))"
   ]
  },
  {
   "cell_type": "code",
   "execution_count": 8,
   "id": "0f4c5ee0",
   "metadata": {},
   "outputs": [
    {
     "name": "stdout",
     "output_type": "stream",
     "text": [
      "<class 'type'>\n"
     ]
    }
   ],
   "source": [
    "print(type(Human))"
   ]
  },
  {
   "cell_type": "code",
   "execution_count": null,
   "id": "3cd4ea92",
   "metadata": {},
   "outputs": [],
   "source": []
  },
  {
   "cell_type": "code",
   "execution_count": 6,
   "id": "bf35fff7",
   "metadata": {},
   "outputs": [],
   "source": [
    "class Human:\n",
    "    #constructor\n",
    "    def __init__(self, name, age):\n",
    "        print('new object is created...')\n",
    "        \n",
    "    # attribute references\n",
    "    # instance variable\n",
    "    \n",
    "        self.name = name\n",
    "        self.age = age"
   ]
  },
  {
   "cell_type": "code",
   "execution_count": 7,
   "id": "fdc618d3",
   "metadata": {},
   "outputs": [
    {
     "name": "stdout",
     "output_type": "stream",
     "text": [
      "new object is created...\n"
     ]
    }
   ],
   "source": [
    "h1 = Human('mohit', 23)"
   ]
  },
  {
   "cell_type": "code",
   "execution_count": 8,
   "id": "45f9d806",
   "metadata": {},
   "outputs": [
    {
     "data": {
      "text/plain": [
       "23"
      ]
     },
     "execution_count": 8,
     "metadata": {},
     "output_type": "execute_result"
    }
   ],
   "source": [
    "h1.age"
   ]
  },
  {
   "cell_type": "code",
   "execution_count": 9,
   "id": "ca027a64",
   "metadata": {},
   "outputs": [
    {
     "data": {
      "text/plain": [
       "'mohit'"
      ]
     },
     "execution_count": 9,
     "metadata": {},
     "output_type": "execute_result"
    }
   ],
   "source": [
    "h1.name"
   ]
  },
  {
   "cell_type": "code",
   "execution_count": 11,
   "id": "bd316d58",
   "metadata": {},
   "outputs": [
    {
     "name": "stdout",
     "output_type": "stream",
     "text": [
      "<__main__.Human object at 0x0000016EE1518070>\n"
     ]
    }
   ],
   "source": [
    "print(h1)"
   ]
  },
  {
   "cell_type": "code",
   "execution_count": 12,
   "id": "5f901117",
   "metadata": {},
   "outputs": [
    {
     "name": "stdout",
     "output_type": "stream",
     "text": [
      "new object is created...\n"
     ]
    }
   ],
   "source": [
    "h2 = Human('prateek', 28)"
   ]
  },
  {
   "cell_type": "code",
   "execution_count": 13,
   "id": "1506337f",
   "metadata": {},
   "outputs": [
    {
     "name": "stdout",
     "output_type": "stream",
     "text": [
      "<__main__.Human object at 0x0000016EE151B100>\n"
     ]
    }
   ],
   "source": [
    "print(h2)"
   ]
  },
  {
   "cell_type": "code",
   "execution_count": 14,
   "id": "a5cdfbd5",
   "metadata": {},
   "outputs": [
    {
     "data": {
      "text/plain": [
       "'prateek'"
      ]
     },
     "execution_count": 14,
     "metadata": {},
     "output_type": "execute_result"
    }
   ],
   "source": [
    "h2.name"
   ]
  },
  {
   "cell_type": "code",
   "execution_count": 15,
   "id": "1284c830",
   "metadata": {},
   "outputs": [
    {
     "data": {
      "text/plain": [
       "28"
      ]
     },
     "execution_count": 15,
     "metadata": {},
     "output_type": "execute_result"
    }
   ],
   "source": [
    "h2.age"
   ]
  },
  {
   "cell_type": "code",
   "execution_count": 16,
   "id": "daf20150",
   "metadata": {},
   "outputs": [
    {
     "data": {
      "text/plain": [
       "__main__.Human"
      ]
     },
     "execution_count": 16,
     "metadata": {},
     "output_type": "execute_result"
    }
   ],
   "source": [
    "type(h2)"
   ]
  },
  {
   "cell_type": "code",
   "execution_count": null,
   "id": "28c73ddb",
   "metadata": {},
   "outputs": [],
   "source": []
  },
  {
   "cell_type": "code",
   "execution_count": 17,
   "id": "f57c1ca1",
   "metadata": {},
   "outputs": [],
   "source": [
    "# defining the instance methods"
   ]
  },
  {
   "cell_type": "code",
   "execution_count": 19,
   "id": "25c83cb4",
   "metadata": {},
   "outputs": [],
   "source": [
    "class Human:\n",
    "    #constructor\n",
    "    def __init__(self, name, age):\n",
    "        print('new object is created...')\n",
    "        \n",
    "    # attribute references\n",
    "    # instance variable\n",
    "    \n",
    "        self.name = name\n",
    "        self.age = age\n",
    "     # instance method   \n",
    "    def introduce(self):\n",
    "        print(f\"Hi my name is {self.name} and i am {self.age} years old\")"
   ]
  },
  {
   "cell_type": "code",
   "execution_count": 21,
   "id": "ed80a3b8",
   "metadata": {},
   "outputs": [
    {
     "name": "stdout",
     "output_type": "stream",
     "text": [
      "new object is created...\n"
     ]
    }
   ],
   "source": [
    "h1 = Human('mohit', 25)"
   ]
  },
  {
   "cell_type": "code",
   "execution_count": 22,
   "id": "bb75f0b9",
   "metadata": {},
   "outputs": [
    {
     "name": "stdout",
     "output_type": "stream",
     "text": [
      "new object is created...\n"
     ]
    }
   ],
   "source": [
    "h2 = Human('prateek', 28)"
   ]
  },
  {
   "cell_type": "code",
   "execution_count": 23,
   "id": "11747618",
   "metadata": {},
   "outputs": [
    {
     "name": "stdout",
     "output_type": "stream",
     "text": [
      "Hi my name is mohit and i am 25 years old\n"
     ]
    }
   ],
   "source": [
    "h1.introduce()"
   ]
  },
  {
   "cell_type": "code",
   "execution_count": 24,
   "id": "4ad127bc",
   "metadata": {},
   "outputs": [
    {
     "name": "stdout",
     "output_type": "stream",
     "text": [
      "Hi my name is prateek and i am 28 years old\n"
     ]
    }
   ],
   "source": [
    "h2.introduce()"
   ]
  },
  {
   "cell_type": "code",
   "execution_count": 26,
   "id": "5e7918ef",
   "metadata": {},
   "outputs": [],
   "source": [
    "h2.name = 'jatin'"
   ]
  },
  {
   "cell_type": "code",
   "execution_count": 27,
   "id": "f356b002",
   "metadata": {},
   "outputs": [
    {
     "name": "stdout",
     "output_type": "stream",
     "text": [
      "Hi my name is jatin and i am 28 years old\n"
     ]
    }
   ],
   "source": [
    "h2.introduce()"
   ]
  },
  {
   "cell_type": "code",
   "execution_count": null,
   "id": "54a81255",
   "metadata": {},
   "outputs": [],
   "source": []
  },
  {
   "cell_type": "code",
   "execution_count": 28,
   "id": "24215177",
   "metadata": {},
   "outputs": [],
   "source": [
    "# class variable"
   ]
  },
  {
   "cell_type": "code",
   "execution_count": 29,
   "id": "48c43647",
   "metadata": {},
   "outputs": [],
   "source": [
    "class Human:\n",
    "    database = []\n",
    "    population = 0\n",
    "    id_seq = 101\n",
    "    \n",
    "    \n",
    "    #constructor\n",
    "    def __init__(self, name, age, is_alive = True):\n",
    "        print('new object is created...')\n",
    "        \n",
    "    # attribute references\n",
    "    # instance variable\n",
    "    \n",
    "        self.name = name\n",
    "        self.age = age\n",
    "        self.is_alive = is_alive\n",
    "        \n",
    "        # add id of an object\n",
    "        self.id  = Human.id_seq\n",
    "        Human.id_seq+=1\n",
    "        Human.population+=1\n",
    "        Human.database.append(self)\n",
    "        \n",
    "     # instance method   \n",
    "    def introduce(self):\n",
    "        print(f\"Hi my name is {self.name} and i am {self.age} years old\")"
   ]
  },
  {
   "cell_type": "code",
   "execution_count": 30,
   "id": "0c8dec0b",
   "metadata": {},
   "outputs": [
    {
     "name": "stdout",
     "output_type": "stream",
     "text": [
      "new object is created...\n"
     ]
    }
   ],
   "source": [
    "h1 = Human(\"Mohit\", 23)"
   ]
  },
  {
   "cell_type": "code",
   "execution_count": 31,
   "id": "927b9497",
   "metadata": {},
   "outputs": [
    {
     "data": {
      "text/plain": [
       "<__main__.Human at 0x16ee1bc2340>"
      ]
     },
     "execution_count": 31,
     "metadata": {},
     "output_type": "execute_result"
    }
   ],
   "source": [
    "h1"
   ]
  },
  {
   "cell_type": "code",
   "execution_count": 32,
   "id": "77b0c546",
   "metadata": {},
   "outputs": [
    {
     "data": {
      "text/plain": [
       "101"
      ]
     },
     "execution_count": 32,
     "metadata": {},
     "output_type": "execute_result"
    }
   ],
   "source": [
    "h1.id"
   ]
  },
  {
   "cell_type": "code",
   "execution_count": 33,
   "id": "dc106f7c",
   "metadata": {},
   "outputs": [
    {
     "name": "stdout",
     "output_type": "stream",
     "text": [
      "<__main__.Human object at 0x0000016EE1BC2340>\n"
     ]
    }
   ],
   "source": [
    "print(h1)"
   ]
  },
  {
   "cell_type": "code",
   "execution_count": 34,
   "id": "30116ee9",
   "metadata": {},
   "outputs": [
    {
     "data": {
      "text/plain": [
       "[<__main__.Human at 0x16ee1bc2340>]"
      ]
     },
     "execution_count": 34,
     "metadata": {},
     "output_type": "execute_result"
    }
   ],
   "source": [
    "Human.database"
   ]
  },
  {
   "cell_type": "code",
   "execution_count": 35,
   "id": "cd3746e4",
   "metadata": {},
   "outputs": [
    {
     "data": {
      "text/plain": [
       "1"
      ]
     },
     "execution_count": 35,
     "metadata": {},
     "output_type": "execute_result"
    }
   ],
   "source": [
    "Human.population"
   ]
  },
  {
   "cell_type": "code",
   "execution_count": 36,
   "id": "b3b4ce5e",
   "metadata": {},
   "outputs": [
    {
     "name": "stdout",
     "output_type": "stream",
     "text": [
      "new object is created...\n"
     ]
    }
   ],
   "source": [
    "h2 = Human('prateek', 27)"
   ]
  },
  {
   "cell_type": "code",
   "execution_count": 37,
   "id": "55dd03d3",
   "metadata": {},
   "outputs": [
    {
     "data": {
      "text/plain": [
       "<__main__.Human at 0x16ee058fa90>"
      ]
     },
     "execution_count": 37,
     "metadata": {},
     "output_type": "execute_result"
    }
   ],
   "source": [
    "h2"
   ]
  },
  {
   "cell_type": "code",
   "execution_count": 38,
   "id": "0309dddc",
   "metadata": {},
   "outputs": [
    {
     "data": {
      "text/plain": [
       "[<__main__.Human at 0x16ee1bc2340>, <__main__.Human at 0x16ee058fa90>]"
      ]
     },
     "execution_count": 38,
     "metadata": {},
     "output_type": "execute_result"
    }
   ],
   "source": [
    "Human.database"
   ]
  },
  {
   "cell_type": "code",
   "execution_count": 39,
   "id": "55bcaaec",
   "metadata": {},
   "outputs": [
    {
     "data": {
      "text/plain": [
       "2"
      ]
     },
     "execution_count": 39,
     "metadata": {},
     "output_type": "execute_result"
    }
   ],
   "source": [
    "Human.population"
   ]
  },
  {
   "cell_type": "code",
   "execution_count": 40,
   "id": "c53affdc",
   "metadata": {},
   "outputs": [
    {
     "data": {
      "text/plain": [
       "103"
      ]
     },
     "execution_count": 40,
     "metadata": {},
     "output_type": "execute_result"
    }
   ],
   "source": [
    "Human.id_seq"
   ]
  },
  {
   "cell_type": "code",
   "execution_count": 41,
   "id": "80a1b7a0",
   "metadata": {},
   "outputs": [
    {
     "data": {
      "text/plain": [
       "102"
      ]
     },
     "execution_count": 41,
     "metadata": {},
     "output_type": "execute_result"
    }
   ],
   "source": [
    "h2.id"
   ]
  },
  {
   "cell_type": "code",
   "execution_count": null,
   "id": "f8ada579",
   "metadata": {},
   "outputs": [],
   "source": []
  },
  {
   "cell_type": "code",
   "execution_count": 43,
   "id": "22bb90ae",
   "metadata": {},
   "outputs": [],
   "source": [
    "# adding more methods - die()"
   ]
  },
  {
   "cell_type": "code",
   "execution_count": null,
   "id": "20dd902f",
   "metadata": {},
   "outputs": [],
   "source": []
  },
  {
   "cell_type": "code",
   "execution_count": 61,
   "id": "bebe4691",
   "metadata": {},
   "outputs": [],
   "source": [
    "class Human:\n",
    "    database = []\n",
    "    population = 0\n",
    "    id_seq = 101\n",
    "    \n",
    "    \n",
    "    #constructor\n",
    "    def __init__(self, name, age, is_alive = True):\n",
    "        print('new object is created...')\n",
    "        \n",
    "    # attribute references\n",
    "    # instance variable\n",
    "    \n",
    "        self.name = name\n",
    "        self.age = age\n",
    "        self.is_alive = is_alive\n",
    "        \n",
    "        # add id of an object\n",
    "        self.id  = Human.id_seq\n",
    "        Human.id_seq+=1\n",
    "        Human.population+=1\n",
    "        Human.database.append(self)\n",
    "        \n",
    "     # instance method   \n",
    "    def introduce(self):\n",
    "        print(f\"Hi my name is {self.name} and i am {self.age} years old\")\n",
    "        \n",
    "    def die(self):\n",
    "        if self.is_alive:\n",
    "            print(self.name, \"is dying....\")\n",
    "            self.is_alive = False\n",
    "            Human.population-=1\n",
    "        else:\n",
    "            print(self.name, \"is already dead\")\n",
    "        "
   ]
  },
  {
   "cell_type": "code",
   "execution_count": 62,
   "id": "3ad2a25b",
   "metadata": {},
   "outputs": [
    {
     "name": "stdout",
     "output_type": "stream",
     "text": [
      "new object is created...\n"
     ]
    }
   ],
   "source": [
    "h1 = Human('mohit', 25)"
   ]
  },
  {
   "cell_type": "code",
   "execution_count": 63,
   "id": "edadcab7",
   "metadata": {},
   "outputs": [
    {
     "data": {
      "text/plain": [
       "'mohit'"
      ]
     },
     "execution_count": 63,
     "metadata": {},
     "output_type": "execute_result"
    }
   ],
   "source": [
    "h1.name"
   ]
  },
  {
   "cell_type": "code",
   "execution_count": 64,
   "id": "d0774f6f",
   "metadata": {},
   "outputs": [
    {
     "name": "stdout",
     "output_type": "stream",
     "text": [
      "new object is created...\n"
     ]
    }
   ],
   "source": [
    "h2 = Human('prateek', 28)"
   ]
  },
  {
   "cell_type": "code",
   "execution_count": 65,
   "id": "ab705312",
   "metadata": {},
   "outputs": [
    {
     "data": {
      "text/plain": [
       "28"
      ]
     },
     "execution_count": 65,
     "metadata": {},
     "output_type": "execute_result"
    }
   ],
   "source": [
    "h2.age"
   ]
  },
  {
   "cell_type": "code",
   "execution_count": 76,
   "id": "22ed9694",
   "metadata": {},
   "outputs": [
    {
     "name": "stdout",
     "output_type": "stream",
     "text": [
      "mohit is already dead\n"
     ]
    }
   ],
   "source": [
    "h1.die()"
   ]
  },
  {
   "cell_type": "code",
   "execution_count": 77,
   "id": "f0d57f67",
   "metadata": {},
   "outputs": [
    {
     "data": {
      "text/plain": [
       "1"
      ]
     },
     "execution_count": 77,
     "metadata": {},
     "output_type": "execute_result"
    }
   ],
   "source": [
    "Human.population"
   ]
  },
  {
   "cell_type": "code",
   "execution_count": 78,
   "id": "ebcda898",
   "metadata": {},
   "outputs": [
    {
     "data": {
      "text/plain": [
       "False"
      ]
     },
     "execution_count": 78,
     "metadata": {},
     "output_type": "execute_result"
    }
   ],
   "source": [
    "h1.is_alive"
   ]
  },
  {
   "cell_type": "code",
   "execution_count": 79,
   "id": "2dd14685",
   "metadata": {},
   "outputs": [
    {
     "name": "stdout",
     "output_type": "stream",
     "text": [
      "<__main__.Human object at 0x0000016EE2223730>\n"
     ]
    }
   ],
   "source": [
    "print(h1)"
   ]
  },
  {
   "cell_type": "code",
   "execution_count": 80,
   "id": "8568b667",
   "metadata": {},
   "outputs": [
    {
     "name": "stdout",
     "output_type": "stream",
     "text": [
      "<__main__.Human object at 0x0000016EE1AD1940>\n"
     ]
    }
   ],
   "source": [
    "print(h2)"
   ]
  },
  {
   "cell_type": "code",
   "execution_count": 81,
   "id": "14264b07",
   "metadata": {},
   "outputs": [
    {
     "ename": "NameError",
     "evalue": "name '__repr__' is not defined",
     "output_type": "error",
     "traceback": [
      "\u001b[1;31m---------------------------------------------------------------------------\u001b[0m",
      "\u001b[1;31mNameError\u001b[0m                                 Traceback (most recent call last)",
      "\u001b[1;32m<ipython-input-81-85fe46c0f18f>\u001b[0m in \u001b[0;36m<module>\u001b[1;34m\u001b[0m\n\u001b[1;32m----> 1\u001b[1;33m \u001b[0m__repr__\u001b[0m\u001b[1;33m\u001b[0m\u001b[1;33m\u001b[0m\u001b[0m\n\u001b[0m\u001b[0;32m      2\u001b[0m \u001b[0m__init__\u001b[0m\u001b[1;33m\u001b[0m\u001b[1;33m\u001b[0m\u001b[0m\n\u001b[0;32m      3\u001b[0m \u001b[0m__str__\u001b[0m\u001b[1;33m\u001b[0m\u001b[1;33m\u001b[0m\u001b[0m\n",
      "\u001b[1;31mNameError\u001b[0m: name '__repr__' is not defined"
     ]
    }
   ],
   "source": [
    "__repr__\n",
    "__init__\n",
    "__str__"
   ]
  },
  {
   "cell_type": "code",
   "execution_count": 82,
   "id": "1547127d",
   "metadata": {},
   "outputs": [],
   "source": [
    "lst = [1,2,3,4,5]"
   ]
  },
  {
   "cell_type": "code",
   "execution_count": 83,
   "id": "58370783",
   "metadata": {},
   "outputs": [
    {
     "data": {
      "text/plain": [
       "list"
      ]
     },
     "execution_count": 83,
     "metadata": {},
     "output_type": "execute_result"
    }
   ],
   "source": [
    "type(lst)"
   ]
  },
  {
   "cell_type": "code",
   "execution_count": 84,
   "id": "4762afac",
   "metadata": {},
   "outputs": [
    {
     "name": "stdout",
     "output_type": "stream",
     "text": [
      "[1, 2, 3, 4, 5]\n"
     ]
    }
   ],
   "source": [
    "print(lst)"
   ]
  },
  {
   "cell_type": "code",
   "execution_count": 85,
   "id": "b6ad0f7d",
   "metadata": {},
   "outputs": [
    {
     "data": {
      "text/plain": [
       "[<__main__.Human at 0x16ee2223730>, <__main__.Human at 0x16ee1ad1940>]"
      ]
     },
     "execution_count": 85,
     "metadata": {},
     "output_type": "execute_result"
    }
   ],
   "source": [
    "Human.database"
   ]
  },
  {
   "cell_type": "code",
   "execution_count": null,
   "id": "beffbb45",
   "metadata": {},
   "outputs": [],
   "source": []
  },
  {
   "cell_type": "code",
   "execution_count": 86,
   "id": "70fafc42",
   "metadata": {},
   "outputs": [],
   "source": [
    "class Human:\n",
    "    database = []\n",
    "    population = 0\n",
    "    id_seq = 101\n",
    "    \n",
    "    \n",
    "    #constructor\n",
    "    def __init__(self, name, age, is_alive = True):\n",
    "        print('new object is created...')\n",
    "        \n",
    "    # attribute references\n",
    "    # instance variable\n",
    "    \n",
    "        self.name = name\n",
    "        self.age = age\n",
    "        self.is_alive = is_alive\n",
    "        \n",
    "        # add id of an object\n",
    "        self.id  = Human.id_seq\n",
    "        Human.id_seq+=1\n",
    "        Human.population+=1\n",
    "        Human.database.append(self)\n",
    "        \n",
    "     # instance method   \n",
    "    def introduce(self):\n",
    "        print(f\"Hi my name is {self.name} and i am {self.age} years old\")\n",
    "        \n",
    "    def die(self):\n",
    "        if self.is_alive:\n",
    "            print(self.name, \"is dying....\")\n",
    "            self.is_alive = False\n",
    "            Human.population-=1\n",
    "        else:\n",
    "            print(self.name, \"is already dead\")\n",
    "            \n",
    "    def __repr__(self):\n",
    "        \"\"\"it method needs to retrun a string\"\"\"\n",
    "        \n",
    "        return \"[{},{},{},{}]\".format(self.id, self.name, self.age, self.is_alive)\n",
    "        "
   ]
  },
  {
   "cell_type": "code",
   "execution_count": 87,
   "id": "ae1402d1",
   "metadata": {},
   "outputs": [
    {
     "name": "stdout",
     "output_type": "stream",
     "text": [
      "new object is created...\n"
     ]
    }
   ],
   "source": [
    "h1 = Human('mohit', 25)"
   ]
  },
  {
   "cell_type": "code",
   "execution_count": 88,
   "id": "139f03b5",
   "metadata": {},
   "outputs": [
    {
     "name": "stdout",
     "output_type": "stream",
     "text": [
      "new object is created...\n"
     ]
    }
   ],
   "source": [
    "h2 = Human('prateek', 30)"
   ]
  },
  {
   "cell_type": "code",
   "execution_count": 89,
   "id": "640016c4",
   "metadata": {},
   "outputs": [
    {
     "name": "stdout",
     "output_type": "stream",
     "text": [
      "[101,mohit,25,True]\n"
     ]
    }
   ],
   "source": [
    "print(h1)"
   ]
  },
  {
   "cell_type": "code",
   "execution_count": 90,
   "id": "177ff186",
   "metadata": {},
   "outputs": [
    {
     "name": "stdout",
     "output_type": "stream",
     "text": [
      "[102,prateek,30,True]\n"
     ]
    }
   ],
   "source": [
    "print(h2)"
   ]
  },
  {
   "cell_type": "code",
   "execution_count": 91,
   "id": "7de5eeb9",
   "metadata": {},
   "outputs": [
    {
     "data": {
      "text/plain": [
       "[[101,mohit,25,True], [102,prateek,30,True]]"
      ]
     },
     "execution_count": 91,
     "metadata": {},
     "output_type": "execute_result"
    }
   ],
   "source": [
    "Human.database"
   ]
  },
  {
   "cell_type": "code",
   "execution_count": null,
   "id": "395301df",
   "metadata": {},
   "outputs": [],
   "source": []
  },
  {
   "cell_type": "code",
   "execution_count": 92,
   "id": "3b085d52",
   "metadata": {},
   "outputs": [],
   "source": [
    "class Human:\n",
    "    database = []\n",
    "    population = 0\n",
    "    id_seq = 101\n",
    "    \n",
    "    \n",
    "    #constructor\n",
    "    def __init__(self, name, age, is_alive = True):\n",
    "        print('new object is created...')\n",
    "        \n",
    "    # attribute references\n",
    "    # instance variable\n",
    "    \n",
    "        self.name = name\n",
    "        self.age = age\n",
    "        self.is_alive = is_alive\n",
    "        \n",
    "        # add id of an object\n",
    "        self.id  = Human.id_seq\n",
    "        Human.id_seq+=1\n",
    "        Human.population+=1\n",
    "        Human.database.append(self)\n",
    "        \n",
    "     # instance method   \n",
    "    def introduce(self):\n",
    "        print(f\"Hi my name is {self.name} and i am {self.age} years old\")\n",
    "        \n",
    "    def die(self):\n",
    "        if self.is_alive:\n",
    "            print(self.name, \"is dying....\")\n",
    "            self.is_alive = False\n",
    "            Human.population-=1\n",
    "        else:\n",
    "            print(self.name, \"is already dead\")\n",
    "            \n",
    "    def __repr__(self):\n",
    "        \"\"\"it method needs to retrun a string\"\"\"\n",
    "        \n",
    "        return \"[{},{},{},{}]\".format(self.id, self.name, self.age, self.is_alive)\n",
    "        "
   ]
  },
  {
   "cell_type": "code",
   "execution_count": 102,
   "id": "fe2153cc",
   "metadata": {},
   "outputs": [],
   "source": [
    "class Hitman(Human):\n",
    "    def __init__(self,name, age):\n",
    "        super().__init__(name, age)\n",
    "        \n",
    "        kills = 0\n",
    "        kill_list = []"
   ]
  },
  {
   "cell_type": "code",
   "execution_count": 103,
   "id": "b6dd3efb",
   "metadata": {},
   "outputs": [
    {
     "name": "stdout",
     "output_type": "stream",
     "text": [
      "new object is created...\n",
      "new object is created...\n",
      "new object is created...\n"
     ]
    }
   ],
   "source": [
    "h1 = Human(\"Mohit\", 23)\n",
    "h2 = Human(\"Prateek\", 27)\n",
    "h3 = Human(\"Jatin\", 26)"
   ]
  },
  {
   "cell_type": "code",
   "execution_count": 104,
   "id": "42f9d058",
   "metadata": {},
   "outputs": [
    {
     "name": "stdout",
     "output_type": "stream",
     "text": [
      "Hi my name is Mohit and i am 23 years old\n"
     ]
    }
   ],
   "source": [
    "h1.introduce()"
   ]
  },
  {
   "cell_type": "code",
   "execution_count": 105,
   "id": "d8f33af5",
   "metadata": {},
   "outputs": [
    {
     "name": "stdout",
     "output_type": "stream",
     "text": [
      "new object is created...\n"
     ]
    }
   ],
   "source": [
    "bond = Hitman('james', 28)"
   ]
  },
  {
   "cell_type": "code",
   "execution_count": 106,
   "id": "bcf2e9f7",
   "metadata": {},
   "outputs": [
    {
     "name": "stdout",
     "output_type": "stream",
     "text": [
      "Hi my name is james and i am 28 years old\n"
     ]
    }
   ],
   "source": [
    "bond.introduce()"
   ]
  },
  {
   "cell_type": "code",
   "execution_count": 107,
   "id": "ffd87354",
   "metadata": {},
   "outputs": [
    {
     "data": {
      "text/plain": [
       "8"
      ]
     },
     "execution_count": 107,
     "metadata": {},
     "output_type": "execute_result"
    }
   ],
   "source": [
    "Human.population"
   ]
  },
  {
   "cell_type": "code",
   "execution_count": 108,
   "id": "d5c9a214",
   "metadata": {},
   "outputs": [
    {
     "data": {
      "text/plain": [
       "[[101,Mohit,23,True],\n",
       " [102,Prateek,27,True],\n",
       " [103,Jatin,26,True],\n",
       " [104,james,28,True],\n",
       " [105,Mohit,23,True],\n",
       " [106,Prateek,27,True],\n",
       " [107,Jatin,26,True],\n",
       " [108,james,28,True]]"
      ]
     },
     "execution_count": 108,
     "metadata": {},
     "output_type": "execute_result"
    }
   ],
   "source": [
    "Human.database"
   ]
  },
  {
   "cell_type": "code",
   "execution_count": 109,
   "id": "da270eaf",
   "metadata": {},
   "outputs": [
    {
     "name": "stdout",
     "output_type": "stream",
     "text": [
      "[108,james,28,True]\n"
     ]
    }
   ],
   "source": [
    "print(bond)"
   ]
  },
  {
   "cell_type": "code",
   "execution_count": null,
   "id": "53e5de3c",
   "metadata": {},
   "outputs": [],
   "source": []
  },
  {
   "cell_type": "code",
   "execution_count": 110,
   "id": "e0114867",
   "metadata": {},
   "outputs": [],
   "source": [
    "# adding kill functionality to hitman"
   ]
  },
  {
   "cell_type": "code",
   "execution_count": 152,
   "id": "ae6d14fa",
   "metadata": {},
   "outputs": [],
   "source": [
    "class Human:\n",
    "    database = []\n",
    "    population = 0\n",
    "    id_seq = 101\n",
    "    \n",
    "    \n",
    "    #constructor\n",
    "    def __init__(self, name, age, is_alive = True):\n",
    "        print('new object is created...')\n",
    "        \n",
    "    # attribute references\n",
    "    # instance variable\n",
    "    \n",
    "        self.name = name\n",
    "        self.age = age\n",
    "        self.is_alive = is_alive\n",
    "        \n",
    "        # add id of an object\n",
    "        self.id  = Human.id_seq\n",
    "        Human.id_seq+=1\n",
    "        Human.population+=1\n",
    "        Human.database.append(self)\n",
    "        \n",
    "     # instance method   \n",
    "    def introduce(self):\n",
    "        print(f\"Hi my name is {self.name} and i am {self.age} years old\")\n",
    "        \n",
    "    def die(self):\n",
    "        if self.is_alive:\n",
    "            print(self.name, \"is dying....\")\n",
    "            self.is_alive = False\n",
    "            Human.population-=1\n",
    "        else:\n",
    "            print(self.name, \"is already dead\")\n",
    "            \n",
    "    def __repr__(self):\n",
    "        \"\"\"it method needs to retrun a string\"\"\"\n",
    "        \n",
    "        return \"[{},{},{},{}]\".format(self.id, self.name, self.age, self.is_alive)\n",
    "        "
   ]
  },
  {
   "cell_type": "code",
   "execution_count": 153,
   "id": "397685b2",
   "metadata": {},
   "outputs": [],
   "source": [
    "class Hitman(Human):\n",
    "    def __init__(self,name, age):\n",
    "        super().__init__(name, age)\n",
    "        \n",
    "        self.kills = 0\n",
    "        self.kill_list = []\n",
    "        \n",
    "    def kill(self, person):\n",
    "        if person.is_alive:\n",
    "            print(\"{} is killing {}\".format(self.name, person.name))\n",
    "            person.die()\n",
    "            self.kills+=1\n",
    "            self.kill_list.append(person)\n",
    "        else:\n",
    "            print('{} is already dead'.format(person.name))\n",
    "        "
   ]
  },
  {
   "cell_type": "code",
   "execution_count": null,
   "id": "8199dc6c",
   "metadata": {},
   "outputs": [],
   "source": []
  },
  {
   "cell_type": "code",
   "execution_count": 154,
   "id": "69cbf14e",
   "metadata": {},
   "outputs": [
    {
     "name": "stdout",
     "output_type": "stream",
     "text": [
      "new object is created...\n",
      "new object is created...\n",
      "new object is created...\n"
     ]
    }
   ],
   "source": [
    "h1 = Human(\"Mohit\", 23)\n",
    "h2 = Human(\"Prateek\", 27)\n",
    "h3 = Human(\"Jatin\", 26)"
   ]
  },
  {
   "cell_type": "code",
   "execution_count": 155,
   "id": "31e39231",
   "metadata": {},
   "outputs": [
    {
     "name": "stdout",
     "output_type": "stream",
     "text": [
      "new object is created...\n"
     ]
    }
   ],
   "source": [
    "bond = Hitman('james', 28)"
   ]
  },
  {
   "cell_type": "code",
   "execution_count": 156,
   "id": "17d3a313",
   "metadata": {},
   "outputs": [
    {
     "data": {
      "text/plain": [
       "__main__.Hitman"
      ]
     },
     "execution_count": 156,
     "metadata": {},
     "output_type": "execute_result"
    }
   ],
   "source": [
    "type(bond)"
   ]
  },
  {
   "cell_type": "code",
   "execution_count": 157,
   "id": "0c9f6b5e",
   "metadata": {},
   "outputs": [
    {
     "name": "stdout",
     "output_type": "stream",
     "text": [
      "Hi my name is james and i am 28 years old\n"
     ]
    }
   ],
   "source": [
    "bond.introduce()"
   ]
  },
  {
   "cell_type": "code",
   "execution_count": 158,
   "id": "eb18889c",
   "metadata": {},
   "outputs": [
    {
     "data": {
      "text/plain": [
       "4"
      ]
     },
     "execution_count": 158,
     "metadata": {},
     "output_type": "execute_result"
    }
   ],
   "source": [
    "Human.population"
   ]
  },
  {
   "cell_type": "code",
   "execution_count": 159,
   "id": "f8f340a9",
   "metadata": {},
   "outputs": [
    {
     "data": {
      "text/plain": [
       "[[101,Mohit,23,True],\n",
       " [102,Prateek,27,True],\n",
       " [103,Jatin,26,True],\n",
       " [104,james,28,True]]"
      ]
     },
     "execution_count": 159,
     "metadata": {},
     "output_type": "execute_result"
    }
   ],
   "source": [
    "Human.database"
   ]
  },
  {
   "cell_type": "code",
   "execution_count": 160,
   "id": "a10f3efa",
   "metadata": {},
   "outputs": [
    {
     "name": "stdout",
     "output_type": "stream",
     "text": [
      "james is killing Mohit\n",
      "Mohit is dying....\n"
     ]
    }
   ],
   "source": [
    "bond.kill(h1)"
   ]
  },
  {
   "cell_type": "code",
   "execution_count": 168,
   "id": "c67d3542",
   "metadata": {},
   "outputs": [
    {
     "data": {
      "text/plain": [
       "3"
      ]
     },
     "execution_count": 168,
     "metadata": {},
     "output_type": "execute_result"
    }
   ],
   "source": [
    "Human.population"
   ]
  },
  {
   "cell_type": "code",
   "execution_count": 165,
   "id": "6e9d3b6f",
   "metadata": {},
   "outputs": [
    {
     "name": "stdout",
     "output_type": "stream",
     "text": [
      "Mohit is already dead\n"
     ]
    }
   ],
   "source": [
    "bond.kill(h1)"
   ]
  },
  {
   "cell_type": "code",
   "execution_count": 169,
   "id": "749a7cf6",
   "metadata": {},
   "outputs": [
    {
     "data": {
      "text/plain": [
       "3"
      ]
     },
     "execution_count": 169,
     "metadata": {},
     "output_type": "execute_result"
    }
   ],
   "source": [
    "Human.population"
   ]
  },
  {
   "cell_type": "code",
   "execution_count": 170,
   "id": "0f3c9cfe",
   "metadata": {},
   "outputs": [
    {
     "data": {
      "text/plain": [
       "1"
      ]
     },
     "execution_count": 170,
     "metadata": {},
     "output_type": "execute_result"
    }
   ],
   "source": [
    "bond.kills"
   ]
  },
  {
   "cell_type": "code",
   "execution_count": null,
   "id": "9356020c",
   "metadata": {},
   "outputs": [],
   "source": []
  },
  {
   "cell_type": "code",
   "execution_count": null,
   "id": "ada81b28",
   "metadata": {},
   "outputs": [],
   "source": []
  },
  {
   "cell_type": "code",
   "execution_count": 173,
   "id": "4b810d29",
   "metadata": {},
   "outputs": [],
   "source": [
    "class Human:\n",
    "    database = []\n",
    "    population = 0\n",
    "    id_seq = 101\n",
    "    \n",
    "    \n",
    "    #constructor\n",
    "    def __init__(self, name, age, is_alive = True):\n",
    "        print('new object is created...')\n",
    "        \n",
    "    # attribute references\n",
    "    # instance variable\n",
    "    \n",
    "        self.name = name\n",
    "        self.age = age\n",
    "        self.is_alive = is_alive\n",
    "        \n",
    "        # add id of an object\n",
    "        self.id  = Human.id_seq\n",
    "        Human.id_seq+=1\n",
    "        Human.population+=1\n",
    "        Human.database.append(self)\n",
    "        \n",
    "     # instance method   \n",
    "    def introduce(self):\n",
    "        print(f\"Hi my name is {self.name} and i am {self.age} years old\")\n",
    "        \n",
    "    def die(self):\n",
    "        if self.is_alive:\n",
    "            print(self.name, \"is dying....\")\n",
    "            self.is_alive = False\n",
    "            Human.population-=1\n",
    "        else:\n",
    "            print(self.name, \"is already dead\")\n",
    "            \n",
    "    def __repr__(self):\n",
    "        \"\"\"it method needs to retrun a string\"\"\"\n",
    "        \n",
    "        return \"[{},{},{},{}]\".format(self.id, self.name, self.age, self.is_alive)\n",
    "        "
   ]
  },
  {
   "cell_type": "code",
   "execution_count": 174,
   "id": "d84d2950",
   "metadata": {},
   "outputs": [],
   "source": [
    "class Hitman(Human):\n",
    "    def __init__(self,name, age):\n",
    "        super().__init__(name, age)\n",
    "        \n",
    "        self.kills = 0\n",
    "        self.kill_list = []\n",
    "        \n",
    "    def kill(self, person):\n",
    "        if person.is_alive:\n",
    "            print(\"{} is killing {}\".format(self.name, person.name))\n",
    "            person.die()\n",
    "            self.kills+=1\n",
    "            self.kill_list.append(person)\n",
    "        else:\n",
    "            print('{} is already dead'.format(person.name))\n",
    "            \n",
    "    def introduce(self):\n",
    "        print(f\"Hi my name is {self.name} and i have killed {self.kills} people\")"
   ]
  },
  {
   "cell_type": "code",
   "execution_count": 175,
   "id": "ae197e1a",
   "metadata": {},
   "outputs": [
    {
     "name": "stdout",
     "output_type": "stream",
     "text": [
      "new object is created...\n",
      "new object is created...\n",
      "new object is created...\n"
     ]
    }
   ],
   "source": [
    "h1 = Human(\"Mohit\", 23)\n",
    "h2 = Human(\"Prateek\", 27)\n",
    "h3 = Human(\"Jatin\", 26)"
   ]
  },
  {
   "cell_type": "code",
   "execution_count": 176,
   "id": "0c6496c5",
   "metadata": {},
   "outputs": [
    {
     "name": "stdout",
     "output_type": "stream",
     "text": [
      "new object is created...\n"
     ]
    }
   ],
   "source": [
    "bond = Hitman('james', 28)"
   ]
  },
  {
   "cell_type": "code",
   "execution_count": 177,
   "id": "420678bb",
   "metadata": {},
   "outputs": [
    {
     "name": "stdout",
     "output_type": "stream",
     "text": [
      "james is killing Prateek\n",
      "Prateek is dying....\n"
     ]
    }
   ],
   "source": [
    "bond.kill(h2)"
   ]
  },
  {
   "cell_type": "code",
   "execution_count": 178,
   "id": "68802eca",
   "metadata": {},
   "outputs": [
    {
     "name": "stdout",
     "output_type": "stream",
     "text": [
      "Hi my name is Mohit and i am 23 years old\n"
     ]
    }
   ],
   "source": [
    "h1.introduce()"
   ]
  },
  {
   "cell_type": "code",
   "execution_count": 179,
   "id": "cf9b9a72",
   "metadata": {},
   "outputs": [
    {
     "data": {
      "text/plain": [
       "1"
      ]
     },
     "execution_count": 179,
     "metadata": {},
     "output_type": "execute_result"
    }
   ],
   "source": [
    "bond.kills"
   ]
  },
  {
   "cell_type": "code",
   "execution_count": 180,
   "id": "553633ba",
   "metadata": {},
   "outputs": [
    {
     "name": "stdout",
     "output_type": "stream",
     "text": [
      "Hi my name is james and i have killed 1 people\n"
     ]
    }
   ],
   "source": [
    "bond.introduce()"
   ]
  },
  {
   "cell_type": "code",
   "execution_count": 181,
   "id": "c8b1b8e1",
   "metadata": {},
   "outputs": [
    {
     "name": "stdout",
     "output_type": "stream",
     "text": [
      "Hi my name is Prateek and i am 27 years old\n"
     ]
    }
   ],
   "source": [
    "h2.introduce()"
   ]
  },
  {
   "cell_type": "code",
   "execution_count": null,
   "id": "f3a683af",
   "metadata": {},
   "outputs": [],
   "source": []
  },
  {
   "cell_type": "code",
   "execution_count": 1,
   "id": "28c4902c",
   "metadata": {},
   "outputs": [],
   "source": [
    "# Multilevel inheritence"
   ]
  },
  {
   "cell_type": "code",
   "execution_count": 2,
   "id": "45a2090c",
   "metadata": {},
   "outputs": [],
   "source": [
    "class A():\n",
    "    def find(self):\n",
    "        print(\"I am inside class A and finding...\")\n",
    "    \n",
    "\n",
    "class B(A):\n",
    "    def explore(self):\n",
    "        print(\"I am inside class B and exploring...\")\n",
    "        \n",
    "    def discover(self):\n",
    "        print(\"I am inside class B and discovering...\")\n",
    "    \n",
    "class C(B):\n",
    "    def explore(self):\n",
    "        print(\"I am inside class c and exploring...\")\n",
    "        \n",
    "    def search(self):\n",
    "        print('I am searching inside class c...')"
   ]
  },
  {
   "cell_type": "code",
   "execution_count": 3,
   "id": "09d69843",
   "metadata": {},
   "outputs": [],
   "source": [
    "obj1 = A()\n",
    "obj2 = B()\n",
    "obj3 = C()"
   ]
  },
  {
   "cell_type": "code",
   "execution_count": 4,
   "id": "b3da4ab8",
   "metadata": {},
   "outputs": [
    {
     "name": "stdout",
     "output_type": "stream",
     "text": [
      "I am inside class A and finding...\n"
     ]
    }
   ],
   "source": [
    "obj1.find()"
   ]
  },
  {
   "cell_type": "code",
   "execution_count": 5,
   "id": "9e16d816",
   "metadata": {},
   "outputs": [
    {
     "name": "stdout",
     "output_type": "stream",
     "text": [
      "I am inside class A and finding...\n"
     ]
    }
   ],
   "source": [
    "obj2.find()"
   ]
  },
  {
   "cell_type": "code",
   "execution_count": 6,
   "id": "1bd2624d",
   "metadata": {},
   "outputs": [
    {
     "name": "stdout",
     "output_type": "stream",
     "text": [
      "I am inside class B and exploring...\n"
     ]
    }
   ],
   "source": [
    "obj2.explore()"
   ]
  },
  {
   "cell_type": "code",
   "execution_count": 7,
   "id": "dee980f4",
   "metadata": {},
   "outputs": [
    {
     "name": "stdout",
     "output_type": "stream",
     "text": [
      "I am inside class B and discovering...\n"
     ]
    }
   ],
   "source": [
    "obj2.discover()"
   ]
  },
  {
   "cell_type": "code",
   "execution_count": 8,
   "id": "c0570789",
   "metadata": {},
   "outputs": [
    {
     "name": "stdout",
     "output_type": "stream",
     "text": [
      "I am inside class c and exploring...\n"
     ]
    }
   ],
   "source": [
    "obj3.explore()"
   ]
  },
  {
   "cell_type": "code",
   "execution_count": 9,
   "id": "1eeed64d",
   "metadata": {},
   "outputs": [
    {
     "name": "stdout",
     "output_type": "stream",
     "text": [
      "I am searching inside class c...\n"
     ]
    }
   ],
   "source": [
    "obj3.search()"
   ]
  },
  {
   "cell_type": "code",
   "execution_count": 10,
   "id": "50d4750e",
   "metadata": {},
   "outputs": [
    {
     "name": "stdout",
     "output_type": "stream",
     "text": [
      "I am inside class A and finding...\n"
     ]
    }
   ],
   "source": [
    "obj3.find()"
   ]
  },
  {
   "cell_type": "code",
   "execution_count": 11,
   "id": "3dab0bd4",
   "metadata": {},
   "outputs": [
    {
     "name": "stdout",
     "output_type": "stream",
     "text": [
      "I am inside class B and discovering...\n"
     ]
    }
   ],
   "source": [
    "obj3.discover()"
   ]
  },
  {
   "cell_type": "code",
   "execution_count": null,
   "id": "42e9dcf7",
   "metadata": {},
   "outputs": [],
   "source": []
  },
  {
   "cell_type": "code",
   "execution_count": 12,
   "id": "b448081c",
   "metadata": {},
   "outputs": [],
   "source": [
    "# multiple inheritence"
   ]
  },
  {
   "cell_type": "code",
   "execution_count": 23,
   "id": "4b56085e",
   "metadata": {},
   "outputs": [],
   "source": [
    "class A():\n",
    "    def find(self):\n",
    "        print(\"I am inside class A and finding...\")\n",
    "    \n",
    "\n",
    "class B():\n",
    "    def explore(self):\n",
    "        print(\"I am inside class B and exploring...\")\n",
    "        \n",
    "    def discover(self):\n",
    "        print(\"I am inside class B and discovering...\")\n",
    "    \n",
    "class C(B,A):\n",
    "    def explore(self):\n",
    "        print(\"I am inside class c and exploring...\")\n",
    "        \n",
    "    def search(self):\n",
    "        print('I am searching inside class c...')"
   ]
  },
  {
   "cell_type": "code",
   "execution_count": 24,
   "id": "aeafb05d",
   "metadata": {},
   "outputs": [],
   "source": [
    "obj1 = A()\n",
    "obj2 = B()\n",
    "obj3 = C()"
   ]
  },
  {
   "cell_type": "code",
   "execution_count": 25,
   "id": "f5406dcd",
   "metadata": {},
   "outputs": [
    {
     "name": "stdout",
     "output_type": "stream",
     "text": [
      "I am inside class A and finding...\n"
     ]
    }
   ],
   "source": [
    "obj1.find()"
   ]
  },
  {
   "cell_type": "code",
   "execution_count": 26,
   "id": "73688813",
   "metadata": {},
   "outputs": [
    {
     "name": "stdout",
     "output_type": "stream",
     "text": [
      "I am inside class B and exploring...\n"
     ]
    }
   ],
   "source": [
    "obj2.explore()"
   ]
  },
  {
   "cell_type": "code",
   "execution_count": 27,
   "id": "d6c1f0dc",
   "metadata": {},
   "outputs": [
    {
     "name": "stdout",
     "output_type": "stream",
     "text": [
      "I am inside class B and discovering...\n"
     ]
    }
   ],
   "source": [
    "obj2.discover()"
   ]
  },
  {
   "cell_type": "code",
   "execution_count": 28,
   "id": "6201794c",
   "metadata": {},
   "outputs": [
    {
     "name": "stdout",
     "output_type": "stream",
     "text": [
      "I am inside class A and finding...\n"
     ]
    }
   ],
   "source": [
    "obj3.find()"
   ]
  },
  {
   "cell_type": "code",
   "execution_count": 29,
   "id": "2f5aab01",
   "metadata": {},
   "outputs": [
    {
     "name": "stdout",
     "output_type": "stream",
     "text": [
      "I am searching inside class c...\n"
     ]
    }
   ],
   "source": [
    "obj3.search()"
   ]
  },
  {
   "cell_type": "code",
   "execution_count": 30,
   "id": "a0901407",
   "metadata": {},
   "outputs": [
    {
     "name": "stdout",
     "output_type": "stream",
     "text": [
      "I am inside class c and exploring...\n"
     ]
    }
   ],
   "source": [
    "obj3.explore()"
   ]
  },
  {
   "cell_type": "code",
   "execution_count": 31,
   "id": "0b56a35e",
   "metadata": {},
   "outputs": [
    {
     "name": "stdout",
     "output_type": "stream",
     "text": [
      "I am inside class B and discovering...\n"
     ]
    }
   ],
   "source": [
    "obj3.discover()"
   ]
  },
  {
   "cell_type": "code",
   "execution_count": null,
   "id": "60654ea5",
   "metadata": {},
   "outputs": [],
   "source": []
  },
  {
   "cell_type": "code",
   "execution_count": 32,
   "id": "ca8c111d",
   "metadata": {},
   "outputs": [
    {
     "data": {
      "text/plain": [
       "[__main__.C, __main__.B, __main__.A, object]"
      ]
     },
     "execution_count": 32,
     "metadata": {},
     "output_type": "execute_result"
    }
   ],
   "source": [
    "C.mro()"
   ]
  },
  {
   "cell_type": "code",
   "execution_count": null,
   "id": "bf95462d",
   "metadata": {},
   "outputs": [],
   "source": []
  },
  {
   "cell_type": "code",
   "execution_count": 34,
   "id": "b2563958",
   "metadata": {},
   "outputs": [
    {
     "ename": "SyntaxError",
     "evalue": "invalid syntax (<ipython-input-34-654f008b59a2>, line 2)",
     "output_type": "error",
     "traceback": [
      "\u001b[1;36m  File \u001b[1;32m\"<ipython-input-34-654f008b59a2>\"\u001b[1;36m, line \u001b[1;32m2\u001b[0m\n\u001b[1;33m    +-*/\u001b[0m\n\u001b[1;37m      ^\u001b[0m\n\u001b[1;31mSyntaxError\u001b[0m\u001b[1;31m:\u001b[0m invalid syntax\n"
     ]
    }
   ],
   "source": [
    "# operator level polymorphism\n",
    "+-*/"
   ]
  },
  {
   "cell_type": "code",
   "execution_count": 35,
   "id": "1bf4bcca",
   "metadata": {},
   "outputs": [
    {
     "data": {
      "text/plain": [
       "26"
      ]
     },
     "execution_count": 35,
     "metadata": {},
     "output_type": "execute_result"
    }
   ],
   "source": [
    "23 + 3"
   ]
  },
  {
   "cell_type": "code",
   "execution_count": 36,
   "id": "7d110240",
   "metadata": {},
   "outputs": [
    {
     "data": {
      "text/plain": [
       "'Hello world'"
      ]
     },
     "execution_count": 36,
     "metadata": {},
     "output_type": "execute_result"
    }
   ],
   "source": [
    "\"Hello \" + 'world'"
   ]
  },
  {
   "cell_type": "code",
   "execution_count": 37,
   "id": "9e0c5121",
   "metadata": {},
   "outputs": [
    {
     "data": {
      "text/plain": [
       "[1, 2, 3, 1, 5, 6]"
      ]
     },
     "execution_count": 37,
     "metadata": {},
     "output_type": "execute_result"
    }
   ],
   "source": [
    "[1,2,3] + [1, 5, 6]"
   ]
  },
  {
   "cell_type": "code",
   "execution_count": null,
   "id": "270e0c66",
   "metadata": {},
   "outputs": [],
   "source": []
  },
  {
   "cell_type": "code",
   "execution_count": null,
   "id": "4a8f4764",
   "metadata": {},
   "outputs": [],
   "source": []
  },
  {
   "cell_type": "code",
   "execution_count": 44,
   "id": "1beddc0c",
   "metadata": {},
   "outputs": [],
   "source": [
    "# Function level polymorphism"
   ]
  },
  {
   "cell_type": "code",
   "execution_count": 38,
   "id": "762191b4",
   "metadata": {},
   "outputs": [],
   "source": [
    "my_str = \"python is fun\""
   ]
  },
  {
   "cell_type": "code",
   "execution_count": 39,
   "id": "a485b5a5",
   "metadata": {},
   "outputs": [
    {
     "data": {
      "text/plain": [
       "13"
      ]
     },
     "execution_count": 39,
     "metadata": {},
     "output_type": "execute_result"
    }
   ],
   "source": [
    "len(my_str)"
   ]
  },
  {
   "cell_type": "code",
   "execution_count": 40,
   "id": "950311ac",
   "metadata": {},
   "outputs": [],
   "source": [
    "p = [4,5,6,7,8,9,10]"
   ]
  },
  {
   "cell_type": "code",
   "execution_count": 41,
   "id": "ef96436a",
   "metadata": {},
   "outputs": [
    {
     "data": {
      "text/plain": [
       "7"
      ]
     },
     "execution_count": 41,
     "metadata": {},
     "output_type": "execute_result"
    }
   ],
   "source": [
    "len(p)"
   ]
  },
  {
   "cell_type": "code",
   "execution_count": 42,
   "id": "0233da6f",
   "metadata": {},
   "outputs": [],
   "source": [
    "e = {4,5,9,7,4,5,7,9,1,2,3,1,2,3}"
   ]
  },
  {
   "cell_type": "code",
   "execution_count": 43,
   "id": "8e50bc3b",
   "metadata": {},
   "outputs": [
    {
     "data": {
      "text/plain": [
       "7"
      ]
     },
     "execution_count": 43,
     "metadata": {},
     "output_type": "execute_result"
    }
   ],
   "source": [
    "len(e)"
   ]
  },
  {
   "cell_type": "code",
   "execution_count": null,
   "id": "61c9ebe9",
   "metadata": {},
   "outputs": [],
   "source": []
  },
  {
   "cell_type": "code",
   "execution_count": 45,
   "id": "c7d78ecc",
   "metadata": {},
   "outputs": [],
   "source": [
    "class Animal:\n",
    "    def speak(self):\n",
    "        print(\"I will speak...\")\n",
    "\n",
    "class Dog(Animal):\n",
    "    def speak(self):\n",
    "        print(\"I will bark...\")\n",
    "\n",
    "class Cat(Animal):\n",
    "    def speak(self):\n",
    "        print(\"I will meow...\")\n",
    "\n",
    "class Duck(Animal):\n",
    "    def speak(self):\n",
    "        print(\"I will quack....\")"
   ]
  },
  {
   "cell_type": "code",
   "execution_count": 46,
   "id": "2f7cf8c9",
   "metadata": {},
   "outputs": [],
   "source": [
    "dog = Dog()\n",
    "cat = Cat()\n",
    "duck = Duck()"
   ]
  },
  {
   "cell_type": "code",
   "execution_count": 48,
   "id": "599bb54d",
   "metadata": {},
   "outputs": [
    {
     "name": "stdout",
     "output_type": "stream",
     "text": [
      "I will bark...\n",
      "I will meow...\n",
      "I will quack....\n"
     ]
    }
   ],
   "source": [
    "for i in [dog, cat, duck]:\n",
    "    i.speak()"
   ]
  },
  {
   "cell_type": "code",
   "execution_count": null,
   "id": "45fef3e5",
   "metadata": {},
   "outputs": [],
   "source": []
  }
 ],
 "metadata": {
  "kernelspec": {
   "display_name": "Python 3",
   "language": "python",
   "name": "python3"
  },
  "language_info": {
   "codemirror_mode": {
    "name": "ipython",
    "version": 3
   },
   "file_extension": ".py",
   "mimetype": "text/x-python",
   "name": "python",
   "nbconvert_exporter": "python",
   "pygments_lexer": "ipython3",
   "version": "3.8.8"
  }
 },
 "nbformat": 4,
 "nbformat_minor": 5
}
