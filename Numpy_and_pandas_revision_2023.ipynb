{
 "cells": [
  {
   "cell_type": "code",
   "execution_count": 1,
   "id": "42a9d87e",
   "metadata": {},
   "outputs": [
    {
     "name": "stdout",
     "output_type": "stream",
     "text": [
      "Requirement already satisfied: numpy in c:\\users\\skme2\\anaconda3\\lib\\site-packages (1.20.1)\n"
     ]
    },
    {
     "name": "stderr",
     "output_type": "stream",
     "text": [
      "WARNING: Ignoring invalid distribution -atplotlib (c:\\users\\skme2\\anaconda3\\lib\\site-packages)\n",
      "WARNING: Ignoring invalid distribution -atplotlib (c:\\users\\skme2\\anaconda3\\lib\\site-packages)\n",
      "\n",
      "[notice] A new release of pip is available: 23.1 -> 23.1.2\n",
      "[notice] To update, run: python.exe -m pip install --upgrade pip\n"
     ]
    }
   ],
   "source": [
    "!pip install numpy"
   ]
  },
  {
   "cell_type": "code",
   "execution_count": 2,
   "id": "cf24216e",
   "metadata": {},
   "outputs": [],
   "source": [
    "import numpy as np"
   ]
  },
  {
   "cell_type": "code",
   "execution_count": 3,
   "id": "2ddd6ae6",
   "metadata": {},
   "outputs": [],
   "source": [
    "lst = [1,2,3,4,5,6,7,8,9,10]"
   ]
  },
  {
   "cell_type": "code",
   "execution_count": 4,
   "id": "0e3bccbb",
   "metadata": {},
   "outputs": [
    {
     "name": "stdout",
     "output_type": "stream",
     "text": [
      "6.97 µs ± 105 ns per loop (mean ± std. dev. of 7 runs, 100000 loops each)\n"
     ]
    }
   ],
   "source": [
    "%timeit [i**2 for i in lst]"
   ]
  },
  {
   "cell_type": "code",
   "execution_count": 6,
   "id": "f3d21d57",
   "metadata": {},
   "outputs": [],
   "source": [
    "arr = np.array(lst)"
   ]
  },
  {
   "cell_type": "code",
   "execution_count": 7,
   "id": "09bc8bb9",
   "metadata": {},
   "outputs": [
    {
     "name": "stdout",
     "output_type": "stream",
     "text": [
      "1.72 µs ± 28.5 ns per loop (mean ± std. dev. of 7 runs, 1000000 loops each)\n"
     ]
    }
   ],
   "source": [
    "%timeit arr**2"
   ]
  },
  {
   "cell_type": "code",
   "execution_count": 8,
   "id": "128c2396",
   "metadata": {},
   "outputs": [
    {
     "data": {
      "text/plain": [
       "[1, 2, 3, 4, 5, 6, 7, 8, 9, 10]"
      ]
     },
     "execution_count": 8,
     "metadata": {},
     "output_type": "execute_result"
    }
   ],
   "source": [
    "lst"
   ]
  },
  {
   "cell_type": "code",
   "execution_count": 9,
   "id": "7d93fd3f",
   "metadata": {},
   "outputs": [
    {
     "ename": "TypeError",
     "evalue": "can only concatenate list (not \"int\") to list",
     "output_type": "error",
     "traceback": [
      "\u001b[1;31m---------------------------------------------------------------------------\u001b[0m",
      "\u001b[1;31mTypeError\u001b[0m                                 Traceback (most recent call last)",
      "\u001b[1;32m<ipython-input-9-0f3bd86316ef>\u001b[0m in \u001b[0;36m<module>\u001b[1;34m\u001b[0m\n\u001b[1;32m----> 1\u001b[1;33m \u001b[0mlst\u001b[0m \u001b[1;33m+\u001b[0m \u001b[1;36m1\u001b[0m\u001b[1;33m\u001b[0m\u001b[1;33m\u001b[0m\u001b[0m\n\u001b[0m",
      "\u001b[1;31mTypeError\u001b[0m: can only concatenate list (not \"int\") to list"
     ]
    }
   ],
   "source": [
    "lst + 1"
   ]
  },
  {
   "cell_type": "code",
   "execution_count": 11,
   "id": "e5861a62",
   "metadata": {},
   "outputs": [],
   "source": [
    "k = []\n",
    "\n",
    "for i in lst:\n",
    "    k.append(i+1)"
   ]
  },
  {
   "cell_type": "code",
   "execution_count": 12,
   "id": "e827bb82",
   "metadata": {},
   "outputs": [
    {
     "data": {
      "text/plain": [
       "[2, 3, 4, 5, 6, 7, 8, 9, 10, 11]"
      ]
     },
     "execution_count": 12,
     "metadata": {},
     "output_type": "execute_result"
    }
   ],
   "source": [
    "k"
   ]
  },
  {
   "cell_type": "code",
   "execution_count": 13,
   "id": "0e9c5b62",
   "metadata": {},
   "outputs": [
    {
     "data": {
      "text/plain": [
       "[2, 3, 4, 5, 6, 7, 8, 9, 10, 11]"
      ]
     },
     "execution_count": 13,
     "metadata": {},
     "output_type": "execute_result"
    }
   ],
   "source": [
    "[i+1 for i in  lst]"
   ]
  },
  {
   "cell_type": "code",
   "execution_count": 14,
   "id": "21029656",
   "metadata": {},
   "outputs": [
    {
     "data": {
      "text/plain": [
       "[1, 2, 3, 4, 5, 6, 7, 8, 9, 10, 1]"
      ]
     },
     "execution_count": 14,
     "metadata": {},
     "output_type": "execute_result"
    }
   ],
   "source": [
    "lst + [1]"
   ]
  },
  {
   "cell_type": "code",
   "execution_count": 15,
   "id": "9f04a9e3",
   "metadata": {},
   "outputs": [
    {
     "data": {
      "text/plain": [
       "array([ 2,  3,  4,  5,  6,  7,  8,  9, 10, 11])"
      ]
     },
     "execution_count": 15,
     "metadata": {},
     "output_type": "execute_result"
    }
   ],
   "source": [
    "arr + 1"
   ]
  },
  {
   "cell_type": "code",
   "execution_count": 17,
   "id": "d12c16ac",
   "metadata": {},
   "outputs": [],
   "source": [
    "j = np.array(42)"
   ]
  },
  {
   "cell_type": "code",
   "execution_count": 18,
   "id": "2f4cc1af",
   "metadata": {},
   "outputs": [
    {
     "data": {
      "text/plain": [
       "0"
      ]
     },
     "execution_count": 18,
     "metadata": {},
     "output_type": "execute_result"
    }
   ],
   "source": [
    "j.ndim"
   ]
  },
  {
   "cell_type": "code",
   "execution_count": 19,
   "id": "1eed4c93",
   "metadata": {},
   "outputs": [],
   "source": [
    "l = [1,2,3,4,5]"
   ]
  },
  {
   "cell_type": "code",
   "execution_count": 20,
   "id": "f06fda81",
   "metadata": {},
   "outputs": [],
   "source": [
    "arr = np.array(l)"
   ]
  },
  {
   "cell_type": "code",
   "execution_count": 21,
   "id": "d54eb6e5",
   "metadata": {},
   "outputs": [
    {
     "data": {
      "text/plain": [
       "array([1, 2, 3, 4, 5])"
      ]
     },
     "execution_count": 21,
     "metadata": {},
     "output_type": "execute_result"
    }
   ],
   "source": [
    "arr"
   ]
  },
  {
   "cell_type": "code",
   "execution_count": 22,
   "id": "3bc81f45",
   "metadata": {},
   "outputs": [
    {
     "data": {
      "text/plain": [
       "1"
      ]
     },
     "execution_count": 22,
     "metadata": {},
     "output_type": "execute_result"
    }
   ],
   "source": [
    "arr.ndim"
   ]
  },
  {
   "cell_type": "code",
   "execution_count": 23,
   "id": "0453a444",
   "metadata": {},
   "outputs": [
    {
     "data": {
      "text/plain": [
       "numpy.ndarray"
      ]
     },
     "execution_count": 23,
     "metadata": {},
     "output_type": "execute_result"
    }
   ],
   "source": [
    "type(arr)"
   ]
  },
  {
   "cell_type": "code",
   "execution_count": 24,
   "id": "d5099eda",
   "metadata": {},
   "outputs": [
    {
     "data": {
      "text/plain": [
       "(5,)"
      ]
     },
     "execution_count": 24,
     "metadata": {},
     "output_type": "execute_result"
    }
   ],
   "source": [
    "arr.shape"
   ]
  },
  {
   "cell_type": "code",
   "execution_count": 25,
   "id": "d4710eb7",
   "metadata": {},
   "outputs": [
    {
     "data": {
      "text/plain": [
       "()"
      ]
     },
     "execution_count": 25,
     "metadata": {},
     "output_type": "execute_result"
    }
   ],
   "source": [
    "j.shape"
   ]
  },
  {
   "cell_type": "code",
   "execution_count": 28,
   "id": "f147c3c0",
   "metadata": {},
   "outputs": [],
   "source": [
    "new_arr = np.arange(3,12,2)"
   ]
  },
  {
   "cell_type": "code",
   "execution_count": 29,
   "id": "33986757",
   "metadata": {},
   "outputs": [
    {
     "data": {
      "text/plain": [
       "array([ 3,  5,  7,  9, 11])"
      ]
     },
     "execution_count": 29,
     "metadata": {},
     "output_type": "execute_result"
    }
   ],
   "source": [
    "new_arr"
   ]
  },
  {
   "cell_type": "code",
   "execution_count": 31,
   "id": "60bcaa3d",
   "metadata": {},
   "outputs": [],
   "source": [
    "lst_2d = [[1,2,3],[4,5,6],[7,8,9],[10,11,12]]"
   ]
  },
  {
   "cell_type": "code",
   "execution_count": 33,
   "id": "882351cb",
   "metadata": {},
   "outputs": [],
   "source": [
    "arr_2d = np.array(lst_2d)"
   ]
  },
  {
   "cell_type": "code",
   "execution_count": 34,
   "id": "f6fe71c7",
   "metadata": {},
   "outputs": [
    {
     "data": {
      "text/plain": [
       "array([[ 1,  2,  3],\n",
       "       [ 4,  5,  6],\n",
       "       [ 7,  8,  9],\n",
       "       [10, 11, 12]])"
      ]
     },
     "execution_count": 34,
     "metadata": {},
     "output_type": "execute_result"
    }
   ],
   "source": [
    "arr_2d"
   ]
  },
  {
   "cell_type": "code",
   "execution_count": 35,
   "id": "cc82760b",
   "metadata": {},
   "outputs": [
    {
     "data": {
      "text/plain": [
       "2"
      ]
     },
     "execution_count": 35,
     "metadata": {},
     "output_type": "execute_result"
    }
   ],
   "source": [
    "arr_2d.ndim"
   ]
  },
  {
   "cell_type": "code",
   "execution_count": 36,
   "id": "f2546d0a",
   "metadata": {},
   "outputs": [
    {
     "data": {
      "text/plain": [
       "(4, 3)"
      ]
     },
     "execution_count": 36,
     "metadata": {},
     "output_type": "execute_result"
    }
   ],
   "source": [
    "arr_2d.shape"
   ]
  },
  {
   "cell_type": "code",
   "execution_count": 39,
   "id": "c639cd1c",
   "metadata": {},
   "outputs": [
    {
     "data": {
      "text/plain": [
       "array([[0., 0., 0., 0., 0.],\n",
       "       [0., 0., 0., 0., 0.],\n",
       "       [0., 0., 0., 0., 0.],\n",
       "       [0., 0., 0., 0., 0.],\n",
       "       [0., 0., 0., 0., 0.]])"
      ]
     },
     "execution_count": 39,
     "metadata": {},
     "output_type": "execute_result"
    }
   ],
   "source": [
    "np.zeros((5,5))"
   ]
  },
  {
   "cell_type": "code",
   "execution_count": 42,
   "id": "1dfe2b50",
   "metadata": {},
   "outputs": [
    {
     "data": {
      "text/plain": [
       "array([[1., 1., 1., 1., 1., 1., 1.],\n",
       "       [1., 1., 1., 1., 1., 1., 1.],\n",
       "       [1., 1., 1., 1., 1., 1., 1.],\n",
       "       [1., 1., 1., 1., 1., 1., 1.],\n",
       "       [1., 1., 1., 1., 1., 1., 1.],\n",
       "       [1., 1., 1., 1., 1., 1., 1.],\n",
       "       [1., 1., 1., 1., 1., 1., 1.]])"
      ]
     },
     "execution_count": 42,
     "metadata": {},
     "output_type": "execute_result"
    }
   ],
   "source": [
    "np.ones((7,7))"
   ]
  },
  {
   "cell_type": "code",
   "execution_count": 45,
   "id": "c54d7490",
   "metadata": {},
   "outputs": [
    {
     "data": {
      "text/plain": [
       "array([[1, 0, 0],\n",
       "       [0, 5, 0],\n",
       "       [0, 0, 9]])"
      ]
     },
     "execution_count": 45,
     "metadata": {},
     "output_type": "execute_result"
    }
   ],
   "source": [
    "np.diag([1,5,9])"
   ]
  },
  {
   "cell_type": "code",
   "execution_count": 46,
   "id": "0efd9371",
   "metadata": {},
   "outputs": [
    {
     "data": {
      "text/plain": [
       "array([[1., 0., 0., 0., 0., 0., 0., 0., 0.],\n",
       "       [0., 1., 0., 0., 0., 0., 0., 0., 0.],\n",
       "       [0., 0., 1., 0., 0., 0., 0., 0., 0.],\n",
       "       [0., 0., 0., 1., 0., 0., 0., 0., 0.],\n",
       "       [0., 0., 0., 0., 1., 0., 0., 0., 0.],\n",
       "       [0., 0., 0., 0., 0., 1., 0., 0., 0.],\n",
       "       [0., 0., 0., 0., 0., 0., 1., 0., 0.],\n",
       "       [0., 0., 0., 0., 0., 0., 0., 1., 0.],\n",
       "       [0., 0., 0., 0., 0., 0., 0., 0., 1.]])"
      ]
     },
     "execution_count": 46,
     "metadata": {},
     "output_type": "execute_result"
    }
   ],
   "source": [
    "np.identity(9)"
   ]
  },
  {
   "cell_type": "code",
   "execution_count": 47,
   "id": "4c61f473",
   "metadata": {},
   "outputs": [
    {
     "data": {
      "text/plain": [
       "array([[1., 0., 0., 0., 0.],\n",
       "       [0., 1., 0., 0., 0.],\n",
       "       [0., 0., 1., 0., 0.],\n",
       "       [0., 0., 0., 1., 0.],\n",
       "       [0., 0., 0., 0., 1.]])"
      ]
     },
     "execution_count": 47,
     "metadata": {},
     "output_type": "execute_result"
    }
   ],
   "source": [
    "np.eye(5)"
   ]
  },
  {
   "cell_type": "code",
   "execution_count": 50,
   "id": "57a60644",
   "metadata": {},
   "outputs": [],
   "source": [
    "new_arr = np.random.randint(10,100, (5,4))"
   ]
  },
  {
   "cell_type": "code",
   "execution_count": 51,
   "id": "715c0f41",
   "metadata": {},
   "outputs": [
    {
     "data": {
      "text/plain": [
       "(5, 4)"
      ]
     },
     "execution_count": 51,
     "metadata": {},
     "output_type": "execute_result"
    }
   ],
   "source": [
    "new_arr.shape"
   ]
  },
  {
   "cell_type": "code",
   "execution_count": 52,
   "id": "6d26255c",
   "metadata": {},
   "outputs": [
    {
     "data": {
      "text/plain": [
       "array([40, 44, 74, 39])"
      ]
     },
     "execution_count": 52,
     "metadata": {},
     "output_type": "execute_result"
    }
   ],
   "source": [
    "new_arr[0]"
   ]
  },
  {
   "cell_type": "code",
   "execution_count": 53,
   "id": "bc986862",
   "metadata": {},
   "outputs": [
    {
     "data": {
      "text/plain": [
       "array([[40, 44, 74, 39],\n",
       "       [30, 61, 16, 55],\n",
       "       [37, 35, 82, 92],\n",
       "       [49, 10, 51, 49],\n",
       "       [60, 15, 54, 83]])"
      ]
     },
     "execution_count": 53,
     "metadata": {},
     "output_type": "execute_result"
    }
   ],
   "source": [
    "new_arr"
   ]
  },
  {
   "cell_type": "code",
   "execution_count": 54,
   "id": "f1dbecd1",
   "metadata": {},
   "outputs": [
    {
     "data": {
      "text/plain": [
       "array([37, 35, 82, 92])"
      ]
     },
     "execution_count": 54,
     "metadata": {},
     "output_type": "execute_result"
    }
   ],
   "source": [
    "new_arr[2]"
   ]
  },
  {
   "cell_type": "code",
   "execution_count": 55,
   "id": "f69bfb60",
   "metadata": {},
   "outputs": [
    {
     "data": {
      "text/plain": [
       "array([49, 10, 51, 49])"
      ]
     },
     "execution_count": 55,
     "metadata": {},
     "output_type": "execute_result"
    }
   ],
   "source": [
    "new_arr[-2]"
   ]
  },
  {
   "cell_type": "code",
   "execution_count": 56,
   "id": "9d82de11",
   "metadata": {},
   "outputs": [
    {
     "data": {
      "text/plain": [
       "array([60, 15, 54, 83])"
      ]
     },
     "execution_count": 56,
     "metadata": {},
     "output_type": "execute_result"
    }
   ],
   "source": [
    "new_arr[-1]"
   ]
  },
  {
   "cell_type": "code",
   "execution_count": 57,
   "id": "c4c11557",
   "metadata": {},
   "outputs": [
    {
     "data": {
      "text/plain": [
       "array([[40, 44, 74, 39],\n",
       "       [30, 61, 16, 55],\n",
       "       [37, 35, 82, 92],\n",
       "       [49, 10, 51, 49],\n",
       "       [60, 15, 54, 83]])"
      ]
     },
     "execution_count": 57,
     "metadata": {},
     "output_type": "execute_result"
    }
   ],
   "source": [
    "new_arr"
   ]
  },
  {
   "cell_type": "code",
   "execution_count": 59,
   "id": "a477d2da",
   "metadata": {},
   "outputs": [
    {
     "data": {
      "text/plain": [
       "40"
      ]
     },
     "execution_count": 59,
     "metadata": {},
     "output_type": "execute_result"
    }
   ],
   "source": [
    "new_arr[0,0]"
   ]
  },
  {
   "cell_type": "code",
   "execution_count": 60,
   "id": "bfa55cdd",
   "metadata": {},
   "outputs": [
    {
     "data": {
      "text/plain": [
       "82"
      ]
     },
     "execution_count": 60,
     "metadata": {},
     "output_type": "execute_result"
    }
   ],
   "source": [
    "new_arr[2,2]"
   ]
  },
  {
   "cell_type": "code",
   "execution_count": 62,
   "id": "ceba8c96",
   "metadata": {},
   "outputs": [
    {
     "data": {
      "text/plain": [
       "83"
      ]
     },
     "execution_count": 62,
     "metadata": {},
     "output_type": "execute_result"
    }
   ],
   "source": [
    "new_arr[4,3]"
   ]
  },
  {
   "cell_type": "code",
   "execution_count": 63,
   "id": "fb8e0b62",
   "metadata": {},
   "outputs": [
    {
     "data": {
      "text/plain": [
       "array([[40, 44, 74, 39],\n",
       "       [30, 61, 16, 55],\n",
       "       [37, 35, 82, 92],\n",
       "       [49, 10, 51, 49],\n",
       "       [60, 15, 54, 83]])"
      ]
     },
     "execution_count": 63,
     "metadata": {},
     "output_type": "execute_result"
    }
   ],
   "source": [
    "new_arr"
   ]
  },
  {
   "cell_type": "code",
   "execution_count": 66,
   "id": "d1b4f64a",
   "metadata": {},
   "outputs": [
    {
     "data": {
      "text/plain": [
       "array([[35, 82, 92],\n",
       "       [10, 51, 49],\n",
       "       [15, 54, 83]])"
      ]
     },
     "execution_count": 66,
     "metadata": {},
     "output_type": "execute_result"
    }
   ],
   "source": [
    "new_arr[2:, 1:]"
   ]
  },
  {
   "cell_type": "code",
   "execution_count": 67,
   "id": "94e7a3ee",
   "metadata": {},
   "outputs": [
    {
     "data": {
      "text/plain": [
       "array([39, 55, 92, 49, 83])"
      ]
     },
     "execution_count": 67,
     "metadata": {},
     "output_type": "execute_result"
    }
   ],
   "source": [
    "new_arr[:,-1]"
   ]
  },
  {
   "cell_type": "code",
   "execution_count": 70,
   "id": "d06bcf44",
   "metadata": {},
   "outputs": [],
   "source": [
    "new_arr[0,0] = 400"
   ]
  },
  {
   "cell_type": "code",
   "execution_count": 71,
   "id": "87ba8885",
   "metadata": {},
   "outputs": [
    {
     "data": {
      "text/plain": [
       "array([[400,  44,  74,  39],\n",
       "       [ 30,  61,  16,  55],\n",
       "       [ 37,  35,  82,  92],\n",
       "       [ 49,  10,  51,  49],\n",
       "       [ 60,  15,  54,  83]])"
      ]
     },
     "execution_count": 71,
     "metadata": {},
     "output_type": "execute_result"
    }
   ],
   "source": [
    "new_arr"
   ]
  },
  {
   "cell_type": "code",
   "execution_count": 74,
   "id": "42a08654",
   "metadata": {},
   "outputs": [],
   "source": [
    "mask = new_arr>10"
   ]
  },
  {
   "cell_type": "code",
   "execution_count": 75,
   "id": "53b14698",
   "metadata": {},
   "outputs": [
    {
     "name": "stdout",
     "output_type": "stream",
     "text": [
      "[[ True  True  True  True]\n",
      " [ True  True  True  True]\n",
      " [ True  True  True  True]\n",
      " [ True False  True  True]\n",
      " [ True  True  True  True]]\n"
     ]
    }
   ],
   "source": [
    "print(mask)"
   ]
  },
  {
   "cell_type": "code",
   "execution_count": 76,
   "id": "21b29000",
   "metadata": {},
   "outputs": [
    {
     "data": {
      "text/plain": [
       "19"
      ]
     },
     "execution_count": 76,
     "metadata": {},
     "output_type": "execute_result"
    }
   ],
   "source": [
    "np.sum(mask)"
   ]
  },
  {
   "cell_type": "code",
   "execution_count": 79,
   "id": "f4910a97",
   "metadata": {},
   "outputs": [
    {
     "data": {
      "text/plain": [
       "19"
      ]
     },
     "execution_count": 79,
     "metadata": {},
     "output_type": "execute_result"
    }
   ],
   "source": [
    "np.sum(new_arr>10)"
   ]
  },
  {
   "cell_type": "code",
   "execution_count": 81,
   "id": "07466f7f",
   "metadata": {},
   "outputs": [
    {
     "data": {
      "text/plain": [
       "array([400,  44,  74,  39,  30,  61,  16,  55,  37,  35,  82,  92,  49,\n",
       "        51,  49,  60,  15,  54,  83])"
      ]
     },
     "execution_count": 81,
     "metadata": {},
     "output_type": "execute_result"
    }
   ],
   "source": [
    "new_arr[mask]"
   ]
  },
  {
   "cell_type": "code",
   "execution_count": 83,
   "id": "e102e44b",
   "metadata": {},
   "outputs": [
    {
     "data": {
      "text/plain": [
       "array([400,  44,  74,  39,  30,  61,  16,  55,  37,  35,  82,  92,  49,\n",
       "        51,  49,  60,  15,  54,  83])"
      ]
     },
     "execution_count": 83,
     "metadata": {},
     "output_type": "execute_result"
    }
   ],
   "source": [
    "new_arr[new_arr>10]"
   ]
  },
  {
   "cell_type": "code",
   "execution_count": 89,
   "id": "a2b8af62",
   "metadata": {},
   "outputs": [],
   "source": [
    "new_arr[2:,-2:] = 0"
   ]
  },
  {
   "cell_type": "code",
   "execution_count": 90,
   "id": "fbfc8606",
   "metadata": {},
   "outputs": [
    {
     "data": {
      "text/plain": [
       "array([[400,  44,  74,  39],\n",
       "       [ 30,  61,  16,  55],\n",
       "       [ 37,  35,   0,   0],\n",
       "       [ 49,  10,   0,   0],\n",
       "       [ 60,  15,   0,   0]])"
      ]
     },
     "execution_count": 90,
     "metadata": {},
     "output_type": "execute_result"
    }
   ],
   "source": [
    "new_arr"
   ]
  },
  {
   "cell_type": "code",
   "execution_count": 92,
   "id": "c30e1a63",
   "metadata": {},
   "outputs": [],
   "source": [
    "a = np.array([10,20,30,40])"
   ]
  },
  {
   "cell_type": "code",
   "execution_count": 94,
   "id": "aff33fb3",
   "metadata": {},
   "outputs": [],
   "source": [
    "b = np.arange(1,5)"
   ]
  },
  {
   "cell_type": "code",
   "execution_count": 95,
   "id": "e41cafa8",
   "metadata": {},
   "outputs": [
    {
     "data": {
      "text/plain": [
       "array([10, 20, 30, 40])"
      ]
     },
     "execution_count": 95,
     "metadata": {},
     "output_type": "execute_result"
    }
   ],
   "source": [
    "a"
   ]
  },
  {
   "cell_type": "code",
   "execution_count": 96,
   "id": "4fbb5768",
   "metadata": {},
   "outputs": [
    {
     "data": {
      "text/plain": [
       "array([1, 2, 3, 4])"
      ]
     },
     "execution_count": 96,
     "metadata": {},
     "output_type": "execute_result"
    }
   ],
   "source": [
    "b"
   ]
  },
  {
   "cell_type": "code",
   "execution_count": 97,
   "id": "3b7e1ffa",
   "metadata": {},
   "outputs": [
    {
     "data": {
      "text/plain": [
       "array([11, 22, 33, 44])"
      ]
     },
     "execution_count": 97,
     "metadata": {},
     "output_type": "execute_result"
    }
   ],
   "source": [
    "a+b"
   ]
  },
  {
   "cell_type": "code",
   "execution_count": 98,
   "id": "5a45a87c",
   "metadata": {},
   "outputs": [
    {
     "data": {
      "text/plain": [
       "array([ 9, 18, 27, 36])"
      ]
     },
     "execution_count": 98,
     "metadata": {},
     "output_type": "execute_result"
    }
   ],
   "source": [
    "a-b"
   ]
  },
  {
   "cell_type": "code",
   "execution_count": 99,
   "id": "b8255255",
   "metadata": {},
   "outputs": [
    {
     "data": {
      "text/plain": [
       "array([ 10,  40,  90, 160])"
      ]
     },
     "execution_count": 99,
     "metadata": {},
     "output_type": "execute_result"
    }
   ],
   "source": [
    "a*b"
   ]
  },
  {
   "cell_type": "code",
   "execution_count": 100,
   "id": "d2987bb3",
   "metadata": {},
   "outputs": [
    {
     "data": {
      "text/plain": [
       "array([10., 10., 10., 10.])"
      ]
     },
     "execution_count": 100,
     "metadata": {},
     "output_type": "execute_result"
    }
   ],
   "source": [
    "a/b"
   ]
  },
  {
   "cell_type": "code",
   "execution_count": 101,
   "id": "19b538db",
   "metadata": {},
   "outputs": [
    {
     "data": {
      "text/plain": [
       "array([ 1,  4,  9, 16], dtype=int32)"
      ]
     },
     "execution_count": 101,
     "metadata": {},
     "output_type": "execute_result"
    }
   ],
   "source": [
    "b**2"
   ]
  },
  {
   "cell_type": "code",
   "execution_count": 102,
   "id": "c81371ed",
   "metadata": {},
   "outputs": [
    {
     "data": {
      "text/plain": [
       "array([False,  True,  True,  True])"
      ]
     },
     "execution_count": 102,
     "metadata": {},
     "output_type": "execute_result"
    }
   ],
   "source": [
    "a>15"
   ]
  },
  {
   "cell_type": "code",
   "execution_count": 103,
   "id": "7d5c074e",
   "metadata": {},
   "outputs": [
    {
     "data": {
      "text/plain": [
       "array([2.30258509, 2.99573227, 3.40119738, 3.68887945])"
      ]
     },
     "execution_count": 103,
     "metadata": {},
     "output_type": "execute_result"
    }
   ],
   "source": [
    "np.log(a)"
   ]
  },
  {
   "cell_type": "code",
   "execution_count": 104,
   "id": "1093a6f7",
   "metadata": {},
   "outputs": [
    {
     "data": {
      "text/plain": [
       "array([ 0.84147098,  0.90929743,  0.14112001, -0.7568025 ])"
      ]
     },
     "execution_count": 104,
     "metadata": {},
     "output_type": "execute_result"
    }
   ],
   "source": [
    "np.sin(b)"
   ]
  },
  {
   "cell_type": "code",
   "execution_count": 107,
   "id": "5f166bb1",
   "metadata": {},
   "outputs": [],
   "source": [
    "A = np.random.randint(0,5,size = (3,4))"
   ]
  },
  {
   "cell_type": "code",
   "execution_count": 109,
   "id": "bb2a4dc2",
   "metadata": {},
   "outputs": [],
   "source": [
    "B = np.random.randint(0,5, (4,3))"
   ]
  },
  {
   "cell_type": "code",
   "execution_count": 110,
   "id": "eaae6b06",
   "metadata": {},
   "outputs": [
    {
     "data": {
      "text/plain": [
       "array([[ 6, 20, 10],\n",
       "       [ 8, 37, 18],\n",
       "       [12, 21, 12]])"
      ]
     },
     "execution_count": 110,
     "metadata": {},
     "output_type": "execute_result"
    }
   ],
   "source": [
    "np.dot(A,B)"
   ]
  },
  {
   "cell_type": "code",
   "execution_count": 112,
   "id": "68f9faaa",
   "metadata": {},
   "outputs": [],
   "source": [
    "A = np.arange(0,24)"
   ]
  },
  {
   "cell_type": "code",
   "execution_count": 113,
   "id": "0bd211c5",
   "metadata": {},
   "outputs": [
    {
     "data": {
      "text/plain": [
       "array([ 0,  1,  2,  3,  4,  5,  6,  7,  8,  9, 10, 11, 12, 13, 14, 15, 16,\n",
       "       17, 18, 19, 20, 21, 22, 23])"
      ]
     },
     "execution_count": 113,
     "metadata": {},
     "output_type": "execute_result"
    }
   ],
   "source": [
    "A"
   ]
  },
  {
   "cell_type": "code",
   "execution_count": 115,
   "id": "fb0cc04c",
   "metadata": {},
   "outputs": [],
   "source": [
    "A = A.reshape(6,4)"
   ]
  },
  {
   "cell_type": "code",
   "execution_count": 116,
   "id": "9c735193",
   "metadata": {},
   "outputs": [
    {
     "data": {
      "text/plain": [
       "array([[ 0,  1,  2,  3],\n",
       "       [ 4,  5,  6,  7],\n",
       "       [ 8,  9, 10, 11],\n",
       "       [12, 13, 14, 15],\n",
       "       [16, 17, 18, 19],\n",
       "       [20, 21, 22, 23]])"
      ]
     },
     "execution_count": 116,
     "metadata": {},
     "output_type": "execute_result"
    }
   ],
   "source": [
    "A"
   ]
  },
  {
   "cell_type": "code",
   "execution_count": 117,
   "id": "a8707f56",
   "metadata": {},
   "outputs": [
    {
     "data": {
      "text/plain": [
       "array([[0.        , 1.        , 1.41421356, 1.73205081],\n",
       "       [2.        , 2.23606798, 2.44948974, 2.64575131],\n",
       "       [2.82842712, 3.        , 3.16227766, 3.31662479],\n",
       "       [3.46410162, 3.60555128, 3.74165739, 3.87298335],\n",
       "       [4.        , 4.12310563, 4.24264069, 4.35889894],\n",
       "       [4.47213595, 4.58257569, 4.69041576, 4.79583152]])"
      ]
     },
     "execution_count": 117,
     "metadata": {},
     "output_type": "execute_result"
    }
   ],
   "source": [
    "np.sqrt(A)"
   ]
  },
  {
   "cell_type": "code",
   "execution_count": 118,
   "id": "37c68c27",
   "metadata": {},
   "outputs": [
    {
     "data": {
      "text/plain": [
       "array([[ 0,  1,  2,  3],\n",
       "       [ 4,  5,  6,  7],\n",
       "       [ 8,  9, 10, 11],\n",
       "       [12, 13, 14, 15],\n",
       "       [16, 17, 18, 19],\n",
       "       [20, 21, 22, 23]])"
      ]
     },
     "execution_count": 118,
     "metadata": {},
     "output_type": "execute_result"
    }
   ],
   "source": [
    "A"
   ]
  },
  {
   "cell_type": "code",
   "execution_count": 119,
   "id": "863c31de",
   "metadata": {},
   "outputs": [
    {
     "data": {
      "text/plain": [
       "276"
      ]
     },
     "execution_count": 119,
     "metadata": {},
     "output_type": "execute_result"
    }
   ],
   "source": [
    "np.sum(A)"
   ]
  },
  {
   "cell_type": "code",
   "execution_count": 120,
   "id": "bf06ec3d",
   "metadata": {},
   "outputs": [
    {
     "data": {
      "text/plain": [
       "0"
      ]
     },
     "execution_count": 120,
     "metadata": {},
     "output_type": "execute_result"
    }
   ],
   "source": [
    "np.min(A)"
   ]
  },
  {
   "cell_type": "code",
   "execution_count": 121,
   "id": "903cb4f9",
   "metadata": {},
   "outputs": [
    {
     "data": {
      "text/plain": [
       "23"
      ]
     },
     "execution_count": 121,
     "metadata": {},
     "output_type": "execute_result"
    }
   ],
   "source": [
    "np.max(A)"
   ]
  },
  {
   "cell_type": "code",
   "execution_count": 122,
   "id": "c296930a",
   "metadata": {},
   "outputs": [
    {
     "data": {
      "text/plain": [
       "11.5"
      ]
     },
     "execution_count": 122,
     "metadata": {},
     "output_type": "execute_result"
    }
   ],
   "source": [
    "np.mean(A)"
   ]
  },
  {
   "cell_type": "code",
   "execution_count": 123,
   "id": "95843d76",
   "metadata": {},
   "outputs": [
    {
     "data": {
      "text/plain": [
       "6.922186552431729"
      ]
     },
     "execution_count": 123,
     "metadata": {},
     "output_type": "execute_result"
    }
   ],
   "source": [
    "np.std(A)"
   ]
  },
  {
   "cell_type": "code",
   "execution_count": 124,
   "id": "34063a2c",
   "metadata": {},
   "outputs": [
    {
     "data": {
      "text/plain": [
       "array([[ 0,  1,  2,  3],\n",
       "       [ 4,  5,  6,  7],\n",
       "       [ 8,  9, 10, 11],\n",
       "       [12, 13, 14, 15],\n",
       "       [16, 17, 18, 19],\n",
       "       [20, 21, 22, 23]])"
      ]
     },
     "execution_count": 124,
     "metadata": {},
     "output_type": "execute_result"
    }
   ],
   "source": [
    "A"
   ]
  },
  {
   "cell_type": "code",
   "execution_count": 126,
   "id": "a1af085e",
   "metadata": {},
   "outputs": [
    {
     "data": {
      "text/plain": [
       "array([60, 66, 72, 78])"
      ]
     },
     "execution_count": 126,
     "metadata": {},
     "output_type": "execute_result"
    }
   ],
   "source": [
    "np.sum(A, axis=0)"
   ]
  },
  {
   "cell_type": "code",
   "execution_count": 127,
   "id": "0b38f5fb",
   "metadata": {},
   "outputs": [
    {
     "data": {
      "text/plain": [
       "array([ 6, 22, 38, 54, 70, 86])"
      ]
     },
     "execution_count": 127,
     "metadata": {},
     "output_type": "execute_result"
    }
   ],
   "source": [
    "np.sum(A,axis=1)"
   ]
  },
  {
   "cell_type": "code",
   "execution_count": 128,
   "id": "a870a4df",
   "metadata": {},
   "outputs": [
    {
     "data": {
      "text/plain": [
       "array([10., 11., 12., 13.])"
      ]
     },
     "execution_count": 128,
     "metadata": {},
     "output_type": "execute_result"
    }
   ],
   "source": [
    "np.mean(A,axis=0)"
   ]
  },
  {
   "cell_type": "code",
   "execution_count": 129,
   "id": "bc52d12b",
   "metadata": {},
   "outputs": [
    {
     "data": {
      "text/plain": [
       "array([ 1.5,  5.5,  9.5, 13.5, 17.5, 21.5])"
      ]
     },
     "execution_count": 129,
     "metadata": {},
     "output_type": "execute_result"
    }
   ],
   "source": [
    "np.mean(A,axis=1)"
   ]
  },
  {
   "cell_type": "code",
   "execution_count": 130,
   "id": "53eec09d",
   "metadata": {},
   "outputs": [
    {
     "data": {
      "text/plain": [
       "array([[ 0,  1,  2,  3],\n",
       "       [ 4,  5,  6,  7],\n",
       "       [ 8,  9, 10, 11],\n",
       "       [12, 13, 14, 15],\n",
       "       [16, 17, 18, 19],\n",
       "       [20, 21, 22, 23]])"
      ]
     },
     "execution_count": 130,
     "metadata": {},
     "output_type": "execute_result"
    }
   ],
   "source": [
    "A"
   ]
  },
  {
   "cell_type": "code",
   "execution_count": 131,
   "id": "32e76345",
   "metadata": {},
   "outputs": [
    {
     "data": {
      "text/plain": [
       "array([ 0,  1,  2,  3,  4,  5,  6,  7,  8,  9, 10, 11, 12, 13, 14, 15, 16,\n",
       "       17, 18, 19, 20, 21, 22, 23])"
      ]
     },
     "execution_count": 131,
     "metadata": {},
     "output_type": "execute_result"
    }
   ],
   "source": [
    "A.flatten()"
   ]
  },
  {
   "cell_type": "code",
   "execution_count": 132,
   "id": "ced4abc0",
   "metadata": {},
   "outputs": [
    {
     "data": {
      "text/plain": [
       "array([[ 0,  1,  2,  3],\n",
       "       [ 4,  5,  6,  7],\n",
       "       [ 8,  9, 10, 11],\n",
       "       [12, 13, 14, 15],\n",
       "       [16, 17, 18, 19],\n",
       "       [20, 21, 22, 23]])"
      ]
     },
     "execution_count": 132,
     "metadata": {},
     "output_type": "execute_result"
    }
   ],
   "source": [
    "A"
   ]
  },
  {
   "cell_type": "code",
   "execution_count": 133,
   "id": "314834b7",
   "metadata": {},
   "outputs": [
    {
     "data": {
      "text/plain": [
       "array([[ 0,  1,  2,  3,  4,  5,  6,  7],\n",
       "       [ 8,  9, 10, 11, 12, 13, 14, 15],\n",
       "       [16, 17, 18, 19, 20, 21, 22, 23]])"
      ]
     },
     "execution_count": 133,
     "metadata": {},
     "output_type": "execute_result"
    }
   ],
   "source": [
    "A.reshape(3,8)"
   ]
  },
  {
   "cell_type": "code",
   "execution_count": 135,
   "id": "3a01de75",
   "metadata": {},
   "outputs": [
    {
     "data": {
      "text/plain": [
       "array([[ 0,  4,  8, 12, 16, 20],\n",
       "       [ 1,  5,  9, 13, 17, 21],\n",
       "       [ 2,  6, 10, 14, 18, 22],\n",
       "       [ 3,  7, 11, 15, 19, 23]])"
      ]
     },
     "execution_count": 135,
     "metadata": {},
     "output_type": "execute_result"
    }
   ],
   "source": [
    "A.T"
   ]
  },
  {
   "cell_type": "code",
   "execution_count": 136,
   "id": "3d52c14b",
   "metadata": {},
   "outputs": [
    {
     "data": {
      "text/plain": [
       "array([[ 0,  4,  8, 12, 16, 20],\n",
       "       [ 1,  5,  9, 13, 17, 21],\n",
       "       [ 2,  6, 10, 14, 18, 22],\n",
       "       [ 3,  7, 11, 15, 19, 23]])"
      ]
     },
     "execution_count": 136,
     "metadata": {},
     "output_type": "execute_result"
    }
   ],
   "source": [
    "np.transpose(A)"
   ]
  },
  {
   "cell_type": "code",
   "execution_count": 137,
   "id": "fc96c193",
   "metadata": {},
   "outputs": [
    {
     "data": {
      "text/plain": [
       "array([[ 0,  1,  2,  3],\n",
       "       [ 4,  5,  6,  7],\n",
       "       [ 8,  9, 10, 11],\n",
       "       [12, 13, 14, 15],\n",
       "       [16, 17, 18, 19],\n",
       "       [20, 21, 22, 23]])"
      ]
     },
     "execution_count": 137,
     "metadata": {},
     "output_type": "execute_result"
    }
   ],
   "source": [
    "A"
   ]
  },
  {
   "cell_type": "code",
   "execution_count": 138,
   "id": "93b13f4c",
   "metadata": {},
   "outputs": [
    {
     "data": {
      "text/plain": [
       "array([[ 0,  4,  8, 12, 16, 20],\n",
       "       [ 1,  5,  9, 13, 17, 21],\n",
       "       [ 2,  6, 10, 14, 18, 22],\n",
       "       [ 3,  7, 11, 15, 19, 23]])"
      ]
     },
     "execution_count": 138,
     "metadata": {},
     "output_type": "execute_result"
    }
   ],
   "source": [
    "np.transpose(A)"
   ]
  },
  {
   "cell_type": "code",
   "execution_count": 140,
   "id": "565d3193",
   "metadata": {},
   "outputs": [],
   "source": [
    "a =np.random.randint(0,10,(2,2))"
   ]
  },
  {
   "cell_type": "code",
   "execution_count": 142,
   "id": "6d43b79a",
   "metadata": {},
   "outputs": [],
   "source": [
    "b = np.random.randint(0,10,(2,2))"
   ]
  },
  {
   "cell_type": "code",
   "execution_count": 143,
   "id": "8f350401",
   "metadata": {},
   "outputs": [
    {
     "data": {
      "text/plain": [
       "array([[7, 0],\n",
       "       [0, 3]])"
      ]
     },
     "execution_count": 143,
     "metadata": {},
     "output_type": "execute_result"
    }
   ],
   "source": [
    "a"
   ]
  },
  {
   "cell_type": "code",
   "execution_count": 144,
   "id": "085c635a",
   "metadata": {},
   "outputs": [
    {
     "data": {
      "text/plain": [
       "array([[7, 7],\n",
       "       [5, 9]])"
      ]
     },
     "execution_count": 144,
     "metadata": {},
     "output_type": "execute_result"
    }
   ],
   "source": [
    "b"
   ]
  },
  {
   "cell_type": "code",
   "execution_count": 146,
   "id": "19185911",
   "metadata": {},
   "outputs": [
    {
     "data": {
      "text/plain": [
       "array([[7, 0],\n",
       "       [0, 3],\n",
       "       [7, 7],\n",
       "       [5, 9]])"
      ]
     },
     "execution_count": 146,
     "metadata": {},
     "output_type": "execute_result"
    }
   ],
   "source": [
    "np.vstack((a,b))"
   ]
  },
  {
   "cell_type": "code",
   "execution_count": 148,
   "id": "c5e32da7",
   "metadata": {},
   "outputs": [
    {
     "data": {
      "text/plain": [
       "array([[7, 0, 7, 7],\n",
       "       [0, 3, 5, 9]])"
      ]
     },
     "execution_count": 148,
     "metadata": {},
     "output_type": "execute_result"
    }
   ],
   "source": [
    "np.hstack((a,b))"
   ]
  },
  {
   "cell_type": "code",
   "execution_count": 150,
   "id": "aa830e18",
   "metadata": {},
   "outputs": [],
   "source": [
    "a = np.random.randint(0,10,(3,3))"
   ]
  },
  {
   "cell_type": "code",
   "execution_count": 151,
   "id": "8e1c0a50",
   "metadata": {},
   "outputs": [],
   "source": [
    "b = np.random.randint(0,10,(4,4))"
   ]
  },
  {
   "cell_type": "code",
   "execution_count": 152,
   "id": "9496c42b",
   "metadata": {},
   "outputs": [
    {
     "data": {
      "text/plain": [
       "array([[5, 0, 5],\n",
       "       [0, 9, 8],\n",
       "       [2, 7, 1]])"
      ]
     },
     "execution_count": 152,
     "metadata": {},
     "output_type": "execute_result"
    }
   ],
   "source": [
    "\n",
    "a"
   ]
  },
  {
   "cell_type": "code",
   "execution_count": 153,
   "id": "b3a56fb6",
   "metadata": {},
   "outputs": [
    {
     "data": {
      "text/plain": [
       "array([[9, 8, 0, 5],\n",
       "       [8, 3, 0, 7],\n",
       "       [5, 4, 8, 9],\n",
       "       [3, 5, 6, 2]])"
      ]
     },
     "execution_count": 153,
     "metadata": {},
     "output_type": "execute_result"
    }
   ],
   "source": [
    "b"
   ]
  },
  {
   "cell_type": "code",
   "execution_count": 154,
   "id": "4829d30e",
   "metadata": {},
   "outputs": [
    {
     "ename": "ValueError",
     "evalue": "operands could not be broadcast together with shapes (3,3) (4,4) ",
     "output_type": "error",
     "traceback": [
      "\u001b[1;31m---------------------------------------------------------------------------\u001b[0m",
      "\u001b[1;31mValueError\u001b[0m                                Traceback (most recent call last)",
      "\u001b[1;32m<ipython-input-154-ca730b97bf8a>\u001b[0m in \u001b[0;36m<module>\u001b[1;34m\u001b[0m\n\u001b[1;32m----> 1\u001b[1;33m \u001b[0ma\u001b[0m\u001b[1;33m+\u001b[0m\u001b[0mb\u001b[0m\u001b[1;33m\u001b[0m\u001b[1;33m\u001b[0m\u001b[0m\n\u001b[0m",
      "\u001b[1;31mValueError\u001b[0m: operands could not be broadcast together with shapes (3,3) (4,4) "
     ]
    }
   ],
   "source": [
    "a+b"
   ]
  },
  {
   "cell_type": "code",
   "execution_count": 155,
   "id": "7ebdfd1e",
   "metadata": {},
   "outputs": [
    {
     "data": {
      "text/plain": [
       "array([[5, 0, 5],\n",
       "       [0, 9, 8],\n",
       "       [2, 7, 1]])"
      ]
     },
     "execution_count": 155,
     "metadata": {},
     "output_type": "execute_result"
    }
   ],
   "source": [
    "a"
   ]
  },
  {
   "cell_type": "code",
   "execution_count": 156,
   "id": "cb4ce146",
   "metadata": {},
   "outputs": [],
   "source": [
    "b = np.array([1,2,3])"
   ]
  },
  {
   "cell_type": "code",
   "execution_count": 157,
   "id": "bd67b47b",
   "metadata": {},
   "outputs": [
    {
     "data": {
      "text/plain": [
       "array([[5, 0, 5],\n",
       "       [0, 9, 8],\n",
       "       [2, 7, 1]])"
      ]
     },
     "execution_count": 157,
     "metadata": {},
     "output_type": "execute_result"
    }
   ],
   "source": [
    "a"
   ]
  },
  {
   "cell_type": "code",
   "execution_count": 158,
   "id": "fcab102f",
   "metadata": {},
   "outputs": [
    {
     "data": {
      "text/plain": [
       "array([1, 2, 3])"
      ]
     },
     "execution_count": 158,
     "metadata": {},
     "output_type": "execute_result"
    }
   ],
   "source": [
    "b"
   ]
  },
  {
   "cell_type": "code",
   "execution_count": 159,
   "id": "c657347c",
   "metadata": {},
   "outputs": [
    {
     "data": {
      "text/plain": [
       "(3, 3)"
      ]
     },
     "execution_count": 159,
     "metadata": {},
     "output_type": "execute_result"
    }
   ],
   "source": [
    "a.shape"
   ]
  },
  {
   "cell_type": "code",
   "execution_count": 160,
   "id": "d4337ee6",
   "metadata": {},
   "outputs": [
    {
     "data": {
      "text/plain": [
       "(3,)"
      ]
     },
     "execution_count": 160,
     "metadata": {},
     "output_type": "execute_result"
    }
   ],
   "source": [
    "b.shape"
   ]
  },
  {
   "cell_type": "code",
   "execution_count": 161,
   "id": "44485d68",
   "metadata": {},
   "outputs": [
    {
     "data": {
      "text/plain": [
       "array([[ 6,  2,  8],\n",
       "       [ 1, 11, 11],\n",
       "       [ 3,  9,  4]])"
      ]
     },
     "execution_count": 161,
     "metadata": {},
     "output_type": "execute_result"
    }
   ],
   "source": [
    "a+b"
   ]
  },
  {
   "cell_type": "code",
   "execution_count": 162,
   "id": "74c1a6ac",
   "metadata": {},
   "outputs": [
    {
     "data": {
      "text/plain": [
       "array([[ 4, -2,  2],\n",
       "       [-1,  7,  5],\n",
       "       [ 1,  5, -2]])"
      ]
     },
     "execution_count": 162,
     "metadata": {},
     "output_type": "execute_result"
    }
   ],
   "source": [
    "a-b"
   ]
  },
  {
   "cell_type": "code",
   "execution_count": 163,
   "id": "f2195dfe",
   "metadata": {},
   "outputs": [
    {
     "data": {
      "text/plain": [
       "array([[ 5,  0, 15],\n",
       "       [ 0, 18, 24],\n",
       "       [ 2, 14,  3]])"
      ]
     },
     "execution_count": 163,
     "metadata": {},
     "output_type": "execute_result"
    }
   ],
   "source": [
    "a*b"
   ]
  },
  {
   "cell_type": "code",
   "execution_count": 164,
   "id": "cd642012",
   "metadata": {},
   "outputs": [
    {
     "data": {
      "text/plain": [
       "array([[5.        , 0.        , 1.66666667],\n",
       "       [0.        , 4.5       , 2.66666667],\n",
       "       [2.        , 3.5       , 0.33333333]])"
      ]
     },
     "execution_count": 164,
     "metadata": {},
     "output_type": "execute_result"
    }
   ],
   "source": [
    "a/b"
   ]
  },
  {
   "cell_type": "code",
   "execution_count": 169,
   "id": "e32885ea",
   "metadata": {},
   "outputs": [
    {
     "data": {
      "text/plain": [
       "array([[ 6,  2,  8],\n",
       "       [ 1, 11, 11],\n",
       "       [ 3,  9,  4]])"
      ]
     },
     "execution_count": 169,
     "metadata": {},
     "output_type": "execute_result"
    }
   ],
   "source": [
    "a + b.T"
   ]
  },
  {
   "cell_type": "code",
   "execution_count": 168,
   "id": "9a1a5976",
   "metadata": {},
   "outputs": [
    {
     "data": {
      "text/plain": [
       "array([1, 2, 3])"
      ]
     },
     "execution_count": 168,
     "metadata": {},
     "output_type": "execute_result"
    }
   ],
   "source": [
    "b.T"
   ]
  },
  {
   "cell_type": "code",
   "execution_count": 170,
   "id": "ed5273ff",
   "metadata": {},
   "outputs": [
    {
     "data": {
      "text/plain": [
       "array([[5, 0, 5],\n",
       "       [0, 9, 8],\n",
       "       [2, 7, 1]])"
      ]
     },
     "execution_count": 170,
     "metadata": {},
     "output_type": "execute_result"
    }
   ],
   "source": [
    "a"
   ]
  },
  {
   "cell_type": "code",
   "execution_count": 171,
   "id": "e63ef6a1",
   "metadata": {},
   "outputs": [
    {
     "data": {
      "text/plain": [
       "array([[10,  5, 10],\n",
       "       [ 5, 14, 13],\n",
       "       [ 7, 12,  6]])"
      ]
     },
     "execution_count": 171,
     "metadata": {},
     "output_type": "execute_result"
    }
   ],
   "source": [
    "a+5"
   ]
  },
  {
   "cell_type": "code",
   "execution_count": 172,
   "id": "cef68685",
   "metadata": {},
   "outputs": [],
   "source": [
    "p1  = np.array([1,2,4,7,-2,9,6,0])"
   ]
  },
  {
   "cell_type": "code",
   "execution_count": 173,
   "id": "7c9f76be",
   "metadata": {},
   "outputs": [],
   "source": [
    "p2  = np.array([5,5,8,2,-9,2,1,6])"
   ]
  },
  {
   "cell_type": "code",
   "execution_count": 174,
   "id": "c71650a6",
   "metadata": {},
   "outputs": [
    {
     "data": {
      "text/plain": [
       "array([ 1,  2,  4,  7, -2,  9,  6,  0])"
      ]
     },
     "execution_count": 174,
     "metadata": {},
     "output_type": "execute_result"
    }
   ],
   "source": [
    "p1"
   ]
  },
  {
   "cell_type": "code",
   "execution_count": 175,
   "id": "176ddf4d",
   "metadata": {},
   "outputs": [
    {
     "data": {
      "text/plain": [
       "array([ 5,  5,  8,  2, -9,  2,  1,  6])"
      ]
     },
     "execution_count": 175,
     "metadata": {},
     "output_type": "execute_result"
    }
   ],
   "source": [
    "p2"
   ]
  },
  {
   "cell_type": "code",
   "execution_count": 181,
   "id": "76fa266c",
   "metadata": {},
   "outputs": [
    {
     "data": {
      "text/plain": [
       "15.0"
      ]
     },
     "execution_count": 181,
     "metadata": {},
     "output_type": "execute_result"
    }
   ],
   "source": [
    "np.sqrt(np.sum((p2-p1)**2))"
   ]
  },
  {
   "cell_type": "code",
   "execution_count": 182,
   "id": "3b7226b9",
   "metadata": {},
   "outputs": [],
   "source": [
    "def distance(p1,p2):\n",
    "    return np.sqrt(np.sum((p2-p1)**2))"
   ]
  },
  {
   "cell_type": "code",
   "execution_count": 183,
   "id": "ecd4dc04",
   "metadata": {},
   "outputs": [
    {
     "data": {
      "text/plain": [
       "15.0"
      ]
     },
     "execution_count": 183,
     "metadata": {},
     "output_type": "execute_result"
    }
   ],
   "source": [
    "distance(p1,p2)"
   ]
  },
  {
   "cell_type": "code",
   "execution_count": 184,
   "id": "0d8da70e",
   "metadata": {},
   "outputs": [
    {
     "data": {
      "text/plain": [
       "array([ 1,  2,  4,  7, -2,  9,  6,  0])"
      ]
     },
     "execution_count": 184,
     "metadata": {},
     "output_type": "execute_result"
    }
   ],
   "source": [
    "p1"
   ]
  },
  {
   "cell_type": "code",
   "execution_count": 185,
   "id": "51e458b9",
   "metadata": {},
   "outputs": [
    {
     "data": {
      "text/plain": [
       "array([ 5,  5,  8,  2, -9,  2,  1,  6])"
      ]
     },
     "execution_count": 185,
     "metadata": {},
     "output_type": "execute_result"
    }
   ],
   "source": [
    "p2"
   ]
  },
  {
   "cell_type": "code",
   "execution_count": 187,
   "id": "8d11539a",
   "metadata": {},
   "outputs": [
    {
     "name": "stdout",
     "output_type": "stream",
     "text": [
      "15.0\n"
     ]
    }
   ],
   "source": [
    "s = 0\n",
    "for i in range(8):\n",
    "    s+=(p2[i] - p1[i])**2\n",
    "    \n",
    "print(s**0.5)"
   ]
  },
  {
   "cell_type": "code",
   "execution_count": 188,
   "id": "835f3f82",
   "metadata": {},
   "outputs": [],
   "source": [
    "#Assignment"
   ]
  },
  {
   "cell_type": "code",
   "execution_count": null,
   "id": "fa3b6a56",
   "metadata": {},
   "outputs": [],
   "source": []
  },
  {
   "cell_type": "code",
   "execution_count": 189,
   "id": "5e4df4e5",
   "metadata": {},
   "outputs": [
    {
     "name": "stdout",
     "output_type": "stream",
     "text": [
      "Requirement already satisfied: pandas in c:\\users\\skme2\\anaconda3\\lib\\site-packages (0.25.3)\n",
      "Requirement already satisfied: python-dateutil>=2.6.1 in c:\\users\\skme2\\anaconda3\\lib\\site-packages (from pandas) (2.8.1)\n",
      "Requirement already satisfied: pytz>=2017.2 in c:\\users\\skme2\\anaconda3\\lib\\site-packages (from pandas) (2021.1)\n",
      "Requirement already satisfied: numpy>=1.13.3 in c:\\users\\skme2\\anaconda3\\lib\\site-packages (from pandas) (1.20.1)\n",
      "Requirement already satisfied: six>=1.5 in c:\\users\\skme2\\anaconda3\\lib\\site-packages (from python-dateutil>=2.6.1->pandas) (1.15.0)\n"
     ]
    },
    {
     "name": "stderr",
     "output_type": "stream",
     "text": [
      "WARNING: Ignoring invalid distribution -atplotlib (c:\\users\\skme2\\anaconda3\\lib\\site-packages)\n",
      "WARNING: Ignoring invalid distribution -atplotlib (c:\\users\\skme2\\anaconda3\\lib\\site-packages)\n"
     ]
    }
   ],
   "source": [
    "!pip install pandas"
   ]
  },
  {
   "cell_type": "code",
   "execution_count": 190,
   "id": "00d2d74c",
   "metadata": {},
   "outputs": [],
   "source": [
    "import pandas as pd"
   ]
  },
  {
   "cell_type": "code",
   "execution_count": 191,
   "id": "2a1a2434",
   "metadata": {},
   "outputs": [],
   "source": [
    "o = ['c++', 'java', 'python', 'javscript']"
   ]
  },
  {
   "cell_type": "code",
   "execution_count": 192,
   "id": "3edc7dad",
   "metadata": {},
   "outputs": [
    {
     "data": {
      "text/plain": [
       "list"
      ]
     },
     "execution_count": 192,
     "metadata": {},
     "output_type": "execute_result"
    }
   ],
   "source": [
    "type(o)"
   ]
  },
  {
   "cell_type": "code",
   "execution_count": 194,
   "id": "1fb19bd5",
   "metadata": {},
   "outputs": [],
   "source": [
    "n = pd.Series(o)"
   ]
  },
  {
   "cell_type": "code",
   "execution_count": 195,
   "id": "e77c1b06",
   "metadata": {},
   "outputs": [
    {
     "data": {
      "text/plain": [
       "pandas.core.series.Series"
      ]
     },
     "execution_count": 195,
     "metadata": {},
     "output_type": "execute_result"
    }
   ],
   "source": [
    "type(n)"
   ]
  },
  {
   "cell_type": "code",
   "execution_count": 196,
   "id": "be969ecc",
   "metadata": {},
   "outputs": [
    {
     "data": {
      "text/plain": [
       "0          c++\n",
       "1         java\n",
       "2       python\n",
       "3    javscript\n",
       "dtype: object"
      ]
     },
     "execution_count": 196,
     "metadata": {},
     "output_type": "execute_result"
    }
   ],
   "source": [
    "n"
   ]
  },
  {
   "cell_type": "code",
   "execution_count": 197,
   "id": "9eb0b264",
   "metadata": {},
   "outputs": [
    {
     "data": {
      "text/plain": [
       "'python'"
      ]
     },
     "execution_count": 197,
     "metadata": {},
     "output_type": "execute_result"
    }
   ],
   "source": [
    "n[2]"
   ]
  },
  {
   "cell_type": "code",
   "execution_count": 198,
   "id": "e48529b8",
   "metadata": {},
   "outputs": [
    {
     "data": {
      "text/plain": [
       "'javscript'"
      ]
     },
     "execution_count": 198,
     "metadata": {},
     "output_type": "execute_result"
    }
   ],
   "source": [
    "n[3]"
   ]
  },
  {
   "cell_type": "code",
   "execution_count": 199,
   "id": "7ce48f44",
   "metadata": {},
   "outputs": [
    {
     "data": {
      "text/plain": [
       "'c++'"
      ]
     },
     "execution_count": 199,
     "metadata": {},
     "output_type": "execute_result"
    }
   ],
   "source": [
    "n[0]"
   ]
  },
  {
   "cell_type": "code",
   "execution_count": 203,
   "id": "ade987b1",
   "metadata": {},
   "outputs": [],
   "source": [
    "n.index = ['a', 'b', 'c', 'd']"
   ]
  },
  {
   "cell_type": "code",
   "execution_count": 204,
   "id": "013e216d",
   "metadata": {},
   "outputs": [
    {
     "data": {
      "text/plain": [
       "a          c++\n",
       "b         java\n",
       "c       python\n",
       "d    javscript\n",
       "dtype: object"
      ]
     },
     "execution_count": 204,
     "metadata": {},
     "output_type": "execute_result"
    }
   ],
   "source": [
    "n"
   ]
  },
  {
   "cell_type": "code",
   "execution_count": 205,
   "id": "1fd618f8",
   "metadata": {},
   "outputs": [
    {
     "data": {
      "text/plain": [
       "'python'"
      ]
     },
     "execution_count": 205,
     "metadata": {},
     "output_type": "execute_result"
    }
   ],
   "source": [
    "n[2]"
   ]
  },
  {
   "cell_type": "code",
   "execution_count": 206,
   "id": "79a73e6d",
   "metadata": {},
   "outputs": [
    {
     "data": {
      "text/plain": [
       "'python'"
      ]
     },
     "execution_count": 206,
     "metadata": {},
     "output_type": "execute_result"
    }
   ],
   "source": [
    "n['c']"
   ]
  },
  {
   "cell_type": "code",
   "execution_count": 207,
   "id": "1953e830",
   "metadata": {},
   "outputs": [],
   "source": [
    "import numpy as np"
   ]
  },
  {
   "cell_type": "code",
   "execution_count": 210,
   "id": "b4475ab8",
   "metadata": {},
   "outputs": [],
   "source": [
    "arr = np.random.randint(10,100, size = (6,4))"
   ]
  },
  {
   "cell_type": "code",
   "execution_count": 211,
   "id": "6736137f",
   "metadata": {},
   "outputs": [
    {
     "data": {
      "text/plain": [
       "array([[69, 11, 91, 69],\n",
       "       [93, 51, 53, 32],\n",
       "       [93, 10, 16, 44],\n",
       "       [73, 89, 68, 41],\n",
       "       [34, 74, 85, 79],\n",
       "       [51, 89, 91, 61]])"
      ]
     },
     "execution_count": 211,
     "metadata": {},
     "output_type": "execute_result"
    }
   ],
   "source": [
    "arr"
   ]
  },
  {
   "cell_type": "code",
   "execution_count": 213,
   "id": "66e2eed7",
   "metadata": {},
   "outputs": [],
   "source": [
    "df = pd.DataFrame(data=arr)"
   ]
  },
  {
   "cell_type": "code",
   "execution_count": 214,
   "id": "330b8a36",
   "metadata": {},
   "outputs": [
    {
     "data": {
      "text/plain": [
       "pandas.core.frame.DataFrame"
      ]
     },
     "execution_count": 214,
     "metadata": {},
     "output_type": "execute_result"
    }
   ],
   "source": [
    "type(df)"
   ]
  },
  {
   "cell_type": "code",
   "execution_count": 216,
   "id": "69e42e70",
   "metadata": {},
   "outputs": [
    {
     "data": {
      "text/plain": [
       "0    91\n",
       "1    53\n",
       "2    16\n",
       "3    68\n",
       "4    85\n",
       "5    91\n",
       "Name: 2, dtype: int32"
      ]
     },
     "execution_count": 216,
     "metadata": {},
     "output_type": "execute_result"
    }
   ],
   "source": [
    "df[2]"
   ]
  },
  {
   "cell_type": "code",
   "execution_count": 217,
   "id": "9a82c944",
   "metadata": {},
   "outputs": [
    {
     "data": {
      "text/plain": [
       "0    69\n",
       "1    32\n",
       "2    44\n",
       "3    41\n",
       "4    79\n",
       "5    61\n",
       "Name: 3, dtype: int32"
      ]
     },
     "execution_count": 217,
     "metadata": {},
     "output_type": "execute_result"
    }
   ],
   "source": [
    "df[3]"
   ]
  },
  {
   "cell_type": "code",
   "execution_count": 219,
   "id": "27358953",
   "metadata": {},
   "outputs": [
    {
     "data": {
      "text/plain": [
       "pandas.core.series.Series"
      ]
     },
     "execution_count": 219,
     "metadata": {},
     "output_type": "execute_result"
    }
   ],
   "source": [
    "type(df[0])"
   ]
  },
  {
   "cell_type": "code",
   "execution_count": 222,
   "id": "6a86010a",
   "metadata": {},
   "outputs": [],
   "source": [
    "df.columns = ['A','B', 'C', 'D']"
   ]
  },
  {
   "cell_type": "code",
   "execution_count": 223,
   "id": "3c059397",
   "metadata": {},
   "outputs": [
    {
     "data": {
      "text/html": [
       "<div>\n",
       "<style scoped>\n",
       "    .dataframe tbody tr th:only-of-type {\n",
       "        vertical-align: middle;\n",
       "    }\n",
       "\n",
       "    .dataframe tbody tr th {\n",
       "        vertical-align: top;\n",
       "    }\n",
       "\n",
       "    .dataframe thead th {\n",
       "        text-align: right;\n",
       "    }\n",
       "</style>\n",
       "<table border=\"1\" class=\"dataframe\">\n",
       "  <thead>\n",
       "    <tr style=\"text-align: right;\">\n",
       "      <th></th>\n",
       "      <th>A</th>\n",
       "      <th>B</th>\n",
       "      <th>C</th>\n",
       "      <th>D</th>\n",
       "    </tr>\n",
       "  </thead>\n",
       "  <tbody>\n",
       "    <tr>\n",
       "      <th>0</th>\n",
       "      <td>69</td>\n",
       "      <td>11</td>\n",
       "      <td>91</td>\n",
       "      <td>69</td>\n",
       "    </tr>\n",
       "    <tr>\n",
       "      <th>1</th>\n",
       "      <td>93</td>\n",
       "      <td>51</td>\n",
       "      <td>53</td>\n",
       "      <td>32</td>\n",
       "    </tr>\n",
       "    <tr>\n",
       "      <th>2</th>\n",
       "      <td>93</td>\n",
       "      <td>10</td>\n",
       "      <td>16</td>\n",
       "      <td>44</td>\n",
       "    </tr>\n",
       "    <tr>\n",
       "      <th>3</th>\n",
       "      <td>73</td>\n",
       "      <td>89</td>\n",
       "      <td>68</td>\n",
       "      <td>41</td>\n",
       "    </tr>\n",
       "    <tr>\n",
       "      <th>4</th>\n",
       "      <td>34</td>\n",
       "      <td>74</td>\n",
       "      <td>85</td>\n",
       "      <td>79</td>\n",
       "    </tr>\n",
       "    <tr>\n",
       "      <th>5</th>\n",
       "      <td>51</td>\n",
       "      <td>89</td>\n",
       "      <td>91</td>\n",
       "      <td>61</td>\n",
       "    </tr>\n",
       "  </tbody>\n",
       "</table>\n",
       "</div>"
      ],
      "text/plain": [
       "    A   B   C   D\n",
       "0  69  11  91  69\n",
       "1  93  51  53  32\n",
       "2  93  10  16  44\n",
       "3  73  89  68  41\n",
       "4  34  74  85  79\n",
       "5  51  89  91  61"
      ]
     },
     "execution_count": 223,
     "metadata": {},
     "output_type": "execute_result"
    }
   ],
   "source": [
    "df"
   ]
  },
  {
   "cell_type": "code",
   "execution_count": 224,
   "id": "d6915cd2",
   "metadata": {},
   "outputs": [
    {
     "data": {
      "text/plain": [
       "0    69\n",
       "1    32\n",
       "2    44\n",
       "3    41\n",
       "4    79\n",
       "5    61\n",
       "Name: D, dtype: int32"
      ]
     },
     "execution_count": 224,
     "metadata": {},
     "output_type": "execute_result"
    }
   ],
   "source": [
    "df['D']"
   ]
  },
  {
   "cell_type": "code",
   "execution_count": 225,
   "id": "a67c45e1",
   "metadata": {},
   "outputs": [
    {
     "data": {
      "text/plain": [
       "0    91\n",
       "1    53\n",
       "2    16\n",
       "3    68\n",
       "4    85\n",
       "5    91\n",
       "Name: C, dtype: int32"
      ]
     },
     "execution_count": 225,
     "metadata": {},
     "output_type": "execute_result"
    }
   ],
   "source": [
    "\n",
    "df['C']"
   ]
  },
  {
   "cell_type": "code",
   "execution_count": 226,
   "id": "6303a04f",
   "metadata": {},
   "outputs": [
    {
     "data": {
      "text/plain": [
       "(6, 4)"
      ]
     },
     "execution_count": 226,
     "metadata": {},
     "output_type": "execute_result"
    }
   ],
   "source": [
    "df.shape"
   ]
  },
  {
   "cell_type": "code",
   "execution_count": 230,
   "id": "fa912d90",
   "metadata": {},
   "outputs": [
    {
     "data": {
      "text/html": [
       "<div>\n",
       "<style scoped>\n",
       "    .dataframe tbody tr th:only-of-type {\n",
       "        vertical-align: middle;\n",
       "    }\n",
       "\n",
       "    .dataframe tbody tr th {\n",
       "        vertical-align: top;\n",
       "    }\n",
       "\n",
       "    .dataframe thead th {\n",
       "        text-align: right;\n",
       "    }\n",
       "</style>\n",
       "<table border=\"1\" class=\"dataframe\">\n",
       "  <thead>\n",
       "    <tr style=\"text-align: right;\">\n",
       "      <th></th>\n",
       "      <th>A</th>\n",
       "      <th>B</th>\n",
       "      <th>C</th>\n",
       "      <th>D</th>\n",
       "    </tr>\n",
       "  </thead>\n",
       "  <tbody>\n",
       "    <tr>\n",
       "      <th>0</th>\n",
       "      <td>69</td>\n",
       "      <td>11</td>\n",
       "      <td>91</td>\n",
       "      <td>69</td>\n",
       "    </tr>\n",
       "    <tr>\n",
       "      <th>1</th>\n",
       "      <td>93</td>\n",
       "      <td>51</td>\n",
       "      <td>53</td>\n",
       "      <td>32</td>\n",
       "    </tr>\n",
       "    <tr>\n",
       "      <th>2</th>\n",
       "      <td>93</td>\n",
       "      <td>10</td>\n",
       "      <td>16</td>\n",
       "      <td>44</td>\n",
       "    </tr>\n",
       "  </tbody>\n",
       "</table>\n",
       "</div>"
      ],
      "text/plain": [
       "    A   B   C   D\n",
       "0  69  11  91  69\n",
       "1  93  51  53  32\n",
       "2  93  10  16  44"
      ]
     },
     "execution_count": 230,
     "metadata": {},
     "output_type": "execute_result"
    }
   ],
   "source": [
    "df.head(3)"
   ]
  },
  {
   "cell_type": "code",
   "execution_count": 231,
   "id": "068c2e7e",
   "metadata": {},
   "outputs": [
    {
     "data": {
      "text/html": [
       "<div>\n",
       "<style scoped>\n",
       "    .dataframe tbody tr th:only-of-type {\n",
       "        vertical-align: middle;\n",
       "    }\n",
       "\n",
       "    .dataframe tbody tr th {\n",
       "        vertical-align: top;\n",
       "    }\n",
       "\n",
       "    .dataframe thead th {\n",
       "        text-align: right;\n",
       "    }\n",
       "</style>\n",
       "<table border=\"1\" class=\"dataframe\">\n",
       "  <thead>\n",
       "    <tr style=\"text-align: right;\">\n",
       "      <th></th>\n",
       "      <th>A</th>\n",
       "      <th>B</th>\n",
       "      <th>C</th>\n",
       "      <th>D</th>\n",
       "    </tr>\n",
       "  </thead>\n",
       "  <tbody>\n",
       "    <tr>\n",
       "      <th>0</th>\n",
       "      <td>69</td>\n",
       "      <td>11</td>\n",
       "      <td>91</td>\n",
       "      <td>69</td>\n",
       "    </tr>\n",
       "    <tr>\n",
       "      <th>1</th>\n",
       "      <td>93</td>\n",
       "      <td>51</td>\n",
       "      <td>53</td>\n",
       "      <td>32</td>\n",
       "    </tr>\n",
       "    <tr>\n",
       "      <th>2</th>\n",
       "      <td>93</td>\n",
       "      <td>10</td>\n",
       "      <td>16</td>\n",
       "      <td>44</td>\n",
       "    </tr>\n",
       "    <tr>\n",
       "      <th>3</th>\n",
       "      <td>73</td>\n",
       "      <td>89</td>\n",
       "      <td>68</td>\n",
       "      <td>41</td>\n",
       "    </tr>\n",
       "    <tr>\n",
       "      <th>4</th>\n",
       "      <td>34</td>\n",
       "      <td>74</td>\n",
       "      <td>85</td>\n",
       "      <td>79</td>\n",
       "    </tr>\n",
       "    <tr>\n",
       "      <th>5</th>\n",
       "      <td>51</td>\n",
       "      <td>89</td>\n",
       "      <td>91</td>\n",
       "      <td>61</td>\n",
       "    </tr>\n",
       "  </tbody>\n",
       "</table>\n",
       "</div>"
      ],
      "text/plain": [
       "    A   B   C   D\n",
       "0  69  11  91  69\n",
       "1  93  51  53  32\n",
       "2  93  10  16  44\n",
       "3  73  89  68  41\n",
       "4  34  74  85  79\n",
       "5  51  89  91  61"
      ]
     },
     "execution_count": 231,
     "metadata": {},
     "output_type": "execute_result"
    }
   ],
   "source": [
    "df.tail(6)"
   ]
  },
  {
   "cell_type": "code",
   "execution_count": 232,
   "id": "ff54a34b",
   "metadata": {},
   "outputs": [
    {
     "data": {
      "text/plain": [
       "0    91\n",
       "1    53\n",
       "2    16\n",
       "3    68\n",
       "4    85\n",
       "5    91\n",
       "Name: C, dtype: int32"
      ]
     },
     "execution_count": 232,
     "metadata": {},
     "output_type": "execute_result"
    }
   ],
   "source": [
    "df['C']"
   ]
  },
  {
   "cell_type": "code",
   "execution_count": 234,
   "id": "22c34830",
   "metadata": {},
   "outputs": [
    {
     "data": {
      "text/html": [
       "<div>\n",
       "<style scoped>\n",
       "    .dataframe tbody tr th:only-of-type {\n",
       "        vertical-align: middle;\n",
       "    }\n",
       "\n",
       "    .dataframe tbody tr th {\n",
       "        vertical-align: top;\n",
       "    }\n",
       "\n",
       "    .dataframe thead th {\n",
       "        text-align: right;\n",
       "    }\n",
       "</style>\n",
       "<table border=\"1\" class=\"dataframe\">\n",
       "  <thead>\n",
       "    <tr style=\"text-align: right;\">\n",
       "      <th></th>\n",
       "      <th>C</th>\n",
       "      <th>D</th>\n",
       "    </tr>\n",
       "  </thead>\n",
       "  <tbody>\n",
       "    <tr>\n",
       "      <th>0</th>\n",
       "      <td>91</td>\n",
       "      <td>69</td>\n",
       "    </tr>\n",
       "    <tr>\n",
       "      <th>1</th>\n",
       "      <td>53</td>\n",
       "      <td>32</td>\n",
       "    </tr>\n",
       "    <tr>\n",
       "      <th>2</th>\n",
       "      <td>16</td>\n",
       "      <td>44</td>\n",
       "    </tr>\n",
       "    <tr>\n",
       "      <th>3</th>\n",
       "      <td>68</td>\n",
       "      <td>41</td>\n",
       "    </tr>\n",
       "    <tr>\n",
       "      <th>4</th>\n",
       "      <td>85</td>\n",
       "      <td>79</td>\n",
       "    </tr>\n",
       "    <tr>\n",
       "      <th>5</th>\n",
       "      <td>91</td>\n",
       "      <td>61</td>\n",
       "    </tr>\n",
       "  </tbody>\n",
       "</table>\n",
       "</div>"
      ],
      "text/plain": [
       "    C   D\n",
       "0  91  69\n",
       "1  53  32\n",
       "2  16  44\n",
       "3  68  41\n",
       "4  85  79\n",
       "5  91  61"
      ]
     },
     "execution_count": 234,
     "metadata": {},
     "output_type": "execute_result"
    }
   ],
   "source": [
    "df[['C', 'D']]"
   ]
  },
  {
   "cell_type": "code",
   "execution_count": 237,
   "id": "212374a6",
   "metadata": {},
   "outputs": [
    {
     "data": {
      "text/html": [
       "<div>\n",
       "<style scoped>\n",
       "    .dataframe tbody tr th:only-of-type {\n",
       "        vertical-align: middle;\n",
       "    }\n",
       "\n",
       "    .dataframe tbody tr th {\n",
       "        vertical-align: top;\n",
       "    }\n",
       "\n",
       "    .dataframe thead th {\n",
       "        text-align: right;\n",
       "    }\n",
       "</style>\n",
       "<table border=\"1\" class=\"dataframe\">\n",
       "  <thead>\n",
       "    <tr style=\"text-align: right;\">\n",
       "      <th></th>\n",
       "      <th>D</th>\n",
       "      <th>B</th>\n",
       "      <th>C</th>\n",
       "    </tr>\n",
       "  </thead>\n",
       "  <tbody>\n",
       "    <tr>\n",
       "      <th>0</th>\n",
       "      <td>69</td>\n",
       "      <td>11</td>\n",
       "      <td>91</td>\n",
       "    </tr>\n",
       "    <tr>\n",
       "      <th>1</th>\n",
       "      <td>32</td>\n",
       "      <td>51</td>\n",
       "      <td>53</td>\n",
       "    </tr>\n",
       "    <tr>\n",
       "      <th>2</th>\n",
       "      <td>44</td>\n",
       "      <td>10</td>\n",
       "      <td>16</td>\n",
       "    </tr>\n",
       "    <tr>\n",
       "      <th>3</th>\n",
       "      <td>41</td>\n",
       "      <td>89</td>\n",
       "      <td>68</td>\n",
       "    </tr>\n",
       "    <tr>\n",
       "      <th>4</th>\n",
       "      <td>79</td>\n",
       "      <td>74</td>\n",
       "      <td>85</td>\n",
       "    </tr>\n",
       "    <tr>\n",
       "      <th>5</th>\n",
       "      <td>61</td>\n",
       "      <td>89</td>\n",
       "      <td>91</td>\n",
       "    </tr>\n",
       "  </tbody>\n",
       "</table>\n",
       "</div>"
      ],
      "text/plain": [
       "    D   B   C\n",
       "0  69  11  91\n",
       "1  32  51  53\n",
       "2  44  10  16\n",
       "3  41  89  68\n",
       "4  79  74  85\n",
       "5  61  89  91"
      ]
     },
     "execution_count": 237,
     "metadata": {},
     "output_type": "execute_result"
    }
   ],
   "source": [
    "df[['D','B','C']]"
   ]
  },
  {
   "cell_type": "code",
   "execution_count": 238,
   "id": "8e34df1d",
   "metadata": {},
   "outputs": [
    {
     "data": {
      "text/html": [
       "<div>\n",
       "<style scoped>\n",
       "    .dataframe tbody tr th:only-of-type {\n",
       "        vertical-align: middle;\n",
       "    }\n",
       "\n",
       "    .dataframe tbody tr th {\n",
       "        vertical-align: top;\n",
       "    }\n",
       "\n",
       "    .dataframe thead th {\n",
       "        text-align: right;\n",
       "    }\n",
       "</style>\n",
       "<table border=\"1\" class=\"dataframe\">\n",
       "  <thead>\n",
       "    <tr style=\"text-align: right;\">\n",
       "      <th></th>\n",
       "      <th>A</th>\n",
       "      <th>B</th>\n",
       "      <th>C</th>\n",
       "      <th>D</th>\n",
       "    </tr>\n",
       "  </thead>\n",
       "  <tbody>\n",
       "    <tr>\n",
       "      <th>0</th>\n",
       "      <td>69</td>\n",
       "      <td>11</td>\n",
       "      <td>91</td>\n",
       "      <td>69</td>\n",
       "    </tr>\n",
       "    <tr>\n",
       "      <th>1</th>\n",
       "      <td>93</td>\n",
       "      <td>51</td>\n",
       "      <td>53</td>\n",
       "      <td>32</td>\n",
       "    </tr>\n",
       "    <tr>\n",
       "      <th>2</th>\n",
       "      <td>93</td>\n",
       "      <td>10</td>\n",
       "      <td>16</td>\n",
       "      <td>44</td>\n",
       "    </tr>\n",
       "    <tr>\n",
       "      <th>3</th>\n",
       "      <td>73</td>\n",
       "      <td>89</td>\n",
       "      <td>68</td>\n",
       "      <td>41</td>\n",
       "    </tr>\n",
       "    <tr>\n",
       "      <th>4</th>\n",
       "      <td>34</td>\n",
       "      <td>74</td>\n",
       "      <td>85</td>\n",
       "      <td>79</td>\n",
       "    </tr>\n",
       "    <tr>\n",
       "      <th>5</th>\n",
       "      <td>51</td>\n",
       "      <td>89</td>\n",
       "      <td>91</td>\n",
       "      <td>61</td>\n",
       "    </tr>\n",
       "  </tbody>\n",
       "</table>\n",
       "</div>"
      ],
      "text/plain": [
       "    A   B   C   D\n",
       "0  69  11  91  69\n",
       "1  93  51  53  32\n",
       "2  93  10  16  44\n",
       "3  73  89  68  41\n",
       "4  34  74  85  79\n",
       "5  51  89  91  61"
      ]
     },
     "execution_count": 238,
     "metadata": {},
     "output_type": "execute_result"
    }
   ],
   "source": [
    "df"
   ]
  },
  {
   "cell_type": "code",
   "execution_count": 239,
   "id": "fcdc836d",
   "metadata": {},
   "outputs": [],
   "source": [
    "df['A+B'] = df['A'] + df['B']"
   ]
  },
  {
   "cell_type": "code",
   "execution_count": 240,
   "id": "d3ca409d",
   "metadata": {},
   "outputs": [
    {
     "data": {
      "text/html": [
       "<div>\n",
       "<style scoped>\n",
       "    .dataframe tbody tr th:only-of-type {\n",
       "        vertical-align: middle;\n",
       "    }\n",
       "\n",
       "    .dataframe tbody tr th {\n",
       "        vertical-align: top;\n",
       "    }\n",
       "\n",
       "    .dataframe thead th {\n",
       "        text-align: right;\n",
       "    }\n",
       "</style>\n",
       "<table border=\"1\" class=\"dataframe\">\n",
       "  <thead>\n",
       "    <tr style=\"text-align: right;\">\n",
       "      <th></th>\n",
       "      <th>A</th>\n",
       "      <th>B</th>\n",
       "      <th>C</th>\n",
       "      <th>D</th>\n",
       "      <th>A+B</th>\n",
       "    </tr>\n",
       "  </thead>\n",
       "  <tbody>\n",
       "    <tr>\n",
       "      <th>0</th>\n",
       "      <td>69</td>\n",
       "      <td>11</td>\n",
       "      <td>91</td>\n",
       "      <td>69</td>\n",
       "      <td>80</td>\n",
       "    </tr>\n",
       "    <tr>\n",
       "      <th>1</th>\n",
       "      <td>93</td>\n",
       "      <td>51</td>\n",
       "      <td>53</td>\n",
       "      <td>32</td>\n",
       "      <td>144</td>\n",
       "    </tr>\n",
       "    <tr>\n",
       "      <th>2</th>\n",
       "      <td>93</td>\n",
       "      <td>10</td>\n",
       "      <td>16</td>\n",
       "      <td>44</td>\n",
       "      <td>103</td>\n",
       "    </tr>\n",
       "    <tr>\n",
       "      <th>3</th>\n",
       "      <td>73</td>\n",
       "      <td>89</td>\n",
       "      <td>68</td>\n",
       "      <td>41</td>\n",
       "      <td>162</td>\n",
       "    </tr>\n",
       "    <tr>\n",
       "      <th>4</th>\n",
       "      <td>34</td>\n",
       "      <td>74</td>\n",
       "      <td>85</td>\n",
       "      <td>79</td>\n",
       "      <td>108</td>\n",
       "    </tr>\n",
       "    <tr>\n",
       "      <th>5</th>\n",
       "      <td>51</td>\n",
       "      <td>89</td>\n",
       "      <td>91</td>\n",
       "      <td>61</td>\n",
       "      <td>140</td>\n",
       "    </tr>\n",
       "  </tbody>\n",
       "</table>\n",
       "</div>"
      ],
      "text/plain": [
       "    A   B   C   D  A+B\n",
       "0  69  11  91  69   80\n",
       "1  93  51  53  32  144\n",
       "2  93  10  16  44  103\n",
       "3  73  89  68  41  162\n",
       "4  34  74  85  79  108\n",
       "5  51  89  91  61  140"
      ]
     },
     "execution_count": 240,
     "metadata": {},
     "output_type": "execute_result"
    }
   ],
   "source": [
    "df\n"
   ]
  },
  {
   "cell_type": "code",
   "execution_count": 243,
   "id": "96f8e3c4",
   "metadata": {},
   "outputs": [],
   "source": [
    "df['C*D'] = df['C'] * df['D']"
   ]
  },
  {
   "cell_type": "code",
   "execution_count": 244,
   "id": "4f824b98",
   "metadata": {},
   "outputs": [
    {
     "data": {
      "text/html": [
       "<div>\n",
       "<style scoped>\n",
       "    .dataframe tbody tr th:only-of-type {\n",
       "        vertical-align: middle;\n",
       "    }\n",
       "\n",
       "    .dataframe tbody tr th {\n",
       "        vertical-align: top;\n",
       "    }\n",
       "\n",
       "    .dataframe thead th {\n",
       "        text-align: right;\n",
       "    }\n",
       "</style>\n",
       "<table border=\"1\" class=\"dataframe\">\n",
       "  <thead>\n",
       "    <tr style=\"text-align: right;\">\n",
       "      <th></th>\n",
       "      <th>A</th>\n",
       "      <th>B</th>\n",
       "      <th>C</th>\n",
       "      <th>D</th>\n",
       "      <th>A+B</th>\n",
       "      <th>C*d</th>\n",
       "      <th>C*D</th>\n",
       "    </tr>\n",
       "  </thead>\n",
       "  <tbody>\n",
       "    <tr>\n",
       "      <th>0</th>\n",
       "      <td>69</td>\n",
       "      <td>11</td>\n",
       "      <td>91</td>\n",
       "      <td>69</td>\n",
       "      <td>80</td>\n",
       "      <td>6279</td>\n",
       "      <td>6279</td>\n",
       "    </tr>\n",
       "    <tr>\n",
       "      <th>1</th>\n",
       "      <td>93</td>\n",
       "      <td>51</td>\n",
       "      <td>53</td>\n",
       "      <td>32</td>\n",
       "      <td>144</td>\n",
       "      <td>1696</td>\n",
       "      <td>1696</td>\n",
       "    </tr>\n",
       "    <tr>\n",
       "      <th>2</th>\n",
       "      <td>93</td>\n",
       "      <td>10</td>\n",
       "      <td>16</td>\n",
       "      <td>44</td>\n",
       "      <td>103</td>\n",
       "      <td>704</td>\n",
       "      <td>704</td>\n",
       "    </tr>\n",
       "    <tr>\n",
       "      <th>3</th>\n",
       "      <td>73</td>\n",
       "      <td>89</td>\n",
       "      <td>68</td>\n",
       "      <td>41</td>\n",
       "      <td>162</td>\n",
       "      <td>2788</td>\n",
       "      <td>2788</td>\n",
       "    </tr>\n",
       "    <tr>\n",
       "      <th>4</th>\n",
       "      <td>34</td>\n",
       "      <td>74</td>\n",
       "      <td>85</td>\n",
       "      <td>79</td>\n",
       "      <td>108</td>\n",
       "      <td>6715</td>\n",
       "      <td>6715</td>\n",
       "    </tr>\n",
       "    <tr>\n",
       "      <th>5</th>\n",
       "      <td>51</td>\n",
       "      <td>89</td>\n",
       "      <td>91</td>\n",
       "      <td>61</td>\n",
       "      <td>140</td>\n",
       "      <td>5551</td>\n",
       "      <td>5551</td>\n",
       "    </tr>\n",
       "  </tbody>\n",
       "</table>\n",
       "</div>"
      ],
      "text/plain": [
       "    A   B   C   D  A+B   C*d   C*D\n",
       "0  69  11  91  69   80  6279  6279\n",
       "1  93  51  53  32  144  1696  1696\n",
       "2  93  10  16  44  103   704   704\n",
       "3  73  89  68  41  162  2788  2788\n",
       "4  34  74  85  79  108  6715  6715\n",
       "5  51  89  91  61  140  5551  5551"
      ]
     },
     "execution_count": 244,
     "metadata": {},
     "output_type": "execute_result"
    }
   ],
   "source": [
    "df"
   ]
  },
  {
   "cell_type": "code",
   "execution_count": 248,
   "id": "eb0df256",
   "metadata": {},
   "outputs": [],
   "source": [
    "df.drop('C*d', axis=1, inplace=True)"
   ]
  },
  {
   "cell_type": "code",
   "execution_count": 249,
   "id": "14756caf",
   "metadata": {},
   "outputs": [
    {
     "data": {
      "text/html": [
       "<div>\n",
       "<style scoped>\n",
       "    .dataframe tbody tr th:only-of-type {\n",
       "        vertical-align: middle;\n",
       "    }\n",
       "\n",
       "    .dataframe tbody tr th {\n",
       "        vertical-align: top;\n",
       "    }\n",
       "\n",
       "    .dataframe thead th {\n",
       "        text-align: right;\n",
       "    }\n",
       "</style>\n",
       "<table border=\"1\" class=\"dataframe\">\n",
       "  <thead>\n",
       "    <tr style=\"text-align: right;\">\n",
       "      <th></th>\n",
       "      <th>A</th>\n",
       "      <th>B</th>\n",
       "      <th>C</th>\n",
       "      <th>D</th>\n",
       "      <th>A+B</th>\n",
       "      <th>C*D</th>\n",
       "    </tr>\n",
       "  </thead>\n",
       "  <tbody>\n",
       "    <tr>\n",
       "      <th>0</th>\n",
       "      <td>69</td>\n",
       "      <td>11</td>\n",
       "      <td>91</td>\n",
       "      <td>69</td>\n",
       "      <td>80</td>\n",
       "      <td>6279</td>\n",
       "    </tr>\n",
       "    <tr>\n",
       "      <th>1</th>\n",
       "      <td>93</td>\n",
       "      <td>51</td>\n",
       "      <td>53</td>\n",
       "      <td>32</td>\n",
       "      <td>144</td>\n",
       "      <td>1696</td>\n",
       "    </tr>\n",
       "    <tr>\n",
       "      <th>2</th>\n",
       "      <td>93</td>\n",
       "      <td>10</td>\n",
       "      <td>16</td>\n",
       "      <td>44</td>\n",
       "      <td>103</td>\n",
       "      <td>704</td>\n",
       "    </tr>\n",
       "    <tr>\n",
       "      <th>3</th>\n",
       "      <td>73</td>\n",
       "      <td>89</td>\n",
       "      <td>68</td>\n",
       "      <td>41</td>\n",
       "      <td>162</td>\n",
       "      <td>2788</td>\n",
       "    </tr>\n",
       "    <tr>\n",
       "      <th>4</th>\n",
       "      <td>34</td>\n",
       "      <td>74</td>\n",
       "      <td>85</td>\n",
       "      <td>79</td>\n",
       "      <td>108</td>\n",
       "      <td>6715</td>\n",
       "    </tr>\n",
       "    <tr>\n",
       "      <th>5</th>\n",
       "      <td>51</td>\n",
       "      <td>89</td>\n",
       "      <td>91</td>\n",
       "      <td>61</td>\n",
       "      <td>140</td>\n",
       "      <td>5551</td>\n",
       "    </tr>\n",
       "  </tbody>\n",
       "</table>\n",
       "</div>"
      ],
      "text/plain": [
       "    A   B   C   D  A+B   C*D\n",
       "0  69  11  91  69   80  6279\n",
       "1  93  51  53  32  144  1696\n",
       "2  93  10  16  44  103   704\n",
       "3  73  89  68  41  162  2788\n",
       "4  34  74  85  79  108  6715\n",
       "5  51  89  91  61  140  5551"
      ]
     },
     "execution_count": 249,
     "metadata": {},
     "output_type": "execute_result"
    }
   ],
   "source": [
    "df"
   ]
  },
  {
   "cell_type": "code",
   "execution_count": 252,
   "id": "ddf67324",
   "metadata": {},
   "outputs": [],
   "source": [
    "df.drop(labels=['C', 'A+B'], axis=1, inplace=True)"
   ]
  },
  {
   "cell_type": "code",
   "execution_count": 253,
   "id": "3eac025e",
   "metadata": {},
   "outputs": [
    {
     "data": {
      "text/html": [
       "<div>\n",
       "<style scoped>\n",
       "    .dataframe tbody tr th:only-of-type {\n",
       "        vertical-align: middle;\n",
       "    }\n",
       "\n",
       "    .dataframe tbody tr th {\n",
       "        vertical-align: top;\n",
       "    }\n",
       "\n",
       "    .dataframe thead th {\n",
       "        text-align: right;\n",
       "    }\n",
       "</style>\n",
       "<table border=\"1\" class=\"dataframe\">\n",
       "  <thead>\n",
       "    <tr style=\"text-align: right;\">\n",
       "      <th></th>\n",
       "      <th>A</th>\n",
       "      <th>B</th>\n",
       "      <th>D</th>\n",
       "      <th>C*D</th>\n",
       "    </tr>\n",
       "  </thead>\n",
       "  <tbody>\n",
       "    <tr>\n",
       "      <th>0</th>\n",
       "      <td>69</td>\n",
       "      <td>11</td>\n",
       "      <td>69</td>\n",
       "      <td>6279</td>\n",
       "    </tr>\n",
       "    <tr>\n",
       "      <th>1</th>\n",
       "      <td>93</td>\n",
       "      <td>51</td>\n",
       "      <td>32</td>\n",
       "      <td>1696</td>\n",
       "    </tr>\n",
       "    <tr>\n",
       "      <th>2</th>\n",
       "      <td>93</td>\n",
       "      <td>10</td>\n",
       "      <td>44</td>\n",
       "      <td>704</td>\n",
       "    </tr>\n",
       "    <tr>\n",
       "      <th>3</th>\n",
       "      <td>73</td>\n",
       "      <td>89</td>\n",
       "      <td>41</td>\n",
       "      <td>2788</td>\n",
       "    </tr>\n",
       "    <tr>\n",
       "      <th>4</th>\n",
       "      <td>34</td>\n",
       "      <td>74</td>\n",
       "      <td>79</td>\n",
       "      <td>6715</td>\n",
       "    </tr>\n",
       "    <tr>\n",
       "      <th>5</th>\n",
       "      <td>51</td>\n",
       "      <td>89</td>\n",
       "      <td>61</td>\n",
       "      <td>5551</td>\n",
       "    </tr>\n",
       "  </tbody>\n",
       "</table>\n",
       "</div>"
      ],
      "text/plain": [
       "    A   B   D   C*D\n",
       "0  69  11  69  6279\n",
       "1  93  51  32  1696\n",
       "2  93  10  44   704\n",
       "3  73  89  41  2788\n",
       "4  34  74  79  6715\n",
       "5  51  89  61  5551"
      ]
     },
     "execution_count": 253,
     "metadata": {},
     "output_type": "execute_result"
    }
   ],
   "source": [
    "df"
   ]
  },
  {
   "cell_type": "code",
   "execution_count": 255,
   "id": "34b4481e",
   "metadata": {},
   "outputs": [],
   "source": [
    "df.index = 'p q r s t u'.split()"
   ]
  },
  {
   "cell_type": "code",
   "execution_count": 256,
   "id": "cae0fa52",
   "metadata": {},
   "outputs": [
    {
     "data": {
      "text/html": [
       "<div>\n",
       "<style scoped>\n",
       "    .dataframe tbody tr th:only-of-type {\n",
       "        vertical-align: middle;\n",
       "    }\n",
       "\n",
       "    .dataframe tbody tr th {\n",
       "        vertical-align: top;\n",
       "    }\n",
       "\n",
       "    .dataframe thead th {\n",
       "        text-align: right;\n",
       "    }\n",
       "</style>\n",
       "<table border=\"1\" class=\"dataframe\">\n",
       "  <thead>\n",
       "    <tr style=\"text-align: right;\">\n",
       "      <th></th>\n",
       "      <th>A</th>\n",
       "      <th>B</th>\n",
       "      <th>D</th>\n",
       "      <th>C*D</th>\n",
       "    </tr>\n",
       "  </thead>\n",
       "  <tbody>\n",
       "    <tr>\n",
       "      <th>p</th>\n",
       "      <td>69</td>\n",
       "      <td>11</td>\n",
       "      <td>69</td>\n",
       "      <td>6279</td>\n",
       "    </tr>\n",
       "    <tr>\n",
       "      <th>q</th>\n",
       "      <td>93</td>\n",
       "      <td>51</td>\n",
       "      <td>32</td>\n",
       "      <td>1696</td>\n",
       "    </tr>\n",
       "    <tr>\n",
       "      <th>r</th>\n",
       "      <td>93</td>\n",
       "      <td>10</td>\n",
       "      <td>44</td>\n",
       "      <td>704</td>\n",
       "    </tr>\n",
       "    <tr>\n",
       "      <th>s</th>\n",
       "      <td>73</td>\n",
       "      <td>89</td>\n",
       "      <td>41</td>\n",
       "      <td>2788</td>\n",
       "    </tr>\n",
       "    <tr>\n",
       "      <th>t</th>\n",
       "      <td>34</td>\n",
       "      <td>74</td>\n",
       "      <td>79</td>\n",
       "      <td>6715</td>\n",
       "    </tr>\n",
       "    <tr>\n",
       "      <th>u</th>\n",
       "      <td>51</td>\n",
       "      <td>89</td>\n",
       "      <td>61</td>\n",
       "      <td>5551</td>\n",
       "    </tr>\n",
       "  </tbody>\n",
       "</table>\n",
       "</div>"
      ],
      "text/plain": [
       "    A   B   D   C*D\n",
       "p  69  11  69  6279\n",
       "q  93  51  32  1696\n",
       "r  93  10  44   704\n",
       "s  73  89  41  2788\n",
       "t  34  74  79  6715\n",
       "u  51  89  61  5551"
      ]
     },
     "execution_count": 256,
     "metadata": {},
     "output_type": "execute_result"
    }
   ],
   "source": [
    "df"
   ]
  },
  {
   "cell_type": "code",
   "execution_count": 257,
   "id": "66d9b059",
   "metadata": {},
   "outputs": [
    {
     "data": {
      "text/plain": [
       "A       93\n",
       "B       10\n",
       "D       44\n",
       "C*D    704\n",
       "Name: r, dtype: int32"
      ]
     },
     "execution_count": 257,
     "metadata": {},
     "output_type": "execute_result"
    }
   ],
   "source": [
    "df.loc['r']"
   ]
  },
  {
   "cell_type": "code",
   "execution_count": 258,
   "id": "cd01d52e",
   "metadata": {},
   "outputs": [
    {
     "data": {
      "text/plain": [
       "A        51\n",
       "B        89\n",
       "D        61\n",
       "C*D    5551\n",
       "Name: u, dtype: int32"
      ]
     },
     "execution_count": 258,
     "metadata": {},
     "output_type": "execute_result"
    }
   ],
   "source": [
    "df.loc['u']"
   ]
  },
  {
   "cell_type": "code",
   "execution_count": 259,
   "id": "bd4e828a",
   "metadata": {},
   "outputs": [
    {
     "data": {
      "text/plain": [
       "A       93\n",
       "B       10\n",
       "D       44\n",
       "C*D    704\n",
       "Name: r, dtype: int32"
      ]
     },
     "execution_count": 259,
     "metadata": {},
     "output_type": "execute_result"
    }
   ],
   "source": [
    "df.iloc[2]"
   ]
  },
  {
   "cell_type": "code",
   "execution_count": 260,
   "id": "c4051a57",
   "metadata": {},
   "outputs": [
    {
     "data": {
      "text/plain": [
       "A        51\n",
       "B        89\n",
       "D        61\n",
       "C*D    5551\n",
       "Name: u, dtype: int32"
      ]
     },
     "execution_count": 260,
     "metadata": {},
     "output_type": "execute_result"
    }
   ],
   "source": [
    "df.iloc[-1]"
   ]
  },
  {
   "cell_type": "code",
   "execution_count": 261,
   "id": "ed733133",
   "metadata": {},
   "outputs": [
    {
     "data": {
      "text/plain": [
       "A        51\n",
       "B        89\n",
       "D        61\n",
       "C*D    5551\n",
       "Name: u, dtype: int32"
      ]
     },
     "execution_count": 261,
     "metadata": {},
     "output_type": "execute_result"
    }
   ],
   "source": [
    "df.iloc[5]"
   ]
  },
  {
   "cell_type": "code",
   "execution_count": 265,
   "id": "9936b642",
   "metadata": {},
   "outputs": [
    {
     "data": {
      "text/html": [
       "<div>\n",
       "<style scoped>\n",
       "    .dataframe tbody tr th:only-of-type {\n",
       "        vertical-align: middle;\n",
       "    }\n",
       "\n",
       "    .dataframe tbody tr th {\n",
       "        vertical-align: top;\n",
       "    }\n",
       "\n",
       "    .dataframe thead th {\n",
       "        text-align: right;\n",
       "    }\n",
       "</style>\n",
       "<table border=\"1\" class=\"dataframe\">\n",
       "  <thead>\n",
       "    <tr style=\"text-align: right;\">\n",
       "      <th></th>\n",
       "      <th>A</th>\n",
       "      <th>B</th>\n",
       "      <th>D</th>\n",
       "      <th>C*D</th>\n",
       "    </tr>\n",
       "  </thead>\n",
       "  <tbody>\n",
       "    <tr>\n",
       "      <th>p</th>\n",
       "      <td>69</td>\n",
       "      <td>11</td>\n",
       "      <td>69</td>\n",
       "      <td>6279</td>\n",
       "    </tr>\n",
       "    <tr>\n",
       "      <th>q</th>\n",
       "      <td>93</td>\n",
       "      <td>51</td>\n",
       "      <td>32</td>\n",
       "      <td>1696</td>\n",
       "    </tr>\n",
       "    <tr>\n",
       "      <th>r</th>\n",
       "      <td>93</td>\n",
       "      <td>10</td>\n",
       "      <td>44</td>\n",
       "      <td>704</td>\n",
       "    </tr>\n",
       "    <tr>\n",
       "      <th>s</th>\n",
       "      <td>73</td>\n",
       "      <td>89</td>\n",
       "      <td>41</td>\n",
       "      <td>2788</td>\n",
       "    </tr>\n",
       "    <tr>\n",
       "      <th>t</th>\n",
       "      <td>34</td>\n",
       "      <td>74</td>\n",
       "      <td>79</td>\n",
       "      <td>6715</td>\n",
       "    </tr>\n",
       "    <tr>\n",
       "      <th>u</th>\n",
       "      <td>51</td>\n",
       "      <td>89</td>\n",
       "      <td>61</td>\n",
       "      <td>5551</td>\n",
       "    </tr>\n",
       "  </tbody>\n",
       "</table>\n",
       "</div>"
      ],
      "text/plain": [
       "    A   B   D   C*D\n",
       "p  69  11  69  6279\n",
       "q  93  51  32  1696\n",
       "r  93  10  44   704\n",
       "s  73  89  41  2788\n",
       "t  34  74  79  6715\n",
       "u  51  89  61  5551"
      ]
     },
     "execution_count": 265,
     "metadata": {},
     "output_type": "execute_result"
    }
   ],
   "source": [
    "df"
   ]
  },
  {
   "cell_type": "code",
   "execution_count": 273,
   "id": "f140f3a8",
   "metadata": {},
   "outputs": [
    {
     "data": {
      "text/html": [
       "<div>\n",
       "<style scoped>\n",
       "    .dataframe tbody tr th:only-of-type {\n",
       "        vertical-align: middle;\n",
       "    }\n",
       "\n",
       "    .dataframe tbody tr th {\n",
       "        vertical-align: top;\n",
       "    }\n",
       "\n",
       "    .dataframe thead th {\n",
       "        text-align: right;\n",
       "    }\n",
       "</style>\n",
       "<table border=\"1\" class=\"dataframe\">\n",
       "  <thead>\n",
       "    <tr style=\"text-align: right;\">\n",
       "      <th></th>\n",
       "      <th>B</th>\n",
       "      <th>D</th>\n",
       "      <th>C*D</th>\n",
       "    </tr>\n",
       "  </thead>\n",
       "  <tbody>\n",
       "    <tr>\n",
       "      <th>s</th>\n",
       "      <td>89</td>\n",
       "      <td>41</td>\n",
       "      <td>2788</td>\n",
       "    </tr>\n",
       "    <tr>\n",
       "      <th>t</th>\n",
       "      <td>74</td>\n",
       "      <td>79</td>\n",
       "      <td>6715</td>\n",
       "    </tr>\n",
       "    <tr>\n",
       "      <th>u</th>\n",
       "      <td>89</td>\n",
       "      <td>61</td>\n",
       "      <td>5551</td>\n",
       "    </tr>\n",
       "  </tbody>\n",
       "</table>\n",
       "</div>"
      ],
      "text/plain": [
       "    B   D   C*D\n",
       "s  89  41  2788\n",
       "t  74  79  6715\n",
       "u  89  61  5551"
      ]
     },
     "execution_count": 273,
     "metadata": {},
     "output_type": "execute_result"
    }
   ],
   "source": [
    "df.iloc[3:,1:]"
   ]
  },
  {
   "cell_type": "code",
   "execution_count": 274,
   "id": "f8e3eae5",
   "metadata": {},
   "outputs": [
    {
     "data": {
      "text/html": [
       "<div>\n",
       "<style scoped>\n",
       "    .dataframe tbody tr th:only-of-type {\n",
       "        vertical-align: middle;\n",
       "    }\n",
       "\n",
       "    .dataframe tbody tr th {\n",
       "        vertical-align: top;\n",
       "    }\n",
       "\n",
       "    .dataframe thead th {\n",
       "        text-align: right;\n",
       "    }\n",
       "</style>\n",
       "<table border=\"1\" class=\"dataframe\">\n",
       "  <thead>\n",
       "    <tr style=\"text-align: right;\">\n",
       "      <th></th>\n",
       "      <th>B</th>\n",
       "      <th>D</th>\n",
       "      <th>C*D</th>\n",
       "    </tr>\n",
       "  </thead>\n",
       "  <tbody>\n",
       "    <tr>\n",
       "      <th>t</th>\n",
       "      <td>74</td>\n",
       "      <td>79</td>\n",
       "      <td>6715</td>\n",
       "    </tr>\n",
       "    <tr>\n",
       "      <th>u</th>\n",
       "      <td>89</td>\n",
       "      <td>61</td>\n",
       "      <td>5551</td>\n",
       "    </tr>\n",
       "  </tbody>\n",
       "</table>\n",
       "</div>"
      ],
      "text/plain": [
       "    B   D   C*D\n",
       "t  74  79  6715\n",
       "u  89  61  5551"
      ]
     },
     "execution_count": 274,
     "metadata": {},
     "output_type": "execute_result"
    }
   ],
   "source": [
    "df.iloc[-2:,-3:]"
   ]
  },
  {
   "cell_type": "code",
   "execution_count": 284,
   "id": "feb0418f",
   "metadata": {},
   "outputs": [
    {
     "data": {
      "text/html": [
       "<div>\n",
       "<style scoped>\n",
       "    .dataframe tbody tr th:only-of-type {\n",
       "        vertical-align: middle;\n",
       "    }\n",
       "\n",
       "    .dataframe tbody tr th {\n",
       "        vertical-align: top;\n",
       "    }\n",
       "\n",
       "    .dataframe thead th {\n",
       "        text-align: right;\n",
       "    }\n",
       "</style>\n",
       "<table border=\"1\" class=\"dataframe\">\n",
       "  <thead>\n",
       "    <tr style=\"text-align: right;\">\n",
       "      <th></th>\n",
       "      <th>B</th>\n",
       "      <th>D</th>\n",
       "    </tr>\n",
       "  </thead>\n",
       "  <tbody>\n",
       "    <tr>\n",
       "      <th>r</th>\n",
       "      <td>10</td>\n",
       "      <td>44</td>\n",
       "    </tr>\n",
       "    <tr>\n",
       "      <th>s</th>\n",
       "      <td>89</td>\n",
       "      <td>41</td>\n",
       "    </tr>\n",
       "  </tbody>\n",
       "</table>\n",
       "</div>"
      ],
      "text/plain": [
       "    B   D\n",
       "r  10  44\n",
       "s  89  41"
      ]
     },
     "execution_count": 284,
     "metadata": {},
     "output_type": "execute_result"
    }
   ],
   "source": [
    "df.iloc[2:-2, 1:][['B', 'D']]"
   ]
  },
  {
   "cell_type": "code",
   "execution_count": 289,
   "id": "21b36b8e",
   "metadata": {},
   "outputs": [
    {
     "data": {
      "text/plain": [
       "pandas.core.frame.DataFrame"
      ]
     },
     "execution_count": 289,
     "metadata": {},
     "output_type": "execute_result"
    }
   ],
   "source": [
    "type(df.iloc[-2:][['D']])"
   ]
  },
  {
   "cell_type": "code",
   "execution_count": 292,
   "id": "c5887aa3",
   "metadata": {},
   "outputs": [
    {
     "data": {
      "text/plain": [
       "pandas.core.series.Series"
      ]
     },
     "execution_count": 292,
     "metadata": {},
     "output_type": "execute_result"
    }
   ],
   "source": [
    "type(df.iloc[-2:]['B'])\n"
   ]
  },
  {
   "cell_type": "code",
   "execution_count": 293,
   "id": "41f50abf",
   "metadata": {},
   "outputs": [
    {
     "data": {
      "text/html": [
       "<div>\n",
       "<style scoped>\n",
       "    .dataframe tbody tr th:only-of-type {\n",
       "        vertical-align: middle;\n",
       "    }\n",
       "\n",
       "    .dataframe tbody tr th {\n",
       "        vertical-align: top;\n",
       "    }\n",
       "\n",
       "    .dataframe thead th {\n",
       "        text-align: right;\n",
       "    }\n",
       "</style>\n",
       "<table border=\"1\" class=\"dataframe\">\n",
       "  <thead>\n",
       "    <tr style=\"text-align: right;\">\n",
       "      <th></th>\n",
       "      <th>A</th>\n",
       "      <th>B</th>\n",
       "      <th>D</th>\n",
       "      <th>C*D</th>\n",
       "    </tr>\n",
       "  </thead>\n",
       "  <tbody>\n",
       "    <tr>\n",
       "      <th>p</th>\n",
       "      <td>69</td>\n",
       "      <td>11</td>\n",
       "      <td>69</td>\n",
       "      <td>6279</td>\n",
       "    </tr>\n",
       "    <tr>\n",
       "      <th>q</th>\n",
       "      <td>93</td>\n",
       "      <td>51</td>\n",
       "      <td>32</td>\n",
       "      <td>1696</td>\n",
       "    </tr>\n",
       "    <tr>\n",
       "      <th>r</th>\n",
       "      <td>93</td>\n",
       "      <td>10</td>\n",
       "      <td>44</td>\n",
       "      <td>704</td>\n",
       "    </tr>\n",
       "    <tr>\n",
       "      <th>s</th>\n",
       "      <td>73</td>\n",
       "      <td>89</td>\n",
       "      <td>41</td>\n",
       "      <td>2788</td>\n",
       "    </tr>\n",
       "    <tr>\n",
       "      <th>t</th>\n",
       "      <td>34</td>\n",
       "      <td>74</td>\n",
       "      <td>79</td>\n",
       "      <td>6715</td>\n",
       "    </tr>\n",
       "    <tr>\n",
       "      <th>u</th>\n",
       "      <td>51</td>\n",
       "      <td>89</td>\n",
       "      <td>61</td>\n",
       "      <td>5551</td>\n",
       "    </tr>\n",
       "  </tbody>\n",
       "</table>\n",
       "</div>"
      ],
      "text/plain": [
       "    A   B   D   C*D\n",
       "p  69  11  69  6279\n",
       "q  93  51  32  1696\n",
       "r  93  10  44   704\n",
       "s  73  89  41  2788\n",
       "t  34  74  79  6715\n",
       "u  51  89  61  5551"
      ]
     },
     "execution_count": 293,
     "metadata": {},
     "output_type": "execute_result"
    }
   ],
   "source": [
    "df\n"
   ]
  },
  {
   "cell_type": "code",
   "execution_count": 295,
   "id": "82ae31a1",
   "metadata": {},
   "outputs": [],
   "source": [
    "mask = df>30"
   ]
  },
  {
   "cell_type": "code",
   "execution_count": 296,
   "id": "ef599295",
   "metadata": {},
   "outputs": [
    {
     "data": {
      "text/html": [
       "<div>\n",
       "<style scoped>\n",
       "    .dataframe tbody tr th:only-of-type {\n",
       "        vertical-align: middle;\n",
       "    }\n",
       "\n",
       "    .dataframe tbody tr th {\n",
       "        vertical-align: top;\n",
       "    }\n",
       "\n",
       "    .dataframe thead th {\n",
       "        text-align: right;\n",
       "    }\n",
       "</style>\n",
       "<table border=\"1\" class=\"dataframe\">\n",
       "  <thead>\n",
       "    <tr style=\"text-align: right;\">\n",
       "      <th></th>\n",
       "      <th>A</th>\n",
       "      <th>B</th>\n",
       "      <th>D</th>\n",
       "      <th>C*D</th>\n",
       "    </tr>\n",
       "  </thead>\n",
       "  <tbody>\n",
       "    <tr>\n",
       "      <th>p</th>\n",
       "      <td>True</td>\n",
       "      <td>False</td>\n",
       "      <td>True</td>\n",
       "      <td>True</td>\n",
       "    </tr>\n",
       "    <tr>\n",
       "      <th>q</th>\n",
       "      <td>True</td>\n",
       "      <td>True</td>\n",
       "      <td>True</td>\n",
       "      <td>True</td>\n",
       "    </tr>\n",
       "    <tr>\n",
       "      <th>r</th>\n",
       "      <td>True</td>\n",
       "      <td>False</td>\n",
       "      <td>True</td>\n",
       "      <td>True</td>\n",
       "    </tr>\n",
       "    <tr>\n",
       "      <th>s</th>\n",
       "      <td>True</td>\n",
       "      <td>True</td>\n",
       "      <td>True</td>\n",
       "      <td>True</td>\n",
       "    </tr>\n",
       "    <tr>\n",
       "      <th>t</th>\n",
       "      <td>True</td>\n",
       "      <td>True</td>\n",
       "      <td>True</td>\n",
       "      <td>True</td>\n",
       "    </tr>\n",
       "    <tr>\n",
       "      <th>u</th>\n",
       "      <td>True</td>\n",
       "      <td>True</td>\n",
       "      <td>True</td>\n",
       "      <td>True</td>\n",
       "    </tr>\n",
       "  </tbody>\n",
       "</table>\n",
       "</div>"
      ],
      "text/plain": [
       "      A      B     D   C*D\n",
       "p  True  False  True  True\n",
       "q  True   True  True  True\n",
       "r  True  False  True  True\n",
       "s  True   True  True  True\n",
       "t  True   True  True  True\n",
       "u  True   True  True  True"
      ]
     },
     "execution_count": 296,
     "metadata": {},
     "output_type": "execute_result"
    }
   ],
   "source": [
    "mask"
   ]
  },
  {
   "cell_type": "code",
   "execution_count": 297,
   "id": "1900e220",
   "metadata": {},
   "outputs": [
    {
     "data": {
      "text/html": [
       "<div>\n",
       "<style scoped>\n",
       "    .dataframe tbody tr th:only-of-type {\n",
       "        vertical-align: middle;\n",
       "    }\n",
       "\n",
       "    .dataframe tbody tr th {\n",
       "        vertical-align: top;\n",
       "    }\n",
       "\n",
       "    .dataframe thead th {\n",
       "        text-align: right;\n",
       "    }\n",
       "</style>\n",
       "<table border=\"1\" class=\"dataframe\">\n",
       "  <thead>\n",
       "    <tr style=\"text-align: right;\">\n",
       "      <th></th>\n",
       "      <th>A</th>\n",
       "      <th>B</th>\n",
       "      <th>D</th>\n",
       "      <th>C*D</th>\n",
       "    </tr>\n",
       "  </thead>\n",
       "  <tbody>\n",
       "    <tr>\n",
       "      <th>p</th>\n",
       "      <td>69</td>\n",
       "      <td>NaN</td>\n",
       "      <td>69</td>\n",
       "      <td>6279</td>\n",
       "    </tr>\n",
       "    <tr>\n",
       "      <th>q</th>\n",
       "      <td>93</td>\n",
       "      <td>51.0</td>\n",
       "      <td>32</td>\n",
       "      <td>1696</td>\n",
       "    </tr>\n",
       "    <tr>\n",
       "      <th>r</th>\n",
       "      <td>93</td>\n",
       "      <td>NaN</td>\n",
       "      <td>44</td>\n",
       "      <td>704</td>\n",
       "    </tr>\n",
       "    <tr>\n",
       "      <th>s</th>\n",
       "      <td>73</td>\n",
       "      <td>89.0</td>\n",
       "      <td>41</td>\n",
       "      <td>2788</td>\n",
       "    </tr>\n",
       "    <tr>\n",
       "      <th>t</th>\n",
       "      <td>34</td>\n",
       "      <td>74.0</td>\n",
       "      <td>79</td>\n",
       "      <td>6715</td>\n",
       "    </tr>\n",
       "    <tr>\n",
       "      <th>u</th>\n",
       "      <td>51</td>\n",
       "      <td>89.0</td>\n",
       "      <td>61</td>\n",
       "      <td>5551</td>\n",
       "    </tr>\n",
       "  </tbody>\n",
       "</table>\n",
       "</div>"
      ],
      "text/plain": [
       "    A     B   D   C*D\n",
       "p  69   NaN  69  6279\n",
       "q  93  51.0  32  1696\n",
       "r  93   NaN  44   704\n",
       "s  73  89.0  41  2788\n",
       "t  34  74.0  79  6715\n",
       "u  51  89.0  61  5551"
      ]
     },
     "execution_count": 297,
     "metadata": {},
     "output_type": "execute_result"
    }
   ],
   "source": [
    "df[mask]"
   ]
  },
  {
   "cell_type": "code",
   "execution_count": 299,
   "id": "c4b14713",
   "metadata": {},
   "outputs": [
    {
     "data": {
      "text/html": [
       "<div>\n",
       "<style scoped>\n",
       "    .dataframe tbody tr th:only-of-type {\n",
       "        vertical-align: middle;\n",
       "    }\n",
       "\n",
       "    .dataframe tbody tr th {\n",
       "        vertical-align: top;\n",
       "    }\n",
       "\n",
       "    .dataframe thead th {\n",
       "        text-align: right;\n",
       "    }\n",
       "</style>\n",
       "<table border=\"1\" class=\"dataframe\">\n",
       "  <thead>\n",
       "    <tr style=\"text-align: right;\">\n",
       "      <th></th>\n",
       "      <th>A</th>\n",
       "      <th>B</th>\n",
       "      <th>D</th>\n",
       "      <th>C*D</th>\n",
       "    </tr>\n",
       "  </thead>\n",
       "  <tbody>\n",
       "    <tr>\n",
       "      <th>p</th>\n",
       "      <td>69</td>\n",
       "      <td>NaN</td>\n",
       "      <td>69</td>\n",
       "      <td>6279</td>\n",
       "    </tr>\n",
       "    <tr>\n",
       "      <th>q</th>\n",
       "      <td>93</td>\n",
       "      <td>51.0</td>\n",
       "      <td>32</td>\n",
       "      <td>1696</td>\n",
       "    </tr>\n",
       "    <tr>\n",
       "      <th>r</th>\n",
       "      <td>93</td>\n",
       "      <td>NaN</td>\n",
       "      <td>44</td>\n",
       "      <td>704</td>\n",
       "    </tr>\n",
       "    <tr>\n",
       "      <th>s</th>\n",
       "      <td>73</td>\n",
       "      <td>89.0</td>\n",
       "      <td>41</td>\n",
       "      <td>2788</td>\n",
       "    </tr>\n",
       "    <tr>\n",
       "      <th>t</th>\n",
       "      <td>34</td>\n",
       "      <td>74.0</td>\n",
       "      <td>79</td>\n",
       "      <td>6715</td>\n",
       "    </tr>\n",
       "    <tr>\n",
       "      <th>u</th>\n",
       "      <td>51</td>\n",
       "      <td>89.0</td>\n",
       "      <td>61</td>\n",
       "      <td>5551</td>\n",
       "    </tr>\n",
       "  </tbody>\n",
       "</table>\n",
       "</div>"
      ],
      "text/plain": [
       "    A     B   D   C*D\n",
       "p  69   NaN  69  6279\n",
       "q  93  51.0  32  1696\n",
       "r  93   NaN  44   704\n",
       "s  73  89.0  41  2788\n",
       "t  34  74.0  79  6715\n",
       "u  51  89.0  61  5551"
      ]
     },
     "execution_count": 299,
     "metadata": {},
     "output_type": "execute_result"
    }
   ],
   "source": [
    "df[df>30]"
   ]
  },
  {
   "cell_type": "code",
   "execution_count": 306,
   "id": "4c70e8ce",
   "metadata": {},
   "outputs": [
    {
     "data": {
      "text/html": [
       "<div>\n",
       "<style scoped>\n",
       "    .dataframe tbody tr th:only-of-type {\n",
       "        vertical-align: middle;\n",
       "    }\n",
       "\n",
       "    .dataframe tbody tr th {\n",
       "        vertical-align: top;\n",
       "    }\n",
       "\n",
       "    .dataframe thead th {\n",
       "        text-align: right;\n",
       "    }\n",
       "</style>\n",
       "<table border=\"1\" class=\"dataframe\">\n",
       "  <thead>\n",
       "    <tr style=\"text-align: right;\">\n",
       "      <th></th>\n",
       "      <th>B</th>\n",
       "      <th>D</th>\n",
       "    </tr>\n",
       "  </thead>\n",
       "  <tbody>\n",
       "    <tr>\n",
       "      <th>q</th>\n",
       "      <td>51</td>\n",
       "      <td>32</td>\n",
       "    </tr>\n",
       "    <tr>\n",
       "      <th>s</th>\n",
       "      <td>89</td>\n",
       "      <td>41</td>\n",
       "    </tr>\n",
       "    <tr>\n",
       "      <th>t</th>\n",
       "      <td>74</td>\n",
       "      <td>79</td>\n",
       "    </tr>\n",
       "    <tr>\n",
       "      <th>u</th>\n",
       "      <td>89</td>\n",
       "      <td>61</td>\n",
       "    </tr>\n",
       "  </tbody>\n",
       "</table>\n",
       "</div>"
      ],
      "text/plain": [
       "    B   D\n",
       "q  51  32\n",
       "s  89  41\n",
       "t  74  79\n",
       "u  89  61"
      ]
     },
     "execution_count": 306,
     "metadata": {},
     "output_type": "execute_result"
    }
   ],
   "source": [
    "df[df['B']>40][['B', 'D']]"
   ]
  },
  {
   "cell_type": "code",
   "execution_count": 307,
   "id": "c0d0c5df",
   "metadata": {},
   "outputs": [
    {
     "data": {
      "text/plain": [
       "p     True\n",
       "q     True\n",
       "r     True\n",
       "s     True\n",
       "t    False\n",
       "u     True\n",
       "Name: A, dtype: bool"
      ]
     },
     "execution_count": 307,
     "metadata": {},
     "output_type": "execute_result"
    }
   ],
   "source": [
    "df['A']>40"
   ]
  },
  {
   "cell_type": "code",
   "execution_count": 309,
   "id": "f64d69fa",
   "metadata": {},
   "outputs": [
    {
     "data": {
      "text/plain": [
       "p    False\n",
       "q     True\n",
       "r     True\n",
       "s     True\n",
       "t    False\n",
       "u    False\n",
       "Name: D, dtype: bool"
      ]
     },
     "execution_count": 309,
     "metadata": {},
     "output_type": "execute_result"
    }
   ],
   "source": [
    "df['D']<50"
   ]
  },
  {
   "cell_type": "code",
   "execution_count": 315,
   "id": "898c2698",
   "metadata": {},
   "outputs": [
    {
     "data": {
      "text/html": [
       "<div>\n",
       "<style scoped>\n",
       "    .dataframe tbody tr th:only-of-type {\n",
       "        vertical-align: middle;\n",
       "    }\n",
       "\n",
       "    .dataframe tbody tr th {\n",
       "        vertical-align: top;\n",
       "    }\n",
       "\n",
       "    .dataframe thead th {\n",
       "        text-align: right;\n",
       "    }\n",
       "</style>\n",
       "<table border=\"1\" class=\"dataframe\">\n",
       "  <thead>\n",
       "    <tr style=\"text-align: right;\">\n",
       "      <th></th>\n",
       "      <th>A</th>\n",
       "      <th>B</th>\n",
       "      <th>D</th>\n",
       "      <th>C*D</th>\n",
       "    </tr>\n",
       "  </thead>\n",
       "  <tbody>\n",
       "    <tr>\n",
       "      <th>q</th>\n",
       "      <td>93</td>\n",
       "      <td>51</td>\n",
       "      <td>32</td>\n",
       "      <td>1696</td>\n",
       "    </tr>\n",
       "    <tr>\n",
       "      <th>r</th>\n",
       "      <td>93</td>\n",
       "      <td>10</td>\n",
       "      <td>44</td>\n",
       "      <td>704</td>\n",
       "    </tr>\n",
       "    <tr>\n",
       "      <th>s</th>\n",
       "      <td>73</td>\n",
       "      <td>89</td>\n",
       "      <td>41</td>\n",
       "      <td>2788</td>\n",
       "    </tr>\n",
       "  </tbody>\n",
       "</table>\n",
       "</div>"
      ],
      "text/plain": [
       "    A   B   D   C*D\n",
       "q  93  51  32  1696\n",
       "r  93  10  44   704\n",
       "s  73  89  41  2788"
      ]
     },
     "execution_count": 315,
     "metadata": {},
     "output_type": "execute_result"
    }
   ],
   "source": [
    "df[(df['A']>40) & (df['D']<50)]"
   ]
  },
  {
   "cell_type": "code",
   "execution_count": 316,
   "id": "b65ca5e2",
   "metadata": {},
   "outputs": [
    {
     "data": {
      "text/html": [
       "<div>\n",
       "<style scoped>\n",
       "    .dataframe tbody tr th:only-of-type {\n",
       "        vertical-align: middle;\n",
       "    }\n",
       "\n",
       "    .dataframe tbody tr th {\n",
       "        vertical-align: top;\n",
       "    }\n",
       "\n",
       "    .dataframe thead th {\n",
       "        text-align: right;\n",
       "    }\n",
       "</style>\n",
       "<table border=\"1\" class=\"dataframe\">\n",
       "  <thead>\n",
       "    <tr style=\"text-align: right;\">\n",
       "      <th></th>\n",
       "      <th>A</th>\n",
       "      <th>B</th>\n",
       "      <th>D</th>\n",
       "      <th>C*D</th>\n",
       "    </tr>\n",
       "  </thead>\n",
       "  <tbody>\n",
       "    <tr>\n",
       "      <th>p</th>\n",
       "      <td>69</td>\n",
       "      <td>11</td>\n",
       "      <td>69</td>\n",
       "      <td>6279</td>\n",
       "    </tr>\n",
       "    <tr>\n",
       "      <th>q</th>\n",
       "      <td>93</td>\n",
       "      <td>51</td>\n",
       "      <td>32</td>\n",
       "      <td>1696</td>\n",
       "    </tr>\n",
       "    <tr>\n",
       "      <th>r</th>\n",
       "      <td>93</td>\n",
       "      <td>10</td>\n",
       "      <td>44</td>\n",
       "      <td>704</td>\n",
       "    </tr>\n",
       "    <tr>\n",
       "      <th>s</th>\n",
       "      <td>73</td>\n",
       "      <td>89</td>\n",
       "      <td>41</td>\n",
       "      <td>2788</td>\n",
       "    </tr>\n",
       "    <tr>\n",
       "      <th>t</th>\n",
       "      <td>34</td>\n",
       "      <td>74</td>\n",
       "      <td>79</td>\n",
       "      <td>6715</td>\n",
       "    </tr>\n",
       "    <tr>\n",
       "      <th>u</th>\n",
       "      <td>51</td>\n",
       "      <td>89</td>\n",
       "      <td>61</td>\n",
       "      <td>5551</td>\n",
       "    </tr>\n",
       "  </tbody>\n",
       "</table>\n",
       "</div>"
      ],
      "text/plain": [
       "    A   B   D   C*D\n",
       "p  69  11  69  6279\n",
       "q  93  51  32  1696\n",
       "r  93  10  44   704\n",
       "s  73  89  41  2788\n",
       "t  34  74  79  6715\n",
       "u  51  89  61  5551"
      ]
     },
     "execution_count": 316,
     "metadata": {},
     "output_type": "execute_result"
    }
   ],
   "source": [
    "df"
   ]
  },
  {
   "cell_type": "code",
   "execution_count": 318,
   "id": "558d2ab3",
   "metadata": {},
   "outputs": [],
   "source": [
    "df_array = df.values"
   ]
  },
  {
   "cell_type": "code",
   "execution_count": 319,
   "id": "0b94d41e",
   "metadata": {},
   "outputs": [
    {
     "data": {
      "text/plain": [
       "array([[  69,   11,   69, 6279],\n",
       "       [  93,   51,   32, 1696],\n",
       "       [  93,   10,   44,  704],\n",
       "       [  73,   89,   41, 2788],\n",
       "       [  34,   74,   79, 6715],\n",
       "       [  51,   89,   61, 5551]])"
      ]
     },
     "execution_count": 319,
     "metadata": {},
     "output_type": "execute_result"
    }
   ],
   "source": [
    "df_array"
   ]
  },
  {
   "cell_type": "code",
   "execution_count": 322,
   "id": "8003fd0a",
   "metadata": {},
   "outputs": [
    {
     "name": "stdout",
     "output_type": "stream",
     "text": [
      " Volume in drive C is OS\n",
      " Volume Serial Number is 0CC1-C20F\n",
      "\n",
      " Directory of C:\\Users\\skme2\\Downloads\n",
      "\n",
      "23-06-2023  20:36    <DIR>          .\n",
      "12-06-2023  12:12    <DIR>          ..\n",
      "23-06-2023  19:46    <DIR>          .ipynb_checkpoints\n",
      "28-03-2023  16:40            26,071 01_Loops_Practice_04_05.ipynb\n",
      "02-11-2022  15:49           410,816 0211resume.pdf\n",
      "20-03-2023  16:51           118,844 04_06.ipynb\n",
      "08-04-2023  17:46             6,413 08_04_2023_window functions__damini_04_06.sql\n",
      "08-05-2023  17:43           453,229 08_05_power bi.pbix\n",
      "08-11-2022  11:41           412,631 08novresume.pdf\n",
      "09-04-2023  17:37             2,262 09_damini stored_processor.sql\n",
      "08-10-2022  12:44               582 1.0.5\n",
      "11-04-2023  14:25       279,467,547 10_04_2023.mp4\n",
      "16-09-2022  19:48         7,070,153 100-Business-English-Expressions.pdf\n",
      "23-09-2022  08:41         1,139,062 101-Essays-That-Will-Change-The-Way-You-Think_.pdf\n",
      "03-01-2023  14:28    <DIR>          1071244354_9761672683050\n",
      "03-01-2023  14:23            27,403 1071244354_9761672683050.rar\n",
      "14-12-2022  23:53    <DIR>          1081876154_needhelp\n",
      "14-12-2022  23:49        16,781,691 1081876154_needhelp.zip\n",
      "03-04-2023  15:02    <DIR>          10thAprilDeploymentSteps-20230403T093128Z-001\n",
      "09-06-2023  23:28    <DIR>          10thAprilDeploymentSteps-20230609T175740Z-001\n",
      "09-06-2023  23:27         1,879,584 10thAprilDeploymentSteps-20230609T175740Z-001.zip\n",
      "31-03-2023  17:05    <DIR>          10thOctBA-20230331T112251Z-001\n",
      "02-05-2023  23:02    <DIR>          10thOctBA-20230502T173034Z-001\n",
      "02-05-2023  23:00         4,290,115 10thOctBA-20230502T173034Z-001.zip\n",
      "19-03-2023  14:58           136,129 11_03_2023_Saurabh .ipynb\n",
      "01-04-2023  14:11             7,548 11_04_matplotlib.ipynb\n",
      "07-01-2023  11:15           251,753 1215725943_2151672927494.rar\n",
      "12-12-2022  21:33             3,972 1236247724_attach-file-1670846640142.zip\n",
      "03-01-2023  15:27            94,784 1257579810_9101672689580.xlsx\n",
      "03-01-2023  15:27            94,784 1277482325_7351672689456.xlsx\n",
      "05-03-2023  17:24    <DIR>          12thSep-20230305T115045Z-001\n",
      "05-03-2023  17:21         1,800,263 12thSep-20230305T115045Z-001.zip\n",
      "03-01-2023  15:27            94,784 132808084_2671672689536.xlsx\n",
      "03-01-2023  15:29            68,516 1346113162_attach-file-1672689878840.xlsx\n",
      "14-03-2023  09:44                63 14_textfile.txt\n",
      "06-01-2023  08:59         4,894,621 1472359526_2145622_1839731_6302138.docx.pdf\n",
      "07-01-2023  11:15            40,869 1622747648_4091673022377.PNG\n",
      "16-06-2022  12:41           821,305 1655303783088.pdf\n",
      "16-06-2022  12:42           805,584 1655361164152.pdf\n",
      "24-06-2022  11:57         1,554,236 1655729738530.pdf\n",
      "22-06-2022  11:00         2,858,697 1655808683836.pdf\n",
      "22-06-2022  10:01           474,528 1655817362570.pdf\n",
      "31-07-2022  23:27           194,662 1659268223394.pdf\n",
      "01-08-2022  12:03           202,563 1659327300591.pdf\n",
      "19-08-2022  11:56            95,777 1660554784534.pdf\n",
      "31-08-2022  14:56            76,256 1660633425891.pdf\n",
      "20-08-2022  13:03           278,174 1660706504763.pdf\n",
      "18-08-2022  12:25         2,285,675 1660796239124.pdf\n",
      "20-08-2022  13:03           290,834 1660964997593.pdf\n",
      "28-08-2022  23:57            84,072 1661491570743.pdf\n",
      "03-09-2022  11:57        24,347,918 1662176194924.pdf\n",
      "11-09-2022  19:15         3,089,241 1662895783938.pdf\n",
      "16-10-2022  19:04            25,278 1665927254292T5LGVZEqHRtY18DM.pdf\n",
      "02-11-2022  15:29         1,348,909 1667367903949.pdf\n",
      "24-03-2023  20:17           346,341 1679666303576.pdf\n",
      "24-11-2022  10:04           245,499 1733335575_2126730_1816551_6245808.docx.pdf\n",
      "08-10-2022  23:14    <DIR>          18.3.Plotly.7z (Unzipped Files)-20221008T174315Z-001\n",
      "08-10-2022  23:13         4,688,447 18.3.Plotly.7z (Unzipped Files)-20221008T174315Z-001.zip\n",
      "10-10-2022  16:40         2,879,041 18_4_Cufflinks_checkpoint.ipynb\n",
      "24-11-2022  15:10           243,853 1813334027_2126730_1817076_6247183.docx.pdf\n",
      "07-01-2023  12:30         4,890,890 1835446948_Updated_solution_06012023.docx.pdf\n",
      "03-01-2023  14:32    <DIR>          1867855190_9251672678839\n",
      "03-01-2023  14:23            47,736 1867855190_9251672678839.rar\n",
      "03-01-2023  15:24            17,779 1900425184_attach-file-16726896538021.docx\n",
      "03-01-2023  15:27            94,784 1925709743_4951672689567.xlsx\n",
      "07-01-2023  16:26            30,201 1964090971_attach-file-1672220444499.docx\n",
      "03-01-2023  15:29            63,488 1976883288_attach-file-1672689879136.doc\n",
      "29-09-2022  05:57         5,227,782 1-deep learning (1).pdf\n",
      "18-08-2022  17:45         5,227,782 1-deep learning.pdf\n",
      "19-07-2022  21:09         5,812,051 1-Simple Linearregression.pdf\n",
      "07-10-2022  21:35           694,907 1st Oct Data Science industry(3-Git ).pdf\n",
      "10-03-2023  16:06        26,300,953 1st Oct FSDA-20230310T103630Z-001.zip\n",
      "08-01-2023  13:06            31,186 2009659.docx\n",
      "03-01-2023  14:23            41,767 2049695533_1501672678817.PNG\n",
      "03-01-2023  20:53         2,991,850 2050840287_6571672736572.rar\n",
      "30-11-2022  10:51    <DIR>          2057936858_1521669747194\n",
      "25-11-2022  20:59           282,615 2064437649_6111669265346 (1).xlsx\n",
      "25-11-2022  12:53           282,615 2064437649_6111669265346.xlsx\n",
      "21-03-2023  13:56             5,943 21_03_ruda_utkarsh.sql\n",
      "26-11-2022  17:43           207,304 2119999.zip\n",
      "24-11-2022  10:30    <DIR>          2126730\n",
      "16-09-2022  19:46         1,477,146 2127.pdf\n",
      "26-11-2022  17:34    <DIR>          2127053\n",
      "26-11-2022  17:25        10,955,424 2127053 (2).zip\n",
      "24-11-2022  12:41           154,637 2127053.zip\n",
      "28-02-2023  15:05    <DIR>          2129919\n",
      "29-11-2022  16:40         9,059,733 2129919.zip\n",
      "03-07-2022  11:53    <DIR>          21stMay-20220702T055745Z-001\n",
      "24-04-2023  13:01           375,712 22b01038ed616ac43165687bedaaee45ee8fbebc93c75e197f48c529c415222e-2023-04-24-07-31-10.zip\n",
      "03-07-2022  11:53    <DIR>          22ndmay-20220702T055801Z-001\n",
      "10-09-2022  23:12    <DIR>          23. Django-20220910T174146Z-001\n",
      "10-09-2022  23:12           635,343 23. Django-20220910T174146Z-001.zip\n",
      "25-12-2022  23:08           402,470 25resume.pdf\n",
      "07-10-2022  21:35         2,513,681 25th Sept Industry ready 1-DS Project Flow.pdf\n",
      "26-11-2022  17:58             9,280 26-11-2022.png\n",
      "29-11-2022  14:00            12,498 28-11-2022.png\n",
      "03-07-2022  11:53    <DIR>          28thmay-20220702T055846Z-001\n",
      "09-02-2023  12:22           401,917 29resumefinal (1).pdf\n",
      "09-02-2023  12:28           401,917 29resumefinal (2).pdf\n",
      "09-02-2023  19:44           401,917 29resumefinal (3).pdf\n",
      "12-02-2023  12:00           401,917 29resumefinal (4).pdf\n",
      "29-01-2023  20:16           401,917 29resumefinal.pdf\n",
      "03-07-2022  11:53    <DIR>          29thMay-20220702T055900Z-001\n",
      "29-09-2022  05:58         4,936,410 2-Deep Learning-Activation Function,Loss Function,vanishing gradient problems.pdf\n",
      "19-07-2022  22:15         6,177,864 2-RidgeLassoelasticLogistic.pdf\n",
      "29-09-2022  06:00         3,811,002 3- Deep Learning optimizers.pdf\n",
      "31-05-2023  16:29            53,051 30 May.rar\n",
      "31-12-2022  22:15           310,589 31december-2022_production.png\n",
      "03-01-2023  12:54         1,021,563 322231446_2145949_1838688_6299658.docx.pdf\n",
      "16-12-2022  09:38         1,088,545 3494407_924284817_5221671127587.pdf\n",
      "20-07-2022  20:30         4,476,715 3-NaiveBayes&KNN (1).pdf\n",
      "06-01-2023  13:43    <DIR>          4000_2145811\n",
      "29-12-2022  13:04             1,014 486285524_report.PNG\n",
      "06-08-2022  20:04            46,783 48d054d7-9ca9-41a2-af20-6da22f7b1687.pdf\n",
      "26-11-2022  09:50           371,264 57-Full Manuscript-303-1-10-20210101.pdf\n",
      "03-07-2022  11:53    <DIR>          5thJune-20220702T060018Z-001\n",
      "07-01-2023  11:15            40,869 610424553_8661673022502.PNG\n",
      "03-01-2023  15:26            94,784 611890008_attach-file-1672689653245.xlsx\n",
      "08-01-2023  13:05            32,708 6174694_2019475483_ITSecurityofAssetsAuditReport.docx\n",
      "08-01-2023  13:05            52,373 6174695_773413174_answersheet.docx\n",
      "30-11-2022  10:10    <DIR>          6202146_557902306_1711667066232\n",
      "30-11-2022  10:08         4,336,189 6202146_557902306_1711667066232.zip\n",
      "29-11-2022  17:08           192,888 6213366_724256128_8881667618211.pdf\n",
      "29-11-2022  17:08           192,888 6213367_42476707_7311667618413.pdf\n",
      "25-11-2022  10:06           319,905 6214359_1000821664_ISYS40251DerivingBusinessValue (1).docx\n",
      "08-01-2023  13:04           319,905 6214359_1000821664_ISYS40251DerivingBusinessValue (2).docx\n",
      "15-11-2022  21:58           319,905 6214359_1000821664_ISYS40251DerivingBusinessValue.docx\n",
      "19-11-2022  20:37            17,603 6226585_977810161_ForecastingProjectFall20221 (1).docx\n",
      "26-11-2022  17:33            20,243 6226585_977810161_ForecastingProjectFall20221 (2).docx\n",
      "19-11-2022  20:03            17,603 6226585_977810161_ForecastingProjectFall20221.docx\n",
      "26-11-2022  18:03           178,331 6227997_804850198_4311668368487 (1).pdf\n",
      "25-11-2022  20:54           178,331 6227997_804850198_4311668368487.pdf\n",
      "15-11-2022  21:59           376,297 6228599_713001643_606D817C-0AE9-4AF8-9679-8AC576.jpeg\n",
      "24-11-2022  10:35           169,788 6244932_594254105_lab3.pdf\n",
      "24-11-2022  16:13            63,116 6246945_1997681302_1571669247673 (1).docx\n",
      "24-11-2022  10:33            63,116 6246945_1997681302_1571669247673.docx\n",
      "25-11-2022  10:01           172,719 6248251_1610762773_5221669311232.pdf\n",
      "30-12-2022  20:55           355,367 6248622_77565517_9831669329416.pdf\n",
      "26-11-2022  12:02            27,462 6248737_15177946_AssignmentRoverPart2.docx\n",
      "29-11-2022  17:18           156,402 6253046_1015605848_Rawdata-assignment-20221116.zip\n",
      "29-11-2022  10:49           187,004 6255566_1848008959_6871669689685 (1).rar\n",
      "29-11-2022  10:49           187,004 6255566_1848008959_6871669689685.rar\n",
      "30-11-2022  10:16            34,337 6256887_1144032372_4721669744820.docx\n",
      "30-11-2022  10:31            17,680 6256973_658864227_3561669747930.docx\n",
      "02-12-2022  09:40    <DIR>          6257614_970114486_CMSC733Assignment5\n",
      "02-12-2022  09:37            40,181 6257614_970114486_CMSC733Assignment5.zip\n",
      "02-01-2023  16:47           153,635 6284500_324218519_4231671106208 (1).pdf\n",
      "02-01-2023  16:46           153,635 6284500_324218519_4231671106208.pdf\n",
      "29-12-2022  12:08            14,023 6293639_1144537252_task3.docx\n",
      "29-12-2022  17:33           232,403 6296326_1215288445_9411672312163.pdf\n",
      "29-12-2022  17:30            57,383 6296343_971359209_6011672312673 (1).docx\n",
      "29-12-2022  17:34            57,383 6296343_971359209_6011672312673 (2).docx\n",
      "06-01-2023  14:04            57,383 6296343_971359209_6011672312673 (3).docx\n",
      "29-12-2022  17:15            57,383 6296343_971359209_6011672312673.docx\n",
      "30-12-2022  18:05             4,998 6297173_1069742042_9271672401337 (1).rar\n",
      "30-12-2022  18:04             4,998 6297173_1069742042_9271672401337.rar\n",
      "30-12-2022  18:07             3,000 6297175_1552145183_2901672401396.rar\n",
      "31-12-2022  12:48         1,838,669 6297472_627519062_Pythonassignmentdescription.pdf\n",
      "31-12-2022  20:30           253,772 6297922_920961791_2031672495432.pdf\n",
      "02-01-2023  17:05            26,914 6298281_303235459_62978852120552226SCI442Coursew (1).docx\n",
      "03-01-2023  12:07            26,914 6298281_303235459_62978852120552226SCI442Coursew (2).docx\n",
      "02-01-2023  16:56            26,914 6298281_303235459_62978852120552226SCI442Coursew.docx\n",
      "03-01-2023  14:01           143,842 6299068_948091880_5831672665101.png\n",
      "03-01-2023  14:01           354,285 6299069_207794875_6801672665102.pdf\n",
      "03-01-2023  15:32            13,303 6299357_465611549_7671672685975.docx\n",
      "03-01-2023  15:32         5,057,999 6299358_68953781_8531672685976.xlsx\n",
      "03-01-2023  15:32        50,512,925 6299359_1675536243_3811672685978.xlsx\n",
      "03-01-2023  15:23            94,784 6299371_175633961_6431672687293.xlsx\n",
      "03-01-2023  20:50            22,089 6299849_410794984_5291672744220.docx\n",
      "03-01-2023  20:52           581,082 6299990_898942029_6041672751306.pdf\n",
      "05-01-2023  16:37           239,959 6301385_1625681581_2191672881498.pdf\n",
      "07-01-2023  16:25           261,717 6301425_1448130059_7801672890194.docx\n",
      "07-01-2023  16:25           212,207 6301426_654502130_9391672890196.docx\n",
      "07-01-2023  16:23       201,617,580 6301722_238167626_4761672913933 (1).docx\n",
      "05-01-2023  22:18       201,617,580 6301722_238167626_4761672913933.docx\n",
      "07-01-2023  16:18           168,819 6303202_1793967889_8071673025731.gif\n",
      "07-01-2023  16:18           179,000 6303203_1296589249_8851673025731.gif\n",
      "07-01-2023  16:17           208,620 6303204_300042897_4791673025732.gif\n",
      "07-01-2023  16:17           178,322 6303206_1885821677_5561673025733.gif\n",
      "07-01-2023  15:18           231,559 6303420_654443766_5141673049427.pdf\n",
      "03-09-2022  11:53           543,608 6a2d2d74-fd47-4c8e-9305-83c33f35b46f.pdf\n",
      "03-01-2023  20:53         2,991,850 719257568_2871672743580.rar\n",
      "07-01-2023  12:31        37,137,379 881577687_marketing_campaign.csv.pdf\n",
      "02-07-2022  11:30         7,136,886 8-Gradientboosting-kmeanshierarichal.pdf\n",
      "29-06-2022  17:02         6,328,057 8thJanStats3.pdf\n",
      "29-06-2022  17:02         6,662,750 9thJanStats4.pdf\n",
      "06-06-2023  13:31            54,013 abc.pdf\n",
      "10-06-2023  13:49           261,128 Account_Statement_100323_090623.pdf\n",
      "10-06-2023  13:52           282,455 Account_Statement_3month.pdf\n",
      "10-06-2023  13:50           261,128 Account_Statement_last3month.pdf\n",
      "29-09-2022  05:59         3,253,779 activation function.zip\n",
      "12-10-2022  21:35            21,390 Advanced+Excel+Analytics+in+Excel.xlsx\n",
      "27-10-2022  13:15            61,223 AI ENGINEER MATRIX.xlsx\n",
      "31-03-2023  18:45             1,746 AirPassengers.csv\n",
      "08-01-2023  13:06            28,742 annotated bibliography.docx\n",
      "04-08-2022  21:13           510,875 aPI.pdf\n",
      "29-09-2022  06:11         1,416,716 Apple+quarterly+balance+sheet.pdf\n",
      "29-09-2022  06:11         1,429,366 Apple+quarterly+balance+sheet+1.pdf\n",
      "10-06-2023  13:53           427,017 Apr'23 (1).pdf\n",
      "08-06-2023  09:39           427,017 Apr'23.pdf\n",
      "02-09-2022  17:49    <DIR>          archive\n",
      "03-09-2022  13:06    <DIR>          archive (1)\n",
      "03-09-2022  13:05           641,269 archive (1).zip\n",
      "02-09-2022  17:48         5,732,543 archive.zip\n",
      "12-12-2022  15:08           524,200 AReM.zip\n",
      "10-03-2023  18:49         1,103,184 arnaud-jaegers-Al7IoQ74-LU-unsplash.jpg\n",
      "12-03-2023  14:33    <DIR>          asd.py\n",
      "31-05-2023  17:05                89 asdf.txt\n",
      "10-03-2023  21:49    <DIR>          ASSIGNMENT\n",
      "29-09-2022  19:54        10,401,953 assignment (2) (2).xlsx\n",
      "30-07-2022  22:27           104,846 atlassian-git-cheatsheet.pdf\n",
      "19-04-2023  09:58    <DIR>          AWS\n",
      "07-06-2023  11:22           579,043 bank.zip\n",
      "07-06-2023  11:22           444,572 bank-additional.zip\n",
      "23-01-2023  22:29           391,059 bas_resume23.pdf\n",
      "08-01-2023  13:06            15,587 Basics.docx\n",
      "01-12-2022  16:05    <DIR>          Big_Data_Analytics_UZH-master\n",
      "01-12-2022  16:04           744,774 Big_Data_Analytics_UZH-master.zip\n",
      "17-12-2022  13:54    <DIR>          book_rating_prediction\n",
      "17-12-2022  14:45       101,781,720 book_rating_prediction17.zip\n",
      "27-01-2023  11:24            17,462 Book1.xlsx\n",
      "17-12-2022  13:44    <DIR>          bookprediction\n",
      "16-12-2022  13:22         1,032,922 books_model.pkl\n",
      "16-12-2022  14:01         1,346,128 bostonhousepricing-main.zip\n",
      "23-03-2023  19:56           555,360 c76bb6b8-8d0d-42ca-8438-976e438247bf.pdf\n",
      "07-10-2022  17:33            26,717 CarPrice_Assignment.csv\n",
      "07-01-2023  13:24    <DIR>          case notes\n",
      "16-10-2022  12:44           808,213 CCI02252019_0005.jpg\n",
      "16-10-2022  12:46           706,992 CCI02252019_0005-min.jpg\n",
      "16-10-2022  12:48           655,726 CCI02252019_0005-minedi.jpg\n",
      "27-04-2023  11:19             5,132 chatgpt.jpeg\n",
      "03-04-2023  15:51    <DIR>          chromedriver_win32\n",
      "09-06-2023  21:49    <DIR>          chromedriver_win32 (1)\n",
      "09-06-2023  21:47         6,603,303 chromedriver_win32 (1).zip\n",
      "03-04-2023  15:51         7,117,143 chromedriver_win32.zip\n",
      "14-04-2023  15:23                57 Class schedule.csv\n",
      "14-04-2023  15:14            25,600 Class schedule.xls\n",
      "27-09-2022  15:06    <DIR>          Class_notebooks-20220927T091839Z-001\n",
      "27-09-2022  14:49         3,661,484 Class_notebooks-20220927T091839Z-001.zip\n",
      "22-04-2023  16:39             3,516 cleaneddata (1).csv\n",
      "22-04-2023  16:38             4,007 cleaneddata.csv\n",
      "29-05-2023  14:39    <DIR>          code\n",
      "29-05-2023  12:43        42,822,011 code.zip\n",
      "08-06-2023  09:42         1,282,675 combinepdf.pdf\n",
      "12-03-2023  14:34    <DIR>          computer vision\n",
      "03-09-2022  17:55           299,120 conda-cheatsheet (1).pdf\n",
      "05-06-2023  12:14           299,120 conda-cheatsheet (2).pdf\n",
      "03-09-2022  17:55           787,695 conda-cheatsheet.pdf\n",
      "29-01-2023  13:56             1,083 Configuration.xml\n",
      "27-02-2023  18:23           150,166 Control_flow practice_27_feb.ipynb\n",
      "18-05-2023  12:25            10,465 countries.csv\n",
      "01-08-2022  14:05         2,434,564 Crop Recommendation System Project.pdf\n",
      "20-04-2023  20:42         3,014,476 Customer Profitability Sample PBIX.pbix\n",
      "20-04-2023  20:43         2,906,427 Customer Profitability Sample-no-PV.xlsx\n",
      "25-05-2023  14:03    <DIR>          cv2\n",
      "18-06-2023  16:01            10,207 Damini@open_cv.ipynb\n",
      "24-09-2022  21:51    <DIR>          Data\n",
      "07-10-2022  17:17            14,884 Data Dictionary - carprices.xlsx\n",
      "24-09-2022  21:50           709,466 Data.zip\n",
      "13-03-2023  11:52           379,397 data-analytics iamge.html\n",
      "12-10-2022  17:54    <DIR>          database.sqlite\n",
      "18-03-2023  11:34       133,811,040 database.sqlite.zip\n",
      "31-07-2022  18:17       372,798,464 database1.sqlite\n",
      "12-10-2022  17:46                 0 database5.sqlite\n"
     ]
    },
    {
     "name": "stdout",
     "output_type": "stream",
     "text": [
      "22-04-2023  16:43             8,347 dataexcel (1).xlsx\n",
      "22-04-2023  16:42             9,286 dataexcel.xlsx\n",
      "13-09-2022  21:40        24,741,696 dataset (1).rar\n",
      "02-01-2023  15:48            28,209 dataset issue.png\n",
      "13-09-2022  21:39        24,741,696 dataset.rar\n",
      "27-04-2023  16:32    <DIR>          data-society-global-terrorism-data\n",
      "31-03-2023  20:14           118,690 Dax 2.pbix\n",
      "31-03-2023  18:08           430,086 DAX.pbix\n",
      "11-10-2022  13:38         2,493,152 Day04-Docker-20221011T080805Z-001.zip\n",
      "07-01-2023  13:33            31,303 ddddddWRrrrrrrr.png\n",
      "05-08-2022  11:46         1,569,899 Deep learning (2).pdf\n",
      "01-08-2022  14:05           378,488 Deep Learning.pdf\n",
      "06-12-2022  14:50    <DIR>          Deployement\n",
      "27-09-2022  18:35    <DIR>          Diabetes-prediction-project-main\n",
      "27-09-2022  18:35         1,576,224 Diabetes-prediction-project-main.zip\n",
      "27-09-2022  18:34           510,271 diabetes-prediction-rfc-model.pkl\n",
      "08-01-2023  13:06           546,634 Dissertation.pptx\n",
      "09-09-2022  21:49    <DIR>          Django-Socialauth-master\n",
      "09-09-2022  21:49           146,954 Django-Socialauth-master.zip\n",
      "11-10-2022  12:49    <DIR>          DL_Tensor_Flow.7z (Unzipped Files)-20221011T071416Z-001\n",
      "11-10-2022  12:44            15,979 DL_Tensor_Flow.7z (Unzipped Files)-20221011T071416Z-001.zip\n",
      "27-09-2022  15:06    <DIR>          DL1-20220927T091704Z-001\n",
      "27-09-2022  14:47           134,638 DL1-20220927T091704Z-001.zip\n",
      "23-09-2022  12:45       548,820,824 Docker Desktop Installer.exe\n",
      "03-09-2022  19:23           143,755 docker-cheat-sheet.pdf\n",
      "21-04-2023  21:32    <DIR>          Docker-For-Data-Science-main\n",
      "21-04-2023  21:32         1,987,474 Docker-For-Data-Science-main.zip\n",
      "08-01-2023  13:06           973,700 document.pdf\n",
      "04-11-2022  15:52         4,447,549 DOCUMENTS FOR GLOBAL LOGIC.pdf\n",
      "04-11-2022  15:53         4,446,281 DOCUMENTS FOR GLOBAL LOGIC-1-11.pdf\n",
      "04-11-2022  15:26         4,970,179 Documents_samatrix.zip\n",
      "11-06-2023  15:05             7,255 dog_image_11.jpeg\n",
      "08-05-2023  16:46             5,712 dogimage.jpeg\n",
      "03-01-2023  16:24            33,894 DWRRRRRRR03012023.png\n",
      "29-12-2022  18:29            28,405 dwrrrrrrrrrrrr29122022.png\n",
      "01-04-2023  10:01    <DIR>          EDA\n",
      "16-10-2022  19:11             4,363 Email_OTP_RU380328.pdf\n",
      "29-09-2022  06:11            20,859 employee_ctc_pdf_load_solved.xlsx\n",
      "29-09-2022  06:12           203,553 Employee+data.pdf\n",
      "31-08-2022  20:11    <DIR>          End-to-End-Diabetes-Prediction-Application-Using-Machine-Learning-master\n",
      "08-01-2023  13:06            18,508 Essay template.docx\n",
      "03-11-2022  13:04                63 Example.txt\n",
      "03-06-2023  13:10                 0 example03.txt\n",
      "22-05-2023  17:04    <DIR>          Excel\n",
      "19-08-2022  14:20         1,513,112 Excel Analyticxs.pdf\n",
      "31-05-2023  11:23    <DIR>          Excel_Notes\n",
      "22-05-2023  17:04        52,764,710 Excel_Notes.zip\n",
      "24-09-2022  22:50    <DIR>          Exercise\n",
      "24-09-2022  21:52        24,431,113 Exercise.zip\n",
      "22-03-2023  13:29    <DIR>          export_data\n",
      "22-03-2023  13:30           166,341 export_data (1)\n",
      "05-06-2023  10:32        13,091,720 F&B Sales -20230605T050228Z-001.zip\n",
      "19-08-2022  13:38               230 Fabionacci.py\n",
      "27-04-2023  11:18             3,717 Facebook.jpeg\n",
      "10-06-2023  13:53           428,601 Feb'23 (1).pdf\n",
      "08-06-2023  09:39           428,601 Feb'23.pdf\n",
      "16-09-2022  19:48        14,064,278 FifteenThousandUsefulPhrases_10777354.pdf\n",
      "14-10-2022  14:06    <DIR>          fig_code\n",
      "21-02-2023  13:56            22,016 file_example_XLS_10.xls\n",
      "20-11-2022  08:12           189,963 Final Solution.xlsx\n",
      "19-03-2023  13:15             1,709 final_data.csv\n",
      "27-02-2023  13:56             8,949 final_file.xlsx\n",
      "02-06-2023  11:09           414,671 Final_updated_resume19 (1).pdf\n",
      "19-04-2023  13:26           414,671 Final_updated_resume19.pdf\n",
      "14-10-2022  10:50             1,417 finalised_kmeans_model.sav\n",
      "13-01-2023  22:01             1,613 finalized_model.pickle\n",
      "14-10-2022  23:45             3,856 finalized_model1456.pickle\n",
      "23-01-2023  15:22           401,602 finalresume2301.pdf\n",
      "27-01-2023  11:45           394,597 finalteleresume.pdf\n",
      "07-06-2023  11:19           392,434 Financial Analytics.pdf\n",
      "09-10-2022  22:15         3,663,063 firstfigure.html\n",
      "01-05-2023  10:16            27,279 Fizza @Iterators.ipynb\n",
      "20-04-2023  16:26            33,728 Fizza and rajesh - Errors and Built-in Exceptions and File handling.ipynb\n",
      "17-04-2023  16:22            41,375 Fizza and rajesh builtin modules.ipynb\n",
      "03-04-2023  17:29           154,115 Fizza and Rajesh.ipynb\n",
      "13-04-2023  17:28           111,884 fizza and rajesh-Tuples, list and dic.ipynb\n",
      "26-04-2023  16:51            45,865 Fizza_oops.ipynb\n",
      "15-05-2023  11:15            12,205 Fizza_Practice_questions.ipynb\n",
      "06-05-2023  17:13    <DIR>          Flask\n",
      "05-06-2023  11:28    <DIR>          Flask (1)\n",
      "05-06-2023  11:24           716,535 Flask (1).zip\n",
      "06-05-2023  17:10           716,535 Flask.zip\n",
      "06-09-2022  06:08    <DIR>          flask_demo-20220905T235450Z-001\n",
      "06-09-2022  05:25             7,623 flask_demo-20220905T235450Z-001.zip\n",
      "06-09-2022  15:06    <DIR>          Flaskpractice\n",
      "31-12-2022  20:31       101,827,904 flickr_logos_27_dataset.tar.gz\n",
      "05-09-2022  15:06    <DIR>          Flight-Price-Prediction-master\n",
      "12-12-2022  14:10       200,911,530 flights.zip\n",
      "27-02-2023  13:59            25,478 forestfires.csv\n",
      "26-01-2023  17:24            16,947 Formatting+data+and+tables.xlsx\n",
      "29-12-2022  17:53           173,585 General instructions (1).pptx\n",
      "08-01-2023  13:06           173,585 General instructions (2).pptx\n",
      "02-12-2022  17:43           173,585 General instructions.pptx\n",
      "25-03-2023  22:12         2,574,273 get-pip.py\n",
      "30-07-2022  22:24        49,381,480 Git-2.37.1-64-bit (1).exe\n",
      "30-07-2022  13:08        49,381,480 Git-2.37.1-64-bit.exe\n",
      "01-10-2022  10:14        49,375,864 Git-2.37.3-64-bit.exe\n",
      "30-07-2022  22:26           100,194 git-cheat-sheet-education.pdf\n",
      "12-09-2022  19:34                29 gog.py\n",
      "27-04-2023  11:18             3,326 Google.png\n",
      "23-11-2022  13:42        14,599,992 GrammarlyInstaller.c000000702OBVqdpuIdS.exe\n",
      "17-06-2023  14:45           489,998 group_photo.jpg\n",
      "19-08-2022  13:40                41 hello.py\n",
      "21-04-2023  23:42    <DIR>          Hello_my_world\n",
      "14-09-2022  13:24                32 helloworld.py\n",
      "13-06-2023  09:27    <DIR>          HR-Dashboard-MySQL-PowerBI-main\n",
      "12-06-2023  12:08         1,462,559 HR-Dashboard-MySQL-PowerBI-main.zip\n",
      "19-05-2023  17:14            17,981 i5.jpg\n",
      "11-10-2022  22:35           720,864 ib sig 2021.jpg\n",
      "08-06-2023  12:00           308,099 ilovepdf_merged.pdf\n",
      "17-06-2023  16:03            54,610 img1.jpg\n",
      "17-06-2023  16:03            52,849 img2.jpg\n",
      "17-06-2023  16:03            48,395 img3.jpg\n",
      "17-06-2023  16:03            41,330 img4.jpg\n",
      "17-06-2023  16:04            96,862 img5.jpeg.jpg\n",
      "13-12-2022  12:01               105 Index\n",
      "26-01-2023  22:50            22,730 Indirect+Function.xlsx\n",
      "05-06-2023  10:46    <DIR>          iNeuron_FSDA-main-20230605T051534Z-001\n",
      "05-06-2023  10:46        12,630,373 iNeuron_FSDA-main-20230605T051534Z-001.zip\n",
      "12-06-2023  10:05    <DIR>          iNeuron_FSDA-main-20230612T042137Z-001\n",
      "12-06-2023  10:04        12,630,373 iNeuron_FSDA-main-20230612T042137Z-001.zip\n",
      "10-03-2023  20:15    <DIR>          iNeuron-Full-Stack-Data-Science-Assignments-main\n",
      "10-03-2023  20:12       144,869,666 iNeuron-Full-Stack-Data-Science-Assignments-main.zip\n",
      "19-08-2022  17:17                29 infile.py\n",
      "18-08-2022  22:59            73,216 inter.jfif\n",
      "10-08-2022  20:13           277,130 Internship Certificate internship certi.pdf\n",
      "13-09-2022  21:58         1,160,337 introduction.pptx\n",
      "28-10-2022  12:49             4,633 invite.ics\n",
      "25-02-2023  13:12             2,998 iris.names\n",
      "27-10-2022  13:15            13,275 JD AI ENGINEER.docx\n",
      "05-09-2022  17:49           644,465 JD Python Developer Speech  - Ozonetel - Sudhamay Maity.pdf\n",
      "15-04-2023  12:11               947 JioMeet Invite.ics\n",
      "16-09-2022  19:47           447,946 Job-Interviews-In-English_Series-One-Pack.pdf\n",
      "16-09-2022  19:44           582,510 KEY_PHRASES_FOR_INTERVIEWS.pdf\n",
      "20-09-2022  19:22         6,631,527 KMS_Pico_Full_Setup.zip\n",
      "03-12-2022  14:38         1,480,659 konect-handbook (1).pdf\n",
      "03-12-2022  14:05         1,480,659 konect-handbook.pdf\n",
      "08-10-2022  14:55    <DIR>          latestversion\n",
      "26-01-2023  22:51            11,907 Lecture_Maps_Unsolved.xlsx\n",
      "06-11-2022  21:22         2,014,901 Linear Regression on Algerian Forest Fire Dataset.pdf\n",
      "25-10-2022  21:51         1,574,096 Linear_Regression_Task.pdf\n",
      "23-09-2022  14:12           412,306 Linkresume.pdf\n",
      "07-10-2022  12:34           469,423 Linuc commands.pdf\n",
      "25-08-2022  11:13           469,423 Linux commands.pdf\n",
      "20-04-2023  16:24               440 loss.txt\n",
      "16-04-2023  10:29        21,573,975 Machine Learning Module 1-20230416T045929Z-001.zip\n",
      "19-06-2023  15:27        21,573,975 Machine Learning Module 1-20230619T095712Z-001.zip\n",
      "06-05-2023  10:00        58,202,095 Machine Learning Module 2-20230506T042824Z-001.zip\n",
      "06-05-2023  10:01         6,134,873 Machine Learning Module 3-20230506T043140Z-001.zip\n",
      "06-05-2023  10:00         6,815,512 Machine Learning Module 4-20230506T042949Z-001.zip\n",
      "06-05-2023  10:01        72,129,159 Machine Learning Module 5-20230506T043049Z-001.zip\n",
      "12-03-2023  14:35                 0 machine learning.txt\n",
      "31-08-2022  19:46    <DIR>          Machine-Learning-Projects-master\n",
      "31-08-2022  19:41       122,583,229 Machine-Learning-Projects-master.zip\n",
      "12-10-2022  21:14            28,246 Macros.xlsm\n",
      "09-02-2023  19:42           402,072 Main_resume.pdf\n",
      "18-05-2023  12:25           496,762 Mamuti@Seaborn@WEB Scrapping.ipynb\n",
      "05-03-2023  12:53           104,829 Manish & Saurabh.ipynb\n",
      "22-03-2023  15:03           220,627 Manish.ipynb\n",
      "10-06-2023  13:53           427,926 Mar'23 (1).pdf\n",
      "08-06-2023  09:39           427,926 Mar'23.pdf\n",
      "25-03-2023  18:13           465,112 Markov_Chain_project.ipynb\n",
      "04-01-2023  16:52            85,263 message section is not availble.png\n",
      "03-12-2022  13:56         1,706,855 metro-trips-2022-q3 (1).zip\n",
      "02-12-2022  17:31         1,706,855 metro-trips-2022-q3.zip\n",
      "06-05-2023  09:10    <DIR>          ML\n",
      "03-09-2022  14:26         4,115,949 ML NOtes.pdf\n",
      "06-05-2023  09:10        52,847,990 ML Notes.zip\n",
      "23-09-2022  14:34    <DIR>          ML11 4-20220923T083136Z-001\n",
      "08-01-2023  13:05           245,359 mla-referencing-guide.pdf\n",
      "12-02-2023  11:29                 0 mlfile.txt\n",
      "27-04-2023  11:19             6,911 MLimage.jpeg\n",
      "12-09-2022  19:35    <DIR>          mod1\n",
      "14-10-2022  23:09               815 modelForPrediction145.sav\n",
      "01-05-2023  15:13            10,156 Module 4 - Outline.docx\n",
      "13-03-2023  14:44    <DIR>          Moduls_13\n",
      "02-11-2022  17:33           150,206 Mr. Sanjay Kumar- Employment Offer.pdf\n",
      "01-12-2022  11:24    <DIR>          MushroomDataset\n",
      "01-12-2022  11:20           473,175 MushroomDataset.zip\n",
      "12-06-2023  11:56           173,473 Music_Store_database (1).sql\n",
      "12-06-2023  11:45           173,473 Music_Store_database.sql\n",
      "19-03-2023  13:39    <DIR>          my_cleaned_data\n",
      "20-03-2023  10:36    <DIR>          my_expoted_file\n",
      "03-11-2022  11:31                96 My_newcustom0311.py\n",
      "30-04-2023  14:54             8,100 my_pikachu_image.jpg\n",
      "04-06-2023  17:19    <DIR>          my_project\n",
      "16-12-2022  14:02    <DIR>          mybostonhousepricing-main\n",
      "07-10-2022  17:41            27,405 mycsv.csv\n",
      "15-10-2022  19:15    <DIR>          Myenvirement\n",
      "22-03-2023  13:28           147,525 myexported_data.csv\n",
      "08-05-2023  07:20               145 myfile.py\n",
      "03-06-2023  13:13                 0 myfile0306.txt\n",
      "05-06-2023  11:47    <DIR>          myflask_practice\n",
      "12-02-2023  12:55               236 mymlfile2023.txt\n",
      "17-09-2022  13:06               219 mymodule.py\n",
      "12-10-2022  13:40    <DIR>          mynlp\n",
      "02-04-2023  14:57             7,923 mypicachuface.jpg\n",
      "24-03-2023  13:46        16,117,760 mysql-connector-net-8.0.32.msi\n",
      "02-03-2023  14:03         2,506,752 mysql-installer-web-community-8.0.32.0 (1).msi\n",
      "04-03-2023  13:27         2,506,752 mysql-installer-web-community-8.0.32.0 (2).msi\n",
      "23-03-2023  16:29         2,506,752 mysql-installer-web-community-8.0.32.0 (3).msi\n",
      "02-03-2023  14:02         2,506,752 mysql-installer-web-community-8.0.32.0.msi\n",
      "16-03-2023  21:31    <DIR>          mysqlsampledatabase\n",
      "22-04-2023  16:59    <DIR>          mysqlsampledatabase (1)\n",
      "22-04-2023  16:58            54,335 mysqlsampledatabase (1).zip\n",
      "16-03-2023  21:31            54,335 mysqlsampledatabase.zip\n",
      "27-02-2023  13:55             4,309 myupdatedfile123.csv\n",
      "30-11-2022  11:49    <DIR>          myZip_s2131748\n",
      "02-01-2023  15:27         2,569,544 myZip_s2145892.zip\n",
      "03-01-2023  12:29    <DIR>          myZip_s2146433\n",
      "03-01-2023  12:28       151,723,886 myZip_s2146433.zip\n",
      "05-01-2023  16:38    <DIR>          myZip_s2147122\n",
      "05-01-2023  16:37           304,892 myZip_s2147122.zip\n",
      "27-01-2023  11:24            17,734 Named+Ranges.xlsx\n",
      "14-11-2022  07:32    <DIR>          NerdyTurtlez\n",
      "14-03-2023  09:42                 0 New Text Document.txt\n",
      "04-11-2022  10:42           411,545 new_link resume (1).pdf\n",
      "15-09-2022  21:22           411,545 new_link resume.pdf\n",
      "24-09-2022  18:39           774,608 new_link resume_page-0001.jpg\n",
      "18-06-2023  14:52            40,904 new_my_image.jpg\n",
      "11-09-2022  11:16    <DIR>          newdjango\n",
      "03-11-2022  14:42                79 newfile.txt\n",
      "12-02-2023  11:24                 0 newfile12022023.txt\n",
      "23-07-2022  12:59               133 newonefile.txt\n",
      "09-06-2023  19:37               256 newtestfile03.txt\n",
      "19-04-2023  14:43           420,626 NewUpdated_resume19.pdf\n",
      "02-01-2023  16:25            22,464 newyearDWR2023.png\n",
      "30-05-2023  15:13    <DIR>          NLP Projectsss\n",
      "30-05-2023  15:06    18,966,330,907 NLP Projectsss.zip\n",
      "16-04-2023  17:06    <DIR>          NLP-20230416T101243Z-001\n",
      "16-04-2023  15:44       534,675,109 NLP-20230416T101243Z-001.zip\n",
      "07-01-2023  13:33    <DIR>          nnerdytutlez\n",
      "16-10-2022  19:11            61,554 noname\n",
      "16-10-2022  19:11            23,770 noname (1)\n",
      "20-09-2022  18:33           170,384 nresume.pdf\n",
      "30-07-2022  11:40           280,866 NUMPY Cheatsheet.pdf\n",
      "23-06-2023  20:36           109,042 Numpy_and_pandas_revision_2023.ipynb\n",
      "23-04-2023  16:45            58,208 Numpy_damini.ipynb\n",
      "29-01-2023  13:59         3,664,056 officedeploymenttool_15928-20216 (1).exe\n",
      "29-01-2023  13:48         3,664,056 officedeploymenttool_15928-20216.exe\n",
      "05-06-2023  10:59         3,674,056 officedeploymenttool_16327-20214.exe\n",
      "08-05-2023  11:44       464,763,552 On-premises data gateway (personal mode).exe\n",
      "20-05-2023  12:57         1,399,205 Open_cv_07_05_2023 (1).ipynb\n",
      "20-05-2023  10:57         1,388,571 Open_cv_07_05_2023.ipynb\n",
      "27-07-2022  19:31        10,269,576 opencv_haarcascade_frontalface_default.xml at master ú opencv_opencv.html\n",
      "27-07-2022  19:31    <DIR>          opencv_haarcascade_frontalface_default.xml at master ú opencv_opencv_files\n",
      "10-06-2023  00:42            35,884 OPPS_revision.ipynb\n",
      "07-01-2023  16:10    <DIR>          Orde_rId_2145311_7\n",
      "29-11-2022  16:30         2,531,769 Order_Id_2129919.html\n",
      "29-11-2022  16:22         1,873,191 Order_Id_2129919.ipynb\n",
      "01-12-2022  12:47         2,311,913 Order_Id_2129919_a.pdf\n",
      "29-11-2022  16:30         2,262,677 Order_Id_2129919_final_pdf.pdf\n",
      "05-01-2023  16:02    <DIR>          Order_Id_2145622\n",
      "02-01-2023  16:37         1,372,132 Order_Id_2145721_3100_02012022.html\n",
      "04-01-2023  17:19    <DIR>          Order_Id_2145892_5540\n",
      "03-01-2023  13:21    <DIR>          Order_Id_2145949_1200_maths\n",
      "02-12-2022  18:18           562,344 order_no_2132070.zip\n",
      "19-08-2022  17:21                51 outfile.py\n",
      "24-09-2022  10:20    <DIR>          p1\n",
      "03-09-2022  19:21           118,785 p2.jpeg\n",
      "25-10-2022  21:51           611,052 Pandas Cheat Sheet.pdf\n",
      "06-11-2022  21:37         6,345,977 Pandas Dataframe Complete Cheatsheet.pdf\n",
      "01-12-2022  11:51        25,219,072 pandoc-2.19.2-windows-x86_64.msi\n",
      "10-03-2023  16:35       482,003,928 PBIDesktopSetup_x64.exe\n",
      "29-09-2022  06:11            17,654 PDF_import_solved.xlsx\n",
      "16-12-2022  13:41            17,291 penalty grid (1).docx\n",
      "12-12-2022  12:47            17,291 penalty grid.docx\n",
      "15-01-2023  16:06    <DIR>          Phishing-Website-Detection-by-Machine-Learning-Techniques-master\n",
      "15-01-2023  15:59         2,843,304 Phishing-Website-Detection-by-Machine-Learning-Techniques-master.zip\n",
      "18-12-2022  11:25    <DIR>          phising\n",
      "26-04-2023  11:16            63,214 photo-1611003228941-98852ba62227.jpeg\n",
      "16-10-2022  12:06            46,240 pic1.jpg\n",
      "19-09-2022  18:42         1,180,881 Pima_diabetes_Tree.png\n",
      "26-01-2023  22:51           117,644 Pivot+Tables.xlsx\n",
      "19-05-2023  20:59         3,376,352 Plotly and Cufflinks Crash Course.ipynb.zip\n",
      "26-04-2023  11:52            43,024 Pooja ma'am @oops.ipynb\n",
      "10-03-2023  19:15    <DIR>          Power Bi\n",
      "23-03-2023  14:51    <DIR>          Power BI Assignment\n",
      "18-05-2023  10:14    <DIR>          Power BI DAX-20230508T020104Z-001\n",
      "08-05-2023  07:31        15,004,554 Power BI DAX-20230508T020104Z-001.zip\n",
      "14-03-2023  09:12    <DIR>          Power BI Material-20230314T034136Z-001\n",
      "14-03-2023  09:12        90,687,244 Power BI Material-20230314T034136Z-001.zip\n",
      "05-06-2023  11:16            20,082 Power_BI_Project.zip\n",
      "17-09-2022  10:41    <DIR>          PowerBi Project-20220917T050125Z-001\n",
      "05-06-2023  10:20    <DIR>          PowerBi Project-20230605T044903Z-001\n",
      "05-06-2023  10:19           216,335 PowerBi Project-20230605T044903Z-001.zip\n",
      "20-04-2023  20:54    <DIR>          Power-BI-raw-data-master\n",
      "20-04-2023  20:54         9,833,575 Power-BI-raw-data-master.zip\n",
      "13-01-2023  16:48    <DIR>          Practice\n",
      "09-05-2023  18:20            29,509 practice day 1.ipynb\n",
      "24-09-2022  21:52    <DIR>          Presentations\n",
      "24-09-2022  21:52         1,317,567 Presentations.zip\n",
      "24-09-2022  16:20    <DIR>          Product-20211124T053757Z-001\n",
      "24-09-2022  16:19        19,548,195 Product-20211124T053757Z-001.zip\n",
      "20-04-2023  11:10                 0 profit.txt\n",
      "29-07-2022  20:09         2,161,950 project discussion.pdf\n",
      "05-09-2022  15:16    <DIR>          Projects\n",
      "03-09-2022  12:31            17,861 Proposal 8 26.docx\n",
      "24-03-2023  15:03       423,849,032 pycharm-community-2022.3.3.exe\n",
      "18-03-2023  15:17    <DIR>          Python Basic Assignment\n",
      "04-04-2023  16:01        24,381,614 Python Programming.zip\n",
      "27-04-2023  11:39             2,842 python.jpeg\n",
      "13-03-2023  10:01                85 pythoncustom.py\n",
      "25-02-2023  11:09    <DIR>          python-data-science-mastercourse-main\n",
      "24-03-2023  15:41    <DIR>          python-programming-master-course-main\n",
      "13-03-2023  10:01                57 pythonproject.py\n",
      "20-04-2023  21:09    <DIR>          Python-Tutorial-2022--main\n",
      "20-04-2023  21:08        26,839,563 Python-Tutorial-2022--main.zip\n",
      "11-10-2022  12:47            45,893 PyTorch 1.1.ipynb\n",
      "08-01-2023  13:05           109,841 reference-examples.pdf\n",
      "08-01-2023  13:05           225,724 reference-guide.pdf\n",
      "08-01-2023  13:06            16,422 Report and article.docx\n",
      "11-12-2022  20:51        17,759,562 Report_bike_sharing_data.docx\n",
      "08-01-2023  13:07           543,960 research proposal template.pdf\n",
      "08-01-2023  13:04            83,430 research report.docx\n",
      "08-01-2023  13:04            21,086 research report_management.docx\n",
      "05-06-2023  12:57         1,774,288 review scrapper (1).ipynb\n",
      "24-03-2023  15:15         1,766,609 review scrapper.ipynb\n",
      "29-03-2023  13:44            39,686 RUDA.ipynb\n",
      "25-03-2023  15:46           126,011 salary negotiation.jpg\n",
      "22-03-2023  13:32    <DIR>          Sales_data\n",
      "20-04-2023  11:03                 0 salesfile.txt\n",
      "30-08-2022  21:07                56 samplejson.json\n",
      "09-11-2022  12:07           410,816 Sanjay Kumar (1).pdf\n",
      "04-11-2022  15:56           301,712 Sanjay Kumar.pdf\n",
      "27-01-2023  11:45           394,597 Sanjay_Kumar_Machine_Learning_Engineer (1).pdf\n",
      "29-01-2023  20:16           401,917 Sanjay_Kumar_Machine_Learning_Engineer (2).pdf\n",
      "09-02-2023  19:41           402,072 Sanjay_Kumar_Machine_Learning_Engineer (3).pdf\n",
      "23-01-2023  22:28           391,059 Sanjay_Kumar_Machine_Learning_Engineer.pdf\n",
      "19-04-2023  16:19                 0 sanjay19file.txt\n",
      "22-04-2023  15:20           152,752 Saurabh.ipynb\n",
      "14-10-2022  00:16               621 Scaler_model_for.sav\n",
      "08-12-2022  18:27         3,369,928 scientific poster template.pptx\n",
      "24-03-2023  15:13    <DIR>          Scraper-20230324T092720Z-001\n",
      "05-06-2023  11:23    <DIR>          Scraper-20230605T055135Z-001\n",
      "05-06-2023  11:21        17,052,049 Scraper-20230605T055135Z-001.zip\n",
      "14-03-2023  11:43            87,613 sdfghjkl.csv\n",
      "03-12-2022  14:04             9,300 seeds_dataset (1).txt\n",
      "03-12-2022  13:57             9,300 seeds_dataset.txt\n",
      "10-03-2023  16:06           453,367 Selecting+the+right+Visuals(1st Oct_FSDA).pdf\n",
      "29-12-2022  13:00            26,084 sentiment_Analysis_updated.docx\n",
      "26-01-2023  17:00            13,813 Session7_Exercise.xlsx\n",
      "26-09-2022  05:51            26,456 Session9_Exercise.xlsx\n",
      "26-09-2022  14:42            73,387 Session9_Solution.xlsx\n",
      "27-01-2023  10:36            21,982 Shortcuts.xlsx\n",
      "04-03-2023  17:12            27,423 Shrey.ipynb\n",
      "30-04-2023  11:38            35,901 Shrey@oops.ipynb\n",
      "11-10-2022  22:35            14,460 sign sanjay.jpg\n",
      "13-03-2023  11:53            16,281 site-stats-concept-illustration_114360-1434.avif\n",
      "14-10-2022  14:05    <DIR>          sklearn_tutorial-master\n",
      "14-10-2022  14:05           164,891 sklearn_tutorial-master.zip\n",
      "12-12-2022  11:28            10,942 social.png\n",
      "23-12-2021  00:06         1,733,053 speech.txt\n",
      "10-05-2023  10:05         1,733,053 speech1.txt\n",
      "17-09-2022  11:03    <DIR>          Spend-20211123T045440Z-001.zip (Unzipped Files)-20220917T052232Z-001\n",
      "18-04-2023  10:12         1,090,767 SQL - ppt.pdf\n",
      "28-06-2022  15:57         1,563,052 SQL EXCLUSIVE NOTES .pdf\n",
      "01-08-2022  14:05         1,000,464 SQL interview preparation sheet.pdf\n",
      "13-08-2022  11:16         3,677,483 SQL.pdf\n",
      "18-03-2023  15:38    <DIR>          SQL_ASSIGNMENT\n",
      "26-02-2023  13:57             3,823 SQL_Commands.sql\n",
      "15-06-2023  15:56    <DIR>          Sql_docs\n",
      "09-04-2023  17:28           131,441 SQL_pytyhon_25.ipynb\n",
      "25-03-2023  22:52            43,075 SQL-Python.ipynb\n",
      "11-10-2022  22:49    <DIR>          SSC2022\n",
      "14-10-2022  23:09               621 standardScalar145.sav\n",
      "11-04-2023  09:39    <DIR>          Statistics\n",
      "15-04-2023  13:21            37,839 Stats and probability.ipynb\n",
      "29-06-2022  17:01         5,760,923 stats1.pdf\n",
      "05-04-2023  12:40            22,654 Stats10_12.ipynb\n",
      "29-06-2022  17:02         5,964,062 stats2.pdf\n",
      "29-06-2022  17:02         6,829,549 stats5.pdf\n",
      "26-03-2023  16:26             2,936 Stored_procedure.sql\n",
      "06-03-2023  17:36            27,731 String_04-06.ipynb\n",
      "08-05-2023  16:59        10,931,184 Sublime Text Build 3211 x64 Setup.exe\n",
      "30-07-2022  13:19            71,399 SWTM-2088_Atlassian-Git-Cheatsheet.pdf\n",
      "07-11-2022  12:54           777,410 t spaCy, NER(Named Entity Recognition),.pdf\n",
      "03-05-2023  11:38            66,887 table (1).pdf\n",
      "04-04-2023  15:09            66,887 table.pdf\n",
      "14-08-2022  18:48           479,882 Task Details.pdf\n",
      "30-04-2023  14:34    <DIR>          Task_submission_modified\n",
      "30-04-2023  14:33         3,325,384 Task_submission_modified.zip\n",
      "01-10-2022  21:34    <DIR>          Telegram Desktop\n",
      "27-01-2023  11:23           397,382 teleresume.pdf\n",
      "11-10-2022  12:47            56,889 Tensorflow_1.1.ipynb\n",
      "27-02-2023  11:47            34,313 Tensorflow_1.2.ipynb\n",
      "03-11-2022  13:04                83 test.txt\n",
      "26-08-2022  22:20                33 test.txt.txt\n",
      "17-04-2023  10:49            21,957 test_Y3wMUE5_7gLdaTN.csv\n",
      "03-11-2022  13:28                 0 Test0211.txt\n",
      "19-04-2023  16:35               164 test1904.txt\n",
      "16-02-2023  18:08    <DIR>          TGC\n",
      "14-03-2023  14:56               152 tgc.txt\n",
      "23-09-2022  17:37    <DIR>          time series-20220923T120550Z-001\n",
      "23-09-2022  14:34    <DIR>          timeSeries-20220923T083150Z-001\n",
      "04-03-2023  12:27             9,729 tips.csv\n",
      "19-04-2023  16:10                 0 Todayfile.txt\n",
      "18-11-1996  21:06        47,040,016 train-images.idx3-ubyte\n",
      "18-12-2022  12:17           800,920 Training Dataset.arff\n",
      "01-10-2022  21:27        37,431,504 tsetup-x64.4.2.4.exe\n",
      "20-04-2023  23:57       110,628,872 Unconfirmed 555121.crdownload\n",
      "08-01-2023  13:06         1,426,315 UNDRIP analysis (1).pptx\n",
      "23-11-2022  16:08         1,426,315 UNDRIP analysis.pptx\n",
      "19-08-2022  13:36                 0 untitled\n",
      "26-03-2023  14:10    <DIR>          Untitled Folder\n",
      "28-04-2023  22:32            33,961 Untitled.ipynb\n",
      "22-08-2022  13:56                 0 untitled.txt\n",
      "25-05-2023  14:55            50,034 Untitled1.ipynb\n",
      "08-05-2023  12:20             1,262 Untitled2.ipynb\n",
      "10-06-2023  00:10           413,994 updated_resume_10_06_23.pdf\n",
      "10-06-2023  00:09           413,994 Updatedresume.pdf\n",
      "31-03-2023  22:43           414,011 Updatedresume31.pdf\n",
      "24-03-2023  19:10         2,203,664 url_SHORTNER.ipynb\n",
      "25-03-2023  10:15            16,615 URL_Shortner_project.ipynb\n",
      "08-01-2023  13:05            76,015 vancouver-style-guide.pdf\n",
      "04-03-2023  14:06        87,996,385 video1452294375.mp4\n",
      "20-05-2023  15:19         9,487,893 visualization_20_05_2023.zip\n",
      "19-05-2023  23:26    <DIR>          visualization-20230519T175447Z-001\n",
      "19-05-2023  23:24         2,680,457 visualization-20230519T175447Z-001.zip\n",
      "01-05-2023  15:41         8,602,951 Visuals.pbix\n",
      "01-05-2023  11:51           536,533 Visuals.pdf\n",
      "01-05-2023  11:51         3,054,791 Visuals.pptx\n",
      "09-05-2023  13:28           977,501 WA_Fn-UseC_-Telco-Customer-Churn (1).csv\n",
      "31-03-2023  17:06           977,501 WA_Fn-UseC_-Telco-Customer-Churn.csv\n",
      "04-06-2023  16:46    <DIR>          waferFaultDetection-20230604T083021Z-001\n",
      "04-06-2023  16:46       322,209,256 waferFaultDetection-20230604T083021Z-001.zip\n",
      "16-05-2023  12:50           279,089 Web_scapping_pooja_ma'am.ipynb\n",
      "11-10-2022  23:34         3,151,765 Weekly Beepedia 1st-8th October 2022.pdf\n",
      "03-09-2022  19:18           133,642 WhatsApp Image 2022-09-03 at 7.18.32 PM.jpeg\n",
      "12-12-2022  13:17            10,782 wine.data\n",
      "12-12-2022  13:17             3,036 wine.names\n",
      "30-12-2022  18:10         3,473,784 winrar-x64-611.exe\n",
      "10-03-2023  18:51           207,176 world-political-map-2020.jpg\n",
      "14-10-2022  00:12            45,749 XGboost_model.pickle\n",
      "05-06-2023  10:24           624,647 Youtube End to End Project Material-20230605T045355Z-001.zip\n",
      "18-03-2023  10:45       264,758,791 zoom (1).apk\n",
      "16-02-2023  13:08       261,370,621 zoom.apk\n",
      "             571 File(s) 26,075,027,835 bytes\n",
      "             130 Dir(s)  714,515,058,688 bytes free\n"
     ]
    }
   ],
   "source": [
    "ls"
   ]
  },
  {
   "cell_type": "code",
   "execution_count": 324,
   "id": "49808ba7",
   "metadata": {},
   "outputs": [],
   "source": [
    "df = pd.read_csv('https://gist.githubusercontent.com/curran/a08a1080b88344b0c8a7/raw/0e7a9b0a5d22642a06d3d5b9bcbad9890c8ee534/iris.csv')"
   ]
  },
  {
   "cell_type": "code",
   "execution_count": 325,
   "id": "827fe2af",
   "metadata": {},
   "outputs": [
    {
     "data": {
      "text/html": [
       "<div>\n",
       "<style scoped>\n",
       "    .dataframe tbody tr th:only-of-type {\n",
       "        vertical-align: middle;\n",
       "    }\n",
       "\n",
       "    .dataframe tbody tr th {\n",
       "        vertical-align: top;\n",
       "    }\n",
       "\n",
       "    .dataframe thead th {\n",
       "        text-align: right;\n",
       "    }\n",
       "</style>\n",
       "<table border=\"1\" class=\"dataframe\">\n",
       "  <thead>\n",
       "    <tr style=\"text-align: right;\">\n",
       "      <th></th>\n",
       "      <th>sepal_length</th>\n",
       "      <th>sepal_width</th>\n",
       "      <th>petal_length</th>\n",
       "      <th>petal_width</th>\n",
       "      <th>species</th>\n",
       "    </tr>\n",
       "  </thead>\n",
       "  <tbody>\n",
       "    <tr>\n",
       "      <th>0</th>\n",
       "      <td>5.1</td>\n",
       "      <td>3.5</td>\n",
       "      <td>1.4</td>\n",
       "      <td>0.2</td>\n",
       "      <td>setosa</td>\n",
       "    </tr>\n",
       "    <tr>\n",
       "      <th>1</th>\n",
       "      <td>4.9</td>\n",
       "      <td>3.0</td>\n",
       "      <td>1.4</td>\n",
       "      <td>0.2</td>\n",
       "      <td>setosa</td>\n",
       "    </tr>\n",
       "    <tr>\n",
       "      <th>2</th>\n",
       "      <td>4.7</td>\n",
       "      <td>3.2</td>\n",
       "      <td>1.3</td>\n",
       "      <td>0.2</td>\n",
       "      <td>setosa</td>\n",
       "    </tr>\n",
       "    <tr>\n",
       "      <th>3</th>\n",
       "      <td>4.6</td>\n",
       "      <td>3.1</td>\n",
       "      <td>1.5</td>\n",
       "      <td>0.2</td>\n",
       "      <td>setosa</td>\n",
       "    </tr>\n",
       "    <tr>\n",
       "      <th>4</th>\n",
       "      <td>5.0</td>\n",
       "      <td>3.6</td>\n",
       "      <td>1.4</td>\n",
       "      <td>0.2</td>\n",
       "      <td>setosa</td>\n",
       "    </tr>\n",
       "    <tr>\n",
       "      <th>...</th>\n",
       "      <td>...</td>\n",
       "      <td>...</td>\n",
       "      <td>...</td>\n",
       "      <td>...</td>\n",
       "      <td>...</td>\n",
       "    </tr>\n",
       "    <tr>\n",
       "      <th>145</th>\n",
       "      <td>6.7</td>\n",
       "      <td>3.0</td>\n",
       "      <td>5.2</td>\n",
       "      <td>2.3</td>\n",
       "      <td>virginica</td>\n",
       "    </tr>\n",
       "    <tr>\n",
       "      <th>146</th>\n",
       "      <td>6.3</td>\n",
       "      <td>2.5</td>\n",
       "      <td>5.0</td>\n",
       "      <td>1.9</td>\n",
       "      <td>virginica</td>\n",
       "    </tr>\n",
       "    <tr>\n",
       "      <th>147</th>\n",
       "      <td>6.5</td>\n",
       "      <td>3.0</td>\n",
       "      <td>5.2</td>\n",
       "      <td>2.0</td>\n",
       "      <td>virginica</td>\n",
       "    </tr>\n",
       "    <tr>\n",
       "      <th>148</th>\n",
       "      <td>6.2</td>\n",
       "      <td>3.4</td>\n",
       "      <td>5.4</td>\n",
       "      <td>2.3</td>\n",
       "      <td>virginica</td>\n",
       "    </tr>\n",
       "    <tr>\n",
       "      <th>149</th>\n",
       "      <td>5.9</td>\n",
       "      <td>3.0</td>\n",
       "      <td>5.1</td>\n",
       "      <td>1.8</td>\n",
       "      <td>virginica</td>\n",
       "    </tr>\n",
       "  </tbody>\n",
       "</table>\n",
       "<p>150 rows × 5 columns</p>\n",
       "</div>"
      ],
      "text/plain": [
       "     sepal_length  sepal_width  petal_length  petal_width    species\n",
       "0             5.1          3.5           1.4          0.2     setosa\n",
       "1             4.9          3.0           1.4          0.2     setosa\n",
       "2             4.7          3.2           1.3          0.2     setosa\n",
       "3             4.6          3.1           1.5          0.2     setosa\n",
       "4             5.0          3.6           1.4          0.2     setosa\n",
       "..            ...          ...           ...          ...        ...\n",
       "145           6.7          3.0           5.2          2.3  virginica\n",
       "146           6.3          2.5           5.0          1.9  virginica\n",
       "147           6.5          3.0           5.2          2.0  virginica\n",
       "148           6.2          3.4           5.4          2.3  virginica\n",
       "149           5.9          3.0           5.1          1.8  virginica\n",
       "\n",
       "[150 rows x 5 columns]"
      ]
     },
     "execution_count": 325,
     "metadata": {},
     "output_type": "execute_result"
    }
   ],
   "source": [
    "df"
   ]
  },
  {
   "cell_type": "code",
   "execution_count": 326,
   "id": "06a10bc6",
   "metadata": {},
   "outputs": [
    {
     "data": {
      "text/plain": [
       "pandas.core.frame.DataFrame"
      ]
     },
     "execution_count": 326,
     "metadata": {},
     "output_type": "execute_result"
    }
   ],
   "source": [
    "type(df)"
   ]
  },
  {
   "cell_type": "code",
   "execution_count": 329,
   "id": "84c94920",
   "metadata": {},
   "outputs": [
    {
     "data": {
      "text/html": [
       "<div>\n",
       "<style scoped>\n",
       "    .dataframe tbody tr th:only-of-type {\n",
       "        vertical-align: middle;\n",
       "    }\n",
       "\n",
       "    .dataframe tbody tr th {\n",
       "        vertical-align: top;\n",
       "    }\n",
       "\n",
       "    .dataframe thead th {\n",
       "        text-align: right;\n",
       "    }\n",
       "</style>\n",
       "<table border=\"1\" class=\"dataframe\">\n",
       "  <thead>\n",
       "    <tr style=\"text-align: right;\">\n",
       "      <th></th>\n",
       "      <th>sepal_length</th>\n",
       "      <th>sepal_width</th>\n",
       "      <th>petal_length</th>\n",
       "      <th>petal_width</th>\n",
       "      <th>species</th>\n",
       "    </tr>\n",
       "  </thead>\n",
       "  <tbody>\n",
       "    <tr>\n",
       "      <th>0</th>\n",
       "      <td>5.1</td>\n",
       "      <td>3.5</td>\n",
       "      <td>1.4</td>\n",
       "      <td>0.2</td>\n",
       "      <td>setosa</td>\n",
       "    </tr>\n",
       "    <tr>\n",
       "      <th>1</th>\n",
       "      <td>4.9</td>\n",
       "      <td>3.0</td>\n",
       "      <td>1.4</td>\n",
       "      <td>0.2</td>\n",
       "      <td>setosa</td>\n",
       "    </tr>\n",
       "  </tbody>\n",
       "</table>\n",
       "</div>"
      ],
      "text/plain": [
       "   sepal_length  sepal_width  petal_length  petal_width species\n",
       "0           5.1          3.5           1.4          0.2  setosa\n",
       "1           4.9          3.0           1.4          0.2  setosa"
      ]
     },
     "execution_count": 329,
     "metadata": {},
     "output_type": "execute_result"
    }
   ],
   "source": [
    "df.head(2)"
   ]
  },
  {
   "cell_type": "code",
   "execution_count": 330,
   "id": "8e8660c2",
   "metadata": {},
   "outputs": [
    {
     "data": {
      "text/html": [
       "<div>\n",
       "<style scoped>\n",
       "    .dataframe tbody tr th:only-of-type {\n",
       "        vertical-align: middle;\n",
       "    }\n",
       "\n",
       "    .dataframe tbody tr th {\n",
       "        vertical-align: top;\n",
       "    }\n",
       "\n",
       "    .dataframe thead th {\n",
       "        text-align: right;\n",
       "    }\n",
       "</style>\n",
       "<table border=\"1\" class=\"dataframe\">\n",
       "  <thead>\n",
       "    <tr style=\"text-align: right;\">\n",
       "      <th></th>\n",
       "      <th>sepal_length</th>\n",
       "      <th>sepal_width</th>\n",
       "      <th>petal_length</th>\n",
       "      <th>petal_width</th>\n",
       "      <th>species</th>\n",
       "    </tr>\n",
       "  </thead>\n",
       "  <tbody>\n",
       "    <tr>\n",
       "      <th>142</th>\n",
       "      <td>5.8</td>\n",
       "      <td>2.7</td>\n",
       "      <td>5.1</td>\n",
       "      <td>1.9</td>\n",
       "      <td>virginica</td>\n",
       "    </tr>\n",
       "    <tr>\n",
       "      <th>143</th>\n",
       "      <td>6.8</td>\n",
       "      <td>3.2</td>\n",
       "      <td>5.9</td>\n",
       "      <td>2.3</td>\n",
       "      <td>virginica</td>\n",
       "    </tr>\n",
       "    <tr>\n",
       "      <th>144</th>\n",
       "      <td>6.7</td>\n",
       "      <td>3.3</td>\n",
       "      <td>5.7</td>\n",
       "      <td>2.5</td>\n",
       "      <td>virginica</td>\n",
       "    </tr>\n",
       "    <tr>\n",
       "      <th>145</th>\n",
       "      <td>6.7</td>\n",
       "      <td>3.0</td>\n",
       "      <td>5.2</td>\n",
       "      <td>2.3</td>\n",
       "      <td>virginica</td>\n",
       "    </tr>\n",
       "    <tr>\n",
       "      <th>146</th>\n",
       "      <td>6.3</td>\n",
       "      <td>2.5</td>\n",
       "      <td>5.0</td>\n",
       "      <td>1.9</td>\n",
       "      <td>virginica</td>\n",
       "    </tr>\n",
       "    <tr>\n",
       "      <th>147</th>\n",
       "      <td>6.5</td>\n",
       "      <td>3.0</td>\n",
       "      <td>5.2</td>\n",
       "      <td>2.0</td>\n",
       "      <td>virginica</td>\n",
       "    </tr>\n",
       "    <tr>\n",
       "      <th>148</th>\n",
       "      <td>6.2</td>\n",
       "      <td>3.4</td>\n",
       "      <td>5.4</td>\n",
       "      <td>2.3</td>\n",
       "      <td>virginica</td>\n",
       "    </tr>\n",
       "    <tr>\n",
       "      <th>149</th>\n",
       "      <td>5.9</td>\n",
       "      <td>3.0</td>\n",
       "      <td>5.1</td>\n",
       "      <td>1.8</td>\n",
       "      <td>virginica</td>\n",
       "    </tr>\n",
       "  </tbody>\n",
       "</table>\n",
       "</div>"
      ],
      "text/plain": [
       "     sepal_length  sepal_width  petal_length  petal_width    species\n",
       "142           5.8          2.7           5.1          1.9  virginica\n",
       "143           6.8          3.2           5.9          2.3  virginica\n",
       "144           6.7          3.3           5.7          2.5  virginica\n",
       "145           6.7          3.0           5.2          2.3  virginica\n",
       "146           6.3          2.5           5.0          1.9  virginica\n",
       "147           6.5          3.0           5.2          2.0  virginica\n",
       "148           6.2          3.4           5.4          2.3  virginica\n",
       "149           5.9          3.0           5.1          1.8  virginica"
      ]
     },
     "execution_count": 330,
     "metadata": {},
     "output_type": "execute_result"
    }
   ],
   "source": [
    "df.tail(8)"
   ]
  },
  {
   "cell_type": "code",
   "execution_count": 334,
   "id": "5c946fac",
   "metadata": {},
   "outputs": [
    {
     "data": {
      "text/html": [
       "<div>\n",
       "<style scoped>\n",
       "    .dataframe tbody tr th:only-of-type {\n",
       "        vertical-align: middle;\n",
       "    }\n",
       "\n",
       "    .dataframe tbody tr th {\n",
       "        vertical-align: top;\n",
       "    }\n",
       "\n",
       "    .dataframe thead th {\n",
       "        text-align: right;\n",
       "    }\n",
       "</style>\n",
       "<table border=\"1\" class=\"dataframe\">\n",
       "  <thead>\n",
       "    <tr style=\"text-align: right;\">\n",
       "      <th></th>\n",
       "      <th>sepal_length</th>\n",
       "      <th>sepal_width</th>\n",
       "      <th>petal_length</th>\n",
       "      <th>petal_width</th>\n",
       "      <th>species</th>\n",
       "    </tr>\n",
       "  </thead>\n",
       "  <tbody>\n",
       "    <tr>\n",
       "      <th>139</th>\n",
       "      <td>6.9</td>\n",
       "      <td>3.1</td>\n",
       "      <td>5.4</td>\n",
       "      <td>2.1</td>\n",
       "      <td>virginica</td>\n",
       "    </tr>\n",
       "    <tr>\n",
       "      <th>117</th>\n",
       "      <td>7.7</td>\n",
       "      <td>3.8</td>\n",
       "      <td>6.7</td>\n",
       "      <td>2.2</td>\n",
       "      <td>virginica</td>\n",
       "    </tr>\n",
       "    <tr>\n",
       "      <th>147</th>\n",
       "      <td>6.5</td>\n",
       "      <td>3.0</td>\n",
       "      <td>5.2</td>\n",
       "      <td>2.0</td>\n",
       "      <td>virginica</td>\n",
       "    </tr>\n",
       "    <tr>\n",
       "      <th>42</th>\n",
       "      <td>4.4</td>\n",
       "      <td>3.2</td>\n",
       "      <td>1.3</td>\n",
       "      <td>0.2</td>\n",
       "      <td>setosa</td>\n",
       "    </tr>\n",
       "    <tr>\n",
       "      <th>33</th>\n",
       "      <td>5.5</td>\n",
       "      <td>4.2</td>\n",
       "      <td>1.4</td>\n",
       "      <td>0.2</td>\n",
       "      <td>setosa</td>\n",
       "    </tr>\n",
       "  </tbody>\n",
       "</table>\n",
       "</div>"
      ],
      "text/plain": [
       "     sepal_length  sepal_width  petal_length  petal_width    species\n",
       "139           6.9          3.1           5.4          2.1  virginica\n",
       "117           7.7          3.8           6.7          2.2  virginica\n",
       "147           6.5          3.0           5.2          2.0  virginica\n",
       "42            4.4          3.2           1.3          0.2     setosa\n",
       "33            5.5          4.2           1.4          0.2     setosa"
      ]
     },
     "execution_count": 334,
     "metadata": {},
     "output_type": "execute_result"
    }
   ],
   "source": [
    "df.sample(5)"
   ]
  },
  {
   "cell_type": "code",
   "execution_count": 335,
   "id": "b0820dcd",
   "metadata": {},
   "outputs": [
    {
     "data": {
      "text/plain": [
       "(150, 5)"
      ]
     },
     "execution_count": 335,
     "metadata": {},
     "output_type": "execute_result"
    }
   ],
   "source": [
    "df.shape"
   ]
  },
  {
   "cell_type": "code",
   "execution_count": 336,
   "id": "dd22f1dc",
   "metadata": {},
   "outputs": [
    {
     "data": {
      "text/plain": [
       "Index(['sepal_length', 'sepal_width', 'petal_length', 'petal_width',\n",
       "       'species'],\n",
       "      dtype='object')"
      ]
     },
     "execution_count": 336,
     "metadata": {},
     "output_type": "execute_result"
    }
   ],
   "source": [
    "df.columns"
   ]
  },
  {
   "cell_type": "code",
   "execution_count": 337,
   "id": "23ddebe1",
   "metadata": {},
   "outputs": [
    {
     "data": {
      "text/plain": [
       "sepal_length    float64\n",
       "sepal_width     float64\n",
       "petal_length    float64\n",
       "petal_width     float64\n",
       "species          object\n",
       "dtype: object"
      ]
     },
     "execution_count": 337,
     "metadata": {},
     "output_type": "execute_result"
    }
   ],
   "source": [
    "df.dtypes"
   ]
  },
  {
   "cell_type": "code",
   "execution_count": 338,
   "id": "ec3f5410",
   "metadata": {},
   "outputs": [
    {
     "name": "stdout",
     "output_type": "stream",
     "text": [
      "<class 'pandas.core.frame.DataFrame'>\n",
      "RangeIndex: 150 entries, 0 to 149\n",
      "Data columns (total 5 columns):\n",
      " #   Column        Non-Null Count  Dtype  \n",
      "---  ------        --------------  -----  \n",
      " 0   sepal_length  150 non-null    float64\n",
      " 1   sepal_width   150 non-null    float64\n",
      " 2   petal_length  150 non-null    float64\n",
      " 3   petal_width   150 non-null    float64\n",
      " 4   species       150 non-null    object \n",
      "dtypes: float64(4), object(1)\n",
      "memory usage: 6.0+ KB\n"
     ]
    }
   ],
   "source": [
    "df.info()"
   ]
  },
  {
   "cell_type": "code",
   "execution_count": 339,
   "id": "80ce9e25",
   "metadata": {},
   "outputs": [
    {
     "data": {
      "text/html": [
       "<div>\n",
       "<style scoped>\n",
       "    .dataframe tbody tr th:only-of-type {\n",
       "        vertical-align: middle;\n",
       "    }\n",
       "\n",
       "    .dataframe tbody tr th {\n",
       "        vertical-align: top;\n",
       "    }\n",
       "\n",
       "    .dataframe thead th {\n",
       "        text-align: right;\n",
       "    }\n",
       "</style>\n",
       "<table border=\"1\" class=\"dataframe\">\n",
       "  <thead>\n",
       "    <tr style=\"text-align: right;\">\n",
       "      <th></th>\n",
       "      <th>sepal_length</th>\n",
       "      <th>sepal_width</th>\n",
       "      <th>petal_length</th>\n",
       "      <th>petal_width</th>\n",
       "    </tr>\n",
       "  </thead>\n",
       "  <tbody>\n",
       "    <tr>\n",
       "      <th>count</th>\n",
       "      <td>150.000000</td>\n",
       "      <td>150.000000</td>\n",
       "      <td>150.000000</td>\n",
       "      <td>150.000000</td>\n",
       "    </tr>\n",
       "    <tr>\n",
       "      <th>mean</th>\n",
       "      <td>5.843333</td>\n",
       "      <td>3.054000</td>\n",
       "      <td>3.758667</td>\n",
       "      <td>1.198667</td>\n",
       "    </tr>\n",
       "    <tr>\n",
       "      <th>std</th>\n",
       "      <td>0.828066</td>\n",
       "      <td>0.433594</td>\n",
       "      <td>1.764420</td>\n",
       "      <td>0.763161</td>\n",
       "    </tr>\n",
       "    <tr>\n",
       "      <th>min</th>\n",
       "      <td>4.300000</td>\n",
       "      <td>2.000000</td>\n",
       "      <td>1.000000</td>\n",
       "      <td>0.100000</td>\n",
       "    </tr>\n",
       "    <tr>\n",
       "      <th>25%</th>\n",
       "      <td>5.100000</td>\n",
       "      <td>2.800000</td>\n",
       "      <td>1.600000</td>\n",
       "      <td>0.300000</td>\n",
       "    </tr>\n",
       "    <tr>\n",
       "      <th>50%</th>\n",
       "      <td>5.800000</td>\n",
       "      <td>3.000000</td>\n",
       "      <td>4.350000</td>\n",
       "      <td>1.300000</td>\n",
       "    </tr>\n",
       "    <tr>\n",
       "      <th>75%</th>\n",
       "      <td>6.400000</td>\n",
       "      <td>3.300000</td>\n",
       "      <td>5.100000</td>\n",
       "      <td>1.800000</td>\n",
       "    </tr>\n",
       "    <tr>\n",
       "      <th>max</th>\n",
       "      <td>7.900000</td>\n",
       "      <td>4.400000</td>\n",
       "      <td>6.900000</td>\n",
       "      <td>2.500000</td>\n",
       "    </tr>\n",
       "  </tbody>\n",
       "</table>\n",
       "</div>"
      ],
      "text/plain": [
       "       sepal_length  sepal_width  petal_length  petal_width\n",
       "count    150.000000   150.000000    150.000000   150.000000\n",
       "mean       5.843333     3.054000      3.758667     1.198667\n",
       "std        0.828066     0.433594      1.764420     0.763161\n",
       "min        4.300000     2.000000      1.000000     0.100000\n",
       "25%        5.100000     2.800000      1.600000     0.300000\n",
       "50%        5.800000     3.000000      4.350000     1.300000\n",
       "75%        6.400000     3.300000      5.100000     1.800000\n",
       "max        7.900000     4.400000      6.900000     2.500000"
      ]
     },
     "execution_count": 339,
     "metadata": {},
     "output_type": "execute_result"
    }
   ],
   "source": [
    "df.describe()"
   ]
  },
  {
   "cell_type": "code",
   "execution_count": 340,
   "id": "17ec8563",
   "metadata": {},
   "outputs": [
    {
     "data": {
      "text/html": [
       "<div>\n",
       "<style scoped>\n",
       "    .dataframe tbody tr th:only-of-type {\n",
       "        vertical-align: middle;\n",
       "    }\n",
       "\n",
       "    .dataframe tbody tr th {\n",
       "        vertical-align: top;\n",
       "    }\n",
       "\n",
       "    .dataframe thead th {\n",
       "        text-align: right;\n",
       "    }\n",
       "</style>\n",
       "<table border=\"1\" class=\"dataframe\">\n",
       "  <thead>\n",
       "    <tr style=\"text-align: right;\">\n",
       "      <th></th>\n",
       "      <th>sepal_length</th>\n",
       "      <th>sepal_width</th>\n",
       "      <th>petal_length</th>\n",
       "      <th>petal_width</th>\n",
       "      <th>species</th>\n",
       "    </tr>\n",
       "  </thead>\n",
       "  <tbody>\n",
       "    <tr>\n",
       "      <th>count</th>\n",
       "      <td>150.000000</td>\n",
       "      <td>150.000000</td>\n",
       "      <td>150.000000</td>\n",
       "      <td>150.000000</td>\n",
       "      <td>150</td>\n",
       "    </tr>\n",
       "    <tr>\n",
       "      <th>unique</th>\n",
       "      <td>NaN</td>\n",
       "      <td>NaN</td>\n",
       "      <td>NaN</td>\n",
       "      <td>NaN</td>\n",
       "      <td>3</td>\n",
       "    </tr>\n",
       "    <tr>\n",
       "      <th>top</th>\n",
       "      <td>NaN</td>\n",
       "      <td>NaN</td>\n",
       "      <td>NaN</td>\n",
       "      <td>NaN</td>\n",
       "      <td>virginica</td>\n",
       "    </tr>\n",
       "    <tr>\n",
       "      <th>freq</th>\n",
       "      <td>NaN</td>\n",
       "      <td>NaN</td>\n",
       "      <td>NaN</td>\n",
       "      <td>NaN</td>\n",
       "      <td>50</td>\n",
       "    </tr>\n",
       "    <tr>\n",
       "      <th>mean</th>\n",
       "      <td>5.843333</td>\n",
       "      <td>3.054000</td>\n",
       "      <td>3.758667</td>\n",
       "      <td>1.198667</td>\n",
       "      <td>NaN</td>\n",
       "    </tr>\n",
       "    <tr>\n",
       "      <th>std</th>\n",
       "      <td>0.828066</td>\n",
       "      <td>0.433594</td>\n",
       "      <td>1.764420</td>\n",
       "      <td>0.763161</td>\n",
       "      <td>NaN</td>\n",
       "    </tr>\n",
       "    <tr>\n",
       "      <th>min</th>\n",
       "      <td>4.300000</td>\n",
       "      <td>2.000000</td>\n",
       "      <td>1.000000</td>\n",
       "      <td>0.100000</td>\n",
       "      <td>NaN</td>\n",
       "    </tr>\n",
       "    <tr>\n",
       "      <th>25%</th>\n",
       "      <td>5.100000</td>\n",
       "      <td>2.800000</td>\n",
       "      <td>1.600000</td>\n",
       "      <td>0.300000</td>\n",
       "      <td>NaN</td>\n",
       "    </tr>\n",
       "    <tr>\n",
       "      <th>50%</th>\n",
       "      <td>5.800000</td>\n",
       "      <td>3.000000</td>\n",
       "      <td>4.350000</td>\n",
       "      <td>1.300000</td>\n",
       "      <td>NaN</td>\n",
       "    </tr>\n",
       "    <tr>\n",
       "      <th>75%</th>\n",
       "      <td>6.400000</td>\n",
       "      <td>3.300000</td>\n",
       "      <td>5.100000</td>\n",
       "      <td>1.800000</td>\n",
       "      <td>NaN</td>\n",
       "    </tr>\n",
       "    <tr>\n",
       "      <th>max</th>\n",
       "      <td>7.900000</td>\n",
       "      <td>4.400000</td>\n",
       "      <td>6.900000</td>\n",
       "      <td>2.500000</td>\n",
       "      <td>NaN</td>\n",
       "    </tr>\n",
       "  </tbody>\n",
       "</table>\n",
       "</div>"
      ],
      "text/plain": [
       "        sepal_length  sepal_width  petal_length  petal_width    species\n",
       "count     150.000000   150.000000    150.000000   150.000000        150\n",
       "unique           NaN          NaN           NaN          NaN          3\n",
       "top              NaN          NaN           NaN          NaN  virginica\n",
       "freq             NaN          NaN           NaN          NaN         50\n",
       "mean        5.843333     3.054000      3.758667     1.198667        NaN\n",
       "std         0.828066     0.433594      1.764420     0.763161        NaN\n",
       "min         4.300000     2.000000      1.000000     0.100000        NaN\n",
       "25%         5.100000     2.800000      1.600000     0.300000        NaN\n",
       "50%         5.800000     3.000000      4.350000     1.300000        NaN\n",
       "75%         6.400000     3.300000      5.100000     1.800000        NaN\n",
       "max         7.900000     4.400000      6.900000     2.500000        NaN"
      ]
     },
     "execution_count": 340,
     "metadata": {},
     "output_type": "execute_result"
    }
   ],
   "source": [
    "df.describe(include='all')"
   ]
  },
  {
   "cell_type": "code",
   "execution_count": 342,
   "id": "3f9fd349",
   "metadata": {},
   "outputs": [
    {
     "data": {
      "text/plain": [
       "3"
      ]
     },
     "execution_count": 342,
     "metadata": {},
     "output_type": "execute_result"
    }
   ],
   "source": [
    "df['species'].nunique()"
   ]
  },
  {
   "cell_type": "code",
   "execution_count": 345,
   "id": "65744d25",
   "metadata": {},
   "outputs": [
    {
     "data": {
      "text/plain": [
       "array(['setosa', 'versicolor', 'virginica'], dtype=object)"
      ]
     },
     "execution_count": 345,
     "metadata": {},
     "output_type": "execute_result"
    }
   ],
   "source": [
    "df.species.unique()"
   ]
  },
  {
   "cell_type": "code",
   "execution_count": 350,
   "id": "0e8211f0",
   "metadata": {},
   "outputs": [
    {
     "data": {
      "text/plain": [
       "(50, 5)"
      ]
     },
     "execution_count": 350,
     "metadata": {},
     "output_type": "execute_result"
    }
   ],
   "source": [
    "df[df.species == 'versicolor'].shape"
   ]
  },
  {
   "cell_type": "code",
   "execution_count": 354,
   "id": "f66c4833",
   "metadata": {},
   "outputs": [
    {
     "data": {
      "text/plain": [
       "50"
      ]
     },
     "execution_count": 354,
     "metadata": {},
     "output_type": "execute_result"
    }
   ],
   "source": [
    "df.species.value_counts()['virginica']"
   ]
  },
  {
   "cell_type": "code",
   "execution_count": 355,
   "id": "71519e1e",
   "metadata": {},
   "outputs": [
    {
     "data": {
      "text/html": [
       "<div>\n",
       "<style scoped>\n",
       "    .dataframe tbody tr th:only-of-type {\n",
       "        vertical-align: middle;\n",
       "    }\n",
       "\n",
       "    .dataframe tbody tr th {\n",
       "        vertical-align: top;\n",
       "    }\n",
       "\n",
       "    .dataframe thead th {\n",
       "        text-align: right;\n",
       "    }\n",
       "</style>\n",
       "<table border=\"1\" class=\"dataframe\">\n",
       "  <thead>\n",
       "    <tr style=\"text-align: right;\">\n",
       "      <th></th>\n",
       "      <th>sepal_length</th>\n",
       "      <th>sepal_width</th>\n",
       "      <th>petal_length</th>\n",
       "      <th>petal_width</th>\n",
       "      <th>species</th>\n",
       "    </tr>\n",
       "  </thead>\n",
       "  <tbody>\n",
       "    <tr>\n",
       "      <th>0</th>\n",
       "      <td>5.1</td>\n",
       "      <td>3.5</td>\n",
       "      <td>1.4</td>\n",
       "      <td>0.2</td>\n",
       "      <td>setosa</td>\n",
       "    </tr>\n",
       "    <tr>\n",
       "      <th>1</th>\n",
       "      <td>4.9</td>\n",
       "      <td>3.0</td>\n",
       "      <td>1.4</td>\n",
       "      <td>0.2</td>\n",
       "      <td>setosa</td>\n",
       "    </tr>\n",
       "    <tr>\n",
       "      <th>2</th>\n",
       "      <td>4.7</td>\n",
       "      <td>3.2</td>\n",
       "      <td>1.3</td>\n",
       "      <td>0.2</td>\n",
       "      <td>setosa</td>\n",
       "    </tr>\n",
       "    <tr>\n",
       "      <th>3</th>\n",
       "      <td>4.6</td>\n",
       "      <td>3.1</td>\n",
       "      <td>1.5</td>\n",
       "      <td>0.2</td>\n",
       "      <td>setosa</td>\n",
       "    </tr>\n",
       "    <tr>\n",
       "      <th>4</th>\n",
       "      <td>5.0</td>\n",
       "      <td>3.6</td>\n",
       "      <td>1.4</td>\n",
       "      <td>0.2</td>\n",
       "      <td>setosa</td>\n",
       "    </tr>\n",
       "    <tr>\n",
       "      <th>...</th>\n",
       "      <td>...</td>\n",
       "      <td>...</td>\n",
       "      <td>...</td>\n",
       "      <td>...</td>\n",
       "      <td>...</td>\n",
       "    </tr>\n",
       "    <tr>\n",
       "      <th>145</th>\n",
       "      <td>6.7</td>\n",
       "      <td>3.0</td>\n",
       "      <td>5.2</td>\n",
       "      <td>2.3</td>\n",
       "      <td>virginica</td>\n",
       "    </tr>\n",
       "    <tr>\n",
       "      <th>146</th>\n",
       "      <td>6.3</td>\n",
       "      <td>2.5</td>\n",
       "      <td>5.0</td>\n",
       "      <td>1.9</td>\n",
       "      <td>virginica</td>\n",
       "    </tr>\n",
       "    <tr>\n",
       "      <th>147</th>\n",
       "      <td>6.5</td>\n",
       "      <td>3.0</td>\n",
       "      <td>5.2</td>\n",
       "      <td>2.0</td>\n",
       "      <td>virginica</td>\n",
       "    </tr>\n",
       "    <tr>\n",
       "      <th>148</th>\n",
       "      <td>6.2</td>\n",
       "      <td>3.4</td>\n",
       "      <td>5.4</td>\n",
       "      <td>2.3</td>\n",
       "      <td>virginica</td>\n",
       "    </tr>\n",
       "    <tr>\n",
       "      <th>149</th>\n",
       "      <td>5.9</td>\n",
       "      <td>3.0</td>\n",
       "      <td>5.1</td>\n",
       "      <td>1.8</td>\n",
       "      <td>virginica</td>\n",
       "    </tr>\n",
       "  </tbody>\n",
       "</table>\n",
       "<p>150 rows × 5 columns</p>\n",
       "</div>"
      ],
      "text/plain": [
       "     sepal_length  sepal_width  petal_length  petal_width    species\n",
       "0             5.1          3.5           1.4          0.2     setosa\n",
       "1             4.9          3.0           1.4          0.2     setosa\n",
       "2             4.7          3.2           1.3          0.2     setosa\n",
       "3             4.6          3.1           1.5          0.2     setosa\n",
       "4             5.0          3.6           1.4          0.2     setosa\n",
       "..            ...          ...           ...          ...        ...\n",
       "145           6.7          3.0           5.2          2.3  virginica\n",
       "146           6.3          2.5           5.0          1.9  virginica\n",
       "147           6.5          3.0           5.2          2.0  virginica\n",
       "148           6.2          3.4           5.4          2.3  virginica\n",
       "149           5.9          3.0           5.1          1.8  virginica\n",
       "\n",
       "[150 rows x 5 columns]"
      ]
     },
     "execution_count": 355,
     "metadata": {},
     "output_type": "execute_result"
    }
   ],
   "source": [
    "df"
   ]
  },
  {
   "cell_type": "code",
   "execution_count": 356,
   "id": "7036b6b4",
   "metadata": {},
   "outputs": [
    {
     "data": {
      "text/plain": [
       "5.843333333333335"
      ]
     },
     "execution_count": 356,
     "metadata": {},
     "output_type": "execute_result"
    }
   ],
   "source": [
    "df.sepal_length.mean()"
   ]
  },
  {
   "cell_type": "code",
   "execution_count": 357,
   "id": "c913737b",
   "metadata": {},
   "outputs": [
    {
     "data": {
      "text/plain": [
       "5.843333333333335"
      ]
     },
     "execution_count": 357,
     "metadata": {},
     "output_type": "execute_result"
    }
   ],
   "source": [
    "df['sepal_length'].mean()"
   ]
  },
  {
   "cell_type": "code",
   "execution_count": 358,
   "id": "90df308d",
   "metadata": {},
   "outputs": [
    {
     "data": {
      "text/plain": [
       "2.5"
      ]
     },
     "execution_count": 358,
     "metadata": {},
     "output_type": "execute_result"
    }
   ],
   "source": [
    "df.petal_width.max()"
   ]
  },
  {
   "cell_type": "code",
   "execution_count": 359,
   "id": "37379c54",
   "metadata": {},
   "outputs": [
    {
     "data": {
      "text/plain": [
       "179.8"
      ]
     },
     "execution_count": 359,
     "metadata": {},
     "output_type": "execute_result"
    }
   ],
   "source": [
    "df['petal_width'].sum()"
   ]
  },
  {
   "cell_type": "code",
   "execution_count": 360,
   "id": "d4854840",
   "metadata": {},
   "outputs": [
    {
     "data": {
      "text/plain": [
       "0.1"
      ]
     },
     "execution_count": 360,
     "metadata": {},
     "output_type": "execute_result"
    }
   ],
   "source": [
    "df.petal_width.min()"
   ]
  },
  {
   "cell_type": "code",
   "execution_count": 362,
   "id": "5ead6557",
   "metadata": {},
   "outputs": [
    {
     "data": {
      "text/html": [
       "<div>\n",
       "<style scoped>\n",
       "    .dataframe tbody tr th:only-of-type {\n",
       "        vertical-align: middle;\n",
       "    }\n",
       "\n",
       "    .dataframe tbody tr th {\n",
       "        vertical-align: top;\n",
       "    }\n",
       "\n",
       "    .dataframe thead th {\n",
       "        text-align: right;\n",
       "    }\n",
       "</style>\n",
       "<table border=\"1\" class=\"dataframe\">\n",
       "  <thead>\n",
       "    <tr style=\"text-align: right;\">\n",
       "      <th></th>\n",
       "      <th>sepal_length</th>\n",
       "      <th>sepal_width</th>\n",
       "      <th>petal_length</th>\n",
       "      <th>petal_width</th>\n",
       "      <th>species</th>\n",
       "    </tr>\n",
       "  </thead>\n",
       "  <tbody>\n",
       "    <tr>\n",
       "      <th>0</th>\n",
       "      <td>5.1</td>\n",
       "      <td>3.5</td>\n",
       "      <td>1.4</td>\n",
       "      <td>0.2</td>\n",
       "      <td>setosa</td>\n",
       "    </tr>\n",
       "    <tr>\n",
       "      <th>1</th>\n",
       "      <td>4.9</td>\n",
       "      <td>3.0</td>\n",
       "      <td>1.4</td>\n",
       "      <td>0.2</td>\n",
       "      <td>setosa</td>\n",
       "    </tr>\n",
       "    <tr>\n",
       "      <th>2</th>\n",
       "      <td>4.7</td>\n",
       "      <td>3.2</td>\n",
       "      <td>1.3</td>\n",
       "      <td>0.2</td>\n",
       "      <td>setosa</td>\n",
       "    </tr>\n",
       "    <tr>\n",
       "      <th>3</th>\n",
       "      <td>4.6</td>\n",
       "      <td>3.1</td>\n",
       "      <td>1.5</td>\n",
       "      <td>0.2</td>\n",
       "      <td>setosa</td>\n",
       "    </tr>\n",
       "    <tr>\n",
       "      <th>4</th>\n",
       "      <td>5.0</td>\n",
       "      <td>3.6</td>\n",
       "      <td>1.4</td>\n",
       "      <td>0.2</td>\n",
       "      <td>setosa</td>\n",
       "    </tr>\n",
       "    <tr>\n",
       "      <th>...</th>\n",
       "      <td>...</td>\n",
       "      <td>...</td>\n",
       "      <td>...</td>\n",
       "      <td>...</td>\n",
       "      <td>...</td>\n",
       "    </tr>\n",
       "    <tr>\n",
       "      <th>145</th>\n",
       "      <td>6.7</td>\n",
       "      <td>3.0</td>\n",
       "      <td>5.2</td>\n",
       "      <td>2.3</td>\n",
       "      <td>virginica</td>\n",
       "    </tr>\n",
       "    <tr>\n",
       "      <th>146</th>\n",
       "      <td>6.3</td>\n",
       "      <td>2.5</td>\n",
       "      <td>5.0</td>\n",
       "      <td>1.9</td>\n",
       "      <td>virginica</td>\n",
       "    </tr>\n",
       "    <tr>\n",
       "      <th>147</th>\n",
       "      <td>6.5</td>\n",
       "      <td>3.0</td>\n",
       "      <td>5.2</td>\n",
       "      <td>2.0</td>\n",
       "      <td>virginica</td>\n",
       "    </tr>\n",
       "    <tr>\n",
       "      <th>148</th>\n",
       "      <td>6.2</td>\n",
       "      <td>3.4</td>\n",
       "      <td>5.4</td>\n",
       "      <td>2.3</td>\n",
       "      <td>virginica</td>\n",
       "    </tr>\n",
       "    <tr>\n",
       "      <th>149</th>\n",
       "      <td>5.9</td>\n",
       "      <td>3.0</td>\n",
       "      <td>5.1</td>\n",
       "      <td>1.8</td>\n",
       "      <td>virginica</td>\n",
       "    </tr>\n",
       "  </tbody>\n",
       "</table>\n",
       "<p>150 rows × 5 columns</p>\n",
       "</div>"
      ],
      "text/plain": [
       "     sepal_length  sepal_width  petal_length  petal_width    species\n",
       "0             5.1          3.5           1.4          0.2     setosa\n",
       "1             4.9          3.0           1.4          0.2     setosa\n",
       "2             4.7          3.2           1.3          0.2     setosa\n",
       "3             4.6          3.1           1.5          0.2     setosa\n",
       "4             5.0          3.6           1.4          0.2     setosa\n",
       "..            ...          ...           ...          ...        ...\n",
       "145           6.7          3.0           5.2          2.3  virginica\n",
       "146           6.3          2.5           5.0          1.9  virginica\n",
       "147           6.5          3.0           5.2          2.0  virginica\n",
       "148           6.2          3.4           5.4          2.3  virginica\n",
       "149           5.9          3.0           5.1          1.8  virginica\n",
       "\n",
       "[150 rows x 5 columns]"
      ]
     },
     "execution_count": 362,
     "metadata": {},
     "output_type": "execute_result"
    }
   ],
   "source": [
    "df.sort_index()"
   ]
  },
  {
   "cell_type": "code",
   "execution_count": 368,
   "id": "a7a554c4",
   "metadata": {},
   "outputs": [],
   "source": [
    "df.sort_values(by=['sepal_length', 'sepal_width'], ascending=[False, True], inplace=True)"
   ]
  },
  {
   "cell_type": "code",
   "execution_count": 369,
   "id": "ae1ebbf8",
   "metadata": {},
   "outputs": [
    {
     "data": {
      "text/html": [
       "<div>\n",
       "<style scoped>\n",
       "    .dataframe tbody tr th:only-of-type {\n",
       "        vertical-align: middle;\n",
       "    }\n",
       "\n",
       "    .dataframe tbody tr th {\n",
       "        vertical-align: top;\n",
       "    }\n",
       "\n",
       "    .dataframe thead th {\n",
       "        text-align: right;\n",
       "    }\n",
       "</style>\n",
       "<table border=\"1\" class=\"dataframe\">\n",
       "  <thead>\n",
       "    <tr style=\"text-align: right;\">\n",
       "      <th></th>\n",
       "      <th>sepal_length</th>\n",
       "      <th>sepal_width</th>\n",
       "      <th>petal_length</th>\n",
       "      <th>petal_width</th>\n",
       "      <th>species</th>\n",
       "    </tr>\n",
       "  </thead>\n",
       "  <tbody>\n",
       "    <tr>\n",
       "      <th>131</th>\n",
       "      <td>7.9</td>\n",
       "      <td>3.8</td>\n",
       "      <td>6.4</td>\n",
       "      <td>2.0</td>\n",
       "      <td>virginica</td>\n",
       "    </tr>\n",
       "    <tr>\n",
       "      <th>118</th>\n",
       "      <td>7.7</td>\n",
       "      <td>2.6</td>\n",
       "      <td>6.9</td>\n",
       "      <td>2.3</td>\n",
       "      <td>virginica</td>\n",
       "    </tr>\n",
       "    <tr>\n",
       "      <th>122</th>\n",
       "      <td>7.7</td>\n",
       "      <td>2.8</td>\n",
       "      <td>6.7</td>\n",
       "      <td>2.0</td>\n",
       "      <td>virginica</td>\n",
       "    </tr>\n",
       "    <tr>\n",
       "      <th>135</th>\n",
       "      <td>7.7</td>\n",
       "      <td>3.0</td>\n",
       "      <td>6.1</td>\n",
       "      <td>2.3</td>\n",
       "      <td>virginica</td>\n",
       "    </tr>\n",
       "    <tr>\n",
       "      <th>117</th>\n",
       "      <td>7.7</td>\n",
       "      <td>3.8</td>\n",
       "      <td>6.7</td>\n",
       "      <td>2.2</td>\n",
       "      <td>virginica</td>\n",
       "    </tr>\n",
       "    <tr>\n",
       "      <th>...</th>\n",
       "      <td>...</td>\n",
       "      <td>...</td>\n",
       "      <td>...</td>\n",
       "      <td>...</td>\n",
       "      <td>...</td>\n",
       "    </tr>\n",
       "    <tr>\n",
       "      <th>41</th>\n",
       "      <td>4.5</td>\n",
       "      <td>2.3</td>\n",
       "      <td>1.3</td>\n",
       "      <td>0.3</td>\n",
       "      <td>setosa</td>\n",
       "    </tr>\n",
       "    <tr>\n",
       "      <th>8</th>\n",
       "      <td>4.4</td>\n",
       "      <td>2.9</td>\n",
       "      <td>1.4</td>\n",
       "      <td>0.2</td>\n",
       "      <td>setosa</td>\n",
       "    </tr>\n",
       "    <tr>\n",
       "      <th>38</th>\n",
       "      <td>4.4</td>\n",
       "      <td>3.0</td>\n",
       "      <td>1.3</td>\n",
       "      <td>0.2</td>\n",
       "      <td>setosa</td>\n",
       "    </tr>\n",
       "    <tr>\n",
       "      <th>42</th>\n",
       "      <td>4.4</td>\n",
       "      <td>3.2</td>\n",
       "      <td>1.3</td>\n",
       "      <td>0.2</td>\n",
       "      <td>setosa</td>\n",
       "    </tr>\n",
       "    <tr>\n",
       "      <th>13</th>\n",
       "      <td>4.3</td>\n",
       "      <td>3.0</td>\n",
       "      <td>1.1</td>\n",
       "      <td>0.1</td>\n",
       "      <td>setosa</td>\n",
       "    </tr>\n",
       "  </tbody>\n",
       "</table>\n",
       "<p>150 rows × 5 columns</p>\n",
       "</div>"
      ],
      "text/plain": [
       "     sepal_length  sepal_width  petal_length  petal_width    species\n",
       "131           7.9          3.8           6.4          2.0  virginica\n",
       "118           7.7          2.6           6.9          2.3  virginica\n",
       "122           7.7          2.8           6.7          2.0  virginica\n",
       "135           7.7          3.0           6.1          2.3  virginica\n",
       "117           7.7          3.8           6.7          2.2  virginica\n",
       "..            ...          ...           ...          ...        ...\n",
       "41            4.5          2.3           1.3          0.3     setosa\n",
       "8             4.4          2.9           1.4          0.2     setosa\n",
       "38            4.4          3.0           1.3          0.2     setosa\n",
       "42            4.4          3.2           1.3          0.2     setosa\n",
       "13            4.3          3.0           1.1          0.1     setosa\n",
       "\n",
       "[150 rows x 5 columns]"
      ]
     },
     "execution_count": 369,
     "metadata": {},
     "output_type": "execute_result"
    }
   ],
   "source": [
    "df"
   ]
  },
  {
   "cell_type": "code",
   "execution_count": 372,
   "id": "35346e82",
   "metadata": {},
   "outputs": [
    {
     "data": {
      "text/plain": [
       "131    9\n",
       "118    9\n",
       "122    9\n",
       "135    9\n",
       "117    9\n",
       "      ..\n",
       "41     6\n",
       "8      6\n",
       "38     6\n",
       "42     6\n",
       "13     6\n",
       "Name: species, Length: 150, dtype: int64"
      ]
     },
     "execution_count": 372,
     "metadata": {},
     "output_type": "execute_result"
    }
   ],
   "source": [
    "df.species.apply(len)"
   ]
  },
  {
   "cell_type": "code",
   "execution_count": 374,
   "id": "772462e7",
   "metadata": {},
   "outputs": [
    {
     "data": {
      "text/html": [
       "<div>\n",
       "<style scoped>\n",
       "    .dataframe tbody tr th:only-of-type {\n",
       "        vertical-align: middle;\n",
       "    }\n",
       "\n",
       "    .dataframe tbody tr th {\n",
       "        vertical-align: top;\n",
       "    }\n",
       "\n",
       "    .dataframe thead th {\n",
       "        text-align: right;\n",
       "    }\n",
       "</style>\n",
       "<table border=\"1\" class=\"dataframe\">\n",
       "  <thead>\n",
       "    <tr style=\"text-align: right;\">\n",
       "      <th></th>\n",
       "      <th>sepal_length</th>\n",
       "      <th>sepal_width</th>\n",
       "      <th>petal_length</th>\n",
       "      <th>petal_width</th>\n",
       "      <th>species</th>\n",
       "    </tr>\n",
       "  </thead>\n",
       "  <tbody>\n",
       "    <tr>\n",
       "      <th>0</th>\n",
       "      <td>5.1</td>\n",
       "      <td>3.5</td>\n",
       "      <td>1.4</td>\n",
       "      <td>0.2</td>\n",
       "      <td>setosa</td>\n",
       "    </tr>\n",
       "    <tr>\n",
       "      <th>1</th>\n",
       "      <td>4.9</td>\n",
       "      <td>3.0</td>\n",
       "      <td>1.4</td>\n",
       "      <td>0.2</td>\n",
       "      <td>setosa</td>\n",
       "    </tr>\n",
       "    <tr>\n",
       "      <th>2</th>\n",
       "      <td>4.7</td>\n",
       "      <td>3.2</td>\n",
       "      <td>1.3</td>\n",
       "      <td>0.2</td>\n",
       "      <td>setosa</td>\n",
       "    </tr>\n",
       "    <tr>\n",
       "      <th>3</th>\n",
       "      <td>4.6</td>\n",
       "      <td>3.1</td>\n",
       "      <td>1.5</td>\n",
       "      <td>0.2</td>\n",
       "      <td>setosa</td>\n",
       "    </tr>\n",
       "    <tr>\n",
       "      <th>4</th>\n",
       "      <td>5.0</td>\n",
       "      <td>3.6</td>\n",
       "      <td>1.4</td>\n",
       "      <td>0.2</td>\n",
       "      <td>setosa</td>\n",
       "    </tr>\n",
       "    <tr>\n",
       "      <th>...</th>\n",
       "      <td>...</td>\n",
       "      <td>...</td>\n",
       "      <td>...</td>\n",
       "      <td>...</td>\n",
       "      <td>...</td>\n",
       "    </tr>\n",
       "    <tr>\n",
       "      <th>145</th>\n",
       "      <td>6.7</td>\n",
       "      <td>3.0</td>\n",
       "      <td>5.2</td>\n",
       "      <td>2.3</td>\n",
       "      <td>virginica</td>\n",
       "    </tr>\n",
       "    <tr>\n",
       "      <th>146</th>\n",
       "      <td>6.3</td>\n",
       "      <td>2.5</td>\n",
       "      <td>5.0</td>\n",
       "      <td>1.9</td>\n",
       "      <td>virginica</td>\n",
       "    </tr>\n",
       "    <tr>\n",
       "      <th>147</th>\n",
       "      <td>6.5</td>\n",
       "      <td>3.0</td>\n",
       "      <td>5.2</td>\n",
       "      <td>2.0</td>\n",
       "      <td>virginica</td>\n",
       "    </tr>\n",
       "    <tr>\n",
       "      <th>148</th>\n",
       "      <td>6.2</td>\n",
       "      <td>3.4</td>\n",
       "      <td>5.4</td>\n",
       "      <td>2.3</td>\n",
       "      <td>virginica</td>\n",
       "    </tr>\n",
       "    <tr>\n",
       "      <th>149</th>\n",
       "      <td>5.9</td>\n",
       "      <td>3.0</td>\n",
       "      <td>5.1</td>\n",
       "      <td>1.8</td>\n",
       "      <td>virginica</td>\n",
       "    </tr>\n",
       "  </tbody>\n",
       "</table>\n",
       "<p>150 rows × 5 columns</p>\n",
       "</div>"
      ],
      "text/plain": [
       "     sepal_length  sepal_width  petal_length  petal_width    species\n",
       "0             5.1          3.5           1.4          0.2     setosa\n",
       "1             4.9          3.0           1.4          0.2     setosa\n",
       "2             4.7          3.2           1.3          0.2     setosa\n",
       "3             4.6          3.1           1.5          0.2     setosa\n",
       "4             5.0          3.6           1.4          0.2     setosa\n",
       "..            ...          ...           ...          ...        ...\n",
       "145           6.7          3.0           5.2          2.3  virginica\n",
       "146           6.3          2.5           5.0          1.9  virginica\n",
       "147           6.5          3.0           5.2          2.0  virginica\n",
       "148           6.2          3.4           5.4          2.3  virginica\n",
       "149           5.9          3.0           5.1          1.8  virginica\n",
       "\n",
       "[150 rows x 5 columns]"
      ]
     },
     "execution_count": 374,
     "metadata": {},
     "output_type": "execute_result"
    }
   ],
   "source": [
    "df.sort_index()"
   ]
  },
  {
   "cell_type": "code",
   "execution_count": 375,
   "id": "2ccae599",
   "metadata": {},
   "outputs": [
    {
     "data": {
      "text/html": [
       "<div>\n",
       "<style scoped>\n",
       "    .dataframe tbody tr th:only-of-type {\n",
       "        vertical-align: middle;\n",
       "    }\n",
       "\n",
       "    .dataframe tbody tr th {\n",
       "        vertical-align: top;\n",
       "    }\n",
       "\n",
       "    .dataframe thead th {\n",
       "        text-align: right;\n",
       "    }\n",
       "</style>\n",
       "<table border=\"1\" class=\"dataframe\">\n",
       "  <thead>\n",
       "    <tr style=\"text-align: right;\">\n",
       "      <th></th>\n",
       "      <th>sepal_length</th>\n",
       "      <th>sepal_width</th>\n",
       "      <th>petal_length</th>\n",
       "      <th>petal_width</th>\n",
       "      <th>species</th>\n",
       "    </tr>\n",
       "  </thead>\n",
       "  <tbody>\n",
       "    <tr>\n",
       "      <th>131</th>\n",
       "      <td>15.8</td>\n",
       "      <td>7.6</td>\n",
       "      <td>12.8</td>\n",
       "      <td>4.0</td>\n",
       "      <td>virginicavirginica</td>\n",
       "    </tr>\n",
       "    <tr>\n",
       "      <th>118</th>\n",
       "      <td>15.4</td>\n",
       "      <td>5.2</td>\n",
       "      <td>13.8</td>\n",
       "      <td>4.6</td>\n",
       "      <td>virginicavirginica</td>\n",
       "    </tr>\n",
       "    <tr>\n",
       "      <th>122</th>\n",
       "      <td>15.4</td>\n",
       "      <td>5.6</td>\n",
       "      <td>13.4</td>\n",
       "      <td>4.0</td>\n",
       "      <td>virginicavirginica</td>\n",
       "    </tr>\n",
       "    <tr>\n",
       "      <th>135</th>\n",
       "      <td>15.4</td>\n",
       "      <td>6.0</td>\n",
       "      <td>12.2</td>\n",
       "      <td>4.6</td>\n",
       "      <td>virginicavirginica</td>\n",
       "    </tr>\n",
       "    <tr>\n",
       "      <th>117</th>\n",
       "      <td>15.4</td>\n",
       "      <td>7.6</td>\n",
       "      <td>13.4</td>\n",
       "      <td>4.4</td>\n",
       "      <td>virginicavirginica</td>\n",
       "    </tr>\n",
       "    <tr>\n",
       "      <th>...</th>\n",
       "      <td>...</td>\n",
       "      <td>...</td>\n",
       "      <td>...</td>\n",
       "      <td>...</td>\n",
       "      <td>...</td>\n",
       "    </tr>\n",
       "    <tr>\n",
       "      <th>41</th>\n",
       "      <td>9.0</td>\n",
       "      <td>4.6</td>\n",
       "      <td>2.6</td>\n",
       "      <td>0.6</td>\n",
       "      <td>setosasetosa</td>\n",
       "    </tr>\n",
       "    <tr>\n",
       "      <th>8</th>\n",
       "      <td>8.8</td>\n",
       "      <td>5.8</td>\n",
       "      <td>2.8</td>\n",
       "      <td>0.4</td>\n",
       "      <td>setosasetosa</td>\n",
       "    </tr>\n",
       "    <tr>\n",
       "      <th>38</th>\n",
       "      <td>8.8</td>\n",
       "      <td>6.0</td>\n",
       "      <td>2.6</td>\n",
       "      <td>0.4</td>\n",
       "      <td>setosasetosa</td>\n",
       "    </tr>\n",
       "    <tr>\n",
       "      <th>42</th>\n",
       "      <td>8.8</td>\n",
       "      <td>6.4</td>\n",
       "      <td>2.6</td>\n",
       "      <td>0.4</td>\n",
       "      <td>setosasetosa</td>\n",
       "    </tr>\n",
       "    <tr>\n",
       "      <th>13</th>\n",
       "      <td>8.6</td>\n",
       "      <td>6.0</td>\n",
       "      <td>2.2</td>\n",
       "      <td>0.2</td>\n",
       "      <td>setosasetosa</td>\n",
       "    </tr>\n",
       "  </tbody>\n",
       "</table>\n",
       "<p>150 rows × 5 columns</p>\n",
       "</div>"
      ],
      "text/plain": [
       "     sepal_length  sepal_width  petal_length  petal_width             species\n",
       "131          15.8          7.6          12.8          4.0  virginicavirginica\n",
       "118          15.4          5.2          13.8          4.6  virginicavirginica\n",
       "122          15.4          5.6          13.4          4.0  virginicavirginica\n",
       "135          15.4          6.0          12.2          4.6  virginicavirginica\n",
       "117          15.4          7.6          13.4          4.4  virginicavirginica\n",
       "..            ...          ...           ...          ...                 ...\n",
       "41            9.0          4.6           2.6          0.6        setosasetosa\n",
       "8             8.8          5.8           2.8          0.4        setosasetosa\n",
       "38            8.8          6.0           2.6          0.4        setosasetosa\n",
       "42            8.8          6.4           2.6          0.4        setosasetosa\n",
       "13            8.6          6.0           2.2          0.2        setosasetosa\n",
       "\n",
       "[150 rows x 5 columns]"
      ]
     },
     "execution_count": 375,
     "metadata": {},
     "output_type": "execute_result"
    }
   ],
   "source": [
    "df.apply(lambda x:x+x)"
   ]
  },
  {
   "cell_type": "code",
   "execution_count": 381,
   "id": "a2ceacd8",
   "metadata": {},
   "outputs": [
    {
     "data": {
      "text/plain": [
       "4.9"
      ]
     },
     "execution_count": 381,
     "metadata": {},
     "output_type": "execute_result"
    }
   ],
   "source": [
    "df[df.species == 'virginica']['sepal_length'].min()"
   ]
  },
  {
   "cell_type": "code",
   "execution_count": 388,
   "id": "e9ce6a2b",
   "metadata": {},
   "outputs": [
    {
     "data": {
      "text/html": [
       "<div>\n",
       "<style scoped>\n",
       "    .dataframe tbody tr th:only-of-type {\n",
       "        vertical-align: middle;\n",
       "    }\n",
       "\n",
       "    .dataframe tbody tr th {\n",
       "        vertical-align: top;\n",
       "    }\n",
       "\n",
       "    .dataframe thead th {\n",
       "        text-align: right;\n",
       "    }\n",
       "</style>\n",
       "<table border=\"1\" class=\"dataframe\">\n",
       "  <thead>\n",
       "    <tr style=\"text-align: right;\">\n",
       "      <th></th>\n",
       "      <th>sepal_length</th>\n",
       "      <th>sepal_width</th>\n",
       "      <th>petal_length</th>\n",
       "      <th>petal_width</th>\n",
       "      <th>species</th>\n",
       "    </tr>\n",
       "  </thead>\n",
       "  <tbody>\n",
       "    <tr>\n",
       "      <th>min</th>\n",
       "      <td>4.300000</td>\n",
       "      <td>2.000000</td>\n",
       "      <td>1.000000</td>\n",
       "      <td>0.100000</td>\n",
       "      <td>setosa</td>\n",
       "    </tr>\n",
       "    <tr>\n",
       "      <th>max</th>\n",
       "      <td>7.900000</td>\n",
       "      <td>4.400000</td>\n",
       "      <td>6.900000</td>\n",
       "      <td>2.500000</td>\n",
       "      <td>virginica</td>\n",
       "    </tr>\n",
       "    <tr>\n",
       "      <th>std</th>\n",
       "      <td>0.828066</td>\n",
       "      <td>0.433594</td>\n",
       "      <td>1.764420</td>\n",
       "      <td>0.763161</td>\n",
       "      <td>NaN</td>\n",
       "    </tr>\n",
       "    <tr>\n",
       "      <th>mean</th>\n",
       "      <td>5.843333</td>\n",
       "      <td>3.054000</td>\n",
       "      <td>3.758667</td>\n",
       "      <td>1.198667</td>\n",
       "      <td>NaN</td>\n",
       "    </tr>\n",
       "    <tr>\n",
       "      <th>median</th>\n",
       "      <td>5.800000</td>\n",
       "      <td>3.000000</td>\n",
       "      <td>4.350000</td>\n",
       "      <td>1.300000</td>\n",
       "      <td>NaN</td>\n",
       "    </tr>\n",
       "  </tbody>\n",
       "</table>\n",
       "</div>"
      ],
      "text/plain": [
       "        sepal_length  sepal_width  petal_length  petal_width    species\n",
       "min         4.300000     2.000000      1.000000     0.100000     setosa\n",
       "max         7.900000     4.400000      6.900000     2.500000  virginica\n",
       "std         0.828066     0.433594      1.764420     0.763161        NaN\n",
       "mean        5.843333     3.054000      3.758667     1.198667        NaN\n",
       "median      5.800000     3.000000      4.350000     1.300000        NaN"
      ]
     },
     "execution_count": 388,
     "metadata": {},
     "output_type": "execute_result"
    }
   ],
   "source": [
    "df.aggregate(['min','max', 'std', 'mean', 'median'])"
   ]
  },
  {
   "cell_type": "code",
   "execution_count": 391,
   "id": "1dcdfe65",
   "metadata": {},
   "outputs": [],
   "source": [
    "obj = df.groupby('species')"
   ]
  },
  {
   "cell_type": "code",
   "execution_count": 392,
   "id": "63b605d2",
   "metadata": {},
   "outputs": [
    {
     "data": {
      "text/html": [
       "<div>\n",
       "<style scoped>\n",
       "    .dataframe tbody tr th:only-of-type {\n",
       "        vertical-align: middle;\n",
       "    }\n",
       "\n",
       "    .dataframe tbody tr th {\n",
       "        vertical-align: top;\n",
       "    }\n",
       "\n",
       "    .dataframe thead th {\n",
       "        text-align: right;\n",
       "    }\n",
       "</style>\n",
       "<table border=\"1\" class=\"dataframe\">\n",
       "  <thead>\n",
       "    <tr style=\"text-align: right;\">\n",
       "      <th></th>\n",
       "      <th>sepal_length</th>\n",
       "      <th>sepal_width</th>\n",
       "      <th>petal_length</th>\n",
       "      <th>petal_width</th>\n",
       "    </tr>\n",
       "    <tr>\n",
       "      <th>species</th>\n",
       "      <th></th>\n",
       "      <th></th>\n",
       "      <th></th>\n",
       "      <th></th>\n",
       "    </tr>\n",
       "  </thead>\n",
       "  <tbody>\n",
       "    <tr>\n",
       "      <th>setosa</th>\n",
       "      <td>0.27072</td>\n",
       "      <td>0.28888</td>\n",
       "      <td>0.13088</td>\n",
       "      <td>0.08384</td>\n",
       "    </tr>\n",
       "    <tr>\n",
       "      <th>versicolor</th>\n",
       "      <td>0.42144</td>\n",
       "      <td>0.25480</td>\n",
       "      <td>0.37920</td>\n",
       "      <td>0.15712</td>\n",
       "    </tr>\n",
       "    <tr>\n",
       "      <th>virginica</th>\n",
       "      <td>0.50256</td>\n",
       "      <td>0.24216</td>\n",
       "      <td>0.44000</td>\n",
       "      <td>0.22808</td>\n",
       "    </tr>\n",
       "  </tbody>\n",
       "</table>\n",
       "</div>"
      ],
      "text/plain": [
       "            sepal_length  sepal_width  petal_length  petal_width\n",
       "species                                                         \n",
       "setosa           0.27072      0.28888       0.13088      0.08384\n",
       "versicolor       0.42144      0.25480       0.37920      0.15712\n",
       "virginica        0.50256      0.24216       0.44000      0.22808"
      ]
     },
     "execution_count": 392,
     "metadata": {},
     "output_type": "execute_result"
    }
   ],
   "source": [
    "obj.mad()"
   ]
  },
  {
   "cell_type": "code",
   "execution_count": 393,
   "id": "f41a4055",
   "metadata": {},
   "outputs": [
    {
     "data": {
      "text/html": [
       "<div>\n",
       "<style scoped>\n",
       "    .dataframe tbody tr th:only-of-type {\n",
       "        vertical-align: middle;\n",
       "    }\n",
       "\n",
       "    .dataframe tbody tr th {\n",
       "        vertical-align: top;\n",
       "    }\n",
       "\n",
       "    .dataframe thead th {\n",
       "        text-align: right;\n",
       "    }\n",
       "</style>\n",
       "<table border=\"1\" class=\"dataframe\">\n",
       "  <thead>\n",
       "    <tr style=\"text-align: right;\">\n",
       "      <th></th>\n",
       "      <th>sepal_length</th>\n",
       "      <th>sepal_width</th>\n",
       "      <th>petal_length</th>\n",
       "      <th>petal_width</th>\n",
       "    </tr>\n",
       "    <tr>\n",
       "      <th>species</th>\n",
       "      <th></th>\n",
       "      <th></th>\n",
       "      <th></th>\n",
       "      <th></th>\n",
       "    </tr>\n",
       "  </thead>\n",
       "  <tbody>\n",
       "    <tr>\n",
       "      <th>setosa</th>\n",
       "      <td>5.8</td>\n",
       "      <td>4.4</td>\n",
       "      <td>1.9</td>\n",
       "      <td>0.6</td>\n",
       "    </tr>\n",
       "    <tr>\n",
       "      <th>versicolor</th>\n",
       "      <td>7.0</td>\n",
       "      <td>3.4</td>\n",
       "      <td>5.1</td>\n",
       "      <td>1.8</td>\n",
       "    </tr>\n",
       "    <tr>\n",
       "      <th>virginica</th>\n",
       "      <td>7.9</td>\n",
       "      <td>3.8</td>\n",
       "      <td>6.9</td>\n",
       "      <td>2.5</td>\n",
       "    </tr>\n",
       "  </tbody>\n",
       "</table>\n",
       "</div>"
      ],
      "text/plain": [
       "            sepal_length  sepal_width  petal_length  petal_width\n",
       "species                                                         \n",
       "setosa               5.8          4.4           1.9          0.6\n",
       "versicolor           7.0          3.4           5.1          1.8\n",
       "virginica            7.9          3.8           6.9          2.5"
      ]
     },
     "execution_count": 393,
     "metadata": {},
     "output_type": "execute_result"
    }
   ],
   "source": [
    "obj.max()"
   ]
  },
  {
   "cell_type": "code",
   "execution_count": 394,
   "id": "fd0010d7",
   "metadata": {},
   "outputs": [
    {
     "data": {
      "text/html": [
       "<div>\n",
       "<style scoped>\n",
       "    .dataframe tbody tr th:only-of-type {\n",
       "        vertical-align: middle;\n",
       "    }\n",
       "\n",
       "    .dataframe tbody tr th {\n",
       "        vertical-align: top;\n",
       "    }\n",
       "\n",
       "    .dataframe thead th {\n",
       "        text-align: right;\n",
       "    }\n",
       "</style>\n",
       "<table border=\"1\" class=\"dataframe\">\n",
       "  <thead>\n",
       "    <tr style=\"text-align: right;\">\n",
       "      <th></th>\n",
       "      <th>sepal_length</th>\n",
       "      <th>sepal_width</th>\n",
       "      <th>petal_length</th>\n",
       "      <th>petal_width</th>\n",
       "    </tr>\n",
       "    <tr>\n",
       "      <th>species</th>\n",
       "      <th></th>\n",
       "      <th></th>\n",
       "      <th></th>\n",
       "      <th></th>\n",
       "    </tr>\n",
       "  </thead>\n",
       "  <tbody>\n",
       "    <tr>\n",
       "      <th>setosa</th>\n",
       "      <td>4.3</td>\n",
       "      <td>2.3</td>\n",
       "      <td>1.0</td>\n",
       "      <td>0.1</td>\n",
       "    </tr>\n",
       "    <tr>\n",
       "      <th>versicolor</th>\n",
       "      <td>4.9</td>\n",
       "      <td>2.0</td>\n",
       "      <td>3.0</td>\n",
       "      <td>1.0</td>\n",
       "    </tr>\n",
       "    <tr>\n",
       "      <th>virginica</th>\n",
       "      <td>4.9</td>\n",
       "      <td>2.2</td>\n",
       "      <td>4.5</td>\n",
       "      <td>1.4</td>\n",
       "    </tr>\n",
       "  </tbody>\n",
       "</table>\n",
       "</div>"
      ],
      "text/plain": [
       "            sepal_length  sepal_width  petal_length  petal_width\n",
       "species                                                         \n",
       "setosa               4.3          2.3           1.0          0.1\n",
       "versicolor           4.9          2.0           3.0          1.0\n",
       "virginica            4.9          2.2           4.5          1.4"
      ]
     },
     "execution_count": 394,
     "metadata": {},
     "output_type": "execute_result"
    }
   ],
   "source": [
    "obj.min()"
   ]
  },
  {
   "cell_type": "code",
   "execution_count": 395,
   "id": "882633be",
   "metadata": {},
   "outputs": [
    {
     "data": {
      "text/html": [
       "<div>\n",
       "<style scoped>\n",
       "    .dataframe tbody tr th:only-of-type {\n",
       "        vertical-align: middle;\n",
       "    }\n",
       "\n",
       "    .dataframe tbody tr th {\n",
       "        vertical-align: top;\n",
       "    }\n",
       "\n",
       "    .dataframe thead th {\n",
       "        text-align: right;\n",
       "    }\n",
       "</style>\n",
       "<table border=\"1\" class=\"dataframe\">\n",
       "  <thead>\n",
       "    <tr style=\"text-align: right;\">\n",
       "      <th></th>\n",
       "      <th>sepal_length</th>\n",
       "      <th>sepal_width</th>\n",
       "      <th>petal_length</th>\n",
       "      <th>petal_width</th>\n",
       "    </tr>\n",
       "    <tr>\n",
       "      <th>species</th>\n",
       "      <th></th>\n",
       "      <th></th>\n",
       "      <th></th>\n",
       "      <th></th>\n",
       "    </tr>\n",
       "  </thead>\n",
       "  <tbody>\n",
       "    <tr>\n",
       "      <th>setosa</th>\n",
       "      <td>5.0</td>\n",
       "      <td>3.4</td>\n",
       "      <td>1.50</td>\n",
       "      <td>0.2</td>\n",
       "    </tr>\n",
       "    <tr>\n",
       "      <th>versicolor</th>\n",
       "      <td>5.9</td>\n",
       "      <td>2.8</td>\n",
       "      <td>4.35</td>\n",
       "      <td>1.3</td>\n",
       "    </tr>\n",
       "    <tr>\n",
       "      <th>virginica</th>\n",
       "      <td>6.5</td>\n",
       "      <td>3.0</td>\n",
       "      <td>5.55</td>\n",
       "      <td>2.0</td>\n",
       "    </tr>\n",
       "  </tbody>\n",
       "</table>\n",
       "</div>"
      ],
      "text/plain": [
       "            sepal_length  sepal_width  petal_length  petal_width\n",
       "species                                                         \n",
       "setosa               5.0          3.4          1.50          0.2\n",
       "versicolor           5.9          2.8          4.35          1.3\n",
       "virginica            6.5          3.0          5.55          2.0"
      ]
     },
     "execution_count": 395,
     "metadata": {},
     "output_type": "execute_result"
    }
   ],
   "source": [
    "obj.median()"
   ]
  },
  {
   "cell_type": "code",
   "execution_count": 396,
   "id": "f91e506f",
   "metadata": {},
   "outputs": [
    {
     "data": {
      "text/html": [
       "<div>\n",
       "<style scoped>\n",
       "    .dataframe tbody tr th:only-of-type {\n",
       "        vertical-align: middle;\n",
       "    }\n",
       "\n",
       "    .dataframe tbody tr th {\n",
       "        vertical-align: top;\n",
       "    }\n",
       "\n",
       "    .dataframe thead th {\n",
       "        text-align: right;\n",
       "    }\n",
       "</style>\n",
       "<table border=\"1\" class=\"dataframe\">\n",
       "  <thead>\n",
       "    <tr style=\"text-align: right;\">\n",
       "      <th></th>\n",
       "      <th>sepal_length</th>\n",
       "      <th>sepal_width</th>\n",
       "      <th>petal_length</th>\n",
       "      <th>petal_width</th>\n",
       "    </tr>\n",
       "    <tr>\n",
       "      <th>species</th>\n",
       "      <th></th>\n",
       "      <th></th>\n",
       "      <th></th>\n",
       "      <th></th>\n",
       "    </tr>\n",
       "  </thead>\n",
       "  <tbody>\n",
       "    <tr>\n",
       "      <th>setosa</th>\n",
       "      <td>5.006</td>\n",
       "      <td>3.418</td>\n",
       "      <td>1.464</td>\n",
       "      <td>0.244</td>\n",
       "    </tr>\n",
       "    <tr>\n",
       "      <th>versicolor</th>\n",
       "      <td>5.936</td>\n",
       "      <td>2.770</td>\n",
       "      <td>4.260</td>\n",
       "      <td>1.326</td>\n",
       "    </tr>\n",
       "    <tr>\n",
       "      <th>virginica</th>\n",
       "      <td>6.588</td>\n",
       "      <td>2.974</td>\n",
       "      <td>5.552</td>\n",
       "      <td>2.026</td>\n",
       "    </tr>\n",
       "  </tbody>\n",
       "</table>\n",
       "</div>"
      ],
      "text/plain": [
       "            sepal_length  sepal_width  petal_length  petal_width\n",
       "species                                                         \n",
       "setosa             5.006        3.418         1.464        0.244\n",
       "versicolor         5.936        2.770         4.260        1.326\n",
       "virginica          6.588        2.974         5.552        2.026"
      ]
     },
     "execution_count": 396,
     "metadata": {},
     "output_type": "execute_result"
    }
   ],
   "source": [
    "obj.mean()"
   ]
  },
  {
   "cell_type": "code",
   "execution_count": 401,
   "id": "7d6cb3d7",
   "metadata": {},
   "outputs": [
    {
     "data": {
      "text/plain": [
       "1.4639999999999997"
      ]
     },
     "execution_count": 401,
     "metadata": {},
     "output_type": "execute_result"
    }
   ],
   "source": [
    "df[df.species == 'setosa']['petal_length'].mean()"
   ]
  },
  {
   "cell_type": "code",
   "execution_count": 402,
   "id": "3d92b58b",
   "metadata": {},
   "outputs": [
    {
     "data": {
      "text/html": [
       "<div>\n",
       "<style scoped>\n",
       "    .dataframe tbody tr th:only-of-type {\n",
       "        vertical-align: middle;\n",
       "    }\n",
       "\n",
       "    .dataframe tbody tr th {\n",
       "        vertical-align: top;\n",
       "    }\n",
       "\n",
       "    .dataframe thead th {\n",
       "        text-align: right;\n",
       "    }\n",
       "</style>\n",
       "<table border=\"1\" class=\"dataframe\">\n",
       "  <thead>\n",
       "    <tr style=\"text-align: right;\">\n",
       "      <th></th>\n",
       "      <th>sepal_length</th>\n",
       "      <th>sepal_width</th>\n",
       "      <th>petal_length</th>\n",
       "      <th>petal_width</th>\n",
       "    </tr>\n",
       "    <tr>\n",
       "      <th>species</th>\n",
       "      <th></th>\n",
       "      <th></th>\n",
       "      <th></th>\n",
       "      <th></th>\n",
       "    </tr>\n",
       "  </thead>\n",
       "  <tbody>\n",
       "    <tr>\n",
       "      <th>setosa</th>\n",
       "      <td>50</td>\n",
       "      <td>50</td>\n",
       "      <td>50</td>\n",
       "      <td>50</td>\n",
       "    </tr>\n",
       "    <tr>\n",
       "      <th>versicolor</th>\n",
       "      <td>50</td>\n",
       "      <td>50</td>\n",
       "      <td>50</td>\n",
       "      <td>50</td>\n",
       "    </tr>\n",
       "    <tr>\n",
       "      <th>virginica</th>\n",
       "      <td>50</td>\n",
       "      <td>50</td>\n",
       "      <td>50</td>\n",
       "      <td>50</td>\n",
       "    </tr>\n",
       "  </tbody>\n",
       "</table>\n",
       "</div>"
      ],
      "text/plain": [
       "            sepal_length  sepal_width  petal_length  petal_width\n",
       "species                                                         \n",
       "setosa                50           50            50           50\n",
       "versicolor            50           50            50           50\n",
       "virginica             50           50            50           50"
      ]
     },
     "execution_count": 402,
     "metadata": {},
     "output_type": "execute_result"
    }
   ],
   "source": [
    "obj.count()"
   ]
  },
  {
   "cell_type": "code",
   "execution_count": 403,
   "id": "2b747c65",
   "metadata": {},
   "outputs": [
    {
     "data": {
      "text/html": [
       "<div>\n",
       "<style scoped>\n",
       "    .dataframe tbody tr th:only-of-type {\n",
       "        vertical-align: middle;\n",
       "    }\n",
       "\n",
       "    .dataframe tbody tr th {\n",
       "        vertical-align: top;\n",
       "    }\n",
       "\n",
       "    .dataframe thead th {\n",
       "        text-align: right;\n",
       "    }\n",
       "</style>\n",
       "<table border=\"1\" class=\"dataframe\">\n",
       "  <thead>\n",
       "    <tr style=\"text-align: right;\">\n",
       "      <th></th>\n",
       "      <th>sepal_length</th>\n",
       "      <th>sepal_width</th>\n",
       "      <th>petal_length</th>\n",
       "      <th>petal_width</th>\n",
       "    </tr>\n",
       "    <tr>\n",
       "      <th>species</th>\n",
       "      <th></th>\n",
       "      <th></th>\n",
       "      <th></th>\n",
       "      <th></th>\n",
       "    </tr>\n",
       "  </thead>\n",
       "  <tbody>\n",
       "    <tr>\n",
       "      <th>setosa</th>\n",
       "      <td>250.3</td>\n",
       "      <td>170.9</td>\n",
       "      <td>73.2</td>\n",
       "      <td>12.2</td>\n",
       "    </tr>\n",
       "    <tr>\n",
       "      <th>versicolor</th>\n",
       "      <td>296.8</td>\n",
       "      <td>138.5</td>\n",
       "      <td>213.0</td>\n",
       "      <td>66.3</td>\n",
       "    </tr>\n",
       "    <tr>\n",
       "      <th>virginica</th>\n",
       "      <td>329.4</td>\n",
       "      <td>148.7</td>\n",
       "      <td>277.6</td>\n",
       "      <td>101.3</td>\n",
       "    </tr>\n",
       "  </tbody>\n",
       "</table>\n",
       "</div>"
      ],
      "text/plain": [
       "            sepal_length  sepal_width  petal_length  petal_width\n",
       "species                                                         \n",
       "setosa             250.3        170.9          73.2         12.2\n",
       "versicolor         296.8        138.5         213.0         66.3\n",
       "virginica          329.4        148.7         277.6        101.3"
      ]
     },
     "execution_count": 403,
     "metadata": {},
     "output_type": "execute_result"
    }
   ],
   "source": [
    "obj.sum()"
   ]
  },
  {
   "cell_type": "code",
   "execution_count": 405,
   "id": "7f15efca",
   "metadata": {},
   "outputs": [
    {
     "data": {
      "text/html": [
       "<div>\n",
       "<style scoped>\n",
       "    .dataframe tbody tr th:only-of-type {\n",
       "        vertical-align: middle;\n",
       "    }\n",
       "\n",
       "    .dataframe tbody tr th {\n",
       "        vertical-align: top;\n",
       "    }\n",
       "\n",
       "    .dataframe thead th {\n",
       "        text-align: right;\n",
       "    }\n",
       "</style>\n",
       "<table border=\"1\" class=\"dataframe\">\n",
       "  <thead>\n",
       "    <tr style=\"text-align: right;\">\n",
       "      <th></th>\n",
       "      <th>species</th>\n",
       "      <th>setosa</th>\n",
       "      <th>versicolor</th>\n",
       "      <th>virginica</th>\n",
       "    </tr>\n",
       "  </thead>\n",
       "  <tbody>\n",
       "    <tr>\n",
       "      <th rowspan=\"8\" valign=\"top\">sepal_length</th>\n",
       "      <th>count</th>\n",
       "      <td>50.000000</td>\n",
       "      <td>50.000000</td>\n",
       "      <td>50.000000</td>\n",
       "    </tr>\n",
       "    <tr>\n",
       "      <th>mean</th>\n",
       "      <td>5.006000</td>\n",
       "      <td>5.936000</td>\n",
       "      <td>6.588000</td>\n",
       "    </tr>\n",
       "    <tr>\n",
       "      <th>std</th>\n",
       "      <td>0.352490</td>\n",
       "      <td>0.516171</td>\n",
       "      <td>0.635880</td>\n",
       "    </tr>\n",
       "    <tr>\n",
       "      <th>min</th>\n",
       "      <td>4.300000</td>\n",
       "      <td>4.900000</td>\n",
       "      <td>4.900000</td>\n",
       "    </tr>\n",
       "    <tr>\n",
       "      <th>25%</th>\n",
       "      <td>4.800000</td>\n",
       "      <td>5.600000</td>\n",
       "      <td>6.225000</td>\n",
       "    </tr>\n",
       "    <tr>\n",
       "      <th>50%</th>\n",
       "      <td>5.000000</td>\n",
       "      <td>5.900000</td>\n",
       "      <td>6.500000</td>\n",
       "    </tr>\n",
       "    <tr>\n",
       "      <th>75%</th>\n",
       "      <td>5.200000</td>\n",
       "      <td>6.300000</td>\n",
       "      <td>6.900000</td>\n",
       "    </tr>\n",
       "    <tr>\n",
       "      <th>max</th>\n",
       "      <td>5.800000</td>\n",
       "      <td>7.000000</td>\n",
       "      <td>7.900000</td>\n",
       "    </tr>\n",
       "    <tr>\n",
       "      <th rowspan=\"8\" valign=\"top\">sepal_width</th>\n",
       "      <th>count</th>\n",
       "      <td>50.000000</td>\n",
       "      <td>50.000000</td>\n",
       "      <td>50.000000</td>\n",
       "    </tr>\n",
       "    <tr>\n",
       "      <th>mean</th>\n",
       "      <td>3.418000</td>\n",
       "      <td>2.770000</td>\n",
       "      <td>2.974000</td>\n",
       "    </tr>\n",
       "    <tr>\n",
       "      <th>std</th>\n",
       "      <td>0.381024</td>\n",
       "      <td>0.313798</td>\n",
       "      <td>0.322497</td>\n",
       "    </tr>\n",
       "    <tr>\n",
       "      <th>min</th>\n",
       "      <td>2.300000</td>\n",
       "      <td>2.000000</td>\n",
       "      <td>2.200000</td>\n",
       "    </tr>\n",
       "    <tr>\n",
       "      <th>25%</th>\n",
       "      <td>3.125000</td>\n",
       "      <td>2.525000</td>\n",
       "      <td>2.800000</td>\n",
       "    </tr>\n",
       "    <tr>\n",
       "      <th>50%</th>\n",
       "      <td>3.400000</td>\n",
       "      <td>2.800000</td>\n",
       "      <td>3.000000</td>\n",
       "    </tr>\n",
       "    <tr>\n",
       "      <th>75%</th>\n",
       "      <td>3.675000</td>\n",
       "      <td>3.000000</td>\n",
       "      <td>3.175000</td>\n",
       "    </tr>\n",
       "    <tr>\n",
       "      <th>max</th>\n",
       "      <td>4.400000</td>\n",
       "      <td>3.400000</td>\n",
       "      <td>3.800000</td>\n",
       "    </tr>\n",
       "    <tr>\n",
       "      <th rowspan=\"8\" valign=\"top\">petal_length</th>\n",
       "      <th>count</th>\n",
       "      <td>50.000000</td>\n",
       "      <td>50.000000</td>\n",
       "      <td>50.000000</td>\n",
       "    </tr>\n",
       "    <tr>\n",
       "      <th>mean</th>\n",
       "      <td>1.464000</td>\n",
       "      <td>4.260000</td>\n",
       "      <td>5.552000</td>\n",
       "    </tr>\n",
       "    <tr>\n",
       "      <th>std</th>\n",
       "      <td>0.173511</td>\n",
       "      <td>0.469911</td>\n",
       "      <td>0.551895</td>\n",
       "    </tr>\n",
       "    <tr>\n",
       "      <th>min</th>\n",
       "      <td>1.000000</td>\n",
       "      <td>3.000000</td>\n",
       "      <td>4.500000</td>\n",
       "    </tr>\n",
       "    <tr>\n",
       "      <th>25%</th>\n",
       "      <td>1.400000</td>\n",
       "      <td>4.000000</td>\n",
       "      <td>5.100000</td>\n",
       "    </tr>\n",
       "    <tr>\n",
       "      <th>50%</th>\n",
       "      <td>1.500000</td>\n",
       "      <td>4.350000</td>\n",
       "      <td>5.550000</td>\n",
       "    </tr>\n",
       "    <tr>\n",
       "      <th>75%</th>\n",
       "      <td>1.575000</td>\n",
       "      <td>4.600000</td>\n",
       "      <td>5.875000</td>\n",
       "    </tr>\n",
       "    <tr>\n",
       "      <th>max</th>\n",
       "      <td>1.900000</td>\n",
       "      <td>5.100000</td>\n",
       "      <td>6.900000</td>\n",
       "    </tr>\n",
       "    <tr>\n",
       "      <th rowspan=\"8\" valign=\"top\">petal_width</th>\n",
       "      <th>count</th>\n",
       "      <td>50.000000</td>\n",
       "      <td>50.000000</td>\n",
       "      <td>50.000000</td>\n",
       "    </tr>\n",
       "    <tr>\n",
       "      <th>mean</th>\n",
       "      <td>0.244000</td>\n",
       "      <td>1.326000</td>\n",
       "      <td>2.026000</td>\n",
       "    </tr>\n",
       "    <tr>\n",
       "      <th>std</th>\n",
       "      <td>0.107210</td>\n",
       "      <td>0.197753</td>\n",
       "      <td>0.274650</td>\n",
       "    </tr>\n",
       "    <tr>\n",
       "      <th>min</th>\n",
       "      <td>0.100000</td>\n",
       "      <td>1.000000</td>\n",
       "      <td>1.400000</td>\n",
       "    </tr>\n",
       "    <tr>\n",
       "      <th>25%</th>\n",
       "      <td>0.200000</td>\n",
       "      <td>1.200000</td>\n",
       "      <td>1.800000</td>\n",
       "    </tr>\n",
       "    <tr>\n",
       "      <th>50%</th>\n",
       "      <td>0.200000</td>\n",
       "      <td>1.300000</td>\n",
       "      <td>2.000000</td>\n",
       "    </tr>\n",
       "    <tr>\n",
       "      <th>75%</th>\n",
       "      <td>0.300000</td>\n",
       "      <td>1.500000</td>\n",
       "      <td>2.300000</td>\n",
       "    </tr>\n",
       "    <tr>\n",
       "      <th>max</th>\n",
       "      <td>0.600000</td>\n",
       "      <td>1.800000</td>\n",
       "      <td>2.500000</td>\n",
       "    </tr>\n",
       "  </tbody>\n",
       "</table>\n",
       "</div>"
      ],
      "text/plain": [
       "species                setosa  versicolor  virginica\n",
       "sepal_length count  50.000000   50.000000  50.000000\n",
       "             mean    5.006000    5.936000   6.588000\n",
       "             std     0.352490    0.516171   0.635880\n",
       "             min     4.300000    4.900000   4.900000\n",
       "             25%     4.800000    5.600000   6.225000\n",
       "             50%     5.000000    5.900000   6.500000\n",
       "             75%     5.200000    6.300000   6.900000\n",
       "             max     5.800000    7.000000   7.900000\n",
       "sepal_width  count  50.000000   50.000000  50.000000\n",
       "             mean    3.418000    2.770000   2.974000\n",
       "             std     0.381024    0.313798   0.322497\n",
       "             min     2.300000    2.000000   2.200000\n",
       "             25%     3.125000    2.525000   2.800000\n",
       "             50%     3.400000    2.800000   3.000000\n",
       "             75%     3.675000    3.000000   3.175000\n",
       "             max     4.400000    3.400000   3.800000\n",
       "petal_length count  50.000000   50.000000  50.000000\n",
       "             mean    1.464000    4.260000   5.552000\n",
       "             std     0.173511    0.469911   0.551895\n",
       "             min     1.000000    3.000000   4.500000\n",
       "             25%     1.400000    4.000000   5.100000\n",
       "             50%     1.500000    4.350000   5.550000\n",
       "             75%     1.575000    4.600000   5.875000\n",
       "             max     1.900000    5.100000   6.900000\n",
       "petal_width  count  50.000000   50.000000  50.000000\n",
       "             mean    0.244000    1.326000   2.026000\n",
       "             std     0.107210    0.197753   0.274650\n",
       "             min     0.100000    1.000000   1.400000\n",
       "             25%     0.200000    1.200000   1.800000\n",
       "             50%     0.200000    1.300000   2.000000\n",
       "             75%     0.300000    1.500000   2.300000\n",
       "             max     0.600000    1.800000   2.500000"
      ]
     },
     "execution_count": 405,
     "metadata": {},
     "output_type": "execute_result"
    }
   ],
   "source": [
    "obj.describe().T"
   ]
  },
  {
   "cell_type": "code",
   "execution_count": 406,
   "id": "aaf33c43",
   "metadata": {},
   "outputs": [],
   "source": [
    "import warnings \n",
    "warnings.filterwarnings('ignore')"
   ]
  },
  {
   "cell_type": "code",
   "execution_count": 410,
   "id": "2ff93f4c",
   "metadata": {},
   "outputs": [],
   "source": [
    "nan_idx = np.random.randint(0,20,20)"
   ]
  },
  {
   "cell_type": "code",
   "execution_count": 413,
   "id": "b95414c9",
   "metadata": {},
   "outputs": [],
   "source": [
    "df.sepal_length[nan_idx] = np.nan"
   ]
  },
  {
   "cell_type": "code",
   "execution_count": 414,
   "id": "a4ad356f",
   "metadata": {},
   "outputs": [
    {
     "data": {
      "text/html": [
       "<div>\n",
       "<style scoped>\n",
       "    .dataframe tbody tr th:only-of-type {\n",
       "        vertical-align: middle;\n",
       "    }\n",
       "\n",
       "    .dataframe tbody tr th {\n",
       "        vertical-align: top;\n",
       "    }\n",
       "\n",
       "    .dataframe thead th {\n",
       "        text-align: right;\n",
       "    }\n",
       "</style>\n",
       "<table border=\"1\" class=\"dataframe\">\n",
       "  <thead>\n",
       "    <tr style=\"text-align: right;\">\n",
       "      <th></th>\n",
       "      <th>sepal_length</th>\n",
       "      <th>sepal_width</th>\n",
       "      <th>petal_length</th>\n",
       "      <th>petal_width</th>\n",
       "      <th>species</th>\n",
       "    </tr>\n",
       "  </thead>\n",
       "  <tbody>\n",
       "    <tr>\n",
       "      <th>131</th>\n",
       "      <td>7.9</td>\n",
       "      <td>3.8</td>\n",
       "      <td>6.4</td>\n",
       "      <td>2.0</td>\n",
       "      <td>virginica</td>\n",
       "    </tr>\n",
       "    <tr>\n",
       "      <th>118</th>\n",
       "      <td>7.7</td>\n",
       "      <td>2.6</td>\n",
       "      <td>6.9</td>\n",
       "      <td>2.3</td>\n",
       "      <td>virginica</td>\n",
       "    </tr>\n",
       "    <tr>\n",
       "      <th>122</th>\n",
       "      <td>7.7</td>\n",
       "      <td>2.8</td>\n",
       "      <td>6.7</td>\n",
       "      <td>2.0</td>\n",
       "      <td>virginica</td>\n",
       "    </tr>\n",
       "    <tr>\n",
       "      <th>135</th>\n",
       "      <td>7.7</td>\n",
       "      <td>3.0</td>\n",
       "      <td>6.1</td>\n",
       "      <td>2.3</td>\n",
       "      <td>virginica</td>\n",
       "    </tr>\n",
       "    <tr>\n",
       "      <th>117</th>\n",
       "      <td>7.7</td>\n",
       "      <td>3.8</td>\n",
       "      <td>6.7</td>\n",
       "      <td>2.2</td>\n",
       "      <td>virginica</td>\n",
       "    </tr>\n",
       "    <tr>\n",
       "      <th>...</th>\n",
       "      <td>...</td>\n",
       "      <td>...</td>\n",
       "      <td>...</td>\n",
       "      <td>...</td>\n",
       "      <td>...</td>\n",
       "    </tr>\n",
       "    <tr>\n",
       "      <th>41</th>\n",
       "      <td>4.5</td>\n",
       "      <td>2.3</td>\n",
       "      <td>1.3</td>\n",
       "      <td>0.3</td>\n",
       "      <td>setosa</td>\n",
       "    </tr>\n",
       "    <tr>\n",
       "      <th>8</th>\n",
       "      <td>NaN</td>\n",
       "      <td>2.9</td>\n",
       "      <td>1.4</td>\n",
       "      <td>0.2</td>\n",
       "      <td>setosa</td>\n",
       "    </tr>\n",
       "    <tr>\n",
       "      <th>38</th>\n",
       "      <td>4.4</td>\n",
       "      <td>3.0</td>\n",
       "      <td>1.3</td>\n",
       "      <td>0.2</td>\n",
       "      <td>setosa</td>\n",
       "    </tr>\n",
       "    <tr>\n",
       "      <th>42</th>\n",
       "      <td>4.4</td>\n",
       "      <td>3.2</td>\n",
       "      <td>1.3</td>\n",
       "      <td>0.2</td>\n",
       "      <td>setosa</td>\n",
       "    </tr>\n",
       "    <tr>\n",
       "      <th>13</th>\n",
       "      <td>NaN</td>\n",
       "      <td>3.0</td>\n",
       "      <td>1.1</td>\n",
       "      <td>0.1</td>\n",
       "      <td>setosa</td>\n",
       "    </tr>\n",
       "  </tbody>\n",
       "</table>\n",
       "<p>150 rows × 5 columns</p>\n",
       "</div>"
      ],
      "text/plain": [
       "     sepal_length  sepal_width  petal_length  petal_width    species\n",
       "131           7.9          3.8           6.4          2.0  virginica\n",
       "118           7.7          2.6           6.9          2.3  virginica\n",
       "122           7.7          2.8           6.7          2.0  virginica\n",
       "135           7.7          3.0           6.1          2.3  virginica\n",
       "117           7.7          3.8           6.7          2.2  virginica\n",
       "..            ...          ...           ...          ...        ...\n",
       "41            4.5          2.3           1.3          0.3     setosa\n",
       "8             NaN          2.9           1.4          0.2     setosa\n",
       "38            4.4          3.0           1.3          0.2     setosa\n",
       "42            4.4          3.2           1.3          0.2     setosa\n",
       "13            NaN          3.0           1.1          0.1     setosa\n",
       "\n",
       "[150 rows x 5 columns]"
      ]
     },
     "execution_count": 414,
     "metadata": {},
     "output_type": "execute_result"
    }
   ],
   "source": [
    "df"
   ]
  },
  {
   "cell_type": "code",
   "execution_count": 416,
   "id": "5d79aa1c",
   "metadata": {},
   "outputs": [],
   "source": [
    "nan_idx = np.random.randint(0,50,15)"
   ]
  },
  {
   "cell_type": "code",
   "execution_count": 421,
   "id": "18a72265",
   "metadata": {},
   "outputs": [],
   "source": [
    "df.petal_length[nan_idx] = np.nan"
   ]
  },
  {
   "cell_type": "code",
   "execution_count": 422,
   "id": "9857cf0c",
   "metadata": {},
   "outputs": [
    {
     "data": {
      "text/html": [
       "<div>\n",
       "<style scoped>\n",
       "    .dataframe tbody tr th:only-of-type {\n",
       "        vertical-align: middle;\n",
       "    }\n",
       "\n",
       "    .dataframe tbody tr th {\n",
       "        vertical-align: top;\n",
       "    }\n",
       "\n",
       "    .dataframe thead th {\n",
       "        text-align: right;\n",
       "    }\n",
       "</style>\n",
       "<table border=\"1\" class=\"dataframe\">\n",
       "  <thead>\n",
       "    <tr style=\"text-align: right;\">\n",
       "      <th></th>\n",
       "      <th>sepal_length</th>\n",
       "      <th>sepal_width</th>\n",
       "      <th>petal_length</th>\n",
       "      <th>petal_width</th>\n",
       "      <th>species</th>\n",
       "    </tr>\n",
       "  </thead>\n",
       "  <tbody>\n",
       "    <tr>\n",
       "      <th>131</th>\n",
       "      <td>7.9</td>\n",
       "      <td>3.8</td>\n",
       "      <td>6.4</td>\n",
       "      <td>2.0</td>\n",
       "      <td>virginica</td>\n",
       "    </tr>\n",
       "    <tr>\n",
       "      <th>118</th>\n",
       "      <td>7.7</td>\n",
       "      <td>2.6</td>\n",
       "      <td>6.9</td>\n",
       "      <td>2.3</td>\n",
       "      <td>virginica</td>\n",
       "    </tr>\n",
       "    <tr>\n",
       "      <th>122</th>\n",
       "      <td>7.7</td>\n",
       "      <td>2.8</td>\n",
       "      <td>6.7</td>\n",
       "      <td>2.0</td>\n",
       "      <td>virginica</td>\n",
       "    </tr>\n",
       "    <tr>\n",
       "      <th>135</th>\n",
       "      <td>7.7</td>\n",
       "      <td>3.0</td>\n",
       "      <td>6.1</td>\n",
       "      <td>2.3</td>\n",
       "      <td>virginica</td>\n",
       "    </tr>\n",
       "    <tr>\n",
       "      <th>117</th>\n",
       "      <td>7.7</td>\n",
       "      <td>3.8</td>\n",
       "      <td>6.7</td>\n",
       "      <td>2.2</td>\n",
       "      <td>virginica</td>\n",
       "    </tr>\n",
       "    <tr>\n",
       "      <th>...</th>\n",
       "      <td>...</td>\n",
       "      <td>...</td>\n",
       "      <td>...</td>\n",
       "      <td>...</td>\n",
       "      <td>...</td>\n",
       "    </tr>\n",
       "    <tr>\n",
       "      <th>41</th>\n",
       "      <td>4.5</td>\n",
       "      <td>2.3</td>\n",
       "      <td>1.3</td>\n",
       "      <td>0.3</td>\n",
       "      <td>setosa</td>\n",
       "    </tr>\n",
       "    <tr>\n",
       "      <th>8</th>\n",
       "      <td>NaN</td>\n",
       "      <td>2.9</td>\n",
       "      <td>1.4</td>\n",
       "      <td>0.2</td>\n",
       "      <td>setosa</td>\n",
       "    </tr>\n",
       "    <tr>\n",
       "      <th>38</th>\n",
       "      <td>4.4</td>\n",
       "      <td>3.0</td>\n",
       "      <td>NaN</td>\n",
       "      <td>0.2</td>\n",
       "      <td>setosa</td>\n",
       "    </tr>\n",
       "    <tr>\n",
       "      <th>42</th>\n",
       "      <td>4.4</td>\n",
       "      <td>3.2</td>\n",
       "      <td>NaN</td>\n",
       "      <td>0.2</td>\n",
       "      <td>setosa</td>\n",
       "    </tr>\n",
       "    <tr>\n",
       "      <th>13</th>\n",
       "      <td>NaN</td>\n",
       "      <td>3.0</td>\n",
       "      <td>1.1</td>\n",
       "      <td>0.1</td>\n",
       "      <td>setosa</td>\n",
       "    </tr>\n",
       "  </tbody>\n",
       "</table>\n",
       "<p>150 rows × 5 columns</p>\n",
       "</div>"
      ],
      "text/plain": [
       "     sepal_length  sepal_width  petal_length  petal_width    species\n",
       "131           7.9          3.8           6.4          2.0  virginica\n",
       "118           7.7          2.6           6.9          2.3  virginica\n",
       "122           7.7          2.8           6.7          2.0  virginica\n",
       "135           7.7          3.0           6.1          2.3  virginica\n",
       "117           7.7          3.8           6.7          2.2  virginica\n",
       "..            ...          ...           ...          ...        ...\n",
       "41            4.5          2.3           1.3          0.3     setosa\n",
       "8             NaN          2.9           1.4          0.2     setosa\n",
       "38            4.4          3.0           NaN          0.2     setosa\n",
       "42            4.4          3.2           NaN          0.2     setosa\n",
       "13            NaN          3.0           1.1          0.1     setosa\n",
       "\n",
       "[150 rows x 5 columns]"
      ]
     },
     "execution_count": 422,
     "metadata": {},
     "output_type": "execute_result"
    }
   ],
   "source": [
    "df"
   ]
  },
  {
   "cell_type": "code",
   "execution_count": 424,
   "id": "0fc7bba6",
   "metadata": {},
   "outputs": [
    {
     "data": {
      "text/plain": [
       "sepal_length    12\n",
       "sepal_width      0\n",
       "petal_length    12\n",
       "petal_width      0\n",
       "species          0\n",
       "dtype: int64"
      ]
     },
     "execution_count": 424,
     "metadata": {},
     "output_type": "execute_result"
    }
   ],
   "source": [
    "df.isnull().sum()"
   ]
  },
  {
   "cell_type": "code",
   "execution_count": 425,
   "id": "1ec8100a",
   "metadata": {},
   "outputs": [],
   "source": [
    "#df.dropna()"
   ]
  },
  {
   "cell_type": "code",
   "execution_count": 432,
   "id": "14a6c922",
   "metadata": {},
   "outputs": [],
   "source": [
    "df.sepal_length.fillna(value=round(df.sepal_length.mean(), 1), inplace=True)"
   ]
  },
  {
   "cell_type": "code",
   "execution_count": 433,
   "id": "8277cb58",
   "metadata": {},
   "outputs": [
    {
     "data": {
      "text/html": [
       "<div>\n",
       "<style scoped>\n",
       "    .dataframe tbody tr th:only-of-type {\n",
       "        vertical-align: middle;\n",
       "    }\n",
       "\n",
       "    .dataframe tbody tr th {\n",
       "        vertical-align: top;\n",
       "    }\n",
       "\n",
       "    .dataframe thead th {\n",
       "        text-align: right;\n",
       "    }\n",
       "</style>\n",
       "<table border=\"1\" class=\"dataframe\">\n",
       "  <thead>\n",
       "    <tr style=\"text-align: right;\">\n",
       "      <th></th>\n",
       "      <th>sepal_length</th>\n",
       "      <th>sepal_width</th>\n",
       "      <th>petal_length</th>\n",
       "      <th>petal_width</th>\n",
       "      <th>species</th>\n",
       "    </tr>\n",
       "  </thead>\n",
       "  <tbody>\n",
       "    <tr>\n",
       "      <th>131</th>\n",
       "      <td>7.9</td>\n",
       "      <td>3.8</td>\n",
       "      <td>6.4</td>\n",
       "      <td>2.0</td>\n",
       "      <td>virginica</td>\n",
       "    </tr>\n",
       "    <tr>\n",
       "      <th>118</th>\n",
       "      <td>7.7</td>\n",
       "      <td>2.6</td>\n",
       "      <td>6.9</td>\n",
       "      <td>2.3</td>\n",
       "      <td>virginica</td>\n",
       "    </tr>\n",
       "    <tr>\n",
       "      <th>122</th>\n",
       "      <td>7.7</td>\n",
       "      <td>2.8</td>\n",
       "      <td>6.7</td>\n",
       "      <td>2.0</td>\n",
       "      <td>virginica</td>\n",
       "    </tr>\n",
       "    <tr>\n",
       "      <th>135</th>\n",
       "      <td>7.7</td>\n",
       "      <td>3.0</td>\n",
       "      <td>6.1</td>\n",
       "      <td>2.3</td>\n",
       "      <td>virginica</td>\n",
       "    </tr>\n",
       "    <tr>\n",
       "      <th>117</th>\n",
       "      <td>7.7</td>\n",
       "      <td>3.8</td>\n",
       "      <td>6.7</td>\n",
       "      <td>2.2</td>\n",
       "      <td>virginica</td>\n",
       "    </tr>\n",
       "    <tr>\n",
       "      <th>...</th>\n",
       "      <td>...</td>\n",
       "      <td>...</td>\n",
       "      <td>...</td>\n",
       "      <td>...</td>\n",
       "      <td>...</td>\n",
       "    </tr>\n",
       "    <tr>\n",
       "      <th>41</th>\n",
       "      <td>4.5</td>\n",
       "      <td>2.3</td>\n",
       "      <td>1.3</td>\n",
       "      <td>0.3</td>\n",
       "      <td>setosa</td>\n",
       "    </tr>\n",
       "    <tr>\n",
       "      <th>8</th>\n",
       "      <td>5.9</td>\n",
       "      <td>2.9</td>\n",
       "      <td>1.4</td>\n",
       "      <td>0.2</td>\n",
       "      <td>setosa</td>\n",
       "    </tr>\n",
       "    <tr>\n",
       "      <th>38</th>\n",
       "      <td>4.4</td>\n",
       "      <td>3.0</td>\n",
       "      <td>NaN</td>\n",
       "      <td>0.2</td>\n",
       "      <td>setosa</td>\n",
       "    </tr>\n",
       "    <tr>\n",
       "      <th>42</th>\n",
       "      <td>4.4</td>\n",
       "      <td>3.2</td>\n",
       "      <td>NaN</td>\n",
       "      <td>0.2</td>\n",
       "      <td>setosa</td>\n",
       "    </tr>\n",
       "    <tr>\n",
       "      <th>13</th>\n",
       "      <td>5.9</td>\n",
       "      <td>3.0</td>\n",
       "      <td>1.1</td>\n",
       "      <td>0.1</td>\n",
       "      <td>setosa</td>\n",
       "    </tr>\n",
       "  </tbody>\n",
       "</table>\n",
       "<p>150 rows × 5 columns</p>\n",
       "</div>"
      ],
      "text/plain": [
       "     sepal_length  sepal_width  petal_length  petal_width    species\n",
       "131           7.9          3.8           6.4          2.0  virginica\n",
       "118           7.7          2.6           6.9          2.3  virginica\n",
       "122           7.7          2.8           6.7          2.0  virginica\n",
       "135           7.7          3.0           6.1          2.3  virginica\n",
       "117           7.7          3.8           6.7          2.2  virginica\n",
       "..            ...          ...           ...          ...        ...\n",
       "41            4.5          2.3           1.3          0.3     setosa\n",
       "8             5.9          2.9           1.4          0.2     setosa\n",
       "38            4.4          3.0           NaN          0.2     setosa\n",
       "42            4.4          3.2           NaN          0.2     setosa\n",
       "13            5.9          3.0           1.1          0.1     setosa\n",
       "\n",
       "[150 rows x 5 columns]"
      ]
     },
     "execution_count": 433,
     "metadata": {},
     "output_type": "execute_result"
    }
   ],
   "source": [
    "df"
   ]
  },
  {
   "cell_type": "code",
   "execution_count": 440,
   "id": "faa73c6a",
   "metadata": {},
   "outputs": [],
   "source": [
    "df.petal_length.fillna(value=round(df['petal_length'].median(),1), inplace=True)"
   ]
  },
  {
   "cell_type": "code",
   "execution_count": 441,
   "id": "e309517d",
   "metadata": {},
   "outputs": [
    {
     "data": {
      "text/html": [
       "<div>\n",
       "<style scoped>\n",
       "    .dataframe tbody tr th:only-of-type {\n",
       "        vertical-align: middle;\n",
       "    }\n",
       "\n",
       "    .dataframe tbody tr th {\n",
       "        vertical-align: top;\n",
       "    }\n",
       "\n",
       "    .dataframe thead th {\n",
       "        text-align: right;\n",
       "    }\n",
       "</style>\n",
       "<table border=\"1\" class=\"dataframe\">\n",
       "  <thead>\n",
       "    <tr style=\"text-align: right;\">\n",
       "      <th></th>\n",
       "      <th>sepal_length</th>\n",
       "      <th>sepal_width</th>\n",
       "      <th>petal_length</th>\n",
       "      <th>petal_width</th>\n",
       "      <th>species</th>\n",
       "    </tr>\n",
       "  </thead>\n",
       "  <tbody>\n",
       "    <tr>\n",
       "      <th>131</th>\n",
       "      <td>7.9</td>\n",
       "      <td>3.8</td>\n",
       "      <td>6.4</td>\n",
       "      <td>2.0</td>\n",
       "      <td>virginica</td>\n",
       "    </tr>\n",
       "    <tr>\n",
       "      <th>118</th>\n",
       "      <td>7.7</td>\n",
       "      <td>2.6</td>\n",
       "      <td>6.9</td>\n",
       "      <td>2.3</td>\n",
       "      <td>virginica</td>\n",
       "    </tr>\n",
       "    <tr>\n",
       "      <th>122</th>\n",
       "      <td>7.7</td>\n",
       "      <td>2.8</td>\n",
       "      <td>6.7</td>\n",
       "      <td>2.0</td>\n",
       "      <td>virginica</td>\n",
       "    </tr>\n",
       "    <tr>\n",
       "      <th>135</th>\n",
       "      <td>7.7</td>\n",
       "      <td>3.0</td>\n",
       "      <td>6.1</td>\n",
       "      <td>2.3</td>\n",
       "      <td>virginica</td>\n",
       "    </tr>\n",
       "    <tr>\n",
       "      <th>117</th>\n",
       "      <td>7.7</td>\n",
       "      <td>3.8</td>\n",
       "      <td>6.7</td>\n",
       "      <td>2.2</td>\n",
       "      <td>virginica</td>\n",
       "    </tr>\n",
       "    <tr>\n",
       "      <th>...</th>\n",
       "      <td>...</td>\n",
       "      <td>...</td>\n",
       "      <td>...</td>\n",
       "      <td>...</td>\n",
       "      <td>...</td>\n",
       "    </tr>\n",
       "    <tr>\n",
       "      <th>41</th>\n",
       "      <td>4.5</td>\n",
       "      <td>2.3</td>\n",
       "      <td>1.3</td>\n",
       "      <td>0.3</td>\n",
       "      <td>setosa</td>\n",
       "    </tr>\n",
       "    <tr>\n",
       "      <th>8</th>\n",
       "      <td>5.9</td>\n",
       "      <td>2.9</td>\n",
       "      <td>1.4</td>\n",
       "      <td>0.2</td>\n",
       "      <td>setosa</td>\n",
       "    </tr>\n",
       "    <tr>\n",
       "      <th>38</th>\n",
       "      <td>4.4</td>\n",
       "      <td>3.0</td>\n",
       "      <td>4.5</td>\n",
       "      <td>0.2</td>\n",
       "      <td>setosa</td>\n",
       "    </tr>\n",
       "    <tr>\n",
       "      <th>42</th>\n",
       "      <td>4.4</td>\n",
       "      <td>3.2</td>\n",
       "      <td>4.5</td>\n",
       "      <td>0.2</td>\n",
       "      <td>setosa</td>\n",
       "    </tr>\n",
       "    <tr>\n",
       "      <th>13</th>\n",
       "      <td>5.9</td>\n",
       "      <td>3.0</td>\n",
       "      <td>1.1</td>\n",
       "      <td>0.1</td>\n",
       "      <td>setosa</td>\n",
       "    </tr>\n",
       "  </tbody>\n",
       "</table>\n",
       "<p>150 rows × 5 columns</p>\n",
       "</div>"
      ],
      "text/plain": [
       "     sepal_length  sepal_width  petal_length  petal_width    species\n",
       "131           7.9          3.8           6.4          2.0  virginica\n",
       "118           7.7          2.6           6.9          2.3  virginica\n",
       "122           7.7          2.8           6.7          2.0  virginica\n",
       "135           7.7          3.0           6.1          2.3  virginica\n",
       "117           7.7          3.8           6.7          2.2  virginica\n",
       "..            ...          ...           ...          ...        ...\n",
       "41            4.5          2.3           1.3          0.3     setosa\n",
       "8             5.9          2.9           1.4          0.2     setosa\n",
       "38            4.4          3.0           4.5          0.2     setosa\n",
       "42            4.4          3.2           4.5          0.2     setosa\n",
       "13            5.9          3.0           1.1          0.1     setosa\n",
       "\n",
       "[150 rows x 5 columns]"
      ]
     },
     "execution_count": 441,
     "metadata": {},
     "output_type": "execute_result"
    }
   ],
   "source": [
    "df"
   ]
  },
  {
   "cell_type": "code",
   "execution_count": 444,
   "id": "736f5a66",
   "metadata": {},
   "outputs": [
    {
     "data": {
      "text/plain": [
       "131    6.4\n",
       "118    6.9\n",
       "122    6.7\n",
       "135    6.1\n",
       "117    6.7\n",
       "105    6.6\n",
       "130    6.1\n",
       "107    6.3\n",
       "129    5.8\n",
       "125    6.0\n",
       "Name: petal_length, dtype: float64"
      ]
     },
     "execution_count": 444,
     "metadata": {},
     "output_type": "execute_result"
    }
   ],
   "source": [
    "df.petal_length[:10]"
   ]
  },
  {
   "cell_type": "code",
   "execution_count": 446,
   "id": "b2949fb2",
   "metadata": {},
   "outputs": [
    {
     "data": {
      "text/plain": [
       "sepal_length    0\n",
       "sepal_width     0\n",
       "petal_length    0\n",
       "petal_width     0\n",
       "species         0\n",
       "dtype: int64"
      ]
     },
     "execution_count": 446,
     "metadata": {},
     "output_type": "execute_result"
    }
   ],
   "source": [
    "df.isnull().sum()"
   ]
  },
  {
   "cell_type": "code",
   "execution_count": 449,
   "id": "1f87f1a4",
   "metadata": {},
   "outputs": [],
   "source": [
    "new_df = pd.DataFrame(np.random.randint(0,100,size = (10,4)))"
   ]
  },
  {
   "cell_type": "code",
   "execution_count": 450,
   "id": "e777eb60",
   "metadata": {},
   "outputs": [
    {
     "data": {
      "text/html": [
       "<div>\n",
       "<style scoped>\n",
       "    .dataframe tbody tr th:only-of-type {\n",
       "        vertical-align: middle;\n",
       "    }\n",
       "\n",
       "    .dataframe tbody tr th {\n",
       "        vertical-align: top;\n",
       "    }\n",
       "\n",
       "    .dataframe thead th {\n",
       "        text-align: right;\n",
       "    }\n",
       "</style>\n",
       "<table border=\"1\" class=\"dataframe\">\n",
       "  <thead>\n",
       "    <tr style=\"text-align: right;\">\n",
       "      <th></th>\n",
       "      <th>0</th>\n",
       "      <th>1</th>\n",
       "      <th>2</th>\n",
       "      <th>3</th>\n",
       "    </tr>\n",
       "  </thead>\n",
       "  <tbody>\n",
       "    <tr>\n",
       "      <th>0</th>\n",
       "      <td>63</td>\n",
       "      <td>37</td>\n",
       "      <td>60</td>\n",
       "      <td>46</td>\n",
       "    </tr>\n",
       "    <tr>\n",
       "      <th>1</th>\n",
       "      <td>93</td>\n",
       "      <td>36</td>\n",
       "      <td>31</td>\n",
       "      <td>78</td>\n",
       "    </tr>\n",
       "    <tr>\n",
       "      <th>2</th>\n",
       "      <td>15</td>\n",
       "      <td>42</td>\n",
       "      <td>95</td>\n",
       "      <td>45</td>\n",
       "    </tr>\n",
       "    <tr>\n",
       "      <th>3</th>\n",
       "      <td>51</td>\n",
       "      <td>88</td>\n",
       "      <td>40</td>\n",
       "      <td>54</td>\n",
       "    </tr>\n",
       "    <tr>\n",
       "      <th>4</th>\n",
       "      <td>91</td>\n",
       "      <td>82</td>\n",
       "      <td>48</td>\n",
       "      <td>53</td>\n",
       "    </tr>\n",
       "    <tr>\n",
       "      <th>5</th>\n",
       "      <td>40</td>\n",
       "      <td>16</td>\n",
       "      <td>31</td>\n",
       "      <td>68</td>\n",
       "    </tr>\n",
       "    <tr>\n",
       "      <th>6</th>\n",
       "      <td>55</td>\n",
       "      <td>0</td>\n",
       "      <td>39</td>\n",
       "      <td>47</td>\n",
       "    </tr>\n",
       "    <tr>\n",
       "      <th>7</th>\n",
       "      <td>82</td>\n",
       "      <td>22</td>\n",
       "      <td>53</td>\n",
       "      <td>58</td>\n",
       "    </tr>\n",
       "    <tr>\n",
       "      <th>8</th>\n",
       "      <td>56</td>\n",
       "      <td>74</td>\n",
       "      <td>3</td>\n",
       "      <td>38</td>\n",
       "    </tr>\n",
       "    <tr>\n",
       "      <th>9</th>\n",
       "      <td>5</td>\n",
       "      <td>70</td>\n",
       "      <td>61</td>\n",
       "      <td>91</td>\n",
       "    </tr>\n",
       "  </tbody>\n",
       "</table>\n",
       "</div>"
      ],
      "text/plain": [
       "    0   1   2   3\n",
       "0  63  37  60  46\n",
       "1  93  36  31  78\n",
       "2  15  42  95  45\n",
       "3  51  88  40  54\n",
       "4  91  82  48  53\n",
       "5  40  16  31  68\n",
       "6  55   0  39  47\n",
       "7  82  22  53  58\n",
       "8  56  74   3  38\n",
       "9   5  70  61  91"
      ]
     },
     "execution_count": 450,
     "metadata": {},
     "output_type": "execute_result"
    }
   ],
   "source": [
    "new_df"
   ]
  },
  {
   "cell_type": "code",
   "execution_count": 453,
   "id": "b17972b2",
   "metadata": {},
   "outputs": [],
   "source": [
    "new_df['species'] = 'new_species'"
   ]
  },
  {
   "cell_type": "code",
   "execution_count": 454,
   "id": "60c6ab3d",
   "metadata": {},
   "outputs": [
    {
     "data": {
      "text/html": [
       "<div>\n",
       "<style scoped>\n",
       "    .dataframe tbody tr th:only-of-type {\n",
       "        vertical-align: middle;\n",
       "    }\n",
       "\n",
       "    .dataframe tbody tr th {\n",
       "        vertical-align: top;\n",
       "    }\n",
       "\n",
       "    .dataframe thead th {\n",
       "        text-align: right;\n",
       "    }\n",
       "</style>\n",
       "<table border=\"1\" class=\"dataframe\">\n",
       "  <thead>\n",
       "    <tr style=\"text-align: right;\">\n",
       "      <th></th>\n",
       "      <th>0</th>\n",
       "      <th>1</th>\n",
       "      <th>2</th>\n",
       "      <th>3</th>\n",
       "      <th>species</th>\n",
       "    </tr>\n",
       "  </thead>\n",
       "  <tbody>\n",
       "    <tr>\n",
       "      <th>0</th>\n",
       "      <td>63</td>\n",
       "      <td>37</td>\n",
       "      <td>60</td>\n",
       "      <td>46</td>\n",
       "      <td>new_species</td>\n",
       "    </tr>\n",
       "    <tr>\n",
       "      <th>1</th>\n",
       "      <td>93</td>\n",
       "      <td>36</td>\n",
       "      <td>31</td>\n",
       "      <td>78</td>\n",
       "      <td>new_species</td>\n",
       "    </tr>\n",
       "    <tr>\n",
       "      <th>2</th>\n",
       "      <td>15</td>\n",
       "      <td>42</td>\n",
       "      <td>95</td>\n",
       "      <td>45</td>\n",
       "      <td>new_species</td>\n",
       "    </tr>\n",
       "    <tr>\n",
       "      <th>3</th>\n",
       "      <td>51</td>\n",
       "      <td>88</td>\n",
       "      <td>40</td>\n",
       "      <td>54</td>\n",
       "      <td>new_species</td>\n",
       "    </tr>\n",
       "    <tr>\n",
       "      <th>4</th>\n",
       "      <td>91</td>\n",
       "      <td>82</td>\n",
       "      <td>48</td>\n",
       "      <td>53</td>\n",
       "      <td>new_species</td>\n",
       "    </tr>\n",
       "    <tr>\n",
       "      <th>5</th>\n",
       "      <td>40</td>\n",
       "      <td>16</td>\n",
       "      <td>31</td>\n",
       "      <td>68</td>\n",
       "      <td>new_species</td>\n",
       "    </tr>\n",
       "    <tr>\n",
       "      <th>6</th>\n",
       "      <td>55</td>\n",
       "      <td>0</td>\n",
       "      <td>39</td>\n",
       "      <td>47</td>\n",
       "      <td>new_species</td>\n",
       "    </tr>\n",
       "    <tr>\n",
       "      <th>7</th>\n",
       "      <td>82</td>\n",
       "      <td>22</td>\n",
       "      <td>53</td>\n",
       "      <td>58</td>\n",
       "      <td>new_species</td>\n",
       "    </tr>\n",
       "    <tr>\n",
       "      <th>8</th>\n",
       "      <td>56</td>\n",
       "      <td>74</td>\n",
       "      <td>3</td>\n",
       "      <td>38</td>\n",
       "      <td>new_species</td>\n",
       "    </tr>\n",
       "    <tr>\n",
       "      <th>9</th>\n",
       "      <td>5</td>\n",
       "      <td>70</td>\n",
       "      <td>61</td>\n",
       "      <td>91</td>\n",
       "      <td>new_species</td>\n",
       "    </tr>\n",
       "  </tbody>\n",
       "</table>\n",
       "</div>"
      ],
      "text/plain": [
       "    0   1   2   3      species\n",
       "0  63  37  60  46  new_species\n",
       "1  93  36  31  78  new_species\n",
       "2  15  42  95  45  new_species\n",
       "3  51  88  40  54  new_species\n",
       "4  91  82  48  53  new_species\n",
       "5  40  16  31  68  new_species\n",
       "6  55   0  39  47  new_species\n",
       "7  82  22  53  58  new_species\n",
       "8  56  74   3  38  new_species\n",
       "9   5  70  61  91  new_species"
      ]
     },
     "execution_count": 454,
     "metadata": {},
     "output_type": "execute_result"
    }
   ],
   "source": [
    "new_df"
   ]
  },
  {
   "cell_type": "code",
   "execution_count": 455,
   "id": "aaa0b1b2",
   "metadata": {},
   "outputs": [
    {
     "data": {
      "text/plain": [
       "Index(['sepal_length', 'sepal_width', 'petal_length', 'petal_width',\n",
       "       'species'],\n",
       "      dtype='object')"
      ]
     },
     "execution_count": 455,
     "metadata": {},
     "output_type": "execute_result"
    }
   ],
   "source": [
    "df.columns"
   ]
  },
  {
   "cell_type": "code",
   "execution_count": 457,
   "id": "b9eb4771",
   "metadata": {},
   "outputs": [],
   "source": [
    "new_df.columns = df.columns"
   ]
  },
  {
   "cell_type": "code",
   "execution_count": 458,
   "id": "7a14c4d1",
   "metadata": {},
   "outputs": [
    {
     "data": {
      "text/html": [
       "<div>\n",
       "<style scoped>\n",
       "    .dataframe tbody tr th:only-of-type {\n",
       "        vertical-align: middle;\n",
       "    }\n",
       "\n",
       "    .dataframe tbody tr th {\n",
       "        vertical-align: top;\n",
       "    }\n",
       "\n",
       "    .dataframe thead th {\n",
       "        text-align: right;\n",
       "    }\n",
       "</style>\n",
       "<table border=\"1\" class=\"dataframe\">\n",
       "  <thead>\n",
       "    <tr style=\"text-align: right;\">\n",
       "      <th></th>\n",
       "      <th>sepal_length</th>\n",
       "      <th>sepal_width</th>\n",
       "      <th>petal_length</th>\n",
       "      <th>petal_width</th>\n",
       "      <th>species</th>\n",
       "    </tr>\n",
       "  </thead>\n",
       "  <tbody>\n",
       "    <tr>\n",
       "      <th>0</th>\n",
       "      <td>63</td>\n",
       "      <td>37</td>\n",
       "      <td>60</td>\n",
       "      <td>46</td>\n",
       "      <td>new_species</td>\n",
       "    </tr>\n",
       "    <tr>\n",
       "      <th>1</th>\n",
       "      <td>93</td>\n",
       "      <td>36</td>\n",
       "      <td>31</td>\n",
       "      <td>78</td>\n",
       "      <td>new_species</td>\n",
       "    </tr>\n",
       "    <tr>\n",
       "      <th>2</th>\n",
       "      <td>15</td>\n",
       "      <td>42</td>\n",
       "      <td>95</td>\n",
       "      <td>45</td>\n",
       "      <td>new_species</td>\n",
       "    </tr>\n",
       "    <tr>\n",
       "      <th>3</th>\n",
       "      <td>51</td>\n",
       "      <td>88</td>\n",
       "      <td>40</td>\n",
       "      <td>54</td>\n",
       "      <td>new_species</td>\n",
       "    </tr>\n",
       "    <tr>\n",
       "      <th>4</th>\n",
       "      <td>91</td>\n",
       "      <td>82</td>\n",
       "      <td>48</td>\n",
       "      <td>53</td>\n",
       "      <td>new_species</td>\n",
       "    </tr>\n",
       "    <tr>\n",
       "      <th>5</th>\n",
       "      <td>40</td>\n",
       "      <td>16</td>\n",
       "      <td>31</td>\n",
       "      <td>68</td>\n",
       "      <td>new_species</td>\n",
       "    </tr>\n",
       "    <tr>\n",
       "      <th>6</th>\n",
       "      <td>55</td>\n",
       "      <td>0</td>\n",
       "      <td>39</td>\n",
       "      <td>47</td>\n",
       "      <td>new_species</td>\n",
       "    </tr>\n",
       "    <tr>\n",
       "      <th>7</th>\n",
       "      <td>82</td>\n",
       "      <td>22</td>\n",
       "      <td>53</td>\n",
       "      <td>58</td>\n",
       "      <td>new_species</td>\n",
       "    </tr>\n",
       "    <tr>\n",
       "      <th>8</th>\n",
       "      <td>56</td>\n",
       "      <td>74</td>\n",
       "      <td>3</td>\n",
       "      <td>38</td>\n",
       "      <td>new_species</td>\n",
       "    </tr>\n",
       "    <tr>\n",
       "      <th>9</th>\n",
       "      <td>5</td>\n",
       "      <td>70</td>\n",
       "      <td>61</td>\n",
       "      <td>91</td>\n",
       "      <td>new_species</td>\n",
       "    </tr>\n",
       "  </tbody>\n",
       "</table>\n",
       "</div>"
      ],
      "text/plain": [
       "   sepal_length  sepal_width  petal_length  petal_width      species\n",
       "0            63           37            60           46  new_species\n",
       "1            93           36            31           78  new_species\n",
       "2            15           42            95           45  new_species\n",
       "3            51           88            40           54  new_species\n",
       "4            91           82            48           53  new_species\n",
       "5            40           16            31           68  new_species\n",
       "6            55            0            39           47  new_species\n",
       "7            82           22            53           58  new_species\n",
       "8            56           74             3           38  new_species\n",
       "9             5           70            61           91  new_species"
      ]
     },
     "execution_count": 458,
     "metadata": {},
     "output_type": "execute_result"
    }
   ],
   "source": [
    "new_df"
   ]
  },
  {
   "cell_type": "code",
   "execution_count": 459,
   "id": "8abf3322",
   "metadata": {},
   "outputs": [
    {
     "data": {
      "text/plain": [
       "(150, 5)"
      ]
     },
     "execution_count": 459,
     "metadata": {},
     "output_type": "execute_result"
    }
   ],
   "source": [
    "df.shape"
   ]
  },
  {
   "cell_type": "code",
   "execution_count": 460,
   "id": "616b58b2",
   "metadata": {},
   "outputs": [
    {
     "data": {
      "text/plain": [
       "(10, 5)"
      ]
     },
     "execution_count": 460,
     "metadata": {},
     "output_type": "execute_result"
    }
   ],
   "source": [
    "new_df.shape"
   ]
  },
  {
   "cell_type": "code",
   "execution_count": 463,
   "id": "09f52782",
   "metadata": {},
   "outputs": [
    {
     "data": {
      "text/html": [
       "<div>\n",
       "<style scoped>\n",
       "    .dataframe tbody tr th:only-of-type {\n",
       "        vertical-align: middle;\n",
       "    }\n",
       "\n",
       "    .dataframe tbody tr th {\n",
       "        vertical-align: top;\n",
       "    }\n",
       "\n",
       "    .dataframe thead th {\n",
       "        text-align: right;\n",
       "    }\n",
       "</style>\n",
       "<table border=\"1\" class=\"dataframe\">\n",
       "  <thead>\n",
       "    <tr style=\"text-align: right;\">\n",
       "      <th></th>\n",
       "      <th>sepal_length</th>\n",
       "      <th>sepal_width</th>\n",
       "      <th>petal_length</th>\n",
       "      <th>petal_width</th>\n",
       "      <th>species</th>\n",
       "      <th>sepal_length</th>\n",
       "      <th>sepal_width</th>\n",
       "      <th>petal_length</th>\n",
       "      <th>petal_width</th>\n",
       "      <th>species</th>\n",
       "    </tr>\n",
       "  </thead>\n",
       "  <tbody>\n",
       "    <tr>\n",
       "      <th>0</th>\n",
       "      <td>5.1</td>\n",
       "      <td>3.5</td>\n",
       "      <td>1.4</td>\n",
       "      <td>0.2</td>\n",
       "      <td>setosa</td>\n",
       "      <td>63.0</td>\n",
       "      <td>37.0</td>\n",
       "      <td>60.0</td>\n",
       "      <td>46.0</td>\n",
       "      <td>new_species</td>\n",
       "    </tr>\n",
       "    <tr>\n",
       "      <th>1</th>\n",
       "      <td>4.9</td>\n",
       "      <td>3.0</td>\n",
       "      <td>1.4</td>\n",
       "      <td>0.2</td>\n",
       "      <td>setosa</td>\n",
       "      <td>93.0</td>\n",
       "      <td>36.0</td>\n",
       "      <td>31.0</td>\n",
       "      <td>78.0</td>\n",
       "      <td>new_species</td>\n",
       "    </tr>\n",
       "    <tr>\n",
       "      <th>2</th>\n",
       "      <td>5.9</td>\n",
       "      <td>3.2</td>\n",
       "      <td>1.3</td>\n",
       "      <td>0.2</td>\n",
       "      <td>setosa</td>\n",
       "      <td>15.0</td>\n",
       "      <td>42.0</td>\n",
       "      <td>95.0</td>\n",
       "      <td>45.0</td>\n",
       "      <td>new_species</td>\n",
       "    </tr>\n",
       "    <tr>\n",
       "      <th>3</th>\n",
       "      <td>5.9</td>\n",
       "      <td>3.1</td>\n",
       "      <td>1.5</td>\n",
       "      <td>0.2</td>\n",
       "      <td>setosa</td>\n",
       "      <td>51.0</td>\n",
       "      <td>88.0</td>\n",
       "      <td>40.0</td>\n",
       "      <td>54.0</td>\n",
       "      <td>new_species</td>\n",
       "    </tr>\n",
       "    <tr>\n",
       "      <th>4</th>\n",
       "      <td>5.0</td>\n",
       "      <td>3.6</td>\n",
       "      <td>4.5</td>\n",
       "      <td>0.2</td>\n",
       "      <td>setosa</td>\n",
       "      <td>91.0</td>\n",
       "      <td>82.0</td>\n",
       "      <td>48.0</td>\n",
       "      <td>53.0</td>\n",
       "      <td>new_species</td>\n",
       "    </tr>\n",
       "    <tr>\n",
       "      <th>...</th>\n",
       "      <td>...</td>\n",
       "      <td>...</td>\n",
       "      <td>...</td>\n",
       "      <td>...</td>\n",
       "      <td>...</td>\n",
       "      <td>...</td>\n",
       "      <td>...</td>\n",
       "      <td>...</td>\n",
       "      <td>...</td>\n",
       "      <td>...</td>\n",
       "    </tr>\n",
       "    <tr>\n",
       "      <th>145</th>\n",
       "      <td>6.7</td>\n",
       "      <td>3.0</td>\n",
       "      <td>5.2</td>\n",
       "      <td>2.3</td>\n",
       "      <td>virginica</td>\n",
       "      <td>NaN</td>\n",
       "      <td>NaN</td>\n",
       "      <td>NaN</td>\n",
       "      <td>NaN</td>\n",
       "      <td>NaN</td>\n",
       "    </tr>\n",
       "    <tr>\n",
       "      <th>146</th>\n",
       "      <td>6.3</td>\n",
       "      <td>2.5</td>\n",
       "      <td>5.0</td>\n",
       "      <td>1.9</td>\n",
       "      <td>virginica</td>\n",
       "      <td>NaN</td>\n",
       "      <td>NaN</td>\n",
       "      <td>NaN</td>\n",
       "      <td>NaN</td>\n",
       "      <td>NaN</td>\n",
       "    </tr>\n",
       "    <tr>\n",
       "      <th>147</th>\n",
       "      <td>6.5</td>\n",
       "      <td>3.0</td>\n",
       "      <td>5.2</td>\n",
       "      <td>2.0</td>\n",
       "      <td>virginica</td>\n",
       "      <td>NaN</td>\n",
       "      <td>NaN</td>\n",
       "      <td>NaN</td>\n",
       "      <td>NaN</td>\n",
       "      <td>NaN</td>\n",
       "    </tr>\n",
       "    <tr>\n",
       "      <th>148</th>\n",
       "      <td>6.2</td>\n",
       "      <td>3.4</td>\n",
       "      <td>5.4</td>\n",
       "      <td>2.3</td>\n",
       "      <td>virginica</td>\n",
       "      <td>NaN</td>\n",
       "      <td>NaN</td>\n",
       "      <td>NaN</td>\n",
       "      <td>NaN</td>\n",
       "      <td>NaN</td>\n",
       "    </tr>\n",
       "    <tr>\n",
       "      <th>149</th>\n",
       "      <td>5.9</td>\n",
       "      <td>3.0</td>\n",
       "      <td>5.1</td>\n",
       "      <td>1.8</td>\n",
       "      <td>virginica</td>\n",
       "      <td>NaN</td>\n",
       "      <td>NaN</td>\n",
       "      <td>NaN</td>\n",
       "      <td>NaN</td>\n",
       "      <td>NaN</td>\n",
       "    </tr>\n",
       "  </tbody>\n",
       "</table>\n",
       "<p>150 rows × 10 columns</p>\n",
       "</div>"
      ],
      "text/plain": [
       "     sepal_length  sepal_width  petal_length  petal_width    species  \\\n",
       "0             5.1          3.5           1.4          0.2     setosa   \n",
       "1             4.9          3.0           1.4          0.2     setosa   \n",
       "2             5.9          3.2           1.3          0.2     setosa   \n",
       "3             5.9          3.1           1.5          0.2     setosa   \n",
       "4             5.0          3.6           4.5          0.2     setosa   \n",
       "..            ...          ...           ...          ...        ...   \n",
       "145           6.7          3.0           5.2          2.3  virginica   \n",
       "146           6.3          2.5           5.0          1.9  virginica   \n",
       "147           6.5          3.0           5.2          2.0  virginica   \n",
       "148           6.2          3.4           5.4          2.3  virginica   \n",
       "149           5.9          3.0           5.1          1.8  virginica   \n",
       "\n",
       "     sepal_length  sepal_width  petal_length  petal_width      species  \n",
       "0            63.0         37.0          60.0         46.0  new_species  \n",
       "1            93.0         36.0          31.0         78.0  new_species  \n",
       "2            15.0         42.0          95.0         45.0  new_species  \n",
       "3            51.0         88.0          40.0         54.0  new_species  \n",
       "4            91.0         82.0          48.0         53.0  new_species  \n",
       "..            ...          ...           ...          ...          ...  \n",
       "145           NaN          NaN           NaN          NaN          NaN  \n",
       "146           NaN          NaN           NaN          NaN          NaN  \n",
       "147           NaN          NaN           NaN          NaN          NaN  \n",
       "148           NaN          NaN           NaN          NaN          NaN  \n",
       "149           NaN          NaN           NaN          NaN          NaN  \n",
       "\n",
       "[150 rows x 10 columns]"
      ]
     },
     "execution_count": 463,
     "metadata": {},
     "output_type": "execute_result"
    }
   ],
   "source": [
    "pd.concat((df, new_df), axis=1)"
   ]
  },
  {
   "cell_type": "code",
   "execution_count": 465,
   "id": "10d2b713",
   "metadata": {},
   "outputs": [],
   "source": [
    "df1 = pd.DataFrame({'S_name':['Mohit', 'Jatin', 'Prateek', 'Mohit'], \n",
    "             'CGPA':[2,4,5,3]})"
   ]
  },
  {
   "cell_type": "code",
   "execution_count": 467,
   "id": "d55520a2",
   "metadata": {},
   "outputs": [],
   "source": [
    "df2 = pd.DataFrame({'T_name':['Mohit', 'Jatin', 'Prateek', 'Mohit'], \n",
    "             'CGPA':[3,6,8,9]})"
   ]
  },
  {
   "cell_type": "code",
   "execution_count": 468,
   "id": "64134675",
   "metadata": {},
   "outputs": [
    {
     "data": {
      "text/html": [
       "<div>\n",
       "<style scoped>\n",
       "    .dataframe tbody tr th:only-of-type {\n",
       "        vertical-align: middle;\n",
       "    }\n",
       "\n",
       "    .dataframe tbody tr th {\n",
       "        vertical-align: top;\n",
       "    }\n",
       "\n",
       "    .dataframe thead th {\n",
       "        text-align: right;\n",
       "    }\n",
       "</style>\n",
       "<table border=\"1\" class=\"dataframe\">\n",
       "  <thead>\n",
       "    <tr style=\"text-align: right;\">\n",
       "      <th></th>\n",
       "      <th>S_name</th>\n",
       "      <th>CGPA</th>\n",
       "    </tr>\n",
       "  </thead>\n",
       "  <tbody>\n",
       "    <tr>\n",
       "      <th>0</th>\n",
       "      <td>Mohit</td>\n",
       "      <td>2</td>\n",
       "    </tr>\n",
       "    <tr>\n",
       "      <th>1</th>\n",
       "      <td>Jatin</td>\n",
       "      <td>4</td>\n",
       "    </tr>\n",
       "    <tr>\n",
       "      <th>2</th>\n",
       "      <td>Prateek</td>\n",
       "      <td>5</td>\n",
       "    </tr>\n",
       "    <tr>\n",
       "      <th>3</th>\n",
       "      <td>Mohit</td>\n",
       "      <td>3</td>\n",
       "    </tr>\n",
       "  </tbody>\n",
       "</table>\n",
       "</div>"
      ],
      "text/plain": [
       "    S_name  CGPA\n",
       "0    Mohit     2\n",
       "1    Jatin     4\n",
       "2  Prateek     5\n",
       "3    Mohit     3"
      ]
     },
     "execution_count": 468,
     "metadata": {},
     "output_type": "execute_result"
    }
   ],
   "source": [
    "df1"
   ]
  },
  {
   "cell_type": "code",
   "execution_count": 469,
   "id": "e30aac7f",
   "metadata": {},
   "outputs": [
    {
     "data": {
      "text/html": [
       "<div>\n",
       "<style scoped>\n",
       "    .dataframe tbody tr th:only-of-type {\n",
       "        vertical-align: middle;\n",
       "    }\n",
       "\n",
       "    .dataframe tbody tr th {\n",
       "        vertical-align: top;\n",
       "    }\n",
       "\n",
       "    .dataframe thead th {\n",
       "        text-align: right;\n",
       "    }\n",
       "</style>\n",
       "<table border=\"1\" class=\"dataframe\">\n",
       "  <thead>\n",
       "    <tr style=\"text-align: right;\">\n",
       "      <th></th>\n",
       "      <th>T_name</th>\n",
       "      <th>CGPA</th>\n",
       "    </tr>\n",
       "  </thead>\n",
       "  <tbody>\n",
       "    <tr>\n",
       "      <th>0</th>\n",
       "      <td>Mohit</td>\n",
       "      <td>3</td>\n",
       "    </tr>\n",
       "    <tr>\n",
       "      <th>1</th>\n",
       "      <td>Jatin</td>\n",
       "      <td>6</td>\n",
       "    </tr>\n",
       "    <tr>\n",
       "      <th>2</th>\n",
       "      <td>Prateek</td>\n",
       "      <td>8</td>\n",
       "    </tr>\n",
       "    <tr>\n",
       "      <th>3</th>\n",
       "      <td>Mohit</td>\n",
       "      <td>9</td>\n",
       "    </tr>\n",
       "  </tbody>\n",
       "</table>\n",
       "</div>"
      ],
      "text/plain": [
       "    T_name  CGPA\n",
       "0    Mohit     3\n",
       "1    Jatin     6\n",
       "2  Prateek     8\n",
       "3    Mohit     9"
      ]
     },
     "execution_count": 469,
     "metadata": {},
     "output_type": "execute_result"
    }
   ],
   "source": [
    "\n",
    "df2"
   ]
  },
  {
   "cell_type": "code",
   "execution_count": 470,
   "id": "c7537faa",
   "metadata": {},
   "outputs": [
    {
     "data": {
      "text/html": [
       "<div>\n",
       "<style scoped>\n",
       "    .dataframe tbody tr th:only-of-type {\n",
       "        vertical-align: middle;\n",
       "    }\n",
       "\n",
       "    .dataframe tbody tr th {\n",
       "        vertical-align: top;\n",
       "    }\n",
       "\n",
       "    .dataframe thead th {\n",
       "        text-align: right;\n",
       "    }\n",
       "</style>\n",
       "<table border=\"1\" class=\"dataframe\">\n",
       "  <thead>\n",
       "    <tr style=\"text-align: right;\">\n",
       "      <th></th>\n",
       "      <th>S_name</th>\n",
       "      <th>CGPA</th>\n",
       "      <th>T_name</th>\n",
       "    </tr>\n",
       "  </thead>\n",
       "  <tbody>\n",
       "    <tr>\n",
       "      <th>0</th>\n",
       "      <td>Mohit</td>\n",
       "      <td>3</td>\n",
       "      <td>Mohit</td>\n",
       "    </tr>\n",
       "  </tbody>\n",
       "</table>\n",
       "</div>"
      ],
      "text/plain": [
       "  S_name  CGPA T_name\n",
       "0  Mohit     3  Mohit"
      ]
     },
     "execution_count": 470,
     "metadata": {},
     "output_type": "execute_result"
    }
   ],
   "source": [
    "df1.merge(df2)"
   ]
  },
  {
   "cell_type": "code",
   "execution_count": 473,
   "id": "70a3a7c7",
   "metadata": {},
   "outputs": [
    {
     "data": {
      "text/html": [
       "<div>\n",
       "<style scoped>\n",
       "    .dataframe tbody tr th:only-of-type {\n",
       "        vertical-align: middle;\n",
       "    }\n",
       "\n",
       "    .dataframe tbody tr th {\n",
       "        vertical-align: top;\n",
       "    }\n",
       "\n",
       "    .dataframe thead th {\n",
       "        text-align: right;\n",
       "    }\n",
       "</style>\n",
       "<table border=\"1\" class=\"dataframe\">\n",
       "  <thead>\n",
       "    <tr style=\"text-align: right;\">\n",
       "      <th></th>\n",
       "      <th>S_name</th>\n",
       "      <th>CGPA</th>\n",
       "      <th>T_name</th>\n",
       "    </tr>\n",
       "  </thead>\n",
       "  <tbody>\n",
       "    <tr>\n",
       "      <th>0</th>\n",
       "      <td>Mohit</td>\n",
       "      <td>2</td>\n",
       "      <td>NaN</td>\n",
       "    </tr>\n",
       "    <tr>\n",
       "      <th>1</th>\n",
       "      <td>Jatin</td>\n",
       "      <td>4</td>\n",
       "      <td>NaN</td>\n",
       "    </tr>\n",
       "    <tr>\n",
       "      <th>2</th>\n",
       "      <td>Prateek</td>\n",
       "      <td>5</td>\n",
       "      <td>NaN</td>\n",
       "    </tr>\n",
       "    <tr>\n",
       "      <th>3</th>\n",
       "      <td>Mohit</td>\n",
       "      <td>3</td>\n",
       "      <td>Mohit</td>\n",
       "    </tr>\n",
       "  </tbody>\n",
       "</table>\n",
       "</div>"
      ],
      "text/plain": [
       "    S_name  CGPA T_name\n",
       "0    Mohit     2    NaN\n",
       "1    Jatin     4    NaN\n",
       "2  Prateek     5    NaN\n",
       "3    Mohit     3  Mohit"
      ]
     },
     "execution_count": 473,
     "metadata": {},
     "output_type": "execute_result"
    }
   ],
   "source": [
    "df1.merge(df2,how='left')  #{'left', 'right', 'outer', 'inner', 'cross'}"
   ]
  },
  {
   "cell_type": "code",
   "execution_count": 474,
   "id": "d0b0d035",
   "metadata": {},
   "outputs": [
    {
     "data": {
      "text/html": [
       "<div>\n",
       "<style scoped>\n",
       "    .dataframe tbody tr th:only-of-type {\n",
       "        vertical-align: middle;\n",
       "    }\n",
       "\n",
       "    .dataframe tbody tr th {\n",
       "        vertical-align: top;\n",
       "    }\n",
       "\n",
       "    .dataframe thead th {\n",
       "        text-align: right;\n",
       "    }\n",
       "</style>\n",
       "<table border=\"1\" class=\"dataframe\">\n",
       "  <thead>\n",
       "    <tr style=\"text-align: right;\">\n",
       "      <th></th>\n",
       "      <th>S_name</th>\n",
       "      <th>CGPA</th>\n",
       "      <th>T_name</th>\n",
       "    </tr>\n",
       "  </thead>\n",
       "  <tbody>\n",
       "    <tr>\n",
       "      <th>0</th>\n",
       "      <td>Mohit</td>\n",
       "      <td>3</td>\n",
       "      <td>Mohit</td>\n",
       "    </tr>\n",
       "    <tr>\n",
       "      <th>1</th>\n",
       "      <td>NaN</td>\n",
       "      <td>6</td>\n",
       "      <td>Jatin</td>\n",
       "    </tr>\n",
       "    <tr>\n",
       "      <th>2</th>\n",
       "      <td>NaN</td>\n",
       "      <td>8</td>\n",
       "      <td>Prateek</td>\n",
       "    </tr>\n",
       "    <tr>\n",
       "      <th>3</th>\n",
       "      <td>NaN</td>\n",
       "      <td>9</td>\n",
       "      <td>Mohit</td>\n",
       "    </tr>\n",
       "  </tbody>\n",
       "</table>\n",
       "</div>"
      ],
      "text/plain": [
       "  S_name  CGPA   T_name\n",
       "0  Mohit     3    Mohit\n",
       "1    NaN     6    Jatin\n",
       "2    NaN     8  Prateek\n",
       "3    NaN     9    Mohit"
      ]
     },
     "execution_count": 474,
     "metadata": {},
     "output_type": "execute_result"
    }
   ],
   "source": [
    "df1.merge(df2, how='right')"
   ]
  },
  {
   "cell_type": "code",
   "execution_count": 475,
   "id": "57adae2a",
   "metadata": {},
   "outputs": [
    {
     "data": {
      "text/html": [
       "<div>\n",
       "<style scoped>\n",
       "    .dataframe tbody tr th:only-of-type {\n",
       "        vertical-align: middle;\n",
       "    }\n",
       "\n",
       "    .dataframe tbody tr th {\n",
       "        vertical-align: top;\n",
       "    }\n",
       "\n",
       "    .dataframe thead th {\n",
       "        text-align: right;\n",
       "    }\n",
       "</style>\n",
       "<table border=\"1\" class=\"dataframe\">\n",
       "  <thead>\n",
       "    <tr style=\"text-align: right;\">\n",
       "      <th></th>\n",
       "      <th>S_name</th>\n",
       "      <th>CGPA</th>\n",
       "      <th>T_name</th>\n",
       "    </tr>\n",
       "  </thead>\n",
       "  <tbody>\n",
       "    <tr>\n",
       "      <th>0</th>\n",
       "      <td>Mohit</td>\n",
       "      <td>2</td>\n",
       "      <td>NaN</td>\n",
       "    </tr>\n",
       "    <tr>\n",
       "      <th>1</th>\n",
       "      <td>Jatin</td>\n",
       "      <td>4</td>\n",
       "      <td>NaN</td>\n",
       "    </tr>\n",
       "    <tr>\n",
       "      <th>2</th>\n",
       "      <td>Prateek</td>\n",
       "      <td>5</td>\n",
       "      <td>NaN</td>\n",
       "    </tr>\n",
       "    <tr>\n",
       "      <th>3</th>\n",
       "      <td>Mohit</td>\n",
       "      <td>3</td>\n",
       "      <td>Mohit</td>\n",
       "    </tr>\n",
       "    <tr>\n",
       "      <th>4</th>\n",
       "      <td>NaN</td>\n",
       "      <td>6</td>\n",
       "      <td>Jatin</td>\n",
       "    </tr>\n",
       "    <tr>\n",
       "      <th>5</th>\n",
       "      <td>NaN</td>\n",
       "      <td>8</td>\n",
       "      <td>Prateek</td>\n",
       "    </tr>\n",
       "    <tr>\n",
       "      <th>6</th>\n",
       "      <td>NaN</td>\n",
       "      <td>9</td>\n",
       "      <td>Mohit</td>\n",
       "    </tr>\n",
       "  </tbody>\n",
       "</table>\n",
       "</div>"
      ],
      "text/plain": [
       "    S_name  CGPA   T_name\n",
       "0    Mohit     2      NaN\n",
       "1    Jatin     4      NaN\n",
       "2  Prateek     5      NaN\n",
       "3    Mohit     3    Mohit\n",
       "4      NaN     6    Jatin\n",
       "5      NaN     8  Prateek\n",
       "6      NaN     9    Mohit"
      ]
     },
     "execution_count": 475,
     "metadata": {},
     "output_type": "execute_result"
    }
   ],
   "source": [
    "df1.merge(df2, how='outer')"
   ]
  },
  {
   "cell_type": "code",
   "execution_count": 476,
   "id": "a1ea00de",
   "metadata": {},
   "outputs": [
    {
     "data": {
      "text/html": [
       "<div>\n",
       "<style scoped>\n",
       "    .dataframe tbody tr th:only-of-type {\n",
       "        vertical-align: middle;\n",
       "    }\n",
       "\n",
       "    .dataframe tbody tr th {\n",
       "        vertical-align: top;\n",
       "    }\n",
       "\n",
       "    .dataframe thead th {\n",
       "        text-align: right;\n",
       "    }\n",
       "</style>\n",
       "<table border=\"1\" class=\"dataframe\">\n",
       "  <thead>\n",
       "    <tr style=\"text-align: right;\">\n",
       "      <th></th>\n",
       "      <th>S_name</th>\n",
       "      <th>CGPA_x</th>\n",
       "      <th>T_name</th>\n",
       "      <th>CGPA_y</th>\n",
       "    </tr>\n",
       "  </thead>\n",
       "  <tbody>\n",
       "    <tr>\n",
       "      <th>0</th>\n",
       "      <td>Mohit</td>\n",
       "      <td>2</td>\n",
       "      <td>Mohit</td>\n",
       "      <td>3</td>\n",
       "    </tr>\n",
       "    <tr>\n",
       "      <th>1</th>\n",
       "      <td>Mohit</td>\n",
       "      <td>2</td>\n",
       "      <td>Jatin</td>\n",
       "      <td>6</td>\n",
       "    </tr>\n",
       "    <tr>\n",
       "      <th>2</th>\n",
       "      <td>Mohit</td>\n",
       "      <td>2</td>\n",
       "      <td>Prateek</td>\n",
       "      <td>8</td>\n",
       "    </tr>\n",
       "    <tr>\n",
       "      <th>3</th>\n",
       "      <td>Mohit</td>\n",
       "      <td>2</td>\n",
       "      <td>Mohit</td>\n",
       "      <td>9</td>\n",
       "    </tr>\n",
       "    <tr>\n",
       "      <th>4</th>\n",
       "      <td>Jatin</td>\n",
       "      <td>4</td>\n",
       "      <td>Mohit</td>\n",
       "      <td>3</td>\n",
       "    </tr>\n",
       "    <tr>\n",
       "      <th>5</th>\n",
       "      <td>Jatin</td>\n",
       "      <td>4</td>\n",
       "      <td>Jatin</td>\n",
       "      <td>6</td>\n",
       "    </tr>\n",
       "    <tr>\n",
       "      <th>6</th>\n",
       "      <td>Jatin</td>\n",
       "      <td>4</td>\n",
       "      <td>Prateek</td>\n",
       "      <td>8</td>\n",
       "    </tr>\n",
       "    <tr>\n",
       "      <th>7</th>\n",
       "      <td>Jatin</td>\n",
       "      <td>4</td>\n",
       "      <td>Mohit</td>\n",
       "      <td>9</td>\n",
       "    </tr>\n",
       "    <tr>\n",
       "      <th>8</th>\n",
       "      <td>Prateek</td>\n",
       "      <td>5</td>\n",
       "      <td>Mohit</td>\n",
       "      <td>3</td>\n",
       "    </tr>\n",
       "    <tr>\n",
       "      <th>9</th>\n",
       "      <td>Prateek</td>\n",
       "      <td>5</td>\n",
       "      <td>Jatin</td>\n",
       "      <td>6</td>\n",
       "    </tr>\n",
       "    <tr>\n",
       "      <th>10</th>\n",
       "      <td>Prateek</td>\n",
       "      <td>5</td>\n",
       "      <td>Prateek</td>\n",
       "      <td>8</td>\n",
       "    </tr>\n",
       "    <tr>\n",
       "      <th>11</th>\n",
       "      <td>Prateek</td>\n",
       "      <td>5</td>\n",
       "      <td>Mohit</td>\n",
       "      <td>9</td>\n",
       "    </tr>\n",
       "    <tr>\n",
       "      <th>12</th>\n",
       "      <td>Mohit</td>\n",
       "      <td>3</td>\n",
       "      <td>Mohit</td>\n",
       "      <td>3</td>\n",
       "    </tr>\n",
       "    <tr>\n",
       "      <th>13</th>\n",
       "      <td>Mohit</td>\n",
       "      <td>3</td>\n",
       "      <td>Jatin</td>\n",
       "      <td>6</td>\n",
       "    </tr>\n",
       "    <tr>\n",
       "      <th>14</th>\n",
       "      <td>Mohit</td>\n",
       "      <td>3</td>\n",
       "      <td>Prateek</td>\n",
       "      <td>8</td>\n",
       "    </tr>\n",
       "    <tr>\n",
       "      <th>15</th>\n",
       "      <td>Mohit</td>\n",
       "      <td>3</td>\n",
       "      <td>Mohit</td>\n",
       "      <td>9</td>\n",
       "    </tr>\n",
       "  </tbody>\n",
       "</table>\n",
       "</div>"
      ],
      "text/plain": [
       "     S_name  CGPA_x   T_name  CGPA_y\n",
       "0     Mohit       2    Mohit       3\n",
       "1     Mohit       2    Jatin       6\n",
       "2     Mohit       2  Prateek       8\n",
       "3     Mohit       2    Mohit       9\n",
       "4     Jatin       4    Mohit       3\n",
       "5     Jatin       4    Jatin       6\n",
       "6     Jatin       4  Prateek       8\n",
       "7     Jatin       4    Mohit       9\n",
       "8   Prateek       5    Mohit       3\n",
       "9   Prateek       5    Jatin       6\n",
       "10  Prateek       5  Prateek       8\n",
       "11  Prateek       5    Mohit       9\n",
       "12    Mohit       3    Mohit       3\n",
       "13    Mohit       3    Jatin       6\n",
       "14    Mohit       3  Prateek       8\n",
       "15    Mohit       3    Mohit       9"
      ]
     },
     "execution_count": 476,
     "metadata": {},
     "output_type": "execute_result"
    }
   ],
   "source": [
    "df1.merge(df2, how='cross')"
   ]
  },
  {
   "cell_type": "code",
   "execution_count": 478,
   "id": "fc45d390",
   "metadata": {},
   "outputs": [
    {
     "data": {
      "text/plain": [
       "sepal_length    0\n",
       "sepal_width     0\n",
       "petal_length    0\n",
       "petal_width     0\n",
       "species         0\n",
       "dtype: int64"
      ]
     },
     "execution_count": 478,
     "metadata": {},
     "output_type": "execute_result"
    }
   ],
   "source": [
    "df.isna().sum()"
   ]
  },
  {
   "cell_type": "code",
   "execution_count": 480,
   "id": "eb4f1e26",
   "metadata": {},
   "outputs": [
    {
     "data": {
      "text/html": [
       "<div>\n",
       "<style scoped>\n",
       "    .dataframe tbody tr th:only-of-type {\n",
       "        vertical-align: middle;\n",
       "    }\n",
       "\n",
       "    .dataframe tbody tr th {\n",
       "        vertical-align: top;\n",
       "    }\n",
       "\n",
       "    .dataframe thead th {\n",
       "        text-align: right;\n",
       "    }\n",
       "</style>\n",
       "<table border=\"1\" class=\"dataframe\">\n",
       "  <thead>\n",
       "    <tr style=\"text-align: right;\">\n",
       "      <th></th>\n",
       "      <th>sepal_length</th>\n",
       "      <th>sepal_width</th>\n",
       "      <th>petal_length</th>\n",
       "      <th>petal_width</th>\n",
       "      <th>species</th>\n",
       "    </tr>\n",
       "  </thead>\n",
       "  <tbody>\n",
       "    <tr>\n",
       "      <th>0</th>\n",
       "      <td>5.1</td>\n",
       "      <td>3.5</td>\n",
       "      <td>1.4</td>\n",
       "      <td>0.2</td>\n",
       "      <td>setosa</td>\n",
       "    </tr>\n",
       "    <tr>\n",
       "      <th>1</th>\n",
       "      <td>4.9</td>\n",
       "      <td>3.0</td>\n",
       "      <td>1.4</td>\n",
       "      <td>0.2</td>\n",
       "      <td>setosa</td>\n",
       "    </tr>\n",
       "    <tr>\n",
       "      <th>2</th>\n",
       "      <td>5.9</td>\n",
       "      <td>3.2</td>\n",
       "      <td>1.3</td>\n",
       "      <td>0.2</td>\n",
       "      <td>setosa</td>\n",
       "    </tr>\n",
       "    <tr>\n",
       "      <th>3</th>\n",
       "      <td>5.9</td>\n",
       "      <td>3.1</td>\n",
       "      <td>1.5</td>\n",
       "      <td>0.2</td>\n",
       "      <td>setosa</td>\n",
       "    </tr>\n",
       "    <tr>\n",
       "      <th>4</th>\n",
       "      <td>5.0</td>\n",
       "      <td>3.6</td>\n",
       "      <td>4.5</td>\n",
       "      <td>0.2</td>\n",
       "      <td>setosa</td>\n",
       "    </tr>\n",
       "    <tr>\n",
       "      <th>...</th>\n",
       "      <td>...</td>\n",
       "      <td>...</td>\n",
       "      <td>...</td>\n",
       "      <td>...</td>\n",
       "      <td>...</td>\n",
       "    </tr>\n",
       "    <tr>\n",
       "      <th>145</th>\n",
       "      <td>6.7</td>\n",
       "      <td>3.0</td>\n",
       "      <td>5.2</td>\n",
       "      <td>2.3</td>\n",
       "      <td>virginica</td>\n",
       "    </tr>\n",
       "    <tr>\n",
       "      <th>146</th>\n",
       "      <td>6.3</td>\n",
       "      <td>2.5</td>\n",
       "      <td>5.0</td>\n",
       "      <td>1.9</td>\n",
       "      <td>virginica</td>\n",
       "    </tr>\n",
       "    <tr>\n",
       "      <th>147</th>\n",
       "      <td>6.5</td>\n",
       "      <td>3.0</td>\n",
       "      <td>5.2</td>\n",
       "      <td>2.0</td>\n",
       "      <td>virginica</td>\n",
       "    </tr>\n",
       "    <tr>\n",
       "      <th>148</th>\n",
       "      <td>6.2</td>\n",
       "      <td>3.4</td>\n",
       "      <td>5.4</td>\n",
       "      <td>2.3</td>\n",
       "      <td>virginica</td>\n",
       "    </tr>\n",
       "    <tr>\n",
       "      <th>149</th>\n",
       "      <td>5.9</td>\n",
       "      <td>3.0</td>\n",
       "      <td>5.1</td>\n",
       "      <td>1.8</td>\n",
       "      <td>virginica</td>\n",
       "    </tr>\n",
       "  </tbody>\n",
       "</table>\n",
       "<p>150 rows × 5 columns</p>\n",
       "</div>"
      ],
      "text/plain": [
       "     sepal_length  sepal_width  petal_length  petal_width    species\n",
       "0             5.1          3.5           1.4          0.2     setosa\n",
       "1             4.9          3.0           1.4          0.2     setosa\n",
       "2             5.9          3.2           1.3          0.2     setosa\n",
       "3             5.9          3.1           1.5          0.2     setosa\n",
       "4             5.0          3.6           4.5          0.2     setosa\n",
       "..            ...          ...           ...          ...        ...\n",
       "145           6.7          3.0           5.2          2.3  virginica\n",
       "146           6.3          2.5           5.0          1.9  virginica\n",
       "147           6.5          3.0           5.2          2.0  virginica\n",
       "148           6.2          3.4           5.4          2.3  virginica\n",
       "149           5.9          3.0           5.1          1.8  virginica\n",
       "\n",
       "[150 rows x 5 columns]"
      ]
     },
     "execution_count": 480,
     "metadata": {},
     "output_type": "execute_result"
    }
   ],
   "source": [
    "df.sort_index()"
   ]
  },
  {
   "cell_type": "code",
   "execution_count": 481,
   "id": "4b7bdf30",
   "metadata": {},
   "outputs": [],
   "source": [
    "df.to_csv('modified2306.csv', index=False)"
   ]
  },
  {
   "cell_type": "code",
   "execution_count": 483,
   "id": "65d25b08",
   "metadata": {},
   "outputs": [],
   "source": [
    "modified_df = pd.read_csv('modified2306.csv')"
   ]
  },
  {
   "cell_type": "code",
   "execution_count": 484,
   "id": "bb5ad658",
   "metadata": {},
   "outputs": [
    {
     "data": {
      "text/html": [
       "<div>\n",
       "<style scoped>\n",
       "    .dataframe tbody tr th:only-of-type {\n",
       "        vertical-align: middle;\n",
       "    }\n",
       "\n",
       "    .dataframe tbody tr th {\n",
       "        vertical-align: top;\n",
       "    }\n",
       "\n",
       "    .dataframe thead th {\n",
       "        text-align: right;\n",
       "    }\n",
       "</style>\n",
       "<table border=\"1\" class=\"dataframe\">\n",
       "  <thead>\n",
       "    <tr style=\"text-align: right;\">\n",
       "      <th></th>\n",
       "      <th>sepal_length</th>\n",
       "      <th>sepal_width</th>\n",
       "      <th>petal_length</th>\n",
       "      <th>petal_width</th>\n",
       "      <th>species</th>\n",
       "    </tr>\n",
       "  </thead>\n",
       "  <tbody>\n",
       "    <tr>\n",
       "      <th>0</th>\n",
       "      <td>7.9</td>\n",
       "      <td>3.8</td>\n",
       "      <td>6.4</td>\n",
       "      <td>2.0</td>\n",
       "      <td>virginica</td>\n",
       "    </tr>\n",
       "    <tr>\n",
       "      <th>1</th>\n",
       "      <td>7.7</td>\n",
       "      <td>2.6</td>\n",
       "      <td>6.9</td>\n",
       "      <td>2.3</td>\n",
       "      <td>virginica</td>\n",
       "    </tr>\n",
       "    <tr>\n",
       "      <th>2</th>\n",
       "      <td>7.7</td>\n",
       "      <td>2.8</td>\n",
       "      <td>6.7</td>\n",
       "      <td>2.0</td>\n",
       "      <td>virginica</td>\n",
       "    </tr>\n",
       "    <tr>\n",
       "      <th>3</th>\n",
       "      <td>7.7</td>\n",
       "      <td>3.0</td>\n",
       "      <td>6.1</td>\n",
       "      <td>2.3</td>\n",
       "      <td>virginica</td>\n",
       "    </tr>\n",
       "    <tr>\n",
       "      <th>4</th>\n",
       "      <td>7.7</td>\n",
       "      <td>3.8</td>\n",
       "      <td>6.7</td>\n",
       "      <td>2.2</td>\n",
       "      <td>virginica</td>\n",
       "    </tr>\n",
       "  </tbody>\n",
       "</table>\n",
       "</div>"
      ],
      "text/plain": [
       "   sepal_length  sepal_width  petal_length  petal_width    species\n",
       "0           7.9          3.8           6.4          2.0  virginica\n",
       "1           7.7          2.6           6.9          2.3  virginica\n",
       "2           7.7          2.8           6.7          2.0  virginica\n",
       "3           7.7          3.0           6.1          2.3  virginica\n",
       "4           7.7          3.8           6.7          2.2  virginica"
      ]
     },
     "execution_count": 484,
     "metadata": {},
     "output_type": "execute_result"
    }
   ],
   "source": [
    "modified_df.head()"
   ]
  },
  {
   "cell_type": "code",
   "execution_count": 487,
   "id": "780cf8ca",
   "metadata": {},
   "outputs": [],
   "source": [
    "df.to_excel('myirisexcel.xlsx', index=False, sheet_name = 'iris_data')"
   ]
  },
  {
   "cell_type": "code",
   "execution_count": null,
   "id": "f0d1415d",
   "metadata": {},
   "outputs": [],
   "source": []
  }
 ],
 "metadata": {
  "kernelspec": {
   "display_name": "Python 3",
   "language": "python",
   "name": "python3"
  },
  "language_info": {
   "codemirror_mode": {
    "name": "ipython",
    "version": 3
   },
   "file_extension": ".py",
   "mimetype": "text/x-python",
   "name": "python",
   "nbconvert_exporter": "python",
   "pygments_lexer": "ipython3",
   "version": "3.8.8"
  }
 },
 "nbformat": 4,
 "nbformat_minor": 5
}
