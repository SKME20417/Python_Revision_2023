{
 "cells": [
  {
   "cell_type": "code",
   "execution_count": 27,
   "id": "3e47cdbb",
   "metadata": {},
   "outputs": [
    {
     "name": "stdout",
     "output_type": "stream",
     "text": [
      "11\n"
     ]
    }
   ],
   "source": [
    "n = int(input())"
   ]
  },
  {
   "cell_type": "code",
   "execution_count": 28,
   "id": "1850abc2",
   "metadata": {},
   "outputs": [],
   "source": [
    "def is_prime(n):\n",
    "    if n<=1:\n",
    "        return False\n",
    "    for i in range(2,int(n**0.5)+1):\n",
    "        if n%i==0:\n",
    "            return False\n",
    "    return True"
   ]
  },
  {
   "cell_type": "code",
   "execution_count": 29,
   "id": "cf494208",
   "metadata": {},
   "outputs": [
    {
     "name": "stdout",
     "output_type": "stream",
     "text": [
      "11 is prime\n"
     ]
    }
   ],
   "source": [
    "if is_prime(n):\n",
    "    print(n,\"is prime\")\n",
    "else:\n",
    "    print(n,\"is nottt prime\")"
   ]
  },
  {
   "cell_type": "code",
   "execution_count": null,
   "id": "114f5244",
   "metadata": {},
   "outputs": [],
   "source": []
  },
  {
   "cell_type": "code",
   "execution_count": 30,
   "id": "4410ac9b",
   "metadata": {},
   "outputs": [],
   "source": [
    "def greetings(name):\n",
    "    \"\"\"This function will greet you\n",
    "    \"\"\"\n",
    "    print(f\"Hello {name} and good morning\")"
   ]
  },
  {
   "cell_type": "code",
   "execution_count": 31,
   "id": "a74a8313",
   "metadata": {},
   "outputs": [
    {
     "name": "stdout",
     "output_type": "stream",
     "text": [
      "Hello sanjay and good morning\n"
     ]
    }
   ],
   "source": [
    "\n",
    "greetings('sanjay')"
   ]
  },
  {
   "cell_type": "code",
   "execution_count": 32,
   "id": "07612deb",
   "metadata": {},
   "outputs": [
    {
     "name": "stdout",
     "output_type": "stream",
     "text": [
      "<function greetings at 0x0000020EC201BD30>\n"
     ]
    }
   ],
   "source": [
    "print(greetings)"
   ]
  },
  {
   "cell_type": "code",
   "execution_count": 33,
   "id": "bc519438",
   "metadata": {},
   "outputs": [
    {
     "data": {
      "text/plain": [
       "function"
      ]
     },
     "execution_count": 33,
     "metadata": {},
     "output_type": "execute_result"
    }
   ],
   "source": [
    "type(greetings)"
   ]
  },
  {
   "cell_type": "code",
   "execution_count": 34,
   "id": "e5d2d84c",
   "metadata": {},
   "outputs": [
    {
     "name": "stdout",
     "output_type": "stream",
     "text": [
      "Hello mohit and good morning\n"
     ]
    }
   ],
   "source": [
    "greetings(\"mohit\")"
   ]
  },
  {
   "cell_type": "code",
   "execution_count": 35,
   "id": "cf781a97",
   "metadata": {},
   "outputs": [
    {
     "name": "stdout",
     "output_type": "stream",
     "text": [
      "Hello prateek and good morning\n"
     ]
    }
   ],
   "source": [
    "greetings(\"prateek\")"
   ]
  },
  {
   "cell_type": "code",
   "execution_count": 36,
   "id": "8e861f98",
   "metadata": {},
   "outputs": [
    {
     "data": {
      "text/plain": [
       "'This function will greet you\\n    '"
      ]
     },
     "execution_count": 36,
     "metadata": {},
     "output_type": "execute_result"
    }
   ],
   "source": [
    "greetings.__doc__"
   ]
  },
  {
   "cell_type": "code",
   "execution_count": 37,
   "id": "94f0095b",
   "metadata": {},
   "outputs": [],
   "source": [
    "greetings??"
   ]
  },
  {
   "cell_type": "code",
   "execution_count": 39,
   "id": "ed284318",
   "metadata": {},
   "outputs": [],
   "source": [
    "def test(a,b):\n",
    "    \"\"\"this will add 2 numbers\"\"\"\n",
    "    \n",
    "    c = a+b\n",
    "    return c"
   ]
  },
  {
   "cell_type": "code",
   "execution_count": 41,
   "id": "e7a496b5",
   "metadata": {},
   "outputs": [
    {
     "data": {
      "text/plain": [
       "11"
      ]
     },
     "execution_count": 41,
     "metadata": {},
     "output_type": "execute_result"
    }
   ],
   "source": [
    "test(5,6)"
   ]
  },
  {
   "cell_type": "code",
   "execution_count": 43,
   "id": "bf6d78e0",
   "metadata": {},
   "outputs": [],
   "source": [
    "add_ = test(10,12)"
   ]
  },
  {
   "cell_type": "code",
   "execution_count": 44,
   "id": "bf49e90c",
   "metadata": {},
   "outputs": [
    {
     "data": {
      "text/plain": [
       "22"
      ]
     },
     "execution_count": 44,
     "metadata": {},
     "output_type": "execute_result"
    }
   ],
   "source": [
    "add_"
   ]
  },
  {
   "cell_type": "code",
   "execution_count": 45,
   "id": "0d28c45e",
   "metadata": {},
   "outputs": [],
   "source": [
    "def product(lst):\n",
    "    \"\"\"\n",
    "    lst = this is list\n",
    "    this will give the product of all elements\n",
    "    \"\"\"\n",
    "    p = 1\n",
    "    for i in lst:\n",
    "        p*=i\n",
    "        \n",
    "    return p\n",
    "        \n",
    "    "
   ]
  },
  {
   "cell_type": "code",
   "execution_count": 46,
   "id": "a03e0cf4",
   "metadata": {},
   "outputs": [
    {
     "data": {
      "text/plain": [
       "24"
      ]
     },
     "execution_count": 46,
     "metadata": {},
     "output_type": "execute_result"
    }
   ],
   "source": [
    "product([2,3,4])"
   ]
  },
  {
   "cell_type": "code",
   "execution_count": 47,
   "id": "f5d03920",
   "metadata": {},
   "outputs": [],
   "source": [
    "lst = [5, 3, 2, 4, 1]"
   ]
  },
  {
   "cell_type": "code",
   "execution_count": 48,
   "id": "652013f8",
   "metadata": {},
   "outputs": [
    {
     "data": {
      "text/plain": [
       "120"
      ]
     },
     "execution_count": 48,
     "metadata": {},
     "output_type": "execute_result"
    }
   ],
   "source": [
    "product(lst)"
   ]
  },
  {
   "cell_type": "code",
   "execution_count": 49,
   "id": "2b843645",
   "metadata": {},
   "outputs": [
    {
     "data": {
      "text/plain": [
       "9450"
      ]
     },
     "execution_count": 49,
     "metadata": {},
     "output_type": "execute_result"
    }
   ],
   "source": [
    "product([3,7,9,10,5])"
   ]
  },
  {
   "cell_type": "code",
   "execution_count": 51,
   "id": "0699152b",
   "metadata": {},
   "outputs": [],
   "source": [
    "def calculator(a,b):\n",
    "    \"\"\"this will perform arithmetic opeartions\"\"\"\n",
    "    \n",
    "    p = a+b\n",
    "    q = a-b\n",
    "    r = a*b\n",
    "    s = a/b\n",
    "    \n",
    "    return p,q,r,s"
   ]
  },
  {
   "cell_type": "code",
   "execution_count": 52,
   "id": "3586254b",
   "metadata": {},
   "outputs": [
    {
     "data": {
      "text/plain": [
       "(11, -1, 30, 0.8333333333333334)"
      ]
     },
     "execution_count": 52,
     "metadata": {},
     "output_type": "execute_result"
    }
   ],
   "source": [
    "calculator(5,6)"
   ]
  },
  {
   "cell_type": "code",
   "execution_count": 53,
   "id": "2a9911a1",
   "metadata": {},
   "outputs": [],
   "source": [
    "def calculator(a,b):\n",
    "    \"\"\"this will perform arithmetic opeartions\"\"\"\n",
    " \n",
    "    \n",
    "    return a+b, a-b, a*b, a/b"
   ]
  },
  {
   "cell_type": "code",
   "execution_count": 54,
   "id": "708e1ade",
   "metadata": {},
   "outputs": [
    {
     "data": {
      "text/plain": [
       "(14, 10, 24, 6.0)"
      ]
     },
     "execution_count": 54,
     "metadata": {},
     "output_type": "execute_result"
    }
   ],
   "source": [
    "calculator(12,2)"
   ]
  },
  {
   "cell_type": "code",
   "execution_count": 55,
   "id": "5a70a1f4",
   "metadata": {},
   "outputs": [],
   "source": [
    "age = 24"
   ]
  },
  {
   "cell_type": "code",
   "execution_count": 56,
   "id": "210481ec",
   "metadata": {},
   "outputs": [
    {
     "data": {
      "text/plain": [
       "24"
      ]
     },
     "execution_count": 56,
     "metadata": {},
     "output_type": "execute_result"
    }
   ],
   "source": [
    "age"
   ]
  },
  {
   "cell_type": "code",
   "execution_count": 57,
   "id": "e153540b",
   "metadata": {},
   "outputs": [
    {
     "name": "stdout",
     "output_type": "stream",
     "text": [
      "24\n"
     ]
    }
   ],
   "source": [
    "\n",
    "print(age)"
   ]
  },
  {
   "cell_type": "code",
   "execution_count": 60,
   "id": "7895c07e",
   "metadata": {},
   "outputs": [
    {
     "name": "stdout",
     "output_type": "stream",
     "text": [
      "24\n"
     ]
    }
   ],
   "source": [
    "print(globals()['age'])"
   ]
  },
  {
   "cell_type": "code",
   "execution_count": 62,
   "id": "6b679077",
   "metadata": {},
   "outputs": [],
   "source": [
    "globals()['age'] = 27"
   ]
  },
  {
   "cell_type": "code",
   "execution_count": 64,
   "id": "34c8879d",
   "metadata": {},
   "outputs": [
    {
     "name": "stdout",
     "output_type": "stream",
     "text": [
      "27\n"
     ]
    }
   ],
   "source": [
    "print(age)"
   ]
  },
  {
   "cell_type": "code",
   "execution_count": 65,
   "id": "8cb7779f",
   "metadata": {},
   "outputs": [],
   "source": [
    "global_var = 100\n",
    "\n",
    "def test_func():\n",
    "    local_var = 66\n",
    "    \n",
    "    print(global_var)\n",
    "    print(local_var)"
   ]
  },
  {
   "cell_type": "code",
   "execution_count": 66,
   "id": "60e65fc5",
   "metadata": {},
   "outputs": [
    {
     "name": "stdout",
     "output_type": "stream",
     "text": [
      "100\n",
      "66\n"
     ]
    }
   ],
   "source": [
    "test_func()"
   ]
  },
  {
   "cell_type": "code",
   "execution_count": 67,
   "id": "287ec543",
   "metadata": {},
   "outputs": [
    {
     "name": "stdout",
     "output_type": "stream",
     "text": [
      "100\n"
     ]
    }
   ],
   "source": [
    "print(global_var)"
   ]
  },
  {
   "cell_type": "code",
   "execution_count": 68,
   "id": "a70b636f",
   "metadata": {},
   "outputs": [
    {
     "ename": "NameError",
     "evalue": "name 'local_var' is not defined",
     "output_type": "error",
     "traceback": [
      "\u001b[1;31m---------------------------------------------------------------------------\u001b[0m",
      "\u001b[1;31mNameError\u001b[0m                                 Traceback (most recent call last)",
      "\u001b[1;32m<ipython-input-68-3bfff76e6cd3>\u001b[0m in \u001b[0;36m<module>\u001b[1;34m\u001b[0m\n\u001b[1;32m----> 1\u001b[1;33m \u001b[0mprint\u001b[0m\u001b[1;33m(\u001b[0m\u001b[0mlocal_var\u001b[0m\u001b[1;33m)\u001b[0m\u001b[1;33m\u001b[0m\u001b[1;33m\u001b[0m\u001b[0m\n\u001b[0m",
      "\u001b[1;31mNameError\u001b[0m: name 'local_var' is not defined"
     ]
    }
   ],
   "source": [
    "print(local_var)"
   ]
  },
  {
   "cell_type": "code",
   "execution_count": 69,
   "id": "75511ab0",
   "metadata": {},
   "outputs": [],
   "source": [
    "x = 45\n",
    "\n",
    "def new_func():\n",
    "    x = 22\n",
    "    \n",
    "    print(x)"
   ]
  },
  {
   "cell_type": "code",
   "execution_count": 70,
   "id": "1e519a1e",
   "metadata": {},
   "outputs": [
    {
     "name": "stdout",
     "output_type": "stream",
     "text": [
      "22\n"
     ]
    }
   ],
   "source": [
    "new_func()"
   ]
  },
  {
   "cell_type": "code",
   "execution_count": 71,
   "id": "b7456902",
   "metadata": {},
   "outputs": [
    {
     "name": "stdout",
     "output_type": "stream",
     "text": [
      "45\n"
     ]
    }
   ],
   "source": [
    "print(x)"
   ]
  },
  {
   "cell_type": "code",
   "execution_count": 72,
   "id": "0a676ca7",
   "metadata": {},
   "outputs": [],
   "source": [
    "x = 45\n",
    "\n",
    "def new_func():\n",
    "    global x\n",
    "    x = 22\n",
    "    \n",
    "    print(x)"
   ]
  },
  {
   "cell_type": "code",
   "execution_count": 73,
   "id": "02c50816",
   "metadata": {},
   "outputs": [
    {
     "name": "stdout",
     "output_type": "stream",
     "text": [
      "22\n"
     ]
    }
   ],
   "source": [
    "new_func()"
   ]
  },
  {
   "cell_type": "code",
   "execution_count": 74,
   "id": "7f402ec5",
   "metadata": {},
   "outputs": [
    {
     "name": "stdout",
     "output_type": "stream",
     "text": [
      "22\n"
     ]
    }
   ],
   "source": [
    "print(x)"
   ]
  },
  {
   "cell_type": "code",
   "execution_count": 77,
   "id": "45a04bab",
   "metadata": {},
   "outputs": [],
   "source": [
    "add = (lambda a,b:a+b)"
   ]
  },
  {
   "cell_type": "code",
   "execution_count": 78,
   "id": "2032d4d0",
   "metadata": {},
   "outputs": [
    {
     "data": {
      "text/plain": [
       "11"
      ]
     },
     "execution_count": 78,
     "metadata": {},
     "output_type": "execute_result"
    }
   ],
   "source": [
    "add(5,6)"
   ]
  },
  {
   "cell_type": "code",
   "execution_count": 82,
   "id": "f9ee3b06",
   "metadata": {},
   "outputs": [
    {
     "data": {
      "text/plain": [
       "0"
      ]
     },
     "execution_count": 82,
     "metadata": {},
     "output_type": "execute_result"
    }
   ],
   "source": [
    "(lambda x,y:x+y if x+y>0 else 0)(3,-35)"
   ]
  },
  {
   "cell_type": "code",
   "execution_count": 83,
   "id": "51d7b2b8",
   "metadata": {},
   "outputs": [],
   "source": [
    "names = [('Prateek', 5), ('Mohit',2), ('Abhi', 6 )]"
   ]
  },
  {
   "cell_type": "code",
   "execution_count": 85,
   "id": "588e4bad",
   "metadata": {},
   "outputs": [
    {
     "data": {
      "text/plain": [
       "[('Mohit', 2), ('Prateek', 5), ('Abhi', 6)]"
      ]
     },
     "execution_count": 85,
     "metadata": {},
     "output_type": "execute_result"
    }
   ],
   "source": [
    "sorted(names, key=lambda x:x[1])"
   ]
  },
  {
   "cell_type": "markdown",
   "id": "24de7c2d",
   "metadata": {},
   "source": [
    "Function Question\n",
    "Q-1: Write a Function to find Least Common Multiple LCM of a, b"
   ]
  },
  {
   "cell_type": "code",
   "execution_count": 92,
   "id": "fbde5c2b",
   "metadata": {},
   "outputs": [],
   "source": [
    "def LCM(a,b):\n",
    "    max_num = a if a>b else b\n",
    "    \n",
    "    while True:\n",
    "        if (max_num%a==0) and (max_num%b==0):\n",
    "            return max_num\n",
    "        else:\n",
    "            max_num+=1\n"
   ]
  },
  {
   "cell_type": "code",
   "execution_count": 93,
   "id": "113a9998",
   "metadata": {},
   "outputs": [
    {
     "data": {
      "text/plain": [
       "15"
      ]
     },
     "execution_count": 93,
     "metadata": {},
     "output_type": "execute_result"
    }
   ],
   "source": [
    "LCM(3,5)"
   ]
  },
  {
   "cell_type": "code",
   "execution_count": 94,
   "id": "0e23e273",
   "metadata": {},
   "outputs": [
    {
     "data": {
      "text/plain": [
       "6"
      ]
     },
     "execution_count": 94,
     "metadata": {},
     "output_type": "execute_result"
    }
   ],
   "source": [
    "LCM(2,3)"
   ]
  },
  {
   "cell_type": "code",
   "execution_count": 95,
   "id": "f8672dcb",
   "metadata": {},
   "outputs": [
    {
     "data": {
      "text/plain": [
       "16"
      ]
     },
     "execution_count": 95,
     "metadata": {},
     "output_type": "execute_result"
    }
   ],
   "source": [
    "LCM(4,16)"
   ]
  },
  {
   "cell_type": "code",
   "execution_count": 96,
   "id": "aa7436fe",
   "metadata": {},
   "outputs": [
    {
     "data": {
      "text/plain": [
       "36"
      ]
     },
     "execution_count": 96,
     "metadata": {},
     "output_type": "execute_result"
    }
   ],
   "source": [
    "LCM(4,18)"
   ]
  },
  {
   "cell_type": "code",
   "execution_count": 100,
   "id": "91562068",
   "metadata": {},
   "outputs": [],
   "source": [
    "def intro(name,nationality):\n",
    "    print(\"Hi my name is:\", name)\n",
    "    print(\"my nationality is :\", nationality)"
   ]
  },
  {
   "cell_type": "code",
   "execution_count": 101,
   "id": "d8297d5f",
   "metadata": {},
   "outputs": [
    {
     "name": "stdout",
     "output_type": "stream",
     "text": [
      "Hi my name is: sanjay\n",
      "my nationality is : Indian\n"
     ]
    }
   ],
   "source": [
    "intro('sanjay', 'Indian')"
   ]
  },
  {
   "cell_type": "code",
   "execution_count": 102,
   "id": "52aaa592",
   "metadata": {},
   "outputs": [
    {
     "name": "stdout",
     "output_type": "stream",
     "text": [
      "Hi my name is: john\n",
      "my nationality is : American\n"
     ]
    }
   ],
   "source": [
    "intro('john', 'American')"
   ]
  },
  {
   "cell_type": "code",
   "execution_count": 103,
   "id": "63d1e916",
   "metadata": {},
   "outputs": [
    {
     "ename": "TypeError",
     "evalue": "intro() missing 1 required positional argument: 'nationality'",
     "output_type": "error",
     "traceback": [
      "\u001b[1;31m---------------------------------------------------------------------------\u001b[0m",
      "\u001b[1;31mTypeError\u001b[0m                                 Traceback (most recent call last)",
      "\u001b[1;32m<ipython-input-103-f4be5a83f33a>\u001b[0m in \u001b[0;36m<module>\u001b[1;34m\u001b[0m\n\u001b[1;32m----> 1\u001b[1;33m \u001b[0mintro\u001b[0m\u001b[1;33m(\u001b[0m\u001b[1;34m'sanjay'\u001b[0m\u001b[1;33m)\u001b[0m\u001b[1;33m\u001b[0m\u001b[1;33m\u001b[0m\u001b[0m\n\u001b[0m",
      "\u001b[1;31mTypeError\u001b[0m: intro() missing 1 required positional argument: 'nationality'"
     ]
    }
   ],
   "source": [
    "intro('sanjay')"
   ]
  },
  {
   "cell_type": "code",
   "execution_count": 104,
   "id": "c753e1a1",
   "metadata": {},
   "outputs": [
    {
     "name": "stdout",
     "output_type": "stream",
     "text": [
      "Hi my name is: Americxan\n",
      "my nationality is : sam\n"
     ]
    }
   ],
   "source": [
    "intro('Americxan','sam')"
   ]
  },
  {
   "cell_type": "code",
   "execution_count": 105,
   "id": "57388e6e",
   "metadata": {},
   "outputs": [],
   "source": [
    "def intro(name,nationality = 'Indian'):\n",
    "    print(\"Hi my name is:\", name)\n",
    "    print(\"my nationality is :\", nationality)"
   ]
  },
  {
   "cell_type": "code",
   "execution_count": 106,
   "id": "1938bbc5",
   "metadata": {},
   "outputs": [
    {
     "name": "stdout",
     "output_type": "stream",
     "text": [
      "Hi my name is: rohit\n",
      "my nationality is : Indian\n"
     ]
    }
   ],
   "source": [
    "intro('rohit')"
   ]
  },
  {
   "cell_type": "code",
   "execution_count": 107,
   "id": "4817dae0",
   "metadata": {},
   "outputs": [
    {
     "name": "stdout",
     "output_type": "stream",
     "text": [
      "Hi my name is: salt\n",
      "my nationality is : Austalian\n"
     ]
    }
   ],
   "source": [
    "intro('salt', 'Austalian')"
   ]
  },
  {
   "cell_type": "code",
   "execution_count": 108,
   "id": "9dd4fd7f",
   "metadata": {},
   "outputs": [],
   "source": [
    "def test(a,b,c,d = 100):\n",
    "    pass"
   ]
  },
  {
   "cell_type": "code",
   "execution_count": 110,
   "id": "379d86c6",
   "metadata": {},
   "outputs": [],
   "source": [
    "def args_(*args):\n",
    "    print(args)\n",
    "    print(type(args))\n",
    "    \n",
    "    for i in args:\n",
    "        print(i)"
   ]
  },
  {
   "cell_type": "code",
   "execution_count": 111,
   "id": "ccd82700",
   "metadata": {},
   "outputs": [
    {
     "name": "stdout",
     "output_type": "stream",
     "text": [
      "(10, 20, 30, 'python', [4, 5, 6])\n",
      "<class 'tuple'>\n",
      "10\n",
      "20\n",
      "30\n",
      "python\n",
      "[4, 5, 6]\n"
     ]
    }
   ],
   "source": [
    "args_(10,20,30,'python', [4,5,6])"
   ]
  },
  {
   "cell_type": "code",
   "execution_count": 115,
   "id": "cad566a7",
   "metadata": {},
   "outputs": [],
   "source": [
    "def testk(**kwargs):\n",
    "    print(kwargs)\n",
    "    print(type(kwargs))\n",
    "    \n",
    "    for k,v in kwargs.items():\n",
    "        print(k,\":\", v )"
   ]
  },
  {
   "cell_type": "code",
   "execution_count": 116,
   "id": "fc497f06",
   "metadata": {},
   "outputs": [
    {
     "name": "stdout",
     "output_type": "stream",
     "text": [
      "{'name': 'sanjay', 'age': 30, 'nationality': 'Indian', 'hobby': ['singing', 'coding', 'dancing']}\n",
      "<class 'dict'>\n",
      "name : sanjay\n",
      "age : 30\n",
      "nationality : Indian\n",
      "hobby : ['singing', 'coding', 'dancing']\n"
     ]
    }
   ],
   "source": [
    "testk(name = 'sanjay', age = 30, nationality='Indian', hobby= ['singing', 'coding', 'dancing'])"
   ]
  },
  {
   "cell_type": "code",
   "execution_count": 117,
   "id": "bad7a53d",
   "metadata": {},
   "outputs": [
    {
     "name": "stdout",
     "output_type": "stream",
     "text": [
      "{'name': 'krishna', 'age': 45, 'company': 'google'}\n",
      "<class 'dict'>\n",
      "name : krishna\n",
      "age : 45\n",
      "company : google\n"
     ]
    }
   ],
   "source": [
    "testk(name = 'krishna', age = 45, company = 'google')"
   ]
  },
  {
   "cell_type": "code",
   "execution_count": 118,
   "id": "6b9013e6",
   "metadata": {},
   "outputs": [],
   "source": [
    "def combination(a,b,c,d=800,*args, **kwargs):\n",
    "    print(a,b,c,d)\n",
    "    print(args)\n",
    "    print(kwargs)"
   ]
  },
  {
   "cell_type": "code",
   "execution_count": 119,
   "id": "73884575",
   "metadata": {},
   "outputs": [
    {
     "name": "stdout",
     "output_type": "stream",
     "text": [
      "10 20 30 40\n",
      "('python', '78+45j', [1, 2, 3])\n",
      "{'name': 'sanjay', 'age': 30, 'nationality': 'Indian'}\n"
     ]
    }
   ],
   "source": [
    "combination(10,20,30,40,'python','78+45j',[1,2,3],name = 'sanjay', age = 30, nationality = 'Indian')"
   ]
  },
  {
   "cell_type": "code",
   "execution_count": 120,
   "id": "04932606",
   "metadata": {},
   "outputs": [
    {
     "data": {
      "text/plain": [
       "1.1"
      ]
     },
     "execution_count": 120,
     "metadata": {},
     "output_type": "execute_result"
    }
   ],
   "source": [
    "abs(1.1)"
   ]
  },
  {
   "cell_type": "code",
   "execution_count": 121,
   "id": "fc415c2a",
   "metadata": {},
   "outputs": [
    {
     "data": {
      "text/plain": [
       "1.1"
      ]
     },
     "execution_count": 121,
     "metadata": {},
     "output_type": "execute_result"
    }
   ],
   "source": [
    "abs(-1.1)"
   ]
  },
  {
   "cell_type": "code",
   "execution_count": 124,
   "id": "61841bee",
   "metadata": {},
   "outputs": [
    {
     "data": {
      "text/plain": [
       "78.23"
      ]
     },
     "execution_count": 124,
     "metadata": {},
     "output_type": "execute_result"
    }
   ],
   "source": [
    "round(78.2326598, ndigits=2)"
   ]
  },
  {
   "cell_type": "code",
   "execution_count": 125,
   "id": "369d25ca",
   "metadata": {},
   "outputs": [
    {
     "data": {
      "text/plain": [
       "78.733"
      ]
     },
     "execution_count": 125,
     "metadata": {},
     "output_type": "execute_result"
    }
   ],
   "source": [
    "round(78.7326895, ndigits=3)"
   ]
  },
  {
   "cell_type": "code",
   "execution_count": 127,
   "id": "feb1b732",
   "metadata": {},
   "outputs": [
    {
     "data": {
      "text/plain": [
       "True"
      ]
     },
     "execution_count": 127,
     "metadata": {},
     "output_type": "execute_result"
    }
   ],
   "source": [
    "all([1,2,3])"
   ]
  },
  {
   "cell_type": "code",
   "execution_count": 128,
   "id": "de0ce79c",
   "metadata": {},
   "outputs": [
    {
     "data": {
      "text/plain": [
       "False"
      ]
     },
     "execution_count": 128,
     "metadata": {},
     "output_type": "execute_result"
    }
   ],
   "source": [
    "all([1,2,3,0])"
   ]
  },
  {
   "cell_type": "code",
   "execution_count": 129,
   "id": "da37d7dd",
   "metadata": {},
   "outputs": [
    {
     "data": {
      "text/plain": [
       "True"
      ]
     },
     "execution_count": 129,
     "metadata": {},
     "output_type": "execute_result"
    }
   ],
   "source": [
    "any([1,2,3])"
   ]
  },
  {
   "cell_type": "code",
   "execution_count": 130,
   "id": "3dfbc941",
   "metadata": {},
   "outputs": [
    {
     "data": {
      "text/plain": [
       "True"
      ]
     },
     "execution_count": 130,
     "metadata": {},
     "output_type": "execute_result"
    }
   ],
   "source": [
    "any([1,2,3,0])"
   ]
  },
  {
   "cell_type": "code",
   "execution_count": 131,
   "id": "0ceae0e1",
   "metadata": {},
   "outputs": [],
   "source": [
    "tup = (0,2,3,4)"
   ]
  },
  {
   "cell_type": "code",
   "execution_count": 132,
   "id": "00493744",
   "metadata": {},
   "outputs": [
    {
     "data": {
      "text/plain": [
       "False"
      ]
     },
     "execution_count": 132,
     "metadata": {},
     "output_type": "execute_result"
    }
   ],
   "source": [
    "all(tup)"
   ]
  },
  {
   "cell_type": "code",
   "execution_count": 133,
   "id": "5020f333",
   "metadata": {},
   "outputs": [
    {
     "data": {
      "text/plain": [
       "True"
      ]
     },
     "execution_count": 133,
     "metadata": {},
     "output_type": "execute_result"
    }
   ],
   "source": [
    "any(tup)"
   ]
  },
  {
   "cell_type": "code",
   "execution_count": 134,
   "id": "bb8b9816",
   "metadata": {},
   "outputs": [],
   "source": [
    "lst = [False, 1, 2] "
   ]
  },
  {
   "cell_type": "code",
   "execution_count": 135,
   "id": "0794f549",
   "metadata": {},
   "outputs": [
    {
     "data": {
      "text/plain": [
       "False"
      ]
     },
     "execution_count": 135,
     "metadata": {},
     "output_type": "execute_result"
    }
   ],
   "source": [
    "all(lst)"
   ]
  },
  {
   "cell_type": "code",
   "execution_count": 136,
   "id": "c37d6a34",
   "metadata": {},
   "outputs": [
    {
     "data": {
      "text/plain": [
       "True"
      ]
     },
     "execution_count": 136,
     "metadata": {},
     "output_type": "execute_result"
    }
   ],
   "source": [
    "any(lst)"
   ]
  },
  {
   "cell_type": "code",
   "execution_count": 137,
   "id": "765ca861",
   "metadata": {},
   "outputs": [],
   "source": [
    "lst = []\n"
   ]
  },
  {
   "cell_type": "code",
   "execution_count": 138,
   "id": "308f3a22",
   "metadata": {},
   "outputs": [
    {
     "data": {
      "text/plain": [
       "True"
      ]
     },
     "execution_count": 138,
     "metadata": {},
     "output_type": "execute_result"
    }
   ],
   "source": [
    "all(lst)"
   ]
  },
  {
   "cell_type": "code",
   "execution_count": 139,
   "id": "3f9c2f4f",
   "metadata": {},
   "outputs": [
    {
     "data": {
      "text/plain": [
       "False"
      ]
     },
     "execution_count": 139,
     "metadata": {},
     "output_type": "execute_result"
    }
   ],
   "source": [
    "any(lst)"
   ]
  },
  {
   "cell_type": "code",
   "execution_count": 140,
   "id": "24b7c1a5",
   "metadata": {},
   "outputs": [],
   "source": [
    "lst = [False, 0, -1]"
   ]
  },
  {
   "cell_type": "code",
   "execution_count": 141,
   "id": "d293f0fc",
   "metadata": {},
   "outputs": [
    {
     "data": {
      "text/plain": [
       "True"
      ]
     },
     "execution_count": 141,
     "metadata": {},
     "output_type": "execute_result"
    }
   ],
   "source": [
    "any(lst)"
   ]
  },
  {
   "cell_type": "code",
   "execution_count": 142,
   "id": "530d0e36",
   "metadata": {},
   "outputs": [
    {
     "data": {
      "text/plain": [
       "False"
      ]
     },
     "execution_count": 142,
     "metadata": {},
     "output_type": "execute_result"
    }
   ],
   "source": [
    "all(lst)"
   ]
  },
  {
   "cell_type": "code",
   "execution_count": 143,
   "id": "c08b58f2",
   "metadata": {},
   "outputs": [],
   "source": [
    "lst = [1,2,3,4]"
   ]
  },
  {
   "cell_type": "code",
   "execution_count": 145,
   "id": "1dd04719",
   "metadata": {},
   "outputs": [
    {
     "name": "stdout",
     "output_type": "stream",
     "text": [
      "['__add__', '__class__', '__contains__', '__delattr__', '__delitem__', '__dir__', '__doc__', '__eq__', '__format__', '__ge__', '__getattribute__', '__getitem__', '__gt__', '__hash__', '__iadd__', '__imul__', '__init__', '__init_subclass__', '__iter__', '__le__', '__len__', '__lt__', '__mul__', '__ne__', '__new__', '__reduce__', '__reduce_ex__', '__repr__', '__reversed__', '__rmul__', '__setattr__', '__setitem__', '__sizeof__', '__str__', '__subclasshook__', 'append', 'clear', 'copy', 'count', 'extend', 'index', 'insert', 'pop', 'remove', 'reverse', 'sort']\n"
     ]
    }
   ],
   "source": [
    "print(dir(lst))"
   ]
  },
  {
   "cell_type": "code",
   "execution_count": 146,
   "id": "74eba973",
   "metadata": {},
   "outputs": [],
   "source": [
    "fruits = ['apple', 'mango', 'banana', 'grapes']"
   ]
  },
  {
   "cell_type": "code",
   "execution_count": 147,
   "id": "40e0db58",
   "metadata": {},
   "outputs": [
    {
     "name": "stdout",
     "output_type": "stream",
     "text": [
      "0 apple\n",
      "1 mango\n",
      "2 banana\n",
      "3 grapes\n"
     ]
    }
   ],
   "source": [
    "\n",
    "for idx, i in enumerate(fruits):\n",
    "    print(idx,i)"
   ]
  },
  {
   "cell_type": "code",
   "execution_count": 148,
   "id": "4651a983",
   "metadata": {},
   "outputs": [],
   "source": [
    "lst = [3,6,8,2,5,1,0]"
   ]
  },
  {
   "cell_type": "code",
   "execution_count": 149,
   "id": "4741e479",
   "metadata": {},
   "outputs": [
    {
     "data": {
      "text/plain": [
       "8"
      ]
     },
     "execution_count": 149,
     "metadata": {},
     "output_type": "execute_result"
    }
   ],
   "source": [
    "max(lst)"
   ]
  },
  {
   "cell_type": "code",
   "execution_count": 150,
   "id": "73d7e020",
   "metadata": {},
   "outputs": [
    {
     "data": {
      "text/plain": [
       "0"
      ]
     },
     "execution_count": 150,
     "metadata": {},
     "output_type": "execute_result"
    }
   ],
   "source": [
    "min(lst)"
   ]
  },
  {
   "cell_type": "code",
   "execution_count": 151,
   "id": "eb564584",
   "metadata": {},
   "outputs": [
    {
     "data": {
      "text/plain": [
       "25"
      ]
     },
     "execution_count": 151,
     "metadata": {},
     "output_type": "execute_result"
    }
   ],
   "source": [
    "sum(lst)"
   ]
  },
  {
   "cell_type": "code",
   "execution_count": 153,
   "id": "98c03ec7",
   "metadata": {},
   "outputs": [
    {
     "data": {
      "text/plain": [
       "3.57"
      ]
     },
     "execution_count": 153,
     "metadata": {},
     "output_type": "execute_result"
    }
   ],
   "source": [
    "round(sum(lst)/len(lst),2)"
   ]
  },
  {
   "cell_type": "code",
   "execution_count": 154,
   "id": "51370a58",
   "metadata": {},
   "outputs": [],
   "source": [
    "lst = [3,6,8,2,5,1,0]"
   ]
  },
  {
   "cell_type": "code",
   "execution_count": 156,
   "id": "12f49735",
   "metadata": {},
   "outputs": [
    {
     "data": {
      "text/plain": [
       "[4, 7, 9, 3, 6, 2, 1]"
      ]
     },
     "execution_count": 156,
     "metadata": {},
     "output_type": "execute_result"
    }
   ],
   "source": [
    "list(map(lambda x:x+1, lst))"
   ]
  },
  {
   "cell_type": "code",
   "execution_count": 157,
   "id": "1f7f7ab8",
   "metadata": {},
   "outputs": [],
   "source": [
    "def add_one(x):\n",
    "    return x+1"
   ]
  },
  {
   "cell_type": "code",
   "execution_count": 159,
   "id": "1f6ba05d",
   "metadata": {},
   "outputs": [
    {
     "data": {
      "text/plain": [
       "[4, 7, 9, 3, 6, 2, 1]"
      ]
     },
     "execution_count": 159,
     "metadata": {},
     "output_type": "execute_result"
    }
   ],
   "source": [
    "list(map(add_one, lst))"
   ]
  },
  {
   "cell_type": "code",
   "execution_count": 160,
   "id": "009d5f11",
   "metadata": {},
   "outputs": [
    {
     "data": {
      "text/plain": [
       "201"
      ]
     },
     "execution_count": 160,
     "metadata": {},
     "output_type": "execute_result"
    }
   ],
   "source": [
    "add_one(200)"
   ]
  },
  {
   "cell_type": "code",
   "execution_count": 161,
   "id": "4fe526ac",
   "metadata": {},
   "outputs": [
    {
     "name": "stdout",
     "output_type": "stream",
     "text": [
      "[3, 6, 8, 2, 5, 1, 0]\n"
     ]
    }
   ],
   "source": [
    "print(lst)"
   ]
  },
  {
   "cell_type": "code",
   "execution_count": 162,
   "id": "7c2660aa",
   "metadata": {},
   "outputs": [],
   "source": [
    "k = []\n",
    "\n",
    "for i in lst:\n",
    "    k.append(i+1)"
   ]
  },
  {
   "cell_type": "code",
   "execution_count": 163,
   "id": "f74af660",
   "metadata": {},
   "outputs": [
    {
     "data": {
      "text/plain": [
       "[4, 7, 9, 3, 6, 2, 1]"
      ]
     },
     "execution_count": 163,
     "metadata": {},
     "output_type": "execute_result"
    }
   ],
   "source": [
    "k"
   ]
  },
  {
   "cell_type": "code",
   "execution_count": 164,
   "id": "0361ce9a",
   "metadata": {},
   "outputs": [
    {
     "data": {
      "text/plain": [
       "[3, 6, 8, 2, 5, 1, 0]"
      ]
     },
     "execution_count": 164,
     "metadata": {},
     "output_type": "execute_result"
    }
   ],
   "source": [
    "lst"
   ]
  },
  {
   "cell_type": "code",
   "execution_count": 165,
   "id": "3887ae95",
   "metadata": {},
   "outputs": [],
   "source": [
    "def even_chek(x):\n",
    "    return x%2==0"
   ]
  },
  {
   "cell_type": "code",
   "execution_count": 166,
   "id": "6e096dd8",
   "metadata": {},
   "outputs": [
    {
     "data": {
      "text/plain": [
       "True"
      ]
     },
     "execution_count": 166,
     "metadata": {},
     "output_type": "execute_result"
    }
   ],
   "source": [
    "even_chek(102)"
   ]
  },
  {
   "cell_type": "code",
   "execution_count": 167,
   "id": "8972725b",
   "metadata": {},
   "outputs": [
    {
     "data": {
      "text/plain": [
       "False"
      ]
     },
     "execution_count": 167,
     "metadata": {},
     "output_type": "execute_result"
    }
   ],
   "source": [
    "even_chek(103)"
   ]
  },
  {
   "cell_type": "code",
   "execution_count": 169,
   "id": "c546f774",
   "metadata": {},
   "outputs": [
    {
     "data": {
      "text/plain": [
       "[6, 8, 2, 0]"
      ]
     },
     "execution_count": 169,
     "metadata": {},
     "output_type": "execute_result"
    }
   ],
   "source": [
    "list(filter(lambda x:x%2==0, lst))"
   ]
  },
  {
   "cell_type": "code",
   "execution_count": 172,
   "id": "c1e97e11",
   "metadata": {},
   "outputs": [
    {
     "data": {
      "text/plain": [
       "[6, 8, 2, 0]"
      ]
     },
     "execution_count": 172,
     "metadata": {},
     "output_type": "execute_result"
    }
   ],
   "source": [
    "list(filter(even_chek, lst))"
   ]
  },
  {
   "cell_type": "code",
   "execution_count": 173,
   "id": "8cc444c8",
   "metadata": {},
   "outputs": [],
   "source": [
    "d = []\n",
    "\n",
    "for i in lst:\n",
    "    if i%2==0:\n",
    "        d.append(i)"
   ]
  },
  {
   "cell_type": "code",
   "execution_count": 174,
   "id": "71231a77",
   "metadata": {},
   "outputs": [
    {
     "data": {
      "text/plain": [
       "[6, 8, 2, 0]"
      ]
     },
     "execution_count": 174,
     "metadata": {},
     "output_type": "execute_result"
    }
   ],
   "source": [
    "d"
   ]
  },
  {
   "cell_type": "code",
   "execution_count": 175,
   "id": "b483a37b",
   "metadata": {},
   "outputs": [],
   "source": [
    "lst = [1,2,3,4,5]"
   ]
  },
  {
   "cell_type": "code",
   "execution_count": 176,
   "id": "3acb40a1",
   "metadata": {},
   "outputs": [],
   "source": [
    "p = 1\n",
    "\n",
    "for i in lst:\n",
    "    p*=i\n",
    "    \n"
   ]
  },
  {
   "cell_type": "code",
   "execution_count": 177,
   "id": "26ceeda2",
   "metadata": {},
   "outputs": [
    {
     "data": {
      "text/plain": [
       "120"
      ]
     },
     "execution_count": 177,
     "metadata": {},
     "output_type": "execute_result"
    }
   ],
   "source": [
    "p"
   ]
  },
  {
   "cell_type": "code",
   "execution_count": 178,
   "id": "6568d067",
   "metadata": {},
   "outputs": [],
   "source": [
    "from functools import reduce\n"
   ]
  },
  {
   "cell_type": "code",
   "execution_count": 179,
   "id": "4bd8dd50",
   "metadata": {},
   "outputs": [
    {
     "data": {
      "text/plain": [
       "120"
      ]
     },
     "execution_count": 179,
     "metadata": {},
     "output_type": "execute_result"
    }
   ],
   "source": [
    "reduce(lambda x,y:x*y, lst)"
   ]
  },
  {
   "cell_type": "code",
   "execution_count": 180,
   "id": "68c430b9",
   "metadata": {},
   "outputs": [],
   "source": [
    "def multiply(x,y):\n",
    "    return x*y"
   ]
  },
  {
   "cell_type": "code",
   "execution_count": 181,
   "id": "001eb15c",
   "metadata": {},
   "outputs": [
    {
     "data": {
      "text/plain": [
       "120"
      ]
     },
     "execution_count": 181,
     "metadata": {},
     "output_type": "execute_result"
    }
   ],
   "source": [
    "reduce(multiply, lst)"
   ]
  },
  {
   "cell_type": "code",
   "execution_count": 182,
   "id": "ce7d4e5d",
   "metadata": {},
   "outputs": [
    {
     "data": {
      "text/plain": [
       "120"
      ]
     },
     "execution_count": 182,
     "metadata": {},
     "output_type": "execute_result"
    }
   ],
   "source": [
    "multiply(10,12)"
   ]
  },
  {
   "cell_type": "code",
   "execution_count": 1,
   "id": "34953f5f",
   "metadata": {},
   "outputs": [],
   "source": [
    "#Modules"
   ]
  },
  {
   "cell_type": "code",
   "execution_count": 2,
   "id": "880966ce",
   "metadata": {},
   "outputs": [],
   "source": [
    "import math"
   ]
  },
  {
   "cell_type": "code",
   "execution_count": 4,
   "id": "a356980b",
   "metadata": {},
   "outputs": [
    {
     "name": "stdout",
     "output_type": "stream",
     "text": [
      "['__doc__', '__loader__', '__name__', '__package__', '__spec__', 'acos', 'acosh', 'asin', 'asinh', 'atan', 'atan2', 'atanh', 'ceil', 'comb', 'copysign', 'cos', 'cosh', 'degrees', 'dist', 'e', 'erf', 'erfc', 'exp', 'expm1', 'fabs', 'factorial', 'floor', 'fmod', 'frexp', 'fsum', 'gamma', 'gcd', 'hypot', 'inf', 'isclose', 'isfinite', 'isinf', 'isnan', 'isqrt', 'ldexp', 'lgamma', 'log', 'log10', 'log1p', 'log2', 'modf', 'nan', 'perm', 'pi', 'pow', 'prod', 'radians', 'remainder', 'sin', 'sinh', 'sqrt', 'tan', 'tanh', 'tau', 'trunc']\n"
     ]
    }
   ],
   "source": [
    "print(dir(math))"
   ]
  },
  {
   "cell_type": "code",
   "execution_count": 5,
   "id": "2041c2c2",
   "metadata": {},
   "outputs": [
    {
     "data": {
      "text/plain": [
       "3.141592653589793"
      ]
     },
     "execution_count": 5,
     "metadata": {},
     "output_type": "execute_result"
    }
   ],
   "source": [
    "math.pi"
   ]
  },
  {
   "cell_type": "code",
   "execution_count": 6,
   "id": "b9154cd2",
   "metadata": {},
   "outputs": [
    {
     "data": {
      "text/plain": [
       "9.0"
      ]
     },
     "execution_count": 6,
     "metadata": {},
     "output_type": "execute_result"
    }
   ],
   "source": [
    "math.pow(3,2)"
   ]
  },
  {
   "cell_type": "code",
   "execution_count": 7,
   "id": "607067d3",
   "metadata": {},
   "outputs": [
    {
     "data": {
      "text/plain": [
       "120"
      ]
     },
     "execution_count": 7,
     "metadata": {},
     "output_type": "execute_result"
    }
   ],
   "source": [
    "math.factorial(5)"
   ]
  },
  {
   "cell_type": "code",
   "execution_count": 8,
   "id": "10240f1d",
   "metadata": {},
   "outputs": [
    {
     "data": {
      "text/plain": [
       "6"
      ]
     },
     "execution_count": 8,
     "metadata": {},
     "output_type": "execute_result"
    }
   ],
   "source": [
    "math.ceil(5.6)"
   ]
  },
  {
   "cell_type": "code",
   "execution_count": 9,
   "id": "8fecede4",
   "metadata": {},
   "outputs": [
    {
     "data": {
      "text/plain": [
       "3"
      ]
     },
     "execution_count": 9,
     "metadata": {},
     "output_type": "execute_result"
    }
   ],
   "source": [
    "math.ceil(2.1)"
   ]
  },
  {
   "cell_type": "code",
   "execution_count": 10,
   "id": "9585df5d",
   "metadata": {},
   "outputs": [],
   "source": [
    "import random"
   ]
  },
  {
   "cell_type": "code",
   "execution_count": 16,
   "id": "69d2ad01",
   "metadata": {},
   "outputs": [
    {
     "data": {
      "text/plain": [
       "7"
      ]
     },
     "execution_count": 16,
     "metadata": {},
     "output_type": "execute_result"
    }
   ],
   "source": [
    "random.randint(1,10)"
   ]
  },
  {
   "cell_type": "code",
   "execution_count": 37,
   "id": "494efba0",
   "metadata": {},
   "outputs": [
    {
     "data": {
      "text/plain": [
       "50.38"
      ]
     },
     "execution_count": 37,
     "metadata": {},
     "output_type": "execute_result"
    }
   ],
   "source": [
    "round(random.random()*50,3) +10"
   ]
  },
  {
   "cell_type": "code",
   "execution_count": 38,
   "id": "592c67cb",
   "metadata": {},
   "outputs": [],
   "source": [
    "import os"
   ]
  },
  {
   "cell_type": "code",
   "execution_count": 40,
   "id": "51564439",
   "metadata": {},
   "outputs": [
    {
     "name": "stdout",
     "output_type": "stream",
     "text": [
      "['DirEntry', 'F_OK', 'MutableMapping', 'O_APPEND', 'O_BINARY', 'O_CREAT', 'O_EXCL', 'O_NOINHERIT', 'O_RANDOM', 'O_RDONLY', 'O_RDWR', 'O_SEQUENTIAL', 'O_SHORT_LIVED', 'O_TEMPORARY', 'O_TEXT', 'O_TRUNC', 'O_WRONLY', 'P_DETACH', 'P_NOWAIT', 'P_NOWAITO', 'P_OVERLAY', 'P_WAIT', 'PathLike', 'R_OK', 'SEEK_CUR', 'SEEK_END', 'SEEK_SET', 'TMP_MAX', 'W_OK', 'X_OK', '_AddedDllDirectory', '_Environ', '__all__', '__builtins__', '__cached__', '__doc__', '__file__', '__loader__', '__name__', '__package__', '__spec__', '_check_methods', '_execvpe', '_exists', '_exit', '_fspath', '_get_exports_list', '_putenv', '_unsetenv', '_wrap_close', 'abc', 'abort', 'access', 'add_dll_directory', 'altsep', 'chdir', 'chmod', 'close', 'closerange', 'cpu_count', 'curdir', 'defpath', 'device_encoding', 'devnull', 'dup', 'dup2', 'environ', 'error', 'execl', 'execle', 'execlp', 'execlpe', 'execv', 'execve', 'execvp', 'execvpe', 'extsep', 'fdopen', 'fsdecode', 'fsencode', 'fspath', 'fstat', 'fsync', 'ftruncate', 'get_exec_path', 'get_handle_inheritable', 'get_inheritable', 'get_terminal_size', 'getcwd', 'getcwdb', 'getenv', 'getlogin', 'getpid', 'getppid', 'isatty', 'kill', 'linesep', 'link', 'listdir', 'lseek', 'lstat', 'makedirs', 'mkdir', 'name', 'open', 'pardir', 'path', 'pathsep', 'pipe', 'popen', 'putenv', 'read', 'readlink', 'remove', 'removedirs', 'rename', 'renames', 'replace', 'rmdir', 'scandir', 'sep', 'set_handle_inheritable', 'set_inheritable', 'spawnl', 'spawnle', 'spawnv', 'spawnve', 'st', 'startfile', 'stat', 'stat_result', 'statvfs_result', 'strerror', 'supports_bytes_environ', 'supports_dir_fd', 'supports_effective_ids', 'supports_fd', 'supports_follow_symlinks', 'symlink', 'sys', 'system', 'terminal_size', 'times', 'times_result', 'truncate', 'umask', 'uname_result', 'unlink', 'urandom', 'utime', 'waitpid', 'walk', 'write']\n"
     ]
    }
   ],
   "source": [
    "print(dir(os))"
   ]
  },
  {
   "cell_type": "code",
   "execution_count": 41,
   "id": "837515b6",
   "metadata": {},
   "outputs": [
    {
     "data": {
      "text/plain": [
       "'C:\\\\Users\\\\skme2\\\\Downloads'"
      ]
     },
     "execution_count": 41,
     "metadata": {},
     "output_type": "execute_result"
    }
   ],
   "source": [
    "os.getcwd()"
   ]
  },
  {
   "cell_type": "code",
   "execution_count": 43,
   "id": "c401f2f7",
   "metadata": {},
   "outputs": [],
   "source": [
    "os.makedirs('practice1')"
   ]
  },
  {
   "cell_type": "code",
   "execution_count": 44,
   "id": "c6fc1c48",
   "metadata": {},
   "outputs": [],
   "source": [
    "\n",
    "os.mkdir(\"newly_created\")"
   ]
  },
  {
   "cell_type": "code",
   "execution_count": 45,
   "id": "c7e89c87",
   "metadata": {},
   "outputs": [],
   "source": [
    "os.remove('myfile.txt')"
   ]
  },
  {
   "cell_type": "code",
   "execution_count": 46,
   "id": "855657b0",
   "metadata": {},
   "outputs": [],
   "source": [
    "os.removedirs('newly_created/')"
   ]
  },
  {
   "cell_type": "code",
   "execution_count": 47,
   "id": "bd05f765",
   "metadata": {},
   "outputs": [],
   "source": [
    "os.removedirs('practice1/')"
   ]
  },
  {
   "cell_type": "code",
   "execution_count": 48,
   "id": "a2585394",
   "metadata": {},
   "outputs": [],
   "source": [
    "import sys"
   ]
  },
  {
   "cell_type": "code",
   "execution_count": 49,
   "id": "87b36571",
   "metadata": {},
   "outputs": [
    {
     "data": {
      "text/plain": [
       "'3.8.8 (default, Apr 13 2021, 15:08:03) [MSC v.1916 64 bit (AMD64)]'"
      ]
     },
     "execution_count": 49,
     "metadata": {},
     "output_type": "execute_result"
    }
   ],
   "source": [
    "sys.version"
   ]
  },
  {
   "cell_type": "code",
   "execution_count": 50,
   "id": "3c1a1a8b",
   "metadata": {},
   "outputs": [
    {
     "data": {
      "text/plain": [
       "sys.version_info(major=3, minor=8, micro=8, releaselevel='final', serial=0)"
      ]
     },
     "execution_count": 50,
     "metadata": {},
     "output_type": "execute_result"
    }
   ],
   "source": [
    "sys.version_info"
   ]
  },
  {
   "cell_type": "code",
   "execution_count": 51,
   "id": "87923a01",
   "metadata": {},
   "outputs": [
    {
     "data": {
      "text/plain": [
       "['C:\\\\Users\\\\skme2\\\\Downloads',\n",
       " 'C:\\\\Users\\\\skme2\\\\anaconda3\\\\python38.zip',\n",
       " 'C:\\\\Users\\\\skme2\\\\anaconda3\\\\DLLs',\n",
       " 'C:\\\\Users\\\\skme2\\\\anaconda3\\\\lib',\n",
       " 'C:\\\\Users\\\\skme2\\\\anaconda3',\n",
       " '',\n",
       " 'C:\\\\Users\\\\skme2\\\\AppData\\\\Roaming\\\\Python\\\\Python38\\\\site-packages',\n",
       " 'C:\\\\Users\\\\skme2\\\\anaconda3\\\\lib\\\\site-packages',\n",
       " 'C:\\\\Users\\\\skme2\\\\Downloads\\\\p1\\\\FSDS_NOV_deepCNNClassifier\\\\src',\n",
       " 'C:\\\\Users\\\\skme2\\\\anaconda3\\\\lib\\\\site-packages\\\\locket-0.2.1-py3.8.egg',\n",
       " 'C:\\\\Users\\\\skme2\\\\anaconda3\\\\lib\\\\site-packages\\\\win32',\n",
       " 'C:\\\\Users\\\\skme2\\\\anaconda3\\\\lib\\\\site-packages\\\\win32\\\\lib',\n",
       " 'C:\\\\Users\\\\skme2\\\\anaconda3\\\\lib\\\\site-packages\\\\Pythonwin',\n",
       " 'C:\\\\Users\\\\skme2\\\\anaconda3\\\\lib\\\\site-packages\\\\IPython\\\\extensions',\n",
       " 'C:\\\\Users\\\\skme2\\\\.ipython']"
      ]
     },
     "execution_count": 51,
     "metadata": {},
     "output_type": "execute_result"
    }
   ],
   "source": [
    "sys.path"
   ]
  },
  {
   "cell_type": "code",
   "execution_count": 54,
   "id": "4fa37c2c",
   "metadata": {},
   "outputs": [
    {
     "data": {
      "text/plain": [
       "(None, None, None)"
      ]
     },
     "execution_count": 54,
     "metadata": {},
     "output_type": "execute_result"
    }
   ],
   "source": [
    "sys.exc_info()"
   ]
  },
  {
   "cell_type": "code",
   "execution_count": 55,
   "id": "6b32b2a0",
   "metadata": {},
   "outputs": [],
   "source": [
    "import datetime"
   ]
  },
  {
   "cell_type": "code",
   "execution_count": 56,
   "id": "611e6c2c",
   "metadata": {},
   "outputs": [
    {
     "data": {
      "text/plain": [
       "datetime.datetime(2023, 6, 3, 9, 44, 41, 40215)"
      ]
     },
     "execution_count": 56,
     "metadata": {},
     "output_type": "execute_result"
    }
   ],
   "source": [
    "datetime.datetime.now()"
   ]
  },
  {
   "cell_type": "code",
   "execution_count": 57,
   "id": "2621da9d",
   "metadata": {},
   "outputs": [],
   "source": [
    "import math"
   ]
  },
  {
   "cell_type": "code",
   "execution_count": 58,
   "id": "53a10323",
   "metadata": {},
   "outputs": [],
   "source": [
    "import math as m"
   ]
  },
  {
   "cell_type": "code",
   "execution_count": 59,
   "id": "e2b5fccb",
   "metadata": {},
   "outputs": [
    {
     "data": {
      "text/plain": [
       "120"
      ]
     },
     "execution_count": 59,
     "metadata": {},
     "output_type": "execute_result"
    }
   ],
   "source": [
    "m.factorial(5)"
   ]
  },
  {
   "cell_type": "code",
   "execution_count": 60,
   "id": "bcb21b8b",
   "metadata": {},
   "outputs": [],
   "source": [
    "from math import factorial"
   ]
  },
  {
   "cell_type": "code",
   "execution_count": 61,
   "id": "241a7575",
   "metadata": {},
   "outputs": [
    {
     "data": {
      "text/plain": [
       "120"
      ]
     },
     "execution_count": 61,
     "metadata": {},
     "output_type": "execute_result"
    }
   ],
   "source": [
    "factorial(5)"
   ]
  },
  {
   "cell_type": "code",
   "execution_count": 62,
   "id": "c870a859",
   "metadata": {},
   "outputs": [],
   "source": [
    "from math import *"
   ]
  },
  {
   "cell_type": "code",
   "execution_count": 64,
   "id": "9d749ee2",
   "metadata": {},
   "outputs": [],
   "source": [
    "#import Game"
   ]
  },
  {
   "cell_type": "code",
   "execution_count": 66,
   "id": "c1f13aed",
   "metadata": {},
   "outputs": [],
   "source": [
    "#import Game.Image.open"
   ]
  },
  {
   "cell_type": "code",
   "execution_count": 68,
   "id": "010a45bc",
   "metadata": {},
   "outputs": [],
   "source": [
    "#import Game.Image"
   ]
  },
  {
   "cell_type": "code",
   "execution_count": 70,
   "id": "6d520201",
   "metadata": {},
   "outputs": [],
   "source": [
    "#from game import Image"
   ]
  },
  {
   "cell_type": "code",
   "execution_count": 72,
   "id": "cc67c3b6",
   "metadata": {},
   "outputs": [],
   "source": [
    "#from Game.Image import Open"
   ]
  },
  {
   "cell_type": "code",
   "execution_count": 73,
   "id": "df7809b9",
   "metadata": {},
   "outputs": [
    {
     "name": "stdout",
     "output_type": "stream",
     "text": [
      "I will have some functionality in this modules\n"
     ]
    }
   ],
   "source": [
    "import Mycustom03"
   ]
  },
  {
   "cell_type": "code",
   "execution_count": 74,
   "id": "8f22ab75",
   "metadata": {},
   "outputs": [
    {
     "data": {
      "text/plain": [
       "'Hellosanjay Kumar'"
      ]
     },
     "execution_count": 74,
     "metadata": {},
     "output_type": "execute_result"
    }
   ],
   "source": [
    "Mycustom03.greetings('sanjay Kumar')"
   ]
  },
  {
   "cell_type": "code",
   "execution_count": 75,
   "id": "630ebdc2",
   "metadata": {},
   "outputs": [],
   "source": [
    "import Mycustom03"
   ]
  },
  {
   "cell_type": "code",
   "execution_count": 76,
   "id": "0f462c3f",
   "metadata": {},
   "outputs": [
    {
     "data": {
      "text/plain": [
       "'Hellorohit'"
      ]
     },
     "execution_count": 76,
     "metadata": {},
     "output_type": "execute_result"
    }
   ],
   "source": [
    "Mycustom03.greetings('rohit')"
   ]
  },
  {
   "cell_type": "code",
   "execution_count": 77,
   "id": "b01a0d92",
   "metadata": {},
   "outputs": [
    {
     "name": "stdout",
     "output_type": "stream",
     "text": [
      "HelloMohit\n",
      "Project Module Name: Project03\n"
     ]
    }
   ],
   "source": [
    "import Project03"
   ]
  },
  {
   "cell_type": "code",
   "execution_count": null,
   "id": "764ed1ed",
   "metadata": {},
   "outputs": [],
   "source": []
  }
 ],
 "metadata": {
  "kernelspec": {
   "display_name": "Python 3",
   "language": "python",
   "name": "python3"
  },
  "language_info": {
   "codemirror_mode": {
    "name": "ipython",
    "version": 3
   },
   "file_extension": ".py",
   "mimetype": "text/x-python",
   "name": "python",
   "nbconvert_exporter": "python",
   "pygments_lexer": "ipython3",
   "version": "3.8.8"
  }
 },
 "nbformat": 4,
 "nbformat_minor": 5
}
