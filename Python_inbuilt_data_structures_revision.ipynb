{
 "cells": [
  {
   "cell_type": "code",
   "execution_count": 1,
   "id": "4958b7d2",
   "metadata": {},
   "outputs": [],
   "source": [
    "#String"
   ]
  },
  {
   "cell_type": "code",
   "execution_count": 2,
   "id": "6955ab64",
   "metadata": {},
   "outputs": [],
   "source": [
    "my_str = \"Welcome to the Course\""
   ]
  },
  {
   "cell_type": "code",
   "execution_count": 3,
   "id": "65edc137",
   "metadata": {},
   "outputs": [
    {
     "name": "stdout",
     "output_type": "stream",
     "text": [
      "Welcome to the Course\n"
     ]
    }
   ],
   "source": [
    "\n",
    "print(my_str)"
   ]
  },
  {
   "cell_type": "code",
   "execution_count": 5,
   "id": "e01e0de4",
   "metadata": {},
   "outputs": [
    {
     "name": "stdout",
     "output_type": "stream",
     "text": [
      "<class 'str'>\n"
     ]
    }
   ],
   "source": [
    "print(type(my_str))"
   ]
  },
  {
   "cell_type": "code",
   "execution_count": 6,
   "id": "07d59b57",
   "metadata": {},
   "outputs": [
    {
     "data": {
      "text/plain": [
       "'W'"
      ]
     },
     "execution_count": 6,
     "metadata": {},
     "output_type": "execute_result"
    }
   ],
   "source": [
    "my_str[0]"
   ]
  },
  {
   "cell_type": "code",
   "execution_count": 7,
   "id": "8ed4c145",
   "metadata": {},
   "outputs": [
    {
     "data": {
      "text/plain": [
       "'e'"
      ]
     },
     "execution_count": 7,
     "metadata": {},
     "output_type": "execute_result"
    }
   ],
   "source": [
    "my_str[1]"
   ]
  },
  {
   "cell_type": "code",
   "execution_count": 9,
   "id": "1d3168aa",
   "metadata": {},
   "outputs": [
    {
     "name": "stdout",
     "output_type": "stream",
     "text": [
      "21\n"
     ]
    }
   ],
   "source": [
    "print(len(my_str))"
   ]
  },
  {
   "cell_type": "code",
   "execution_count": 10,
   "id": "45d61f80",
   "metadata": {},
   "outputs": [
    {
     "data": {
      "text/plain": [
       "'e'"
      ]
     },
     "execution_count": 10,
     "metadata": {},
     "output_type": "execute_result"
    }
   ],
   "source": [
    "my_str[20]"
   ]
  },
  {
   "cell_type": "code",
   "execution_count": 15,
   "id": "4a99319b",
   "metadata": {},
   "outputs": [
    {
     "name": "stdout",
     "output_type": "stream",
     "text": [
      "e\n"
     ]
    }
   ],
   "source": [
    "print(my_str[len(my_str)-1])"
   ]
  },
  {
   "cell_type": "code",
   "execution_count": 16,
   "id": "615c6dfc",
   "metadata": {},
   "outputs": [
    {
     "data": {
      "text/plain": [
       "'e'"
      ]
     },
     "execution_count": 16,
     "metadata": {},
     "output_type": "execute_result"
    }
   ],
   "source": [
    "my_str[-1]"
   ]
  },
  {
   "cell_type": "code",
   "execution_count": 17,
   "id": "ba896c43",
   "metadata": {},
   "outputs": [
    {
     "data": {
      "text/plain": [
       "'o'"
      ]
     },
     "execution_count": 17,
     "metadata": {},
     "output_type": "execute_result"
    }
   ],
   "source": [
    "my_str[-5]"
   ]
  },
  {
   "cell_type": "code",
   "execution_count": 18,
   "id": "e885dc95",
   "metadata": {},
   "outputs": [
    {
     "name": "stdout",
     "output_type": "stream",
     "text": [
      "Welcome to the Course\n"
     ]
    }
   ],
   "source": [
    "print(my_str)"
   ]
  },
  {
   "cell_type": "code",
   "execution_count": 19,
   "id": "cc6270ed",
   "metadata": {},
   "outputs": [
    {
     "data": {
      "text/plain": [
       "'Welcome'"
      ]
     },
     "execution_count": 19,
     "metadata": {},
     "output_type": "execute_result"
    }
   ],
   "source": [
    "my_str[0:7]"
   ]
  },
  {
   "cell_type": "code",
   "execution_count": 20,
   "id": "420ccddc",
   "metadata": {},
   "outputs": [
    {
     "data": {
      "text/plain": [
       "'ome to the '"
      ]
     },
     "execution_count": 20,
     "metadata": {},
     "output_type": "execute_result"
    }
   ],
   "source": [
    "my_str[4:15]"
   ]
  },
  {
   "cell_type": "code",
   "execution_count": 21,
   "id": "79d5dd1c",
   "metadata": {},
   "outputs": [
    {
     "data": {
      "text/plain": [
       "'Welcome to the Cours'"
      ]
     },
     "execution_count": 21,
     "metadata": {},
     "output_type": "execute_result"
    }
   ],
   "source": [
    "my_str[0:-1]"
   ]
  },
  {
   "cell_type": "code",
   "execution_count": 22,
   "id": "cb839e43",
   "metadata": {},
   "outputs": [
    {
     "data": {
      "text/plain": [
       "'Welcome to the Course'"
      ]
     },
     "execution_count": 22,
     "metadata": {},
     "output_type": "execute_result"
    }
   ],
   "source": [
    "my_str[:]"
   ]
  },
  {
   "cell_type": "code",
   "execution_count": 23,
   "id": "c7d69118",
   "metadata": {},
   "outputs": [
    {
     "data": {
      "text/plain": [
       "'esruoC eht ot emocleW'"
      ]
     },
     "execution_count": 23,
     "metadata": {},
     "output_type": "execute_result"
    }
   ],
   "source": [
    "my_str[::-1]"
   ]
  },
  {
   "cell_type": "code",
   "execution_count": 26,
   "id": "581ef1c1",
   "metadata": {},
   "outputs": [
    {
     "data": {
      "text/plain": [
       "'lmtt ue'"
      ]
     },
     "execution_count": 26,
     "metadata": {},
     "output_type": "execute_result"
    }
   ],
   "source": [
    "my_str[2:24:3]"
   ]
  },
  {
   "cell_type": "code",
   "execution_count": 28,
   "id": "df34f4f5",
   "metadata": {},
   "outputs": [
    {
     "data": {
      "text/plain": [
       "'ero h te'"
      ]
     },
     "execution_count": 28,
     "metadata": {},
     "output_type": "execute_result"
    }
   ],
   "source": [
    "my_str[20:5:-2]"
   ]
  },
  {
   "cell_type": "code",
   "execution_count": 29,
   "id": "53f4fe5e",
   "metadata": {},
   "outputs": [
    {
     "name": "stdout",
     "output_type": "stream",
     "text": [
      "Welcome to the Course\n"
     ]
    }
   ],
   "source": [
    "print(my_str)"
   ]
  },
  {
   "cell_type": "code",
   "execution_count": 30,
   "id": "9ea21966",
   "metadata": {},
   "outputs": [
    {
     "data": {
      "text/plain": [
       "'Welcome to the course'"
      ]
     },
     "execution_count": 30,
     "metadata": {},
     "output_type": "execute_result"
    }
   ],
   "source": [
    "my_str.capitalize()"
   ]
  },
  {
   "cell_type": "code",
   "execution_count": 31,
   "id": "83996ce4",
   "metadata": {},
   "outputs": [
    {
     "data": {
      "text/plain": [
       "'Welcome To The Course'"
      ]
     },
     "execution_count": 31,
     "metadata": {},
     "output_type": "execute_result"
    }
   ],
   "source": [
    "my_str.title()"
   ]
  },
  {
   "cell_type": "code",
   "execution_count": 32,
   "id": "ea3e6bfb",
   "metadata": {},
   "outputs": [
    {
     "data": {
      "text/plain": [
       "'WELCOME TO THE COURSE'"
      ]
     },
     "execution_count": 32,
     "metadata": {},
     "output_type": "execute_result"
    }
   ],
   "source": [
    "my_str.upper()"
   ]
  },
  {
   "cell_type": "code",
   "execution_count": 33,
   "id": "f478a017",
   "metadata": {},
   "outputs": [
    {
     "data": {
      "text/plain": [
       "'welcome to the course'"
      ]
     },
     "execution_count": 33,
     "metadata": {},
     "output_type": "execute_result"
    }
   ],
   "source": [
    "my_str.lower()"
   ]
  },
  {
   "cell_type": "code",
   "execution_count": 35,
   "id": "5c754d7f",
   "metadata": {},
   "outputs": [
    {
     "data": {
      "text/plain": [
       "3"
      ]
     },
     "execution_count": 35,
     "metadata": {},
     "output_type": "execute_result"
    }
   ],
   "source": [
    "my_str.find('come')"
   ]
  },
  {
   "cell_type": "code",
   "execution_count": 38,
   "id": "05123f86",
   "metadata": {},
   "outputs": [
    {
     "data": {
      "text/plain": [
       "-1"
      ]
     },
     "execution_count": 38,
     "metadata": {},
     "output_type": "execute_result"
    }
   ],
   "source": [
    "my_str.find('THE')"
   ]
  },
  {
   "cell_type": "code",
   "execution_count": 40,
   "id": "6bd0a409",
   "metadata": {},
   "outputs": [
    {
     "data": {
      "text/plain": [
       "['Welc', 'me t', ' the C', 'urse']"
      ]
     },
     "execution_count": 40,
     "metadata": {},
     "output_type": "execute_result"
    }
   ],
   "source": [
    "my_str.split('o')"
   ]
  },
  {
   "cell_type": "code",
   "execution_count": 44,
   "id": "8428d8f5",
   "metadata": {},
   "outputs": [
    {
     "data": {
      "text/plain": [
       "1"
      ]
     },
     "execution_count": 44,
     "metadata": {},
     "output_type": "execute_result"
    }
   ],
   "source": [
    "my_str.count('the')"
   ]
  },
  {
   "cell_type": "code",
   "execution_count": 47,
   "id": "23f57d66",
   "metadata": {},
   "outputs": [],
   "source": [
    "my_str = my_str.replace(\"Course\", \"Programme\")"
   ]
  },
  {
   "cell_type": "code",
   "execution_count": 48,
   "id": "261558d3",
   "metadata": {},
   "outputs": [
    {
     "name": "stdout",
     "output_type": "stream",
     "text": [
      "Welcome to the Programme\n"
     ]
    }
   ],
   "source": [
    "print(my_str)"
   ]
  },
  {
   "cell_type": "code",
   "execution_count": 49,
   "id": "843f14bd",
   "metadata": {},
   "outputs": [
    {
     "name": "stdout",
     "output_type": "stream",
     "text": [
      "enter your estring:        sanjay kumar      \n"
     ]
    }
   ],
   "source": [
    "name = input(\"enter your estring:\", )"
   ]
  },
  {
   "cell_type": "code",
   "execution_count": 50,
   "id": "5706ba0e",
   "metadata": {},
   "outputs": [
    {
     "data": {
      "text/plain": [
       "'        sanjay kumar      '"
      ]
     },
     "execution_count": 50,
     "metadata": {},
     "output_type": "execute_result"
    }
   ],
   "source": [
    "name"
   ]
  },
  {
   "cell_type": "code",
   "execution_count": 51,
   "id": "d64501e7",
   "metadata": {},
   "outputs": [
    {
     "data": {
      "text/plain": [
       "'sanjay kumar      '"
      ]
     },
     "execution_count": 51,
     "metadata": {},
     "output_type": "execute_result"
    }
   ],
   "source": [
    "name.lstrip()"
   ]
  },
  {
   "cell_type": "code",
   "execution_count": 52,
   "id": "76027f02",
   "metadata": {},
   "outputs": [
    {
     "data": {
      "text/plain": [
       "'        sanjay kumar'"
      ]
     },
     "execution_count": 52,
     "metadata": {},
     "output_type": "execute_result"
    }
   ],
   "source": [
    "name.rstrip()"
   ]
  },
  {
   "cell_type": "code",
   "execution_count": 53,
   "id": "f91c7c4f",
   "metadata": {},
   "outputs": [
    {
     "data": {
      "text/plain": [
       "'sanjay kumar'"
      ]
     },
     "execution_count": 53,
     "metadata": {},
     "output_type": "execute_result"
    }
   ],
   "source": [
    "name.strip()"
   ]
  },
  {
   "cell_type": "code",
   "execution_count": 54,
   "id": "f8461022",
   "metadata": {},
   "outputs": [],
   "source": [
    "s1 = \"abc\"\n",
    "s2 = \"pqr\""
   ]
  },
  {
   "cell_type": "code",
   "execution_count": 55,
   "id": "f5ace02c",
   "metadata": {},
   "outputs": [
    {
     "data": {
      "text/plain": [
       "'abcpqr'"
      ]
     },
     "execution_count": 55,
     "metadata": {},
     "output_type": "execute_result"
    }
   ],
   "source": [
    "s1+s2"
   ]
  },
  {
   "cell_type": "code",
   "execution_count": 57,
   "id": "0e2859a0",
   "metadata": {},
   "outputs": [
    {
     "data": {
      "text/plain": [
       "'abc5'"
      ]
     },
     "execution_count": 57,
     "metadata": {},
     "output_type": "execute_result"
    }
   ],
   "source": [
    "s1+str(5)"
   ]
  },
  {
   "cell_type": "code",
   "execution_count": 58,
   "id": "34448eac",
   "metadata": {},
   "outputs": [
    {
     "data": {
      "text/plain": [
       "'deep learningdeep learningdeep learningdeep learningdeep learning'"
      ]
     },
     "execution_count": 58,
     "metadata": {},
     "output_type": "execute_result"
    }
   ],
   "source": [
    "\"deep learning\"*5"
   ]
  },
  {
   "cell_type": "code",
   "execution_count": 65,
   "id": "5df9fcab",
   "metadata": {},
   "outputs": [],
   "source": [
    "inp_str = \"we are learning data science machine learning deep learning.\""
   ]
  },
  {
   "cell_type": "code",
   "execution_count": 66,
   "id": "c8091054",
   "metadata": {},
   "outputs": [
    {
     "name": "stdout",
     "output_type": "stream",
     "text": [
      "the number of vowels in the given string are 22\n"
     ]
    }
   ],
   "source": [
    "count = 0\n",
    "for i in inp_str:\n",
    "    if i in \"aeiouAEIOU\":\n",
    "        count+=1\n",
    "        \n",
    "print(f'the number of vowels in the given string are {count}')\n",
    "    "
   ]
  },
  {
   "cell_type": "code",
   "execution_count": 70,
   "id": "a1217048",
   "metadata": {},
   "outputs": [],
   "source": [
    "inp_str = \"coding\"\n"
   ]
  },
  {
   "cell_type": "code",
   "execution_count": 71,
   "id": "e3356560",
   "metadata": {},
   "outputs": [],
   "source": [
    "rev_str = inp_str[::-1]"
   ]
  },
  {
   "cell_type": "code",
   "execution_count": 72,
   "id": "2c5e1134",
   "metadata": {},
   "outputs": [
    {
     "name": "stdout",
     "output_type": "stream",
     "text": [
      "The given string {} is not palindrome\n"
     ]
    }
   ],
   "source": [
    "if inp_str==rev_str:\n",
    "    print(f\"the given string {inp_str} is palindrome\")\n",
    "else:\n",
    "    print(\"The given string {} is not palindrome\")"
   ]
  },
  {
   "cell_type": "code",
   "execution_count": 79,
   "id": "a7c7d976",
   "metadata": {},
   "outputs": [
    {
     "name": "stdout",
     "output_type": "stream",
     "text": [
      "The given string python is not palindrome\n"
     ]
    }
   ],
   "source": [
    "inp_str = \"python\"\n",
    "start = 0\n",
    "end = len(inp_str)-1\n",
    "\n",
    "is_palindrome = True\n",
    "\n",
    "while start<=end:\n",
    "    if inp_str[start] != inp_str[end]:\n",
    "        is_palindrome = False\n",
    "        break\n",
    "        \n",
    "    start+=1\n",
    "    end-=1\n",
    "    \n",
    "if is_palindrome:\n",
    "    print(f\"the given string {inp_str} is palindrome\")\n",
    "else:\n",
    "    print(f\"The given string {inp_str} is not palindrome\")\n",
    "    \n",
    "    "
   ]
  },
  {
   "cell_type": "code",
   "execution_count": 80,
   "id": "c464eaf6",
   "metadata": {},
   "outputs": [],
   "source": [
    "y = list()"
   ]
  },
  {
   "cell_type": "code",
   "execution_count": 81,
   "id": "b9f7f9bb",
   "metadata": {},
   "outputs": [
    {
     "data": {
      "text/plain": [
       "list"
      ]
     },
     "execution_count": 81,
     "metadata": {},
     "output_type": "execute_result"
    }
   ],
   "source": [
    "type(y)"
   ]
  },
  {
   "cell_type": "code",
   "execution_count": 82,
   "id": "5173980c",
   "metadata": {},
   "outputs": [],
   "source": [
    "k = []"
   ]
  },
  {
   "cell_type": "code",
   "execution_count": 83,
   "id": "ba0d9f06",
   "metadata": {
    "scrolled": true
   },
   "outputs": [
    {
     "data": {
      "text/plain": [
       "list"
      ]
     },
     "execution_count": 83,
     "metadata": {},
     "output_type": "execute_result"
    }
   ],
   "source": [
    "type(k)"
   ]
  },
  {
   "cell_type": "code",
   "execution_count": 85,
   "id": "d74a71fb",
   "metadata": {},
   "outputs": [],
   "source": [
    "my_lst = [6,3,2,8,4]"
   ]
  },
  {
   "cell_type": "code",
   "execution_count": 86,
   "id": "f2fc6d55",
   "metadata": {},
   "outputs": [
    {
     "name": "stdout",
     "output_type": "stream",
     "text": [
      "[6, 3, 2, 8, 4]\n"
     ]
    }
   ],
   "source": [
    "print(my_lst)"
   ]
  },
  {
   "cell_type": "code",
   "execution_count": 87,
   "id": "8d3d77e9",
   "metadata": {},
   "outputs": [
    {
     "data": {
      "text/plain": [
       "list"
      ]
     },
     "execution_count": 87,
     "metadata": {},
     "output_type": "execute_result"
    }
   ],
   "source": [
    "\n",
    "type(my_lst)"
   ]
  },
  {
   "cell_type": "code",
   "execution_count": 88,
   "id": "80b6d970",
   "metadata": {},
   "outputs": [
    {
     "data": {
      "text/plain": [
       "6"
      ]
     },
     "execution_count": 88,
     "metadata": {},
     "output_type": "execute_result"
    }
   ],
   "source": [
    "my_lst[0]"
   ]
  },
  {
   "cell_type": "code",
   "execution_count": 89,
   "id": "a432b739",
   "metadata": {},
   "outputs": [
    {
     "data": {
      "text/plain": [
       "3"
      ]
     },
     "execution_count": 89,
     "metadata": {},
     "output_type": "execute_result"
    }
   ],
   "source": [
    "my_lst[1]"
   ]
  },
  {
   "cell_type": "code",
   "execution_count": 90,
   "id": "d37d0e5f",
   "metadata": {},
   "outputs": [
    {
     "data": {
      "text/plain": [
       "8"
      ]
     },
     "execution_count": 90,
     "metadata": {},
     "output_type": "execute_result"
    }
   ],
   "source": [
    "my_lst[3]"
   ]
  },
  {
   "cell_type": "code",
   "execution_count": 91,
   "id": "5ba2f08a",
   "metadata": {},
   "outputs": [
    {
     "data": {
      "text/plain": [
       "4"
      ]
     },
     "execution_count": 91,
     "metadata": {},
     "output_type": "execute_result"
    }
   ],
   "source": [
    "my_lst[-1]"
   ]
  },
  {
   "cell_type": "code",
   "execution_count": 92,
   "id": "88178f5b",
   "metadata": {},
   "outputs": [
    {
     "data": {
      "text/plain": [
       "[3, 2, 8]"
      ]
     },
     "execution_count": 92,
     "metadata": {},
     "output_type": "execute_result"
    }
   ],
   "source": [
    "my_lst[1:-1]"
   ]
  },
  {
   "cell_type": "code",
   "execution_count": 93,
   "id": "5512153b",
   "metadata": {},
   "outputs": [
    {
     "data": {
      "text/plain": [
       "[6, 3, 2, 8, 4]"
      ]
     },
     "execution_count": 93,
     "metadata": {},
     "output_type": "execute_result"
    }
   ],
   "source": [
    "my_lst[:]"
   ]
  },
  {
   "cell_type": "code",
   "execution_count": 94,
   "id": "6ffbc75c",
   "metadata": {},
   "outputs": [
    {
     "data": {
      "text/plain": [
       "[4, 8, 2, 3, 6]"
      ]
     },
     "execution_count": 94,
     "metadata": {},
     "output_type": "execute_result"
    }
   ],
   "source": [
    "my_lst[::-1]"
   ]
  },
  {
   "cell_type": "code",
   "execution_count": 95,
   "id": "77c64957",
   "metadata": {},
   "outputs": [
    {
     "data": {
      "text/plain": [
       "2"
      ]
     },
     "execution_count": 95,
     "metadata": {},
     "output_type": "execute_result"
    }
   ],
   "source": [
    "my_lst[2]"
   ]
  },
  {
   "cell_type": "code",
   "execution_count": 96,
   "id": "6cdf6762",
   "metadata": {},
   "outputs": [
    {
     "data": {
      "text/plain": [
       "[6, 3, 2, 8, 4]"
      ]
     },
     "execution_count": 96,
     "metadata": {},
     "output_type": "execute_result"
    }
   ],
   "source": [
    "my_lst"
   ]
  },
  {
   "cell_type": "code",
   "execution_count": 98,
   "id": "023189ba",
   "metadata": {},
   "outputs": [],
   "source": [
    "my_lst[2] = 200"
   ]
  },
  {
   "cell_type": "code",
   "execution_count": 99,
   "id": "45696690",
   "metadata": {},
   "outputs": [
    {
     "data": {
      "text/plain": [
       "[6, 3, 200, 8, 4]"
      ]
     },
     "execution_count": 99,
     "metadata": {},
     "output_type": "execute_result"
    }
   ],
   "source": [
    "my_lst"
   ]
  },
  {
   "cell_type": "code",
   "execution_count": 100,
   "id": "007bee6e",
   "metadata": {},
   "outputs": [
    {
     "name": "stdout",
     "output_type": "stream",
     "text": [
      "[6, 3, 200, 8, 4]\n"
     ]
    }
   ],
   "source": [
    "print(my_lst\n",
    "     )"
   ]
  },
  {
   "cell_type": "code",
   "execution_count": 101,
   "id": "da67e1c7",
   "metadata": {},
   "outputs": [],
   "source": [
    "my_lst.append(100)"
   ]
  },
  {
   "cell_type": "code",
   "execution_count": 102,
   "id": "26845901",
   "metadata": {},
   "outputs": [
    {
     "data": {
      "text/plain": [
       "[6, 3, 200, 8, 4, 100]"
      ]
     },
     "execution_count": 102,
     "metadata": {},
     "output_type": "execute_result"
    }
   ],
   "source": [
    "my_lst"
   ]
  },
  {
   "cell_type": "code",
   "execution_count": 103,
   "id": "854f1b46",
   "metadata": {},
   "outputs": [
    {
     "name": "stdout",
     "output_type": "stream",
     "text": [
      "[6, 3, 200, 8, 4, 100]\n"
     ]
    }
   ],
   "source": [
    "print(my_lst)"
   ]
  },
  {
   "cell_type": "code",
   "execution_count": 104,
   "id": "e510eaf2",
   "metadata": {},
   "outputs": [],
   "source": [
    "my_lst.insert(3,500)"
   ]
  },
  {
   "cell_type": "code",
   "execution_count": 105,
   "id": "a7ce2739",
   "metadata": {},
   "outputs": [
    {
     "data": {
      "text/plain": [
       "[6, 3, 200, 500, 8, 4, 100]"
      ]
     },
     "execution_count": 105,
     "metadata": {},
     "output_type": "execute_result"
    }
   ],
   "source": [
    "my_lst"
   ]
  },
  {
   "cell_type": "code",
   "execution_count": 106,
   "id": "d2ce4389",
   "metadata": {},
   "outputs": [
    {
     "data": {
      "text/plain": [
       "100"
      ]
     },
     "execution_count": 106,
     "metadata": {},
     "output_type": "execute_result"
    }
   ],
   "source": [
    "\n",
    "my_lst.pop()\n"
   ]
  },
  {
   "cell_type": "code",
   "execution_count": 107,
   "id": "cddbef03",
   "metadata": {},
   "outputs": [
    {
     "data": {
      "text/plain": [
       "[6, 3, 200, 500, 8, 4]"
      ]
     },
     "execution_count": 107,
     "metadata": {},
     "output_type": "execute_result"
    }
   ],
   "source": [
    "my_lst"
   ]
  },
  {
   "cell_type": "code",
   "execution_count": 108,
   "id": "6ea6c974",
   "metadata": {},
   "outputs": [
    {
     "data": {
      "text/plain": [
       "200"
      ]
     },
     "execution_count": 108,
     "metadata": {},
     "output_type": "execute_result"
    }
   ],
   "source": [
    "my_lst.pop(2)"
   ]
  },
  {
   "cell_type": "code",
   "execution_count": 109,
   "id": "e10872dd",
   "metadata": {},
   "outputs": [
    {
     "data": {
      "text/plain": [
       "[6, 3, 500, 8, 4]"
      ]
     },
     "execution_count": 109,
     "metadata": {},
     "output_type": "execute_result"
    }
   ],
   "source": [
    "\n",
    "my_lst"
   ]
  },
  {
   "cell_type": "code",
   "execution_count": 110,
   "id": "28d64114",
   "metadata": {},
   "outputs": [],
   "source": [
    "my_lst.remove(500)"
   ]
  },
  {
   "cell_type": "code",
   "execution_count": 111,
   "id": "24e320e4",
   "metadata": {},
   "outputs": [
    {
     "data": {
      "text/plain": [
       "[6, 3, 8, 4]"
      ]
     },
     "execution_count": 111,
     "metadata": {},
     "output_type": "execute_result"
    }
   ],
   "source": [
    "\n",
    "my_lst"
   ]
  },
  {
   "cell_type": "code",
   "execution_count": 112,
   "id": "05045ee7",
   "metadata": {},
   "outputs": [],
   "source": [
    "my_lst.reverse()"
   ]
  },
  {
   "cell_type": "code",
   "execution_count": 113,
   "id": "9915972a",
   "metadata": {},
   "outputs": [
    {
     "data": {
      "text/plain": [
       "[4, 8, 3, 6]"
      ]
     },
     "execution_count": 113,
     "metadata": {},
     "output_type": "execute_result"
    }
   ],
   "source": [
    "my_lst"
   ]
  },
  {
   "cell_type": "code",
   "execution_count": 116,
   "id": "c41e5dc6",
   "metadata": {},
   "outputs": [],
   "source": [
    "my_lst.sort(reverse=True)"
   ]
  },
  {
   "cell_type": "code",
   "execution_count": 117,
   "id": "c1bc3b3b",
   "metadata": {},
   "outputs": [
    {
     "data": {
      "text/plain": [
       "[8, 6, 4, 3]"
      ]
     },
     "execution_count": 117,
     "metadata": {},
     "output_type": "execute_result"
    }
   ],
   "source": [
    "my_lst"
   ]
  },
  {
   "cell_type": "code",
   "execution_count": 119,
   "id": "5ced9bbf",
   "metadata": {},
   "outputs": [
    {
     "data": {
      "text/plain": [
       "True"
      ]
     },
     "execution_count": 119,
     "metadata": {},
     "output_type": "execute_result"
    }
   ],
   "source": [
    "4 in my_lst"
   ]
  },
  {
   "cell_type": "code",
   "execution_count": 121,
   "id": "890a0d67",
   "metadata": {},
   "outputs": [
    {
     "data": {
      "text/plain": [
       "False"
      ]
     },
     "execution_count": 121,
     "metadata": {},
     "output_type": "execute_result"
    }
   ],
   "source": [
    "3 not in my_lst"
   ]
  },
  {
   "cell_type": "code",
   "execution_count": 123,
   "id": "ce5dfc57",
   "metadata": {},
   "outputs": [
    {
     "data": {
      "text/plain": [
       "[8, 6, 4, 3]"
      ]
     },
     "execution_count": 123,
     "metadata": {},
     "output_type": "execute_result"
    }
   ],
   "source": [
    "my_lst"
   ]
  },
  {
   "cell_type": "code",
   "execution_count": 124,
   "id": "f67a886e",
   "metadata": {},
   "outputs": [],
   "source": [
    "my_lst.extend([400,500,600])"
   ]
  },
  {
   "cell_type": "code",
   "execution_count": 125,
   "id": "ab09202a",
   "metadata": {},
   "outputs": [
    {
     "data": {
      "text/plain": [
       "[8, 6, 4, 3, 400, 500, 600]"
      ]
     },
     "execution_count": 125,
     "metadata": {},
     "output_type": "execute_result"
    }
   ],
   "source": [
    "my_lst"
   ]
  },
  {
   "cell_type": "code",
   "execution_count": 126,
   "id": "c897c552",
   "metadata": {},
   "outputs": [],
   "source": [
    "my_lst.append([450,560,230])"
   ]
  },
  {
   "cell_type": "code",
   "execution_count": 127,
   "id": "27a113c9",
   "metadata": {},
   "outputs": [
    {
     "data": {
      "text/plain": [
       "[8, 6, 4, 3, 400, 500, 600, [450, 560, 230]]"
      ]
     },
     "execution_count": 127,
     "metadata": {},
     "output_type": "execute_result"
    }
   ],
   "source": [
    "my_lst"
   ]
  },
  {
   "cell_type": "code",
   "execution_count": 128,
   "id": "2e570dcb",
   "metadata": {},
   "outputs": [
    {
     "data": {
      "text/plain": [
       "[8, 6, 4, 3, 400, 500, 600, [450, 560, 230], 456, 123, 789]"
      ]
     },
     "execution_count": 128,
     "metadata": {},
     "output_type": "execute_result"
    }
   ],
   "source": [
    "my_lst + [456,123,789]"
   ]
  },
  {
   "cell_type": "code",
   "execution_count": 129,
   "id": "f81d9c8a",
   "metadata": {},
   "outputs": [
    {
     "data": {
      "text/plain": [
       "[8, 6, 4, 3, 400, 500, 600, [450, 560, 230]]"
      ]
     },
     "execution_count": 129,
     "metadata": {},
     "output_type": "execute_result"
    }
   ],
   "source": [
    "my_lst"
   ]
  },
  {
   "cell_type": "code",
   "execution_count": 131,
   "id": "d3109ca6",
   "metadata": {},
   "outputs": [],
   "source": [
    "my_lst2 = [23,12,2.3,4.6,5+6j,True, False, [4,5,6], (7,8,9),{4:5,6:2}, \"ppython is fun\", None]"
   ]
  },
  {
   "cell_type": "code",
   "execution_count": 132,
   "id": "080161d3",
   "metadata": {},
   "outputs": [
    {
     "data": {
      "text/plain": [
       "[23,\n",
       " 12,\n",
       " 2.3,\n",
       " 4.6,\n",
       " (5+6j),\n",
       " True,\n",
       " False,\n",
       " [4, 5, 6],\n",
       " (7, 8, 9),\n",
       " {4: 5, 6: 2},\n",
       " 'ppython is fun',\n",
       " None]"
      ]
     },
     "execution_count": 132,
     "metadata": {},
     "output_type": "execute_result"
    }
   ],
   "source": [
    "my_lst2"
   ]
  },
  {
   "cell_type": "code",
   "execution_count": 133,
   "id": "670b490c",
   "metadata": {},
   "outputs": [
    {
     "data": {
      "text/plain": [
       "list"
      ]
     },
     "execution_count": 133,
     "metadata": {},
     "output_type": "execute_result"
    }
   ],
   "source": [
    "type(my_lst2)"
   ]
  },
  {
   "cell_type": "code",
   "execution_count": 134,
   "id": "ff360c95",
   "metadata": {},
   "outputs": [
    {
     "data": {
      "text/plain": [
       "12"
      ]
     },
     "execution_count": 134,
     "metadata": {},
     "output_type": "execute_result"
    }
   ],
   "source": [
    "len(my_lst2)"
   ]
  },
  {
   "cell_type": "code",
   "execution_count": 135,
   "id": "c94f76b1",
   "metadata": {},
   "outputs": [
    {
     "ename": "TypeError",
     "evalue": "'<' not supported between instances of 'complex' and 'int'",
     "output_type": "error",
     "traceback": [
      "\u001b[1;31m---------------------------------------------------------------------------\u001b[0m",
      "\u001b[1;31mTypeError\u001b[0m                                 Traceback (most recent call last)",
      "\u001b[1;32m<ipython-input-135-8393f60a35d8>\u001b[0m in \u001b[0;36m<module>\u001b[1;34m\u001b[0m\n\u001b[1;32m----> 1\u001b[1;33m \u001b[0mmy_lst2\u001b[0m\u001b[1;33m.\u001b[0m\u001b[0msort\u001b[0m\u001b[1;33m(\u001b[0m\u001b[1;33m)\u001b[0m\u001b[1;33m\u001b[0m\u001b[1;33m\u001b[0m\u001b[0m\n\u001b[0m",
      "\u001b[1;31mTypeError\u001b[0m: '<' not supported between instances of 'complex' and 'int'"
     ]
    }
   ],
   "source": [
    "my_lst2.sort()"
   ]
  },
  {
   "cell_type": "code",
   "execution_count": 136,
   "id": "cc3d274f",
   "metadata": {},
   "outputs": [],
   "source": [
    "my_lst2.reverse()"
   ]
  },
  {
   "cell_type": "code",
   "execution_count": 137,
   "id": "bf34cbf4",
   "metadata": {},
   "outputs": [
    {
     "data": {
      "text/plain": [
       "[None,\n",
       " 'ppython is fun',\n",
       " {4: 5, 6: 2},\n",
       " (7, 8, 9),\n",
       " [4, 5, 6],\n",
       " False,\n",
       " True,\n",
       " (5+6j),\n",
       " 23,\n",
       " 12,\n",
       " 4.6,\n",
       " 2.3]"
      ]
     },
     "execution_count": 137,
     "metadata": {},
     "output_type": "execute_result"
    }
   ],
   "source": [
    "my_lst2"
   ]
  },
  {
   "cell_type": "code",
   "execution_count": 138,
   "id": "c2ece2c5",
   "metadata": {},
   "outputs": [],
   "source": [
    "s = \"we are learning python with revision\""
   ]
  },
  {
   "cell_type": "code",
   "execution_count": 140,
   "id": "ff36e638",
   "metadata": {},
   "outputs": [],
   "source": [
    "s_list = s.split()"
   ]
  },
  {
   "cell_type": "code",
   "execution_count": 143,
   "id": "8a825295",
   "metadata": {},
   "outputs": [],
   "source": [
    "s = \" \".join(s_list)"
   ]
  },
  {
   "cell_type": "code",
   "execution_count": 144,
   "id": "08d25f56",
   "metadata": {},
   "outputs": [
    {
     "data": {
      "text/plain": [
       "'we are learning python with revision'"
      ]
     },
     "execution_count": 144,
     "metadata": {},
     "output_type": "execute_result"
    }
   ],
   "source": [
    "s"
   ]
  },
  {
   "cell_type": "code",
   "execution_count": 146,
   "id": "60acf064",
   "metadata": {},
   "outputs": [
    {
     "name": "stdout",
     "output_type": "stream",
     "text": [
      "8\n",
      "6\n",
      "4\n",
      "3\n",
      "400\n",
      "500\n",
      "600\n",
      "[450, 560, 230]\n"
     ]
    }
   ],
   "source": [
    "for i in my_lst:\n",
    "    print(i)"
   ]
  },
  {
   "cell_type": "code",
   "execution_count": 148,
   "id": "616c471c",
   "metadata": {},
   "outputs": [],
   "source": [
    "my_list = list(range(1,11))"
   ]
  },
  {
   "cell_type": "code",
   "execution_count": 149,
   "id": "bc1de13f",
   "metadata": {},
   "outputs": [
    {
     "name": "stdout",
     "output_type": "stream",
     "text": [
      "[1, 2, 3, 4, 5, 6, 7, 8, 9, 10]\n"
     ]
    }
   ],
   "source": [
    "print(my_list)"
   ]
  },
  {
   "cell_type": "code",
   "execution_count": 152,
   "id": "36b62f6f",
   "metadata": {},
   "outputs": [],
   "source": [
    "l = []\n",
    "for i in my_list:\n",
    "    if i%2==0:\n",
    "        l.append(i**2)\n",
    "    else:\n",
    "        l.append(i**3)\n",
    "    "
   ]
  },
  {
   "cell_type": "code",
   "execution_count": 153,
   "id": "3f1be3e2",
   "metadata": {},
   "outputs": [
    {
     "data": {
      "text/plain": [
       "[1, 4, 27, 16, 125, 36, 343, 64, 729, 100]"
      ]
     },
     "execution_count": 153,
     "metadata": {},
     "output_type": "execute_result"
    }
   ],
   "source": [
    "l"
   ]
  },
  {
   "cell_type": "code",
   "execution_count": 156,
   "id": "17657f73",
   "metadata": {},
   "outputs": [
    {
     "data": {
      "text/plain": [
       "[4, 16, 36, 64, 100]"
      ]
     },
     "execution_count": 156,
     "metadata": {},
     "output_type": "execute_result"
    }
   ],
   "source": [
    "[i**2 for i in my_list if i%2==0]"
   ]
  },
  {
   "cell_type": "code",
   "execution_count": 157,
   "id": "e83f5705",
   "metadata": {},
   "outputs": [
    {
     "data": {
      "text/plain": [
       "[1, 4, 27, 16, 125, 36, 343, 64, 729, 100]"
      ]
     },
     "execution_count": 157,
     "metadata": {},
     "output_type": "execute_result"
    }
   ],
   "source": [
    "[i**2 if i%2==0 else i**3 for i in my_list]"
   ]
  },
  {
   "cell_type": "code",
   "execution_count": 162,
   "id": "016ecb81",
   "metadata": {},
   "outputs": [],
   "source": [
    "lst_2d = [[1,2,3],[4,5,6],[7,8,9], [10,11,12]]"
   ]
  },
  {
   "cell_type": "code",
   "execution_count": 163,
   "id": "f217725a",
   "metadata": {},
   "outputs": [
    {
     "data": {
      "text/plain": [
       "2"
      ]
     },
     "execution_count": 163,
     "metadata": {},
     "output_type": "execute_result"
    }
   ],
   "source": [
    "lst_2d[0][1]"
   ]
  },
  {
   "cell_type": "code",
   "execution_count": 165,
   "id": "792d1fc4",
   "metadata": {},
   "outputs": [
    {
     "data": {
      "text/plain": [
       "9"
      ]
     },
     "execution_count": 165,
     "metadata": {},
     "output_type": "execute_result"
    }
   ],
   "source": [
    "lst_2d[-2][-1]"
   ]
  },
  {
   "cell_type": "code",
   "execution_count": 168,
   "id": "1a3b77f0",
   "metadata": {},
   "outputs": [
    {
     "data": {
      "text/plain": [
       "9"
      ]
     },
     "execution_count": 168,
     "metadata": {},
     "output_type": "execute_result"
    }
   ],
   "source": [
    "lst_2d[2][2]"
   ]
  },
  {
   "cell_type": "code",
   "execution_count": 170,
   "id": "3abf2cd2",
   "metadata": {},
   "outputs": [],
   "source": [
    "A = [[1,2],[3,4]]\n",
    "\n",
    "B = [[4,5],[6,7]]"
   ]
  },
  {
   "cell_type": "code",
   "execution_count": 171,
   "id": "d2fbfda9",
   "metadata": {},
   "outputs": [
    {
     "data": {
      "text/plain": [
       "[[1, 2], [3, 4]]"
      ]
     },
     "execution_count": 171,
     "metadata": {},
     "output_type": "execute_result"
    }
   ],
   "source": [
    "A\n"
   ]
  },
  {
   "cell_type": "code",
   "execution_count": 172,
   "id": "26f7ddbb",
   "metadata": {},
   "outputs": [
    {
     "data": {
      "text/plain": [
       "[[4, 5], [6, 7]]"
      ]
     },
     "execution_count": 172,
     "metadata": {},
     "output_type": "execute_result"
    }
   ],
   "source": [
    "B"
   ]
  },
  {
   "cell_type": "code",
   "execution_count": 173,
   "id": "ce343df8",
   "metadata": {},
   "outputs": [],
   "source": [
    "C = [[None, None], [None, None]]"
   ]
  },
  {
   "cell_type": "code",
   "execution_count": 178,
   "id": "26dfe133",
   "metadata": {},
   "outputs": [],
   "source": [
    "for i in range(len(A)):\n",
    "    for j in range(2):\n",
    "        C[i][j] = A[i][j]+B[i][j]"
   ]
  },
  {
   "cell_type": "code",
   "execution_count": 179,
   "id": "4c4da484",
   "metadata": {},
   "outputs": [
    {
     "data": {
      "text/plain": [
       "[[5, 7], [9, 11]]"
      ]
     },
     "execution_count": 179,
     "metadata": {},
     "output_type": "execute_result"
    }
   ],
   "source": [
    "C"
   ]
  },
  {
   "cell_type": "code",
   "execution_count": 181,
   "id": "26835e05",
   "metadata": {},
   "outputs": [
    {
     "data": {
      "text/plain": [
       "[[None, None, None, None, None, None, None, None, None, None],\n",
       " [None, None, None, None, None, None, None, None, None, None],\n",
       " [None, None, None, None, None, None, None, None, None, None],\n",
       " [None, None, None, None, None, None, None, None, None, None],\n",
       " [None, None, None, None, None, None, None, None, None, None],\n",
       " [None, None, None, None, None, None, None, None, None, None],\n",
       " [None, None, None, None, None, None, None, None, None, None],\n",
       " [None, None, None, None, None, None, None, None, None, None],\n",
       " [None, None, None, None, None, None, None, None, None, None],\n",
       " [None, None, None, None, None, None, None, None, None, None]]"
      ]
     },
     "execution_count": 181,
     "metadata": {},
     "output_type": "execute_result"
    }
   ],
   "source": [
    "[[None]*10]*10"
   ]
  },
  {
   "cell_type": "code",
   "execution_count": 182,
   "id": "9c4fff04",
   "metadata": {},
   "outputs": [
    {
     "data": {
      "text/plain": [
       "[2, 2, 2, 2, 2, 2, 2, 2, 2, 2]"
      ]
     },
     "execution_count": 182,
     "metadata": {},
     "output_type": "execute_result"
    }
   ],
   "source": [
    "[2]*10"
   ]
  },
  {
   "cell_type": "code",
   "execution_count": 193,
   "id": "1e58766d",
   "metadata": {},
   "outputs": [],
   "source": [
    "lst = [1,2,3,4,5,6]"
   ]
  },
  {
   "cell_type": "code",
   "execution_count": 194,
   "id": "e695a3c4",
   "metadata": {},
   "outputs": [],
   "source": [
    "abc = lst.copy()"
   ]
  },
  {
   "cell_type": "code",
   "execution_count": 195,
   "id": "5878e290",
   "metadata": {},
   "outputs": [
    {
     "data": {
      "text/plain": [
       "[1, 2, 3, 4, 5, 6]"
      ]
     },
     "execution_count": 195,
     "metadata": {},
     "output_type": "execute_result"
    }
   ],
   "source": [
    "abc"
   ]
  },
  {
   "cell_type": "code",
   "execution_count": 196,
   "id": "42372cbd",
   "metadata": {},
   "outputs": [],
   "source": [
    "abc.append(100)"
   ]
  },
  {
   "cell_type": "code",
   "execution_count": 197,
   "id": "6d4cdd7d",
   "metadata": {},
   "outputs": [
    {
     "data": {
      "text/plain": [
       "[1, 2, 3, 4, 5, 6, 100]"
      ]
     },
     "execution_count": 197,
     "metadata": {},
     "output_type": "execute_result"
    }
   ],
   "source": [
    "abc"
   ]
  },
  {
   "cell_type": "code",
   "execution_count": 198,
   "id": "72086a1b",
   "metadata": {},
   "outputs": [
    {
     "data": {
      "text/plain": [
       "[1, 2, 3, 4, 5, 6]"
      ]
     },
     "execution_count": 198,
     "metadata": {},
     "output_type": "execute_result"
    }
   ],
   "source": [
    "lst"
   ]
  },
  {
   "cell_type": "markdown",
   "id": "fa259ab3",
   "metadata": {},
   "source": [
    "Questions on Lists :\n",
    "\n",
    "Q-1 : Rotation of a List\n",
    "\n",
    "Given a list (lst) and an int variable(steps). You need to perform right rotation of the given list\n",
    "\n",
    "Right Rotation is defined as :\n",
    "[1,2,3,4,5,6] ---(1 right rotation)--> [6,1,2,3,4,5]\n",
    "[1,2,3,4,5,6] ---(2 right rotations)--> [5,6,1,2,3,4]"
   ]
  },
  {
   "cell_type": "code",
   "execution_count": 235,
   "id": "5446a710",
   "metadata": {},
   "outputs": [],
   "source": [
    "lst = [3,5,2,7,8,9]\n",
    "steps = 2"
   ]
  },
  {
   "cell_type": "code",
   "execution_count": 236,
   "id": "a4888920",
   "metadata": {},
   "outputs": [],
   "source": [
    "for j in range(steps):\n",
    "    key = lst[-1]\n",
    "\n",
    "    for i in range(len(lst)-1,0,-1):\n",
    "        lst[i] = lst[i-1]\n",
    "        \n",
    "    lst[0] = key"
   ]
  },
  {
   "cell_type": "code",
   "execution_count": 237,
   "id": "c0b015a3",
   "metadata": {},
   "outputs": [
    {
     "data": {
      "text/plain": [
       "[8, 9, 3, 5, 2, 7]"
      ]
     },
     "execution_count": 237,
     "metadata": {},
     "output_type": "execute_result"
    }
   ],
   "source": [
    "lst"
   ]
  },
  {
   "cell_type": "code",
   "execution_count": 238,
   "id": "0566afac",
   "metadata": {},
   "outputs": [],
   "source": [
    "#Tuples"
   ]
  },
  {
   "cell_type": "code",
   "execution_count": 239,
   "id": "659946ca",
   "metadata": {},
   "outputs": [],
   "source": [
    "u = ()"
   ]
  },
  {
   "cell_type": "code",
   "execution_count": 240,
   "id": "55a52721",
   "metadata": {},
   "outputs": [
    {
     "data": {
      "text/plain": [
       "tuple"
      ]
     },
     "execution_count": 240,
     "metadata": {},
     "output_type": "execute_result"
    }
   ],
   "source": [
    "type(u)"
   ]
  },
  {
   "cell_type": "code",
   "execution_count": 241,
   "id": "13f1ad4a",
   "metadata": {},
   "outputs": [],
   "source": [
    "m = tuple()"
   ]
  },
  {
   "cell_type": "code",
   "execution_count": 242,
   "id": "93140d88",
   "metadata": {},
   "outputs": [
    {
     "data": {
      "text/plain": [
       "tuple"
      ]
     },
     "execution_count": 242,
     "metadata": {},
     "output_type": "execute_result"
    }
   ],
   "source": [
    "type(m)"
   ]
  },
  {
   "cell_type": "code",
   "execution_count": 243,
   "id": "5dd34a44",
   "metadata": {},
   "outputs": [],
   "source": [
    "j = (2,2.3,4+6j,'python', None, [1,2,3], (7,8,9), {6:7,8:10})"
   ]
  },
  {
   "cell_type": "code",
   "execution_count": 244,
   "id": "f8428126",
   "metadata": {},
   "outputs": [
    {
     "data": {
      "text/plain": [
       "tuple"
      ]
     },
     "execution_count": 244,
     "metadata": {},
     "output_type": "execute_result"
    }
   ],
   "source": [
    "type(j)"
   ]
  },
  {
   "cell_type": "code",
   "execution_count": 245,
   "id": "dbe73450",
   "metadata": {},
   "outputs": [
    {
     "name": "stdout",
     "output_type": "stream",
     "text": [
      "(2, 2.3, (4+6j), 'python', None, [1, 2, 3], (7, 8, 9), {6: 7, 8: 10})\n"
     ]
    }
   ],
   "source": [
    "print(j)"
   ]
  },
  {
   "cell_type": "code",
   "execution_count": 248,
   "id": "19e0c523",
   "metadata": {},
   "outputs": [],
   "source": [
    "i = (\"machine\",)"
   ]
  },
  {
   "cell_type": "code",
   "execution_count": 249,
   "id": "373fc45b",
   "metadata": {},
   "outputs": [
    {
     "data": {
      "text/plain": [
       "tuple"
      ]
     },
     "execution_count": 249,
     "metadata": {},
     "output_type": "execute_result"
    }
   ],
   "source": [
    "type(i)"
   ]
  },
  {
   "cell_type": "code",
   "execution_count": 250,
   "id": "a95d915e",
   "metadata": {},
   "outputs": [],
   "source": [
    "f = \"data\","
   ]
  },
  {
   "cell_type": "code",
   "execution_count": 251,
   "id": "56ccd562",
   "metadata": {},
   "outputs": [
    {
     "data": {
      "text/plain": [
       "tuple"
      ]
     },
     "execution_count": 251,
     "metadata": {},
     "output_type": "execute_result"
    }
   ],
   "source": [
    "type(f)"
   ]
  },
  {
   "cell_type": "code",
   "execution_count": 253,
   "id": "cc64b6d5",
   "metadata": {},
   "outputs": [
    {
     "name": "stdout",
     "output_type": "stream",
     "text": [
      "(2, 2.3, (4+6j), 'python', None, [1, 2, 3], (7, 8, 9), {6: 7, 8: 10})\n"
     ]
    }
   ],
   "source": [
    "print(j)"
   ]
  },
  {
   "cell_type": "code",
   "execution_count": 254,
   "id": "4325be90",
   "metadata": {},
   "outputs": [
    {
     "data": {
      "text/plain": [
       "2"
      ]
     },
     "execution_count": 254,
     "metadata": {},
     "output_type": "execute_result"
    }
   ],
   "source": [
    "j[0]"
   ]
  },
  {
   "cell_type": "code",
   "execution_count": 255,
   "id": "2854e00d",
   "metadata": {},
   "outputs": [
    {
     "data": {
      "text/plain": [
       "[1, 2, 3]"
      ]
     },
     "execution_count": 255,
     "metadata": {},
     "output_type": "execute_result"
    }
   ],
   "source": [
    "j[5]"
   ]
  },
  {
   "cell_type": "code",
   "execution_count": 256,
   "id": "8ec1c907",
   "metadata": {},
   "outputs": [
    {
     "data": {
      "text/plain": [
       "{6: 7, 8: 10}"
      ]
     },
     "execution_count": 256,
     "metadata": {},
     "output_type": "execute_result"
    }
   ],
   "source": [
    "j[-1]"
   ]
  },
  {
   "cell_type": "code",
   "execution_count": 257,
   "id": "25bb2607",
   "metadata": {},
   "outputs": [
    {
     "data": {
      "text/plain": [
       "((4+6j), 'python', None, [1, 2, 3])"
      ]
     },
     "execution_count": 257,
     "metadata": {},
     "output_type": "execute_result"
    }
   ],
   "source": [
    "j[2:6]"
   ]
  },
  {
   "cell_type": "code",
   "execution_count": 258,
   "id": "c61c8ae8",
   "metadata": {},
   "outputs": [
    {
     "data": {
      "text/plain": [
       "({6: 7, 8: 10}, (7, 8, 9), [1, 2, 3], None, 'python', (4+6j), 2.3, 2)"
      ]
     },
     "execution_count": 258,
     "metadata": {},
     "output_type": "execute_result"
    }
   ],
   "source": [
    "j[::-1]"
   ]
  },
  {
   "cell_type": "code",
   "execution_count": 259,
   "id": "9992cb00",
   "metadata": {},
   "outputs": [
    {
     "data": {
      "text/plain": [
       "(2, 2.3, (4+6j), 'python', None, [1, 2, 3], (7, 8, 9), {6: 7, 8: 10})"
      ]
     },
     "execution_count": 259,
     "metadata": {},
     "output_type": "execute_result"
    }
   ],
   "source": [
    "j"
   ]
  },
  {
   "cell_type": "code",
   "execution_count": 261,
   "id": "88dcc8f5",
   "metadata": {},
   "outputs": [
    {
     "ename": "TypeError",
     "evalue": "'tuple' object does not support item assignment",
     "output_type": "error",
     "traceback": [
      "\u001b[1;31m---------------------------------------------------------------------------\u001b[0m",
      "\u001b[1;31mTypeError\u001b[0m                                 Traceback (most recent call last)",
      "\u001b[1;32m<ipython-input-261-3fe8fa31bada>\u001b[0m in \u001b[0;36m<module>\u001b[1;34m\u001b[0m\n\u001b[1;32m----> 1\u001b[1;33m \u001b[0mj\u001b[0m\u001b[1;33m[\u001b[0m\u001b[1;36m0\u001b[0m\u001b[1;33m]\u001b[0m\u001b[1;33m=\u001b[0m\u001b[1;36m100\u001b[0m\u001b[1;33m\u001b[0m\u001b[1;33m\u001b[0m\u001b[0m\n\u001b[0m",
      "\u001b[1;31mTypeError\u001b[0m: 'tuple' object does not support item assignment"
     ]
    }
   ],
   "source": [
    "j[0]=100"
   ]
  },
  {
   "cell_type": "code",
   "execution_count": 262,
   "id": "ab8ec989",
   "metadata": {},
   "outputs": [],
   "source": [
    "lst = ['snjay', 'sachin', 'rohit']"
   ]
  },
  {
   "cell_type": "code",
   "execution_count": 263,
   "id": "b56f17d7",
   "metadata": {},
   "outputs": [],
   "source": [
    "tup = (2,3,lst,'python')"
   ]
  },
  {
   "cell_type": "code",
   "execution_count": 264,
   "id": "c57eb2ce",
   "metadata": {},
   "outputs": [
    {
     "data": {
      "text/plain": [
       "(2, 3, ['snjay', 'sachin', 'rohit'], 'python')"
      ]
     },
     "execution_count": 264,
     "metadata": {},
     "output_type": "execute_result"
    }
   ],
   "source": [
    "tup"
   ]
  },
  {
   "cell_type": "code",
   "execution_count": 268,
   "id": "af9b51b2",
   "metadata": {},
   "outputs": [],
   "source": [
    "tup[2][1] = 'prakash'"
   ]
  },
  {
   "cell_type": "code",
   "execution_count": 269,
   "id": "a390a8cc",
   "metadata": {},
   "outputs": [
    {
     "data": {
      "text/plain": [
       "(2, 3, ['snjay', 'prakash', 'rohit'], 'python')"
      ]
     },
     "execution_count": 269,
     "metadata": {},
     "output_type": "execute_result"
    }
   ],
   "source": [
    "tup"
   ]
  },
  {
   "cell_type": "code",
   "execution_count": 270,
   "id": "a7026de4",
   "metadata": {},
   "outputs": [
    {
     "data": {
      "text/plain": [
       "(2, 3, ['snjay', 'prakash', 'rohit'], 'python')"
      ]
     },
     "execution_count": 270,
     "metadata": {},
     "output_type": "execute_result"
    }
   ],
   "source": [
    "tup"
   ]
  },
  {
   "cell_type": "code",
   "execution_count": 271,
   "id": "9b6b1ca6",
   "metadata": {},
   "outputs": [
    {
     "name": "stdout",
     "output_type": "stream",
     "text": [
      "2\n",
      "3\n",
      "['snjay', 'prakash', 'rohit']\n",
      "python\n"
     ]
    }
   ],
   "source": [
    "for i in tup:\n",
    "    print((i))"
   ]
  },
  {
   "cell_type": "code",
   "execution_count": 272,
   "id": "11b9ecef",
   "metadata": {},
   "outputs": [],
   "source": [
    "a = (1,2,3)"
   ]
  },
  {
   "cell_type": "code",
   "execution_count": 273,
   "id": "c2e7f60f",
   "metadata": {},
   "outputs": [],
   "source": [
    "b = (4,5,6)"
   ]
  },
  {
   "cell_type": "code",
   "execution_count": 274,
   "id": "1ecf2003",
   "metadata": {},
   "outputs": [
    {
     "data": {
      "text/plain": [
       "(1, 2, 3, 4, 5, 6)"
      ]
     },
     "execution_count": 274,
     "metadata": {},
     "output_type": "execute_result"
    }
   ],
   "source": [
    "a+b"
   ]
  },
  {
   "cell_type": "code",
   "execution_count": 275,
   "id": "72d90268",
   "metadata": {},
   "outputs": [
    {
     "data": {
      "text/plain": [
       "(1, 2, 3)"
      ]
     },
     "execution_count": 275,
     "metadata": {},
     "output_type": "execute_result"
    }
   ],
   "source": [
    "a"
   ]
  },
  {
   "cell_type": "code",
   "execution_count": 276,
   "id": "01dd505b",
   "metadata": {},
   "outputs": [
    {
     "data": {
      "text/plain": [
       "(4, 5, 6)"
      ]
     },
     "execution_count": 276,
     "metadata": {},
     "output_type": "execute_result"
    }
   ],
   "source": [
    "b"
   ]
  },
  {
   "cell_type": "code",
   "execution_count": 277,
   "id": "69c6f91f",
   "metadata": {},
   "outputs": [
    {
     "data": {
      "text/plain": [
       "(2, 2, 2, 2, 2, 2, 2, 2, 2, 2)"
      ]
     },
     "execution_count": 277,
     "metadata": {},
     "output_type": "execute_result"
    }
   ],
   "source": [
    "(2,)*10"
   ]
  },
  {
   "cell_type": "code",
   "execution_count": 279,
   "id": "273559ce",
   "metadata": {},
   "outputs": [
    {
     "data": {
      "text/plain": [
       "(2, 2.3, (4+6j), 'python', None, [1, 2, 3], (7, 8, 9), {6: 7, 8: 10})"
      ]
     },
     "execution_count": 279,
     "metadata": {},
     "output_type": "execute_result"
    }
   ],
   "source": [
    "j"
   ]
  },
  {
   "cell_type": "code",
   "execution_count": 282,
   "id": "c76204a4",
   "metadata": {},
   "outputs": [],
   "source": [
    "del j"
   ]
  },
  {
   "cell_type": "code",
   "execution_count": 283,
   "id": "9ffa3d7b",
   "metadata": {},
   "outputs": [
    {
     "ename": "NameError",
     "evalue": "name 'j' is not defined",
     "output_type": "error",
     "traceback": [
      "\u001b[1;31m---------------------------------------------------------------------------\u001b[0m",
      "\u001b[1;31mNameError\u001b[0m                                 Traceback (most recent call last)",
      "\u001b[1;32m<ipython-input-283-3eedd8854d1e>\u001b[0m in \u001b[0;36m<module>\u001b[1;34m\u001b[0m\n\u001b[1;32m----> 1\u001b[1;33m \u001b[0mj\u001b[0m\u001b[1;33m\u001b[0m\u001b[1;33m\u001b[0m\u001b[0m\n\u001b[0m",
      "\u001b[1;31mNameError\u001b[0m: name 'j' is not defined"
     ]
    }
   ],
   "source": [
    "j"
   ]
  },
  {
   "cell_type": "code",
   "execution_count": 284,
   "id": "fe897b66",
   "metadata": {},
   "outputs": [],
   "source": [
    "t = (1,2,3,1,3,3,4,1)"
   ]
  },
  {
   "cell_type": "code",
   "execution_count": 285,
   "id": "fcff4203",
   "metadata": {},
   "outputs": [
    {
     "data": {
      "text/plain": [
       "2"
      ]
     },
     "execution_count": 285,
     "metadata": {},
     "output_type": "execute_result"
    }
   ],
   "source": [
    "t.index(3)"
   ]
  },
  {
   "cell_type": "code",
   "execution_count": 286,
   "id": "2ca6e6a2",
   "metadata": {},
   "outputs": [
    {
     "data": {
      "text/plain": [
       "3"
      ]
     },
     "execution_count": 286,
     "metadata": {},
     "output_type": "execute_result"
    }
   ],
   "source": [
    "t.count(1)"
   ]
  },
  {
   "cell_type": "code",
   "execution_count": 287,
   "id": "8d47d6e4",
   "metadata": {},
   "outputs": [
    {
     "data": {
      "text/plain": [
       "3"
      ]
     },
     "execution_count": 287,
     "metadata": {},
     "output_type": "execute_result"
    }
   ],
   "source": [
    "t.count(3)"
   ]
  },
  {
   "cell_type": "code",
   "execution_count": 288,
   "id": "57629dd2",
   "metadata": {},
   "outputs": [
    {
     "data": {
      "text/plain": [
       "False"
      ]
     },
     "execution_count": 288,
     "metadata": {},
     "output_type": "execute_result"
    }
   ],
   "source": [
    "9 in t"
   ]
  },
  {
   "cell_type": "code",
   "execution_count": 289,
   "id": "2ab49726",
   "metadata": {},
   "outputs": [
    {
     "data": {
      "text/plain": [
       "True"
      ]
     },
     "execution_count": 289,
     "metadata": {},
     "output_type": "execute_result"
    }
   ],
   "source": [
    "9 not in t"
   ]
  },
  {
   "cell_type": "code",
   "execution_count": 290,
   "id": "0cd5f0bf",
   "metadata": {},
   "outputs": [
    {
     "data": {
      "text/plain": [
       "True"
      ]
     },
     "execution_count": 290,
     "metadata": {},
     "output_type": "execute_result"
    }
   ],
   "source": [
    "1 in t"
   ]
  },
  {
   "cell_type": "code",
   "execution_count": 291,
   "id": "599930bd",
   "metadata": {},
   "outputs": [],
   "source": [
    "t = (4,2,3)"
   ]
  },
  {
   "cell_type": "code",
   "execution_count": 292,
   "id": "6a211d6d",
   "metadata": {},
   "outputs": [],
   "source": [
    "a,b,c = t"
   ]
  },
  {
   "cell_type": "code",
   "execution_count": 293,
   "id": "891603ab",
   "metadata": {},
   "outputs": [
    {
     "data": {
      "text/plain": [
       "4"
      ]
     },
     "execution_count": 293,
     "metadata": {},
     "output_type": "execute_result"
    }
   ],
   "source": [
    "a"
   ]
  },
  {
   "cell_type": "code",
   "execution_count": 294,
   "id": "9628c505",
   "metadata": {},
   "outputs": [
    {
     "data": {
      "text/plain": [
       "2"
      ]
     },
     "execution_count": 294,
     "metadata": {},
     "output_type": "execute_result"
    }
   ],
   "source": [
    "b"
   ]
  },
  {
   "cell_type": "code",
   "execution_count": 295,
   "id": "4c2773a8",
   "metadata": {},
   "outputs": [
    {
     "data": {
      "text/plain": [
       "3"
      ]
     },
     "execution_count": 295,
     "metadata": {},
     "output_type": "execute_result"
    }
   ],
   "source": [
    "c"
   ]
  },
  {
   "cell_type": "code",
   "execution_count": 296,
   "id": "1719a2cc",
   "metadata": {},
   "outputs": [],
   "source": [
    "a=b=c= t"
   ]
  },
  {
   "cell_type": "code",
   "execution_count": 297,
   "id": "24f3787b",
   "metadata": {},
   "outputs": [
    {
     "data": {
      "text/plain": [
       "(4, 2, 3)"
      ]
     },
     "execution_count": 297,
     "metadata": {},
     "output_type": "execute_result"
    }
   ],
   "source": [
    "a"
   ]
  },
  {
   "cell_type": "code",
   "execution_count": 298,
   "id": "6487f40d",
   "metadata": {},
   "outputs": [
    {
     "data": {
      "text/plain": [
       "(4, 2, 3)"
      ]
     },
     "execution_count": 298,
     "metadata": {},
     "output_type": "execute_result"
    }
   ],
   "source": [
    "b"
   ]
  },
  {
   "cell_type": "code",
   "execution_count": 299,
   "id": "d3ff28bb",
   "metadata": {},
   "outputs": [
    {
     "data": {
      "text/plain": [
       "(4, 2, 3)"
      ]
     },
     "execution_count": 299,
     "metadata": {},
     "output_type": "execute_result"
    }
   ],
   "source": [
    "c"
   ]
  },
  {
   "cell_type": "code",
   "execution_count": 300,
   "id": "3d24fe7f",
   "metadata": {},
   "outputs": [
    {
     "name": "stdout",
     "output_type": "stream",
     "text": [
      "4 2 3\n"
     ]
    }
   ],
   "source": [
    "print(*t)"
   ]
  },
  {
   "cell_type": "code",
   "execution_count": 301,
   "id": "dab08e6c",
   "metadata": {},
   "outputs": [],
   "source": [
    "z =set()"
   ]
  },
  {
   "cell_type": "code",
   "execution_count": 302,
   "id": "bddc58bc",
   "metadata": {},
   "outputs": [
    {
     "data": {
      "text/plain": [
       "set"
      ]
     },
     "execution_count": 302,
     "metadata": {},
     "output_type": "execute_result"
    }
   ],
   "source": [
    "type(z)"
   ]
  },
  {
   "cell_type": "code",
   "execution_count": 303,
   "id": "66142759",
   "metadata": {},
   "outputs": [],
   "source": [
    "x = {}"
   ]
  },
  {
   "cell_type": "code",
   "execution_count": 304,
   "id": "53e0c636",
   "metadata": {},
   "outputs": [
    {
     "data": {
      "text/plain": [
       "dict"
      ]
     },
     "execution_count": 304,
     "metadata": {},
     "output_type": "execute_result"
    }
   ],
   "source": [
    "type(x)"
   ]
  },
  {
   "cell_type": "code",
   "execution_count": 306,
   "id": "d3bb407b",
   "metadata": {},
   "outputs": [],
   "source": [
    "k = {2,3,4,5,6,2,4,3,9,2,3,7,8,9,2,3}"
   ]
  },
  {
   "cell_type": "code",
   "execution_count": 307,
   "id": "9be0333f",
   "metadata": {},
   "outputs": [
    {
     "data": {
      "text/plain": [
       "set"
      ]
     },
     "execution_count": 307,
     "metadata": {},
     "output_type": "execute_result"
    }
   ],
   "source": [
    "type(k)"
   ]
  },
  {
   "cell_type": "code",
   "execution_count": 308,
   "id": "8c22c21a",
   "metadata": {},
   "outputs": [
    {
     "data": {
      "text/plain": [
       "{2, 3, 4, 5, 6, 7, 8, 9}"
      ]
     },
     "execution_count": 308,
     "metadata": {},
     "output_type": "execute_result"
    }
   ],
   "source": [
    "k"
   ]
  },
  {
   "cell_type": "code",
   "execution_count": 309,
   "id": "ba6e15cd",
   "metadata": {},
   "outputs": [],
   "source": [
    "k.add(100)"
   ]
  },
  {
   "cell_type": "code",
   "execution_count": 310,
   "id": "61ea9804",
   "metadata": {},
   "outputs": [
    {
     "data": {
      "text/plain": [
       "{2, 3, 4, 5, 6, 7, 8, 9, 100}"
      ]
     },
     "execution_count": 310,
     "metadata": {},
     "output_type": "execute_result"
    }
   ],
   "source": [
    "k"
   ]
  },
  {
   "cell_type": "code",
   "execution_count": 311,
   "id": "f5452727",
   "metadata": {},
   "outputs": [],
   "source": [
    "k.add(100)"
   ]
  },
  {
   "cell_type": "code",
   "execution_count": 312,
   "id": "c0fc7c50",
   "metadata": {},
   "outputs": [],
   "source": [
    "k.add(100)"
   ]
  },
  {
   "cell_type": "code",
   "execution_count": 313,
   "id": "519a84bc",
   "metadata": {},
   "outputs": [
    {
     "data": {
      "text/plain": [
       "{2, 3, 4, 5, 6, 7, 8, 9, 100}"
      ]
     },
     "execution_count": 313,
     "metadata": {},
     "output_type": "execute_result"
    }
   ],
   "source": [
    "k"
   ]
  },
  {
   "cell_type": "code",
   "execution_count": 314,
   "id": "a049eb09",
   "metadata": {},
   "outputs": [],
   "source": [
    "k.remove(9)"
   ]
  },
  {
   "cell_type": "code",
   "execution_count": 315,
   "id": "422ecf64",
   "metadata": {},
   "outputs": [
    {
     "data": {
      "text/plain": [
       "{2, 3, 4, 5, 6, 7, 8, 100}"
      ]
     },
     "execution_count": 315,
     "metadata": {},
     "output_type": "execute_result"
    }
   ],
   "source": [
    "k"
   ]
  },
  {
   "cell_type": "code",
   "execution_count": 316,
   "id": "f1399faf",
   "metadata": {},
   "outputs": [
    {
     "ename": "KeyError",
     "evalue": "102",
     "output_type": "error",
     "traceback": [
      "\u001b[1;31m---------------------------------------------------------------------------\u001b[0m",
      "\u001b[1;31mKeyError\u001b[0m                                  Traceback (most recent call last)",
      "\u001b[1;32m<ipython-input-316-4566a8770a22>\u001b[0m in \u001b[0;36m<module>\u001b[1;34m\u001b[0m\n\u001b[1;32m----> 1\u001b[1;33m \u001b[0mk\u001b[0m\u001b[1;33m.\u001b[0m\u001b[0mremove\u001b[0m\u001b[1;33m(\u001b[0m\u001b[1;36m102\u001b[0m\u001b[1;33m)\u001b[0m\u001b[1;33m\u001b[0m\u001b[1;33m\u001b[0m\u001b[0m\n\u001b[0m",
      "\u001b[1;31mKeyError\u001b[0m: 102"
     ]
    }
   ],
   "source": [
    "k.remove(102)"
   ]
  },
  {
   "cell_type": "code",
   "execution_count": 317,
   "id": "81a174e4",
   "metadata": {},
   "outputs": [],
   "source": [
    "k.discard(100)"
   ]
  },
  {
   "cell_type": "code",
   "execution_count": 318,
   "id": "8da7c1d1",
   "metadata": {},
   "outputs": [
    {
     "data": {
      "text/plain": [
       "{2, 3, 4, 5, 6, 7, 8}"
      ]
     },
     "execution_count": 318,
     "metadata": {},
     "output_type": "execute_result"
    }
   ],
   "source": [
    "k"
   ]
  },
  {
   "cell_type": "code",
   "execution_count": 319,
   "id": "dc954032",
   "metadata": {},
   "outputs": [],
   "source": [
    "k.discard(500)"
   ]
  },
  {
   "cell_type": "code",
   "execution_count": 320,
   "id": "eb3866c1",
   "metadata": {},
   "outputs": [
    {
     "data": {
      "text/plain": [
       "{2, 3, 4, 5, 6, 7, 8}"
      ]
     },
     "execution_count": 320,
     "metadata": {},
     "output_type": "execute_result"
    }
   ],
   "source": [
    "k"
   ]
  },
  {
   "cell_type": "code",
   "execution_count": 322,
   "id": "dcb8e421",
   "metadata": {},
   "outputs": [
    {
     "ename": "TypeError",
     "evalue": "'set' object is not subscriptable",
     "output_type": "error",
     "traceback": [
      "\u001b[1;31m---------------------------------------------------------------------------\u001b[0m",
      "\u001b[1;31mTypeError\u001b[0m                                 Traceback (most recent call last)",
      "\u001b[1;32m<ipython-input-322-bd74970ec0aa>\u001b[0m in \u001b[0;36m<module>\u001b[1;34m\u001b[0m\n\u001b[1;32m----> 1\u001b[1;33m \u001b[0mk\u001b[0m\u001b[1;33m[\u001b[0m\u001b[1;36m2\u001b[0m\u001b[1;33m]\u001b[0m\u001b[1;33m\u001b[0m\u001b[1;33m\u001b[0m\u001b[0m\n\u001b[0m",
      "\u001b[1;31mTypeError\u001b[0m: 'set' object is not subscriptable"
     ]
    }
   ],
   "source": [
    "k[2]"
   ]
  },
  {
   "cell_type": "code",
   "execution_count": 323,
   "id": "e23d0f65",
   "metadata": {},
   "outputs": [],
   "source": [
    "k.update([4,5,6,100,200,300])"
   ]
  },
  {
   "cell_type": "code",
   "execution_count": 324,
   "id": "79f3b61a",
   "metadata": {},
   "outputs": [
    {
     "data": {
      "text/plain": [
       "{2, 3, 4, 5, 6, 7, 8, 100, 200, 300}"
      ]
     },
     "execution_count": 324,
     "metadata": {},
     "output_type": "execute_result"
    }
   ],
   "source": [
    "k"
   ]
  },
  {
   "cell_type": "code",
   "execution_count": 325,
   "id": "7d2d93ba",
   "metadata": {},
   "outputs": [],
   "source": [
    "s1 = {1, 3, 4, 5, 8}\n",
    "s2 = {4, 5, 6, 7, 1, 9}"
   ]
  },
  {
   "cell_type": "code",
   "execution_count": 326,
   "id": "708e32ac",
   "metadata": {},
   "outputs": [
    {
     "data": {
      "text/plain": [
       "{1, 3, 4, 5, 6, 7, 8, 9}"
      ]
     },
     "execution_count": 326,
     "metadata": {},
     "output_type": "execute_result"
    }
   ],
   "source": [
    "s1.union(s2)"
   ]
  },
  {
   "cell_type": "code",
   "execution_count": 327,
   "id": "d9c0f8f3",
   "metadata": {},
   "outputs": [
    {
     "data": {
      "text/plain": [
       "{1, 4, 5}"
      ]
     },
     "execution_count": 327,
     "metadata": {},
     "output_type": "execute_result"
    }
   ],
   "source": [
    "s1.intersection(s2)"
   ]
  },
  {
   "cell_type": "code",
   "execution_count": 328,
   "id": "1c65ecc5",
   "metadata": {},
   "outputs": [
    {
     "data": {
      "text/plain": [
       "{3, 6, 7, 8, 9}"
      ]
     },
     "execution_count": 328,
     "metadata": {},
     "output_type": "execute_result"
    }
   ],
   "source": [
    "s1.symmetric_difference(s2)"
   ]
  },
  {
   "cell_type": "code",
   "execution_count": 329,
   "id": "c31dd4c7",
   "metadata": {},
   "outputs": [
    {
     "data": {
      "text/plain": [
       "{1, 3, 4, 5, 6, 7, 8, 9}"
      ]
     },
     "execution_count": 329,
     "metadata": {},
     "output_type": "execute_result"
    }
   ],
   "source": [
    "s1|s2"
   ]
  },
  {
   "cell_type": "code",
   "execution_count": 330,
   "id": "1fefea04",
   "metadata": {},
   "outputs": [
    {
     "data": {
      "text/plain": [
       "{1, 4, 5}"
      ]
     },
     "execution_count": 330,
     "metadata": {},
     "output_type": "execute_result"
    }
   ],
   "source": [
    "s1&s2"
   ]
  },
  {
   "cell_type": "code",
   "execution_count": 331,
   "id": "2bdd9f80",
   "metadata": {},
   "outputs": [
    {
     "data": {
      "text/plain": [
       "{3, 6, 7, 8, 9}"
      ]
     },
     "execution_count": 331,
     "metadata": {},
     "output_type": "execute_result"
    }
   ],
   "source": [
    "(s1|s2) - (s1&s2)"
   ]
  },
  {
   "cell_type": "code",
   "execution_count": 332,
   "id": "8d2883fb",
   "metadata": {},
   "outputs": [
    {
     "data": {
      "text/plain": [
       "{3, 8}"
      ]
     },
     "execution_count": 332,
     "metadata": {},
     "output_type": "execute_result"
    }
   ],
   "source": [
    "s1-s2"
   ]
  },
  {
   "cell_type": "code",
   "execution_count": 333,
   "id": "63bcbf89",
   "metadata": {},
   "outputs": [
    {
     "data": {
      "text/plain": [
       "{3, 8}"
      ]
     },
     "execution_count": 333,
     "metadata": {},
     "output_type": "execute_result"
    }
   ],
   "source": [
    "s1.difference(s2)"
   ]
  },
  {
   "cell_type": "code",
   "execution_count": 334,
   "id": "07adb565",
   "metadata": {},
   "outputs": [],
   "source": [
    "some_list = [6,3,7,6,4,1,0,9,2,1,0,8,6,4,7]\n"
   ]
  },
  {
   "cell_type": "code",
   "execution_count": 336,
   "id": "fc632512",
   "metadata": {},
   "outputs": [],
   "source": [
    "my_set = set(some_list)"
   ]
  },
  {
   "cell_type": "code",
   "execution_count": 338,
   "id": "72dfe76a",
   "metadata": {},
   "outputs": [],
   "source": [
    "some_list = list(my_set)"
   ]
  },
  {
   "cell_type": "code",
   "execution_count": 339,
   "id": "ea2111c5",
   "metadata": {},
   "outputs": [
    {
     "data": {
      "text/plain": [
       "[0, 1, 2, 3, 4, 6, 7, 8, 9]"
      ]
     },
     "execution_count": 339,
     "metadata": {},
     "output_type": "execute_result"
    }
   ],
   "source": [
    "some_list"
   ]
  },
  {
   "cell_type": "code",
   "execution_count": 341,
   "id": "8710231c",
   "metadata": {},
   "outputs": [
    {
     "data": {
      "text/plain": [
       "True"
      ]
     },
     "execution_count": 341,
     "metadata": {},
     "output_type": "execute_result"
    }
   ],
   "source": [
    "2 in my_set"
   ]
  },
  {
   "cell_type": "code",
   "execution_count": 343,
   "id": "d59f3a84",
   "metadata": {},
   "outputs": [
    {
     "data": {
      "text/plain": [
       "True"
      ]
     },
     "execution_count": 343,
     "metadata": {},
     "output_type": "execute_result"
    }
   ],
   "source": [
    "300 not in my_set"
   ]
  },
  {
   "cell_type": "code",
   "execution_count": 344,
   "id": "e6321985",
   "metadata": {},
   "outputs": [],
   "source": [
    "#dictionary"
   ]
  },
  {
   "cell_type": "code",
   "execution_count": 345,
   "id": "ff998e48",
   "metadata": {},
   "outputs": [],
   "source": [
    "m = {}"
   ]
  },
  {
   "cell_type": "code",
   "execution_count": 346,
   "id": "8c1c37d0",
   "metadata": {},
   "outputs": [
    {
     "data": {
      "text/plain": [
       "dict"
      ]
     },
     "execution_count": 346,
     "metadata": {},
     "output_type": "execute_result"
    }
   ],
   "source": [
    "type(m)"
   ]
  },
  {
   "cell_type": "code",
   "execution_count": 347,
   "id": "73de4e2f",
   "metadata": {},
   "outputs": [],
   "source": [
    "w = dict()"
   ]
  },
  {
   "cell_type": "code",
   "execution_count": 348,
   "id": "f15d42cb",
   "metadata": {},
   "outputs": [
    {
     "data": {
      "text/plain": [
       "dict"
      ]
     },
     "execution_count": 348,
     "metadata": {},
     "output_type": "execute_result"
    }
   ],
   "source": [
    "type(w)"
   ]
  },
  {
   "cell_type": "code",
   "execution_count": 350,
   "id": "c9f4fffc",
   "metadata": {},
   "outputs": [],
   "source": [
    "g  = dict([(1,'abc'),(2,\"xyz\")])"
   ]
  },
  {
   "cell_type": "code",
   "execution_count": 351,
   "id": "929e0926",
   "metadata": {},
   "outputs": [
    {
     "data": {
      "text/plain": [
       "{1: 'abc', 2: 'xyz'}"
      ]
     },
     "execution_count": 351,
     "metadata": {},
     "output_type": "execute_result"
    }
   ],
   "source": [
    "g"
   ]
  },
  {
   "cell_type": "code",
   "execution_count": 352,
   "id": "4cf55d96",
   "metadata": {},
   "outputs": [],
   "source": [
    "user_info = {\n",
    "    'name':'sanjay',\n",
    "    'age':30,\n",
    "    'nationality':'Indian'\n",
    "}"
   ]
  },
  {
   "cell_type": "code",
   "execution_count": 353,
   "id": "ec607193",
   "metadata": {},
   "outputs": [
    {
     "data": {
      "text/plain": [
       "{'name': 'sanjay', 'age': 30, 'nationality': 'Indian'}"
      ]
     },
     "execution_count": 353,
     "metadata": {},
     "output_type": "execute_result"
    }
   ],
   "source": [
    "user_info"
   ]
  },
  {
   "cell_type": "code",
   "execution_count": 354,
   "id": "0ac985cc",
   "metadata": {},
   "outputs": [
    {
     "data": {
      "text/plain": [
       "dict"
      ]
     },
     "execution_count": 354,
     "metadata": {},
     "output_type": "execute_result"
    }
   ],
   "source": [
    "type(user_info)"
   ]
  },
  {
   "cell_type": "code",
   "execution_count": 358,
   "id": "b3d230d7",
   "metadata": {},
   "outputs": [
    {
     "data": {
      "text/plain": [
       "'Indian'"
      ]
     },
     "execution_count": 358,
     "metadata": {},
     "output_type": "execute_result"
    }
   ],
   "source": [
    "user_info['nationality']"
   ]
  },
  {
   "cell_type": "code",
   "execution_count": 359,
   "id": "c8eb02fb",
   "metadata": {},
   "outputs": [
    {
     "ename": "KeyError",
     "evalue": "'hobby'",
     "output_type": "error",
     "traceback": [
      "\u001b[1;31m---------------------------------------------------------------------------\u001b[0m",
      "\u001b[1;31mKeyError\u001b[0m                                  Traceback (most recent call last)",
      "\u001b[1;32m<ipython-input-359-ec56ead5a4d9>\u001b[0m in \u001b[0;36m<module>\u001b[1;34m\u001b[0m\n\u001b[1;32m----> 1\u001b[1;33m \u001b[0muser_info\u001b[0m\u001b[1;33m[\u001b[0m\u001b[1;34m'hobby'\u001b[0m\u001b[1;33m]\u001b[0m\u001b[1;33m\u001b[0m\u001b[1;33m\u001b[0m\u001b[0m\n\u001b[0m",
      "\u001b[1;31mKeyError\u001b[0m: 'hobby'"
     ]
    }
   ],
   "source": [
    "user_info['hobby']"
   ]
  },
  {
   "cell_type": "code",
   "execution_count": 360,
   "id": "5c682a09",
   "metadata": {},
   "outputs": [],
   "source": [
    "user_info.get('hobby')"
   ]
  },
  {
   "cell_type": "code",
   "execution_count": 361,
   "id": "d4f69d31",
   "metadata": {},
   "outputs": [
    {
     "data": {
      "text/plain": [
       "{'name': 'sanjay', 'age': 30, 'nationality': 'Indian'}"
      ]
     },
     "execution_count": 361,
     "metadata": {},
     "output_type": "execute_result"
    }
   ],
   "source": [
    "user_info"
   ]
  },
  {
   "cell_type": "code",
   "execution_count": 362,
   "id": "a357bb75",
   "metadata": {},
   "outputs": [
    {
     "data": {
      "text/plain": [
       "'sanjay'"
      ]
     },
     "execution_count": 362,
     "metadata": {},
     "output_type": "execute_result"
    }
   ],
   "source": [
    "user_info.get('name')"
   ]
  },
  {
   "cell_type": "code",
   "execution_count": 363,
   "id": "088f2a22",
   "metadata": {},
   "outputs": [
    {
     "name": "stdout",
     "output_type": "stream",
     "text": [
      "{'name': 'sanjay', 'age': 30, 'nationality': 'Indian'}\n"
     ]
    }
   ],
   "source": [
    "print(user_info)"
   ]
  },
  {
   "cell_type": "code",
   "execution_count": 365,
   "id": "45b652b4",
   "metadata": {},
   "outputs": [],
   "source": [
    "user_info['hobby'] = ['singing','coding', 'reading']"
   ]
  },
  {
   "cell_type": "code",
   "execution_count": 366,
   "id": "ea239ca2",
   "metadata": {},
   "outputs": [
    {
     "data": {
      "text/plain": [
       "{'name': 'sanjay',\n",
       " 'age': 30,\n",
       " 'nationality': 'Indian',\n",
       " 'hobby': ['singing', 'coding', 'reading']}"
      ]
     },
     "execution_count": 366,
     "metadata": {},
     "output_type": "execute_result"
    }
   ],
   "source": [
    "user_info"
   ]
  },
  {
   "cell_type": "code",
   "execution_count": 367,
   "id": "ce64f9fe",
   "metadata": {},
   "outputs": [
    {
     "data": {
      "text/plain": [
       "['singing', 'coding', 'reading']"
      ]
     },
     "execution_count": 367,
     "metadata": {},
     "output_type": "execute_result"
    }
   ],
   "source": [
    "user_info.get('hobby')"
   ]
  },
  {
   "cell_type": "code",
   "execution_count": 369,
   "id": "e68010f5",
   "metadata": {},
   "outputs": [],
   "source": [
    "user_info['name'] = 'rohit'"
   ]
  },
  {
   "cell_type": "code",
   "execution_count": 370,
   "id": "35e2ffec",
   "metadata": {},
   "outputs": [
    {
     "data": {
      "text/plain": [
       "{'name': 'rohit',\n",
       " 'age': 30,\n",
       " 'nationality': 'Indian',\n",
       " 'hobby': ['singing', 'coding', 'reading']}"
      ]
     },
     "execution_count": 370,
     "metadata": {},
     "output_type": "execute_result"
    }
   ],
   "source": [
    "user_info"
   ]
  },
  {
   "cell_type": "code",
   "execution_count": 371,
   "id": "b4c94878",
   "metadata": {},
   "outputs": [
    {
     "data": {
      "text/plain": [
       "{'name': 'rohit',\n",
       " 'age': 30,\n",
       " 'nationality': 'Indian',\n",
       " 'hobby': ['singing', 'coding', 'reading']}"
      ]
     },
     "execution_count": 371,
     "metadata": {},
     "output_type": "execute_result"
    }
   ],
   "source": [
    "user_info"
   ]
  },
  {
   "cell_type": "code",
   "execution_count": 372,
   "id": "52a1a54b",
   "metadata": {},
   "outputs": [
    {
     "data": {
      "text/plain": [
       "dict_keys(['name', 'age', 'nationality', 'hobby'])"
      ]
     },
     "execution_count": 372,
     "metadata": {},
     "output_type": "execute_result"
    }
   ],
   "source": [
    "\n",
    "user_info.keys()"
   ]
  },
  {
   "cell_type": "code",
   "execution_count": 373,
   "id": "26bff9e5",
   "metadata": {},
   "outputs": [
    {
     "data": {
      "text/plain": [
       "dict_values(['rohit', 30, 'Indian', ['singing', 'coding', 'reading']])"
      ]
     },
     "execution_count": 373,
     "metadata": {},
     "output_type": "execute_result"
    }
   ],
   "source": [
    "user_info.values()"
   ]
  },
  {
   "cell_type": "code",
   "execution_count": 374,
   "id": "0ae91e24",
   "metadata": {},
   "outputs": [
    {
     "data": {
      "text/plain": [
       "dict_items([('name', 'rohit'), ('age', 30), ('nationality', 'Indian'), ('hobby', ['singing', 'coding', 'reading'])])"
      ]
     },
     "execution_count": 374,
     "metadata": {},
     "output_type": "execute_result"
    }
   ],
   "source": [
    "user_info.items()"
   ]
  },
  {
   "cell_type": "code",
   "execution_count": 377,
   "id": "1f82df15",
   "metadata": {},
   "outputs": [
    {
     "name": "stdout",
     "output_type": "stream",
     "text": [
      "name : rohit\n",
      "age : 30\n",
      "nationality : Indian\n",
      "hobby : ['singing', 'coding', 'reading']\n"
     ]
    }
   ],
   "source": [
    "for k,v in user_info.items():\n",
    "    print(k,\":\",v)"
   ]
  },
  {
   "cell_type": "code",
   "execution_count": 379,
   "id": "e3642447",
   "metadata": {},
   "outputs": [
    {
     "name": "stdout",
     "output_type": "stream",
     "text": [
      "name : rohit\n",
      "age : 30\n",
      "nationality : Indian\n",
      "hobby : ['singing', 'coding', 'reading']\n"
     ]
    }
   ],
   "source": [
    "for k in user_info.keys():\n",
    "    print(k, \":\", user_info[k])"
   ]
  },
  {
   "cell_type": "code",
   "execution_count": 380,
   "id": "a735cd5a",
   "metadata": {},
   "outputs": [
    {
     "data": {
      "text/plain": [
       "566"
      ]
     },
     "execution_count": 380,
     "metadata": {},
     "output_type": "execute_result"
    }
   ],
   "source": [
    "hash(566)"
   ]
  },
  {
   "cell_type": "code",
   "execution_count": 381,
   "id": "21e8b755",
   "metadata": {},
   "outputs": [
    {
     "ename": "TypeError",
     "evalue": "unhashable type: 'list'",
     "output_type": "error",
     "traceback": [
      "\u001b[1;31m---------------------------------------------------------------------------\u001b[0m",
      "\u001b[1;31mTypeError\u001b[0m                                 Traceback (most recent call last)",
      "\u001b[1;32m<ipython-input-381-d919bd874e5f>\u001b[0m in \u001b[0;36m<module>\u001b[1;34m\u001b[0m\n\u001b[1;32m----> 1\u001b[1;33m \u001b[0mhash\u001b[0m\u001b[1;33m(\u001b[0m\u001b[1;33m[\u001b[0m\u001b[1;36m4\u001b[0m\u001b[1;33m,\u001b[0m\u001b[1;36m5\u001b[0m\u001b[1;33m,\u001b[0m\u001b[1;36m6\u001b[0m\u001b[1;33m]\u001b[0m\u001b[1;33m)\u001b[0m\u001b[1;33m\u001b[0m\u001b[1;33m\u001b[0m\u001b[0m\n\u001b[0m",
      "\u001b[1;31mTypeError\u001b[0m: unhashable type: 'list'"
     ]
    }
   ],
   "source": [
    "hash([4,5,6])"
   ]
  },
  {
   "cell_type": "code",
   "execution_count": 382,
   "id": "a88f2f5f",
   "metadata": {},
   "outputs": [
    {
     "data": {
      "text/plain": [
       "-6017239138879067742"
      ]
     },
     "execution_count": 382,
     "metadata": {},
     "output_type": "execute_result"
    }
   ],
   "source": [
    "hash((7,8,89))"
   ]
  },
  {
   "cell_type": "code",
   "execution_count": 383,
   "id": "db14551f",
   "metadata": {},
   "outputs": [
    {
     "data": {
      "text/plain": [
       "7531820188946928793"
      ]
     },
     "execution_count": 383,
     "metadata": {},
     "output_type": "execute_result"
    }
   ],
   "source": [
    "hash('python')"
   ]
  },
  {
   "cell_type": "code",
   "execution_count": 384,
   "id": "f9f3eb01",
   "metadata": {},
   "outputs": [
    {
     "data": {
      "text/plain": [
       "12"
      ]
     },
     "execution_count": 384,
     "metadata": {},
     "output_type": "execute_result"
    }
   ],
   "source": [
    "hash(12)"
   ]
  },
  {
   "cell_type": "code",
   "execution_count": 385,
   "id": "f02eeeab",
   "metadata": {},
   "outputs": [
    {
     "data": {
      "text/plain": [
       "{'name': 'rohit',\n",
       " 'age': 30,\n",
       " 'nationality': 'Indian',\n",
       " 'hobby': ['singing', 'coding', 'reading']}"
      ]
     },
     "execution_count": 385,
     "metadata": {},
     "output_type": "execute_result"
    }
   ],
   "source": [
    "user_info"
   ]
  },
  {
   "cell_type": "code",
   "execution_count": 388,
   "id": "022964dd",
   "metadata": {},
   "outputs": [
    {
     "data": {
      "text/plain": [
       "'rohit'"
      ]
     },
     "execution_count": 388,
     "metadata": {},
     "output_type": "execute_result"
    }
   ],
   "source": [
    "user_info.pop('name')"
   ]
  },
  {
   "cell_type": "code",
   "execution_count": 389,
   "id": "34053634",
   "metadata": {},
   "outputs": [
    {
     "data": {
      "text/plain": [
       "{'age': 30, 'nationality': 'Indian', 'hobby': ['singing', 'coding', 'reading']}"
      ]
     },
     "execution_count": 389,
     "metadata": {},
     "output_type": "execute_result"
    }
   ],
   "source": [
    "user_info"
   ]
  },
  {
   "cell_type": "code",
   "execution_count": 390,
   "id": "a7bcce11",
   "metadata": {},
   "outputs": [
    {
     "data": {
      "text/plain": [
       "'Indian'"
      ]
     },
     "execution_count": 390,
     "metadata": {},
     "output_type": "execute_result"
    }
   ],
   "source": [
    "user_info.pop('nationality')"
   ]
  },
  {
   "cell_type": "code",
   "execution_count": 391,
   "id": "2c3face5",
   "metadata": {},
   "outputs": [
    {
     "data": {
      "text/plain": [
       "{'age': 30, 'hobby': ['singing', 'coding', 'reading']}"
      ]
     },
     "execution_count": 391,
     "metadata": {},
     "output_type": "execute_result"
    }
   ],
   "source": [
    "user_info"
   ]
  },
  {
   "cell_type": "code",
   "execution_count": 394,
   "id": "69599c00",
   "metadata": {},
   "outputs": [],
   "source": [
    "del user_info['age']"
   ]
  },
  {
   "cell_type": "code",
   "execution_count": 395,
   "id": "d7fbcc5a",
   "metadata": {},
   "outputs": [
    {
     "data": {
      "text/plain": [
       "{'hobby': ['singing', 'coding', 'reading']}"
      ]
     },
     "execution_count": 395,
     "metadata": {},
     "output_type": "execute_result"
    }
   ],
   "source": [
    "user_info"
   ]
  },
  {
   "cell_type": "code",
   "execution_count": 396,
   "id": "fef31483",
   "metadata": {},
   "outputs": [],
   "source": [
    "del user_info"
   ]
  },
  {
   "cell_type": "code",
   "execution_count": 397,
   "id": "3a91d429",
   "metadata": {},
   "outputs": [
    {
     "ename": "NameError",
     "evalue": "name 'user_info' is not defined",
     "output_type": "error",
     "traceback": [
      "\u001b[1;31m---------------------------------------------------------------------------\u001b[0m",
      "\u001b[1;31mNameError\u001b[0m                                 Traceback (most recent call last)",
      "\u001b[1;32m<ipython-input-397-f644a432584d>\u001b[0m in \u001b[0;36m<module>\u001b[1;34m\u001b[0m\n\u001b[1;32m----> 1\u001b[1;33m \u001b[0muser_info\u001b[0m\u001b[1;33m\u001b[0m\u001b[1;33m\u001b[0m\u001b[0m\n\u001b[0m",
      "\u001b[1;31mNameError\u001b[0m: name 'user_info' is not defined"
     ]
    }
   ],
   "source": [
    "user_info"
   ]
  },
  {
   "cell_type": "code",
   "execution_count": 398,
   "id": "02d67370",
   "metadata": {},
   "outputs": [],
   "source": [
    "canteeen_menu = {\n",
    "    'samsso':30,\n",
    "    'pizza':200,\n",
    "    'burger':150,\n",
    "    \"fruits\":{\n",
    "        \"apple\":50,\n",
    "        'mango':60,\n",
    "        'banana':100\n",
    "    }\n",
    "}"
   ]
  },
  {
   "cell_type": "code",
   "execution_count": 399,
   "id": "3db92ff3",
   "metadata": {},
   "outputs": [
    {
     "data": {
      "text/plain": [
       "{'samsso': 30,\n",
       " 'pizza': 200,\n",
       " 'burger': 150,\n",
       " 'fruits': {'apple': 50, 'mango': 60, 'banana': 100}}"
      ]
     },
     "execution_count": 399,
     "metadata": {},
     "output_type": "execute_result"
    }
   ],
   "source": [
    "canteeen_menu"
   ]
  },
  {
   "cell_type": "code",
   "execution_count": 401,
   "id": "f8298237",
   "metadata": {},
   "outputs": [
    {
     "data": {
      "text/plain": [
       "60"
      ]
     },
     "execution_count": 401,
     "metadata": {},
     "output_type": "execute_result"
    }
   ],
   "source": [
    "canteeen_menu['fruits']['mango']"
   ]
  },
  {
   "cell_type": "code",
   "execution_count": 403,
   "id": "ee618bfb",
   "metadata": {},
   "outputs": [],
   "source": [
    "canteeen_menu['thali'] = [100,200,300]"
   ]
  },
  {
   "cell_type": "code",
   "execution_count": 404,
   "id": "77fbb31f",
   "metadata": {},
   "outputs": [
    {
     "data": {
      "text/plain": [
       "{'samsso': 30,\n",
       " 'pizza': 200,\n",
       " 'burger': 150,\n",
       " 'fruits': {'apple': 50, 'mango': 60, 'banana': 100},\n",
       " 'tali': [100, 200, 300],\n",
       " 'thali': [100, 200, 300]}"
      ]
     },
     "execution_count": 404,
     "metadata": {},
     "output_type": "execute_result"
    }
   ],
   "source": [
    "canteeen_menu"
   ]
  },
  {
   "cell_type": "code",
   "execution_count": 405,
   "id": "f59fd3c5",
   "metadata": {},
   "outputs": [],
   "source": [
    "canteeen_menu['juice'] = {\n",
    "    'small':100,\n",
    "    'medium':200,\n",
    "    'large':300\n",
    "}"
   ]
  },
  {
   "cell_type": "code",
   "execution_count": 407,
   "id": "a4dc35e7",
   "metadata": {},
   "outputs": [
    {
     "data": {
      "text/plain": [
       "{'samsso': 30,\n",
       " 'pizza': 200,\n",
       " 'burger': 150,\n",
       " 'fruits': {'apple': 50, 'mango': 60, 'banana': 100},\n",
       " 'tali': [100, 200, 300],\n",
       " 'thali': [100, 200, 300],\n",
       " 'juice': {'small': 100, 'medium': 200, 'large': 300}}"
      ]
     },
     "execution_count": 407,
     "metadata": {},
     "output_type": "execute_result"
    }
   ],
   "source": [
    "canteeen_menu"
   ]
  },
  {
   "cell_type": "code",
   "execution_count": 410,
   "id": "2c6ebbb0",
   "metadata": {},
   "outputs": [
    {
     "data": {
      "text/plain": [
       "200"
      ]
     },
     "execution_count": 410,
     "metadata": {},
     "output_type": "execute_result"
    }
   ],
   "source": [
    "canteeen_menu['juice']['medium']"
   ]
  },
  {
   "cell_type": "code",
   "execution_count": 412,
   "id": "54b724db",
   "metadata": {},
   "outputs": [
    {
     "data": {
      "text/plain": [
       "300"
      ]
     },
     "execution_count": 412,
     "metadata": {},
     "output_type": "execute_result"
    }
   ],
   "source": [
    "canteeen_menu['tali'][-1]"
   ]
  },
  {
   "cell_type": "code",
   "execution_count": 415,
   "id": "4abe7ab6",
   "metadata": {},
   "outputs": [],
   "source": [
    "d = {'a' :1, 'b': 2, 'c': 3, 'd':4, 'e':5}"
   ]
  },
  {
   "cell_type": "code",
   "execution_count": 414,
   "id": "cfef956b",
   "metadata": {},
   "outputs": [
    {
     "name": "stdout",
     "output_type": "stream",
     "text": [
      "a : 1\n",
      "b : 2\n",
      "c : 3\n"
     ]
    }
   ],
   "source": [
    "for k,v in d.items():\n",
    "    print(k,':', v)"
   ]
  },
  {
   "cell_type": "code",
   "execution_count": 416,
   "id": "cc6bab20",
   "metadata": {},
   "outputs": [
    {
     "data": {
      "text/plain": [
       "{1: 'a', 2: 'b', 3: 'c', 4: 'd', 5: 'e'}"
      ]
     },
     "execution_count": 416,
     "metadata": {},
     "output_type": "execute_result"
    }
   ],
   "source": [
    "{v:k for k,v in d.items()}"
   ]
  },
  {
   "cell_type": "code",
   "execution_count": 423,
   "id": "e9c20c19",
   "metadata": {},
   "outputs": [
    {
     "data": {
      "text/plain": [
       "{'cZ': 9, 'dZ': 16, 'eZ': 25}"
      ]
     },
     "execution_count": 423,
     "metadata": {},
     "output_type": "execute_result"
    }
   ],
   "source": [
    "{k+'Z':v**2 for k,v in d.items() if v>2}"
   ]
  },
  {
   "cell_type": "code",
   "execution_count": 424,
   "id": "32adc08e",
   "metadata": {},
   "outputs": [
    {
     "data": {
      "text/plain": [
       "{'a': 1, 'b': 2, 'c': 3, 'd': 4, 'e': 5}"
      ]
     },
     "execution_count": 424,
     "metadata": {},
     "output_type": "execute_result"
    }
   ],
   "source": [
    "d"
   ]
  },
  {
   "cell_type": "code",
   "execution_count": 425,
   "id": "f89ae01c",
   "metadata": {},
   "outputs": [],
   "source": [
    "s = {}\n",
    "for k,v in d.items():\n",
    "    s[v] = k\n",
    "    "
   ]
  },
  {
   "cell_type": "code",
   "execution_count": 426,
   "id": "46408530",
   "metadata": {},
   "outputs": [
    {
     "data": {
      "text/plain": [
       "{1: 'a', 2: 'b', 3: 'c', 4: 'd', 5: 'e'}"
      ]
     },
     "execution_count": 426,
     "metadata": {},
     "output_type": "execute_result"
    }
   ],
   "source": [
    "s"
   ]
  },
  {
   "cell_type": "code",
   "execution_count": null,
   "id": "bcf585e7",
   "metadata": {},
   "outputs": [],
   "source": []
  }
 ],
 "metadata": {
  "kernelspec": {
   "display_name": "Python 3",
   "language": "python",
   "name": "python3"
  },
  "language_info": {
   "codemirror_mode": {
    "name": "ipython",
    "version": 3
   },
   "file_extension": ".py",
   "mimetype": "text/x-python",
   "name": "python",
   "nbconvert_exporter": "python",
   "pygments_lexer": "ipython3",
   "version": "3.8.8"
  }
 },
 "nbformat": 4,
 "nbformat_minor": 5
}
